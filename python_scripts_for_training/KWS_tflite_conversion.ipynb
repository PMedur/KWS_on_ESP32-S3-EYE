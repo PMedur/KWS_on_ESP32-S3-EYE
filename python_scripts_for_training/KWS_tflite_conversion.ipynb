{
 "cells": [
  {
   "cell_type": "code",
   "execution_count": 1,
   "id": "10a0d329-ebe0-4c4c-b790-dc8c8a9e05a4",
   "metadata": {},
   "outputs": [
    {
     "name": "stderr",
     "output_type": "stream",
     "text": [
      "2025-10-05 14:15:00.285795: I tensorflow/core/platform/cpu_feature_guard.cc:193] This TensorFlow binary is optimized with oneAPI Deep Neural Network Library (oneDNN) to use the following CPU instructions in performance-critical operations:  AVX2 FMA\n",
      "To enable them in other operations, rebuild TensorFlow with the appropriate compiler flags.\n",
      "2025-10-05 14:15:01.205393: W tensorflow/compiler/xla/stream_executor/platform/default/dso_loader.cc:64] Could not load dynamic library 'libnvinfer.so.7'; dlerror: libnvinfer.so.7: cannot open shared object file: No such file or directory; LD_LIBRARY_PATH: /usr/local/cuda-11.2/lib64:/usr/local/cuda-11.2/lib64:/usr/lib/x86_64-linux-gnu/gazebo-11/plugins:/opt/ros/humble/opt/rviz_ogre_vendor/lib:/opt/ros/humble/lib/x86_64-linux-gnu:/opt/ros/humble/lib:/usr/lib/x86_64-linux-gnu/gazebo-11/plugins::/usr/lib/x86_64-linux-gnu/gazebo-11/plugins:/usr/lib/x86_64-linux-gnu/gazebo-11/plugins::/usr/lib/x86_64-linux-gnu/gazebo-11/plugins:/usr/lib/x86_64-linux-gnu/gazebo-11/plugins:/usr/lib/x86_64-linux-gnu/gazebo-11/plugins:\n",
      "2025-10-05 14:15:01.205515: W tensorflow/compiler/xla/stream_executor/platform/default/dso_loader.cc:64] Could not load dynamic library 'libnvinfer_plugin.so.7'; dlerror: libnvinfer_plugin.so.7: cannot open shared object file: No such file or directory; LD_LIBRARY_PATH: /usr/local/cuda-11.2/lib64:/usr/local/cuda-11.2/lib64:/usr/lib/x86_64-linux-gnu/gazebo-11/plugins:/opt/ros/humble/opt/rviz_ogre_vendor/lib:/opt/ros/humble/lib/x86_64-linux-gnu:/opt/ros/humble/lib:/usr/lib/x86_64-linux-gnu/gazebo-11/plugins::/usr/lib/x86_64-linux-gnu/gazebo-11/plugins:/usr/lib/x86_64-linux-gnu/gazebo-11/plugins::/usr/lib/x86_64-linux-gnu/gazebo-11/plugins:/usr/lib/x86_64-linux-gnu/gazebo-11/plugins:/usr/lib/x86_64-linux-gnu/gazebo-11/plugins:\n",
      "2025-10-05 14:15:01.205522: W tensorflow/compiler/tf2tensorrt/utils/py_utils.cc:38] TF-TRT Warning: Cannot dlopen some TensorRT libraries. If you would like to use Nvidia GPU with TensorRT, please make sure the missing libraries mentioned above are installed properly.\n"
     ]
    },
    {
     "name": "stdout",
     "output_type": "stream",
     "text": [
      "GPU available: 1 device(s)\n"
     ]
    }
   ],
   "source": [
    "from tflite_conversion import convert_all_models, evaluate_all_tflite_models\n",
    "import os\n",
    "import pandas as pd"
   ]
  },
  {
   "cell_type": "markdown",
   "id": "e22aa6e9-72e9-4b52-aaf2-c1bf27c21b08",
   "metadata": {},
   "source": [
    "## Convert Keras Models to TFLite Format\n",
    "\n",
    "Convert all trained Keras models to TensorFlow Lite format for edge deployment.\n",
    "\n",
    "**Conversion types:**\n",
    "1. **No quantization** - Full precision floating-point model\n",
    "2. **INT8 quantization** - 8-bit integer quantization for smaller size and faster inference\n",
    "\n",
    "**Process:**\n",
    "- Loads each trained model (.h5 files)\n",
    "- Uses representative training data for quantization calibration\n",
    "- Converts to both TFLite formats\n",
    "- Saves to organized directory structure\n"
   ]
  },
  {
   "cell_type": "code",
   "execution_count": 2,
   "id": "43957433-b0ca-406f-a451-2c111ba5399e",
   "metadata": {
    "scrolled": true
   },
   "outputs": [
    {
     "name": "stdout",
     "output_type": "stream",
     "text": [
      "\n",
      "================================================================================\n",
      "CONVERTING NORMAL MODELS TO TFLITE\n",
      "================================================================================\n",
      "\n",
      "\n",
      "model_1:\n",
      "  Fold 1:\n"
     ]
    },
    {
     "name": "stderr",
     "output_type": "stream",
     "text": [
      "WARNING:absl:Found untraced functions such as _jit_compiled_convolution_op, _update_step_xla while saving (showing 2 of 2). These functions will not be directly callable after loading.\n"
     ]
    },
    {
     "name": "stdout",
     "output_type": "stream",
     "text": [
      "INFO:tensorflow:Assets written to: /tmp/tmpxixcyv67/assets\n"
     ]
    },
    {
     "name": "stderr",
     "output_type": "stream",
     "text": [
      "INFO:tensorflow:Assets written to: /tmp/tmpxixcyv67/assets\n"
     ]
    },
    {
     "name": "stdout",
     "output_type": "stream",
     "text": [
      "  Saved (no quant): tflite_models/normal/no_quantization/model_1_fold_1.tflite (158.9 KB)\n"
     ]
    },
    {
     "name": "stderr",
     "output_type": "stream",
     "text": [
      "WARNING:absl:Found untraced functions such as _jit_compiled_convolution_op, _update_step_xla while saving (showing 2 of 2). These functions will not be directly callable after loading.\n"
     ]
    },
    {
     "name": "stdout",
     "output_type": "stream",
     "text": [
      "INFO:tensorflow:Assets written to: /tmp/tmpvksn5z52/assets\n"
     ]
    },
    {
     "name": "stderr",
     "output_type": "stream",
     "text": [
      "INFO:tensorflow:Assets written to: /tmp/tmpvksn5z52/assets\n",
      "/home/pmedur/strojnoUcenje/env/lib/python3.10/site-packages/tensorflow/lite/python/convert.py:765: UserWarning: Statistics for quantized inputs were expected, but not specified; continuing anyway.\n",
      "  warnings.warn(\"Statistics for quantized inputs were expected, but not \"\n",
      "fully_quantize: 0, inference_type: 6, input_inference_type: INT8, output_inference_type: INT8\n"
     ]
    },
    {
     "name": "stdout",
     "output_type": "stream",
     "text": [
      "  Saved (int8):    tflite_models/normal/int8_quantization/model_1_fold_1.tflite (43.4 KB)\n",
      "  Fold 2:\n"
     ]
    },
    {
     "name": "stderr",
     "output_type": "stream",
     "text": [
      "WARNING:absl:Found untraced functions such as _jit_compiled_convolution_op, _update_step_xla while saving (showing 2 of 2). These functions will not be directly callable after loading.\n"
     ]
    },
    {
     "name": "stdout",
     "output_type": "stream",
     "text": [
      "INFO:tensorflow:Assets written to: /tmp/tmpwpfun43s/assets\n"
     ]
    },
    {
     "name": "stderr",
     "output_type": "stream",
     "text": [
      "INFO:tensorflow:Assets written to: /tmp/tmpwpfun43s/assets\n"
     ]
    },
    {
     "name": "stdout",
     "output_type": "stream",
     "text": [
      "  Saved (no quant): tflite_models/normal/no_quantization/model_1_fold_2.tflite (158.9 KB)\n"
     ]
    },
    {
     "name": "stderr",
     "output_type": "stream",
     "text": [
      "WARNING:absl:Found untraced functions such as _jit_compiled_convolution_op, _update_step_xla while saving (showing 2 of 2). These functions will not be directly callable after loading.\n"
     ]
    },
    {
     "name": "stdout",
     "output_type": "stream",
     "text": [
      "INFO:tensorflow:Assets written to: /tmp/tmps1muwoq1/assets\n"
     ]
    },
    {
     "name": "stderr",
     "output_type": "stream",
     "text": [
      "INFO:tensorflow:Assets written to: /tmp/tmps1muwoq1/assets\n",
      "/home/pmedur/strojnoUcenje/env/lib/python3.10/site-packages/tensorflow/lite/python/convert.py:765: UserWarning: Statistics for quantized inputs were expected, but not specified; continuing anyway.\n",
      "  warnings.warn(\"Statistics for quantized inputs were expected, but not \"\n",
      "fully_quantize: 0, inference_type: 6, input_inference_type: INT8, output_inference_type: INT8\n"
     ]
    },
    {
     "name": "stdout",
     "output_type": "stream",
     "text": [
      "  Saved (int8):    tflite_models/normal/int8_quantization/model_1_fold_2.tflite (43.4 KB)\n",
      "  Fold 3:\n"
     ]
    },
    {
     "name": "stderr",
     "output_type": "stream",
     "text": [
      "WARNING:absl:Found untraced functions such as _jit_compiled_convolution_op, _update_step_xla while saving (showing 2 of 2). These functions will not be directly callable after loading.\n"
     ]
    },
    {
     "name": "stdout",
     "output_type": "stream",
     "text": [
      "INFO:tensorflow:Assets written to: /tmp/tmpeyvf218o/assets\n"
     ]
    },
    {
     "name": "stderr",
     "output_type": "stream",
     "text": [
      "INFO:tensorflow:Assets written to: /tmp/tmpeyvf218o/assets\n"
     ]
    },
    {
     "name": "stdout",
     "output_type": "stream",
     "text": [
      "  Saved (no quant): tflite_models/normal/no_quantization/model_1_fold_3.tflite (158.9 KB)\n"
     ]
    },
    {
     "name": "stderr",
     "output_type": "stream",
     "text": [
      "WARNING:absl:Found untraced functions such as _jit_compiled_convolution_op, _update_step_xla while saving (showing 2 of 2). These functions will not be directly callable after loading.\n"
     ]
    },
    {
     "name": "stdout",
     "output_type": "stream",
     "text": [
      "INFO:tensorflow:Assets written to: /tmp/tmp9d0tgohn/assets\n"
     ]
    },
    {
     "name": "stderr",
     "output_type": "stream",
     "text": [
      "INFO:tensorflow:Assets written to: /tmp/tmp9d0tgohn/assets\n",
      "/home/pmedur/strojnoUcenje/env/lib/python3.10/site-packages/tensorflow/lite/python/convert.py:765: UserWarning: Statistics for quantized inputs were expected, but not specified; continuing anyway.\n",
      "  warnings.warn(\"Statistics for quantized inputs were expected, but not \"\n",
      "fully_quantize: 0, inference_type: 6, input_inference_type: INT8, output_inference_type: INT8\n"
     ]
    },
    {
     "name": "stdout",
     "output_type": "stream",
     "text": [
      "  Saved (int8):    tflite_models/normal/int8_quantization/model_1_fold_3.tflite (43.4 KB)\n",
      "  Fold 4:\n"
     ]
    },
    {
     "name": "stderr",
     "output_type": "stream",
     "text": [
      "WARNING:absl:Found untraced functions such as _jit_compiled_convolution_op, _update_step_xla while saving (showing 2 of 2). These functions will not be directly callable after loading.\n"
     ]
    },
    {
     "name": "stdout",
     "output_type": "stream",
     "text": [
      "INFO:tensorflow:Assets written to: /tmp/tmpuh7jpkvq/assets\n"
     ]
    },
    {
     "name": "stderr",
     "output_type": "stream",
     "text": [
      "INFO:tensorflow:Assets written to: /tmp/tmpuh7jpkvq/assets\n"
     ]
    },
    {
     "name": "stdout",
     "output_type": "stream",
     "text": [
      "  Saved (no quant): tflite_models/normal/no_quantization/model_1_fold_4.tflite (158.9 KB)\n"
     ]
    },
    {
     "name": "stderr",
     "output_type": "stream",
     "text": [
      "WARNING:absl:Found untraced functions such as _jit_compiled_convolution_op, _update_step_xla while saving (showing 2 of 2). These functions will not be directly callable after loading.\n"
     ]
    },
    {
     "name": "stdout",
     "output_type": "stream",
     "text": [
      "INFO:tensorflow:Assets written to: /tmp/tmpppymm3z1/assets\n"
     ]
    },
    {
     "name": "stderr",
     "output_type": "stream",
     "text": [
      "INFO:tensorflow:Assets written to: /tmp/tmpppymm3z1/assets\n",
      "/home/pmedur/strojnoUcenje/env/lib/python3.10/site-packages/tensorflow/lite/python/convert.py:765: UserWarning: Statistics for quantized inputs were expected, but not specified; continuing anyway.\n",
      "  warnings.warn(\"Statistics for quantized inputs were expected, but not \"\n",
      "fully_quantize: 0, inference_type: 6, input_inference_type: INT8, output_inference_type: INT8\n"
     ]
    },
    {
     "name": "stdout",
     "output_type": "stream",
     "text": [
      "  Saved (int8):    tflite_models/normal/int8_quantization/model_1_fold_4.tflite (43.4 KB)\n",
      "  Fold 5:\n"
     ]
    },
    {
     "name": "stderr",
     "output_type": "stream",
     "text": [
      "WARNING:absl:Found untraced functions such as _jit_compiled_convolution_op, _update_step_xla while saving (showing 2 of 2). These functions will not be directly callable after loading.\n"
     ]
    },
    {
     "name": "stdout",
     "output_type": "stream",
     "text": [
      "INFO:tensorflow:Assets written to: /tmp/tmpmng3dfaw/assets\n"
     ]
    },
    {
     "name": "stderr",
     "output_type": "stream",
     "text": [
      "INFO:tensorflow:Assets written to: /tmp/tmpmng3dfaw/assets\n"
     ]
    },
    {
     "name": "stdout",
     "output_type": "stream",
     "text": [
      "  Saved (no quant): tflite_models/normal/no_quantization/model_1_fold_5.tflite (158.9 KB)\n"
     ]
    },
    {
     "name": "stderr",
     "output_type": "stream",
     "text": [
      "WARNING:absl:Found untraced functions such as _jit_compiled_convolution_op, _update_step_xla while saving (showing 2 of 2). These functions will not be directly callable after loading.\n"
     ]
    },
    {
     "name": "stdout",
     "output_type": "stream",
     "text": [
      "INFO:tensorflow:Assets written to: /tmp/tmpjdiyt1dv/assets\n"
     ]
    },
    {
     "name": "stderr",
     "output_type": "stream",
     "text": [
      "INFO:tensorflow:Assets written to: /tmp/tmpjdiyt1dv/assets\n",
      "/home/pmedur/strojnoUcenje/env/lib/python3.10/site-packages/tensorflow/lite/python/convert.py:765: UserWarning: Statistics for quantized inputs were expected, but not specified; continuing anyway.\n",
      "  warnings.warn(\"Statistics for quantized inputs were expected, but not \"\n",
      "fully_quantize: 0, inference_type: 6, input_inference_type: INT8, output_inference_type: INT8\n"
     ]
    },
    {
     "name": "stdout",
     "output_type": "stream",
     "text": [
      "  Saved (int8):    tflite_models/normal/int8_quantization/model_1_fold_5.tflite (43.4 KB)\n",
      "  Fold 6:\n"
     ]
    },
    {
     "name": "stderr",
     "output_type": "stream",
     "text": [
      "WARNING:absl:Found untraced functions such as _jit_compiled_convolution_op, _update_step_xla while saving (showing 2 of 2). These functions will not be directly callable after loading.\n"
     ]
    },
    {
     "name": "stdout",
     "output_type": "stream",
     "text": [
      "INFO:tensorflow:Assets written to: /tmp/tmpp05c7scf/assets\n"
     ]
    },
    {
     "name": "stderr",
     "output_type": "stream",
     "text": [
      "INFO:tensorflow:Assets written to: /tmp/tmpp05c7scf/assets\n"
     ]
    },
    {
     "name": "stdout",
     "output_type": "stream",
     "text": [
      "  Saved (no quant): tflite_models/normal/no_quantization/model_1_fold_6.tflite (158.9 KB)\n"
     ]
    },
    {
     "name": "stderr",
     "output_type": "stream",
     "text": [
      "WARNING:absl:Found untraced functions such as _jit_compiled_convolution_op, _update_step_xla while saving (showing 2 of 2). These functions will not be directly callable after loading.\n"
     ]
    },
    {
     "name": "stdout",
     "output_type": "stream",
     "text": [
      "INFO:tensorflow:Assets written to: /tmp/tmp_j8qv3gy/assets\n"
     ]
    },
    {
     "name": "stderr",
     "output_type": "stream",
     "text": [
      "INFO:tensorflow:Assets written to: /tmp/tmp_j8qv3gy/assets\n",
      "/home/pmedur/strojnoUcenje/env/lib/python3.10/site-packages/tensorflow/lite/python/convert.py:765: UserWarning: Statistics for quantized inputs were expected, but not specified; continuing anyway.\n",
      "  warnings.warn(\"Statistics for quantized inputs were expected, but not \"\n",
      "fully_quantize: 0, inference_type: 6, input_inference_type: INT8, output_inference_type: INT8\n"
     ]
    },
    {
     "name": "stdout",
     "output_type": "stream",
     "text": [
      "  Saved (int8):    tflite_models/normal/int8_quantization/model_1_fold_6.tflite (43.4 KB)\n",
      "  Fold 7:\n"
     ]
    },
    {
     "name": "stderr",
     "output_type": "stream",
     "text": [
      "WARNING:absl:Found untraced functions such as _jit_compiled_convolution_op, _update_step_xla while saving (showing 2 of 2). These functions will not be directly callable after loading.\n"
     ]
    },
    {
     "name": "stdout",
     "output_type": "stream",
     "text": [
      "INFO:tensorflow:Assets written to: /tmp/tmpcd2u7ofr/assets\n"
     ]
    },
    {
     "name": "stderr",
     "output_type": "stream",
     "text": [
      "INFO:tensorflow:Assets written to: /tmp/tmpcd2u7ofr/assets\n"
     ]
    },
    {
     "name": "stdout",
     "output_type": "stream",
     "text": [
      "  Saved (no quant): tflite_models/normal/no_quantization/model_1_fold_7.tflite (158.9 KB)\n"
     ]
    },
    {
     "name": "stderr",
     "output_type": "stream",
     "text": [
      "WARNING:absl:Found untraced functions such as _jit_compiled_convolution_op, _update_step_xla while saving (showing 2 of 2). These functions will not be directly callable after loading.\n"
     ]
    },
    {
     "name": "stdout",
     "output_type": "stream",
     "text": [
      "INFO:tensorflow:Assets written to: /tmp/tmpa9ug4bxh/assets\n"
     ]
    },
    {
     "name": "stderr",
     "output_type": "stream",
     "text": [
      "INFO:tensorflow:Assets written to: /tmp/tmpa9ug4bxh/assets\n",
      "/home/pmedur/strojnoUcenje/env/lib/python3.10/site-packages/tensorflow/lite/python/convert.py:765: UserWarning: Statistics for quantized inputs were expected, but not specified; continuing anyway.\n",
      "  warnings.warn(\"Statistics for quantized inputs were expected, but not \"\n",
      "fully_quantize: 0, inference_type: 6, input_inference_type: INT8, output_inference_type: INT8\n"
     ]
    },
    {
     "name": "stdout",
     "output_type": "stream",
     "text": [
      "  Saved (int8):    tflite_models/normal/int8_quantization/model_1_fold_7.tflite (43.4 KB)\n",
      "  Fold 8:\n"
     ]
    },
    {
     "name": "stderr",
     "output_type": "stream",
     "text": [
      "WARNING:absl:Found untraced functions such as _jit_compiled_convolution_op, _update_step_xla while saving (showing 2 of 2). These functions will not be directly callable after loading.\n"
     ]
    },
    {
     "name": "stdout",
     "output_type": "stream",
     "text": [
      "INFO:tensorflow:Assets written to: /tmp/tmp2qg_w34b/assets\n"
     ]
    },
    {
     "name": "stderr",
     "output_type": "stream",
     "text": [
      "INFO:tensorflow:Assets written to: /tmp/tmp2qg_w34b/assets\n"
     ]
    },
    {
     "name": "stdout",
     "output_type": "stream",
     "text": [
      "  Saved (no quant): tflite_models/normal/no_quantization/model_1_fold_8.tflite (158.9 KB)\n"
     ]
    },
    {
     "name": "stderr",
     "output_type": "stream",
     "text": [
      "WARNING:absl:Found untraced functions such as _jit_compiled_convolution_op, _update_step_xla while saving (showing 2 of 2). These functions will not be directly callable after loading.\n"
     ]
    },
    {
     "name": "stdout",
     "output_type": "stream",
     "text": [
      "INFO:tensorflow:Assets written to: /tmp/tmpw6o59wa4/assets\n"
     ]
    },
    {
     "name": "stderr",
     "output_type": "stream",
     "text": [
      "INFO:tensorflow:Assets written to: /tmp/tmpw6o59wa4/assets\n",
      "/home/pmedur/strojnoUcenje/env/lib/python3.10/site-packages/tensorflow/lite/python/convert.py:765: UserWarning: Statistics for quantized inputs were expected, but not specified; continuing anyway.\n",
      "  warnings.warn(\"Statistics for quantized inputs were expected, but not \"\n",
      "fully_quantize: 0, inference_type: 6, input_inference_type: INT8, output_inference_type: INT8\n"
     ]
    },
    {
     "name": "stdout",
     "output_type": "stream",
     "text": [
      "  Saved (int8):    tflite_models/normal/int8_quantization/model_1_fold_8.tflite (43.4 KB)\n",
      "  Fold 9:\n"
     ]
    },
    {
     "name": "stderr",
     "output_type": "stream",
     "text": [
      "WARNING:absl:Found untraced functions such as _jit_compiled_convolution_op, _update_step_xla while saving (showing 2 of 2). These functions will not be directly callable after loading.\n"
     ]
    },
    {
     "name": "stdout",
     "output_type": "stream",
     "text": [
      "INFO:tensorflow:Assets written to: /tmp/tmpah5u7tf_/assets\n"
     ]
    },
    {
     "name": "stderr",
     "output_type": "stream",
     "text": [
      "INFO:tensorflow:Assets written to: /tmp/tmpah5u7tf_/assets\n"
     ]
    },
    {
     "name": "stdout",
     "output_type": "stream",
     "text": [
      "  Saved (no quant): tflite_models/normal/no_quantization/model_1_fold_9.tflite (158.9 KB)\n"
     ]
    },
    {
     "name": "stderr",
     "output_type": "stream",
     "text": [
      "WARNING:absl:Found untraced functions such as _jit_compiled_convolution_op, _update_step_xla while saving (showing 2 of 2). These functions will not be directly callable after loading.\n"
     ]
    },
    {
     "name": "stdout",
     "output_type": "stream",
     "text": [
      "INFO:tensorflow:Assets written to: /tmp/tmplmy0mh7h/assets\n"
     ]
    },
    {
     "name": "stderr",
     "output_type": "stream",
     "text": [
      "INFO:tensorflow:Assets written to: /tmp/tmplmy0mh7h/assets\n",
      "/home/pmedur/strojnoUcenje/env/lib/python3.10/site-packages/tensorflow/lite/python/convert.py:765: UserWarning: Statistics for quantized inputs were expected, but not specified; continuing anyway.\n",
      "  warnings.warn(\"Statistics for quantized inputs were expected, but not \"\n",
      "fully_quantize: 0, inference_type: 6, input_inference_type: INT8, output_inference_type: INT8\n"
     ]
    },
    {
     "name": "stdout",
     "output_type": "stream",
     "text": [
      "  Saved (int8):    tflite_models/normal/int8_quantization/model_1_fold_9.tflite (43.4 KB)\n",
      "  Fold 10:\n"
     ]
    },
    {
     "name": "stderr",
     "output_type": "stream",
     "text": [
      "WARNING:absl:Found untraced functions such as _jit_compiled_convolution_op, _update_step_xla while saving (showing 2 of 2). These functions will not be directly callable after loading.\n"
     ]
    },
    {
     "name": "stdout",
     "output_type": "stream",
     "text": [
      "INFO:tensorflow:Assets written to: /tmp/tmpbec9ydsu/assets\n"
     ]
    },
    {
     "name": "stderr",
     "output_type": "stream",
     "text": [
      "INFO:tensorflow:Assets written to: /tmp/tmpbec9ydsu/assets\n"
     ]
    },
    {
     "name": "stdout",
     "output_type": "stream",
     "text": [
      "  Saved (no quant): tflite_models/normal/no_quantization/model_1_fold_10.tflite (158.9 KB)\n"
     ]
    },
    {
     "name": "stderr",
     "output_type": "stream",
     "text": [
      "WARNING:absl:Found untraced functions such as _jit_compiled_convolution_op, _update_step_xla while saving (showing 2 of 2). These functions will not be directly callable after loading.\n"
     ]
    },
    {
     "name": "stdout",
     "output_type": "stream",
     "text": [
      "INFO:tensorflow:Assets written to: /tmp/tmp4xnmze1r/assets\n"
     ]
    },
    {
     "name": "stderr",
     "output_type": "stream",
     "text": [
      "INFO:tensorflow:Assets written to: /tmp/tmp4xnmze1r/assets\n",
      "/home/pmedur/strojnoUcenje/env/lib/python3.10/site-packages/tensorflow/lite/python/convert.py:765: UserWarning: Statistics for quantized inputs were expected, but not specified; continuing anyway.\n",
      "  warnings.warn(\"Statistics for quantized inputs were expected, but not \"\n",
      "fully_quantize: 0, inference_type: 6, input_inference_type: INT8, output_inference_type: INT8\n"
     ]
    },
    {
     "name": "stdout",
     "output_type": "stream",
     "text": [
      "  Saved (int8):    tflite_models/normal/int8_quantization/model_1_fold_10.tflite (43.4 KB)\n",
      "\n",
      "model_2:\n",
      "  Fold 1:\n"
     ]
    },
    {
     "name": "stderr",
     "output_type": "stream",
     "text": [
      "WARNING:absl:Found untraced functions such as _jit_compiled_convolution_op, _update_step_xla while saving (showing 2 of 2). These functions will not be directly callable after loading.\n"
     ]
    },
    {
     "name": "stdout",
     "output_type": "stream",
     "text": [
      "INFO:tensorflow:Assets written to: /tmp/tmpwfvjmbd8/assets\n"
     ]
    },
    {
     "name": "stderr",
     "output_type": "stream",
     "text": [
      "INFO:tensorflow:Assets written to: /tmp/tmpwfvjmbd8/assets\n"
     ]
    },
    {
     "name": "stdout",
     "output_type": "stream",
     "text": [
      "  Saved (no quant): tflite_models/normal/no_quantization/model_2_fold_1.tflite (613.8 KB)\n"
     ]
    },
    {
     "name": "stderr",
     "output_type": "stream",
     "text": [
      "WARNING:absl:Found untraced functions such as _jit_compiled_convolution_op, _update_step_xla while saving (showing 2 of 2). These functions will not be directly callable after loading.\n"
     ]
    },
    {
     "name": "stdout",
     "output_type": "stream",
     "text": [
      "INFO:tensorflow:Assets written to: /tmp/tmp8uy187f0/assets\n"
     ]
    },
    {
     "name": "stderr",
     "output_type": "stream",
     "text": [
      "INFO:tensorflow:Assets written to: /tmp/tmp8uy187f0/assets\n",
      "/home/pmedur/strojnoUcenje/env/lib/python3.10/site-packages/tensorflow/lite/python/convert.py:765: UserWarning: Statistics for quantized inputs were expected, but not specified; continuing anyway.\n",
      "  warnings.warn(\"Statistics for quantized inputs were expected, but not \"\n",
      "fully_quantize: 0, inference_type: 6, input_inference_type: INT8, output_inference_type: INT8\n"
     ]
    },
    {
     "name": "stdout",
     "output_type": "stream",
     "text": [
      "  Saved (int8):    tflite_models/normal/int8_quantization/model_2_fold_1.tflite (157.5 KB)\n",
      "  Fold 2:\n"
     ]
    },
    {
     "name": "stderr",
     "output_type": "stream",
     "text": [
      "WARNING:absl:Found untraced functions such as _jit_compiled_convolution_op, _update_step_xla while saving (showing 2 of 2). These functions will not be directly callable after loading.\n"
     ]
    },
    {
     "name": "stdout",
     "output_type": "stream",
     "text": [
      "INFO:tensorflow:Assets written to: /tmp/tmpeopj63hj/assets\n"
     ]
    },
    {
     "name": "stderr",
     "output_type": "stream",
     "text": [
      "INFO:tensorflow:Assets written to: /tmp/tmpeopj63hj/assets\n"
     ]
    },
    {
     "name": "stdout",
     "output_type": "stream",
     "text": [
      "  Saved (no quant): tflite_models/normal/no_quantization/model_2_fold_2.tflite (613.8 KB)\n"
     ]
    },
    {
     "name": "stderr",
     "output_type": "stream",
     "text": [
      "WARNING:absl:Found untraced functions such as _jit_compiled_convolution_op, _update_step_xla while saving (showing 2 of 2). These functions will not be directly callable after loading.\n"
     ]
    },
    {
     "name": "stdout",
     "output_type": "stream",
     "text": [
      "INFO:tensorflow:Assets written to: /tmp/tmplley8b0g/assets\n"
     ]
    },
    {
     "name": "stderr",
     "output_type": "stream",
     "text": [
      "INFO:tensorflow:Assets written to: /tmp/tmplley8b0g/assets\n",
      "/home/pmedur/strojnoUcenje/env/lib/python3.10/site-packages/tensorflow/lite/python/convert.py:765: UserWarning: Statistics for quantized inputs were expected, but not specified; continuing anyway.\n",
      "  warnings.warn(\"Statistics for quantized inputs were expected, but not \"\n",
      "fully_quantize: 0, inference_type: 6, input_inference_type: INT8, output_inference_type: INT8\n"
     ]
    },
    {
     "name": "stdout",
     "output_type": "stream",
     "text": [
      "  Saved (int8):    tflite_models/normal/int8_quantization/model_2_fold_2.tflite (157.5 KB)\n",
      "  Fold 3:\n"
     ]
    },
    {
     "name": "stderr",
     "output_type": "stream",
     "text": [
      "WARNING:absl:Found untraced functions such as _jit_compiled_convolution_op, _update_step_xla while saving (showing 2 of 2). These functions will not be directly callable after loading.\n"
     ]
    },
    {
     "name": "stdout",
     "output_type": "stream",
     "text": [
      "INFO:tensorflow:Assets written to: /tmp/tmpdy4xu2u2/assets\n"
     ]
    },
    {
     "name": "stderr",
     "output_type": "stream",
     "text": [
      "INFO:tensorflow:Assets written to: /tmp/tmpdy4xu2u2/assets\n"
     ]
    },
    {
     "name": "stdout",
     "output_type": "stream",
     "text": [
      "  Saved (no quant): tflite_models/normal/no_quantization/model_2_fold_3.tflite (613.8 KB)\n"
     ]
    },
    {
     "name": "stderr",
     "output_type": "stream",
     "text": [
      "WARNING:absl:Found untraced functions such as _jit_compiled_convolution_op, _update_step_xla while saving (showing 2 of 2). These functions will not be directly callable after loading.\n"
     ]
    },
    {
     "name": "stdout",
     "output_type": "stream",
     "text": [
      "INFO:tensorflow:Assets written to: /tmp/tmpjoaa1bmh/assets\n"
     ]
    },
    {
     "name": "stderr",
     "output_type": "stream",
     "text": [
      "INFO:tensorflow:Assets written to: /tmp/tmpjoaa1bmh/assets\n",
      "/home/pmedur/strojnoUcenje/env/lib/python3.10/site-packages/tensorflow/lite/python/convert.py:765: UserWarning: Statistics for quantized inputs were expected, but not specified; continuing anyway.\n",
      "  warnings.warn(\"Statistics for quantized inputs were expected, but not \"\n",
      "fully_quantize: 0, inference_type: 6, input_inference_type: INT8, output_inference_type: INT8\n"
     ]
    },
    {
     "name": "stdout",
     "output_type": "stream",
     "text": [
      "  Saved (int8):    tflite_models/normal/int8_quantization/model_2_fold_3.tflite (157.5 KB)\n",
      "  Fold 4:\n"
     ]
    },
    {
     "name": "stderr",
     "output_type": "stream",
     "text": [
      "WARNING:absl:Found untraced functions such as _jit_compiled_convolution_op, _update_step_xla while saving (showing 2 of 2). These functions will not be directly callable after loading.\n"
     ]
    },
    {
     "name": "stdout",
     "output_type": "stream",
     "text": [
      "INFO:tensorflow:Assets written to: /tmp/tmp4b853rx2/assets\n"
     ]
    },
    {
     "name": "stderr",
     "output_type": "stream",
     "text": [
      "INFO:tensorflow:Assets written to: /tmp/tmp4b853rx2/assets\n"
     ]
    },
    {
     "name": "stdout",
     "output_type": "stream",
     "text": [
      "  Saved (no quant): tflite_models/normal/no_quantization/model_2_fold_4.tflite (613.8 KB)\n"
     ]
    },
    {
     "name": "stderr",
     "output_type": "stream",
     "text": [
      "WARNING:absl:Found untraced functions such as _jit_compiled_convolution_op, _update_step_xla while saving (showing 2 of 2). These functions will not be directly callable after loading.\n"
     ]
    },
    {
     "name": "stdout",
     "output_type": "stream",
     "text": [
      "INFO:tensorflow:Assets written to: /tmp/tmpfla0kad0/assets\n"
     ]
    },
    {
     "name": "stderr",
     "output_type": "stream",
     "text": [
      "INFO:tensorflow:Assets written to: /tmp/tmpfla0kad0/assets\n",
      "/home/pmedur/strojnoUcenje/env/lib/python3.10/site-packages/tensorflow/lite/python/convert.py:765: UserWarning: Statistics for quantized inputs were expected, but not specified; continuing anyway.\n",
      "  warnings.warn(\"Statistics for quantized inputs were expected, but not \"\n",
      "fully_quantize: 0, inference_type: 6, input_inference_type: INT8, output_inference_type: INT8\n"
     ]
    },
    {
     "name": "stdout",
     "output_type": "stream",
     "text": [
      "  Saved (int8):    tflite_models/normal/int8_quantization/model_2_fold_4.tflite (157.5 KB)\n",
      "  Fold 5:\n"
     ]
    },
    {
     "name": "stderr",
     "output_type": "stream",
     "text": [
      "WARNING:absl:Found untraced functions such as _jit_compiled_convolution_op, _update_step_xla while saving (showing 2 of 2). These functions will not be directly callable after loading.\n"
     ]
    },
    {
     "name": "stdout",
     "output_type": "stream",
     "text": [
      "INFO:tensorflow:Assets written to: /tmp/tmp2ccdcvzo/assets\n"
     ]
    },
    {
     "name": "stderr",
     "output_type": "stream",
     "text": [
      "INFO:tensorflow:Assets written to: /tmp/tmp2ccdcvzo/assets\n"
     ]
    },
    {
     "name": "stdout",
     "output_type": "stream",
     "text": [
      "  Saved (no quant): tflite_models/normal/no_quantization/model_2_fold_5.tflite (613.8 KB)\n"
     ]
    },
    {
     "name": "stderr",
     "output_type": "stream",
     "text": [
      "WARNING:absl:Found untraced functions such as _jit_compiled_convolution_op, _update_step_xla while saving (showing 2 of 2). These functions will not be directly callable after loading.\n"
     ]
    },
    {
     "name": "stdout",
     "output_type": "stream",
     "text": [
      "INFO:tensorflow:Assets written to: /tmp/tmp1zpdkrtt/assets\n"
     ]
    },
    {
     "name": "stderr",
     "output_type": "stream",
     "text": [
      "INFO:tensorflow:Assets written to: /tmp/tmp1zpdkrtt/assets\n",
      "/home/pmedur/strojnoUcenje/env/lib/python3.10/site-packages/tensorflow/lite/python/convert.py:765: UserWarning: Statistics for quantized inputs were expected, but not specified; continuing anyway.\n",
      "  warnings.warn(\"Statistics for quantized inputs were expected, but not \"\n",
      "fully_quantize: 0, inference_type: 6, input_inference_type: INT8, output_inference_type: INT8\n"
     ]
    },
    {
     "name": "stdout",
     "output_type": "stream",
     "text": [
      "  Saved (int8):    tflite_models/normal/int8_quantization/model_2_fold_5.tflite (157.5 KB)\n",
      "  Fold 6:\n"
     ]
    },
    {
     "name": "stderr",
     "output_type": "stream",
     "text": [
      "WARNING:absl:Found untraced functions such as _jit_compiled_convolution_op, _update_step_xla while saving (showing 2 of 2). These functions will not be directly callable after loading.\n"
     ]
    },
    {
     "name": "stdout",
     "output_type": "stream",
     "text": [
      "INFO:tensorflow:Assets written to: /tmp/tmplsdfk5uy/assets\n"
     ]
    },
    {
     "name": "stderr",
     "output_type": "stream",
     "text": [
      "INFO:tensorflow:Assets written to: /tmp/tmplsdfk5uy/assets\n"
     ]
    },
    {
     "name": "stdout",
     "output_type": "stream",
     "text": [
      "  Saved (no quant): tflite_models/normal/no_quantization/model_2_fold_6.tflite (613.8 KB)\n"
     ]
    },
    {
     "name": "stderr",
     "output_type": "stream",
     "text": [
      "WARNING:absl:Found untraced functions such as _jit_compiled_convolution_op, _update_step_xla while saving (showing 2 of 2). These functions will not be directly callable after loading.\n"
     ]
    },
    {
     "name": "stdout",
     "output_type": "stream",
     "text": [
      "INFO:tensorflow:Assets written to: /tmp/tmpg48k0adc/assets\n"
     ]
    },
    {
     "name": "stderr",
     "output_type": "stream",
     "text": [
      "INFO:tensorflow:Assets written to: /tmp/tmpg48k0adc/assets\n",
      "/home/pmedur/strojnoUcenje/env/lib/python3.10/site-packages/tensorflow/lite/python/convert.py:765: UserWarning: Statistics for quantized inputs were expected, but not specified; continuing anyway.\n",
      "  warnings.warn(\"Statistics for quantized inputs were expected, but not \"\n",
      "fully_quantize: 0, inference_type: 6, input_inference_type: INT8, output_inference_type: INT8\n"
     ]
    },
    {
     "name": "stdout",
     "output_type": "stream",
     "text": [
      "  Saved (int8):    tflite_models/normal/int8_quantization/model_2_fold_6.tflite (157.5 KB)\n",
      "  Fold 7:\n"
     ]
    },
    {
     "name": "stderr",
     "output_type": "stream",
     "text": [
      "WARNING:absl:Found untraced functions such as _jit_compiled_convolution_op, _update_step_xla while saving (showing 2 of 2). These functions will not be directly callable after loading.\n"
     ]
    },
    {
     "name": "stdout",
     "output_type": "stream",
     "text": [
      "INFO:tensorflow:Assets written to: /tmp/tmpet_8699a/assets\n"
     ]
    },
    {
     "name": "stderr",
     "output_type": "stream",
     "text": [
      "INFO:tensorflow:Assets written to: /tmp/tmpet_8699a/assets\n"
     ]
    },
    {
     "name": "stdout",
     "output_type": "stream",
     "text": [
      "  Saved (no quant): tflite_models/normal/no_quantization/model_2_fold_7.tflite (613.8 KB)\n"
     ]
    },
    {
     "name": "stderr",
     "output_type": "stream",
     "text": [
      "WARNING:absl:Found untraced functions such as _jit_compiled_convolution_op, _update_step_xla while saving (showing 2 of 2). These functions will not be directly callable after loading.\n"
     ]
    },
    {
     "name": "stdout",
     "output_type": "stream",
     "text": [
      "INFO:tensorflow:Assets written to: /tmp/tmp1ud9pvaz/assets\n"
     ]
    },
    {
     "name": "stderr",
     "output_type": "stream",
     "text": [
      "INFO:tensorflow:Assets written to: /tmp/tmp1ud9pvaz/assets\n",
      "/home/pmedur/strojnoUcenje/env/lib/python3.10/site-packages/tensorflow/lite/python/convert.py:765: UserWarning: Statistics for quantized inputs were expected, but not specified; continuing anyway.\n",
      "  warnings.warn(\"Statistics for quantized inputs were expected, but not \"\n",
      "fully_quantize: 0, inference_type: 6, input_inference_type: INT8, output_inference_type: INT8\n"
     ]
    },
    {
     "name": "stdout",
     "output_type": "stream",
     "text": [
      "  Saved (int8):    tflite_models/normal/int8_quantization/model_2_fold_7.tflite (157.5 KB)\n",
      "  Fold 8:\n"
     ]
    },
    {
     "name": "stderr",
     "output_type": "stream",
     "text": [
      "WARNING:absl:Found untraced functions such as _jit_compiled_convolution_op, _update_step_xla while saving (showing 2 of 2). These functions will not be directly callable after loading.\n"
     ]
    },
    {
     "name": "stdout",
     "output_type": "stream",
     "text": [
      "INFO:tensorflow:Assets written to: /tmp/tmptq2pw_az/assets\n"
     ]
    },
    {
     "name": "stderr",
     "output_type": "stream",
     "text": [
      "INFO:tensorflow:Assets written to: /tmp/tmptq2pw_az/assets\n"
     ]
    },
    {
     "name": "stdout",
     "output_type": "stream",
     "text": [
      "  Saved (no quant): tflite_models/normal/no_quantization/model_2_fold_8.tflite (613.8 KB)\n"
     ]
    },
    {
     "name": "stderr",
     "output_type": "stream",
     "text": [
      "WARNING:absl:Found untraced functions such as _jit_compiled_convolution_op, _update_step_xla while saving (showing 2 of 2). These functions will not be directly callable after loading.\n"
     ]
    },
    {
     "name": "stdout",
     "output_type": "stream",
     "text": [
      "INFO:tensorflow:Assets written to: /tmp/tmp4dq6u6ci/assets\n"
     ]
    },
    {
     "name": "stderr",
     "output_type": "stream",
     "text": [
      "INFO:tensorflow:Assets written to: /tmp/tmp4dq6u6ci/assets\n",
      "/home/pmedur/strojnoUcenje/env/lib/python3.10/site-packages/tensorflow/lite/python/convert.py:765: UserWarning: Statistics for quantized inputs were expected, but not specified; continuing anyway.\n",
      "  warnings.warn(\"Statistics for quantized inputs were expected, but not \"\n",
      "fully_quantize: 0, inference_type: 6, input_inference_type: INT8, output_inference_type: INT8\n"
     ]
    },
    {
     "name": "stdout",
     "output_type": "stream",
     "text": [
      "  Saved (int8):    tflite_models/normal/int8_quantization/model_2_fold_8.tflite (157.5 KB)\n",
      "  Fold 9:\n"
     ]
    },
    {
     "name": "stderr",
     "output_type": "stream",
     "text": [
      "WARNING:absl:Found untraced functions such as _jit_compiled_convolution_op, _update_step_xla while saving (showing 2 of 2). These functions will not be directly callable after loading.\n"
     ]
    },
    {
     "name": "stdout",
     "output_type": "stream",
     "text": [
      "INFO:tensorflow:Assets written to: /tmp/tmpfy9wlr7g/assets\n"
     ]
    },
    {
     "name": "stderr",
     "output_type": "stream",
     "text": [
      "INFO:tensorflow:Assets written to: /tmp/tmpfy9wlr7g/assets\n"
     ]
    },
    {
     "name": "stdout",
     "output_type": "stream",
     "text": [
      "  Saved (no quant): tflite_models/normal/no_quantization/model_2_fold_9.tflite (613.8 KB)\n"
     ]
    },
    {
     "name": "stderr",
     "output_type": "stream",
     "text": [
      "WARNING:absl:Found untraced functions such as _jit_compiled_convolution_op, _update_step_xla while saving (showing 2 of 2). These functions will not be directly callable after loading.\n"
     ]
    },
    {
     "name": "stdout",
     "output_type": "stream",
     "text": [
      "INFO:tensorflow:Assets written to: /tmp/tmpmn_c44m2/assets\n"
     ]
    },
    {
     "name": "stderr",
     "output_type": "stream",
     "text": [
      "INFO:tensorflow:Assets written to: /tmp/tmpmn_c44m2/assets\n",
      "/home/pmedur/strojnoUcenje/env/lib/python3.10/site-packages/tensorflow/lite/python/convert.py:765: UserWarning: Statistics for quantized inputs were expected, but not specified; continuing anyway.\n",
      "  warnings.warn(\"Statistics for quantized inputs were expected, but not \"\n",
      "fully_quantize: 0, inference_type: 6, input_inference_type: INT8, output_inference_type: INT8\n"
     ]
    },
    {
     "name": "stdout",
     "output_type": "stream",
     "text": [
      "  Saved (int8):    tflite_models/normal/int8_quantization/model_2_fold_9.tflite (157.5 KB)\n",
      "  Fold 10:\n"
     ]
    },
    {
     "name": "stderr",
     "output_type": "stream",
     "text": [
      "WARNING:absl:Found untraced functions such as _jit_compiled_convolution_op, _update_step_xla while saving (showing 2 of 2). These functions will not be directly callable after loading.\n"
     ]
    },
    {
     "name": "stdout",
     "output_type": "stream",
     "text": [
      "INFO:tensorflow:Assets written to: /tmp/tmpt1elb9_v/assets\n"
     ]
    },
    {
     "name": "stderr",
     "output_type": "stream",
     "text": [
      "INFO:tensorflow:Assets written to: /tmp/tmpt1elb9_v/assets\n"
     ]
    },
    {
     "name": "stdout",
     "output_type": "stream",
     "text": [
      "  Saved (no quant): tflite_models/normal/no_quantization/model_2_fold_10.tflite (613.8 KB)\n"
     ]
    },
    {
     "name": "stderr",
     "output_type": "stream",
     "text": [
      "WARNING:absl:Found untraced functions such as _jit_compiled_convolution_op, _update_step_xla while saving (showing 2 of 2). These functions will not be directly callable after loading.\n"
     ]
    },
    {
     "name": "stdout",
     "output_type": "stream",
     "text": [
      "INFO:tensorflow:Assets written to: /tmp/tmposrxkcmt/assets\n"
     ]
    },
    {
     "name": "stderr",
     "output_type": "stream",
     "text": [
      "INFO:tensorflow:Assets written to: /tmp/tmposrxkcmt/assets\n",
      "/home/pmedur/strojnoUcenje/env/lib/python3.10/site-packages/tensorflow/lite/python/convert.py:765: UserWarning: Statistics for quantized inputs were expected, but not specified; continuing anyway.\n",
      "  warnings.warn(\"Statistics for quantized inputs were expected, but not \"\n",
      "fully_quantize: 0, inference_type: 6, input_inference_type: INT8, output_inference_type: INT8\n"
     ]
    },
    {
     "name": "stdout",
     "output_type": "stream",
     "text": [
      "  Saved (int8):    tflite_models/normal/int8_quantization/model_2_fold_10.tflite (157.5 KB)\n",
      "\n",
      "model_3:\n",
      "  Fold 1:\n"
     ]
    },
    {
     "name": "stderr",
     "output_type": "stream",
     "text": [
      "WARNING:absl:Found untraced functions such as _jit_compiled_convolution_op, _jit_compiled_convolution_op, _update_step_xla while saving (showing 3 of 3). These functions will not be directly callable after loading.\n"
     ]
    },
    {
     "name": "stdout",
     "output_type": "stream",
     "text": [
      "INFO:tensorflow:Assets written to: /tmp/tmpwj9l0a6q/assets\n"
     ]
    },
    {
     "name": "stderr",
     "output_type": "stream",
     "text": [
      "INFO:tensorflow:Assets written to: /tmp/tmpwj9l0a6q/assets\n"
     ]
    },
    {
     "name": "stdout",
     "output_type": "stream",
     "text": [
      "  Saved (no quant): tflite_models/normal/no_quantization/model_3_fold_1.tflite (617.8 KB)\n"
     ]
    },
    {
     "name": "stderr",
     "output_type": "stream",
     "text": [
      "WARNING:absl:Found untraced functions such as _jit_compiled_convolution_op, _jit_compiled_convolution_op, _update_step_xla while saving (showing 3 of 3). These functions will not be directly callable after loading.\n"
     ]
    },
    {
     "name": "stdout",
     "output_type": "stream",
     "text": [
      "INFO:tensorflow:Assets written to: /tmp/tmpr77_4_nt/assets\n"
     ]
    },
    {
     "name": "stderr",
     "output_type": "stream",
     "text": [
      "INFO:tensorflow:Assets written to: /tmp/tmpr77_4_nt/assets\n",
      "/home/pmedur/strojnoUcenje/env/lib/python3.10/site-packages/tensorflow/lite/python/convert.py:765: UserWarning: Statistics for quantized inputs were expected, but not specified; continuing anyway.\n",
      "  warnings.warn(\"Statistics for quantized inputs were expected, but not \"\n",
      "fully_quantize: 0, inference_type: 6, input_inference_type: INT8, output_inference_type: INT8\n"
     ]
    },
    {
     "name": "stdout",
     "output_type": "stream",
     "text": [
      "  Saved (int8):    tflite_models/normal/int8_quantization/model_3_fold_1.tflite (160.1 KB)\n",
      "  Fold 2:\n"
     ]
    },
    {
     "name": "stderr",
     "output_type": "stream",
     "text": [
      "WARNING:absl:Found untraced functions such as _jit_compiled_convolution_op, _jit_compiled_convolution_op, _update_step_xla while saving (showing 3 of 3). These functions will not be directly callable after loading.\n"
     ]
    },
    {
     "name": "stdout",
     "output_type": "stream",
     "text": [
      "INFO:tensorflow:Assets written to: /tmp/tmpvjw_fggy/assets\n"
     ]
    },
    {
     "name": "stderr",
     "output_type": "stream",
     "text": [
      "INFO:tensorflow:Assets written to: /tmp/tmpvjw_fggy/assets\n"
     ]
    },
    {
     "name": "stdout",
     "output_type": "stream",
     "text": [
      "  Saved (no quant): tflite_models/normal/no_quantization/model_3_fold_2.tflite (617.8 KB)\n"
     ]
    },
    {
     "name": "stderr",
     "output_type": "stream",
     "text": [
      "WARNING:absl:Found untraced functions such as _jit_compiled_convolution_op, _jit_compiled_convolution_op, _update_step_xla while saving (showing 3 of 3). These functions will not be directly callable after loading.\n"
     ]
    },
    {
     "name": "stdout",
     "output_type": "stream",
     "text": [
      "INFO:tensorflow:Assets written to: /tmp/tmply0w1aon/assets\n"
     ]
    },
    {
     "name": "stderr",
     "output_type": "stream",
     "text": [
      "INFO:tensorflow:Assets written to: /tmp/tmply0w1aon/assets\n",
      "/home/pmedur/strojnoUcenje/env/lib/python3.10/site-packages/tensorflow/lite/python/convert.py:765: UserWarning: Statistics for quantized inputs were expected, but not specified; continuing anyway.\n",
      "  warnings.warn(\"Statistics for quantized inputs were expected, but not \"\n",
      "fully_quantize: 0, inference_type: 6, input_inference_type: INT8, output_inference_type: INT8\n"
     ]
    },
    {
     "name": "stdout",
     "output_type": "stream",
     "text": [
      "  Saved (int8):    tflite_models/normal/int8_quantization/model_3_fold_2.tflite (160.1 KB)\n",
      "  Fold 3:\n"
     ]
    },
    {
     "name": "stderr",
     "output_type": "stream",
     "text": [
      "WARNING:absl:Found untraced functions such as _jit_compiled_convolution_op, _jit_compiled_convolution_op, _update_step_xla while saving (showing 3 of 3). These functions will not be directly callable after loading.\n"
     ]
    },
    {
     "name": "stdout",
     "output_type": "stream",
     "text": [
      "INFO:tensorflow:Assets written to: /tmp/tmphfyfcy_4/assets\n"
     ]
    },
    {
     "name": "stderr",
     "output_type": "stream",
     "text": [
      "INFO:tensorflow:Assets written to: /tmp/tmphfyfcy_4/assets\n"
     ]
    },
    {
     "name": "stdout",
     "output_type": "stream",
     "text": [
      "  Saved (no quant): tflite_models/normal/no_quantization/model_3_fold_3.tflite (617.8 KB)\n"
     ]
    },
    {
     "name": "stderr",
     "output_type": "stream",
     "text": [
      "WARNING:absl:Found untraced functions such as _jit_compiled_convolution_op, _jit_compiled_convolution_op, _update_step_xla while saving (showing 3 of 3). These functions will not be directly callable after loading.\n"
     ]
    },
    {
     "name": "stdout",
     "output_type": "stream",
     "text": [
      "INFO:tensorflow:Assets written to: /tmp/tmpxhmzn6sz/assets\n"
     ]
    },
    {
     "name": "stderr",
     "output_type": "stream",
     "text": [
      "INFO:tensorflow:Assets written to: /tmp/tmpxhmzn6sz/assets\n",
      "/home/pmedur/strojnoUcenje/env/lib/python3.10/site-packages/tensorflow/lite/python/convert.py:765: UserWarning: Statistics for quantized inputs were expected, but not specified; continuing anyway.\n",
      "  warnings.warn(\"Statistics for quantized inputs were expected, but not \"\n",
      "fully_quantize: 0, inference_type: 6, input_inference_type: INT8, output_inference_type: INT8\n"
     ]
    },
    {
     "name": "stdout",
     "output_type": "stream",
     "text": [
      "  Saved (int8):    tflite_models/normal/int8_quantization/model_3_fold_3.tflite (160.1 KB)\n",
      "  Fold 4:\n"
     ]
    },
    {
     "name": "stderr",
     "output_type": "stream",
     "text": [
      "WARNING:absl:Found untraced functions such as _jit_compiled_convolution_op, _jit_compiled_convolution_op, _update_step_xla while saving (showing 3 of 3). These functions will not be directly callable after loading.\n"
     ]
    },
    {
     "name": "stdout",
     "output_type": "stream",
     "text": [
      "INFO:tensorflow:Assets written to: /tmp/tmp9ge5vk9h/assets\n"
     ]
    },
    {
     "name": "stderr",
     "output_type": "stream",
     "text": [
      "INFO:tensorflow:Assets written to: /tmp/tmp9ge5vk9h/assets\n"
     ]
    },
    {
     "name": "stdout",
     "output_type": "stream",
     "text": [
      "  Saved (no quant): tflite_models/normal/no_quantization/model_3_fold_4.tflite (617.8 KB)\n"
     ]
    },
    {
     "name": "stderr",
     "output_type": "stream",
     "text": [
      "WARNING:absl:Found untraced functions such as _jit_compiled_convolution_op, _jit_compiled_convolution_op, _update_step_xla while saving (showing 3 of 3). These functions will not be directly callable after loading.\n"
     ]
    },
    {
     "name": "stdout",
     "output_type": "stream",
     "text": [
      "INFO:tensorflow:Assets written to: /tmp/tmpzxggkno9/assets\n"
     ]
    },
    {
     "name": "stderr",
     "output_type": "stream",
     "text": [
      "INFO:tensorflow:Assets written to: /tmp/tmpzxggkno9/assets\n",
      "/home/pmedur/strojnoUcenje/env/lib/python3.10/site-packages/tensorflow/lite/python/convert.py:765: UserWarning: Statistics for quantized inputs were expected, but not specified; continuing anyway.\n",
      "  warnings.warn(\"Statistics for quantized inputs were expected, but not \"\n",
      "fully_quantize: 0, inference_type: 6, input_inference_type: INT8, output_inference_type: INT8\n"
     ]
    },
    {
     "name": "stdout",
     "output_type": "stream",
     "text": [
      "  Saved (int8):    tflite_models/normal/int8_quantization/model_3_fold_4.tflite (160.1 KB)\n",
      "  Fold 5:\n"
     ]
    },
    {
     "name": "stderr",
     "output_type": "stream",
     "text": [
      "WARNING:absl:Found untraced functions such as _jit_compiled_convolution_op, _jit_compiled_convolution_op, _update_step_xla while saving (showing 3 of 3). These functions will not be directly callable after loading.\n"
     ]
    },
    {
     "name": "stdout",
     "output_type": "stream",
     "text": [
      "INFO:tensorflow:Assets written to: /tmp/tmpsm4qv14u/assets\n"
     ]
    },
    {
     "name": "stderr",
     "output_type": "stream",
     "text": [
      "INFO:tensorflow:Assets written to: /tmp/tmpsm4qv14u/assets\n"
     ]
    },
    {
     "name": "stdout",
     "output_type": "stream",
     "text": [
      "  Saved (no quant): tflite_models/normal/no_quantization/model_3_fold_5.tflite (617.8 KB)\n"
     ]
    },
    {
     "name": "stderr",
     "output_type": "stream",
     "text": [
      "WARNING:absl:Found untraced functions such as _jit_compiled_convolution_op, _jit_compiled_convolution_op, _update_step_xla while saving (showing 3 of 3). These functions will not be directly callable after loading.\n"
     ]
    },
    {
     "name": "stdout",
     "output_type": "stream",
     "text": [
      "INFO:tensorflow:Assets written to: /tmp/tmpzvb_7l3f/assets\n"
     ]
    },
    {
     "name": "stderr",
     "output_type": "stream",
     "text": [
      "INFO:tensorflow:Assets written to: /tmp/tmpzvb_7l3f/assets\n",
      "/home/pmedur/strojnoUcenje/env/lib/python3.10/site-packages/tensorflow/lite/python/convert.py:765: UserWarning: Statistics for quantized inputs were expected, but not specified; continuing anyway.\n",
      "  warnings.warn(\"Statistics for quantized inputs were expected, but not \"\n",
      "fully_quantize: 0, inference_type: 6, input_inference_type: INT8, output_inference_type: INT8\n"
     ]
    },
    {
     "name": "stdout",
     "output_type": "stream",
     "text": [
      "  Saved (int8):    tflite_models/normal/int8_quantization/model_3_fold_5.tflite (160.1 KB)\n",
      "  Fold 6:\n"
     ]
    },
    {
     "name": "stderr",
     "output_type": "stream",
     "text": [
      "WARNING:absl:Found untraced functions such as _jit_compiled_convolution_op, _jit_compiled_convolution_op, _update_step_xla while saving (showing 3 of 3). These functions will not be directly callable after loading.\n"
     ]
    },
    {
     "name": "stdout",
     "output_type": "stream",
     "text": [
      "INFO:tensorflow:Assets written to: /tmp/tmpohuknisp/assets\n"
     ]
    },
    {
     "name": "stderr",
     "output_type": "stream",
     "text": [
      "INFO:tensorflow:Assets written to: /tmp/tmpohuknisp/assets\n"
     ]
    },
    {
     "name": "stdout",
     "output_type": "stream",
     "text": [
      "  Saved (no quant): tflite_models/normal/no_quantization/model_3_fold_6.tflite (617.8 KB)\n"
     ]
    },
    {
     "name": "stderr",
     "output_type": "stream",
     "text": [
      "WARNING:absl:Found untraced functions such as _jit_compiled_convolution_op, _jit_compiled_convolution_op, _update_step_xla while saving (showing 3 of 3). These functions will not be directly callable after loading.\n"
     ]
    },
    {
     "name": "stdout",
     "output_type": "stream",
     "text": [
      "INFO:tensorflow:Assets written to: /tmp/tmpvsot1b4r/assets\n"
     ]
    },
    {
     "name": "stderr",
     "output_type": "stream",
     "text": [
      "INFO:tensorflow:Assets written to: /tmp/tmpvsot1b4r/assets\n",
      "/home/pmedur/strojnoUcenje/env/lib/python3.10/site-packages/tensorflow/lite/python/convert.py:765: UserWarning: Statistics for quantized inputs were expected, but not specified; continuing anyway.\n",
      "  warnings.warn(\"Statistics for quantized inputs were expected, but not \"\n",
      "fully_quantize: 0, inference_type: 6, input_inference_type: INT8, output_inference_type: INT8\n"
     ]
    },
    {
     "name": "stdout",
     "output_type": "stream",
     "text": [
      "  Saved (int8):    tflite_models/normal/int8_quantization/model_3_fold_6.tflite (160.1 KB)\n",
      "  Fold 7:\n"
     ]
    },
    {
     "name": "stderr",
     "output_type": "stream",
     "text": [
      "WARNING:absl:Found untraced functions such as _jit_compiled_convolution_op, _jit_compiled_convolution_op, _update_step_xla while saving (showing 3 of 3). These functions will not be directly callable after loading.\n"
     ]
    },
    {
     "name": "stdout",
     "output_type": "stream",
     "text": [
      "INFO:tensorflow:Assets written to: /tmp/tmp1oba0_fw/assets\n"
     ]
    },
    {
     "name": "stderr",
     "output_type": "stream",
     "text": [
      "INFO:tensorflow:Assets written to: /tmp/tmp1oba0_fw/assets\n"
     ]
    },
    {
     "name": "stdout",
     "output_type": "stream",
     "text": [
      "  Saved (no quant): tflite_models/normal/no_quantization/model_3_fold_7.tflite (617.8 KB)\n"
     ]
    },
    {
     "name": "stderr",
     "output_type": "stream",
     "text": [
      "WARNING:absl:Found untraced functions such as _jit_compiled_convolution_op, _jit_compiled_convolution_op, _update_step_xla while saving (showing 3 of 3). These functions will not be directly callable after loading.\n"
     ]
    },
    {
     "name": "stdout",
     "output_type": "stream",
     "text": [
      "INFO:tensorflow:Assets written to: /tmp/tmpt5pzyevg/assets\n"
     ]
    },
    {
     "name": "stderr",
     "output_type": "stream",
     "text": [
      "INFO:tensorflow:Assets written to: /tmp/tmpt5pzyevg/assets\n",
      "/home/pmedur/strojnoUcenje/env/lib/python3.10/site-packages/tensorflow/lite/python/convert.py:765: UserWarning: Statistics for quantized inputs were expected, but not specified; continuing anyway.\n",
      "  warnings.warn(\"Statistics for quantized inputs were expected, but not \"\n",
      "fully_quantize: 0, inference_type: 6, input_inference_type: INT8, output_inference_type: INT8\n"
     ]
    },
    {
     "name": "stdout",
     "output_type": "stream",
     "text": [
      "  Saved (int8):    tflite_models/normal/int8_quantization/model_3_fold_7.tflite (160.1 KB)\n",
      "  Fold 8:\n"
     ]
    },
    {
     "name": "stderr",
     "output_type": "stream",
     "text": [
      "WARNING:absl:Found untraced functions such as _jit_compiled_convolution_op, _jit_compiled_convolution_op, _update_step_xla while saving (showing 3 of 3). These functions will not be directly callable after loading.\n"
     ]
    },
    {
     "name": "stdout",
     "output_type": "stream",
     "text": [
      "INFO:tensorflow:Assets written to: /tmp/tmp1r8nabjd/assets\n"
     ]
    },
    {
     "name": "stderr",
     "output_type": "stream",
     "text": [
      "INFO:tensorflow:Assets written to: /tmp/tmp1r8nabjd/assets\n"
     ]
    },
    {
     "name": "stdout",
     "output_type": "stream",
     "text": [
      "  Saved (no quant): tflite_models/normal/no_quantization/model_3_fold_8.tflite (617.8 KB)\n"
     ]
    },
    {
     "name": "stderr",
     "output_type": "stream",
     "text": [
      "WARNING:absl:Found untraced functions such as _jit_compiled_convolution_op, _jit_compiled_convolution_op, _update_step_xla while saving (showing 3 of 3). These functions will not be directly callable after loading.\n"
     ]
    },
    {
     "name": "stdout",
     "output_type": "stream",
     "text": [
      "INFO:tensorflow:Assets written to: /tmp/tmp6xg4r7e2/assets\n"
     ]
    },
    {
     "name": "stderr",
     "output_type": "stream",
     "text": [
      "INFO:tensorflow:Assets written to: /tmp/tmp6xg4r7e2/assets\n",
      "/home/pmedur/strojnoUcenje/env/lib/python3.10/site-packages/tensorflow/lite/python/convert.py:765: UserWarning: Statistics for quantized inputs were expected, but not specified; continuing anyway.\n",
      "  warnings.warn(\"Statistics for quantized inputs were expected, but not \"\n",
      "fully_quantize: 0, inference_type: 6, input_inference_type: INT8, output_inference_type: INT8\n"
     ]
    },
    {
     "name": "stdout",
     "output_type": "stream",
     "text": [
      "  Saved (int8):    tflite_models/normal/int8_quantization/model_3_fold_8.tflite (160.1 KB)\n",
      "  Fold 9:\n"
     ]
    },
    {
     "name": "stderr",
     "output_type": "stream",
     "text": [
      "WARNING:absl:Found untraced functions such as _jit_compiled_convolution_op, _jit_compiled_convolution_op, _update_step_xla while saving (showing 3 of 3). These functions will not be directly callable after loading.\n"
     ]
    },
    {
     "name": "stdout",
     "output_type": "stream",
     "text": [
      "INFO:tensorflow:Assets written to: /tmp/tmp80rwwnab/assets\n"
     ]
    },
    {
     "name": "stderr",
     "output_type": "stream",
     "text": [
      "INFO:tensorflow:Assets written to: /tmp/tmp80rwwnab/assets\n"
     ]
    },
    {
     "name": "stdout",
     "output_type": "stream",
     "text": [
      "  Saved (no quant): tflite_models/normal/no_quantization/model_3_fold_9.tflite (617.8 KB)\n"
     ]
    },
    {
     "name": "stderr",
     "output_type": "stream",
     "text": [
      "WARNING:absl:Found untraced functions such as _jit_compiled_convolution_op, _jit_compiled_convolution_op, _update_step_xla while saving (showing 3 of 3). These functions will not be directly callable after loading.\n"
     ]
    },
    {
     "name": "stdout",
     "output_type": "stream",
     "text": [
      "INFO:tensorflow:Assets written to: /tmp/tmpytxg04z5/assets\n"
     ]
    },
    {
     "name": "stderr",
     "output_type": "stream",
     "text": [
      "INFO:tensorflow:Assets written to: /tmp/tmpytxg04z5/assets\n",
      "/home/pmedur/strojnoUcenje/env/lib/python3.10/site-packages/tensorflow/lite/python/convert.py:765: UserWarning: Statistics for quantized inputs were expected, but not specified; continuing anyway.\n",
      "  warnings.warn(\"Statistics for quantized inputs were expected, but not \"\n",
      "fully_quantize: 0, inference_type: 6, input_inference_type: INT8, output_inference_type: INT8\n"
     ]
    },
    {
     "name": "stdout",
     "output_type": "stream",
     "text": [
      "  Saved (int8):    tflite_models/normal/int8_quantization/model_3_fold_9.tflite (160.1 KB)\n",
      "  Fold 10:\n"
     ]
    },
    {
     "name": "stderr",
     "output_type": "stream",
     "text": [
      "WARNING:absl:Found untraced functions such as _jit_compiled_convolution_op, _jit_compiled_convolution_op, _update_step_xla while saving (showing 3 of 3). These functions will not be directly callable after loading.\n"
     ]
    },
    {
     "name": "stdout",
     "output_type": "stream",
     "text": [
      "INFO:tensorflow:Assets written to: /tmp/tmp1kb60oe0/assets\n"
     ]
    },
    {
     "name": "stderr",
     "output_type": "stream",
     "text": [
      "INFO:tensorflow:Assets written to: /tmp/tmp1kb60oe0/assets\n"
     ]
    },
    {
     "name": "stdout",
     "output_type": "stream",
     "text": [
      "  Saved (no quant): tflite_models/normal/no_quantization/model_3_fold_10.tflite (617.8 KB)\n"
     ]
    },
    {
     "name": "stderr",
     "output_type": "stream",
     "text": [
      "WARNING:absl:Found untraced functions such as _jit_compiled_convolution_op, _jit_compiled_convolution_op, _update_step_xla while saving (showing 3 of 3). These functions will not be directly callable after loading.\n"
     ]
    },
    {
     "name": "stdout",
     "output_type": "stream",
     "text": [
      "INFO:tensorflow:Assets written to: /tmp/tmp13jlff_q/assets\n"
     ]
    },
    {
     "name": "stderr",
     "output_type": "stream",
     "text": [
      "INFO:tensorflow:Assets written to: /tmp/tmp13jlff_q/assets\n",
      "/home/pmedur/strojnoUcenje/env/lib/python3.10/site-packages/tensorflow/lite/python/convert.py:765: UserWarning: Statistics for quantized inputs were expected, but not specified; continuing anyway.\n",
      "  warnings.warn(\"Statistics for quantized inputs were expected, but not \"\n",
      "fully_quantize: 0, inference_type: 6, input_inference_type: INT8, output_inference_type: INT8\n"
     ]
    },
    {
     "name": "stdout",
     "output_type": "stream",
     "text": [
      "  Saved (int8):    tflite_models/normal/int8_quantization/model_3_fold_10.tflite (160.1 KB)\n",
      "\n",
      "model_4:\n",
      "  Fold 1:\n"
     ]
    },
    {
     "name": "stderr",
     "output_type": "stream",
     "text": [
      "WARNING:absl:Found untraced functions such as _jit_compiled_convolution_op, _update_step_xla while saving (showing 2 of 2). These functions will not be directly callable after loading.\n"
     ]
    },
    {
     "name": "stdout",
     "output_type": "stream",
     "text": [
      "INFO:tensorflow:Assets written to: /tmp/tmpbk8n6ni_/assets\n"
     ]
    },
    {
     "name": "stderr",
     "output_type": "stream",
     "text": [
      "INFO:tensorflow:Assets written to: /tmp/tmpbk8n6ni_/assets\n"
     ]
    },
    {
     "name": "stdout",
     "output_type": "stream",
     "text": [
      "  Saved (no quant): tflite_models/normal/no_quantization/model_4_fold_1.tflite (2423.7 KB)\n"
     ]
    },
    {
     "name": "stderr",
     "output_type": "stream",
     "text": [
      "WARNING:absl:Found untraced functions such as _jit_compiled_convolution_op, _update_step_xla while saving (showing 2 of 2). These functions will not be directly callable after loading.\n"
     ]
    },
    {
     "name": "stdout",
     "output_type": "stream",
     "text": [
      "INFO:tensorflow:Assets written to: /tmp/tmposf3ehl_/assets\n"
     ]
    },
    {
     "name": "stderr",
     "output_type": "stream",
     "text": [
      "INFO:tensorflow:Assets written to: /tmp/tmposf3ehl_/assets\n",
      "/home/pmedur/strojnoUcenje/env/lib/python3.10/site-packages/tensorflow/lite/python/convert.py:765: UserWarning: Statistics for quantized inputs were expected, but not specified; continuing anyway.\n",
      "  warnings.warn(\"Statistics for quantized inputs were expected, but not \"\n",
      "fully_quantize: 0, inference_type: 6, input_inference_type: INT8, output_inference_type: INT8\n"
     ]
    },
    {
     "name": "stdout",
     "output_type": "stream",
     "text": [
      "  Saved (int8):    tflite_models/normal/int8_quantization/model_4_fold_1.tflite (610.5 KB)\n",
      "  Fold 2:\n"
     ]
    },
    {
     "name": "stderr",
     "output_type": "stream",
     "text": [
      "WARNING:absl:Found untraced functions such as _jit_compiled_convolution_op, _update_step_xla while saving (showing 2 of 2). These functions will not be directly callable after loading.\n"
     ]
    },
    {
     "name": "stdout",
     "output_type": "stream",
     "text": [
      "INFO:tensorflow:Assets written to: /tmp/tmp6obwju2s/assets\n"
     ]
    },
    {
     "name": "stderr",
     "output_type": "stream",
     "text": [
      "INFO:tensorflow:Assets written to: /tmp/tmp6obwju2s/assets\n"
     ]
    },
    {
     "name": "stdout",
     "output_type": "stream",
     "text": [
      "  Saved (no quant): tflite_models/normal/no_quantization/model_4_fold_2.tflite (2423.7 KB)\n"
     ]
    },
    {
     "name": "stderr",
     "output_type": "stream",
     "text": [
      "WARNING:absl:Found untraced functions such as _jit_compiled_convolution_op, _update_step_xla while saving (showing 2 of 2). These functions will not be directly callable after loading.\n"
     ]
    },
    {
     "name": "stdout",
     "output_type": "stream",
     "text": [
      "INFO:tensorflow:Assets written to: /tmp/tmp6g6_h5zv/assets\n"
     ]
    },
    {
     "name": "stderr",
     "output_type": "stream",
     "text": [
      "INFO:tensorflow:Assets written to: /tmp/tmp6g6_h5zv/assets\n",
      "/home/pmedur/strojnoUcenje/env/lib/python3.10/site-packages/tensorflow/lite/python/convert.py:765: UserWarning: Statistics for quantized inputs were expected, but not specified; continuing anyway.\n",
      "  warnings.warn(\"Statistics for quantized inputs were expected, but not \"\n",
      "fully_quantize: 0, inference_type: 6, input_inference_type: INT8, output_inference_type: INT8\n"
     ]
    },
    {
     "name": "stdout",
     "output_type": "stream",
     "text": [
      "  Saved (int8):    tflite_models/normal/int8_quantization/model_4_fold_2.tflite (610.5 KB)\n",
      "  Fold 3:\n"
     ]
    },
    {
     "name": "stderr",
     "output_type": "stream",
     "text": [
      "WARNING:absl:Found untraced functions such as _jit_compiled_convolution_op, _update_step_xla while saving (showing 2 of 2). These functions will not be directly callable after loading.\n"
     ]
    },
    {
     "name": "stdout",
     "output_type": "stream",
     "text": [
      "INFO:tensorflow:Assets written to: /tmp/tmpvnfad2rk/assets\n"
     ]
    },
    {
     "name": "stderr",
     "output_type": "stream",
     "text": [
      "INFO:tensorflow:Assets written to: /tmp/tmpvnfad2rk/assets\n"
     ]
    },
    {
     "name": "stdout",
     "output_type": "stream",
     "text": [
      "  Saved (no quant): tflite_models/normal/no_quantization/model_4_fold_3.tflite (2423.7 KB)\n"
     ]
    },
    {
     "name": "stderr",
     "output_type": "stream",
     "text": [
      "WARNING:absl:Found untraced functions such as _jit_compiled_convolution_op, _update_step_xla while saving (showing 2 of 2). These functions will not be directly callable after loading.\n"
     ]
    },
    {
     "name": "stdout",
     "output_type": "stream",
     "text": [
      "INFO:tensorflow:Assets written to: /tmp/tmpyn739frs/assets\n"
     ]
    },
    {
     "name": "stderr",
     "output_type": "stream",
     "text": [
      "INFO:tensorflow:Assets written to: /tmp/tmpyn739frs/assets\n",
      "/home/pmedur/strojnoUcenje/env/lib/python3.10/site-packages/tensorflow/lite/python/convert.py:765: UserWarning: Statistics for quantized inputs were expected, but not specified; continuing anyway.\n",
      "  warnings.warn(\"Statistics for quantized inputs were expected, but not \"\n",
      "fully_quantize: 0, inference_type: 6, input_inference_type: INT8, output_inference_type: INT8\n"
     ]
    },
    {
     "name": "stdout",
     "output_type": "stream",
     "text": [
      "  Saved (int8):    tflite_models/normal/int8_quantization/model_4_fold_3.tflite (610.5 KB)\n",
      "  Fold 4:\n"
     ]
    },
    {
     "name": "stderr",
     "output_type": "stream",
     "text": [
      "WARNING:absl:Found untraced functions such as _jit_compiled_convolution_op, _update_step_xla while saving (showing 2 of 2). These functions will not be directly callable after loading.\n"
     ]
    },
    {
     "name": "stdout",
     "output_type": "stream",
     "text": [
      "INFO:tensorflow:Assets written to: /tmp/tmp2i1c6ulp/assets\n"
     ]
    },
    {
     "name": "stderr",
     "output_type": "stream",
     "text": [
      "INFO:tensorflow:Assets written to: /tmp/tmp2i1c6ulp/assets\n"
     ]
    },
    {
     "name": "stdout",
     "output_type": "stream",
     "text": [
      "  Saved (no quant): tflite_models/normal/no_quantization/model_4_fold_4.tflite (2423.7 KB)\n"
     ]
    },
    {
     "name": "stderr",
     "output_type": "stream",
     "text": [
      "WARNING:absl:Found untraced functions such as _jit_compiled_convolution_op, _update_step_xla while saving (showing 2 of 2). These functions will not be directly callable after loading.\n"
     ]
    },
    {
     "name": "stdout",
     "output_type": "stream",
     "text": [
      "INFO:tensorflow:Assets written to: /tmp/tmp_lfcx3ew/assets\n"
     ]
    },
    {
     "name": "stderr",
     "output_type": "stream",
     "text": [
      "INFO:tensorflow:Assets written to: /tmp/tmp_lfcx3ew/assets\n",
      "/home/pmedur/strojnoUcenje/env/lib/python3.10/site-packages/tensorflow/lite/python/convert.py:765: UserWarning: Statistics for quantized inputs were expected, but not specified; continuing anyway.\n",
      "  warnings.warn(\"Statistics for quantized inputs were expected, but not \"\n",
      "fully_quantize: 0, inference_type: 6, input_inference_type: INT8, output_inference_type: INT8\n"
     ]
    },
    {
     "name": "stdout",
     "output_type": "stream",
     "text": [
      "  Saved (int8):    tflite_models/normal/int8_quantization/model_4_fold_4.tflite (610.5 KB)\n",
      "  Fold 5:\n"
     ]
    },
    {
     "name": "stderr",
     "output_type": "stream",
     "text": [
      "WARNING:absl:Found untraced functions such as _jit_compiled_convolution_op, _update_step_xla while saving (showing 2 of 2). These functions will not be directly callable after loading.\n"
     ]
    },
    {
     "name": "stdout",
     "output_type": "stream",
     "text": [
      "INFO:tensorflow:Assets written to: /tmp/tmp8r0aa0ia/assets\n"
     ]
    },
    {
     "name": "stderr",
     "output_type": "stream",
     "text": [
      "INFO:tensorflow:Assets written to: /tmp/tmp8r0aa0ia/assets\n"
     ]
    },
    {
     "name": "stdout",
     "output_type": "stream",
     "text": [
      "  Saved (no quant): tflite_models/normal/no_quantization/model_4_fold_5.tflite (2423.7 KB)\n"
     ]
    },
    {
     "name": "stderr",
     "output_type": "stream",
     "text": [
      "WARNING:absl:Found untraced functions such as _jit_compiled_convolution_op, _update_step_xla while saving (showing 2 of 2). These functions will not be directly callable after loading.\n"
     ]
    },
    {
     "name": "stdout",
     "output_type": "stream",
     "text": [
      "INFO:tensorflow:Assets written to: /tmp/tmpdr9i57z_/assets\n"
     ]
    },
    {
     "name": "stderr",
     "output_type": "stream",
     "text": [
      "INFO:tensorflow:Assets written to: /tmp/tmpdr9i57z_/assets\n",
      "/home/pmedur/strojnoUcenje/env/lib/python3.10/site-packages/tensorflow/lite/python/convert.py:765: UserWarning: Statistics for quantized inputs were expected, but not specified; continuing anyway.\n",
      "  warnings.warn(\"Statistics for quantized inputs were expected, but not \"\n",
      "fully_quantize: 0, inference_type: 6, input_inference_type: INT8, output_inference_type: INT8\n"
     ]
    },
    {
     "name": "stdout",
     "output_type": "stream",
     "text": [
      "  Saved (int8):    tflite_models/normal/int8_quantization/model_4_fold_5.tflite (610.5 KB)\n",
      "  Fold 6:\n"
     ]
    },
    {
     "name": "stderr",
     "output_type": "stream",
     "text": [
      "WARNING:absl:Found untraced functions such as _jit_compiled_convolution_op, _update_step_xla while saving (showing 2 of 2). These functions will not be directly callable after loading.\n"
     ]
    },
    {
     "name": "stdout",
     "output_type": "stream",
     "text": [
      "INFO:tensorflow:Assets written to: /tmp/tmp7eokd1ul/assets\n"
     ]
    },
    {
     "name": "stderr",
     "output_type": "stream",
     "text": [
      "INFO:tensorflow:Assets written to: /tmp/tmp7eokd1ul/assets\n"
     ]
    },
    {
     "name": "stdout",
     "output_type": "stream",
     "text": [
      "  Saved (no quant): tflite_models/normal/no_quantization/model_4_fold_6.tflite (2423.7 KB)\n"
     ]
    },
    {
     "name": "stderr",
     "output_type": "stream",
     "text": [
      "WARNING:absl:Found untraced functions such as _jit_compiled_convolution_op, _update_step_xla while saving (showing 2 of 2). These functions will not be directly callable after loading.\n"
     ]
    },
    {
     "name": "stdout",
     "output_type": "stream",
     "text": [
      "INFO:tensorflow:Assets written to: /tmp/tmp4dnhhhbk/assets\n"
     ]
    },
    {
     "name": "stderr",
     "output_type": "stream",
     "text": [
      "INFO:tensorflow:Assets written to: /tmp/tmp4dnhhhbk/assets\n",
      "/home/pmedur/strojnoUcenje/env/lib/python3.10/site-packages/tensorflow/lite/python/convert.py:765: UserWarning: Statistics for quantized inputs were expected, but not specified; continuing anyway.\n",
      "  warnings.warn(\"Statistics for quantized inputs were expected, but not \"\n",
      "fully_quantize: 0, inference_type: 6, input_inference_type: INT8, output_inference_type: INT8\n"
     ]
    },
    {
     "name": "stdout",
     "output_type": "stream",
     "text": [
      "  Saved (int8):    tflite_models/normal/int8_quantization/model_4_fold_6.tflite (610.5 KB)\n",
      "  Fold 7:\n"
     ]
    },
    {
     "name": "stderr",
     "output_type": "stream",
     "text": [
      "WARNING:absl:Found untraced functions such as _jit_compiled_convolution_op, _update_step_xla while saving (showing 2 of 2). These functions will not be directly callable after loading.\n"
     ]
    },
    {
     "name": "stdout",
     "output_type": "stream",
     "text": [
      "INFO:tensorflow:Assets written to: /tmp/tmphs10z2h1/assets\n"
     ]
    },
    {
     "name": "stderr",
     "output_type": "stream",
     "text": [
      "INFO:tensorflow:Assets written to: /tmp/tmphs10z2h1/assets\n"
     ]
    },
    {
     "name": "stdout",
     "output_type": "stream",
     "text": [
      "  Saved (no quant): tflite_models/normal/no_quantization/model_4_fold_7.tflite (2423.7 KB)\n"
     ]
    },
    {
     "name": "stderr",
     "output_type": "stream",
     "text": [
      "WARNING:absl:Found untraced functions such as _jit_compiled_convolution_op, _update_step_xla while saving (showing 2 of 2). These functions will not be directly callable after loading.\n"
     ]
    },
    {
     "name": "stdout",
     "output_type": "stream",
     "text": [
      "INFO:tensorflow:Assets written to: /tmp/tmpmpbyk13n/assets\n"
     ]
    },
    {
     "name": "stderr",
     "output_type": "stream",
     "text": [
      "INFO:tensorflow:Assets written to: /tmp/tmpmpbyk13n/assets\n",
      "/home/pmedur/strojnoUcenje/env/lib/python3.10/site-packages/tensorflow/lite/python/convert.py:765: UserWarning: Statistics for quantized inputs were expected, but not specified; continuing anyway.\n",
      "  warnings.warn(\"Statistics for quantized inputs were expected, but not \"\n",
      "fully_quantize: 0, inference_type: 6, input_inference_type: INT8, output_inference_type: INT8\n"
     ]
    },
    {
     "name": "stdout",
     "output_type": "stream",
     "text": [
      "  Saved (int8):    tflite_models/normal/int8_quantization/model_4_fold_7.tflite (610.5 KB)\n",
      "  Fold 8:\n"
     ]
    },
    {
     "name": "stderr",
     "output_type": "stream",
     "text": [
      "WARNING:absl:Found untraced functions such as _jit_compiled_convolution_op, _update_step_xla while saving (showing 2 of 2). These functions will not be directly callable after loading.\n"
     ]
    },
    {
     "name": "stdout",
     "output_type": "stream",
     "text": [
      "INFO:tensorflow:Assets written to: /tmp/tmp3wuezffc/assets\n"
     ]
    },
    {
     "name": "stderr",
     "output_type": "stream",
     "text": [
      "INFO:tensorflow:Assets written to: /tmp/tmp3wuezffc/assets\n"
     ]
    },
    {
     "name": "stdout",
     "output_type": "stream",
     "text": [
      "  Saved (no quant): tflite_models/normal/no_quantization/model_4_fold_8.tflite (2423.7 KB)\n"
     ]
    },
    {
     "name": "stderr",
     "output_type": "stream",
     "text": [
      "WARNING:absl:Found untraced functions such as _jit_compiled_convolution_op, _update_step_xla while saving (showing 2 of 2). These functions will not be directly callable after loading.\n"
     ]
    },
    {
     "name": "stdout",
     "output_type": "stream",
     "text": [
      "INFO:tensorflow:Assets written to: /tmp/tmp5tfp980d/assets\n"
     ]
    },
    {
     "name": "stderr",
     "output_type": "stream",
     "text": [
      "INFO:tensorflow:Assets written to: /tmp/tmp5tfp980d/assets\n",
      "/home/pmedur/strojnoUcenje/env/lib/python3.10/site-packages/tensorflow/lite/python/convert.py:765: UserWarning: Statistics for quantized inputs were expected, but not specified; continuing anyway.\n",
      "  warnings.warn(\"Statistics for quantized inputs were expected, but not \"\n",
      "fully_quantize: 0, inference_type: 6, input_inference_type: INT8, output_inference_type: INT8\n"
     ]
    },
    {
     "name": "stdout",
     "output_type": "stream",
     "text": [
      "  Saved (int8):    tflite_models/normal/int8_quantization/model_4_fold_8.tflite (610.5 KB)\n",
      "  Fold 9:\n"
     ]
    },
    {
     "name": "stderr",
     "output_type": "stream",
     "text": [
      "WARNING:absl:Found untraced functions such as _jit_compiled_convolution_op, _update_step_xla while saving (showing 2 of 2). These functions will not be directly callable after loading.\n"
     ]
    },
    {
     "name": "stdout",
     "output_type": "stream",
     "text": [
      "INFO:tensorflow:Assets written to: /tmp/tmp6bckr8w6/assets\n"
     ]
    },
    {
     "name": "stderr",
     "output_type": "stream",
     "text": [
      "INFO:tensorflow:Assets written to: /tmp/tmp6bckr8w6/assets\n"
     ]
    },
    {
     "name": "stdout",
     "output_type": "stream",
     "text": [
      "  Saved (no quant): tflite_models/normal/no_quantization/model_4_fold_9.tflite (2423.7 KB)\n"
     ]
    },
    {
     "name": "stderr",
     "output_type": "stream",
     "text": [
      "WARNING:absl:Found untraced functions such as _jit_compiled_convolution_op, _update_step_xla while saving (showing 2 of 2). These functions will not be directly callable after loading.\n"
     ]
    },
    {
     "name": "stdout",
     "output_type": "stream",
     "text": [
      "INFO:tensorflow:Assets written to: /tmp/tmp83mwpimi/assets\n"
     ]
    },
    {
     "name": "stderr",
     "output_type": "stream",
     "text": [
      "INFO:tensorflow:Assets written to: /tmp/tmp83mwpimi/assets\n",
      "/home/pmedur/strojnoUcenje/env/lib/python3.10/site-packages/tensorflow/lite/python/convert.py:765: UserWarning: Statistics for quantized inputs were expected, but not specified; continuing anyway.\n",
      "  warnings.warn(\"Statistics for quantized inputs were expected, but not \"\n",
      "fully_quantize: 0, inference_type: 6, input_inference_type: INT8, output_inference_type: INT8\n"
     ]
    },
    {
     "name": "stdout",
     "output_type": "stream",
     "text": [
      "  Saved (int8):    tflite_models/normal/int8_quantization/model_4_fold_9.tflite (610.5 KB)\n",
      "  Fold 10:\n"
     ]
    },
    {
     "name": "stderr",
     "output_type": "stream",
     "text": [
      "WARNING:absl:Found untraced functions such as _jit_compiled_convolution_op, _update_step_xla while saving (showing 2 of 2). These functions will not be directly callable after loading.\n"
     ]
    },
    {
     "name": "stdout",
     "output_type": "stream",
     "text": [
      "INFO:tensorflow:Assets written to: /tmp/tmpppgmjcby/assets\n"
     ]
    },
    {
     "name": "stderr",
     "output_type": "stream",
     "text": [
      "INFO:tensorflow:Assets written to: /tmp/tmpppgmjcby/assets\n"
     ]
    },
    {
     "name": "stdout",
     "output_type": "stream",
     "text": [
      "  Saved (no quant): tflite_models/normal/no_quantization/model_4_fold_10.tflite (2423.7 KB)\n"
     ]
    },
    {
     "name": "stderr",
     "output_type": "stream",
     "text": [
      "WARNING:absl:Found untraced functions such as _jit_compiled_convolution_op, _update_step_xla while saving (showing 2 of 2). These functions will not be directly callable after loading.\n"
     ]
    },
    {
     "name": "stdout",
     "output_type": "stream",
     "text": [
      "INFO:tensorflow:Assets written to: /tmp/tmp8_xb8_wb/assets\n"
     ]
    },
    {
     "name": "stderr",
     "output_type": "stream",
     "text": [
      "INFO:tensorflow:Assets written to: /tmp/tmp8_xb8_wb/assets\n",
      "/home/pmedur/strojnoUcenje/env/lib/python3.10/site-packages/tensorflow/lite/python/convert.py:765: UserWarning: Statistics for quantized inputs were expected, but not specified; continuing anyway.\n",
      "  warnings.warn(\"Statistics for quantized inputs were expected, but not \"\n",
      "fully_quantize: 0, inference_type: 6, input_inference_type: INT8, output_inference_type: INT8\n"
     ]
    },
    {
     "name": "stdout",
     "output_type": "stream",
     "text": [
      "  Saved (int8):    tflite_models/normal/int8_quantization/model_4_fold_10.tflite (610.5 KB)\n",
      "\n",
      "model_5:\n",
      "  Fold 1:\n"
     ]
    },
    {
     "name": "stderr",
     "output_type": "stream",
     "text": [
      "WARNING:absl:Found untraced functions such as _jit_compiled_convolution_op, _jit_compiled_convolution_op, _update_step_xla while saving (showing 3 of 3). These functions will not be directly callable after loading.\n"
     ]
    },
    {
     "name": "stdout",
     "output_type": "stream",
     "text": [
      "INFO:tensorflow:Assets written to: /tmp/tmpjvr181wp/assets\n"
     ]
    },
    {
     "name": "stderr",
     "output_type": "stream",
     "text": [
      "INFO:tensorflow:Assets written to: /tmp/tmpjvr181wp/assets\n"
     ]
    },
    {
     "name": "stdout",
     "output_type": "stream",
     "text": [
      "  Saved (no quant): tflite_models/normal/no_quantization/model_5_fold_1.tflite (320.6 KB)\n"
     ]
    },
    {
     "name": "stderr",
     "output_type": "stream",
     "text": [
      "WARNING:absl:Found untraced functions such as _jit_compiled_convolution_op, _jit_compiled_convolution_op, _update_step_xla while saving (showing 3 of 3). These functions will not be directly callable after loading.\n"
     ]
    },
    {
     "name": "stdout",
     "output_type": "stream",
     "text": [
      "INFO:tensorflow:Assets written to: /tmp/tmpyz4ssg69/assets\n"
     ]
    },
    {
     "name": "stderr",
     "output_type": "stream",
     "text": [
      "INFO:tensorflow:Assets written to: /tmp/tmpyz4ssg69/assets\n",
      "/home/pmedur/strojnoUcenje/env/lib/python3.10/site-packages/tensorflow/lite/python/convert.py:765: UserWarning: Statistics for quantized inputs were expected, but not specified; continuing anyway.\n",
      "  warnings.warn(\"Statistics for quantized inputs were expected, but not \"\n",
      "fully_quantize: 0, inference_type: 6, input_inference_type: INT8, output_inference_type: INT8\n"
     ]
    },
    {
     "name": "stdout",
     "output_type": "stream",
     "text": [
      "  Saved (int8):    tflite_models/normal/int8_quantization/model_5_fold_1.tflite (85.6 KB)\n",
      "  Fold 2:\n"
     ]
    },
    {
     "name": "stderr",
     "output_type": "stream",
     "text": [
      "WARNING:absl:Found untraced functions such as _jit_compiled_convolution_op, _jit_compiled_convolution_op, _update_step_xla while saving (showing 3 of 3). These functions will not be directly callable after loading.\n"
     ]
    },
    {
     "name": "stdout",
     "output_type": "stream",
     "text": [
      "INFO:tensorflow:Assets written to: /tmp/tmpmzmdh0r7/assets\n"
     ]
    },
    {
     "name": "stderr",
     "output_type": "stream",
     "text": [
      "INFO:tensorflow:Assets written to: /tmp/tmpmzmdh0r7/assets\n"
     ]
    },
    {
     "name": "stdout",
     "output_type": "stream",
     "text": [
      "  Saved (no quant): tflite_models/normal/no_quantization/model_5_fold_2.tflite (320.6 KB)\n"
     ]
    },
    {
     "name": "stderr",
     "output_type": "stream",
     "text": [
      "WARNING:absl:Found untraced functions such as _jit_compiled_convolution_op, _jit_compiled_convolution_op, _update_step_xla while saving (showing 3 of 3). These functions will not be directly callable after loading.\n"
     ]
    },
    {
     "name": "stdout",
     "output_type": "stream",
     "text": [
      "INFO:tensorflow:Assets written to: /tmp/tmptcicz9hj/assets\n"
     ]
    },
    {
     "name": "stderr",
     "output_type": "stream",
     "text": [
      "INFO:tensorflow:Assets written to: /tmp/tmptcicz9hj/assets\n",
      "/home/pmedur/strojnoUcenje/env/lib/python3.10/site-packages/tensorflow/lite/python/convert.py:765: UserWarning: Statistics for quantized inputs were expected, but not specified; continuing anyway.\n",
      "  warnings.warn(\"Statistics for quantized inputs were expected, but not \"\n",
      "fully_quantize: 0, inference_type: 6, input_inference_type: INT8, output_inference_type: INT8\n"
     ]
    },
    {
     "name": "stdout",
     "output_type": "stream",
     "text": [
      "  Saved (int8):    tflite_models/normal/int8_quantization/model_5_fold_2.tflite (85.6 KB)\n",
      "  Fold 3:\n"
     ]
    },
    {
     "name": "stderr",
     "output_type": "stream",
     "text": [
      "WARNING:absl:Found untraced functions such as _jit_compiled_convolution_op, _jit_compiled_convolution_op, _update_step_xla while saving (showing 3 of 3). These functions will not be directly callable after loading.\n"
     ]
    },
    {
     "name": "stdout",
     "output_type": "stream",
     "text": [
      "INFO:tensorflow:Assets written to: /tmp/tmp8pou7es3/assets\n"
     ]
    },
    {
     "name": "stderr",
     "output_type": "stream",
     "text": [
      "INFO:tensorflow:Assets written to: /tmp/tmp8pou7es3/assets\n"
     ]
    },
    {
     "name": "stdout",
     "output_type": "stream",
     "text": [
      "  Saved (no quant): tflite_models/normal/no_quantization/model_5_fold_3.tflite (320.6 KB)\n"
     ]
    },
    {
     "name": "stderr",
     "output_type": "stream",
     "text": [
      "WARNING:absl:Found untraced functions such as _jit_compiled_convolution_op, _jit_compiled_convolution_op, _update_step_xla while saving (showing 3 of 3). These functions will not be directly callable after loading.\n"
     ]
    },
    {
     "name": "stdout",
     "output_type": "stream",
     "text": [
      "INFO:tensorflow:Assets written to: /tmp/tmp85369cvb/assets\n"
     ]
    },
    {
     "name": "stderr",
     "output_type": "stream",
     "text": [
      "INFO:tensorflow:Assets written to: /tmp/tmp85369cvb/assets\n",
      "/home/pmedur/strojnoUcenje/env/lib/python3.10/site-packages/tensorflow/lite/python/convert.py:765: UserWarning: Statistics for quantized inputs were expected, but not specified; continuing anyway.\n",
      "  warnings.warn(\"Statistics for quantized inputs were expected, but not \"\n",
      "fully_quantize: 0, inference_type: 6, input_inference_type: INT8, output_inference_type: INT8\n"
     ]
    },
    {
     "name": "stdout",
     "output_type": "stream",
     "text": [
      "  Saved (int8):    tflite_models/normal/int8_quantization/model_5_fold_3.tflite (85.6 KB)\n",
      "  Fold 4:\n"
     ]
    },
    {
     "name": "stderr",
     "output_type": "stream",
     "text": [
      "WARNING:absl:Found untraced functions such as _jit_compiled_convolution_op, _jit_compiled_convolution_op, _update_step_xla while saving (showing 3 of 3). These functions will not be directly callable after loading.\n"
     ]
    },
    {
     "name": "stdout",
     "output_type": "stream",
     "text": [
      "INFO:tensorflow:Assets written to: /tmp/tmplwl67q3u/assets\n"
     ]
    },
    {
     "name": "stderr",
     "output_type": "stream",
     "text": [
      "INFO:tensorflow:Assets written to: /tmp/tmplwl67q3u/assets\n"
     ]
    },
    {
     "name": "stdout",
     "output_type": "stream",
     "text": [
      "  Saved (no quant): tflite_models/normal/no_quantization/model_5_fold_4.tflite (320.6 KB)\n"
     ]
    },
    {
     "name": "stderr",
     "output_type": "stream",
     "text": [
      "WARNING:absl:Found untraced functions such as _jit_compiled_convolution_op, _jit_compiled_convolution_op, _update_step_xla while saving (showing 3 of 3). These functions will not be directly callable after loading.\n"
     ]
    },
    {
     "name": "stdout",
     "output_type": "stream",
     "text": [
      "INFO:tensorflow:Assets written to: /tmp/tmpf8v1ttp8/assets\n"
     ]
    },
    {
     "name": "stderr",
     "output_type": "stream",
     "text": [
      "INFO:tensorflow:Assets written to: /tmp/tmpf8v1ttp8/assets\n",
      "/home/pmedur/strojnoUcenje/env/lib/python3.10/site-packages/tensorflow/lite/python/convert.py:765: UserWarning: Statistics for quantized inputs were expected, but not specified; continuing anyway.\n",
      "  warnings.warn(\"Statistics for quantized inputs were expected, but not \"\n",
      "fully_quantize: 0, inference_type: 6, input_inference_type: INT8, output_inference_type: INT8\n"
     ]
    },
    {
     "name": "stdout",
     "output_type": "stream",
     "text": [
      "  Saved (int8):    tflite_models/normal/int8_quantization/model_5_fold_4.tflite (85.6 KB)\n",
      "  Fold 5:\n"
     ]
    },
    {
     "name": "stderr",
     "output_type": "stream",
     "text": [
      "WARNING:absl:Found untraced functions such as _jit_compiled_convolution_op, _jit_compiled_convolution_op, _update_step_xla while saving (showing 3 of 3). These functions will not be directly callable after loading.\n"
     ]
    },
    {
     "name": "stdout",
     "output_type": "stream",
     "text": [
      "INFO:tensorflow:Assets written to: /tmp/tmpz5y44llk/assets\n"
     ]
    },
    {
     "name": "stderr",
     "output_type": "stream",
     "text": [
      "INFO:tensorflow:Assets written to: /tmp/tmpz5y44llk/assets\n"
     ]
    },
    {
     "name": "stdout",
     "output_type": "stream",
     "text": [
      "  Saved (no quant): tflite_models/normal/no_quantization/model_5_fold_5.tflite (320.6 KB)\n"
     ]
    },
    {
     "name": "stderr",
     "output_type": "stream",
     "text": [
      "WARNING:absl:Found untraced functions such as _jit_compiled_convolution_op, _jit_compiled_convolution_op, _update_step_xla while saving (showing 3 of 3). These functions will not be directly callable after loading.\n"
     ]
    },
    {
     "name": "stdout",
     "output_type": "stream",
     "text": [
      "INFO:tensorflow:Assets written to: /tmp/tmpeyi_ii3r/assets\n"
     ]
    },
    {
     "name": "stderr",
     "output_type": "stream",
     "text": [
      "INFO:tensorflow:Assets written to: /tmp/tmpeyi_ii3r/assets\n",
      "/home/pmedur/strojnoUcenje/env/lib/python3.10/site-packages/tensorflow/lite/python/convert.py:765: UserWarning: Statistics for quantized inputs were expected, but not specified; continuing anyway.\n",
      "  warnings.warn(\"Statistics for quantized inputs were expected, but not \"\n",
      "fully_quantize: 0, inference_type: 6, input_inference_type: INT8, output_inference_type: INT8\n"
     ]
    },
    {
     "name": "stdout",
     "output_type": "stream",
     "text": [
      "  Saved (int8):    tflite_models/normal/int8_quantization/model_5_fold_5.tflite (85.6 KB)\n",
      "  Fold 6:\n"
     ]
    },
    {
     "name": "stderr",
     "output_type": "stream",
     "text": [
      "WARNING:absl:Found untraced functions such as _jit_compiled_convolution_op, _jit_compiled_convolution_op, _update_step_xla while saving (showing 3 of 3). These functions will not be directly callable after loading.\n"
     ]
    },
    {
     "name": "stdout",
     "output_type": "stream",
     "text": [
      "INFO:tensorflow:Assets written to: /tmp/tmpmjb9qls7/assets\n"
     ]
    },
    {
     "name": "stderr",
     "output_type": "stream",
     "text": [
      "INFO:tensorflow:Assets written to: /tmp/tmpmjb9qls7/assets\n"
     ]
    },
    {
     "name": "stdout",
     "output_type": "stream",
     "text": [
      "  Saved (no quant): tflite_models/normal/no_quantization/model_5_fold_6.tflite (320.6 KB)\n"
     ]
    },
    {
     "name": "stderr",
     "output_type": "stream",
     "text": [
      "WARNING:absl:Found untraced functions such as _jit_compiled_convolution_op, _jit_compiled_convolution_op, _update_step_xla while saving (showing 3 of 3). These functions will not be directly callable after loading.\n"
     ]
    },
    {
     "name": "stdout",
     "output_type": "stream",
     "text": [
      "INFO:tensorflow:Assets written to: /tmp/tmp0r4v_h2i/assets\n"
     ]
    },
    {
     "name": "stderr",
     "output_type": "stream",
     "text": [
      "INFO:tensorflow:Assets written to: /tmp/tmp0r4v_h2i/assets\n",
      "/home/pmedur/strojnoUcenje/env/lib/python3.10/site-packages/tensorflow/lite/python/convert.py:765: UserWarning: Statistics for quantized inputs were expected, but not specified; continuing anyway.\n",
      "  warnings.warn(\"Statistics for quantized inputs were expected, but not \"\n",
      "fully_quantize: 0, inference_type: 6, input_inference_type: INT8, output_inference_type: INT8\n"
     ]
    },
    {
     "name": "stdout",
     "output_type": "stream",
     "text": [
      "  Saved (int8):    tflite_models/normal/int8_quantization/model_5_fold_6.tflite (85.6 KB)\n",
      "  Fold 7:\n"
     ]
    },
    {
     "name": "stderr",
     "output_type": "stream",
     "text": [
      "WARNING:absl:Found untraced functions such as _jit_compiled_convolution_op, _jit_compiled_convolution_op, _update_step_xla while saving (showing 3 of 3). These functions will not be directly callable after loading.\n"
     ]
    },
    {
     "name": "stdout",
     "output_type": "stream",
     "text": [
      "INFO:tensorflow:Assets written to: /tmp/tmpd70k48u7/assets\n"
     ]
    },
    {
     "name": "stderr",
     "output_type": "stream",
     "text": [
      "INFO:tensorflow:Assets written to: /tmp/tmpd70k48u7/assets\n"
     ]
    },
    {
     "name": "stdout",
     "output_type": "stream",
     "text": [
      "  Saved (no quant): tflite_models/normal/no_quantization/model_5_fold_7.tflite (320.6 KB)\n"
     ]
    },
    {
     "name": "stderr",
     "output_type": "stream",
     "text": [
      "WARNING:absl:Found untraced functions such as _jit_compiled_convolution_op, _jit_compiled_convolution_op, _update_step_xla while saving (showing 3 of 3). These functions will not be directly callable after loading.\n"
     ]
    },
    {
     "name": "stdout",
     "output_type": "stream",
     "text": [
      "INFO:tensorflow:Assets written to: /tmp/tmpcj8m060x/assets\n"
     ]
    },
    {
     "name": "stderr",
     "output_type": "stream",
     "text": [
      "INFO:tensorflow:Assets written to: /tmp/tmpcj8m060x/assets\n",
      "/home/pmedur/strojnoUcenje/env/lib/python3.10/site-packages/tensorflow/lite/python/convert.py:765: UserWarning: Statistics for quantized inputs were expected, but not specified; continuing anyway.\n",
      "  warnings.warn(\"Statistics for quantized inputs were expected, but not \"\n",
      "fully_quantize: 0, inference_type: 6, input_inference_type: INT8, output_inference_type: INT8\n"
     ]
    },
    {
     "name": "stdout",
     "output_type": "stream",
     "text": [
      "  Saved (int8):    tflite_models/normal/int8_quantization/model_5_fold_7.tflite (85.6 KB)\n",
      "  Fold 8:\n"
     ]
    },
    {
     "name": "stderr",
     "output_type": "stream",
     "text": [
      "WARNING:absl:Found untraced functions such as _jit_compiled_convolution_op, _jit_compiled_convolution_op, _update_step_xla while saving (showing 3 of 3). These functions will not be directly callable after loading.\n"
     ]
    },
    {
     "name": "stdout",
     "output_type": "stream",
     "text": [
      "INFO:tensorflow:Assets written to: /tmp/tmpkru0u1u9/assets\n"
     ]
    },
    {
     "name": "stderr",
     "output_type": "stream",
     "text": [
      "INFO:tensorflow:Assets written to: /tmp/tmpkru0u1u9/assets\n"
     ]
    },
    {
     "name": "stdout",
     "output_type": "stream",
     "text": [
      "  Saved (no quant): tflite_models/normal/no_quantization/model_5_fold_8.tflite (320.6 KB)\n"
     ]
    },
    {
     "name": "stderr",
     "output_type": "stream",
     "text": [
      "WARNING:absl:Found untraced functions such as _jit_compiled_convolution_op, _jit_compiled_convolution_op, _update_step_xla while saving (showing 3 of 3). These functions will not be directly callable after loading.\n"
     ]
    },
    {
     "name": "stdout",
     "output_type": "stream",
     "text": [
      "INFO:tensorflow:Assets written to: /tmp/tmpxyoijcd8/assets\n"
     ]
    },
    {
     "name": "stderr",
     "output_type": "stream",
     "text": [
      "INFO:tensorflow:Assets written to: /tmp/tmpxyoijcd8/assets\n",
      "/home/pmedur/strojnoUcenje/env/lib/python3.10/site-packages/tensorflow/lite/python/convert.py:765: UserWarning: Statistics for quantized inputs were expected, but not specified; continuing anyway.\n",
      "  warnings.warn(\"Statistics for quantized inputs were expected, but not \"\n",
      "fully_quantize: 0, inference_type: 6, input_inference_type: INT8, output_inference_type: INT8\n"
     ]
    },
    {
     "name": "stdout",
     "output_type": "stream",
     "text": [
      "  Saved (int8):    tflite_models/normal/int8_quantization/model_5_fold_8.tflite (85.6 KB)\n",
      "  Fold 9:\n"
     ]
    },
    {
     "name": "stderr",
     "output_type": "stream",
     "text": [
      "WARNING:absl:Found untraced functions such as _jit_compiled_convolution_op, _jit_compiled_convolution_op, _update_step_xla while saving (showing 3 of 3). These functions will not be directly callable after loading.\n"
     ]
    },
    {
     "name": "stdout",
     "output_type": "stream",
     "text": [
      "INFO:tensorflow:Assets written to: /tmp/tmpuwymampm/assets\n"
     ]
    },
    {
     "name": "stderr",
     "output_type": "stream",
     "text": [
      "INFO:tensorflow:Assets written to: /tmp/tmpuwymampm/assets\n"
     ]
    },
    {
     "name": "stdout",
     "output_type": "stream",
     "text": [
      "  Saved (no quant): tflite_models/normal/no_quantization/model_5_fold_9.tflite (320.6 KB)\n"
     ]
    },
    {
     "name": "stderr",
     "output_type": "stream",
     "text": [
      "WARNING:absl:Found untraced functions such as _jit_compiled_convolution_op, _jit_compiled_convolution_op, _update_step_xla while saving (showing 3 of 3). These functions will not be directly callable after loading.\n"
     ]
    },
    {
     "name": "stdout",
     "output_type": "stream",
     "text": [
      "INFO:tensorflow:Assets written to: /tmp/tmp4gq9985i/assets\n"
     ]
    },
    {
     "name": "stderr",
     "output_type": "stream",
     "text": [
      "INFO:tensorflow:Assets written to: /tmp/tmp4gq9985i/assets\n",
      "/home/pmedur/strojnoUcenje/env/lib/python3.10/site-packages/tensorflow/lite/python/convert.py:765: UserWarning: Statistics for quantized inputs were expected, but not specified; continuing anyway.\n",
      "  warnings.warn(\"Statistics for quantized inputs were expected, but not \"\n",
      "fully_quantize: 0, inference_type: 6, input_inference_type: INT8, output_inference_type: INT8\n"
     ]
    },
    {
     "name": "stdout",
     "output_type": "stream",
     "text": [
      "  Saved (int8):    tflite_models/normal/int8_quantization/model_5_fold_9.tflite (85.6 KB)\n",
      "  Fold 10:\n"
     ]
    },
    {
     "name": "stderr",
     "output_type": "stream",
     "text": [
      "WARNING:absl:Found untraced functions such as _jit_compiled_convolution_op, _jit_compiled_convolution_op, _update_step_xla while saving (showing 3 of 3). These functions will not be directly callable after loading.\n"
     ]
    },
    {
     "name": "stdout",
     "output_type": "stream",
     "text": [
      "INFO:tensorflow:Assets written to: /tmp/tmpwnjebo74/assets\n"
     ]
    },
    {
     "name": "stderr",
     "output_type": "stream",
     "text": [
      "INFO:tensorflow:Assets written to: /tmp/tmpwnjebo74/assets\n"
     ]
    },
    {
     "name": "stdout",
     "output_type": "stream",
     "text": [
      "  Saved (no quant): tflite_models/normal/no_quantization/model_5_fold_10.tflite (320.6 KB)\n"
     ]
    },
    {
     "name": "stderr",
     "output_type": "stream",
     "text": [
      "WARNING:absl:Found untraced functions such as _jit_compiled_convolution_op, _jit_compiled_convolution_op, _update_step_xla while saving (showing 3 of 3). These functions will not be directly callable after loading.\n"
     ]
    },
    {
     "name": "stdout",
     "output_type": "stream",
     "text": [
      "INFO:tensorflow:Assets written to: /tmp/tmpg66t9meb/assets\n"
     ]
    },
    {
     "name": "stderr",
     "output_type": "stream",
     "text": [
      "INFO:tensorflow:Assets written to: /tmp/tmpg66t9meb/assets\n",
      "/home/pmedur/strojnoUcenje/env/lib/python3.10/site-packages/tensorflow/lite/python/convert.py:765: UserWarning: Statistics for quantized inputs were expected, but not specified; continuing anyway.\n",
      "  warnings.warn(\"Statistics for quantized inputs were expected, but not \"\n",
      "fully_quantize: 0, inference_type: 6, input_inference_type: INT8, output_inference_type: INT8\n"
     ]
    },
    {
     "name": "stdout",
     "output_type": "stream",
     "text": [
      "  Saved (int8):    tflite_models/normal/int8_quantization/model_5_fold_10.tflite (85.6 KB)\n",
      "\n",
      "model_6:\n",
      "  Fold 1:\n"
     ]
    },
    {
     "name": "stderr",
     "output_type": "stream",
     "text": [
      "WARNING:absl:Found untraced functions such as _jit_compiled_convolution_op, _jit_compiled_convolution_op, _update_step_xla while saving (showing 3 of 3). These functions will not be directly callable after loading.\n"
     ]
    },
    {
     "name": "stdout",
     "output_type": "stream",
     "text": [
      "INFO:tensorflow:Assets written to: /tmp/tmpfr2ncrou/assets\n"
     ]
    },
    {
     "name": "stderr",
     "output_type": "stream",
     "text": [
      "INFO:tensorflow:Assets written to: /tmp/tmpfr2ncrou/assets\n"
     ]
    },
    {
     "name": "stdout",
     "output_type": "stream",
     "text": [
      "  Saved (no quant): tflite_models/normal/no_quantization/model_6_fold_1.tflite (617.8 KB)\n"
     ]
    },
    {
     "name": "stderr",
     "output_type": "stream",
     "text": [
      "WARNING:absl:Found untraced functions such as _jit_compiled_convolution_op, _jit_compiled_convolution_op, _update_step_xla while saving (showing 3 of 3). These functions will not be directly callable after loading.\n"
     ]
    },
    {
     "name": "stdout",
     "output_type": "stream",
     "text": [
      "INFO:tensorflow:Assets written to: /tmp/tmpuc56s647/assets\n"
     ]
    },
    {
     "name": "stderr",
     "output_type": "stream",
     "text": [
      "INFO:tensorflow:Assets written to: /tmp/tmpuc56s647/assets\n",
      "/home/pmedur/strojnoUcenje/env/lib/python3.10/site-packages/tensorflow/lite/python/convert.py:765: UserWarning: Statistics for quantized inputs were expected, but not specified; continuing anyway.\n",
      "  warnings.warn(\"Statistics for quantized inputs were expected, but not \"\n",
      "fully_quantize: 0, inference_type: 6, input_inference_type: INT8, output_inference_type: INT8\n"
     ]
    },
    {
     "name": "stdout",
     "output_type": "stream",
     "text": [
      "  Saved (int8):    tflite_models/normal/int8_quantization/model_6_fold_1.tflite (160.1 KB)\n",
      "  Fold 2:\n"
     ]
    },
    {
     "name": "stderr",
     "output_type": "stream",
     "text": [
      "WARNING:absl:Found untraced functions such as _jit_compiled_convolution_op, _jit_compiled_convolution_op, _update_step_xla while saving (showing 3 of 3). These functions will not be directly callable after loading.\n"
     ]
    },
    {
     "name": "stdout",
     "output_type": "stream",
     "text": [
      "INFO:tensorflow:Assets written to: /tmp/tmp46a4inbc/assets\n"
     ]
    },
    {
     "name": "stderr",
     "output_type": "stream",
     "text": [
      "INFO:tensorflow:Assets written to: /tmp/tmp46a4inbc/assets\n"
     ]
    },
    {
     "name": "stdout",
     "output_type": "stream",
     "text": [
      "  Saved (no quant): tflite_models/normal/no_quantization/model_6_fold_2.tflite (617.8 KB)\n"
     ]
    },
    {
     "name": "stderr",
     "output_type": "stream",
     "text": [
      "WARNING:absl:Found untraced functions such as _jit_compiled_convolution_op, _jit_compiled_convolution_op, _update_step_xla while saving (showing 3 of 3). These functions will not be directly callable after loading.\n"
     ]
    },
    {
     "name": "stdout",
     "output_type": "stream",
     "text": [
      "INFO:tensorflow:Assets written to: /tmp/tmpzlczc80u/assets\n"
     ]
    },
    {
     "name": "stderr",
     "output_type": "stream",
     "text": [
      "INFO:tensorflow:Assets written to: /tmp/tmpzlczc80u/assets\n",
      "/home/pmedur/strojnoUcenje/env/lib/python3.10/site-packages/tensorflow/lite/python/convert.py:765: UserWarning: Statistics for quantized inputs were expected, but not specified; continuing anyway.\n",
      "  warnings.warn(\"Statistics for quantized inputs were expected, but not \"\n",
      "fully_quantize: 0, inference_type: 6, input_inference_type: INT8, output_inference_type: INT8\n"
     ]
    },
    {
     "name": "stdout",
     "output_type": "stream",
     "text": [
      "  Saved (int8):    tflite_models/normal/int8_quantization/model_6_fold_2.tflite (160.1 KB)\n",
      "  Fold 3:\n"
     ]
    },
    {
     "name": "stderr",
     "output_type": "stream",
     "text": [
      "WARNING:absl:Found untraced functions such as _jit_compiled_convolution_op, _jit_compiled_convolution_op, _update_step_xla while saving (showing 3 of 3). These functions will not be directly callable after loading.\n"
     ]
    },
    {
     "name": "stdout",
     "output_type": "stream",
     "text": [
      "INFO:tensorflow:Assets written to: /tmp/tmpy7rp_2dt/assets\n"
     ]
    },
    {
     "name": "stderr",
     "output_type": "stream",
     "text": [
      "INFO:tensorflow:Assets written to: /tmp/tmpy7rp_2dt/assets\n"
     ]
    },
    {
     "name": "stdout",
     "output_type": "stream",
     "text": [
      "  Saved (no quant): tflite_models/normal/no_quantization/model_6_fold_3.tflite (617.8 KB)\n"
     ]
    },
    {
     "name": "stderr",
     "output_type": "stream",
     "text": [
      "WARNING:absl:Found untraced functions such as _jit_compiled_convolution_op, _jit_compiled_convolution_op, _update_step_xla while saving (showing 3 of 3). These functions will not be directly callable after loading.\n"
     ]
    },
    {
     "name": "stdout",
     "output_type": "stream",
     "text": [
      "INFO:tensorflow:Assets written to: /tmp/tmpm_4c8zda/assets\n"
     ]
    },
    {
     "name": "stderr",
     "output_type": "stream",
     "text": [
      "INFO:tensorflow:Assets written to: /tmp/tmpm_4c8zda/assets\n",
      "/home/pmedur/strojnoUcenje/env/lib/python3.10/site-packages/tensorflow/lite/python/convert.py:765: UserWarning: Statistics for quantized inputs were expected, but not specified; continuing anyway.\n",
      "  warnings.warn(\"Statistics for quantized inputs were expected, but not \"\n",
      "fully_quantize: 0, inference_type: 6, input_inference_type: INT8, output_inference_type: INT8\n"
     ]
    },
    {
     "name": "stdout",
     "output_type": "stream",
     "text": [
      "  Saved (int8):    tflite_models/normal/int8_quantization/model_6_fold_3.tflite (160.1 KB)\n",
      "  Fold 4:\n"
     ]
    },
    {
     "name": "stderr",
     "output_type": "stream",
     "text": [
      "WARNING:absl:Found untraced functions such as _jit_compiled_convolution_op, _jit_compiled_convolution_op, _update_step_xla while saving (showing 3 of 3). These functions will not be directly callable after loading.\n"
     ]
    },
    {
     "name": "stdout",
     "output_type": "stream",
     "text": [
      "INFO:tensorflow:Assets written to: /tmp/tmpzfg69jyq/assets\n"
     ]
    },
    {
     "name": "stderr",
     "output_type": "stream",
     "text": [
      "INFO:tensorflow:Assets written to: /tmp/tmpzfg69jyq/assets\n"
     ]
    },
    {
     "name": "stdout",
     "output_type": "stream",
     "text": [
      "  Saved (no quant): tflite_models/normal/no_quantization/model_6_fold_4.tflite (617.8 KB)\n"
     ]
    },
    {
     "name": "stderr",
     "output_type": "stream",
     "text": [
      "WARNING:absl:Found untraced functions such as _jit_compiled_convolution_op, _jit_compiled_convolution_op, _update_step_xla while saving (showing 3 of 3). These functions will not be directly callable after loading.\n"
     ]
    },
    {
     "name": "stdout",
     "output_type": "stream",
     "text": [
      "INFO:tensorflow:Assets written to: /tmp/tmp602ojj5_/assets\n"
     ]
    },
    {
     "name": "stderr",
     "output_type": "stream",
     "text": [
      "INFO:tensorflow:Assets written to: /tmp/tmp602ojj5_/assets\n",
      "/home/pmedur/strojnoUcenje/env/lib/python3.10/site-packages/tensorflow/lite/python/convert.py:765: UserWarning: Statistics for quantized inputs were expected, but not specified; continuing anyway.\n",
      "  warnings.warn(\"Statistics for quantized inputs were expected, but not \"\n",
      "fully_quantize: 0, inference_type: 6, input_inference_type: INT8, output_inference_type: INT8\n"
     ]
    },
    {
     "name": "stdout",
     "output_type": "stream",
     "text": [
      "  Saved (int8):    tflite_models/normal/int8_quantization/model_6_fold_4.tflite (160.1 KB)\n",
      "  Fold 5:\n"
     ]
    },
    {
     "name": "stderr",
     "output_type": "stream",
     "text": [
      "WARNING:absl:Found untraced functions such as _jit_compiled_convolution_op, _jit_compiled_convolution_op, _update_step_xla while saving (showing 3 of 3). These functions will not be directly callable after loading.\n"
     ]
    },
    {
     "name": "stdout",
     "output_type": "stream",
     "text": [
      "INFO:tensorflow:Assets written to: /tmp/tmpmgetkhho/assets\n"
     ]
    },
    {
     "name": "stderr",
     "output_type": "stream",
     "text": [
      "INFO:tensorflow:Assets written to: /tmp/tmpmgetkhho/assets\n"
     ]
    },
    {
     "name": "stdout",
     "output_type": "stream",
     "text": [
      "  Saved (no quant): tflite_models/normal/no_quantization/model_6_fold_5.tflite (617.8 KB)\n"
     ]
    },
    {
     "name": "stderr",
     "output_type": "stream",
     "text": [
      "WARNING:absl:Found untraced functions such as _jit_compiled_convolution_op, _jit_compiled_convolution_op, _update_step_xla while saving (showing 3 of 3). These functions will not be directly callable after loading.\n"
     ]
    },
    {
     "name": "stdout",
     "output_type": "stream",
     "text": [
      "INFO:tensorflow:Assets written to: /tmp/tmpawkfiw_6/assets\n"
     ]
    },
    {
     "name": "stderr",
     "output_type": "stream",
     "text": [
      "INFO:tensorflow:Assets written to: /tmp/tmpawkfiw_6/assets\n",
      "/home/pmedur/strojnoUcenje/env/lib/python3.10/site-packages/tensorflow/lite/python/convert.py:765: UserWarning: Statistics for quantized inputs were expected, but not specified; continuing anyway.\n",
      "  warnings.warn(\"Statistics for quantized inputs were expected, but not \"\n",
      "fully_quantize: 0, inference_type: 6, input_inference_type: INT8, output_inference_type: INT8\n"
     ]
    },
    {
     "name": "stdout",
     "output_type": "stream",
     "text": [
      "  Saved (int8):    tflite_models/normal/int8_quantization/model_6_fold_5.tflite (160.1 KB)\n",
      "  Fold 6:\n"
     ]
    },
    {
     "name": "stderr",
     "output_type": "stream",
     "text": [
      "WARNING:absl:Found untraced functions such as _jit_compiled_convolution_op, _jit_compiled_convolution_op, _update_step_xla while saving (showing 3 of 3). These functions will not be directly callable after loading.\n"
     ]
    },
    {
     "name": "stdout",
     "output_type": "stream",
     "text": [
      "INFO:tensorflow:Assets written to: /tmp/tmpyta8a3nh/assets\n"
     ]
    },
    {
     "name": "stderr",
     "output_type": "stream",
     "text": [
      "INFO:tensorflow:Assets written to: /tmp/tmpyta8a3nh/assets\n"
     ]
    },
    {
     "name": "stdout",
     "output_type": "stream",
     "text": [
      "  Saved (no quant): tflite_models/normal/no_quantization/model_6_fold_6.tflite (617.8 KB)\n"
     ]
    },
    {
     "name": "stderr",
     "output_type": "stream",
     "text": [
      "WARNING:absl:Found untraced functions such as _jit_compiled_convolution_op, _jit_compiled_convolution_op, _update_step_xla while saving (showing 3 of 3). These functions will not be directly callable after loading.\n"
     ]
    },
    {
     "name": "stdout",
     "output_type": "stream",
     "text": [
      "INFO:tensorflow:Assets written to: /tmp/tmptuu4csqc/assets\n"
     ]
    },
    {
     "name": "stderr",
     "output_type": "stream",
     "text": [
      "INFO:tensorflow:Assets written to: /tmp/tmptuu4csqc/assets\n",
      "/home/pmedur/strojnoUcenje/env/lib/python3.10/site-packages/tensorflow/lite/python/convert.py:765: UserWarning: Statistics for quantized inputs were expected, but not specified; continuing anyway.\n",
      "  warnings.warn(\"Statistics for quantized inputs were expected, but not \"\n",
      "fully_quantize: 0, inference_type: 6, input_inference_type: INT8, output_inference_type: INT8\n"
     ]
    },
    {
     "name": "stdout",
     "output_type": "stream",
     "text": [
      "  Saved (int8):    tflite_models/normal/int8_quantization/model_6_fold_6.tflite (160.1 KB)\n",
      "  Fold 7:\n"
     ]
    },
    {
     "name": "stderr",
     "output_type": "stream",
     "text": [
      "WARNING:absl:Found untraced functions such as _jit_compiled_convolution_op, _jit_compiled_convolution_op, _update_step_xla while saving (showing 3 of 3). These functions will not be directly callable after loading.\n"
     ]
    },
    {
     "name": "stdout",
     "output_type": "stream",
     "text": [
      "INFO:tensorflow:Assets written to: /tmp/tmpsvpl51nq/assets\n"
     ]
    },
    {
     "name": "stderr",
     "output_type": "stream",
     "text": [
      "INFO:tensorflow:Assets written to: /tmp/tmpsvpl51nq/assets\n"
     ]
    },
    {
     "name": "stdout",
     "output_type": "stream",
     "text": [
      "  Saved (no quant): tflite_models/normal/no_quantization/model_6_fold_7.tflite (617.8 KB)\n"
     ]
    },
    {
     "name": "stderr",
     "output_type": "stream",
     "text": [
      "WARNING:absl:Found untraced functions such as _jit_compiled_convolution_op, _jit_compiled_convolution_op, _update_step_xla while saving (showing 3 of 3). These functions will not be directly callable after loading.\n"
     ]
    },
    {
     "name": "stdout",
     "output_type": "stream",
     "text": [
      "INFO:tensorflow:Assets written to: /tmp/tmpdnn2oast/assets\n"
     ]
    },
    {
     "name": "stderr",
     "output_type": "stream",
     "text": [
      "INFO:tensorflow:Assets written to: /tmp/tmpdnn2oast/assets\n",
      "/home/pmedur/strojnoUcenje/env/lib/python3.10/site-packages/tensorflow/lite/python/convert.py:765: UserWarning: Statistics for quantized inputs were expected, but not specified; continuing anyway.\n",
      "  warnings.warn(\"Statistics for quantized inputs were expected, but not \"\n",
      "fully_quantize: 0, inference_type: 6, input_inference_type: INT8, output_inference_type: INT8\n"
     ]
    },
    {
     "name": "stdout",
     "output_type": "stream",
     "text": [
      "  Saved (int8):    tflite_models/normal/int8_quantization/model_6_fold_7.tflite (160.1 KB)\n",
      "  Fold 8:\n"
     ]
    },
    {
     "name": "stderr",
     "output_type": "stream",
     "text": [
      "WARNING:absl:Found untraced functions such as _jit_compiled_convolution_op, _jit_compiled_convolution_op, _update_step_xla while saving (showing 3 of 3). These functions will not be directly callable after loading.\n"
     ]
    },
    {
     "name": "stdout",
     "output_type": "stream",
     "text": [
      "INFO:tensorflow:Assets written to: /tmp/tmpdoef33jq/assets\n"
     ]
    },
    {
     "name": "stderr",
     "output_type": "stream",
     "text": [
      "INFO:tensorflow:Assets written to: /tmp/tmpdoef33jq/assets\n"
     ]
    },
    {
     "name": "stdout",
     "output_type": "stream",
     "text": [
      "  Saved (no quant): tflite_models/normal/no_quantization/model_6_fold_8.tflite (617.8 KB)\n"
     ]
    },
    {
     "name": "stderr",
     "output_type": "stream",
     "text": [
      "WARNING:absl:Found untraced functions such as _jit_compiled_convolution_op, _jit_compiled_convolution_op, _update_step_xla while saving (showing 3 of 3). These functions will not be directly callable after loading.\n"
     ]
    },
    {
     "name": "stdout",
     "output_type": "stream",
     "text": [
      "INFO:tensorflow:Assets written to: /tmp/tmp_aov2zj1/assets\n"
     ]
    },
    {
     "name": "stderr",
     "output_type": "stream",
     "text": [
      "INFO:tensorflow:Assets written to: /tmp/tmp_aov2zj1/assets\n",
      "/home/pmedur/strojnoUcenje/env/lib/python3.10/site-packages/tensorflow/lite/python/convert.py:765: UserWarning: Statistics for quantized inputs were expected, but not specified; continuing anyway.\n",
      "  warnings.warn(\"Statistics for quantized inputs were expected, but not \"\n",
      "fully_quantize: 0, inference_type: 6, input_inference_type: INT8, output_inference_type: INT8\n"
     ]
    },
    {
     "name": "stdout",
     "output_type": "stream",
     "text": [
      "  Saved (int8):    tflite_models/normal/int8_quantization/model_6_fold_8.tflite (160.1 KB)\n",
      "  Fold 9:\n"
     ]
    },
    {
     "name": "stderr",
     "output_type": "stream",
     "text": [
      "WARNING:absl:Found untraced functions such as _jit_compiled_convolution_op, _jit_compiled_convolution_op, _update_step_xla while saving (showing 3 of 3). These functions will not be directly callable after loading.\n"
     ]
    },
    {
     "name": "stdout",
     "output_type": "stream",
     "text": [
      "INFO:tensorflow:Assets written to: /tmp/tmpvpgl9uz_/assets\n"
     ]
    },
    {
     "name": "stderr",
     "output_type": "stream",
     "text": [
      "INFO:tensorflow:Assets written to: /tmp/tmpvpgl9uz_/assets\n"
     ]
    },
    {
     "name": "stdout",
     "output_type": "stream",
     "text": [
      "  Saved (no quant): tflite_models/normal/no_quantization/model_6_fold_9.tflite (617.8 KB)\n"
     ]
    },
    {
     "name": "stderr",
     "output_type": "stream",
     "text": [
      "WARNING:absl:Found untraced functions such as _jit_compiled_convolution_op, _jit_compiled_convolution_op, _update_step_xla while saving (showing 3 of 3). These functions will not be directly callable after loading.\n"
     ]
    },
    {
     "name": "stdout",
     "output_type": "stream",
     "text": [
      "INFO:tensorflow:Assets written to: /tmp/tmpa5ztu31d/assets\n"
     ]
    },
    {
     "name": "stderr",
     "output_type": "stream",
     "text": [
      "INFO:tensorflow:Assets written to: /tmp/tmpa5ztu31d/assets\n",
      "/home/pmedur/strojnoUcenje/env/lib/python3.10/site-packages/tensorflow/lite/python/convert.py:765: UserWarning: Statistics for quantized inputs were expected, but not specified; continuing anyway.\n",
      "  warnings.warn(\"Statistics for quantized inputs were expected, but not \"\n",
      "fully_quantize: 0, inference_type: 6, input_inference_type: INT8, output_inference_type: INT8\n"
     ]
    },
    {
     "name": "stdout",
     "output_type": "stream",
     "text": [
      "  Saved (int8):    tflite_models/normal/int8_quantization/model_6_fold_9.tflite (160.1 KB)\n",
      "  Fold 10:\n"
     ]
    },
    {
     "name": "stderr",
     "output_type": "stream",
     "text": [
      "WARNING:absl:Found untraced functions such as _jit_compiled_convolution_op, _jit_compiled_convolution_op, _update_step_xla while saving (showing 3 of 3). These functions will not be directly callable after loading.\n"
     ]
    },
    {
     "name": "stdout",
     "output_type": "stream",
     "text": [
      "INFO:tensorflow:Assets written to: /tmp/tmpvl2zwtut/assets\n"
     ]
    },
    {
     "name": "stderr",
     "output_type": "stream",
     "text": [
      "INFO:tensorflow:Assets written to: /tmp/tmpvl2zwtut/assets\n"
     ]
    },
    {
     "name": "stdout",
     "output_type": "stream",
     "text": [
      "  Saved (no quant): tflite_models/normal/no_quantization/model_6_fold_10.tflite (617.8 KB)\n"
     ]
    },
    {
     "name": "stderr",
     "output_type": "stream",
     "text": [
      "WARNING:absl:Found untraced functions such as _jit_compiled_convolution_op, _jit_compiled_convolution_op, _update_step_xla while saving (showing 3 of 3). These functions will not be directly callable after loading.\n"
     ]
    },
    {
     "name": "stdout",
     "output_type": "stream",
     "text": [
      "INFO:tensorflow:Assets written to: /tmp/tmpn0ug96n2/assets\n"
     ]
    },
    {
     "name": "stderr",
     "output_type": "stream",
     "text": [
      "INFO:tensorflow:Assets written to: /tmp/tmpn0ug96n2/assets\n",
      "/home/pmedur/strojnoUcenje/env/lib/python3.10/site-packages/tensorflow/lite/python/convert.py:765: UserWarning: Statistics for quantized inputs were expected, but not specified; continuing anyway.\n",
      "  warnings.warn(\"Statistics for quantized inputs were expected, but not \"\n",
      "fully_quantize: 0, inference_type: 6, input_inference_type: INT8, output_inference_type: INT8\n"
     ]
    },
    {
     "name": "stdout",
     "output_type": "stream",
     "text": [
      "  Saved (int8):    tflite_models/normal/int8_quantization/model_6_fold_10.tflite (160.1 KB)\n",
      "\n",
      "model_7:\n",
      "  Fold 1:\n"
     ]
    },
    {
     "name": "stderr",
     "output_type": "stream",
     "text": [
      "WARNING:absl:Found untraced functions such as _jit_compiled_convolution_op, _jit_compiled_convolution_op, _jit_compiled_convolution_op, _update_step_xla while saving (showing 4 of 4). These functions will not be directly callable after loading.\n"
     ]
    },
    {
     "name": "stdout",
     "output_type": "stream",
     "text": [
      "INFO:tensorflow:Assets written to: /tmp/tmpasmdpc6o/assets\n"
     ]
    },
    {
     "name": "stderr",
     "output_type": "stream",
     "text": [
      "INFO:tensorflow:Assets written to: /tmp/tmpasmdpc6o/assets\n"
     ]
    },
    {
     "name": "stdout",
     "output_type": "stream",
     "text": [
      "  Saved (no quant): tflite_models/normal/no_quantization/model_7_fold_1.tflite (2689.6 KB)\n"
     ]
    },
    {
     "name": "stderr",
     "output_type": "stream",
     "text": [
      "WARNING:absl:Found untraced functions such as _jit_compiled_convolution_op, _jit_compiled_convolution_op, _jit_compiled_convolution_op, _update_step_xla while saving (showing 4 of 4). These functions will not be directly callable after loading.\n"
     ]
    },
    {
     "name": "stdout",
     "output_type": "stream",
     "text": [
      "INFO:tensorflow:Assets written to: /tmp/tmpudiq4las/assets\n"
     ]
    },
    {
     "name": "stderr",
     "output_type": "stream",
     "text": [
      "INFO:tensorflow:Assets written to: /tmp/tmpudiq4las/assets\n",
      "/home/pmedur/strojnoUcenje/env/lib/python3.10/site-packages/tensorflow/lite/python/convert.py:765: UserWarning: Statistics for quantized inputs were expected, but not specified; continuing anyway.\n",
      "  warnings.warn(\"Statistics for quantized inputs were expected, but not \"\n",
      "fully_quantize: 0, inference_type: 6, input_inference_type: INT8, output_inference_type: INT8\n"
     ]
    },
    {
     "name": "stdout",
     "output_type": "stream",
     "text": [
      "  Saved (int8):    tflite_models/normal/int8_quantization/model_7_fold_1.tflite (683.1 KB)\n",
      "  Fold 2:\n"
     ]
    },
    {
     "name": "stderr",
     "output_type": "stream",
     "text": [
      "WARNING:absl:Found untraced functions such as _jit_compiled_convolution_op, _jit_compiled_convolution_op, _jit_compiled_convolution_op, _update_step_xla while saving (showing 4 of 4). These functions will not be directly callable after loading.\n"
     ]
    },
    {
     "name": "stdout",
     "output_type": "stream",
     "text": [
      "INFO:tensorflow:Assets written to: /tmp/tmpp9nmca98/assets\n"
     ]
    },
    {
     "name": "stderr",
     "output_type": "stream",
     "text": [
      "INFO:tensorflow:Assets written to: /tmp/tmpp9nmca98/assets\n"
     ]
    },
    {
     "name": "stdout",
     "output_type": "stream",
     "text": [
      "  Saved (no quant): tflite_models/normal/no_quantization/model_7_fold_2.tflite (2689.6 KB)\n"
     ]
    },
    {
     "name": "stderr",
     "output_type": "stream",
     "text": [
      "WARNING:absl:Found untraced functions such as _jit_compiled_convolution_op, _jit_compiled_convolution_op, _jit_compiled_convolution_op, _update_step_xla while saving (showing 4 of 4). These functions will not be directly callable after loading.\n"
     ]
    },
    {
     "name": "stdout",
     "output_type": "stream",
     "text": [
      "INFO:tensorflow:Assets written to: /tmp/tmpqgqi2k27/assets\n"
     ]
    },
    {
     "name": "stderr",
     "output_type": "stream",
     "text": [
      "INFO:tensorflow:Assets written to: /tmp/tmpqgqi2k27/assets\n",
      "/home/pmedur/strojnoUcenje/env/lib/python3.10/site-packages/tensorflow/lite/python/convert.py:765: UserWarning: Statistics for quantized inputs were expected, but not specified; continuing anyway.\n",
      "  warnings.warn(\"Statistics for quantized inputs were expected, but not \"\n",
      "fully_quantize: 0, inference_type: 6, input_inference_type: INT8, output_inference_type: INT8\n"
     ]
    },
    {
     "name": "stdout",
     "output_type": "stream",
     "text": [
      "  Saved (int8):    tflite_models/normal/int8_quantization/model_7_fold_2.tflite (683.1 KB)\n",
      "  Fold 3:\n"
     ]
    },
    {
     "name": "stderr",
     "output_type": "stream",
     "text": [
      "WARNING:absl:Found untraced functions such as _jit_compiled_convolution_op, _jit_compiled_convolution_op, _jit_compiled_convolution_op, _update_step_xla while saving (showing 4 of 4). These functions will not be directly callable after loading.\n"
     ]
    },
    {
     "name": "stdout",
     "output_type": "stream",
     "text": [
      "INFO:tensorflow:Assets written to: /tmp/tmple302_zh/assets\n"
     ]
    },
    {
     "name": "stderr",
     "output_type": "stream",
     "text": [
      "INFO:tensorflow:Assets written to: /tmp/tmple302_zh/assets\n"
     ]
    },
    {
     "name": "stdout",
     "output_type": "stream",
     "text": [
      "  Saved (no quant): tflite_models/normal/no_quantization/model_7_fold_3.tflite (2689.6 KB)\n"
     ]
    },
    {
     "name": "stderr",
     "output_type": "stream",
     "text": [
      "WARNING:absl:Found untraced functions such as _jit_compiled_convolution_op, _jit_compiled_convolution_op, _jit_compiled_convolution_op, _update_step_xla while saving (showing 4 of 4). These functions will not be directly callable after loading.\n"
     ]
    },
    {
     "name": "stdout",
     "output_type": "stream",
     "text": [
      "INFO:tensorflow:Assets written to: /tmp/tmprqb6uonh/assets\n"
     ]
    },
    {
     "name": "stderr",
     "output_type": "stream",
     "text": [
      "INFO:tensorflow:Assets written to: /tmp/tmprqb6uonh/assets\n",
      "/home/pmedur/strojnoUcenje/env/lib/python3.10/site-packages/tensorflow/lite/python/convert.py:765: UserWarning: Statistics for quantized inputs were expected, but not specified; continuing anyway.\n",
      "  warnings.warn(\"Statistics for quantized inputs were expected, but not \"\n",
      "fully_quantize: 0, inference_type: 6, input_inference_type: INT8, output_inference_type: INT8\n"
     ]
    },
    {
     "name": "stdout",
     "output_type": "stream",
     "text": [
      "  Saved (int8):    tflite_models/normal/int8_quantization/model_7_fold_3.tflite (683.1 KB)\n",
      "  Fold 4:\n"
     ]
    },
    {
     "name": "stderr",
     "output_type": "stream",
     "text": [
      "WARNING:absl:Found untraced functions such as _jit_compiled_convolution_op, _jit_compiled_convolution_op, _jit_compiled_convolution_op, _update_step_xla while saving (showing 4 of 4). These functions will not be directly callable after loading.\n"
     ]
    },
    {
     "name": "stdout",
     "output_type": "stream",
     "text": [
      "INFO:tensorflow:Assets written to: /tmp/tmpb42fvjf9/assets\n"
     ]
    },
    {
     "name": "stderr",
     "output_type": "stream",
     "text": [
      "INFO:tensorflow:Assets written to: /tmp/tmpb42fvjf9/assets\n"
     ]
    },
    {
     "name": "stdout",
     "output_type": "stream",
     "text": [
      "  Saved (no quant): tflite_models/normal/no_quantization/model_7_fold_4.tflite (2689.6 KB)\n"
     ]
    },
    {
     "name": "stderr",
     "output_type": "stream",
     "text": [
      "WARNING:absl:Found untraced functions such as _jit_compiled_convolution_op, _jit_compiled_convolution_op, _jit_compiled_convolution_op, _update_step_xla while saving (showing 4 of 4). These functions will not be directly callable after loading.\n"
     ]
    },
    {
     "name": "stdout",
     "output_type": "stream",
     "text": [
      "INFO:tensorflow:Assets written to: /tmp/tmprd_rce1q/assets\n"
     ]
    },
    {
     "name": "stderr",
     "output_type": "stream",
     "text": [
      "INFO:tensorflow:Assets written to: /tmp/tmprd_rce1q/assets\n",
      "/home/pmedur/strojnoUcenje/env/lib/python3.10/site-packages/tensorflow/lite/python/convert.py:765: UserWarning: Statistics for quantized inputs were expected, but not specified; continuing anyway.\n",
      "  warnings.warn(\"Statistics for quantized inputs were expected, but not \"\n",
      "fully_quantize: 0, inference_type: 6, input_inference_type: INT8, output_inference_type: INT8\n"
     ]
    },
    {
     "name": "stdout",
     "output_type": "stream",
     "text": [
      "  Saved (int8):    tflite_models/normal/int8_quantization/model_7_fold_4.tflite (683.1 KB)\n",
      "  Fold 5:\n"
     ]
    },
    {
     "name": "stderr",
     "output_type": "stream",
     "text": [
      "WARNING:absl:Found untraced functions such as _jit_compiled_convolution_op, _jit_compiled_convolution_op, _jit_compiled_convolution_op, _update_step_xla while saving (showing 4 of 4). These functions will not be directly callable after loading.\n"
     ]
    },
    {
     "name": "stdout",
     "output_type": "stream",
     "text": [
      "INFO:tensorflow:Assets written to: /tmp/tmpgnge7brt/assets\n"
     ]
    },
    {
     "name": "stderr",
     "output_type": "stream",
     "text": [
      "INFO:tensorflow:Assets written to: /tmp/tmpgnge7brt/assets\n"
     ]
    },
    {
     "name": "stdout",
     "output_type": "stream",
     "text": [
      "  Saved (no quant): tflite_models/normal/no_quantization/model_7_fold_5.tflite (2689.6 KB)\n"
     ]
    },
    {
     "name": "stderr",
     "output_type": "stream",
     "text": [
      "WARNING:absl:Found untraced functions such as _jit_compiled_convolution_op, _jit_compiled_convolution_op, _jit_compiled_convolution_op, _update_step_xla while saving (showing 4 of 4). These functions will not be directly callable after loading.\n"
     ]
    },
    {
     "name": "stdout",
     "output_type": "stream",
     "text": [
      "INFO:tensorflow:Assets written to: /tmp/tmpynvh3efv/assets\n"
     ]
    },
    {
     "name": "stderr",
     "output_type": "stream",
     "text": [
      "INFO:tensorflow:Assets written to: /tmp/tmpynvh3efv/assets\n",
      "/home/pmedur/strojnoUcenje/env/lib/python3.10/site-packages/tensorflow/lite/python/convert.py:765: UserWarning: Statistics for quantized inputs were expected, but not specified; continuing anyway.\n",
      "  warnings.warn(\"Statistics for quantized inputs were expected, but not \"\n",
      "fully_quantize: 0, inference_type: 6, input_inference_type: INT8, output_inference_type: INT8\n"
     ]
    },
    {
     "name": "stdout",
     "output_type": "stream",
     "text": [
      "  Saved (int8):    tflite_models/normal/int8_quantization/model_7_fold_5.tflite (683.1 KB)\n",
      "  Fold 6:\n"
     ]
    },
    {
     "name": "stderr",
     "output_type": "stream",
     "text": [
      "WARNING:absl:Found untraced functions such as _jit_compiled_convolution_op, _jit_compiled_convolution_op, _jit_compiled_convolution_op, _update_step_xla while saving (showing 4 of 4). These functions will not be directly callable after loading.\n"
     ]
    },
    {
     "name": "stdout",
     "output_type": "stream",
     "text": [
      "INFO:tensorflow:Assets written to: /tmp/tmpg0gf4m62/assets\n"
     ]
    },
    {
     "name": "stderr",
     "output_type": "stream",
     "text": [
      "INFO:tensorflow:Assets written to: /tmp/tmpg0gf4m62/assets\n"
     ]
    },
    {
     "name": "stdout",
     "output_type": "stream",
     "text": [
      "  Saved (no quant): tflite_models/normal/no_quantization/model_7_fold_6.tflite (2689.6 KB)\n"
     ]
    },
    {
     "name": "stderr",
     "output_type": "stream",
     "text": [
      "WARNING:absl:Found untraced functions such as _jit_compiled_convolution_op, _jit_compiled_convolution_op, _jit_compiled_convolution_op, _update_step_xla while saving (showing 4 of 4). These functions will not be directly callable after loading.\n"
     ]
    },
    {
     "name": "stdout",
     "output_type": "stream",
     "text": [
      "INFO:tensorflow:Assets written to: /tmp/tmpf5i4lij1/assets\n"
     ]
    },
    {
     "name": "stderr",
     "output_type": "stream",
     "text": [
      "INFO:tensorflow:Assets written to: /tmp/tmpf5i4lij1/assets\n",
      "/home/pmedur/strojnoUcenje/env/lib/python3.10/site-packages/tensorflow/lite/python/convert.py:765: UserWarning: Statistics for quantized inputs were expected, but not specified; continuing anyway.\n",
      "  warnings.warn(\"Statistics for quantized inputs were expected, but not \"\n",
      "fully_quantize: 0, inference_type: 6, input_inference_type: INT8, output_inference_type: INT8\n"
     ]
    },
    {
     "name": "stdout",
     "output_type": "stream",
     "text": [
      "  Saved (int8):    tflite_models/normal/int8_quantization/model_7_fold_6.tflite (683.1 KB)\n",
      "  Fold 7:\n"
     ]
    },
    {
     "name": "stderr",
     "output_type": "stream",
     "text": [
      "WARNING:absl:Found untraced functions such as _jit_compiled_convolution_op, _jit_compiled_convolution_op, _jit_compiled_convolution_op, _update_step_xla while saving (showing 4 of 4). These functions will not be directly callable after loading.\n"
     ]
    },
    {
     "name": "stdout",
     "output_type": "stream",
     "text": [
      "INFO:tensorflow:Assets written to: /tmp/tmpkadfd8sl/assets\n"
     ]
    },
    {
     "name": "stderr",
     "output_type": "stream",
     "text": [
      "INFO:tensorflow:Assets written to: /tmp/tmpkadfd8sl/assets\n"
     ]
    },
    {
     "name": "stdout",
     "output_type": "stream",
     "text": [
      "  Saved (no quant): tflite_models/normal/no_quantization/model_7_fold_7.tflite (2689.6 KB)\n"
     ]
    },
    {
     "name": "stderr",
     "output_type": "stream",
     "text": [
      "WARNING:absl:Found untraced functions such as _jit_compiled_convolution_op, _jit_compiled_convolution_op, _jit_compiled_convolution_op, _update_step_xla while saving (showing 4 of 4). These functions will not be directly callable after loading.\n"
     ]
    },
    {
     "name": "stdout",
     "output_type": "stream",
     "text": [
      "INFO:tensorflow:Assets written to: /tmp/tmpgv2hbw70/assets\n"
     ]
    },
    {
     "name": "stderr",
     "output_type": "stream",
     "text": [
      "INFO:tensorflow:Assets written to: /tmp/tmpgv2hbw70/assets\n",
      "/home/pmedur/strojnoUcenje/env/lib/python3.10/site-packages/tensorflow/lite/python/convert.py:765: UserWarning: Statistics for quantized inputs were expected, but not specified; continuing anyway.\n",
      "  warnings.warn(\"Statistics for quantized inputs were expected, but not \"\n",
      "fully_quantize: 0, inference_type: 6, input_inference_type: INT8, output_inference_type: INT8\n"
     ]
    },
    {
     "name": "stdout",
     "output_type": "stream",
     "text": [
      "  Saved (int8):    tflite_models/normal/int8_quantization/model_7_fold_7.tflite (683.1 KB)\n",
      "  Fold 8:\n"
     ]
    },
    {
     "name": "stderr",
     "output_type": "stream",
     "text": [
      "WARNING:absl:Found untraced functions such as _jit_compiled_convolution_op, _jit_compiled_convolution_op, _jit_compiled_convolution_op, _update_step_xla while saving (showing 4 of 4). These functions will not be directly callable after loading.\n"
     ]
    },
    {
     "name": "stdout",
     "output_type": "stream",
     "text": [
      "INFO:tensorflow:Assets written to: /tmp/tmp65k5hok4/assets\n"
     ]
    },
    {
     "name": "stderr",
     "output_type": "stream",
     "text": [
      "INFO:tensorflow:Assets written to: /tmp/tmp65k5hok4/assets\n"
     ]
    },
    {
     "name": "stdout",
     "output_type": "stream",
     "text": [
      "  Saved (no quant): tflite_models/normal/no_quantization/model_7_fold_8.tflite (2689.6 KB)\n"
     ]
    },
    {
     "name": "stderr",
     "output_type": "stream",
     "text": [
      "WARNING:absl:Found untraced functions such as _jit_compiled_convolution_op, _jit_compiled_convolution_op, _jit_compiled_convolution_op, _update_step_xla while saving (showing 4 of 4). These functions will not be directly callable after loading.\n"
     ]
    },
    {
     "name": "stdout",
     "output_type": "stream",
     "text": [
      "INFO:tensorflow:Assets written to: /tmp/tmptz3h1bw0/assets\n"
     ]
    },
    {
     "name": "stderr",
     "output_type": "stream",
     "text": [
      "INFO:tensorflow:Assets written to: /tmp/tmptz3h1bw0/assets\n",
      "/home/pmedur/strojnoUcenje/env/lib/python3.10/site-packages/tensorflow/lite/python/convert.py:765: UserWarning: Statistics for quantized inputs were expected, but not specified; continuing anyway.\n",
      "  warnings.warn(\"Statistics for quantized inputs were expected, but not \"\n",
      "fully_quantize: 0, inference_type: 6, input_inference_type: INT8, output_inference_type: INT8\n"
     ]
    },
    {
     "name": "stdout",
     "output_type": "stream",
     "text": [
      "  Saved (int8):    tflite_models/normal/int8_quantization/model_7_fold_8.tflite (683.1 KB)\n",
      "  Fold 9:\n"
     ]
    },
    {
     "name": "stderr",
     "output_type": "stream",
     "text": [
      "WARNING:absl:Found untraced functions such as _jit_compiled_convolution_op, _jit_compiled_convolution_op, _jit_compiled_convolution_op, _update_step_xla while saving (showing 4 of 4). These functions will not be directly callable after loading.\n"
     ]
    },
    {
     "name": "stdout",
     "output_type": "stream",
     "text": [
      "INFO:tensorflow:Assets written to: /tmp/tmp_s02dwm5/assets\n"
     ]
    },
    {
     "name": "stderr",
     "output_type": "stream",
     "text": [
      "INFO:tensorflow:Assets written to: /tmp/tmp_s02dwm5/assets\n"
     ]
    },
    {
     "name": "stdout",
     "output_type": "stream",
     "text": [
      "  Saved (no quant): tflite_models/normal/no_quantization/model_7_fold_9.tflite (2689.6 KB)\n"
     ]
    },
    {
     "name": "stderr",
     "output_type": "stream",
     "text": [
      "WARNING:absl:Found untraced functions such as _jit_compiled_convolution_op, _jit_compiled_convolution_op, _jit_compiled_convolution_op, _update_step_xla while saving (showing 4 of 4). These functions will not be directly callable after loading.\n"
     ]
    },
    {
     "name": "stdout",
     "output_type": "stream",
     "text": [
      "INFO:tensorflow:Assets written to: /tmp/tmpf2_ocsye/assets\n"
     ]
    },
    {
     "name": "stderr",
     "output_type": "stream",
     "text": [
      "INFO:tensorflow:Assets written to: /tmp/tmpf2_ocsye/assets\n",
      "/home/pmedur/strojnoUcenje/env/lib/python3.10/site-packages/tensorflow/lite/python/convert.py:765: UserWarning: Statistics for quantized inputs were expected, but not specified; continuing anyway.\n",
      "  warnings.warn(\"Statistics for quantized inputs were expected, but not \"\n",
      "fully_quantize: 0, inference_type: 6, input_inference_type: INT8, output_inference_type: INT8\n"
     ]
    },
    {
     "name": "stdout",
     "output_type": "stream",
     "text": [
      "  Saved (int8):    tflite_models/normal/int8_quantization/model_7_fold_9.tflite (683.1 KB)\n",
      "  Fold 10:\n"
     ]
    },
    {
     "name": "stderr",
     "output_type": "stream",
     "text": [
      "WARNING:absl:Found untraced functions such as _jit_compiled_convolution_op, _jit_compiled_convolution_op, _jit_compiled_convolution_op, _update_step_xla while saving (showing 4 of 4). These functions will not be directly callable after loading.\n"
     ]
    },
    {
     "name": "stdout",
     "output_type": "stream",
     "text": [
      "INFO:tensorflow:Assets written to: /tmp/tmpn508x2s4/assets\n"
     ]
    },
    {
     "name": "stderr",
     "output_type": "stream",
     "text": [
      "INFO:tensorflow:Assets written to: /tmp/tmpn508x2s4/assets\n"
     ]
    },
    {
     "name": "stdout",
     "output_type": "stream",
     "text": [
      "  Saved (no quant): tflite_models/normal/no_quantization/model_7_fold_10.tflite (2689.6 KB)\n"
     ]
    },
    {
     "name": "stderr",
     "output_type": "stream",
     "text": [
      "WARNING:absl:Found untraced functions such as _jit_compiled_convolution_op, _jit_compiled_convolution_op, _jit_compiled_convolution_op, _update_step_xla while saving (showing 4 of 4). These functions will not be directly callable after loading.\n"
     ]
    },
    {
     "name": "stdout",
     "output_type": "stream",
     "text": [
      "INFO:tensorflow:Assets written to: /tmp/tmpum_oj_m8/assets\n"
     ]
    },
    {
     "name": "stderr",
     "output_type": "stream",
     "text": [
      "INFO:tensorflow:Assets written to: /tmp/tmpum_oj_m8/assets\n",
      "/home/pmedur/strojnoUcenje/env/lib/python3.10/site-packages/tensorflow/lite/python/convert.py:765: UserWarning: Statistics for quantized inputs were expected, but not specified; continuing anyway.\n",
      "  warnings.warn(\"Statistics for quantized inputs were expected, but not \"\n",
      "fully_quantize: 0, inference_type: 6, input_inference_type: INT8, output_inference_type: INT8\n"
     ]
    },
    {
     "name": "stdout",
     "output_type": "stream",
     "text": [
      "  Saved (int8):    tflite_models/normal/int8_quantization/model_7_fold_10.tflite (683.1 KB)\n",
      "\n",
      "model_8:\n",
      "  Fold 1:\n"
     ]
    },
    {
     "name": "stderr",
     "output_type": "stream",
     "text": [
      "WARNING:absl:Found untraced functions such as _jit_compiled_convolution_op, _jit_compiled_convolution_op, _update_step_xla while saving (showing 3 of 3). These functions will not be directly callable after loading.\n"
     ]
    },
    {
     "name": "stdout",
     "output_type": "stream",
     "text": [
      "INFO:tensorflow:Assets written to: /tmp/tmpfsmm1qoq/assets\n"
     ]
    },
    {
     "name": "stderr",
     "output_type": "stream",
     "text": [
      "INFO:tensorflow:Assets written to: /tmp/tmpfsmm1qoq/assets\n"
     ]
    },
    {
     "name": "stdout",
     "output_type": "stream",
     "text": [
      "  Saved (no quant): tflite_models/normal/no_quantization/model_8_fold_1.tflite (4940.6 KB)\n"
     ]
    },
    {
     "name": "stderr",
     "output_type": "stream",
     "text": [
      "WARNING:absl:Found untraced functions such as _jit_compiled_convolution_op, _jit_compiled_convolution_op, _update_step_xla while saving (showing 3 of 3). These functions will not be directly callable after loading.\n"
     ]
    },
    {
     "name": "stdout",
     "output_type": "stream",
     "text": [
      "INFO:tensorflow:Assets written to: /tmp/tmp6xj9qpdp/assets\n"
     ]
    },
    {
     "name": "stderr",
     "output_type": "stream",
     "text": [
      "INFO:tensorflow:Assets written to: /tmp/tmp6xj9qpdp/assets\n",
      "/home/pmedur/strojnoUcenje/env/lib/python3.10/site-packages/tensorflow/lite/python/convert.py:765: UserWarning: Statistics for quantized inputs were expected, but not specified; continuing anyway.\n",
      "  warnings.warn(\"Statistics for quantized inputs were expected, but not \"\n",
      "fully_quantize: 0, inference_type: 6, input_inference_type: INT8, output_inference_type: INT8\n"
     ]
    },
    {
     "name": "stdout",
     "output_type": "stream",
     "text": [
      "  Saved (int8):    tflite_models/normal/int8_quantization/model_8_fold_1.tflite (1245.0 KB)\n",
      "  Fold 2:\n"
     ]
    },
    {
     "name": "stderr",
     "output_type": "stream",
     "text": [
      "WARNING:absl:Found untraced functions such as _jit_compiled_convolution_op, _jit_compiled_convolution_op, _update_step_xla while saving (showing 3 of 3). These functions will not be directly callable after loading.\n"
     ]
    },
    {
     "name": "stdout",
     "output_type": "stream",
     "text": [
      "INFO:tensorflow:Assets written to: /tmp/tmpobkyrcrb/assets\n"
     ]
    },
    {
     "name": "stderr",
     "output_type": "stream",
     "text": [
      "INFO:tensorflow:Assets written to: /tmp/tmpobkyrcrb/assets\n"
     ]
    },
    {
     "name": "stdout",
     "output_type": "stream",
     "text": [
      "  Saved (no quant): tflite_models/normal/no_quantization/model_8_fold_2.tflite (4940.6 KB)\n"
     ]
    },
    {
     "name": "stderr",
     "output_type": "stream",
     "text": [
      "WARNING:absl:Found untraced functions such as _jit_compiled_convolution_op, _jit_compiled_convolution_op, _update_step_xla while saving (showing 3 of 3). These functions will not be directly callable after loading.\n"
     ]
    },
    {
     "name": "stdout",
     "output_type": "stream",
     "text": [
      "INFO:tensorflow:Assets written to: /tmp/tmp9pu9gxeo/assets\n"
     ]
    },
    {
     "name": "stderr",
     "output_type": "stream",
     "text": [
      "INFO:tensorflow:Assets written to: /tmp/tmp9pu9gxeo/assets\n",
      "/home/pmedur/strojnoUcenje/env/lib/python3.10/site-packages/tensorflow/lite/python/convert.py:765: UserWarning: Statistics for quantized inputs were expected, but not specified; continuing anyway.\n",
      "  warnings.warn(\"Statistics for quantized inputs were expected, but not \"\n",
      "fully_quantize: 0, inference_type: 6, input_inference_type: INT8, output_inference_type: INT8\n"
     ]
    },
    {
     "name": "stdout",
     "output_type": "stream",
     "text": [
      "  Saved (int8):    tflite_models/normal/int8_quantization/model_8_fold_2.tflite (1245.0 KB)\n",
      "  Fold 3:\n"
     ]
    },
    {
     "name": "stderr",
     "output_type": "stream",
     "text": [
      "WARNING:absl:Found untraced functions such as _jit_compiled_convolution_op, _jit_compiled_convolution_op, _update_step_xla while saving (showing 3 of 3). These functions will not be directly callable after loading.\n"
     ]
    },
    {
     "name": "stdout",
     "output_type": "stream",
     "text": [
      "INFO:tensorflow:Assets written to: /tmp/tmpn93bfbq4/assets\n"
     ]
    },
    {
     "name": "stderr",
     "output_type": "stream",
     "text": [
      "INFO:tensorflow:Assets written to: /tmp/tmpn93bfbq4/assets\n"
     ]
    },
    {
     "name": "stdout",
     "output_type": "stream",
     "text": [
      "  Saved (no quant): tflite_models/normal/no_quantization/model_8_fold_3.tflite (4940.6 KB)\n"
     ]
    },
    {
     "name": "stderr",
     "output_type": "stream",
     "text": [
      "WARNING:absl:Found untraced functions such as _jit_compiled_convolution_op, _jit_compiled_convolution_op, _update_step_xla while saving (showing 3 of 3). These functions will not be directly callable after loading.\n"
     ]
    },
    {
     "name": "stdout",
     "output_type": "stream",
     "text": [
      "INFO:tensorflow:Assets written to: /tmp/tmpu0dj6kix/assets\n"
     ]
    },
    {
     "name": "stderr",
     "output_type": "stream",
     "text": [
      "INFO:tensorflow:Assets written to: /tmp/tmpu0dj6kix/assets\n",
      "/home/pmedur/strojnoUcenje/env/lib/python3.10/site-packages/tensorflow/lite/python/convert.py:765: UserWarning: Statistics for quantized inputs were expected, but not specified; continuing anyway.\n",
      "  warnings.warn(\"Statistics for quantized inputs were expected, but not \"\n",
      "fully_quantize: 0, inference_type: 6, input_inference_type: INT8, output_inference_type: INT8\n"
     ]
    },
    {
     "name": "stdout",
     "output_type": "stream",
     "text": [
      "  Saved (int8):    tflite_models/normal/int8_quantization/model_8_fold_3.tflite (1245.0 KB)\n",
      "  Fold 4:\n"
     ]
    },
    {
     "name": "stderr",
     "output_type": "stream",
     "text": [
      "WARNING:absl:Found untraced functions such as _jit_compiled_convolution_op, _jit_compiled_convolution_op, _update_step_xla while saving (showing 3 of 3). These functions will not be directly callable after loading.\n"
     ]
    },
    {
     "name": "stdout",
     "output_type": "stream",
     "text": [
      "INFO:tensorflow:Assets written to: /tmp/tmpe_uhpgfj/assets\n"
     ]
    },
    {
     "name": "stderr",
     "output_type": "stream",
     "text": [
      "INFO:tensorflow:Assets written to: /tmp/tmpe_uhpgfj/assets\n"
     ]
    },
    {
     "name": "stdout",
     "output_type": "stream",
     "text": [
      "  Saved (no quant): tflite_models/normal/no_quantization/model_8_fold_4.tflite (4940.6 KB)\n"
     ]
    },
    {
     "name": "stderr",
     "output_type": "stream",
     "text": [
      "WARNING:absl:Found untraced functions such as _jit_compiled_convolution_op, _jit_compiled_convolution_op, _update_step_xla while saving (showing 3 of 3). These functions will not be directly callable after loading.\n"
     ]
    },
    {
     "name": "stdout",
     "output_type": "stream",
     "text": [
      "INFO:tensorflow:Assets written to: /tmp/tmpyuovk5k2/assets\n"
     ]
    },
    {
     "name": "stderr",
     "output_type": "stream",
     "text": [
      "INFO:tensorflow:Assets written to: /tmp/tmpyuovk5k2/assets\n",
      "/home/pmedur/strojnoUcenje/env/lib/python3.10/site-packages/tensorflow/lite/python/convert.py:765: UserWarning: Statistics for quantized inputs were expected, but not specified; continuing anyway.\n",
      "  warnings.warn(\"Statistics for quantized inputs were expected, but not \"\n",
      "fully_quantize: 0, inference_type: 6, input_inference_type: INT8, output_inference_type: INT8\n"
     ]
    },
    {
     "name": "stdout",
     "output_type": "stream",
     "text": [
      "  Saved (int8):    tflite_models/normal/int8_quantization/model_8_fold_4.tflite (1245.0 KB)\n",
      "  Fold 5:\n"
     ]
    },
    {
     "name": "stderr",
     "output_type": "stream",
     "text": [
      "WARNING:absl:Found untraced functions such as _jit_compiled_convolution_op, _jit_compiled_convolution_op, _update_step_xla while saving (showing 3 of 3). These functions will not be directly callable after loading.\n"
     ]
    },
    {
     "name": "stdout",
     "output_type": "stream",
     "text": [
      "INFO:tensorflow:Assets written to: /tmp/tmp_kq7u10x/assets\n"
     ]
    },
    {
     "name": "stderr",
     "output_type": "stream",
     "text": [
      "INFO:tensorflow:Assets written to: /tmp/tmp_kq7u10x/assets\n"
     ]
    },
    {
     "name": "stdout",
     "output_type": "stream",
     "text": [
      "  Saved (no quant): tflite_models/normal/no_quantization/model_8_fold_5.tflite (4940.6 KB)\n"
     ]
    },
    {
     "name": "stderr",
     "output_type": "stream",
     "text": [
      "WARNING:absl:Found untraced functions such as _jit_compiled_convolution_op, _jit_compiled_convolution_op, _update_step_xla while saving (showing 3 of 3). These functions will not be directly callable after loading.\n"
     ]
    },
    {
     "name": "stdout",
     "output_type": "stream",
     "text": [
      "INFO:tensorflow:Assets written to: /tmp/tmp5kr009sm/assets\n"
     ]
    },
    {
     "name": "stderr",
     "output_type": "stream",
     "text": [
      "INFO:tensorflow:Assets written to: /tmp/tmp5kr009sm/assets\n",
      "/home/pmedur/strojnoUcenje/env/lib/python3.10/site-packages/tensorflow/lite/python/convert.py:765: UserWarning: Statistics for quantized inputs were expected, but not specified; continuing anyway.\n",
      "  warnings.warn(\"Statistics for quantized inputs were expected, but not \"\n",
      "fully_quantize: 0, inference_type: 6, input_inference_type: INT8, output_inference_type: INT8\n"
     ]
    },
    {
     "name": "stdout",
     "output_type": "stream",
     "text": [
      "  Saved (int8):    tflite_models/normal/int8_quantization/model_8_fold_5.tflite (1245.0 KB)\n",
      "  Fold 6:\n"
     ]
    },
    {
     "name": "stderr",
     "output_type": "stream",
     "text": [
      "WARNING:absl:Found untraced functions such as _jit_compiled_convolution_op, _jit_compiled_convolution_op, _update_step_xla while saving (showing 3 of 3). These functions will not be directly callable after loading.\n"
     ]
    },
    {
     "name": "stdout",
     "output_type": "stream",
     "text": [
      "INFO:tensorflow:Assets written to: /tmp/tmpb8eqgi98/assets\n"
     ]
    },
    {
     "name": "stderr",
     "output_type": "stream",
     "text": [
      "INFO:tensorflow:Assets written to: /tmp/tmpb8eqgi98/assets\n"
     ]
    },
    {
     "name": "stdout",
     "output_type": "stream",
     "text": [
      "  Saved (no quant): tflite_models/normal/no_quantization/model_8_fold_6.tflite (4940.6 KB)\n"
     ]
    },
    {
     "name": "stderr",
     "output_type": "stream",
     "text": [
      "WARNING:absl:Found untraced functions such as _jit_compiled_convolution_op, _jit_compiled_convolution_op, _update_step_xla while saving (showing 3 of 3). These functions will not be directly callable after loading.\n"
     ]
    },
    {
     "name": "stdout",
     "output_type": "stream",
     "text": [
      "INFO:tensorflow:Assets written to: /tmp/tmp8mngjs2m/assets\n"
     ]
    },
    {
     "name": "stderr",
     "output_type": "stream",
     "text": [
      "INFO:tensorflow:Assets written to: /tmp/tmp8mngjs2m/assets\n",
      "/home/pmedur/strojnoUcenje/env/lib/python3.10/site-packages/tensorflow/lite/python/convert.py:765: UserWarning: Statistics for quantized inputs were expected, but not specified; continuing anyway.\n",
      "  warnings.warn(\"Statistics for quantized inputs were expected, but not \"\n",
      "fully_quantize: 0, inference_type: 6, input_inference_type: INT8, output_inference_type: INT8\n"
     ]
    },
    {
     "name": "stdout",
     "output_type": "stream",
     "text": [
      "  Saved (int8):    tflite_models/normal/int8_quantization/model_8_fold_6.tflite (1245.0 KB)\n",
      "  Fold 7:\n"
     ]
    },
    {
     "name": "stderr",
     "output_type": "stream",
     "text": [
      "WARNING:absl:Found untraced functions such as _jit_compiled_convolution_op, _jit_compiled_convolution_op, _update_step_xla while saving (showing 3 of 3). These functions will not be directly callable after loading.\n"
     ]
    },
    {
     "name": "stdout",
     "output_type": "stream",
     "text": [
      "INFO:tensorflow:Assets written to: /tmp/tmp7bgoqiy7/assets\n"
     ]
    },
    {
     "name": "stderr",
     "output_type": "stream",
     "text": [
      "INFO:tensorflow:Assets written to: /tmp/tmp7bgoqiy7/assets\n"
     ]
    },
    {
     "name": "stdout",
     "output_type": "stream",
     "text": [
      "  Saved (no quant): tflite_models/normal/no_quantization/model_8_fold_7.tflite (4940.6 KB)\n"
     ]
    },
    {
     "name": "stderr",
     "output_type": "stream",
     "text": [
      "WARNING:absl:Found untraced functions such as _jit_compiled_convolution_op, _jit_compiled_convolution_op, _update_step_xla while saving (showing 3 of 3). These functions will not be directly callable after loading.\n"
     ]
    },
    {
     "name": "stdout",
     "output_type": "stream",
     "text": [
      "INFO:tensorflow:Assets written to: /tmp/tmpcoqu1qvk/assets\n"
     ]
    },
    {
     "name": "stderr",
     "output_type": "stream",
     "text": [
      "INFO:tensorflow:Assets written to: /tmp/tmpcoqu1qvk/assets\n",
      "/home/pmedur/strojnoUcenje/env/lib/python3.10/site-packages/tensorflow/lite/python/convert.py:765: UserWarning: Statistics for quantized inputs were expected, but not specified; continuing anyway.\n",
      "  warnings.warn(\"Statistics for quantized inputs were expected, but not \"\n",
      "fully_quantize: 0, inference_type: 6, input_inference_type: INT8, output_inference_type: INT8\n"
     ]
    },
    {
     "name": "stdout",
     "output_type": "stream",
     "text": [
      "  Saved (int8):    tflite_models/normal/int8_quantization/model_8_fold_7.tflite (1245.0 KB)\n",
      "  Fold 8:\n"
     ]
    },
    {
     "name": "stderr",
     "output_type": "stream",
     "text": [
      "WARNING:absl:Found untraced functions such as _jit_compiled_convolution_op, _jit_compiled_convolution_op, _update_step_xla while saving (showing 3 of 3). These functions will not be directly callable after loading.\n"
     ]
    },
    {
     "name": "stdout",
     "output_type": "stream",
     "text": [
      "INFO:tensorflow:Assets written to: /tmp/tmpg48s21tn/assets\n"
     ]
    },
    {
     "name": "stderr",
     "output_type": "stream",
     "text": [
      "INFO:tensorflow:Assets written to: /tmp/tmpg48s21tn/assets\n"
     ]
    },
    {
     "name": "stdout",
     "output_type": "stream",
     "text": [
      "  Saved (no quant): tflite_models/normal/no_quantization/model_8_fold_8.tflite (4940.6 KB)\n"
     ]
    },
    {
     "name": "stderr",
     "output_type": "stream",
     "text": [
      "WARNING:absl:Found untraced functions such as _jit_compiled_convolution_op, _jit_compiled_convolution_op, _update_step_xla while saving (showing 3 of 3). These functions will not be directly callable after loading.\n"
     ]
    },
    {
     "name": "stdout",
     "output_type": "stream",
     "text": [
      "INFO:tensorflow:Assets written to: /tmp/tmpk5gvp6nk/assets\n"
     ]
    },
    {
     "name": "stderr",
     "output_type": "stream",
     "text": [
      "INFO:tensorflow:Assets written to: /tmp/tmpk5gvp6nk/assets\n",
      "/home/pmedur/strojnoUcenje/env/lib/python3.10/site-packages/tensorflow/lite/python/convert.py:765: UserWarning: Statistics for quantized inputs were expected, but not specified; continuing anyway.\n",
      "  warnings.warn(\"Statistics for quantized inputs were expected, but not \"\n",
      "fully_quantize: 0, inference_type: 6, input_inference_type: INT8, output_inference_type: INT8\n"
     ]
    },
    {
     "name": "stdout",
     "output_type": "stream",
     "text": [
      "  Saved (int8):    tflite_models/normal/int8_quantization/model_8_fold_8.tflite (1245.0 KB)\n",
      "  Fold 9:\n"
     ]
    },
    {
     "name": "stderr",
     "output_type": "stream",
     "text": [
      "WARNING:absl:Found untraced functions such as _jit_compiled_convolution_op, _jit_compiled_convolution_op, _update_step_xla while saving (showing 3 of 3). These functions will not be directly callable after loading.\n"
     ]
    },
    {
     "name": "stdout",
     "output_type": "stream",
     "text": [
      "INFO:tensorflow:Assets written to: /tmp/tmphqs45zk8/assets\n"
     ]
    },
    {
     "name": "stderr",
     "output_type": "stream",
     "text": [
      "INFO:tensorflow:Assets written to: /tmp/tmphqs45zk8/assets\n"
     ]
    },
    {
     "name": "stdout",
     "output_type": "stream",
     "text": [
      "  Saved (no quant): tflite_models/normal/no_quantization/model_8_fold_9.tflite (4940.6 KB)\n"
     ]
    },
    {
     "name": "stderr",
     "output_type": "stream",
     "text": [
      "WARNING:absl:Found untraced functions such as _jit_compiled_convolution_op, _jit_compiled_convolution_op, _update_step_xla while saving (showing 3 of 3). These functions will not be directly callable after loading.\n"
     ]
    },
    {
     "name": "stdout",
     "output_type": "stream",
     "text": [
      "INFO:tensorflow:Assets written to: /tmp/tmpyig9s2jx/assets\n"
     ]
    },
    {
     "name": "stderr",
     "output_type": "stream",
     "text": [
      "INFO:tensorflow:Assets written to: /tmp/tmpyig9s2jx/assets\n",
      "/home/pmedur/strojnoUcenje/env/lib/python3.10/site-packages/tensorflow/lite/python/convert.py:765: UserWarning: Statistics for quantized inputs were expected, but not specified; continuing anyway.\n",
      "  warnings.warn(\"Statistics for quantized inputs were expected, but not \"\n",
      "fully_quantize: 0, inference_type: 6, input_inference_type: INT8, output_inference_type: INT8\n"
     ]
    },
    {
     "name": "stdout",
     "output_type": "stream",
     "text": [
      "  Saved (int8):    tflite_models/normal/int8_quantization/model_8_fold_9.tflite (1245.0 KB)\n",
      "  Fold 10:\n"
     ]
    },
    {
     "name": "stderr",
     "output_type": "stream",
     "text": [
      "WARNING:absl:Found untraced functions such as _jit_compiled_convolution_op, _jit_compiled_convolution_op, _update_step_xla while saving (showing 3 of 3). These functions will not be directly callable after loading.\n"
     ]
    },
    {
     "name": "stdout",
     "output_type": "stream",
     "text": [
      "INFO:tensorflow:Assets written to: /tmp/tmpuycqeyhu/assets\n"
     ]
    },
    {
     "name": "stderr",
     "output_type": "stream",
     "text": [
      "INFO:tensorflow:Assets written to: /tmp/tmpuycqeyhu/assets\n"
     ]
    },
    {
     "name": "stdout",
     "output_type": "stream",
     "text": [
      "  Saved (no quant): tflite_models/normal/no_quantization/model_8_fold_10.tflite (4940.6 KB)\n"
     ]
    },
    {
     "name": "stderr",
     "output_type": "stream",
     "text": [
      "WARNING:absl:Found untraced functions such as _jit_compiled_convolution_op, _jit_compiled_convolution_op, _update_step_xla while saving (showing 3 of 3). These functions will not be directly callable after loading.\n"
     ]
    },
    {
     "name": "stdout",
     "output_type": "stream",
     "text": [
      "INFO:tensorflow:Assets written to: /tmp/tmp5j5bf0mf/assets\n"
     ]
    },
    {
     "name": "stderr",
     "output_type": "stream",
     "text": [
      "INFO:tensorflow:Assets written to: /tmp/tmp5j5bf0mf/assets\n",
      "/home/pmedur/strojnoUcenje/env/lib/python3.10/site-packages/tensorflow/lite/python/convert.py:765: UserWarning: Statistics for quantized inputs were expected, but not specified; continuing anyway.\n",
      "  warnings.warn(\"Statistics for quantized inputs were expected, but not \"\n",
      "fully_quantize: 0, inference_type: 6, input_inference_type: INT8, output_inference_type: INT8\n"
     ]
    },
    {
     "name": "stdout",
     "output_type": "stream",
     "text": [
      "  Saved (int8):    tflite_models/normal/int8_quantization/model_8_fold_10.tflite (1245.0 KB)\n",
      "\n",
      "model_9:\n",
      "  Fold 1:\n"
     ]
    },
    {
     "name": "stderr",
     "output_type": "stream",
     "text": [
      "WARNING:absl:Found untraced functions such as _jit_compiled_convolution_op, _jit_compiled_convolution_op, _jit_compiled_convolution_op, _update_step_xla while saving (showing 4 of 4). These functions will not be directly callable after loading.\n"
     ]
    },
    {
     "name": "stdout",
     "output_type": "stream",
     "text": [
      "INFO:tensorflow:Assets written to: /tmp/tmpmuuh0cf7/assets\n"
     ]
    },
    {
     "name": "stderr",
     "output_type": "stream",
     "text": [
      "INFO:tensorflow:Assets written to: /tmp/tmpmuuh0cf7/assets\n"
     ]
    },
    {
     "name": "stdout",
     "output_type": "stream",
     "text": [
      "  Saved (no quant): tflite_models/normal/no_quantization/model_9_fold_1.tflite (19955.1 KB)\n"
     ]
    },
    {
     "name": "stderr",
     "output_type": "stream",
     "text": [
      "WARNING:absl:Found untraced functions such as _jit_compiled_convolution_op, _jit_compiled_convolution_op, _jit_compiled_convolution_op, _update_step_xla while saving (showing 4 of 4). These functions will not be directly callable after loading.\n"
     ]
    },
    {
     "name": "stdout",
     "output_type": "stream",
     "text": [
      "INFO:tensorflow:Assets written to: /tmp/tmpji1coycl/assets\n"
     ]
    },
    {
     "name": "stderr",
     "output_type": "stream",
     "text": [
      "INFO:tensorflow:Assets written to: /tmp/tmpji1coycl/assets\n",
      "/home/pmedur/strojnoUcenje/env/lib/python3.10/site-packages/tensorflow/lite/python/convert.py:765: UserWarning: Statistics for quantized inputs were expected, but not specified; continuing anyway.\n",
      "  warnings.warn(\"Statistics for quantized inputs were expected, but not \"\n",
      "fully_quantize: 0, inference_type: 6, input_inference_type: INT8, output_inference_type: INT8\n"
     ]
    },
    {
     "name": "stdout",
     "output_type": "stream",
     "text": [
      "  Saved (int8):    tflite_models/normal/int8_quantization/model_9_fold_1.tflite (5006.5 KB)\n",
      "  Fold 2:\n"
     ]
    },
    {
     "name": "stderr",
     "output_type": "stream",
     "text": [
      "WARNING:absl:Found untraced functions such as _jit_compiled_convolution_op, _jit_compiled_convolution_op, _jit_compiled_convolution_op, _update_step_xla while saving (showing 4 of 4). These functions will not be directly callable after loading.\n"
     ]
    },
    {
     "name": "stdout",
     "output_type": "stream",
     "text": [
      "INFO:tensorflow:Assets written to: /tmp/tmpvb9t060g/assets\n"
     ]
    },
    {
     "name": "stderr",
     "output_type": "stream",
     "text": [
      "INFO:tensorflow:Assets written to: /tmp/tmpvb9t060g/assets\n"
     ]
    },
    {
     "name": "stdout",
     "output_type": "stream",
     "text": [
      "  Saved (no quant): tflite_models/normal/no_quantization/model_9_fold_2.tflite (19955.1 KB)\n"
     ]
    },
    {
     "name": "stderr",
     "output_type": "stream",
     "text": [
      "WARNING:absl:Found untraced functions such as _jit_compiled_convolution_op, _jit_compiled_convolution_op, _jit_compiled_convolution_op, _update_step_xla while saving (showing 4 of 4). These functions will not be directly callable after loading.\n"
     ]
    },
    {
     "name": "stdout",
     "output_type": "stream",
     "text": [
      "INFO:tensorflow:Assets written to: /tmp/tmpfr878h7f/assets\n"
     ]
    },
    {
     "name": "stderr",
     "output_type": "stream",
     "text": [
      "INFO:tensorflow:Assets written to: /tmp/tmpfr878h7f/assets\n",
      "/home/pmedur/strojnoUcenje/env/lib/python3.10/site-packages/tensorflow/lite/python/convert.py:765: UserWarning: Statistics for quantized inputs were expected, but not specified; continuing anyway.\n",
      "  warnings.warn(\"Statistics for quantized inputs were expected, but not \"\n",
      "fully_quantize: 0, inference_type: 6, input_inference_type: INT8, output_inference_type: INT8\n"
     ]
    },
    {
     "name": "stdout",
     "output_type": "stream",
     "text": [
      "  Saved (int8):    tflite_models/normal/int8_quantization/model_9_fold_2.tflite (5006.5 KB)\n",
      "  Fold 3:\n"
     ]
    },
    {
     "name": "stderr",
     "output_type": "stream",
     "text": [
      "WARNING:absl:Found untraced functions such as _jit_compiled_convolution_op, _jit_compiled_convolution_op, _jit_compiled_convolution_op, _update_step_xla while saving (showing 4 of 4). These functions will not be directly callable after loading.\n"
     ]
    },
    {
     "name": "stdout",
     "output_type": "stream",
     "text": [
      "INFO:tensorflow:Assets written to: /tmp/tmpn1jje6bp/assets\n"
     ]
    },
    {
     "name": "stderr",
     "output_type": "stream",
     "text": [
      "INFO:tensorflow:Assets written to: /tmp/tmpn1jje6bp/assets\n"
     ]
    },
    {
     "name": "stdout",
     "output_type": "stream",
     "text": [
      "  Saved (no quant): tflite_models/normal/no_quantization/model_9_fold_3.tflite (19955.1 KB)\n"
     ]
    },
    {
     "name": "stderr",
     "output_type": "stream",
     "text": [
      "WARNING:absl:Found untraced functions such as _jit_compiled_convolution_op, _jit_compiled_convolution_op, _jit_compiled_convolution_op, _update_step_xla while saving (showing 4 of 4). These functions will not be directly callable after loading.\n"
     ]
    },
    {
     "name": "stdout",
     "output_type": "stream",
     "text": [
      "INFO:tensorflow:Assets written to: /tmp/tmplyo43j3q/assets\n"
     ]
    },
    {
     "name": "stderr",
     "output_type": "stream",
     "text": [
      "INFO:tensorflow:Assets written to: /tmp/tmplyo43j3q/assets\n",
      "/home/pmedur/strojnoUcenje/env/lib/python3.10/site-packages/tensorflow/lite/python/convert.py:765: UserWarning: Statistics for quantized inputs were expected, but not specified; continuing anyway.\n",
      "  warnings.warn(\"Statistics for quantized inputs were expected, but not \"\n",
      "fully_quantize: 0, inference_type: 6, input_inference_type: INT8, output_inference_type: INT8\n"
     ]
    },
    {
     "name": "stdout",
     "output_type": "stream",
     "text": [
      "  Saved (int8):    tflite_models/normal/int8_quantization/model_9_fold_3.tflite (5006.5 KB)\n",
      "  Fold 4:\n"
     ]
    },
    {
     "name": "stderr",
     "output_type": "stream",
     "text": [
      "WARNING:absl:Found untraced functions such as _jit_compiled_convolution_op, _jit_compiled_convolution_op, _jit_compiled_convolution_op, _update_step_xla while saving (showing 4 of 4). These functions will not be directly callable after loading.\n"
     ]
    },
    {
     "name": "stdout",
     "output_type": "stream",
     "text": [
      "INFO:tensorflow:Assets written to: /tmp/tmpv6grghei/assets\n"
     ]
    },
    {
     "name": "stderr",
     "output_type": "stream",
     "text": [
      "INFO:tensorflow:Assets written to: /tmp/tmpv6grghei/assets\n"
     ]
    },
    {
     "name": "stdout",
     "output_type": "stream",
     "text": [
      "  Saved (no quant): tflite_models/normal/no_quantization/model_9_fold_4.tflite (19955.1 KB)\n"
     ]
    },
    {
     "name": "stderr",
     "output_type": "stream",
     "text": [
      "WARNING:absl:Found untraced functions such as _jit_compiled_convolution_op, _jit_compiled_convolution_op, _jit_compiled_convolution_op, _update_step_xla while saving (showing 4 of 4). These functions will not be directly callable after loading.\n"
     ]
    },
    {
     "name": "stdout",
     "output_type": "stream",
     "text": [
      "INFO:tensorflow:Assets written to: /tmp/tmp4soxrtd4/assets\n"
     ]
    },
    {
     "name": "stderr",
     "output_type": "stream",
     "text": [
      "INFO:tensorflow:Assets written to: /tmp/tmp4soxrtd4/assets\n",
      "/home/pmedur/strojnoUcenje/env/lib/python3.10/site-packages/tensorflow/lite/python/convert.py:765: UserWarning: Statistics for quantized inputs were expected, but not specified; continuing anyway.\n",
      "  warnings.warn(\"Statistics for quantized inputs were expected, but not \"\n",
      "fully_quantize: 0, inference_type: 6, input_inference_type: INT8, output_inference_type: INT8\n"
     ]
    },
    {
     "name": "stdout",
     "output_type": "stream",
     "text": [
      "  Saved (int8):    tflite_models/normal/int8_quantization/model_9_fold_4.tflite (5006.5 KB)\n",
      "  Fold 5:\n"
     ]
    },
    {
     "name": "stderr",
     "output_type": "stream",
     "text": [
      "WARNING:absl:Found untraced functions such as _jit_compiled_convolution_op, _jit_compiled_convolution_op, _jit_compiled_convolution_op, _update_step_xla while saving (showing 4 of 4). These functions will not be directly callable after loading.\n"
     ]
    },
    {
     "name": "stdout",
     "output_type": "stream",
     "text": [
      "INFO:tensorflow:Assets written to: /tmp/tmpr8i_ioc1/assets\n"
     ]
    },
    {
     "name": "stderr",
     "output_type": "stream",
     "text": [
      "INFO:tensorflow:Assets written to: /tmp/tmpr8i_ioc1/assets\n"
     ]
    },
    {
     "name": "stdout",
     "output_type": "stream",
     "text": [
      "  Saved (no quant): tflite_models/normal/no_quantization/model_9_fold_5.tflite (19955.1 KB)\n"
     ]
    },
    {
     "name": "stderr",
     "output_type": "stream",
     "text": [
      "WARNING:absl:Found untraced functions such as _jit_compiled_convolution_op, _jit_compiled_convolution_op, _jit_compiled_convolution_op, _update_step_xla while saving (showing 4 of 4). These functions will not be directly callable after loading.\n"
     ]
    },
    {
     "name": "stdout",
     "output_type": "stream",
     "text": [
      "INFO:tensorflow:Assets written to: /tmp/tmp77_epar5/assets\n"
     ]
    },
    {
     "name": "stderr",
     "output_type": "stream",
     "text": [
      "INFO:tensorflow:Assets written to: /tmp/tmp77_epar5/assets\n",
      "/home/pmedur/strojnoUcenje/env/lib/python3.10/site-packages/tensorflow/lite/python/convert.py:765: UserWarning: Statistics for quantized inputs were expected, but not specified; continuing anyway.\n",
      "  warnings.warn(\"Statistics for quantized inputs were expected, but not \"\n",
      "fully_quantize: 0, inference_type: 6, input_inference_type: INT8, output_inference_type: INT8\n"
     ]
    },
    {
     "name": "stdout",
     "output_type": "stream",
     "text": [
      "  Saved (int8):    tflite_models/normal/int8_quantization/model_9_fold_5.tflite (5006.5 KB)\n",
      "  Fold 6:\n"
     ]
    },
    {
     "name": "stderr",
     "output_type": "stream",
     "text": [
      "WARNING:absl:Found untraced functions such as _jit_compiled_convolution_op, _jit_compiled_convolution_op, _jit_compiled_convolution_op, _update_step_xla while saving (showing 4 of 4). These functions will not be directly callable after loading.\n"
     ]
    },
    {
     "name": "stdout",
     "output_type": "stream",
     "text": [
      "INFO:tensorflow:Assets written to: /tmp/tmp4q8fp3kc/assets\n"
     ]
    },
    {
     "name": "stderr",
     "output_type": "stream",
     "text": [
      "INFO:tensorflow:Assets written to: /tmp/tmp4q8fp3kc/assets\n"
     ]
    },
    {
     "name": "stdout",
     "output_type": "stream",
     "text": [
      "  Saved (no quant): tflite_models/normal/no_quantization/model_9_fold_6.tflite (19955.1 KB)\n"
     ]
    },
    {
     "name": "stderr",
     "output_type": "stream",
     "text": [
      "WARNING:absl:Found untraced functions such as _jit_compiled_convolution_op, _jit_compiled_convolution_op, _jit_compiled_convolution_op, _update_step_xla while saving (showing 4 of 4). These functions will not be directly callable after loading.\n"
     ]
    },
    {
     "name": "stdout",
     "output_type": "stream",
     "text": [
      "INFO:tensorflow:Assets written to: /tmp/tmptxr3z6ld/assets\n"
     ]
    },
    {
     "name": "stderr",
     "output_type": "stream",
     "text": [
      "INFO:tensorflow:Assets written to: /tmp/tmptxr3z6ld/assets\n",
      "/home/pmedur/strojnoUcenje/env/lib/python3.10/site-packages/tensorflow/lite/python/convert.py:765: UserWarning: Statistics for quantized inputs were expected, but not specified; continuing anyway.\n",
      "  warnings.warn(\"Statistics for quantized inputs were expected, but not \"\n",
      "fully_quantize: 0, inference_type: 6, input_inference_type: INT8, output_inference_type: INT8\n"
     ]
    },
    {
     "name": "stdout",
     "output_type": "stream",
     "text": [
      "  Saved (int8):    tflite_models/normal/int8_quantization/model_9_fold_6.tflite (5006.5 KB)\n",
      "  Fold 7:\n"
     ]
    },
    {
     "name": "stderr",
     "output_type": "stream",
     "text": [
      "WARNING:absl:Found untraced functions such as _jit_compiled_convolution_op, _jit_compiled_convolution_op, _jit_compiled_convolution_op, _update_step_xla while saving (showing 4 of 4). These functions will not be directly callable after loading.\n"
     ]
    },
    {
     "name": "stdout",
     "output_type": "stream",
     "text": [
      "INFO:tensorflow:Assets written to: /tmp/tmp9yfb90es/assets\n"
     ]
    },
    {
     "name": "stderr",
     "output_type": "stream",
     "text": [
      "INFO:tensorflow:Assets written to: /tmp/tmp9yfb90es/assets\n"
     ]
    },
    {
     "name": "stdout",
     "output_type": "stream",
     "text": [
      "  Saved (no quant): tflite_models/normal/no_quantization/model_9_fold_7.tflite (19955.1 KB)\n"
     ]
    },
    {
     "name": "stderr",
     "output_type": "stream",
     "text": [
      "WARNING:absl:Found untraced functions such as _jit_compiled_convolution_op, _jit_compiled_convolution_op, _jit_compiled_convolution_op, _update_step_xla while saving (showing 4 of 4). These functions will not be directly callable after loading.\n"
     ]
    },
    {
     "name": "stdout",
     "output_type": "stream",
     "text": [
      "INFO:tensorflow:Assets written to: /tmp/tmpgkw7w3vy/assets\n"
     ]
    },
    {
     "name": "stderr",
     "output_type": "stream",
     "text": [
      "INFO:tensorflow:Assets written to: /tmp/tmpgkw7w3vy/assets\n",
      "/home/pmedur/strojnoUcenje/env/lib/python3.10/site-packages/tensorflow/lite/python/convert.py:765: UserWarning: Statistics for quantized inputs were expected, but not specified; continuing anyway.\n",
      "  warnings.warn(\"Statistics for quantized inputs were expected, but not \"\n",
      "fully_quantize: 0, inference_type: 6, input_inference_type: INT8, output_inference_type: INT8\n"
     ]
    },
    {
     "name": "stdout",
     "output_type": "stream",
     "text": [
      "  Saved (int8):    tflite_models/normal/int8_quantization/model_9_fold_7.tflite (5006.5 KB)\n",
      "  Fold 8:\n"
     ]
    },
    {
     "name": "stderr",
     "output_type": "stream",
     "text": [
      "WARNING:absl:Found untraced functions such as _jit_compiled_convolution_op, _jit_compiled_convolution_op, _jit_compiled_convolution_op, _update_step_xla while saving (showing 4 of 4). These functions will not be directly callable after loading.\n"
     ]
    },
    {
     "name": "stdout",
     "output_type": "stream",
     "text": [
      "INFO:tensorflow:Assets written to: /tmp/tmp2go6o44e/assets\n"
     ]
    },
    {
     "name": "stderr",
     "output_type": "stream",
     "text": [
      "INFO:tensorflow:Assets written to: /tmp/tmp2go6o44e/assets\n"
     ]
    },
    {
     "name": "stdout",
     "output_type": "stream",
     "text": [
      "  Saved (no quant): tflite_models/normal/no_quantization/model_9_fold_8.tflite (19955.1 KB)\n"
     ]
    },
    {
     "name": "stderr",
     "output_type": "stream",
     "text": [
      "WARNING:absl:Found untraced functions such as _jit_compiled_convolution_op, _jit_compiled_convolution_op, _jit_compiled_convolution_op, _update_step_xla while saving (showing 4 of 4). These functions will not be directly callable after loading.\n"
     ]
    },
    {
     "name": "stdout",
     "output_type": "stream",
     "text": [
      "INFO:tensorflow:Assets written to: /tmp/tmpdcbpi16n/assets\n"
     ]
    },
    {
     "name": "stderr",
     "output_type": "stream",
     "text": [
      "INFO:tensorflow:Assets written to: /tmp/tmpdcbpi16n/assets\n",
      "/home/pmedur/strojnoUcenje/env/lib/python3.10/site-packages/tensorflow/lite/python/convert.py:765: UserWarning: Statistics for quantized inputs were expected, but not specified; continuing anyway.\n",
      "  warnings.warn(\"Statistics for quantized inputs were expected, but not \"\n",
      "fully_quantize: 0, inference_type: 6, input_inference_type: INT8, output_inference_type: INT8\n"
     ]
    },
    {
     "name": "stdout",
     "output_type": "stream",
     "text": [
      "  Saved (int8):    tflite_models/normal/int8_quantization/model_9_fold_8.tflite (5006.5 KB)\n",
      "  Fold 9:\n"
     ]
    },
    {
     "name": "stderr",
     "output_type": "stream",
     "text": [
      "WARNING:absl:Found untraced functions such as _jit_compiled_convolution_op, _jit_compiled_convolution_op, _jit_compiled_convolution_op, _update_step_xla while saving (showing 4 of 4). These functions will not be directly callable after loading.\n"
     ]
    },
    {
     "name": "stdout",
     "output_type": "stream",
     "text": [
      "INFO:tensorflow:Assets written to: /tmp/tmppmt5cgs4/assets\n"
     ]
    },
    {
     "name": "stderr",
     "output_type": "stream",
     "text": [
      "INFO:tensorflow:Assets written to: /tmp/tmppmt5cgs4/assets\n"
     ]
    },
    {
     "name": "stdout",
     "output_type": "stream",
     "text": [
      "  Saved (no quant): tflite_models/normal/no_quantization/model_9_fold_9.tflite (19955.1 KB)\n"
     ]
    },
    {
     "name": "stderr",
     "output_type": "stream",
     "text": [
      "WARNING:absl:Found untraced functions such as _jit_compiled_convolution_op, _jit_compiled_convolution_op, _jit_compiled_convolution_op, _update_step_xla while saving (showing 4 of 4). These functions will not be directly callable after loading.\n"
     ]
    },
    {
     "name": "stdout",
     "output_type": "stream",
     "text": [
      "INFO:tensorflow:Assets written to: /tmp/tmpx35tvf3i/assets\n"
     ]
    },
    {
     "name": "stderr",
     "output_type": "stream",
     "text": [
      "INFO:tensorflow:Assets written to: /tmp/tmpx35tvf3i/assets\n",
      "/home/pmedur/strojnoUcenje/env/lib/python3.10/site-packages/tensorflow/lite/python/convert.py:765: UserWarning: Statistics for quantized inputs were expected, but not specified; continuing anyway.\n",
      "  warnings.warn(\"Statistics for quantized inputs were expected, but not \"\n",
      "fully_quantize: 0, inference_type: 6, input_inference_type: INT8, output_inference_type: INT8\n"
     ]
    },
    {
     "name": "stdout",
     "output_type": "stream",
     "text": [
      "  Saved (int8):    tflite_models/normal/int8_quantization/model_9_fold_9.tflite (5006.5 KB)\n",
      "  Fold 10:\n"
     ]
    },
    {
     "name": "stderr",
     "output_type": "stream",
     "text": [
      "WARNING:absl:Found untraced functions such as _jit_compiled_convolution_op, _jit_compiled_convolution_op, _jit_compiled_convolution_op, _update_step_xla while saving (showing 4 of 4). These functions will not be directly callable after loading.\n"
     ]
    },
    {
     "name": "stdout",
     "output_type": "stream",
     "text": [
      "INFO:tensorflow:Assets written to: /tmp/tmpg_pwdtrq/assets\n"
     ]
    },
    {
     "name": "stderr",
     "output_type": "stream",
     "text": [
      "INFO:tensorflow:Assets written to: /tmp/tmpg_pwdtrq/assets\n"
     ]
    },
    {
     "name": "stdout",
     "output_type": "stream",
     "text": [
      "  Saved (no quant): tflite_models/normal/no_quantization/model_9_fold_10.tflite (19955.1 KB)\n"
     ]
    },
    {
     "name": "stderr",
     "output_type": "stream",
     "text": [
      "WARNING:absl:Found untraced functions such as _jit_compiled_convolution_op, _jit_compiled_convolution_op, _jit_compiled_convolution_op, _update_step_xla while saving (showing 4 of 4). These functions will not be directly callable after loading.\n"
     ]
    },
    {
     "name": "stdout",
     "output_type": "stream",
     "text": [
      "INFO:tensorflow:Assets written to: /tmp/tmpr0ekdvj3/assets\n"
     ]
    },
    {
     "name": "stderr",
     "output_type": "stream",
     "text": [
      "INFO:tensorflow:Assets written to: /tmp/tmpr0ekdvj3/assets\n",
      "/home/pmedur/strojnoUcenje/env/lib/python3.10/site-packages/tensorflow/lite/python/convert.py:765: UserWarning: Statistics for quantized inputs were expected, but not specified; continuing anyway.\n",
      "  warnings.warn(\"Statistics for quantized inputs were expected, but not \"\n",
      "fully_quantize: 0, inference_type: 6, input_inference_type: INT8, output_inference_type: INT8\n"
     ]
    },
    {
     "name": "stdout",
     "output_type": "stream",
     "text": [
      "  Saved (int8):    tflite_models/normal/int8_quantization/model_9_fold_10.tflite (5006.5 KB)\n",
      "\n",
      "model_10:\n",
      "  Fold 1:\n"
     ]
    },
    {
     "name": "stderr",
     "output_type": "stream",
     "text": [
      "WARNING:absl:Found untraced functions such as _jit_compiled_convolution_op, _jit_compiled_convolution_op, _jit_compiled_convolution_op, _update_step_xla while saving (showing 4 of 4). These functions will not be directly callable after loading.\n"
     ]
    },
    {
     "name": "stdout",
     "output_type": "stream",
     "text": [
      "INFO:tensorflow:Assets written to: /tmp/tmp0wefsdxa/assets\n"
     ]
    },
    {
     "name": "stderr",
     "output_type": "stream",
     "text": [
      "INFO:tensorflow:Assets written to: /tmp/tmp0wefsdxa/assets\n"
     ]
    },
    {
     "name": "stdout",
     "output_type": "stream",
     "text": [
      "  Saved (no quant): tflite_models/normal/no_quantization/model_10_fold_1.tflite (79649.1 KB)\n"
     ]
    },
    {
     "name": "stderr",
     "output_type": "stream",
     "text": [
      "WARNING:absl:Found untraced functions such as _jit_compiled_convolution_op, _jit_compiled_convolution_op, _jit_compiled_convolution_op, _update_step_xla while saving (showing 4 of 4). These functions will not be directly callable after loading.\n"
     ]
    },
    {
     "name": "stdout",
     "output_type": "stream",
     "text": [
      "INFO:tensorflow:Assets written to: /tmp/tmpxkqi6n1l/assets\n"
     ]
    },
    {
     "name": "stderr",
     "output_type": "stream",
     "text": [
      "INFO:tensorflow:Assets written to: /tmp/tmpxkqi6n1l/assets\n",
      "/home/pmedur/strojnoUcenje/env/lib/python3.10/site-packages/tensorflow/lite/python/convert.py:765: UserWarning: Statistics for quantized inputs were expected, but not specified; continuing anyway.\n",
      "  warnings.warn(\"Statistics for quantized inputs were expected, but not \"\n",
      "fully_quantize: 0, inference_type: 6, input_inference_type: INT8, output_inference_type: INT8\n"
     ]
    },
    {
     "name": "stdout",
     "output_type": "stream",
     "text": [
      "  Saved (int8):    tflite_models/normal/int8_quantization/model_10_fold_1.tflite (19943.3 KB)\n",
      "  Fold 2:\n"
     ]
    },
    {
     "name": "stderr",
     "output_type": "stream",
     "text": [
      "WARNING:absl:Found untraced functions such as _jit_compiled_convolution_op, _jit_compiled_convolution_op, _jit_compiled_convolution_op, _update_step_xla while saving (showing 4 of 4). These functions will not be directly callable after loading.\n"
     ]
    },
    {
     "name": "stdout",
     "output_type": "stream",
     "text": [
      "INFO:tensorflow:Assets written to: /tmp/tmp80dtuj9a/assets\n"
     ]
    },
    {
     "name": "stderr",
     "output_type": "stream",
     "text": [
      "INFO:tensorflow:Assets written to: /tmp/tmp80dtuj9a/assets\n"
     ]
    },
    {
     "name": "stdout",
     "output_type": "stream",
     "text": [
      "  Saved (no quant): tflite_models/normal/no_quantization/model_10_fold_2.tflite (79649.1 KB)\n"
     ]
    },
    {
     "name": "stderr",
     "output_type": "stream",
     "text": [
      "WARNING:absl:Found untraced functions such as _jit_compiled_convolution_op, _jit_compiled_convolution_op, _jit_compiled_convolution_op, _update_step_xla while saving (showing 4 of 4). These functions will not be directly callable after loading.\n"
     ]
    },
    {
     "name": "stdout",
     "output_type": "stream",
     "text": [
      "INFO:tensorflow:Assets written to: /tmp/tmp8i4ui67y/assets\n"
     ]
    },
    {
     "name": "stderr",
     "output_type": "stream",
     "text": [
      "INFO:tensorflow:Assets written to: /tmp/tmp8i4ui67y/assets\n",
      "/home/pmedur/strojnoUcenje/env/lib/python3.10/site-packages/tensorflow/lite/python/convert.py:765: UserWarning: Statistics for quantized inputs were expected, but not specified; continuing anyway.\n",
      "  warnings.warn(\"Statistics for quantized inputs were expected, but not \"\n",
      "fully_quantize: 0, inference_type: 6, input_inference_type: INT8, output_inference_type: INT8\n"
     ]
    },
    {
     "name": "stdout",
     "output_type": "stream",
     "text": [
      "  Saved (int8):    tflite_models/normal/int8_quantization/model_10_fold_2.tflite (19943.3 KB)\n",
      "  Fold 3:\n"
     ]
    },
    {
     "name": "stderr",
     "output_type": "stream",
     "text": [
      "WARNING:absl:Found untraced functions such as _jit_compiled_convolution_op, _jit_compiled_convolution_op, _jit_compiled_convolution_op, _update_step_xla while saving (showing 4 of 4). These functions will not be directly callable after loading.\n"
     ]
    },
    {
     "name": "stdout",
     "output_type": "stream",
     "text": [
      "INFO:tensorflow:Assets written to: /tmp/tmpp9j93cg9/assets\n"
     ]
    },
    {
     "name": "stderr",
     "output_type": "stream",
     "text": [
      "INFO:tensorflow:Assets written to: /tmp/tmpp9j93cg9/assets\n"
     ]
    },
    {
     "name": "stdout",
     "output_type": "stream",
     "text": [
      "  Saved (no quant): tflite_models/normal/no_quantization/model_10_fold_3.tflite (79649.1 KB)\n"
     ]
    },
    {
     "name": "stderr",
     "output_type": "stream",
     "text": [
      "WARNING:absl:Found untraced functions such as _jit_compiled_convolution_op, _jit_compiled_convolution_op, _jit_compiled_convolution_op, _update_step_xla while saving (showing 4 of 4). These functions will not be directly callable after loading.\n"
     ]
    },
    {
     "name": "stdout",
     "output_type": "stream",
     "text": [
      "INFO:tensorflow:Assets written to: /tmp/tmp39yyerbm/assets\n"
     ]
    },
    {
     "name": "stderr",
     "output_type": "stream",
     "text": [
      "INFO:tensorflow:Assets written to: /tmp/tmp39yyerbm/assets\n",
      "/home/pmedur/strojnoUcenje/env/lib/python3.10/site-packages/tensorflow/lite/python/convert.py:765: UserWarning: Statistics for quantized inputs were expected, but not specified; continuing anyway.\n",
      "  warnings.warn(\"Statistics for quantized inputs were expected, but not \"\n",
      "fully_quantize: 0, inference_type: 6, input_inference_type: INT8, output_inference_type: INT8\n"
     ]
    },
    {
     "name": "stdout",
     "output_type": "stream",
     "text": [
      "  Saved (int8):    tflite_models/normal/int8_quantization/model_10_fold_3.tflite (19943.3 KB)\n",
      "  Fold 4:\n"
     ]
    },
    {
     "name": "stderr",
     "output_type": "stream",
     "text": [
      "WARNING:absl:Found untraced functions such as _jit_compiled_convolution_op, _jit_compiled_convolution_op, _jit_compiled_convolution_op, _update_step_xla while saving (showing 4 of 4). These functions will not be directly callable after loading.\n"
     ]
    },
    {
     "name": "stdout",
     "output_type": "stream",
     "text": [
      "INFO:tensorflow:Assets written to: /tmp/tmps8_6hthc/assets\n"
     ]
    },
    {
     "name": "stderr",
     "output_type": "stream",
     "text": [
      "INFO:tensorflow:Assets written to: /tmp/tmps8_6hthc/assets\n"
     ]
    },
    {
     "name": "stdout",
     "output_type": "stream",
     "text": [
      "  Saved (no quant): tflite_models/normal/no_quantization/model_10_fold_4.tflite (79649.1 KB)\n"
     ]
    },
    {
     "name": "stderr",
     "output_type": "stream",
     "text": [
      "WARNING:absl:Found untraced functions such as _jit_compiled_convolution_op, _jit_compiled_convolution_op, _jit_compiled_convolution_op, _update_step_xla while saving (showing 4 of 4). These functions will not be directly callable after loading.\n"
     ]
    },
    {
     "name": "stdout",
     "output_type": "stream",
     "text": [
      "INFO:tensorflow:Assets written to: /tmp/tmp3ffoywb3/assets\n"
     ]
    },
    {
     "name": "stderr",
     "output_type": "stream",
     "text": [
      "INFO:tensorflow:Assets written to: /tmp/tmp3ffoywb3/assets\n",
      "/home/pmedur/strojnoUcenje/env/lib/python3.10/site-packages/tensorflow/lite/python/convert.py:765: UserWarning: Statistics for quantized inputs were expected, but not specified; continuing anyway.\n",
      "  warnings.warn(\"Statistics for quantized inputs were expected, but not \"\n",
      "fully_quantize: 0, inference_type: 6, input_inference_type: INT8, output_inference_type: INT8\n"
     ]
    },
    {
     "name": "stdout",
     "output_type": "stream",
     "text": [
      "  Saved (int8):    tflite_models/normal/int8_quantization/model_10_fold_4.tflite (19943.3 KB)\n",
      "  Fold 5:\n"
     ]
    },
    {
     "name": "stderr",
     "output_type": "stream",
     "text": [
      "WARNING:absl:Found untraced functions such as _jit_compiled_convolution_op, _jit_compiled_convolution_op, _jit_compiled_convolution_op, _update_step_xla while saving (showing 4 of 4). These functions will not be directly callable after loading.\n"
     ]
    },
    {
     "name": "stdout",
     "output_type": "stream",
     "text": [
      "INFO:tensorflow:Assets written to: /tmp/tmp2vimc3gy/assets\n"
     ]
    },
    {
     "name": "stderr",
     "output_type": "stream",
     "text": [
      "INFO:tensorflow:Assets written to: /tmp/tmp2vimc3gy/assets\n"
     ]
    },
    {
     "name": "stdout",
     "output_type": "stream",
     "text": [
      "  Saved (no quant): tflite_models/normal/no_quantization/model_10_fold_5.tflite (79649.1 KB)\n"
     ]
    },
    {
     "name": "stderr",
     "output_type": "stream",
     "text": [
      "WARNING:absl:Found untraced functions such as _jit_compiled_convolution_op, _jit_compiled_convolution_op, _jit_compiled_convolution_op, _update_step_xla while saving (showing 4 of 4). These functions will not be directly callable after loading.\n"
     ]
    },
    {
     "name": "stdout",
     "output_type": "stream",
     "text": [
      "INFO:tensorflow:Assets written to: /tmp/tmp0gs0p1_9/assets\n"
     ]
    },
    {
     "name": "stderr",
     "output_type": "stream",
     "text": [
      "INFO:tensorflow:Assets written to: /tmp/tmp0gs0p1_9/assets\n",
      "/home/pmedur/strojnoUcenje/env/lib/python3.10/site-packages/tensorflow/lite/python/convert.py:765: UserWarning: Statistics for quantized inputs were expected, but not specified; continuing anyway.\n",
      "  warnings.warn(\"Statistics for quantized inputs were expected, but not \"\n",
      "fully_quantize: 0, inference_type: 6, input_inference_type: INT8, output_inference_type: INT8\n"
     ]
    },
    {
     "name": "stdout",
     "output_type": "stream",
     "text": [
      "  Saved (int8):    tflite_models/normal/int8_quantization/model_10_fold_5.tflite (19943.3 KB)\n",
      "  Fold 6:\n"
     ]
    },
    {
     "name": "stderr",
     "output_type": "stream",
     "text": [
      "WARNING:absl:Found untraced functions such as _jit_compiled_convolution_op, _jit_compiled_convolution_op, _jit_compiled_convolution_op, _update_step_xla while saving (showing 4 of 4). These functions will not be directly callable after loading.\n"
     ]
    },
    {
     "name": "stdout",
     "output_type": "stream",
     "text": [
      "INFO:tensorflow:Assets written to: /tmp/tmpha9ezzw8/assets\n"
     ]
    },
    {
     "name": "stderr",
     "output_type": "stream",
     "text": [
      "INFO:tensorflow:Assets written to: /tmp/tmpha9ezzw8/assets\n"
     ]
    },
    {
     "name": "stdout",
     "output_type": "stream",
     "text": [
      "  Saved (no quant): tflite_models/normal/no_quantization/model_10_fold_6.tflite (79649.1 KB)\n"
     ]
    },
    {
     "name": "stderr",
     "output_type": "stream",
     "text": [
      "WARNING:absl:Found untraced functions such as _jit_compiled_convolution_op, _jit_compiled_convolution_op, _jit_compiled_convolution_op, _update_step_xla while saving (showing 4 of 4). These functions will not be directly callable after loading.\n"
     ]
    },
    {
     "name": "stdout",
     "output_type": "stream",
     "text": [
      "INFO:tensorflow:Assets written to: /tmp/tmpwqhfzax3/assets\n"
     ]
    },
    {
     "name": "stderr",
     "output_type": "stream",
     "text": [
      "INFO:tensorflow:Assets written to: /tmp/tmpwqhfzax3/assets\n",
      "/home/pmedur/strojnoUcenje/env/lib/python3.10/site-packages/tensorflow/lite/python/convert.py:765: UserWarning: Statistics for quantized inputs were expected, but not specified; continuing anyway.\n",
      "  warnings.warn(\"Statistics for quantized inputs were expected, but not \"\n",
      "fully_quantize: 0, inference_type: 6, input_inference_type: INT8, output_inference_type: INT8\n"
     ]
    },
    {
     "name": "stdout",
     "output_type": "stream",
     "text": [
      "  Saved (int8):    tflite_models/normal/int8_quantization/model_10_fold_6.tflite (19943.3 KB)\n",
      "  Fold 7:\n"
     ]
    },
    {
     "name": "stderr",
     "output_type": "stream",
     "text": [
      "WARNING:absl:Found untraced functions such as _jit_compiled_convolution_op, _jit_compiled_convolution_op, _jit_compiled_convolution_op, _update_step_xla while saving (showing 4 of 4). These functions will not be directly callable after loading.\n"
     ]
    },
    {
     "name": "stdout",
     "output_type": "stream",
     "text": [
      "INFO:tensorflow:Assets written to: /tmp/tmpwwsq2p91/assets\n"
     ]
    },
    {
     "name": "stderr",
     "output_type": "stream",
     "text": [
      "INFO:tensorflow:Assets written to: /tmp/tmpwwsq2p91/assets\n"
     ]
    },
    {
     "name": "stdout",
     "output_type": "stream",
     "text": [
      "  Saved (no quant): tflite_models/normal/no_quantization/model_10_fold_7.tflite (79649.1 KB)\n"
     ]
    },
    {
     "name": "stderr",
     "output_type": "stream",
     "text": [
      "WARNING:absl:Found untraced functions such as _jit_compiled_convolution_op, _jit_compiled_convolution_op, _jit_compiled_convolution_op, _update_step_xla while saving (showing 4 of 4). These functions will not be directly callable after loading.\n"
     ]
    },
    {
     "name": "stdout",
     "output_type": "stream",
     "text": [
      "INFO:tensorflow:Assets written to: /tmp/tmpy9cbgpyo/assets\n"
     ]
    },
    {
     "name": "stderr",
     "output_type": "stream",
     "text": [
      "INFO:tensorflow:Assets written to: /tmp/tmpy9cbgpyo/assets\n",
      "/home/pmedur/strojnoUcenje/env/lib/python3.10/site-packages/tensorflow/lite/python/convert.py:765: UserWarning: Statistics for quantized inputs were expected, but not specified; continuing anyway.\n",
      "  warnings.warn(\"Statistics for quantized inputs were expected, but not \"\n",
      "fully_quantize: 0, inference_type: 6, input_inference_type: INT8, output_inference_type: INT8\n"
     ]
    },
    {
     "name": "stdout",
     "output_type": "stream",
     "text": [
      "  Saved (int8):    tflite_models/normal/int8_quantization/model_10_fold_7.tflite (19943.3 KB)\n",
      "  Fold 8:\n"
     ]
    },
    {
     "name": "stderr",
     "output_type": "stream",
     "text": [
      "WARNING:absl:Found untraced functions such as _jit_compiled_convolution_op, _jit_compiled_convolution_op, _jit_compiled_convolution_op, _update_step_xla while saving (showing 4 of 4). These functions will not be directly callable after loading.\n"
     ]
    },
    {
     "name": "stdout",
     "output_type": "stream",
     "text": [
      "INFO:tensorflow:Assets written to: /tmp/tmpat77uzam/assets\n"
     ]
    },
    {
     "name": "stderr",
     "output_type": "stream",
     "text": [
      "INFO:tensorflow:Assets written to: /tmp/tmpat77uzam/assets\n"
     ]
    },
    {
     "name": "stdout",
     "output_type": "stream",
     "text": [
      "  Saved (no quant): tflite_models/normal/no_quantization/model_10_fold_8.tflite (79649.1 KB)\n"
     ]
    },
    {
     "name": "stderr",
     "output_type": "stream",
     "text": [
      "WARNING:absl:Found untraced functions such as _jit_compiled_convolution_op, _jit_compiled_convolution_op, _jit_compiled_convolution_op, _update_step_xla while saving (showing 4 of 4). These functions will not be directly callable after loading.\n"
     ]
    },
    {
     "name": "stdout",
     "output_type": "stream",
     "text": [
      "INFO:tensorflow:Assets written to: /tmp/tmp6ys3jwxo/assets\n"
     ]
    },
    {
     "name": "stderr",
     "output_type": "stream",
     "text": [
      "INFO:tensorflow:Assets written to: /tmp/tmp6ys3jwxo/assets\n",
      "/home/pmedur/strojnoUcenje/env/lib/python3.10/site-packages/tensorflow/lite/python/convert.py:765: UserWarning: Statistics for quantized inputs were expected, but not specified; continuing anyway.\n",
      "  warnings.warn(\"Statistics for quantized inputs were expected, but not \"\n",
      "fully_quantize: 0, inference_type: 6, input_inference_type: INT8, output_inference_type: INT8\n"
     ]
    },
    {
     "name": "stdout",
     "output_type": "stream",
     "text": [
      "  Saved (int8):    tflite_models/normal/int8_quantization/model_10_fold_8.tflite (19943.3 KB)\n",
      "  Fold 9:\n"
     ]
    },
    {
     "name": "stderr",
     "output_type": "stream",
     "text": [
      "WARNING:absl:Found untraced functions such as _jit_compiled_convolution_op, _jit_compiled_convolution_op, _jit_compiled_convolution_op, _update_step_xla while saving (showing 4 of 4). These functions will not be directly callable after loading.\n"
     ]
    },
    {
     "name": "stdout",
     "output_type": "stream",
     "text": [
      "INFO:tensorflow:Assets written to: /tmp/tmpp1rr4fvl/assets\n"
     ]
    },
    {
     "name": "stderr",
     "output_type": "stream",
     "text": [
      "INFO:tensorflow:Assets written to: /tmp/tmpp1rr4fvl/assets\n"
     ]
    },
    {
     "name": "stdout",
     "output_type": "stream",
     "text": [
      "  Saved (no quant): tflite_models/normal/no_quantization/model_10_fold_9.tflite (79649.1 KB)\n"
     ]
    },
    {
     "name": "stderr",
     "output_type": "stream",
     "text": [
      "WARNING:absl:Found untraced functions such as _jit_compiled_convolution_op, _jit_compiled_convolution_op, _jit_compiled_convolution_op, _update_step_xla while saving (showing 4 of 4). These functions will not be directly callable after loading.\n"
     ]
    },
    {
     "name": "stdout",
     "output_type": "stream",
     "text": [
      "INFO:tensorflow:Assets written to: /tmp/tmpvd5k9c7n/assets\n"
     ]
    },
    {
     "name": "stderr",
     "output_type": "stream",
     "text": [
      "INFO:tensorflow:Assets written to: /tmp/tmpvd5k9c7n/assets\n",
      "/home/pmedur/strojnoUcenje/env/lib/python3.10/site-packages/tensorflow/lite/python/convert.py:765: UserWarning: Statistics for quantized inputs were expected, but not specified; continuing anyway.\n",
      "  warnings.warn(\"Statistics for quantized inputs were expected, but not \"\n",
      "fully_quantize: 0, inference_type: 6, input_inference_type: INT8, output_inference_type: INT8\n"
     ]
    },
    {
     "name": "stdout",
     "output_type": "stream",
     "text": [
      "  Saved (int8):    tflite_models/normal/int8_quantization/model_10_fold_9.tflite (19943.3 KB)\n",
      "  Fold 10:\n"
     ]
    },
    {
     "name": "stderr",
     "output_type": "stream",
     "text": [
      "WARNING:absl:Found untraced functions such as _jit_compiled_convolution_op, _jit_compiled_convolution_op, _jit_compiled_convolution_op, _update_step_xla while saving (showing 4 of 4). These functions will not be directly callable after loading.\n"
     ]
    },
    {
     "name": "stdout",
     "output_type": "stream",
     "text": [
      "INFO:tensorflow:Assets written to: /tmp/tmpa0mn0aag/assets\n"
     ]
    },
    {
     "name": "stderr",
     "output_type": "stream",
     "text": [
      "INFO:tensorflow:Assets written to: /tmp/tmpa0mn0aag/assets\n"
     ]
    },
    {
     "name": "stdout",
     "output_type": "stream",
     "text": [
      "  Saved (no quant): tflite_models/normal/no_quantization/model_10_fold_10.tflite (79649.1 KB)\n"
     ]
    },
    {
     "name": "stderr",
     "output_type": "stream",
     "text": [
      "WARNING:absl:Found untraced functions such as _jit_compiled_convolution_op, _jit_compiled_convolution_op, _jit_compiled_convolution_op, _update_step_xla while saving (showing 4 of 4). These functions will not be directly callable after loading.\n"
     ]
    },
    {
     "name": "stdout",
     "output_type": "stream",
     "text": [
      "INFO:tensorflow:Assets written to: /tmp/tmp3u3skxqm/assets\n"
     ]
    },
    {
     "name": "stderr",
     "output_type": "stream",
     "text": [
      "INFO:tensorflow:Assets written to: /tmp/tmp3u3skxqm/assets\n",
      "/home/pmedur/strojnoUcenje/env/lib/python3.10/site-packages/tensorflow/lite/python/convert.py:765: UserWarning: Statistics for quantized inputs were expected, but not specified; continuing anyway.\n",
      "  warnings.warn(\"Statistics for quantized inputs were expected, but not \"\n"
     ]
    },
    {
     "name": "stdout",
     "output_type": "stream",
     "text": [
      "  Saved (int8):    tflite_models/normal/int8_quantization/model_10_fold_10.tflite (19943.3 KB)\n",
      "\n",
      "================================================================================\n",
      "CONVERSION COMPLETE: 100/100 models converted\n",
      "================================================================================\n",
      "\n"
     ]
    },
    {
     "name": "stderr",
     "output_type": "stream",
     "text": [
      "fully_quantize: 0, inference_type: 6, input_inference_type: INT8, output_inference_type: INT8\n"
     ]
    },
    {
     "data": {
      "text/plain": [
       "100"
      ]
     },
     "execution_count": 2,
     "metadata": {},
     "output_type": "execute_result"
    }
   ],
   "source": [
    "convert_all_models(\n",
    "    models_dir='trained_models',\n",
    "    folds_dir='new_Data_particions',\n",
    "    output_base_dir='tflite_models/normal',\n",
    "    num_models=10,\n",
    "    num_folds=10,\n",
    "    is_finetuned=False\n",
    ")"
   ]
  },
  {
   "cell_type": "code",
   "execution_count": 3,
   "id": "0c128319-06c1-44fa-953f-c4e982acaf84",
   "metadata": {
    "scrolled": true
   },
   "outputs": [
    {
     "name": "stdout",
     "output_type": "stream",
     "text": [
      "\n",
      "================================================================================\n",
      "CONVERTING FINE-TUNED MODELS TO TFLITE\n",
      "================================================================================\n",
      "\n",
      "\n",
      "model_1:\n",
      "  Fold 1:\n"
     ]
    },
    {
     "name": "stderr",
     "output_type": "stream",
     "text": [
      "WARNING:absl:Found untraced functions such as _jit_compiled_convolution_op, _update_step_xla while saving (showing 2 of 2). These functions will not be directly callable after loading.\n"
     ]
    },
    {
     "name": "stdout",
     "output_type": "stream",
     "text": [
      "INFO:tensorflow:Assets written to: /tmp/tmpral64knk/assets\n"
     ]
    },
    {
     "name": "stderr",
     "output_type": "stream",
     "text": [
      "INFO:tensorflow:Assets written to: /tmp/tmpral64knk/assets\n"
     ]
    },
    {
     "name": "stdout",
     "output_type": "stream",
     "text": [
      "  Saved (no quant): tflite_models/finetuned/no_quantization/model_1_fold_1_finetuned.tflite (158.9 KB)\n"
     ]
    },
    {
     "name": "stderr",
     "output_type": "stream",
     "text": [
      "WARNING:absl:Found untraced functions such as _jit_compiled_convolution_op, _update_step_xla while saving (showing 2 of 2). These functions will not be directly callable after loading.\n"
     ]
    },
    {
     "name": "stdout",
     "output_type": "stream",
     "text": [
      "INFO:tensorflow:Assets written to: /tmp/tmp7dw0kyf9/assets\n"
     ]
    },
    {
     "name": "stderr",
     "output_type": "stream",
     "text": [
      "INFO:tensorflow:Assets written to: /tmp/tmp7dw0kyf9/assets\n",
      "/home/pmedur/strojnoUcenje/env/lib/python3.10/site-packages/tensorflow/lite/python/convert.py:765: UserWarning: Statistics for quantized inputs were expected, but not specified; continuing anyway.\n",
      "  warnings.warn(\"Statistics for quantized inputs were expected, but not \"\n",
      "fully_quantize: 0, inference_type: 6, input_inference_type: INT8, output_inference_type: INT8\n"
     ]
    },
    {
     "name": "stdout",
     "output_type": "stream",
     "text": [
      "  Saved (int8):    tflite_models/finetuned/int8_quantization/model_1_fold_1_finetuned.tflite (43.4 KB)\n",
      "  Fold 2:\n"
     ]
    },
    {
     "name": "stderr",
     "output_type": "stream",
     "text": [
      "WARNING:absl:Found untraced functions such as _jit_compiled_convolution_op, _update_step_xla while saving (showing 2 of 2). These functions will not be directly callable after loading.\n"
     ]
    },
    {
     "name": "stdout",
     "output_type": "stream",
     "text": [
      "INFO:tensorflow:Assets written to: /tmp/tmp5lvinp4l/assets\n"
     ]
    },
    {
     "name": "stderr",
     "output_type": "stream",
     "text": [
      "INFO:tensorflow:Assets written to: /tmp/tmp5lvinp4l/assets\n"
     ]
    },
    {
     "name": "stdout",
     "output_type": "stream",
     "text": [
      "  Saved (no quant): tflite_models/finetuned/no_quantization/model_1_fold_2_finetuned.tflite (158.9 KB)\n"
     ]
    },
    {
     "name": "stderr",
     "output_type": "stream",
     "text": [
      "WARNING:absl:Found untraced functions such as _jit_compiled_convolution_op, _update_step_xla while saving (showing 2 of 2). These functions will not be directly callable after loading.\n"
     ]
    },
    {
     "name": "stdout",
     "output_type": "stream",
     "text": [
      "INFO:tensorflow:Assets written to: /tmp/tmp_rppvogi/assets\n"
     ]
    },
    {
     "name": "stderr",
     "output_type": "stream",
     "text": [
      "INFO:tensorflow:Assets written to: /tmp/tmp_rppvogi/assets\n",
      "/home/pmedur/strojnoUcenje/env/lib/python3.10/site-packages/tensorflow/lite/python/convert.py:765: UserWarning: Statistics for quantized inputs were expected, but not specified; continuing anyway.\n",
      "  warnings.warn(\"Statistics for quantized inputs were expected, but not \"\n",
      "fully_quantize: 0, inference_type: 6, input_inference_type: INT8, output_inference_type: INT8\n"
     ]
    },
    {
     "name": "stdout",
     "output_type": "stream",
     "text": [
      "  Saved (int8):    tflite_models/finetuned/int8_quantization/model_1_fold_2_finetuned.tflite (43.4 KB)\n",
      "  Fold 3:\n"
     ]
    },
    {
     "name": "stderr",
     "output_type": "stream",
     "text": [
      "WARNING:absl:Found untraced functions such as _jit_compiled_convolution_op, _update_step_xla while saving (showing 2 of 2). These functions will not be directly callable after loading.\n"
     ]
    },
    {
     "name": "stdout",
     "output_type": "stream",
     "text": [
      "INFO:tensorflow:Assets written to: /tmp/tmpjsqdtijx/assets\n"
     ]
    },
    {
     "name": "stderr",
     "output_type": "stream",
     "text": [
      "INFO:tensorflow:Assets written to: /tmp/tmpjsqdtijx/assets\n"
     ]
    },
    {
     "name": "stdout",
     "output_type": "stream",
     "text": [
      "  Saved (no quant): tflite_models/finetuned/no_quantization/model_1_fold_3_finetuned.tflite (158.9 KB)\n"
     ]
    },
    {
     "name": "stderr",
     "output_type": "stream",
     "text": [
      "WARNING:absl:Found untraced functions such as _jit_compiled_convolution_op, _update_step_xla while saving (showing 2 of 2). These functions will not be directly callable after loading.\n"
     ]
    },
    {
     "name": "stdout",
     "output_type": "stream",
     "text": [
      "INFO:tensorflow:Assets written to: /tmp/tmpw5jq8wwg/assets\n"
     ]
    },
    {
     "name": "stderr",
     "output_type": "stream",
     "text": [
      "INFO:tensorflow:Assets written to: /tmp/tmpw5jq8wwg/assets\n",
      "/home/pmedur/strojnoUcenje/env/lib/python3.10/site-packages/tensorflow/lite/python/convert.py:765: UserWarning: Statistics for quantized inputs were expected, but not specified; continuing anyway.\n",
      "  warnings.warn(\"Statistics for quantized inputs were expected, but not \"\n",
      "fully_quantize: 0, inference_type: 6, input_inference_type: INT8, output_inference_type: INT8\n"
     ]
    },
    {
     "name": "stdout",
     "output_type": "stream",
     "text": [
      "  Saved (int8):    tflite_models/finetuned/int8_quantization/model_1_fold_3_finetuned.tflite (43.4 KB)\n",
      "  Fold 4:\n"
     ]
    },
    {
     "name": "stderr",
     "output_type": "stream",
     "text": [
      "WARNING:absl:Found untraced functions such as _jit_compiled_convolution_op, _update_step_xla while saving (showing 2 of 2). These functions will not be directly callable after loading.\n"
     ]
    },
    {
     "name": "stdout",
     "output_type": "stream",
     "text": [
      "INFO:tensorflow:Assets written to: /tmp/tmpkw6cscyq/assets\n"
     ]
    },
    {
     "name": "stderr",
     "output_type": "stream",
     "text": [
      "INFO:tensorflow:Assets written to: /tmp/tmpkw6cscyq/assets\n"
     ]
    },
    {
     "name": "stdout",
     "output_type": "stream",
     "text": [
      "  Saved (no quant): tflite_models/finetuned/no_quantization/model_1_fold_4_finetuned.tflite (158.9 KB)\n"
     ]
    },
    {
     "name": "stderr",
     "output_type": "stream",
     "text": [
      "WARNING:absl:Found untraced functions such as _jit_compiled_convolution_op, _update_step_xla while saving (showing 2 of 2). These functions will not be directly callable after loading.\n"
     ]
    },
    {
     "name": "stdout",
     "output_type": "stream",
     "text": [
      "INFO:tensorflow:Assets written to: /tmp/tmplnyfjb03/assets\n"
     ]
    },
    {
     "name": "stderr",
     "output_type": "stream",
     "text": [
      "INFO:tensorflow:Assets written to: /tmp/tmplnyfjb03/assets\n",
      "/home/pmedur/strojnoUcenje/env/lib/python3.10/site-packages/tensorflow/lite/python/convert.py:765: UserWarning: Statistics for quantized inputs were expected, but not specified; continuing anyway.\n",
      "  warnings.warn(\"Statistics for quantized inputs were expected, but not \"\n",
      "fully_quantize: 0, inference_type: 6, input_inference_type: INT8, output_inference_type: INT8\n"
     ]
    },
    {
     "name": "stdout",
     "output_type": "stream",
     "text": [
      "  Saved (int8):    tflite_models/finetuned/int8_quantization/model_1_fold_4_finetuned.tflite (43.4 KB)\n",
      "  Fold 5:\n"
     ]
    },
    {
     "name": "stderr",
     "output_type": "stream",
     "text": [
      "WARNING:absl:Found untraced functions such as _jit_compiled_convolution_op, _update_step_xla while saving (showing 2 of 2). These functions will not be directly callable after loading.\n"
     ]
    },
    {
     "name": "stdout",
     "output_type": "stream",
     "text": [
      "INFO:tensorflow:Assets written to: /tmp/tmpx5a1y81c/assets\n"
     ]
    },
    {
     "name": "stderr",
     "output_type": "stream",
     "text": [
      "INFO:tensorflow:Assets written to: /tmp/tmpx5a1y81c/assets\n"
     ]
    },
    {
     "name": "stdout",
     "output_type": "stream",
     "text": [
      "  Saved (no quant): tflite_models/finetuned/no_quantization/model_1_fold_5_finetuned.tflite (158.9 KB)\n"
     ]
    },
    {
     "name": "stderr",
     "output_type": "stream",
     "text": [
      "WARNING:absl:Found untraced functions such as _jit_compiled_convolution_op, _update_step_xla while saving (showing 2 of 2). These functions will not be directly callable after loading.\n"
     ]
    },
    {
     "name": "stdout",
     "output_type": "stream",
     "text": [
      "INFO:tensorflow:Assets written to: /tmp/tmpgxc4vpu7/assets\n"
     ]
    },
    {
     "name": "stderr",
     "output_type": "stream",
     "text": [
      "INFO:tensorflow:Assets written to: /tmp/tmpgxc4vpu7/assets\n",
      "/home/pmedur/strojnoUcenje/env/lib/python3.10/site-packages/tensorflow/lite/python/convert.py:765: UserWarning: Statistics for quantized inputs were expected, but not specified; continuing anyway.\n",
      "  warnings.warn(\"Statistics for quantized inputs were expected, but not \"\n",
      "fully_quantize: 0, inference_type: 6, input_inference_type: INT8, output_inference_type: INT8\n"
     ]
    },
    {
     "name": "stdout",
     "output_type": "stream",
     "text": [
      "  Saved (int8):    tflite_models/finetuned/int8_quantization/model_1_fold_5_finetuned.tflite (43.4 KB)\n",
      "  Fold 6:\n"
     ]
    },
    {
     "name": "stderr",
     "output_type": "stream",
     "text": [
      "WARNING:absl:Found untraced functions such as _jit_compiled_convolution_op, _update_step_xla while saving (showing 2 of 2). These functions will not be directly callable after loading.\n"
     ]
    },
    {
     "name": "stdout",
     "output_type": "stream",
     "text": [
      "INFO:tensorflow:Assets written to: /tmp/tmp_9op3dx0/assets\n"
     ]
    },
    {
     "name": "stderr",
     "output_type": "stream",
     "text": [
      "INFO:tensorflow:Assets written to: /tmp/tmp_9op3dx0/assets\n"
     ]
    },
    {
     "name": "stdout",
     "output_type": "stream",
     "text": [
      "  Saved (no quant): tflite_models/finetuned/no_quantization/model_1_fold_6_finetuned.tflite (158.9 KB)\n"
     ]
    },
    {
     "name": "stderr",
     "output_type": "stream",
     "text": [
      "WARNING:absl:Found untraced functions such as _jit_compiled_convolution_op, _update_step_xla while saving (showing 2 of 2). These functions will not be directly callable after loading.\n"
     ]
    },
    {
     "name": "stdout",
     "output_type": "stream",
     "text": [
      "INFO:tensorflow:Assets written to: /tmp/tmpn85zifqf/assets\n"
     ]
    },
    {
     "name": "stderr",
     "output_type": "stream",
     "text": [
      "INFO:tensorflow:Assets written to: /tmp/tmpn85zifqf/assets\n",
      "/home/pmedur/strojnoUcenje/env/lib/python3.10/site-packages/tensorflow/lite/python/convert.py:765: UserWarning: Statistics for quantized inputs were expected, but not specified; continuing anyway.\n",
      "  warnings.warn(\"Statistics for quantized inputs were expected, but not \"\n",
      "fully_quantize: 0, inference_type: 6, input_inference_type: INT8, output_inference_type: INT8\n"
     ]
    },
    {
     "name": "stdout",
     "output_type": "stream",
     "text": [
      "  Saved (int8):    tflite_models/finetuned/int8_quantization/model_1_fold_6_finetuned.tflite (43.4 KB)\n",
      "  Fold 7:\n"
     ]
    },
    {
     "name": "stderr",
     "output_type": "stream",
     "text": [
      "WARNING:absl:Found untraced functions such as _jit_compiled_convolution_op, _update_step_xla while saving (showing 2 of 2). These functions will not be directly callable after loading.\n"
     ]
    },
    {
     "name": "stdout",
     "output_type": "stream",
     "text": [
      "INFO:tensorflow:Assets written to: /tmp/tmp4ootnssb/assets\n"
     ]
    },
    {
     "name": "stderr",
     "output_type": "stream",
     "text": [
      "INFO:tensorflow:Assets written to: /tmp/tmp4ootnssb/assets\n"
     ]
    },
    {
     "name": "stdout",
     "output_type": "stream",
     "text": [
      "  Saved (no quant): tflite_models/finetuned/no_quantization/model_1_fold_7_finetuned.tflite (158.9 KB)\n"
     ]
    },
    {
     "name": "stderr",
     "output_type": "stream",
     "text": [
      "WARNING:absl:Found untraced functions such as _jit_compiled_convolution_op, _update_step_xla while saving (showing 2 of 2). These functions will not be directly callable after loading.\n"
     ]
    },
    {
     "name": "stdout",
     "output_type": "stream",
     "text": [
      "INFO:tensorflow:Assets written to: /tmp/tmpdj269fz7/assets\n"
     ]
    },
    {
     "name": "stderr",
     "output_type": "stream",
     "text": [
      "INFO:tensorflow:Assets written to: /tmp/tmpdj269fz7/assets\n",
      "/home/pmedur/strojnoUcenje/env/lib/python3.10/site-packages/tensorflow/lite/python/convert.py:765: UserWarning: Statistics for quantized inputs were expected, but not specified; continuing anyway.\n",
      "  warnings.warn(\"Statistics for quantized inputs were expected, but not \"\n",
      "fully_quantize: 0, inference_type: 6, input_inference_type: INT8, output_inference_type: INT8\n"
     ]
    },
    {
     "name": "stdout",
     "output_type": "stream",
     "text": [
      "  Saved (int8):    tflite_models/finetuned/int8_quantization/model_1_fold_7_finetuned.tflite (43.4 KB)\n",
      "  Fold 8:\n"
     ]
    },
    {
     "name": "stderr",
     "output_type": "stream",
     "text": [
      "WARNING:absl:Found untraced functions such as _jit_compiled_convolution_op, _update_step_xla while saving (showing 2 of 2). These functions will not be directly callable after loading.\n"
     ]
    },
    {
     "name": "stdout",
     "output_type": "stream",
     "text": [
      "INFO:tensorflow:Assets written to: /tmp/tmp8we6nbc0/assets\n"
     ]
    },
    {
     "name": "stderr",
     "output_type": "stream",
     "text": [
      "INFO:tensorflow:Assets written to: /tmp/tmp8we6nbc0/assets\n"
     ]
    },
    {
     "name": "stdout",
     "output_type": "stream",
     "text": [
      "  Saved (no quant): tflite_models/finetuned/no_quantization/model_1_fold_8_finetuned.tflite (158.9 KB)\n"
     ]
    },
    {
     "name": "stderr",
     "output_type": "stream",
     "text": [
      "WARNING:absl:Found untraced functions such as _jit_compiled_convolution_op, _update_step_xla while saving (showing 2 of 2). These functions will not be directly callable after loading.\n"
     ]
    },
    {
     "name": "stdout",
     "output_type": "stream",
     "text": [
      "INFO:tensorflow:Assets written to: /tmp/tmpl8ypfquz/assets\n"
     ]
    },
    {
     "name": "stderr",
     "output_type": "stream",
     "text": [
      "INFO:tensorflow:Assets written to: /tmp/tmpl8ypfquz/assets\n",
      "/home/pmedur/strojnoUcenje/env/lib/python3.10/site-packages/tensorflow/lite/python/convert.py:765: UserWarning: Statistics for quantized inputs were expected, but not specified; continuing anyway.\n",
      "  warnings.warn(\"Statistics for quantized inputs were expected, but not \"\n",
      "fully_quantize: 0, inference_type: 6, input_inference_type: INT8, output_inference_type: INT8\n"
     ]
    },
    {
     "name": "stdout",
     "output_type": "stream",
     "text": [
      "  Saved (int8):    tflite_models/finetuned/int8_quantization/model_1_fold_8_finetuned.tflite (43.4 KB)\n",
      "  Fold 9:\n"
     ]
    },
    {
     "name": "stderr",
     "output_type": "stream",
     "text": [
      "WARNING:absl:Found untraced functions such as _jit_compiled_convolution_op, _update_step_xla while saving (showing 2 of 2). These functions will not be directly callable after loading.\n"
     ]
    },
    {
     "name": "stdout",
     "output_type": "stream",
     "text": [
      "INFO:tensorflow:Assets written to: /tmp/tmpd1xc8ncv/assets\n"
     ]
    },
    {
     "name": "stderr",
     "output_type": "stream",
     "text": [
      "INFO:tensorflow:Assets written to: /tmp/tmpd1xc8ncv/assets\n"
     ]
    },
    {
     "name": "stdout",
     "output_type": "stream",
     "text": [
      "  Saved (no quant): tflite_models/finetuned/no_quantization/model_1_fold_9_finetuned.tflite (158.9 KB)\n"
     ]
    },
    {
     "name": "stderr",
     "output_type": "stream",
     "text": [
      "WARNING:absl:Found untraced functions such as _jit_compiled_convolution_op, _update_step_xla while saving (showing 2 of 2). These functions will not be directly callable after loading.\n"
     ]
    },
    {
     "name": "stdout",
     "output_type": "stream",
     "text": [
      "INFO:tensorflow:Assets written to: /tmp/tmp6naiw26j/assets\n"
     ]
    },
    {
     "name": "stderr",
     "output_type": "stream",
     "text": [
      "INFO:tensorflow:Assets written to: /tmp/tmp6naiw26j/assets\n",
      "/home/pmedur/strojnoUcenje/env/lib/python3.10/site-packages/tensorflow/lite/python/convert.py:765: UserWarning: Statistics for quantized inputs were expected, but not specified; continuing anyway.\n",
      "  warnings.warn(\"Statistics for quantized inputs were expected, but not \"\n",
      "fully_quantize: 0, inference_type: 6, input_inference_type: INT8, output_inference_type: INT8\n"
     ]
    },
    {
     "name": "stdout",
     "output_type": "stream",
     "text": [
      "  Saved (int8):    tflite_models/finetuned/int8_quantization/model_1_fold_9_finetuned.tflite (43.4 KB)\n",
      "  Fold 10:\n"
     ]
    },
    {
     "name": "stderr",
     "output_type": "stream",
     "text": [
      "WARNING:absl:Found untraced functions such as _jit_compiled_convolution_op, _update_step_xla while saving (showing 2 of 2). These functions will not be directly callable after loading.\n"
     ]
    },
    {
     "name": "stdout",
     "output_type": "stream",
     "text": [
      "INFO:tensorflow:Assets written to: /tmp/tmp9qhq6z1p/assets\n"
     ]
    },
    {
     "name": "stderr",
     "output_type": "stream",
     "text": [
      "INFO:tensorflow:Assets written to: /tmp/tmp9qhq6z1p/assets\n"
     ]
    },
    {
     "name": "stdout",
     "output_type": "stream",
     "text": [
      "  Saved (no quant): tflite_models/finetuned/no_quantization/model_1_fold_10_finetuned.tflite (158.9 KB)\n"
     ]
    },
    {
     "name": "stderr",
     "output_type": "stream",
     "text": [
      "WARNING:absl:Found untraced functions such as _jit_compiled_convolution_op, _update_step_xla while saving (showing 2 of 2). These functions will not be directly callable after loading.\n"
     ]
    },
    {
     "name": "stdout",
     "output_type": "stream",
     "text": [
      "INFO:tensorflow:Assets written to: /tmp/tmp7d8dshx_/assets\n"
     ]
    },
    {
     "name": "stderr",
     "output_type": "stream",
     "text": [
      "INFO:tensorflow:Assets written to: /tmp/tmp7d8dshx_/assets\n",
      "/home/pmedur/strojnoUcenje/env/lib/python3.10/site-packages/tensorflow/lite/python/convert.py:765: UserWarning: Statistics for quantized inputs were expected, but not specified; continuing anyway.\n",
      "  warnings.warn(\"Statistics for quantized inputs were expected, but not \"\n",
      "fully_quantize: 0, inference_type: 6, input_inference_type: INT8, output_inference_type: INT8\n"
     ]
    },
    {
     "name": "stdout",
     "output_type": "stream",
     "text": [
      "  Saved (int8):    tflite_models/finetuned/int8_quantization/model_1_fold_10_finetuned.tflite (43.4 KB)\n",
      "\n",
      "model_2:\n",
      "  Fold 1:\n"
     ]
    },
    {
     "name": "stderr",
     "output_type": "stream",
     "text": [
      "WARNING:absl:Found untraced functions such as _jit_compiled_convolution_op, _update_step_xla while saving (showing 2 of 2). These functions will not be directly callable after loading.\n"
     ]
    },
    {
     "name": "stdout",
     "output_type": "stream",
     "text": [
      "INFO:tensorflow:Assets written to: /tmp/tmphjmb3tpx/assets\n"
     ]
    },
    {
     "name": "stderr",
     "output_type": "stream",
     "text": [
      "INFO:tensorflow:Assets written to: /tmp/tmphjmb3tpx/assets\n"
     ]
    },
    {
     "name": "stdout",
     "output_type": "stream",
     "text": [
      "  Saved (no quant): tflite_models/finetuned/no_quantization/model_2_fold_1_finetuned.tflite (613.8 KB)\n"
     ]
    },
    {
     "name": "stderr",
     "output_type": "stream",
     "text": [
      "WARNING:absl:Found untraced functions such as _jit_compiled_convolution_op, _update_step_xla while saving (showing 2 of 2). These functions will not be directly callable after loading.\n"
     ]
    },
    {
     "name": "stdout",
     "output_type": "stream",
     "text": [
      "INFO:tensorflow:Assets written to: /tmp/tmpy7vk2rmh/assets\n"
     ]
    },
    {
     "name": "stderr",
     "output_type": "stream",
     "text": [
      "INFO:tensorflow:Assets written to: /tmp/tmpy7vk2rmh/assets\n",
      "/home/pmedur/strojnoUcenje/env/lib/python3.10/site-packages/tensorflow/lite/python/convert.py:765: UserWarning: Statistics for quantized inputs were expected, but not specified; continuing anyway.\n",
      "  warnings.warn(\"Statistics for quantized inputs were expected, but not \"\n",
      "fully_quantize: 0, inference_type: 6, input_inference_type: INT8, output_inference_type: INT8\n"
     ]
    },
    {
     "name": "stdout",
     "output_type": "stream",
     "text": [
      "  Saved (int8):    tflite_models/finetuned/int8_quantization/model_2_fold_1_finetuned.tflite (157.5 KB)\n",
      "  Fold 2:\n"
     ]
    },
    {
     "name": "stderr",
     "output_type": "stream",
     "text": [
      "WARNING:absl:Found untraced functions such as _jit_compiled_convolution_op, _update_step_xla while saving (showing 2 of 2). These functions will not be directly callable after loading.\n"
     ]
    },
    {
     "name": "stdout",
     "output_type": "stream",
     "text": [
      "INFO:tensorflow:Assets written to: /tmp/tmp8qk5vk2w/assets\n"
     ]
    },
    {
     "name": "stderr",
     "output_type": "stream",
     "text": [
      "INFO:tensorflow:Assets written to: /tmp/tmp8qk5vk2w/assets\n"
     ]
    },
    {
     "name": "stdout",
     "output_type": "stream",
     "text": [
      "  Saved (no quant): tflite_models/finetuned/no_quantization/model_2_fold_2_finetuned.tflite (613.8 KB)\n"
     ]
    },
    {
     "name": "stderr",
     "output_type": "stream",
     "text": [
      "WARNING:absl:Found untraced functions such as _jit_compiled_convolution_op, _update_step_xla while saving (showing 2 of 2). These functions will not be directly callable after loading.\n"
     ]
    },
    {
     "name": "stdout",
     "output_type": "stream",
     "text": [
      "INFO:tensorflow:Assets written to: /tmp/tmpzudph5yj/assets\n"
     ]
    },
    {
     "name": "stderr",
     "output_type": "stream",
     "text": [
      "INFO:tensorflow:Assets written to: /tmp/tmpzudph5yj/assets\n",
      "/home/pmedur/strojnoUcenje/env/lib/python3.10/site-packages/tensorflow/lite/python/convert.py:765: UserWarning: Statistics for quantized inputs were expected, but not specified; continuing anyway.\n",
      "  warnings.warn(\"Statistics for quantized inputs were expected, but not \"\n",
      "fully_quantize: 0, inference_type: 6, input_inference_type: INT8, output_inference_type: INT8\n"
     ]
    },
    {
     "name": "stdout",
     "output_type": "stream",
     "text": [
      "  Saved (int8):    tflite_models/finetuned/int8_quantization/model_2_fold_2_finetuned.tflite (157.5 KB)\n",
      "  Fold 3:\n"
     ]
    },
    {
     "name": "stderr",
     "output_type": "stream",
     "text": [
      "WARNING:absl:Found untraced functions such as _jit_compiled_convolution_op, _update_step_xla while saving (showing 2 of 2). These functions will not be directly callable after loading.\n"
     ]
    },
    {
     "name": "stdout",
     "output_type": "stream",
     "text": [
      "INFO:tensorflow:Assets written to: /tmp/tmp1dytsq5g/assets\n"
     ]
    },
    {
     "name": "stderr",
     "output_type": "stream",
     "text": [
      "INFO:tensorflow:Assets written to: /tmp/tmp1dytsq5g/assets\n"
     ]
    },
    {
     "name": "stdout",
     "output_type": "stream",
     "text": [
      "  Saved (no quant): tflite_models/finetuned/no_quantization/model_2_fold_3_finetuned.tflite (613.8 KB)\n"
     ]
    },
    {
     "name": "stderr",
     "output_type": "stream",
     "text": [
      "WARNING:absl:Found untraced functions such as _jit_compiled_convolution_op, _update_step_xla while saving (showing 2 of 2). These functions will not be directly callable after loading.\n"
     ]
    },
    {
     "name": "stdout",
     "output_type": "stream",
     "text": [
      "INFO:tensorflow:Assets written to: /tmp/tmpiur9it16/assets\n"
     ]
    },
    {
     "name": "stderr",
     "output_type": "stream",
     "text": [
      "INFO:tensorflow:Assets written to: /tmp/tmpiur9it16/assets\n",
      "/home/pmedur/strojnoUcenje/env/lib/python3.10/site-packages/tensorflow/lite/python/convert.py:765: UserWarning: Statistics for quantized inputs were expected, but not specified; continuing anyway.\n",
      "  warnings.warn(\"Statistics for quantized inputs were expected, but not \"\n",
      "fully_quantize: 0, inference_type: 6, input_inference_type: INT8, output_inference_type: INT8\n"
     ]
    },
    {
     "name": "stdout",
     "output_type": "stream",
     "text": [
      "  Saved (int8):    tflite_models/finetuned/int8_quantization/model_2_fold_3_finetuned.tflite (157.5 KB)\n",
      "  Fold 4:\n"
     ]
    },
    {
     "name": "stderr",
     "output_type": "stream",
     "text": [
      "WARNING:absl:Found untraced functions such as _jit_compiled_convolution_op, _update_step_xla while saving (showing 2 of 2). These functions will not be directly callable after loading.\n"
     ]
    },
    {
     "name": "stdout",
     "output_type": "stream",
     "text": [
      "INFO:tensorflow:Assets written to: /tmp/tmpocl2236e/assets\n"
     ]
    },
    {
     "name": "stderr",
     "output_type": "stream",
     "text": [
      "INFO:tensorflow:Assets written to: /tmp/tmpocl2236e/assets\n"
     ]
    },
    {
     "name": "stdout",
     "output_type": "stream",
     "text": [
      "  Saved (no quant): tflite_models/finetuned/no_quantization/model_2_fold_4_finetuned.tflite (613.8 KB)\n"
     ]
    },
    {
     "name": "stderr",
     "output_type": "stream",
     "text": [
      "WARNING:absl:Found untraced functions such as _jit_compiled_convolution_op, _update_step_xla while saving (showing 2 of 2). These functions will not be directly callable after loading.\n"
     ]
    },
    {
     "name": "stdout",
     "output_type": "stream",
     "text": [
      "INFO:tensorflow:Assets written to: /tmp/tmp9hqzcrcd/assets\n"
     ]
    },
    {
     "name": "stderr",
     "output_type": "stream",
     "text": [
      "INFO:tensorflow:Assets written to: /tmp/tmp9hqzcrcd/assets\n",
      "/home/pmedur/strojnoUcenje/env/lib/python3.10/site-packages/tensorflow/lite/python/convert.py:765: UserWarning: Statistics for quantized inputs were expected, but not specified; continuing anyway.\n",
      "  warnings.warn(\"Statistics for quantized inputs were expected, but not \"\n",
      "fully_quantize: 0, inference_type: 6, input_inference_type: INT8, output_inference_type: INT8\n"
     ]
    },
    {
     "name": "stdout",
     "output_type": "stream",
     "text": [
      "  Saved (int8):    tflite_models/finetuned/int8_quantization/model_2_fold_4_finetuned.tflite (157.5 KB)\n",
      "  Fold 5:\n"
     ]
    },
    {
     "name": "stderr",
     "output_type": "stream",
     "text": [
      "WARNING:absl:Found untraced functions such as _jit_compiled_convolution_op, _update_step_xla while saving (showing 2 of 2). These functions will not be directly callable after loading.\n"
     ]
    },
    {
     "name": "stdout",
     "output_type": "stream",
     "text": [
      "INFO:tensorflow:Assets written to: /tmp/tmpfrcaji4r/assets\n"
     ]
    },
    {
     "name": "stderr",
     "output_type": "stream",
     "text": [
      "INFO:tensorflow:Assets written to: /tmp/tmpfrcaji4r/assets\n"
     ]
    },
    {
     "name": "stdout",
     "output_type": "stream",
     "text": [
      "  Saved (no quant): tflite_models/finetuned/no_quantization/model_2_fold_5_finetuned.tflite (613.8 KB)\n"
     ]
    },
    {
     "name": "stderr",
     "output_type": "stream",
     "text": [
      "WARNING:absl:Found untraced functions such as _jit_compiled_convolution_op, _update_step_xla while saving (showing 2 of 2). These functions will not be directly callable after loading.\n"
     ]
    },
    {
     "name": "stdout",
     "output_type": "stream",
     "text": [
      "INFO:tensorflow:Assets written to: /tmp/tmpj47uxe09/assets\n"
     ]
    },
    {
     "name": "stderr",
     "output_type": "stream",
     "text": [
      "INFO:tensorflow:Assets written to: /tmp/tmpj47uxe09/assets\n",
      "/home/pmedur/strojnoUcenje/env/lib/python3.10/site-packages/tensorflow/lite/python/convert.py:765: UserWarning: Statistics for quantized inputs were expected, but not specified; continuing anyway.\n",
      "  warnings.warn(\"Statistics for quantized inputs were expected, but not \"\n",
      "fully_quantize: 0, inference_type: 6, input_inference_type: INT8, output_inference_type: INT8\n"
     ]
    },
    {
     "name": "stdout",
     "output_type": "stream",
     "text": [
      "  Saved (int8):    tflite_models/finetuned/int8_quantization/model_2_fold_5_finetuned.tflite (157.5 KB)\n",
      "  Fold 6:\n"
     ]
    },
    {
     "name": "stderr",
     "output_type": "stream",
     "text": [
      "WARNING:absl:Found untraced functions such as _jit_compiled_convolution_op, _update_step_xla while saving (showing 2 of 2). These functions will not be directly callable after loading.\n"
     ]
    },
    {
     "name": "stdout",
     "output_type": "stream",
     "text": [
      "INFO:tensorflow:Assets written to: /tmp/tmp7ogz7m0i/assets\n"
     ]
    },
    {
     "name": "stderr",
     "output_type": "stream",
     "text": [
      "INFO:tensorflow:Assets written to: /tmp/tmp7ogz7m0i/assets\n"
     ]
    },
    {
     "name": "stdout",
     "output_type": "stream",
     "text": [
      "  Saved (no quant): tflite_models/finetuned/no_quantization/model_2_fold_6_finetuned.tflite (613.8 KB)\n"
     ]
    },
    {
     "name": "stderr",
     "output_type": "stream",
     "text": [
      "WARNING:absl:Found untraced functions such as _jit_compiled_convolution_op, _update_step_xla while saving (showing 2 of 2). These functions will not be directly callable after loading.\n"
     ]
    },
    {
     "name": "stdout",
     "output_type": "stream",
     "text": [
      "INFO:tensorflow:Assets written to: /tmp/tmp649h0xw1/assets\n"
     ]
    },
    {
     "name": "stderr",
     "output_type": "stream",
     "text": [
      "INFO:tensorflow:Assets written to: /tmp/tmp649h0xw1/assets\n",
      "/home/pmedur/strojnoUcenje/env/lib/python3.10/site-packages/tensorflow/lite/python/convert.py:765: UserWarning: Statistics for quantized inputs were expected, but not specified; continuing anyway.\n",
      "  warnings.warn(\"Statistics for quantized inputs were expected, but not \"\n",
      "fully_quantize: 0, inference_type: 6, input_inference_type: INT8, output_inference_type: INT8\n"
     ]
    },
    {
     "name": "stdout",
     "output_type": "stream",
     "text": [
      "  Saved (int8):    tflite_models/finetuned/int8_quantization/model_2_fold_6_finetuned.tflite (157.5 KB)\n",
      "  Fold 7:\n"
     ]
    },
    {
     "name": "stderr",
     "output_type": "stream",
     "text": [
      "WARNING:absl:Found untraced functions such as _jit_compiled_convolution_op, _update_step_xla while saving (showing 2 of 2). These functions will not be directly callable after loading.\n"
     ]
    },
    {
     "name": "stdout",
     "output_type": "stream",
     "text": [
      "INFO:tensorflow:Assets written to: /tmp/tmpnb85n8z3/assets\n"
     ]
    },
    {
     "name": "stderr",
     "output_type": "stream",
     "text": [
      "INFO:tensorflow:Assets written to: /tmp/tmpnb85n8z3/assets\n"
     ]
    },
    {
     "name": "stdout",
     "output_type": "stream",
     "text": [
      "  Saved (no quant): tflite_models/finetuned/no_quantization/model_2_fold_7_finetuned.tflite (613.8 KB)\n"
     ]
    },
    {
     "name": "stderr",
     "output_type": "stream",
     "text": [
      "WARNING:absl:Found untraced functions such as _jit_compiled_convolution_op, _update_step_xla while saving (showing 2 of 2). These functions will not be directly callable after loading.\n"
     ]
    },
    {
     "name": "stdout",
     "output_type": "stream",
     "text": [
      "INFO:tensorflow:Assets written to: /tmp/tmp5bea5axy/assets\n"
     ]
    },
    {
     "name": "stderr",
     "output_type": "stream",
     "text": [
      "INFO:tensorflow:Assets written to: /tmp/tmp5bea5axy/assets\n",
      "/home/pmedur/strojnoUcenje/env/lib/python3.10/site-packages/tensorflow/lite/python/convert.py:765: UserWarning: Statistics for quantized inputs were expected, but not specified; continuing anyway.\n",
      "  warnings.warn(\"Statistics for quantized inputs were expected, but not \"\n",
      "fully_quantize: 0, inference_type: 6, input_inference_type: INT8, output_inference_type: INT8\n"
     ]
    },
    {
     "name": "stdout",
     "output_type": "stream",
     "text": [
      "  Saved (int8):    tflite_models/finetuned/int8_quantization/model_2_fold_7_finetuned.tflite (157.5 KB)\n",
      "  Fold 8:\n"
     ]
    },
    {
     "name": "stderr",
     "output_type": "stream",
     "text": [
      "WARNING:absl:Found untraced functions such as _jit_compiled_convolution_op, _update_step_xla while saving (showing 2 of 2). These functions will not be directly callable after loading.\n"
     ]
    },
    {
     "name": "stdout",
     "output_type": "stream",
     "text": [
      "INFO:tensorflow:Assets written to: /tmp/tmpwkpxauhq/assets\n"
     ]
    },
    {
     "name": "stderr",
     "output_type": "stream",
     "text": [
      "INFO:tensorflow:Assets written to: /tmp/tmpwkpxauhq/assets\n"
     ]
    },
    {
     "name": "stdout",
     "output_type": "stream",
     "text": [
      "  Saved (no quant): tflite_models/finetuned/no_quantization/model_2_fold_8_finetuned.tflite (613.8 KB)\n"
     ]
    },
    {
     "name": "stderr",
     "output_type": "stream",
     "text": [
      "WARNING:absl:Found untraced functions such as _jit_compiled_convolution_op, _update_step_xla while saving (showing 2 of 2). These functions will not be directly callable after loading.\n"
     ]
    },
    {
     "name": "stdout",
     "output_type": "stream",
     "text": [
      "INFO:tensorflow:Assets written to: /tmp/tmpfg5vfp8d/assets\n"
     ]
    },
    {
     "name": "stderr",
     "output_type": "stream",
     "text": [
      "INFO:tensorflow:Assets written to: /tmp/tmpfg5vfp8d/assets\n",
      "/home/pmedur/strojnoUcenje/env/lib/python3.10/site-packages/tensorflow/lite/python/convert.py:765: UserWarning: Statistics for quantized inputs were expected, but not specified; continuing anyway.\n",
      "  warnings.warn(\"Statistics for quantized inputs were expected, but not \"\n",
      "fully_quantize: 0, inference_type: 6, input_inference_type: INT8, output_inference_type: INT8\n"
     ]
    },
    {
     "name": "stdout",
     "output_type": "stream",
     "text": [
      "  Saved (int8):    tflite_models/finetuned/int8_quantization/model_2_fold_8_finetuned.tflite (157.5 KB)\n",
      "  Fold 9:\n"
     ]
    },
    {
     "name": "stderr",
     "output_type": "stream",
     "text": [
      "WARNING:absl:Found untraced functions such as _jit_compiled_convolution_op, _update_step_xla while saving (showing 2 of 2). These functions will not be directly callable after loading.\n"
     ]
    },
    {
     "name": "stdout",
     "output_type": "stream",
     "text": [
      "INFO:tensorflow:Assets written to: /tmp/tmp2ob1lwrg/assets\n"
     ]
    },
    {
     "name": "stderr",
     "output_type": "stream",
     "text": [
      "INFO:tensorflow:Assets written to: /tmp/tmp2ob1lwrg/assets\n"
     ]
    },
    {
     "name": "stdout",
     "output_type": "stream",
     "text": [
      "  Saved (no quant): tflite_models/finetuned/no_quantization/model_2_fold_9_finetuned.tflite (613.8 KB)\n"
     ]
    },
    {
     "name": "stderr",
     "output_type": "stream",
     "text": [
      "WARNING:absl:Found untraced functions such as _jit_compiled_convolution_op, _update_step_xla while saving (showing 2 of 2). These functions will not be directly callable after loading.\n"
     ]
    },
    {
     "name": "stdout",
     "output_type": "stream",
     "text": [
      "INFO:tensorflow:Assets written to: /tmp/tmpsymlght6/assets\n"
     ]
    },
    {
     "name": "stderr",
     "output_type": "stream",
     "text": [
      "INFO:tensorflow:Assets written to: /tmp/tmpsymlght6/assets\n",
      "/home/pmedur/strojnoUcenje/env/lib/python3.10/site-packages/tensorflow/lite/python/convert.py:765: UserWarning: Statistics for quantized inputs were expected, but not specified; continuing anyway.\n",
      "  warnings.warn(\"Statistics for quantized inputs were expected, but not \"\n",
      "fully_quantize: 0, inference_type: 6, input_inference_type: INT8, output_inference_type: INT8\n"
     ]
    },
    {
     "name": "stdout",
     "output_type": "stream",
     "text": [
      "  Saved (int8):    tflite_models/finetuned/int8_quantization/model_2_fold_9_finetuned.tflite (157.5 KB)\n",
      "  Fold 10:\n"
     ]
    },
    {
     "name": "stderr",
     "output_type": "stream",
     "text": [
      "WARNING:absl:Found untraced functions such as _jit_compiled_convolution_op, _update_step_xla while saving (showing 2 of 2). These functions will not be directly callable after loading.\n"
     ]
    },
    {
     "name": "stdout",
     "output_type": "stream",
     "text": [
      "INFO:tensorflow:Assets written to: /tmp/tmpa2uep1bn/assets\n"
     ]
    },
    {
     "name": "stderr",
     "output_type": "stream",
     "text": [
      "INFO:tensorflow:Assets written to: /tmp/tmpa2uep1bn/assets\n"
     ]
    },
    {
     "name": "stdout",
     "output_type": "stream",
     "text": [
      "  Saved (no quant): tflite_models/finetuned/no_quantization/model_2_fold_10_finetuned.tflite (613.8 KB)\n"
     ]
    },
    {
     "name": "stderr",
     "output_type": "stream",
     "text": [
      "WARNING:absl:Found untraced functions such as _jit_compiled_convolution_op, _update_step_xla while saving (showing 2 of 2). These functions will not be directly callable after loading.\n"
     ]
    },
    {
     "name": "stdout",
     "output_type": "stream",
     "text": [
      "INFO:tensorflow:Assets written to: /tmp/tmphiqhclpp/assets\n"
     ]
    },
    {
     "name": "stderr",
     "output_type": "stream",
     "text": [
      "INFO:tensorflow:Assets written to: /tmp/tmphiqhclpp/assets\n",
      "/home/pmedur/strojnoUcenje/env/lib/python3.10/site-packages/tensorflow/lite/python/convert.py:765: UserWarning: Statistics for quantized inputs were expected, but not specified; continuing anyway.\n",
      "  warnings.warn(\"Statistics for quantized inputs were expected, but not \"\n",
      "fully_quantize: 0, inference_type: 6, input_inference_type: INT8, output_inference_type: INT8\n"
     ]
    },
    {
     "name": "stdout",
     "output_type": "stream",
     "text": [
      "  Saved (int8):    tflite_models/finetuned/int8_quantization/model_2_fold_10_finetuned.tflite (157.5 KB)\n",
      "\n",
      "model_3:\n",
      "  Fold 1:\n"
     ]
    },
    {
     "name": "stderr",
     "output_type": "stream",
     "text": [
      "WARNING:absl:Found untraced functions such as _jit_compiled_convolution_op, _jit_compiled_convolution_op, _update_step_xla while saving (showing 3 of 3). These functions will not be directly callable after loading.\n"
     ]
    },
    {
     "name": "stdout",
     "output_type": "stream",
     "text": [
      "INFO:tensorflow:Assets written to: /tmp/tmpqx55j8m8/assets\n"
     ]
    },
    {
     "name": "stderr",
     "output_type": "stream",
     "text": [
      "INFO:tensorflow:Assets written to: /tmp/tmpqx55j8m8/assets\n"
     ]
    },
    {
     "name": "stdout",
     "output_type": "stream",
     "text": [
      "  Saved (no quant): tflite_models/finetuned/no_quantization/model_3_fold_1_finetuned.tflite (617.8 KB)\n"
     ]
    },
    {
     "name": "stderr",
     "output_type": "stream",
     "text": [
      "WARNING:absl:Found untraced functions such as _jit_compiled_convolution_op, _jit_compiled_convolution_op, _update_step_xla while saving (showing 3 of 3). These functions will not be directly callable after loading.\n"
     ]
    },
    {
     "name": "stdout",
     "output_type": "stream",
     "text": [
      "INFO:tensorflow:Assets written to: /tmp/tmp22husojz/assets\n"
     ]
    },
    {
     "name": "stderr",
     "output_type": "stream",
     "text": [
      "INFO:tensorflow:Assets written to: /tmp/tmp22husojz/assets\n",
      "/home/pmedur/strojnoUcenje/env/lib/python3.10/site-packages/tensorflow/lite/python/convert.py:765: UserWarning: Statistics for quantized inputs were expected, but not specified; continuing anyway.\n",
      "  warnings.warn(\"Statistics for quantized inputs were expected, but not \"\n",
      "fully_quantize: 0, inference_type: 6, input_inference_type: INT8, output_inference_type: INT8\n"
     ]
    },
    {
     "name": "stdout",
     "output_type": "stream",
     "text": [
      "  Saved (int8):    tflite_models/finetuned/int8_quantization/model_3_fold_1_finetuned.tflite (160.1 KB)\n",
      "  Fold 2:\n"
     ]
    },
    {
     "name": "stderr",
     "output_type": "stream",
     "text": [
      "WARNING:absl:Found untraced functions such as _jit_compiled_convolution_op, _jit_compiled_convolution_op, _update_step_xla while saving (showing 3 of 3). These functions will not be directly callable after loading.\n"
     ]
    },
    {
     "name": "stdout",
     "output_type": "stream",
     "text": [
      "INFO:tensorflow:Assets written to: /tmp/tmp2yr6kuam/assets\n"
     ]
    },
    {
     "name": "stderr",
     "output_type": "stream",
     "text": [
      "INFO:tensorflow:Assets written to: /tmp/tmp2yr6kuam/assets\n"
     ]
    },
    {
     "name": "stdout",
     "output_type": "stream",
     "text": [
      "  Saved (no quant): tflite_models/finetuned/no_quantization/model_3_fold_2_finetuned.tflite (617.8 KB)\n"
     ]
    },
    {
     "name": "stderr",
     "output_type": "stream",
     "text": [
      "WARNING:absl:Found untraced functions such as _jit_compiled_convolution_op, _jit_compiled_convolution_op, _update_step_xla while saving (showing 3 of 3). These functions will not be directly callable after loading.\n"
     ]
    },
    {
     "name": "stdout",
     "output_type": "stream",
     "text": [
      "INFO:tensorflow:Assets written to: /tmp/tmpnkfq9lkw/assets\n"
     ]
    },
    {
     "name": "stderr",
     "output_type": "stream",
     "text": [
      "INFO:tensorflow:Assets written to: /tmp/tmpnkfq9lkw/assets\n",
      "/home/pmedur/strojnoUcenje/env/lib/python3.10/site-packages/tensorflow/lite/python/convert.py:765: UserWarning: Statistics for quantized inputs were expected, but not specified; continuing anyway.\n",
      "  warnings.warn(\"Statistics for quantized inputs were expected, but not \"\n",
      "fully_quantize: 0, inference_type: 6, input_inference_type: INT8, output_inference_type: INT8\n"
     ]
    },
    {
     "name": "stdout",
     "output_type": "stream",
     "text": [
      "  Saved (int8):    tflite_models/finetuned/int8_quantization/model_3_fold_2_finetuned.tflite (160.1 KB)\n",
      "  Fold 3:\n"
     ]
    },
    {
     "name": "stderr",
     "output_type": "stream",
     "text": [
      "WARNING:absl:Found untraced functions such as _jit_compiled_convolution_op, _jit_compiled_convolution_op, _update_step_xla while saving (showing 3 of 3). These functions will not be directly callable after loading.\n"
     ]
    },
    {
     "name": "stdout",
     "output_type": "stream",
     "text": [
      "INFO:tensorflow:Assets written to: /tmp/tmp_0yn_ckj/assets\n"
     ]
    },
    {
     "name": "stderr",
     "output_type": "stream",
     "text": [
      "INFO:tensorflow:Assets written to: /tmp/tmp_0yn_ckj/assets\n"
     ]
    },
    {
     "name": "stdout",
     "output_type": "stream",
     "text": [
      "  Saved (no quant): tflite_models/finetuned/no_quantization/model_3_fold_3_finetuned.tflite (617.8 KB)\n"
     ]
    },
    {
     "name": "stderr",
     "output_type": "stream",
     "text": [
      "WARNING:absl:Found untraced functions such as _jit_compiled_convolution_op, _jit_compiled_convolution_op, _update_step_xla while saving (showing 3 of 3). These functions will not be directly callable after loading.\n"
     ]
    },
    {
     "name": "stdout",
     "output_type": "stream",
     "text": [
      "INFO:tensorflow:Assets written to: /tmp/tmpbc90cyxd/assets\n"
     ]
    },
    {
     "name": "stderr",
     "output_type": "stream",
     "text": [
      "INFO:tensorflow:Assets written to: /tmp/tmpbc90cyxd/assets\n",
      "/home/pmedur/strojnoUcenje/env/lib/python3.10/site-packages/tensorflow/lite/python/convert.py:765: UserWarning: Statistics for quantized inputs were expected, but not specified; continuing anyway.\n",
      "  warnings.warn(\"Statistics for quantized inputs were expected, but not \"\n",
      "fully_quantize: 0, inference_type: 6, input_inference_type: INT8, output_inference_type: INT8\n"
     ]
    },
    {
     "name": "stdout",
     "output_type": "stream",
     "text": [
      "  Saved (int8):    tflite_models/finetuned/int8_quantization/model_3_fold_3_finetuned.tflite (160.1 KB)\n",
      "  Fold 4:\n"
     ]
    },
    {
     "name": "stderr",
     "output_type": "stream",
     "text": [
      "WARNING:absl:Found untraced functions such as _jit_compiled_convolution_op, _jit_compiled_convolution_op, _update_step_xla while saving (showing 3 of 3). These functions will not be directly callable after loading.\n"
     ]
    },
    {
     "name": "stdout",
     "output_type": "stream",
     "text": [
      "INFO:tensorflow:Assets written to: /tmp/tmpn1upsvu3/assets\n"
     ]
    },
    {
     "name": "stderr",
     "output_type": "stream",
     "text": [
      "INFO:tensorflow:Assets written to: /tmp/tmpn1upsvu3/assets\n"
     ]
    },
    {
     "name": "stdout",
     "output_type": "stream",
     "text": [
      "  Saved (no quant): tflite_models/finetuned/no_quantization/model_3_fold_4_finetuned.tflite (617.8 KB)\n"
     ]
    },
    {
     "name": "stderr",
     "output_type": "stream",
     "text": [
      "WARNING:absl:Found untraced functions such as _jit_compiled_convolution_op, _jit_compiled_convolution_op, _update_step_xla while saving (showing 3 of 3). These functions will not be directly callable after loading.\n"
     ]
    },
    {
     "name": "stdout",
     "output_type": "stream",
     "text": [
      "INFO:tensorflow:Assets written to: /tmp/tmptyuy7qqc/assets\n"
     ]
    },
    {
     "name": "stderr",
     "output_type": "stream",
     "text": [
      "INFO:tensorflow:Assets written to: /tmp/tmptyuy7qqc/assets\n",
      "/home/pmedur/strojnoUcenje/env/lib/python3.10/site-packages/tensorflow/lite/python/convert.py:765: UserWarning: Statistics for quantized inputs were expected, but not specified; continuing anyway.\n",
      "  warnings.warn(\"Statistics for quantized inputs were expected, but not \"\n",
      "fully_quantize: 0, inference_type: 6, input_inference_type: INT8, output_inference_type: INT8\n"
     ]
    },
    {
     "name": "stdout",
     "output_type": "stream",
     "text": [
      "  Saved (int8):    tflite_models/finetuned/int8_quantization/model_3_fold_4_finetuned.tflite (160.1 KB)\n",
      "  Fold 5:\n"
     ]
    },
    {
     "name": "stderr",
     "output_type": "stream",
     "text": [
      "WARNING:absl:Found untraced functions such as _jit_compiled_convolution_op, _jit_compiled_convolution_op, _update_step_xla while saving (showing 3 of 3). These functions will not be directly callable after loading.\n"
     ]
    },
    {
     "name": "stdout",
     "output_type": "stream",
     "text": [
      "INFO:tensorflow:Assets written to: /tmp/tmpqljf60fi/assets\n"
     ]
    },
    {
     "name": "stderr",
     "output_type": "stream",
     "text": [
      "INFO:tensorflow:Assets written to: /tmp/tmpqljf60fi/assets\n"
     ]
    },
    {
     "name": "stdout",
     "output_type": "stream",
     "text": [
      "  Saved (no quant): tflite_models/finetuned/no_quantization/model_3_fold_5_finetuned.tflite (617.8 KB)\n"
     ]
    },
    {
     "name": "stderr",
     "output_type": "stream",
     "text": [
      "WARNING:absl:Found untraced functions such as _jit_compiled_convolution_op, _jit_compiled_convolution_op, _update_step_xla while saving (showing 3 of 3). These functions will not be directly callable after loading.\n"
     ]
    },
    {
     "name": "stdout",
     "output_type": "stream",
     "text": [
      "INFO:tensorflow:Assets written to: /tmp/tmp4sp9we29/assets\n"
     ]
    },
    {
     "name": "stderr",
     "output_type": "stream",
     "text": [
      "INFO:tensorflow:Assets written to: /tmp/tmp4sp9we29/assets\n",
      "/home/pmedur/strojnoUcenje/env/lib/python3.10/site-packages/tensorflow/lite/python/convert.py:765: UserWarning: Statistics for quantized inputs were expected, but not specified; continuing anyway.\n",
      "  warnings.warn(\"Statistics for quantized inputs were expected, but not \"\n",
      "fully_quantize: 0, inference_type: 6, input_inference_type: INT8, output_inference_type: INT8\n"
     ]
    },
    {
     "name": "stdout",
     "output_type": "stream",
     "text": [
      "  Saved (int8):    tflite_models/finetuned/int8_quantization/model_3_fold_5_finetuned.tflite (160.1 KB)\n",
      "  Fold 6:\n"
     ]
    },
    {
     "name": "stderr",
     "output_type": "stream",
     "text": [
      "WARNING:absl:Found untraced functions such as _jit_compiled_convolution_op, _jit_compiled_convolution_op, _update_step_xla while saving (showing 3 of 3). These functions will not be directly callable after loading.\n"
     ]
    },
    {
     "name": "stdout",
     "output_type": "stream",
     "text": [
      "INFO:tensorflow:Assets written to: /tmp/tmpf3qgnlfe/assets\n"
     ]
    },
    {
     "name": "stderr",
     "output_type": "stream",
     "text": [
      "INFO:tensorflow:Assets written to: /tmp/tmpf3qgnlfe/assets\n"
     ]
    },
    {
     "name": "stdout",
     "output_type": "stream",
     "text": [
      "  Saved (no quant): tflite_models/finetuned/no_quantization/model_3_fold_6_finetuned.tflite (617.8 KB)\n"
     ]
    },
    {
     "name": "stderr",
     "output_type": "stream",
     "text": [
      "WARNING:absl:Found untraced functions such as _jit_compiled_convolution_op, _jit_compiled_convolution_op, _update_step_xla while saving (showing 3 of 3). These functions will not be directly callable after loading.\n"
     ]
    },
    {
     "name": "stdout",
     "output_type": "stream",
     "text": [
      "INFO:tensorflow:Assets written to: /tmp/tmppe2r5k1t/assets\n"
     ]
    },
    {
     "name": "stderr",
     "output_type": "stream",
     "text": [
      "INFO:tensorflow:Assets written to: /tmp/tmppe2r5k1t/assets\n",
      "/home/pmedur/strojnoUcenje/env/lib/python3.10/site-packages/tensorflow/lite/python/convert.py:765: UserWarning: Statistics for quantized inputs were expected, but not specified; continuing anyway.\n",
      "  warnings.warn(\"Statistics for quantized inputs were expected, but not \"\n",
      "fully_quantize: 0, inference_type: 6, input_inference_type: INT8, output_inference_type: INT8\n"
     ]
    },
    {
     "name": "stdout",
     "output_type": "stream",
     "text": [
      "  Saved (int8):    tflite_models/finetuned/int8_quantization/model_3_fold_6_finetuned.tflite (160.1 KB)\n",
      "  Fold 7:\n"
     ]
    },
    {
     "name": "stderr",
     "output_type": "stream",
     "text": [
      "WARNING:absl:Found untraced functions such as _jit_compiled_convolution_op, _jit_compiled_convolution_op, _update_step_xla while saving (showing 3 of 3). These functions will not be directly callable after loading.\n"
     ]
    },
    {
     "name": "stdout",
     "output_type": "stream",
     "text": [
      "INFO:tensorflow:Assets written to: /tmp/tmp3ucqw99p/assets\n"
     ]
    },
    {
     "name": "stderr",
     "output_type": "stream",
     "text": [
      "INFO:tensorflow:Assets written to: /tmp/tmp3ucqw99p/assets\n"
     ]
    },
    {
     "name": "stdout",
     "output_type": "stream",
     "text": [
      "  Saved (no quant): tflite_models/finetuned/no_quantization/model_3_fold_7_finetuned.tflite (617.8 KB)\n"
     ]
    },
    {
     "name": "stderr",
     "output_type": "stream",
     "text": [
      "WARNING:absl:Found untraced functions such as _jit_compiled_convolution_op, _jit_compiled_convolution_op, _update_step_xla while saving (showing 3 of 3). These functions will not be directly callable after loading.\n"
     ]
    },
    {
     "name": "stdout",
     "output_type": "stream",
     "text": [
      "INFO:tensorflow:Assets written to: /tmp/tmpvfcx7e_c/assets\n"
     ]
    },
    {
     "name": "stderr",
     "output_type": "stream",
     "text": [
      "INFO:tensorflow:Assets written to: /tmp/tmpvfcx7e_c/assets\n",
      "/home/pmedur/strojnoUcenje/env/lib/python3.10/site-packages/tensorflow/lite/python/convert.py:765: UserWarning: Statistics for quantized inputs were expected, but not specified; continuing anyway.\n",
      "  warnings.warn(\"Statistics for quantized inputs were expected, but not \"\n",
      "fully_quantize: 0, inference_type: 6, input_inference_type: INT8, output_inference_type: INT8\n"
     ]
    },
    {
     "name": "stdout",
     "output_type": "stream",
     "text": [
      "  Saved (int8):    tflite_models/finetuned/int8_quantization/model_3_fold_7_finetuned.tflite (160.1 KB)\n",
      "  Fold 8:\n"
     ]
    },
    {
     "name": "stderr",
     "output_type": "stream",
     "text": [
      "WARNING:absl:Found untraced functions such as _jit_compiled_convolution_op, _jit_compiled_convolution_op, _update_step_xla while saving (showing 3 of 3). These functions will not be directly callable after loading.\n"
     ]
    },
    {
     "name": "stdout",
     "output_type": "stream",
     "text": [
      "INFO:tensorflow:Assets written to: /tmp/tmpc76udp8z/assets\n"
     ]
    },
    {
     "name": "stderr",
     "output_type": "stream",
     "text": [
      "INFO:tensorflow:Assets written to: /tmp/tmpc76udp8z/assets\n"
     ]
    },
    {
     "name": "stdout",
     "output_type": "stream",
     "text": [
      "  Saved (no quant): tflite_models/finetuned/no_quantization/model_3_fold_8_finetuned.tflite (617.8 KB)\n"
     ]
    },
    {
     "name": "stderr",
     "output_type": "stream",
     "text": [
      "WARNING:absl:Found untraced functions such as _jit_compiled_convolution_op, _jit_compiled_convolution_op, _update_step_xla while saving (showing 3 of 3). These functions will not be directly callable after loading.\n"
     ]
    },
    {
     "name": "stdout",
     "output_type": "stream",
     "text": [
      "INFO:tensorflow:Assets written to: /tmp/tmpmltvbl2_/assets\n"
     ]
    },
    {
     "name": "stderr",
     "output_type": "stream",
     "text": [
      "INFO:tensorflow:Assets written to: /tmp/tmpmltvbl2_/assets\n",
      "/home/pmedur/strojnoUcenje/env/lib/python3.10/site-packages/tensorflow/lite/python/convert.py:765: UserWarning: Statistics for quantized inputs were expected, but not specified; continuing anyway.\n",
      "  warnings.warn(\"Statistics for quantized inputs were expected, but not \"\n",
      "fully_quantize: 0, inference_type: 6, input_inference_type: INT8, output_inference_type: INT8\n"
     ]
    },
    {
     "name": "stdout",
     "output_type": "stream",
     "text": [
      "  Saved (int8):    tflite_models/finetuned/int8_quantization/model_3_fold_8_finetuned.tflite (160.1 KB)\n",
      "  Fold 9:\n"
     ]
    },
    {
     "name": "stderr",
     "output_type": "stream",
     "text": [
      "WARNING:absl:Found untraced functions such as _jit_compiled_convolution_op, _jit_compiled_convolution_op, _update_step_xla while saving (showing 3 of 3). These functions will not be directly callable after loading.\n"
     ]
    },
    {
     "name": "stdout",
     "output_type": "stream",
     "text": [
      "INFO:tensorflow:Assets written to: /tmp/tmpw_wgubqm/assets\n"
     ]
    },
    {
     "name": "stderr",
     "output_type": "stream",
     "text": [
      "INFO:tensorflow:Assets written to: /tmp/tmpw_wgubqm/assets\n"
     ]
    },
    {
     "name": "stdout",
     "output_type": "stream",
     "text": [
      "  Saved (no quant): tflite_models/finetuned/no_quantization/model_3_fold_9_finetuned.tflite (617.8 KB)\n"
     ]
    },
    {
     "name": "stderr",
     "output_type": "stream",
     "text": [
      "WARNING:absl:Found untraced functions such as _jit_compiled_convolution_op, _jit_compiled_convolution_op, _update_step_xla while saving (showing 3 of 3). These functions will not be directly callable after loading.\n"
     ]
    },
    {
     "name": "stdout",
     "output_type": "stream",
     "text": [
      "INFO:tensorflow:Assets written to: /tmp/tmpsonh8jsl/assets\n"
     ]
    },
    {
     "name": "stderr",
     "output_type": "stream",
     "text": [
      "INFO:tensorflow:Assets written to: /tmp/tmpsonh8jsl/assets\n",
      "/home/pmedur/strojnoUcenje/env/lib/python3.10/site-packages/tensorflow/lite/python/convert.py:765: UserWarning: Statistics for quantized inputs were expected, but not specified; continuing anyway.\n",
      "  warnings.warn(\"Statistics for quantized inputs were expected, but not \"\n",
      "fully_quantize: 0, inference_type: 6, input_inference_type: INT8, output_inference_type: INT8\n"
     ]
    },
    {
     "name": "stdout",
     "output_type": "stream",
     "text": [
      "  Saved (int8):    tflite_models/finetuned/int8_quantization/model_3_fold_9_finetuned.tflite (160.1 KB)\n",
      "  Fold 10:\n"
     ]
    },
    {
     "name": "stderr",
     "output_type": "stream",
     "text": [
      "WARNING:absl:Found untraced functions such as _jit_compiled_convolution_op, _jit_compiled_convolution_op, _update_step_xla while saving (showing 3 of 3). These functions will not be directly callable after loading.\n"
     ]
    },
    {
     "name": "stdout",
     "output_type": "stream",
     "text": [
      "INFO:tensorflow:Assets written to: /tmp/tmplplgcanc/assets\n"
     ]
    },
    {
     "name": "stderr",
     "output_type": "stream",
     "text": [
      "INFO:tensorflow:Assets written to: /tmp/tmplplgcanc/assets\n"
     ]
    },
    {
     "name": "stdout",
     "output_type": "stream",
     "text": [
      "  Saved (no quant): tflite_models/finetuned/no_quantization/model_3_fold_10_finetuned.tflite (617.8 KB)\n"
     ]
    },
    {
     "name": "stderr",
     "output_type": "stream",
     "text": [
      "WARNING:absl:Found untraced functions such as _jit_compiled_convolution_op, _jit_compiled_convolution_op, _update_step_xla while saving (showing 3 of 3). These functions will not be directly callable after loading.\n"
     ]
    },
    {
     "name": "stdout",
     "output_type": "stream",
     "text": [
      "INFO:tensorflow:Assets written to: /tmp/tmpzf8gsdol/assets\n"
     ]
    },
    {
     "name": "stderr",
     "output_type": "stream",
     "text": [
      "INFO:tensorflow:Assets written to: /tmp/tmpzf8gsdol/assets\n",
      "/home/pmedur/strojnoUcenje/env/lib/python3.10/site-packages/tensorflow/lite/python/convert.py:765: UserWarning: Statistics for quantized inputs were expected, but not specified; continuing anyway.\n",
      "  warnings.warn(\"Statistics for quantized inputs were expected, but not \"\n",
      "fully_quantize: 0, inference_type: 6, input_inference_type: INT8, output_inference_type: INT8\n"
     ]
    },
    {
     "name": "stdout",
     "output_type": "stream",
     "text": [
      "  Saved (int8):    tflite_models/finetuned/int8_quantization/model_3_fold_10_finetuned.tflite (160.1 KB)\n",
      "\n",
      "model_4:\n",
      "  Fold 1:\n"
     ]
    },
    {
     "name": "stderr",
     "output_type": "stream",
     "text": [
      "WARNING:absl:Found untraced functions such as _jit_compiled_convolution_op, _update_step_xla while saving (showing 2 of 2). These functions will not be directly callable after loading.\n"
     ]
    },
    {
     "name": "stdout",
     "output_type": "stream",
     "text": [
      "INFO:tensorflow:Assets written to: /tmp/tmp6uzqbm4j/assets\n"
     ]
    },
    {
     "name": "stderr",
     "output_type": "stream",
     "text": [
      "INFO:tensorflow:Assets written to: /tmp/tmp6uzqbm4j/assets\n"
     ]
    },
    {
     "name": "stdout",
     "output_type": "stream",
     "text": [
      "  Saved (no quant): tflite_models/finetuned/no_quantization/model_4_fold_1_finetuned.tflite (2423.7 KB)\n"
     ]
    },
    {
     "name": "stderr",
     "output_type": "stream",
     "text": [
      "WARNING:absl:Found untraced functions such as _jit_compiled_convolution_op, _update_step_xla while saving (showing 2 of 2). These functions will not be directly callable after loading.\n"
     ]
    },
    {
     "name": "stdout",
     "output_type": "stream",
     "text": [
      "INFO:tensorflow:Assets written to: /tmp/tmp41obujqw/assets\n"
     ]
    },
    {
     "name": "stderr",
     "output_type": "stream",
     "text": [
      "INFO:tensorflow:Assets written to: /tmp/tmp41obujqw/assets\n",
      "/home/pmedur/strojnoUcenje/env/lib/python3.10/site-packages/tensorflow/lite/python/convert.py:765: UserWarning: Statistics for quantized inputs were expected, but not specified; continuing anyway.\n",
      "  warnings.warn(\"Statistics for quantized inputs were expected, but not \"\n",
      "fully_quantize: 0, inference_type: 6, input_inference_type: INT8, output_inference_type: INT8\n"
     ]
    },
    {
     "name": "stdout",
     "output_type": "stream",
     "text": [
      "  Saved (int8):    tflite_models/finetuned/int8_quantization/model_4_fold_1_finetuned.tflite (610.5 KB)\n",
      "  Fold 2:\n"
     ]
    },
    {
     "name": "stderr",
     "output_type": "stream",
     "text": [
      "WARNING:absl:Found untraced functions such as _jit_compiled_convolution_op, _update_step_xla while saving (showing 2 of 2). These functions will not be directly callable after loading.\n"
     ]
    },
    {
     "name": "stdout",
     "output_type": "stream",
     "text": [
      "INFO:tensorflow:Assets written to: /tmp/tmpwxdyzs1j/assets\n"
     ]
    },
    {
     "name": "stderr",
     "output_type": "stream",
     "text": [
      "INFO:tensorflow:Assets written to: /tmp/tmpwxdyzs1j/assets\n"
     ]
    },
    {
     "name": "stdout",
     "output_type": "stream",
     "text": [
      "  Saved (no quant): tflite_models/finetuned/no_quantization/model_4_fold_2_finetuned.tflite (2423.7 KB)\n"
     ]
    },
    {
     "name": "stderr",
     "output_type": "stream",
     "text": [
      "WARNING:absl:Found untraced functions such as _jit_compiled_convolution_op, _update_step_xla while saving (showing 2 of 2). These functions will not be directly callable after loading.\n"
     ]
    },
    {
     "name": "stdout",
     "output_type": "stream",
     "text": [
      "INFO:tensorflow:Assets written to: /tmp/tmpnndkbv34/assets\n"
     ]
    },
    {
     "name": "stderr",
     "output_type": "stream",
     "text": [
      "INFO:tensorflow:Assets written to: /tmp/tmpnndkbv34/assets\n",
      "/home/pmedur/strojnoUcenje/env/lib/python3.10/site-packages/tensorflow/lite/python/convert.py:765: UserWarning: Statistics for quantized inputs were expected, but not specified; continuing anyway.\n",
      "  warnings.warn(\"Statistics for quantized inputs were expected, but not \"\n",
      "fully_quantize: 0, inference_type: 6, input_inference_type: INT8, output_inference_type: INT8\n"
     ]
    },
    {
     "name": "stdout",
     "output_type": "stream",
     "text": [
      "  Saved (int8):    tflite_models/finetuned/int8_quantization/model_4_fold_2_finetuned.tflite (610.5 KB)\n",
      "  Fold 3:\n"
     ]
    },
    {
     "name": "stderr",
     "output_type": "stream",
     "text": [
      "WARNING:absl:Found untraced functions such as _jit_compiled_convolution_op, _update_step_xla while saving (showing 2 of 2). These functions will not be directly callable after loading.\n"
     ]
    },
    {
     "name": "stdout",
     "output_type": "stream",
     "text": [
      "INFO:tensorflow:Assets written to: /tmp/tmptwr_g22q/assets\n"
     ]
    },
    {
     "name": "stderr",
     "output_type": "stream",
     "text": [
      "INFO:tensorflow:Assets written to: /tmp/tmptwr_g22q/assets\n"
     ]
    },
    {
     "name": "stdout",
     "output_type": "stream",
     "text": [
      "  Saved (no quant): tflite_models/finetuned/no_quantization/model_4_fold_3_finetuned.tflite (2423.7 KB)\n"
     ]
    },
    {
     "name": "stderr",
     "output_type": "stream",
     "text": [
      "WARNING:absl:Found untraced functions such as _jit_compiled_convolution_op, _update_step_xla while saving (showing 2 of 2). These functions will not be directly callable after loading.\n"
     ]
    },
    {
     "name": "stdout",
     "output_type": "stream",
     "text": [
      "INFO:tensorflow:Assets written to: /tmp/tmpuf8w_lxd/assets\n"
     ]
    },
    {
     "name": "stderr",
     "output_type": "stream",
     "text": [
      "INFO:tensorflow:Assets written to: /tmp/tmpuf8w_lxd/assets\n",
      "/home/pmedur/strojnoUcenje/env/lib/python3.10/site-packages/tensorflow/lite/python/convert.py:765: UserWarning: Statistics for quantized inputs were expected, but not specified; continuing anyway.\n",
      "  warnings.warn(\"Statistics for quantized inputs were expected, but not \"\n",
      "fully_quantize: 0, inference_type: 6, input_inference_type: INT8, output_inference_type: INT8\n"
     ]
    },
    {
     "name": "stdout",
     "output_type": "stream",
     "text": [
      "  Saved (int8):    tflite_models/finetuned/int8_quantization/model_4_fold_3_finetuned.tflite (610.5 KB)\n",
      "  Fold 4:\n"
     ]
    },
    {
     "name": "stderr",
     "output_type": "stream",
     "text": [
      "WARNING:absl:Found untraced functions such as _jit_compiled_convolution_op, _update_step_xla while saving (showing 2 of 2). These functions will not be directly callable after loading.\n"
     ]
    },
    {
     "name": "stdout",
     "output_type": "stream",
     "text": [
      "INFO:tensorflow:Assets written to: /tmp/tmpi9f5kdpw/assets\n"
     ]
    },
    {
     "name": "stderr",
     "output_type": "stream",
     "text": [
      "INFO:tensorflow:Assets written to: /tmp/tmpi9f5kdpw/assets\n"
     ]
    },
    {
     "name": "stdout",
     "output_type": "stream",
     "text": [
      "  Saved (no quant): tflite_models/finetuned/no_quantization/model_4_fold_4_finetuned.tflite (2423.7 KB)\n"
     ]
    },
    {
     "name": "stderr",
     "output_type": "stream",
     "text": [
      "WARNING:absl:Found untraced functions such as _jit_compiled_convolution_op, _update_step_xla while saving (showing 2 of 2). These functions will not be directly callable after loading.\n"
     ]
    },
    {
     "name": "stdout",
     "output_type": "stream",
     "text": [
      "INFO:tensorflow:Assets written to: /tmp/tmp31mvelng/assets\n"
     ]
    },
    {
     "name": "stderr",
     "output_type": "stream",
     "text": [
      "INFO:tensorflow:Assets written to: /tmp/tmp31mvelng/assets\n",
      "/home/pmedur/strojnoUcenje/env/lib/python3.10/site-packages/tensorflow/lite/python/convert.py:765: UserWarning: Statistics for quantized inputs were expected, but not specified; continuing anyway.\n",
      "  warnings.warn(\"Statistics for quantized inputs were expected, but not \"\n",
      "fully_quantize: 0, inference_type: 6, input_inference_type: INT8, output_inference_type: INT8\n"
     ]
    },
    {
     "name": "stdout",
     "output_type": "stream",
     "text": [
      "  Saved (int8):    tflite_models/finetuned/int8_quantization/model_4_fold_4_finetuned.tflite (610.5 KB)\n",
      "  Fold 5:\n"
     ]
    },
    {
     "name": "stderr",
     "output_type": "stream",
     "text": [
      "WARNING:absl:Found untraced functions such as _jit_compiled_convolution_op, _update_step_xla while saving (showing 2 of 2). These functions will not be directly callable after loading.\n"
     ]
    },
    {
     "name": "stdout",
     "output_type": "stream",
     "text": [
      "INFO:tensorflow:Assets written to: /tmp/tmprc3uf0c2/assets\n"
     ]
    },
    {
     "name": "stderr",
     "output_type": "stream",
     "text": [
      "INFO:tensorflow:Assets written to: /tmp/tmprc3uf0c2/assets\n"
     ]
    },
    {
     "name": "stdout",
     "output_type": "stream",
     "text": [
      "  Saved (no quant): tflite_models/finetuned/no_quantization/model_4_fold_5_finetuned.tflite (2423.7 KB)\n"
     ]
    },
    {
     "name": "stderr",
     "output_type": "stream",
     "text": [
      "WARNING:absl:Found untraced functions such as _jit_compiled_convolution_op, _update_step_xla while saving (showing 2 of 2). These functions will not be directly callable after loading.\n"
     ]
    },
    {
     "name": "stdout",
     "output_type": "stream",
     "text": [
      "INFO:tensorflow:Assets written to: /tmp/tmpwphbsemw/assets\n"
     ]
    },
    {
     "name": "stderr",
     "output_type": "stream",
     "text": [
      "INFO:tensorflow:Assets written to: /tmp/tmpwphbsemw/assets\n",
      "/home/pmedur/strojnoUcenje/env/lib/python3.10/site-packages/tensorflow/lite/python/convert.py:765: UserWarning: Statistics for quantized inputs were expected, but not specified; continuing anyway.\n",
      "  warnings.warn(\"Statistics for quantized inputs were expected, but not \"\n",
      "fully_quantize: 0, inference_type: 6, input_inference_type: INT8, output_inference_type: INT8\n"
     ]
    },
    {
     "name": "stdout",
     "output_type": "stream",
     "text": [
      "  Saved (int8):    tflite_models/finetuned/int8_quantization/model_4_fold_5_finetuned.tflite (610.5 KB)\n",
      "  Fold 6:\n"
     ]
    },
    {
     "name": "stderr",
     "output_type": "stream",
     "text": [
      "WARNING:absl:Found untraced functions such as _jit_compiled_convolution_op, _update_step_xla while saving (showing 2 of 2). These functions will not be directly callable after loading.\n"
     ]
    },
    {
     "name": "stdout",
     "output_type": "stream",
     "text": [
      "INFO:tensorflow:Assets written to: /tmp/tmpdh0ucrh8/assets\n"
     ]
    },
    {
     "name": "stderr",
     "output_type": "stream",
     "text": [
      "INFO:tensorflow:Assets written to: /tmp/tmpdh0ucrh8/assets\n"
     ]
    },
    {
     "name": "stdout",
     "output_type": "stream",
     "text": [
      "  Saved (no quant): tflite_models/finetuned/no_quantization/model_4_fold_6_finetuned.tflite (2423.7 KB)\n"
     ]
    },
    {
     "name": "stderr",
     "output_type": "stream",
     "text": [
      "WARNING:absl:Found untraced functions such as _jit_compiled_convolution_op, _update_step_xla while saving (showing 2 of 2). These functions will not be directly callable after loading.\n"
     ]
    },
    {
     "name": "stdout",
     "output_type": "stream",
     "text": [
      "INFO:tensorflow:Assets written to: /tmp/tmp8xprd3f5/assets\n"
     ]
    },
    {
     "name": "stderr",
     "output_type": "stream",
     "text": [
      "INFO:tensorflow:Assets written to: /tmp/tmp8xprd3f5/assets\n",
      "/home/pmedur/strojnoUcenje/env/lib/python3.10/site-packages/tensorflow/lite/python/convert.py:765: UserWarning: Statistics for quantized inputs were expected, but not specified; continuing anyway.\n",
      "  warnings.warn(\"Statistics for quantized inputs were expected, but not \"\n",
      "fully_quantize: 0, inference_type: 6, input_inference_type: INT8, output_inference_type: INT8\n"
     ]
    },
    {
     "name": "stdout",
     "output_type": "stream",
     "text": [
      "  Saved (int8):    tflite_models/finetuned/int8_quantization/model_4_fold_6_finetuned.tflite (610.5 KB)\n",
      "  Fold 7:\n"
     ]
    },
    {
     "name": "stderr",
     "output_type": "stream",
     "text": [
      "WARNING:absl:Found untraced functions such as _jit_compiled_convolution_op, _update_step_xla while saving (showing 2 of 2). These functions will not be directly callable after loading.\n"
     ]
    },
    {
     "name": "stdout",
     "output_type": "stream",
     "text": [
      "INFO:tensorflow:Assets written to: /tmp/tmpe2_5l9eb/assets\n"
     ]
    },
    {
     "name": "stderr",
     "output_type": "stream",
     "text": [
      "INFO:tensorflow:Assets written to: /tmp/tmpe2_5l9eb/assets\n"
     ]
    },
    {
     "name": "stdout",
     "output_type": "stream",
     "text": [
      "  Saved (no quant): tflite_models/finetuned/no_quantization/model_4_fold_7_finetuned.tflite (2423.7 KB)\n"
     ]
    },
    {
     "name": "stderr",
     "output_type": "stream",
     "text": [
      "WARNING:absl:Found untraced functions such as _jit_compiled_convolution_op, _update_step_xla while saving (showing 2 of 2). These functions will not be directly callable after loading.\n"
     ]
    },
    {
     "name": "stdout",
     "output_type": "stream",
     "text": [
      "INFO:tensorflow:Assets written to: /tmp/tmpov2g_r16/assets\n"
     ]
    },
    {
     "name": "stderr",
     "output_type": "stream",
     "text": [
      "INFO:tensorflow:Assets written to: /tmp/tmpov2g_r16/assets\n",
      "/home/pmedur/strojnoUcenje/env/lib/python3.10/site-packages/tensorflow/lite/python/convert.py:765: UserWarning: Statistics for quantized inputs were expected, but not specified; continuing anyway.\n",
      "  warnings.warn(\"Statistics for quantized inputs were expected, but not \"\n",
      "fully_quantize: 0, inference_type: 6, input_inference_type: INT8, output_inference_type: INT8\n"
     ]
    },
    {
     "name": "stdout",
     "output_type": "stream",
     "text": [
      "  Saved (int8):    tflite_models/finetuned/int8_quantization/model_4_fold_7_finetuned.tflite (610.5 KB)\n",
      "  Fold 8:\n"
     ]
    },
    {
     "name": "stderr",
     "output_type": "stream",
     "text": [
      "WARNING:absl:Found untraced functions such as _jit_compiled_convolution_op, _update_step_xla while saving (showing 2 of 2). These functions will not be directly callable after loading.\n"
     ]
    },
    {
     "name": "stdout",
     "output_type": "stream",
     "text": [
      "INFO:tensorflow:Assets written to: /tmp/tmp06wowlc3/assets\n"
     ]
    },
    {
     "name": "stderr",
     "output_type": "stream",
     "text": [
      "INFO:tensorflow:Assets written to: /tmp/tmp06wowlc3/assets\n"
     ]
    },
    {
     "name": "stdout",
     "output_type": "stream",
     "text": [
      "  Saved (no quant): tflite_models/finetuned/no_quantization/model_4_fold_8_finetuned.tflite (2423.7 KB)\n"
     ]
    },
    {
     "name": "stderr",
     "output_type": "stream",
     "text": [
      "WARNING:absl:Found untraced functions such as _jit_compiled_convolution_op, _update_step_xla while saving (showing 2 of 2). These functions will not be directly callable after loading.\n"
     ]
    },
    {
     "name": "stdout",
     "output_type": "stream",
     "text": [
      "INFO:tensorflow:Assets written to: /tmp/tmpyi3_xydn/assets\n"
     ]
    },
    {
     "name": "stderr",
     "output_type": "stream",
     "text": [
      "INFO:tensorflow:Assets written to: /tmp/tmpyi3_xydn/assets\n",
      "/home/pmedur/strojnoUcenje/env/lib/python3.10/site-packages/tensorflow/lite/python/convert.py:765: UserWarning: Statistics for quantized inputs were expected, but not specified; continuing anyway.\n",
      "  warnings.warn(\"Statistics for quantized inputs were expected, but not \"\n",
      "fully_quantize: 0, inference_type: 6, input_inference_type: INT8, output_inference_type: INT8\n"
     ]
    },
    {
     "name": "stdout",
     "output_type": "stream",
     "text": [
      "  Saved (int8):    tflite_models/finetuned/int8_quantization/model_4_fold_8_finetuned.tflite (610.5 KB)\n",
      "  Fold 9:\n"
     ]
    },
    {
     "name": "stderr",
     "output_type": "stream",
     "text": [
      "WARNING:absl:Found untraced functions such as _jit_compiled_convolution_op, _update_step_xla while saving (showing 2 of 2). These functions will not be directly callable after loading.\n"
     ]
    },
    {
     "name": "stdout",
     "output_type": "stream",
     "text": [
      "INFO:tensorflow:Assets written to: /tmp/tmptxr75c02/assets\n"
     ]
    },
    {
     "name": "stderr",
     "output_type": "stream",
     "text": [
      "INFO:tensorflow:Assets written to: /tmp/tmptxr75c02/assets\n"
     ]
    },
    {
     "name": "stdout",
     "output_type": "stream",
     "text": [
      "  Saved (no quant): tflite_models/finetuned/no_quantization/model_4_fold_9_finetuned.tflite (2423.7 KB)\n"
     ]
    },
    {
     "name": "stderr",
     "output_type": "stream",
     "text": [
      "WARNING:absl:Found untraced functions such as _jit_compiled_convolution_op, _update_step_xla while saving (showing 2 of 2). These functions will not be directly callable after loading.\n"
     ]
    },
    {
     "name": "stdout",
     "output_type": "stream",
     "text": [
      "INFO:tensorflow:Assets written to: /tmp/tmpt3zr_12y/assets\n"
     ]
    },
    {
     "name": "stderr",
     "output_type": "stream",
     "text": [
      "INFO:tensorflow:Assets written to: /tmp/tmpt3zr_12y/assets\n",
      "/home/pmedur/strojnoUcenje/env/lib/python3.10/site-packages/tensorflow/lite/python/convert.py:765: UserWarning: Statistics for quantized inputs were expected, but not specified; continuing anyway.\n",
      "  warnings.warn(\"Statistics for quantized inputs were expected, but not \"\n",
      "fully_quantize: 0, inference_type: 6, input_inference_type: INT8, output_inference_type: INT8\n"
     ]
    },
    {
     "name": "stdout",
     "output_type": "stream",
     "text": [
      "  Saved (int8):    tflite_models/finetuned/int8_quantization/model_4_fold_9_finetuned.tflite (610.5 KB)\n",
      "  Fold 10:\n"
     ]
    },
    {
     "name": "stderr",
     "output_type": "stream",
     "text": [
      "WARNING:absl:Found untraced functions such as _jit_compiled_convolution_op, _update_step_xla while saving (showing 2 of 2). These functions will not be directly callable after loading.\n"
     ]
    },
    {
     "name": "stdout",
     "output_type": "stream",
     "text": [
      "INFO:tensorflow:Assets written to: /tmp/tmpu5100qyp/assets\n"
     ]
    },
    {
     "name": "stderr",
     "output_type": "stream",
     "text": [
      "INFO:tensorflow:Assets written to: /tmp/tmpu5100qyp/assets\n"
     ]
    },
    {
     "name": "stdout",
     "output_type": "stream",
     "text": [
      "  Saved (no quant): tflite_models/finetuned/no_quantization/model_4_fold_10_finetuned.tflite (2423.7 KB)\n"
     ]
    },
    {
     "name": "stderr",
     "output_type": "stream",
     "text": [
      "WARNING:absl:Found untraced functions such as _jit_compiled_convolution_op, _update_step_xla while saving (showing 2 of 2). These functions will not be directly callable after loading.\n"
     ]
    },
    {
     "name": "stdout",
     "output_type": "stream",
     "text": [
      "INFO:tensorflow:Assets written to: /tmp/tmp044pwn9y/assets\n"
     ]
    },
    {
     "name": "stderr",
     "output_type": "stream",
     "text": [
      "INFO:tensorflow:Assets written to: /tmp/tmp044pwn9y/assets\n",
      "/home/pmedur/strojnoUcenje/env/lib/python3.10/site-packages/tensorflow/lite/python/convert.py:765: UserWarning: Statistics for quantized inputs were expected, but not specified; continuing anyway.\n",
      "  warnings.warn(\"Statistics for quantized inputs were expected, but not \"\n",
      "fully_quantize: 0, inference_type: 6, input_inference_type: INT8, output_inference_type: INT8\n"
     ]
    },
    {
     "name": "stdout",
     "output_type": "stream",
     "text": [
      "  Saved (int8):    tflite_models/finetuned/int8_quantization/model_4_fold_10_finetuned.tflite (610.5 KB)\n",
      "\n",
      "model_5:\n",
      "  Fold 1:\n"
     ]
    },
    {
     "name": "stderr",
     "output_type": "stream",
     "text": [
      "WARNING:absl:Found untraced functions such as _jit_compiled_convolution_op, _jit_compiled_convolution_op, _update_step_xla while saving (showing 3 of 3). These functions will not be directly callable after loading.\n"
     ]
    },
    {
     "name": "stdout",
     "output_type": "stream",
     "text": [
      "INFO:tensorflow:Assets written to: /tmp/tmpz6v2s289/assets\n"
     ]
    },
    {
     "name": "stderr",
     "output_type": "stream",
     "text": [
      "INFO:tensorflow:Assets written to: /tmp/tmpz6v2s289/assets\n"
     ]
    },
    {
     "name": "stdout",
     "output_type": "stream",
     "text": [
      "  Saved (no quant): tflite_models/finetuned/no_quantization/model_5_fold_1_finetuned.tflite (320.6 KB)\n"
     ]
    },
    {
     "name": "stderr",
     "output_type": "stream",
     "text": [
      "WARNING:absl:Found untraced functions such as _jit_compiled_convolution_op, _jit_compiled_convolution_op, _update_step_xla while saving (showing 3 of 3). These functions will not be directly callable after loading.\n"
     ]
    },
    {
     "name": "stdout",
     "output_type": "stream",
     "text": [
      "INFO:tensorflow:Assets written to: /tmp/tmp5d7cmsuq/assets\n"
     ]
    },
    {
     "name": "stderr",
     "output_type": "stream",
     "text": [
      "INFO:tensorflow:Assets written to: /tmp/tmp5d7cmsuq/assets\n",
      "/home/pmedur/strojnoUcenje/env/lib/python3.10/site-packages/tensorflow/lite/python/convert.py:765: UserWarning: Statistics for quantized inputs were expected, but not specified; continuing anyway.\n",
      "  warnings.warn(\"Statistics for quantized inputs were expected, but not \"\n",
      "fully_quantize: 0, inference_type: 6, input_inference_type: INT8, output_inference_type: INT8\n"
     ]
    },
    {
     "name": "stdout",
     "output_type": "stream",
     "text": [
      "  Saved (int8):    tflite_models/finetuned/int8_quantization/model_5_fold_1_finetuned.tflite (85.6 KB)\n",
      "  Fold 2:\n"
     ]
    },
    {
     "name": "stderr",
     "output_type": "stream",
     "text": [
      "WARNING:absl:Found untraced functions such as _jit_compiled_convolution_op, _jit_compiled_convolution_op, _update_step_xla while saving (showing 3 of 3). These functions will not be directly callable after loading.\n"
     ]
    },
    {
     "name": "stdout",
     "output_type": "stream",
     "text": [
      "INFO:tensorflow:Assets written to: /tmp/tmpntas9wwh/assets\n"
     ]
    },
    {
     "name": "stderr",
     "output_type": "stream",
     "text": [
      "INFO:tensorflow:Assets written to: /tmp/tmpntas9wwh/assets\n"
     ]
    },
    {
     "name": "stdout",
     "output_type": "stream",
     "text": [
      "  Saved (no quant): tflite_models/finetuned/no_quantization/model_5_fold_2_finetuned.tflite (320.6 KB)\n"
     ]
    },
    {
     "name": "stderr",
     "output_type": "stream",
     "text": [
      "WARNING:absl:Found untraced functions such as _jit_compiled_convolution_op, _jit_compiled_convolution_op, _update_step_xla while saving (showing 3 of 3). These functions will not be directly callable after loading.\n"
     ]
    },
    {
     "name": "stdout",
     "output_type": "stream",
     "text": [
      "INFO:tensorflow:Assets written to: /tmp/tmpymh73jv1/assets\n"
     ]
    },
    {
     "name": "stderr",
     "output_type": "stream",
     "text": [
      "INFO:tensorflow:Assets written to: /tmp/tmpymh73jv1/assets\n",
      "/home/pmedur/strojnoUcenje/env/lib/python3.10/site-packages/tensorflow/lite/python/convert.py:765: UserWarning: Statistics for quantized inputs were expected, but not specified; continuing anyway.\n",
      "  warnings.warn(\"Statistics for quantized inputs were expected, but not \"\n",
      "fully_quantize: 0, inference_type: 6, input_inference_type: INT8, output_inference_type: INT8\n"
     ]
    },
    {
     "name": "stdout",
     "output_type": "stream",
     "text": [
      "  Saved (int8):    tflite_models/finetuned/int8_quantization/model_5_fold_2_finetuned.tflite (85.6 KB)\n",
      "  Fold 3:\n"
     ]
    },
    {
     "name": "stderr",
     "output_type": "stream",
     "text": [
      "WARNING:absl:Found untraced functions such as _jit_compiled_convolution_op, _jit_compiled_convolution_op, _update_step_xla while saving (showing 3 of 3). These functions will not be directly callable after loading.\n"
     ]
    },
    {
     "name": "stdout",
     "output_type": "stream",
     "text": [
      "INFO:tensorflow:Assets written to: /tmp/tmpda2rzwu6/assets\n"
     ]
    },
    {
     "name": "stderr",
     "output_type": "stream",
     "text": [
      "INFO:tensorflow:Assets written to: /tmp/tmpda2rzwu6/assets\n"
     ]
    },
    {
     "name": "stdout",
     "output_type": "stream",
     "text": [
      "  Saved (no quant): tflite_models/finetuned/no_quantization/model_5_fold_3_finetuned.tflite (320.6 KB)\n"
     ]
    },
    {
     "name": "stderr",
     "output_type": "stream",
     "text": [
      "WARNING:absl:Found untraced functions such as _jit_compiled_convolution_op, _jit_compiled_convolution_op, _update_step_xla while saving (showing 3 of 3). These functions will not be directly callable after loading.\n"
     ]
    },
    {
     "name": "stdout",
     "output_type": "stream",
     "text": [
      "INFO:tensorflow:Assets written to: /tmp/tmpldhstn26/assets\n"
     ]
    },
    {
     "name": "stderr",
     "output_type": "stream",
     "text": [
      "INFO:tensorflow:Assets written to: /tmp/tmpldhstn26/assets\n",
      "/home/pmedur/strojnoUcenje/env/lib/python3.10/site-packages/tensorflow/lite/python/convert.py:765: UserWarning: Statistics for quantized inputs were expected, but not specified; continuing anyway.\n",
      "  warnings.warn(\"Statistics for quantized inputs were expected, but not \"\n",
      "fully_quantize: 0, inference_type: 6, input_inference_type: INT8, output_inference_type: INT8\n"
     ]
    },
    {
     "name": "stdout",
     "output_type": "stream",
     "text": [
      "  Saved (int8):    tflite_models/finetuned/int8_quantization/model_5_fold_3_finetuned.tflite (85.6 KB)\n",
      "  Fold 4:\n"
     ]
    },
    {
     "name": "stderr",
     "output_type": "stream",
     "text": [
      "WARNING:absl:Found untraced functions such as _jit_compiled_convolution_op, _jit_compiled_convolution_op, _update_step_xla while saving (showing 3 of 3). These functions will not be directly callable after loading.\n"
     ]
    },
    {
     "name": "stdout",
     "output_type": "stream",
     "text": [
      "INFO:tensorflow:Assets written to: /tmp/tmpln_3jmh1/assets\n"
     ]
    },
    {
     "name": "stderr",
     "output_type": "stream",
     "text": [
      "INFO:tensorflow:Assets written to: /tmp/tmpln_3jmh1/assets\n"
     ]
    },
    {
     "name": "stdout",
     "output_type": "stream",
     "text": [
      "  Saved (no quant): tflite_models/finetuned/no_quantization/model_5_fold_4_finetuned.tflite (320.6 KB)\n"
     ]
    },
    {
     "name": "stderr",
     "output_type": "stream",
     "text": [
      "WARNING:absl:Found untraced functions such as _jit_compiled_convolution_op, _jit_compiled_convolution_op, _update_step_xla while saving (showing 3 of 3). These functions will not be directly callable after loading.\n"
     ]
    },
    {
     "name": "stdout",
     "output_type": "stream",
     "text": [
      "INFO:tensorflow:Assets written to: /tmp/tmp6u4nq5tw/assets\n"
     ]
    },
    {
     "name": "stderr",
     "output_type": "stream",
     "text": [
      "INFO:tensorflow:Assets written to: /tmp/tmp6u4nq5tw/assets\n",
      "/home/pmedur/strojnoUcenje/env/lib/python3.10/site-packages/tensorflow/lite/python/convert.py:765: UserWarning: Statistics for quantized inputs were expected, but not specified; continuing anyway.\n",
      "  warnings.warn(\"Statistics for quantized inputs were expected, but not \"\n",
      "fully_quantize: 0, inference_type: 6, input_inference_type: INT8, output_inference_type: INT8\n"
     ]
    },
    {
     "name": "stdout",
     "output_type": "stream",
     "text": [
      "  Saved (int8):    tflite_models/finetuned/int8_quantization/model_5_fold_4_finetuned.tflite (85.6 KB)\n",
      "  Fold 5:\n"
     ]
    },
    {
     "name": "stderr",
     "output_type": "stream",
     "text": [
      "WARNING:absl:Found untraced functions such as _jit_compiled_convolution_op, _jit_compiled_convolution_op, _update_step_xla while saving (showing 3 of 3). These functions will not be directly callable after loading.\n"
     ]
    },
    {
     "name": "stdout",
     "output_type": "stream",
     "text": [
      "INFO:tensorflow:Assets written to: /tmp/tmpsk6l6m6r/assets\n"
     ]
    },
    {
     "name": "stderr",
     "output_type": "stream",
     "text": [
      "INFO:tensorflow:Assets written to: /tmp/tmpsk6l6m6r/assets\n"
     ]
    },
    {
     "name": "stdout",
     "output_type": "stream",
     "text": [
      "  Saved (no quant): tflite_models/finetuned/no_quantization/model_5_fold_5_finetuned.tflite (320.6 KB)\n"
     ]
    },
    {
     "name": "stderr",
     "output_type": "stream",
     "text": [
      "WARNING:absl:Found untraced functions such as _jit_compiled_convolution_op, _jit_compiled_convolution_op, _update_step_xla while saving (showing 3 of 3). These functions will not be directly callable after loading.\n"
     ]
    },
    {
     "name": "stdout",
     "output_type": "stream",
     "text": [
      "INFO:tensorflow:Assets written to: /tmp/tmpvatd6sw2/assets\n"
     ]
    },
    {
     "name": "stderr",
     "output_type": "stream",
     "text": [
      "INFO:tensorflow:Assets written to: /tmp/tmpvatd6sw2/assets\n",
      "/home/pmedur/strojnoUcenje/env/lib/python3.10/site-packages/tensorflow/lite/python/convert.py:765: UserWarning: Statistics for quantized inputs were expected, but not specified; continuing anyway.\n",
      "  warnings.warn(\"Statistics for quantized inputs were expected, but not \"\n",
      "fully_quantize: 0, inference_type: 6, input_inference_type: INT8, output_inference_type: INT8\n"
     ]
    },
    {
     "name": "stdout",
     "output_type": "stream",
     "text": [
      "  Saved (int8):    tflite_models/finetuned/int8_quantization/model_5_fold_5_finetuned.tflite (85.6 KB)\n",
      "  Fold 6:\n"
     ]
    },
    {
     "name": "stderr",
     "output_type": "stream",
     "text": [
      "WARNING:absl:Found untraced functions such as _jit_compiled_convolution_op, _jit_compiled_convolution_op, _update_step_xla while saving (showing 3 of 3). These functions will not be directly callable after loading.\n"
     ]
    },
    {
     "name": "stdout",
     "output_type": "stream",
     "text": [
      "INFO:tensorflow:Assets written to: /tmp/tmp8ets_jcr/assets\n"
     ]
    },
    {
     "name": "stderr",
     "output_type": "stream",
     "text": [
      "INFO:tensorflow:Assets written to: /tmp/tmp8ets_jcr/assets\n"
     ]
    },
    {
     "name": "stdout",
     "output_type": "stream",
     "text": [
      "  Saved (no quant): tflite_models/finetuned/no_quantization/model_5_fold_6_finetuned.tflite (320.6 KB)\n"
     ]
    },
    {
     "name": "stderr",
     "output_type": "stream",
     "text": [
      "WARNING:absl:Found untraced functions such as _jit_compiled_convolution_op, _jit_compiled_convolution_op, _update_step_xla while saving (showing 3 of 3). These functions will not be directly callable after loading.\n"
     ]
    },
    {
     "name": "stdout",
     "output_type": "stream",
     "text": [
      "INFO:tensorflow:Assets written to: /tmp/tmpx51aejev/assets\n"
     ]
    },
    {
     "name": "stderr",
     "output_type": "stream",
     "text": [
      "INFO:tensorflow:Assets written to: /tmp/tmpx51aejev/assets\n",
      "/home/pmedur/strojnoUcenje/env/lib/python3.10/site-packages/tensorflow/lite/python/convert.py:765: UserWarning: Statistics for quantized inputs were expected, but not specified; continuing anyway.\n",
      "  warnings.warn(\"Statistics for quantized inputs were expected, but not \"\n",
      "fully_quantize: 0, inference_type: 6, input_inference_type: INT8, output_inference_type: INT8\n"
     ]
    },
    {
     "name": "stdout",
     "output_type": "stream",
     "text": [
      "  Saved (int8):    tflite_models/finetuned/int8_quantization/model_5_fold_6_finetuned.tflite (85.6 KB)\n",
      "  Fold 7:\n"
     ]
    },
    {
     "name": "stderr",
     "output_type": "stream",
     "text": [
      "WARNING:absl:Found untraced functions such as _jit_compiled_convolution_op, _jit_compiled_convolution_op, _update_step_xla while saving (showing 3 of 3). These functions will not be directly callable after loading.\n"
     ]
    },
    {
     "name": "stdout",
     "output_type": "stream",
     "text": [
      "INFO:tensorflow:Assets written to: /tmp/tmp6tbegkz4/assets\n"
     ]
    },
    {
     "name": "stderr",
     "output_type": "stream",
     "text": [
      "INFO:tensorflow:Assets written to: /tmp/tmp6tbegkz4/assets\n"
     ]
    },
    {
     "name": "stdout",
     "output_type": "stream",
     "text": [
      "  Saved (no quant): tflite_models/finetuned/no_quantization/model_5_fold_7_finetuned.tflite (320.6 KB)\n"
     ]
    },
    {
     "name": "stderr",
     "output_type": "stream",
     "text": [
      "WARNING:absl:Found untraced functions such as _jit_compiled_convolution_op, _jit_compiled_convolution_op, _update_step_xla while saving (showing 3 of 3). These functions will not be directly callable after loading.\n"
     ]
    },
    {
     "name": "stdout",
     "output_type": "stream",
     "text": [
      "INFO:tensorflow:Assets written to: /tmp/tmpee5nmrvs/assets\n"
     ]
    },
    {
     "name": "stderr",
     "output_type": "stream",
     "text": [
      "INFO:tensorflow:Assets written to: /tmp/tmpee5nmrvs/assets\n",
      "/home/pmedur/strojnoUcenje/env/lib/python3.10/site-packages/tensorflow/lite/python/convert.py:765: UserWarning: Statistics for quantized inputs were expected, but not specified; continuing anyway.\n",
      "  warnings.warn(\"Statistics for quantized inputs were expected, but not \"\n",
      "fully_quantize: 0, inference_type: 6, input_inference_type: INT8, output_inference_type: INT8\n"
     ]
    },
    {
     "name": "stdout",
     "output_type": "stream",
     "text": [
      "  Saved (int8):    tflite_models/finetuned/int8_quantization/model_5_fold_7_finetuned.tflite (85.6 KB)\n",
      "  Fold 8:\n"
     ]
    },
    {
     "name": "stderr",
     "output_type": "stream",
     "text": [
      "WARNING:absl:Found untraced functions such as _jit_compiled_convolution_op, _jit_compiled_convolution_op, _update_step_xla while saving (showing 3 of 3). These functions will not be directly callable after loading.\n"
     ]
    },
    {
     "name": "stdout",
     "output_type": "stream",
     "text": [
      "INFO:tensorflow:Assets written to: /tmp/tmp6kf7an2j/assets\n"
     ]
    },
    {
     "name": "stderr",
     "output_type": "stream",
     "text": [
      "INFO:tensorflow:Assets written to: /tmp/tmp6kf7an2j/assets\n"
     ]
    },
    {
     "name": "stdout",
     "output_type": "stream",
     "text": [
      "  Saved (no quant): tflite_models/finetuned/no_quantization/model_5_fold_8_finetuned.tflite (320.6 KB)\n"
     ]
    },
    {
     "name": "stderr",
     "output_type": "stream",
     "text": [
      "WARNING:absl:Found untraced functions such as _jit_compiled_convolution_op, _jit_compiled_convolution_op, _update_step_xla while saving (showing 3 of 3). These functions will not be directly callable after loading.\n"
     ]
    },
    {
     "name": "stdout",
     "output_type": "stream",
     "text": [
      "INFO:tensorflow:Assets written to: /tmp/tmpiw3fga31/assets\n"
     ]
    },
    {
     "name": "stderr",
     "output_type": "stream",
     "text": [
      "INFO:tensorflow:Assets written to: /tmp/tmpiw3fga31/assets\n",
      "/home/pmedur/strojnoUcenje/env/lib/python3.10/site-packages/tensorflow/lite/python/convert.py:765: UserWarning: Statistics for quantized inputs were expected, but not specified; continuing anyway.\n",
      "  warnings.warn(\"Statistics for quantized inputs were expected, but not \"\n",
      "fully_quantize: 0, inference_type: 6, input_inference_type: INT8, output_inference_type: INT8\n"
     ]
    },
    {
     "name": "stdout",
     "output_type": "stream",
     "text": [
      "  Saved (int8):    tflite_models/finetuned/int8_quantization/model_5_fold_8_finetuned.tflite (85.6 KB)\n",
      "  Fold 9:\n"
     ]
    },
    {
     "name": "stderr",
     "output_type": "stream",
     "text": [
      "WARNING:absl:Found untraced functions such as _jit_compiled_convolution_op, _jit_compiled_convolution_op, _update_step_xla while saving (showing 3 of 3). These functions will not be directly callable after loading.\n"
     ]
    },
    {
     "name": "stdout",
     "output_type": "stream",
     "text": [
      "INFO:tensorflow:Assets written to: /tmp/tmplph7p589/assets\n"
     ]
    },
    {
     "name": "stderr",
     "output_type": "stream",
     "text": [
      "INFO:tensorflow:Assets written to: /tmp/tmplph7p589/assets\n"
     ]
    },
    {
     "name": "stdout",
     "output_type": "stream",
     "text": [
      "  Saved (no quant): tflite_models/finetuned/no_quantization/model_5_fold_9_finetuned.tflite (320.6 KB)\n"
     ]
    },
    {
     "name": "stderr",
     "output_type": "stream",
     "text": [
      "WARNING:absl:Found untraced functions such as _jit_compiled_convolution_op, _jit_compiled_convolution_op, _update_step_xla while saving (showing 3 of 3). These functions will not be directly callable after loading.\n"
     ]
    },
    {
     "name": "stdout",
     "output_type": "stream",
     "text": [
      "INFO:tensorflow:Assets written to: /tmp/tmp9xud6osu/assets\n"
     ]
    },
    {
     "name": "stderr",
     "output_type": "stream",
     "text": [
      "INFO:tensorflow:Assets written to: /tmp/tmp9xud6osu/assets\n",
      "/home/pmedur/strojnoUcenje/env/lib/python3.10/site-packages/tensorflow/lite/python/convert.py:765: UserWarning: Statistics for quantized inputs were expected, but not specified; continuing anyway.\n",
      "  warnings.warn(\"Statistics for quantized inputs were expected, but not \"\n",
      "fully_quantize: 0, inference_type: 6, input_inference_type: INT8, output_inference_type: INT8\n"
     ]
    },
    {
     "name": "stdout",
     "output_type": "stream",
     "text": [
      "  Saved (int8):    tflite_models/finetuned/int8_quantization/model_5_fold_9_finetuned.tflite (85.6 KB)\n",
      "  Fold 10:\n"
     ]
    },
    {
     "name": "stderr",
     "output_type": "stream",
     "text": [
      "WARNING:absl:Found untraced functions such as _jit_compiled_convolution_op, _jit_compiled_convolution_op, _update_step_xla while saving (showing 3 of 3). These functions will not be directly callable after loading.\n"
     ]
    },
    {
     "name": "stdout",
     "output_type": "stream",
     "text": [
      "INFO:tensorflow:Assets written to: /tmp/tmp_jigtyy1/assets\n"
     ]
    },
    {
     "name": "stderr",
     "output_type": "stream",
     "text": [
      "INFO:tensorflow:Assets written to: /tmp/tmp_jigtyy1/assets\n"
     ]
    },
    {
     "name": "stdout",
     "output_type": "stream",
     "text": [
      "  Saved (no quant): tflite_models/finetuned/no_quantization/model_5_fold_10_finetuned.tflite (320.6 KB)\n"
     ]
    },
    {
     "name": "stderr",
     "output_type": "stream",
     "text": [
      "WARNING:absl:Found untraced functions such as _jit_compiled_convolution_op, _jit_compiled_convolution_op, _update_step_xla while saving (showing 3 of 3). These functions will not be directly callable after loading.\n"
     ]
    },
    {
     "name": "stdout",
     "output_type": "stream",
     "text": [
      "INFO:tensorflow:Assets written to: /tmp/tmpc7g020tb/assets\n"
     ]
    },
    {
     "name": "stderr",
     "output_type": "stream",
     "text": [
      "INFO:tensorflow:Assets written to: /tmp/tmpc7g020tb/assets\n",
      "/home/pmedur/strojnoUcenje/env/lib/python3.10/site-packages/tensorflow/lite/python/convert.py:765: UserWarning: Statistics for quantized inputs were expected, but not specified; continuing anyway.\n",
      "  warnings.warn(\"Statistics for quantized inputs were expected, but not \"\n",
      "fully_quantize: 0, inference_type: 6, input_inference_type: INT8, output_inference_type: INT8\n"
     ]
    },
    {
     "name": "stdout",
     "output_type": "stream",
     "text": [
      "  Saved (int8):    tflite_models/finetuned/int8_quantization/model_5_fold_10_finetuned.tflite (85.6 KB)\n",
      "\n",
      "model_6:\n",
      "  Fold 1:\n"
     ]
    },
    {
     "name": "stderr",
     "output_type": "stream",
     "text": [
      "WARNING:absl:Found untraced functions such as _jit_compiled_convolution_op, _jit_compiled_convolution_op, _update_step_xla while saving (showing 3 of 3). These functions will not be directly callable after loading.\n"
     ]
    },
    {
     "name": "stdout",
     "output_type": "stream",
     "text": [
      "INFO:tensorflow:Assets written to: /tmp/tmpk4l5jnyi/assets\n"
     ]
    },
    {
     "name": "stderr",
     "output_type": "stream",
     "text": [
      "INFO:tensorflow:Assets written to: /tmp/tmpk4l5jnyi/assets\n"
     ]
    },
    {
     "name": "stdout",
     "output_type": "stream",
     "text": [
      "  Saved (no quant): tflite_models/finetuned/no_quantization/model_6_fold_1_finetuned.tflite (617.8 KB)\n"
     ]
    },
    {
     "name": "stderr",
     "output_type": "stream",
     "text": [
      "WARNING:absl:Found untraced functions such as _jit_compiled_convolution_op, _jit_compiled_convolution_op, _update_step_xla while saving (showing 3 of 3). These functions will not be directly callable after loading.\n"
     ]
    },
    {
     "name": "stdout",
     "output_type": "stream",
     "text": [
      "INFO:tensorflow:Assets written to: /tmp/tmpv69_hct3/assets\n"
     ]
    },
    {
     "name": "stderr",
     "output_type": "stream",
     "text": [
      "INFO:tensorflow:Assets written to: /tmp/tmpv69_hct3/assets\n",
      "/home/pmedur/strojnoUcenje/env/lib/python3.10/site-packages/tensorflow/lite/python/convert.py:765: UserWarning: Statistics for quantized inputs were expected, but not specified; continuing anyway.\n",
      "  warnings.warn(\"Statistics for quantized inputs were expected, but not \"\n",
      "fully_quantize: 0, inference_type: 6, input_inference_type: INT8, output_inference_type: INT8\n"
     ]
    },
    {
     "name": "stdout",
     "output_type": "stream",
     "text": [
      "  Saved (int8):    tflite_models/finetuned/int8_quantization/model_6_fold_1_finetuned.tflite (160.1 KB)\n",
      "  Fold 2:\n"
     ]
    },
    {
     "name": "stderr",
     "output_type": "stream",
     "text": [
      "WARNING:absl:Found untraced functions such as _jit_compiled_convolution_op, _jit_compiled_convolution_op, _update_step_xla while saving (showing 3 of 3). These functions will not be directly callable after loading.\n"
     ]
    },
    {
     "name": "stdout",
     "output_type": "stream",
     "text": [
      "INFO:tensorflow:Assets written to: /tmp/tmp6k8l8lq5/assets\n"
     ]
    },
    {
     "name": "stderr",
     "output_type": "stream",
     "text": [
      "INFO:tensorflow:Assets written to: /tmp/tmp6k8l8lq5/assets\n"
     ]
    },
    {
     "name": "stdout",
     "output_type": "stream",
     "text": [
      "  Saved (no quant): tflite_models/finetuned/no_quantization/model_6_fold_2_finetuned.tflite (617.8 KB)\n"
     ]
    },
    {
     "name": "stderr",
     "output_type": "stream",
     "text": [
      "WARNING:absl:Found untraced functions such as _jit_compiled_convolution_op, _jit_compiled_convolution_op, _update_step_xla while saving (showing 3 of 3). These functions will not be directly callable after loading.\n"
     ]
    },
    {
     "name": "stdout",
     "output_type": "stream",
     "text": [
      "INFO:tensorflow:Assets written to: /tmp/tmpmbtb70x6/assets\n"
     ]
    },
    {
     "name": "stderr",
     "output_type": "stream",
     "text": [
      "INFO:tensorflow:Assets written to: /tmp/tmpmbtb70x6/assets\n",
      "/home/pmedur/strojnoUcenje/env/lib/python3.10/site-packages/tensorflow/lite/python/convert.py:765: UserWarning: Statistics for quantized inputs were expected, but not specified; continuing anyway.\n",
      "  warnings.warn(\"Statistics for quantized inputs were expected, but not \"\n",
      "fully_quantize: 0, inference_type: 6, input_inference_type: INT8, output_inference_type: INT8\n"
     ]
    },
    {
     "name": "stdout",
     "output_type": "stream",
     "text": [
      "  Saved (int8):    tflite_models/finetuned/int8_quantization/model_6_fold_2_finetuned.tflite (160.1 KB)\n",
      "  Fold 3:\n"
     ]
    },
    {
     "name": "stderr",
     "output_type": "stream",
     "text": [
      "WARNING:absl:Found untraced functions such as _jit_compiled_convolution_op, _jit_compiled_convolution_op, _update_step_xla while saving (showing 3 of 3). These functions will not be directly callable after loading.\n"
     ]
    },
    {
     "name": "stdout",
     "output_type": "stream",
     "text": [
      "INFO:tensorflow:Assets written to: /tmp/tmpflut57ts/assets\n"
     ]
    },
    {
     "name": "stderr",
     "output_type": "stream",
     "text": [
      "INFO:tensorflow:Assets written to: /tmp/tmpflut57ts/assets\n"
     ]
    },
    {
     "name": "stdout",
     "output_type": "stream",
     "text": [
      "  Saved (no quant): tflite_models/finetuned/no_quantization/model_6_fold_3_finetuned.tflite (617.8 KB)\n"
     ]
    },
    {
     "name": "stderr",
     "output_type": "stream",
     "text": [
      "WARNING:absl:Found untraced functions such as _jit_compiled_convolution_op, _jit_compiled_convolution_op, _update_step_xla while saving (showing 3 of 3). These functions will not be directly callable after loading.\n"
     ]
    },
    {
     "name": "stdout",
     "output_type": "stream",
     "text": [
      "INFO:tensorflow:Assets written to: /tmp/tmpsg6lwqv7/assets\n"
     ]
    },
    {
     "name": "stderr",
     "output_type": "stream",
     "text": [
      "INFO:tensorflow:Assets written to: /tmp/tmpsg6lwqv7/assets\n",
      "/home/pmedur/strojnoUcenje/env/lib/python3.10/site-packages/tensorflow/lite/python/convert.py:765: UserWarning: Statistics for quantized inputs were expected, but not specified; continuing anyway.\n",
      "  warnings.warn(\"Statistics for quantized inputs were expected, but not \"\n",
      "fully_quantize: 0, inference_type: 6, input_inference_type: INT8, output_inference_type: INT8\n"
     ]
    },
    {
     "name": "stdout",
     "output_type": "stream",
     "text": [
      "  Saved (int8):    tflite_models/finetuned/int8_quantization/model_6_fold_3_finetuned.tflite (160.1 KB)\n",
      "  Fold 4:\n"
     ]
    },
    {
     "name": "stderr",
     "output_type": "stream",
     "text": [
      "WARNING:absl:Found untraced functions such as _jit_compiled_convolution_op, _jit_compiled_convolution_op, _update_step_xla while saving (showing 3 of 3). These functions will not be directly callable after loading.\n"
     ]
    },
    {
     "name": "stdout",
     "output_type": "stream",
     "text": [
      "INFO:tensorflow:Assets written to: /tmp/tmpmciefzi3/assets\n"
     ]
    },
    {
     "name": "stderr",
     "output_type": "stream",
     "text": [
      "INFO:tensorflow:Assets written to: /tmp/tmpmciefzi3/assets\n"
     ]
    },
    {
     "name": "stdout",
     "output_type": "stream",
     "text": [
      "  Saved (no quant): tflite_models/finetuned/no_quantization/model_6_fold_4_finetuned.tflite (617.8 KB)\n"
     ]
    },
    {
     "name": "stderr",
     "output_type": "stream",
     "text": [
      "WARNING:absl:Found untraced functions such as _jit_compiled_convolution_op, _jit_compiled_convolution_op, _update_step_xla while saving (showing 3 of 3). These functions will not be directly callable after loading.\n"
     ]
    },
    {
     "name": "stdout",
     "output_type": "stream",
     "text": [
      "INFO:tensorflow:Assets written to: /tmp/tmpyqe33kql/assets\n"
     ]
    },
    {
     "name": "stderr",
     "output_type": "stream",
     "text": [
      "INFO:tensorflow:Assets written to: /tmp/tmpyqe33kql/assets\n",
      "/home/pmedur/strojnoUcenje/env/lib/python3.10/site-packages/tensorflow/lite/python/convert.py:765: UserWarning: Statistics for quantized inputs were expected, but not specified; continuing anyway.\n",
      "  warnings.warn(\"Statistics for quantized inputs were expected, but not \"\n",
      "fully_quantize: 0, inference_type: 6, input_inference_type: INT8, output_inference_type: INT8\n"
     ]
    },
    {
     "name": "stdout",
     "output_type": "stream",
     "text": [
      "  Saved (int8):    tflite_models/finetuned/int8_quantization/model_6_fold_4_finetuned.tflite (160.1 KB)\n",
      "  Fold 5:\n"
     ]
    },
    {
     "name": "stderr",
     "output_type": "stream",
     "text": [
      "WARNING:absl:Found untraced functions such as _jit_compiled_convolution_op, _jit_compiled_convolution_op, _update_step_xla while saving (showing 3 of 3). These functions will not be directly callable after loading.\n"
     ]
    },
    {
     "name": "stdout",
     "output_type": "stream",
     "text": [
      "INFO:tensorflow:Assets written to: /tmp/tmpiymmn4ym/assets\n"
     ]
    },
    {
     "name": "stderr",
     "output_type": "stream",
     "text": [
      "INFO:tensorflow:Assets written to: /tmp/tmpiymmn4ym/assets\n"
     ]
    },
    {
     "name": "stdout",
     "output_type": "stream",
     "text": [
      "  Saved (no quant): tflite_models/finetuned/no_quantization/model_6_fold_5_finetuned.tflite (617.8 KB)\n"
     ]
    },
    {
     "name": "stderr",
     "output_type": "stream",
     "text": [
      "WARNING:absl:Found untraced functions such as _jit_compiled_convolution_op, _jit_compiled_convolution_op, _update_step_xla while saving (showing 3 of 3). These functions will not be directly callable after loading.\n"
     ]
    },
    {
     "name": "stdout",
     "output_type": "stream",
     "text": [
      "INFO:tensorflow:Assets written to: /tmp/tmp9iz3k4xg/assets\n"
     ]
    },
    {
     "name": "stderr",
     "output_type": "stream",
     "text": [
      "INFO:tensorflow:Assets written to: /tmp/tmp9iz3k4xg/assets\n",
      "/home/pmedur/strojnoUcenje/env/lib/python3.10/site-packages/tensorflow/lite/python/convert.py:765: UserWarning: Statistics for quantized inputs were expected, but not specified; continuing anyway.\n",
      "  warnings.warn(\"Statistics for quantized inputs were expected, but not \"\n",
      "fully_quantize: 0, inference_type: 6, input_inference_type: INT8, output_inference_type: INT8\n"
     ]
    },
    {
     "name": "stdout",
     "output_type": "stream",
     "text": [
      "  Saved (int8):    tflite_models/finetuned/int8_quantization/model_6_fold_5_finetuned.tflite (160.1 KB)\n",
      "  Fold 6:\n"
     ]
    },
    {
     "name": "stderr",
     "output_type": "stream",
     "text": [
      "WARNING:absl:Found untraced functions such as _jit_compiled_convolution_op, _jit_compiled_convolution_op, _update_step_xla while saving (showing 3 of 3). These functions will not be directly callable after loading.\n"
     ]
    },
    {
     "name": "stdout",
     "output_type": "stream",
     "text": [
      "INFO:tensorflow:Assets written to: /tmp/tmpwe_3mcag/assets\n"
     ]
    },
    {
     "name": "stderr",
     "output_type": "stream",
     "text": [
      "INFO:tensorflow:Assets written to: /tmp/tmpwe_3mcag/assets\n"
     ]
    },
    {
     "name": "stdout",
     "output_type": "stream",
     "text": [
      "  Saved (no quant): tflite_models/finetuned/no_quantization/model_6_fold_6_finetuned.tflite (617.8 KB)\n"
     ]
    },
    {
     "name": "stderr",
     "output_type": "stream",
     "text": [
      "WARNING:absl:Found untraced functions such as _jit_compiled_convolution_op, _jit_compiled_convolution_op, _update_step_xla while saving (showing 3 of 3). These functions will not be directly callable after loading.\n"
     ]
    },
    {
     "name": "stdout",
     "output_type": "stream",
     "text": [
      "INFO:tensorflow:Assets written to: /tmp/tmp6vpkq2b2/assets\n"
     ]
    },
    {
     "name": "stderr",
     "output_type": "stream",
     "text": [
      "INFO:tensorflow:Assets written to: /tmp/tmp6vpkq2b2/assets\n",
      "/home/pmedur/strojnoUcenje/env/lib/python3.10/site-packages/tensorflow/lite/python/convert.py:765: UserWarning: Statistics for quantized inputs were expected, but not specified; continuing anyway.\n",
      "  warnings.warn(\"Statistics for quantized inputs were expected, but not \"\n",
      "fully_quantize: 0, inference_type: 6, input_inference_type: INT8, output_inference_type: INT8\n"
     ]
    },
    {
     "name": "stdout",
     "output_type": "stream",
     "text": [
      "  Saved (int8):    tflite_models/finetuned/int8_quantization/model_6_fold_6_finetuned.tflite (160.1 KB)\n",
      "  Fold 7:\n"
     ]
    },
    {
     "name": "stderr",
     "output_type": "stream",
     "text": [
      "WARNING:absl:Found untraced functions such as _jit_compiled_convolution_op, _jit_compiled_convolution_op, _update_step_xla while saving (showing 3 of 3). These functions will not be directly callable after loading.\n"
     ]
    },
    {
     "name": "stdout",
     "output_type": "stream",
     "text": [
      "INFO:tensorflow:Assets written to: /tmp/tmpqezq35v8/assets\n"
     ]
    },
    {
     "name": "stderr",
     "output_type": "stream",
     "text": [
      "INFO:tensorflow:Assets written to: /tmp/tmpqezq35v8/assets\n"
     ]
    },
    {
     "name": "stdout",
     "output_type": "stream",
     "text": [
      "  Saved (no quant): tflite_models/finetuned/no_quantization/model_6_fold_7_finetuned.tflite (617.8 KB)\n"
     ]
    },
    {
     "name": "stderr",
     "output_type": "stream",
     "text": [
      "WARNING:absl:Found untraced functions such as _jit_compiled_convolution_op, _jit_compiled_convolution_op, _update_step_xla while saving (showing 3 of 3). These functions will not be directly callable after loading.\n"
     ]
    },
    {
     "name": "stdout",
     "output_type": "stream",
     "text": [
      "INFO:tensorflow:Assets written to: /tmp/tmp7x8dn2lz/assets\n"
     ]
    },
    {
     "name": "stderr",
     "output_type": "stream",
     "text": [
      "INFO:tensorflow:Assets written to: /tmp/tmp7x8dn2lz/assets\n",
      "/home/pmedur/strojnoUcenje/env/lib/python3.10/site-packages/tensorflow/lite/python/convert.py:765: UserWarning: Statistics for quantized inputs were expected, but not specified; continuing anyway.\n",
      "  warnings.warn(\"Statistics for quantized inputs were expected, but not \"\n",
      "fully_quantize: 0, inference_type: 6, input_inference_type: INT8, output_inference_type: INT8\n"
     ]
    },
    {
     "name": "stdout",
     "output_type": "stream",
     "text": [
      "  Saved (int8):    tflite_models/finetuned/int8_quantization/model_6_fold_7_finetuned.tflite (160.1 KB)\n",
      "  Fold 8:\n"
     ]
    },
    {
     "name": "stderr",
     "output_type": "stream",
     "text": [
      "WARNING:absl:Found untraced functions such as _jit_compiled_convolution_op, _jit_compiled_convolution_op, _update_step_xla while saving (showing 3 of 3). These functions will not be directly callable after loading.\n"
     ]
    },
    {
     "name": "stdout",
     "output_type": "stream",
     "text": [
      "INFO:tensorflow:Assets written to: /tmp/tmp8bi1liod/assets\n"
     ]
    },
    {
     "name": "stderr",
     "output_type": "stream",
     "text": [
      "INFO:tensorflow:Assets written to: /tmp/tmp8bi1liod/assets\n"
     ]
    },
    {
     "name": "stdout",
     "output_type": "stream",
     "text": [
      "  Saved (no quant): tflite_models/finetuned/no_quantization/model_6_fold_8_finetuned.tflite (617.8 KB)\n"
     ]
    },
    {
     "name": "stderr",
     "output_type": "stream",
     "text": [
      "WARNING:absl:Found untraced functions such as _jit_compiled_convolution_op, _jit_compiled_convolution_op, _update_step_xla while saving (showing 3 of 3). These functions will not be directly callable after loading.\n"
     ]
    },
    {
     "name": "stdout",
     "output_type": "stream",
     "text": [
      "INFO:tensorflow:Assets written to: /tmp/tmp6sxax50v/assets\n"
     ]
    },
    {
     "name": "stderr",
     "output_type": "stream",
     "text": [
      "INFO:tensorflow:Assets written to: /tmp/tmp6sxax50v/assets\n",
      "/home/pmedur/strojnoUcenje/env/lib/python3.10/site-packages/tensorflow/lite/python/convert.py:765: UserWarning: Statistics for quantized inputs were expected, but not specified; continuing anyway.\n",
      "  warnings.warn(\"Statistics for quantized inputs were expected, but not \"\n",
      "fully_quantize: 0, inference_type: 6, input_inference_type: INT8, output_inference_type: INT8\n"
     ]
    },
    {
     "name": "stdout",
     "output_type": "stream",
     "text": [
      "  Saved (int8):    tflite_models/finetuned/int8_quantization/model_6_fold_8_finetuned.tflite (160.1 KB)\n",
      "  Fold 9:\n"
     ]
    },
    {
     "name": "stderr",
     "output_type": "stream",
     "text": [
      "WARNING:absl:Found untraced functions such as _jit_compiled_convolution_op, _jit_compiled_convolution_op, _update_step_xla while saving (showing 3 of 3). These functions will not be directly callable after loading.\n"
     ]
    },
    {
     "name": "stdout",
     "output_type": "stream",
     "text": [
      "INFO:tensorflow:Assets written to: /tmp/tmp9uwn5_i0/assets\n"
     ]
    },
    {
     "name": "stderr",
     "output_type": "stream",
     "text": [
      "INFO:tensorflow:Assets written to: /tmp/tmp9uwn5_i0/assets\n"
     ]
    },
    {
     "name": "stdout",
     "output_type": "stream",
     "text": [
      "  Saved (no quant): tflite_models/finetuned/no_quantization/model_6_fold_9_finetuned.tflite (617.8 KB)\n"
     ]
    },
    {
     "name": "stderr",
     "output_type": "stream",
     "text": [
      "WARNING:absl:Found untraced functions such as _jit_compiled_convolution_op, _jit_compiled_convolution_op, _update_step_xla while saving (showing 3 of 3). These functions will not be directly callable after loading.\n"
     ]
    },
    {
     "name": "stdout",
     "output_type": "stream",
     "text": [
      "INFO:tensorflow:Assets written to: /tmp/tmpl6663u7h/assets\n"
     ]
    },
    {
     "name": "stderr",
     "output_type": "stream",
     "text": [
      "INFO:tensorflow:Assets written to: /tmp/tmpl6663u7h/assets\n",
      "/home/pmedur/strojnoUcenje/env/lib/python3.10/site-packages/tensorflow/lite/python/convert.py:765: UserWarning: Statistics for quantized inputs were expected, but not specified; continuing anyway.\n",
      "  warnings.warn(\"Statistics for quantized inputs were expected, but not \"\n",
      "fully_quantize: 0, inference_type: 6, input_inference_type: INT8, output_inference_type: INT8\n"
     ]
    },
    {
     "name": "stdout",
     "output_type": "stream",
     "text": [
      "  Saved (int8):    tflite_models/finetuned/int8_quantization/model_6_fold_9_finetuned.tflite (160.1 KB)\n",
      "  Fold 10:\n"
     ]
    },
    {
     "name": "stderr",
     "output_type": "stream",
     "text": [
      "WARNING:absl:Found untraced functions such as _jit_compiled_convolution_op, _jit_compiled_convolution_op, _update_step_xla while saving (showing 3 of 3). These functions will not be directly callable after loading.\n"
     ]
    },
    {
     "name": "stdout",
     "output_type": "stream",
     "text": [
      "INFO:tensorflow:Assets written to: /tmp/tmpt0no1ma2/assets\n"
     ]
    },
    {
     "name": "stderr",
     "output_type": "stream",
     "text": [
      "INFO:tensorflow:Assets written to: /tmp/tmpt0no1ma2/assets\n"
     ]
    },
    {
     "name": "stdout",
     "output_type": "stream",
     "text": [
      "  Saved (no quant): tflite_models/finetuned/no_quantization/model_6_fold_10_finetuned.tflite (617.8 KB)\n"
     ]
    },
    {
     "name": "stderr",
     "output_type": "stream",
     "text": [
      "WARNING:absl:Found untraced functions such as _jit_compiled_convolution_op, _jit_compiled_convolution_op, _update_step_xla while saving (showing 3 of 3). These functions will not be directly callable after loading.\n"
     ]
    },
    {
     "name": "stdout",
     "output_type": "stream",
     "text": [
      "INFO:tensorflow:Assets written to: /tmp/tmpsz124fpx/assets\n"
     ]
    },
    {
     "name": "stderr",
     "output_type": "stream",
     "text": [
      "INFO:tensorflow:Assets written to: /tmp/tmpsz124fpx/assets\n",
      "/home/pmedur/strojnoUcenje/env/lib/python3.10/site-packages/tensorflow/lite/python/convert.py:765: UserWarning: Statistics for quantized inputs were expected, but not specified; continuing anyway.\n",
      "  warnings.warn(\"Statistics for quantized inputs were expected, but not \"\n",
      "fully_quantize: 0, inference_type: 6, input_inference_type: INT8, output_inference_type: INT8\n"
     ]
    },
    {
     "name": "stdout",
     "output_type": "stream",
     "text": [
      "  Saved (int8):    tflite_models/finetuned/int8_quantization/model_6_fold_10_finetuned.tflite (160.1 KB)\n",
      "\n",
      "model_7:\n",
      "  Fold 1:\n"
     ]
    },
    {
     "name": "stderr",
     "output_type": "stream",
     "text": [
      "WARNING:absl:Found untraced functions such as _jit_compiled_convolution_op, _jit_compiled_convolution_op, _jit_compiled_convolution_op, _update_step_xla while saving (showing 4 of 4). These functions will not be directly callable after loading.\n"
     ]
    },
    {
     "name": "stdout",
     "output_type": "stream",
     "text": [
      "INFO:tensorflow:Assets written to: /tmp/tmpnpw4v26j/assets\n"
     ]
    },
    {
     "name": "stderr",
     "output_type": "stream",
     "text": [
      "INFO:tensorflow:Assets written to: /tmp/tmpnpw4v26j/assets\n"
     ]
    },
    {
     "name": "stdout",
     "output_type": "stream",
     "text": [
      "  Saved (no quant): tflite_models/finetuned/no_quantization/model_7_fold_1_finetuned.tflite (2689.6 KB)\n"
     ]
    },
    {
     "name": "stderr",
     "output_type": "stream",
     "text": [
      "WARNING:absl:Found untraced functions such as _jit_compiled_convolution_op, _jit_compiled_convolution_op, _jit_compiled_convolution_op, _update_step_xla while saving (showing 4 of 4). These functions will not be directly callable after loading.\n"
     ]
    },
    {
     "name": "stdout",
     "output_type": "stream",
     "text": [
      "INFO:tensorflow:Assets written to: /tmp/tmpj5uu99kj/assets\n"
     ]
    },
    {
     "name": "stderr",
     "output_type": "stream",
     "text": [
      "INFO:tensorflow:Assets written to: /tmp/tmpj5uu99kj/assets\n",
      "/home/pmedur/strojnoUcenje/env/lib/python3.10/site-packages/tensorflow/lite/python/convert.py:765: UserWarning: Statistics for quantized inputs were expected, but not specified; continuing anyway.\n",
      "  warnings.warn(\"Statistics for quantized inputs were expected, but not \"\n",
      "fully_quantize: 0, inference_type: 6, input_inference_type: INT8, output_inference_type: INT8\n"
     ]
    },
    {
     "name": "stdout",
     "output_type": "stream",
     "text": [
      "  Saved (int8):    tflite_models/finetuned/int8_quantization/model_7_fold_1_finetuned.tflite (683.1 KB)\n",
      "  Fold 2:\n"
     ]
    },
    {
     "name": "stderr",
     "output_type": "stream",
     "text": [
      "WARNING:absl:Found untraced functions such as _jit_compiled_convolution_op, _jit_compiled_convolution_op, _jit_compiled_convolution_op, _update_step_xla while saving (showing 4 of 4). These functions will not be directly callable after loading.\n"
     ]
    },
    {
     "name": "stdout",
     "output_type": "stream",
     "text": [
      "INFO:tensorflow:Assets written to: /tmp/tmpbf2j7fx1/assets\n"
     ]
    },
    {
     "name": "stderr",
     "output_type": "stream",
     "text": [
      "INFO:tensorflow:Assets written to: /tmp/tmpbf2j7fx1/assets\n"
     ]
    },
    {
     "name": "stdout",
     "output_type": "stream",
     "text": [
      "  Saved (no quant): tflite_models/finetuned/no_quantization/model_7_fold_2_finetuned.tflite (2689.6 KB)\n"
     ]
    },
    {
     "name": "stderr",
     "output_type": "stream",
     "text": [
      "WARNING:absl:Found untraced functions such as _jit_compiled_convolution_op, _jit_compiled_convolution_op, _jit_compiled_convolution_op, _update_step_xla while saving (showing 4 of 4). These functions will not be directly callable after loading.\n"
     ]
    },
    {
     "name": "stdout",
     "output_type": "stream",
     "text": [
      "INFO:tensorflow:Assets written to: /tmp/tmp5bddf1y_/assets\n"
     ]
    },
    {
     "name": "stderr",
     "output_type": "stream",
     "text": [
      "INFO:tensorflow:Assets written to: /tmp/tmp5bddf1y_/assets\n",
      "/home/pmedur/strojnoUcenje/env/lib/python3.10/site-packages/tensorflow/lite/python/convert.py:765: UserWarning: Statistics for quantized inputs were expected, but not specified; continuing anyway.\n",
      "  warnings.warn(\"Statistics for quantized inputs were expected, but not \"\n",
      "fully_quantize: 0, inference_type: 6, input_inference_type: INT8, output_inference_type: INT8\n"
     ]
    },
    {
     "name": "stdout",
     "output_type": "stream",
     "text": [
      "  Saved (int8):    tflite_models/finetuned/int8_quantization/model_7_fold_2_finetuned.tflite (683.1 KB)\n",
      "  Fold 3:\n"
     ]
    },
    {
     "name": "stderr",
     "output_type": "stream",
     "text": [
      "WARNING:absl:Found untraced functions such as _jit_compiled_convolution_op, _jit_compiled_convolution_op, _jit_compiled_convolution_op, _update_step_xla while saving (showing 4 of 4). These functions will not be directly callable after loading.\n"
     ]
    },
    {
     "name": "stdout",
     "output_type": "stream",
     "text": [
      "INFO:tensorflow:Assets written to: /tmp/tmptt2wcj21/assets\n"
     ]
    },
    {
     "name": "stderr",
     "output_type": "stream",
     "text": [
      "INFO:tensorflow:Assets written to: /tmp/tmptt2wcj21/assets\n"
     ]
    },
    {
     "name": "stdout",
     "output_type": "stream",
     "text": [
      "  Saved (no quant): tflite_models/finetuned/no_quantization/model_7_fold_3_finetuned.tflite (2689.6 KB)\n"
     ]
    },
    {
     "name": "stderr",
     "output_type": "stream",
     "text": [
      "WARNING:absl:Found untraced functions such as _jit_compiled_convolution_op, _jit_compiled_convolution_op, _jit_compiled_convolution_op, _update_step_xla while saving (showing 4 of 4). These functions will not be directly callable after loading.\n"
     ]
    },
    {
     "name": "stdout",
     "output_type": "stream",
     "text": [
      "INFO:tensorflow:Assets written to: /tmp/tmpjcyb_8by/assets\n"
     ]
    },
    {
     "name": "stderr",
     "output_type": "stream",
     "text": [
      "INFO:tensorflow:Assets written to: /tmp/tmpjcyb_8by/assets\n",
      "/home/pmedur/strojnoUcenje/env/lib/python3.10/site-packages/tensorflow/lite/python/convert.py:765: UserWarning: Statistics for quantized inputs were expected, but not specified; continuing anyway.\n",
      "  warnings.warn(\"Statistics for quantized inputs were expected, but not \"\n",
      "fully_quantize: 0, inference_type: 6, input_inference_type: INT8, output_inference_type: INT8\n"
     ]
    },
    {
     "name": "stdout",
     "output_type": "stream",
     "text": [
      "  Saved (int8):    tflite_models/finetuned/int8_quantization/model_7_fold_3_finetuned.tflite (683.1 KB)\n",
      "  Fold 4:\n"
     ]
    },
    {
     "name": "stderr",
     "output_type": "stream",
     "text": [
      "WARNING:absl:Found untraced functions such as _jit_compiled_convolution_op, _jit_compiled_convolution_op, _jit_compiled_convolution_op, _update_step_xla while saving (showing 4 of 4). These functions will not be directly callable after loading.\n"
     ]
    },
    {
     "name": "stdout",
     "output_type": "stream",
     "text": [
      "INFO:tensorflow:Assets written to: /tmp/tmptuhgkjtc/assets\n"
     ]
    },
    {
     "name": "stderr",
     "output_type": "stream",
     "text": [
      "INFO:tensorflow:Assets written to: /tmp/tmptuhgkjtc/assets\n"
     ]
    },
    {
     "name": "stdout",
     "output_type": "stream",
     "text": [
      "  Saved (no quant): tflite_models/finetuned/no_quantization/model_7_fold_4_finetuned.tflite (2689.6 KB)\n"
     ]
    },
    {
     "name": "stderr",
     "output_type": "stream",
     "text": [
      "WARNING:absl:Found untraced functions such as _jit_compiled_convolution_op, _jit_compiled_convolution_op, _jit_compiled_convolution_op, _update_step_xla while saving (showing 4 of 4). These functions will not be directly callable after loading.\n"
     ]
    },
    {
     "name": "stdout",
     "output_type": "stream",
     "text": [
      "INFO:tensorflow:Assets written to: /tmp/tmpb21h59u1/assets\n"
     ]
    },
    {
     "name": "stderr",
     "output_type": "stream",
     "text": [
      "INFO:tensorflow:Assets written to: /tmp/tmpb21h59u1/assets\n",
      "/home/pmedur/strojnoUcenje/env/lib/python3.10/site-packages/tensorflow/lite/python/convert.py:765: UserWarning: Statistics for quantized inputs were expected, but not specified; continuing anyway.\n",
      "  warnings.warn(\"Statistics for quantized inputs were expected, but not \"\n",
      "fully_quantize: 0, inference_type: 6, input_inference_type: INT8, output_inference_type: INT8\n"
     ]
    },
    {
     "name": "stdout",
     "output_type": "stream",
     "text": [
      "  Saved (int8):    tflite_models/finetuned/int8_quantization/model_7_fold_4_finetuned.tflite (683.1 KB)\n",
      "  Fold 5:\n"
     ]
    },
    {
     "name": "stderr",
     "output_type": "stream",
     "text": [
      "WARNING:absl:Found untraced functions such as _jit_compiled_convolution_op, _jit_compiled_convolution_op, _jit_compiled_convolution_op, _update_step_xla while saving (showing 4 of 4). These functions will not be directly callable after loading.\n"
     ]
    },
    {
     "name": "stdout",
     "output_type": "stream",
     "text": [
      "INFO:tensorflow:Assets written to: /tmp/tmpt_mnd8n6/assets\n"
     ]
    },
    {
     "name": "stderr",
     "output_type": "stream",
     "text": [
      "INFO:tensorflow:Assets written to: /tmp/tmpt_mnd8n6/assets\n"
     ]
    },
    {
     "name": "stdout",
     "output_type": "stream",
     "text": [
      "  Saved (no quant): tflite_models/finetuned/no_quantization/model_7_fold_5_finetuned.tflite (2689.6 KB)\n"
     ]
    },
    {
     "name": "stderr",
     "output_type": "stream",
     "text": [
      "WARNING:absl:Found untraced functions such as _jit_compiled_convolution_op, _jit_compiled_convolution_op, _jit_compiled_convolution_op, _update_step_xla while saving (showing 4 of 4). These functions will not be directly callable after loading.\n"
     ]
    },
    {
     "name": "stdout",
     "output_type": "stream",
     "text": [
      "INFO:tensorflow:Assets written to: /tmp/tmppbv4h4yt/assets\n"
     ]
    },
    {
     "name": "stderr",
     "output_type": "stream",
     "text": [
      "INFO:tensorflow:Assets written to: /tmp/tmppbv4h4yt/assets\n",
      "/home/pmedur/strojnoUcenje/env/lib/python3.10/site-packages/tensorflow/lite/python/convert.py:765: UserWarning: Statistics for quantized inputs were expected, but not specified; continuing anyway.\n",
      "  warnings.warn(\"Statistics for quantized inputs were expected, but not \"\n",
      "fully_quantize: 0, inference_type: 6, input_inference_type: INT8, output_inference_type: INT8\n"
     ]
    },
    {
     "name": "stdout",
     "output_type": "stream",
     "text": [
      "  Saved (int8):    tflite_models/finetuned/int8_quantization/model_7_fold_5_finetuned.tflite (683.1 KB)\n",
      "  Fold 6:\n"
     ]
    },
    {
     "name": "stderr",
     "output_type": "stream",
     "text": [
      "WARNING:absl:Found untraced functions such as _jit_compiled_convolution_op, _jit_compiled_convolution_op, _jit_compiled_convolution_op, _update_step_xla while saving (showing 4 of 4). These functions will not be directly callable after loading.\n"
     ]
    },
    {
     "name": "stdout",
     "output_type": "stream",
     "text": [
      "INFO:tensorflow:Assets written to: /tmp/tmp60fo4aho/assets\n"
     ]
    },
    {
     "name": "stderr",
     "output_type": "stream",
     "text": [
      "INFO:tensorflow:Assets written to: /tmp/tmp60fo4aho/assets\n"
     ]
    },
    {
     "name": "stdout",
     "output_type": "stream",
     "text": [
      "  Saved (no quant): tflite_models/finetuned/no_quantization/model_7_fold_6_finetuned.tflite (2689.6 KB)\n"
     ]
    },
    {
     "name": "stderr",
     "output_type": "stream",
     "text": [
      "WARNING:absl:Found untraced functions such as _jit_compiled_convolution_op, _jit_compiled_convolution_op, _jit_compiled_convolution_op, _update_step_xla while saving (showing 4 of 4). These functions will not be directly callable after loading.\n"
     ]
    },
    {
     "name": "stdout",
     "output_type": "stream",
     "text": [
      "INFO:tensorflow:Assets written to: /tmp/tmp8vjf_y7p/assets\n"
     ]
    },
    {
     "name": "stderr",
     "output_type": "stream",
     "text": [
      "INFO:tensorflow:Assets written to: /tmp/tmp8vjf_y7p/assets\n",
      "/home/pmedur/strojnoUcenje/env/lib/python3.10/site-packages/tensorflow/lite/python/convert.py:765: UserWarning: Statistics for quantized inputs were expected, but not specified; continuing anyway.\n",
      "  warnings.warn(\"Statistics for quantized inputs were expected, but not \"\n",
      "fully_quantize: 0, inference_type: 6, input_inference_type: INT8, output_inference_type: INT8\n"
     ]
    },
    {
     "name": "stdout",
     "output_type": "stream",
     "text": [
      "  Saved (int8):    tflite_models/finetuned/int8_quantization/model_7_fold_6_finetuned.tflite (683.1 KB)\n",
      "  Fold 7:\n"
     ]
    },
    {
     "name": "stderr",
     "output_type": "stream",
     "text": [
      "WARNING:absl:Found untraced functions such as _jit_compiled_convolution_op, _jit_compiled_convolution_op, _jit_compiled_convolution_op, _update_step_xla while saving (showing 4 of 4). These functions will not be directly callable after loading.\n"
     ]
    },
    {
     "name": "stdout",
     "output_type": "stream",
     "text": [
      "INFO:tensorflow:Assets written to: /tmp/tmpi0igvia5/assets\n"
     ]
    },
    {
     "name": "stderr",
     "output_type": "stream",
     "text": [
      "INFO:tensorflow:Assets written to: /tmp/tmpi0igvia5/assets\n"
     ]
    },
    {
     "name": "stdout",
     "output_type": "stream",
     "text": [
      "  Saved (no quant): tflite_models/finetuned/no_quantization/model_7_fold_7_finetuned.tflite (2689.6 KB)\n"
     ]
    },
    {
     "name": "stderr",
     "output_type": "stream",
     "text": [
      "WARNING:absl:Found untraced functions such as _jit_compiled_convolution_op, _jit_compiled_convolution_op, _jit_compiled_convolution_op, _update_step_xla while saving (showing 4 of 4). These functions will not be directly callable after loading.\n"
     ]
    },
    {
     "name": "stdout",
     "output_type": "stream",
     "text": [
      "INFO:tensorflow:Assets written to: /tmp/tmpf438z8zp/assets\n"
     ]
    },
    {
     "name": "stderr",
     "output_type": "stream",
     "text": [
      "INFO:tensorflow:Assets written to: /tmp/tmpf438z8zp/assets\n",
      "/home/pmedur/strojnoUcenje/env/lib/python3.10/site-packages/tensorflow/lite/python/convert.py:765: UserWarning: Statistics for quantized inputs were expected, but not specified; continuing anyway.\n",
      "  warnings.warn(\"Statistics for quantized inputs were expected, but not \"\n",
      "fully_quantize: 0, inference_type: 6, input_inference_type: INT8, output_inference_type: INT8\n"
     ]
    },
    {
     "name": "stdout",
     "output_type": "stream",
     "text": [
      "  Saved (int8):    tflite_models/finetuned/int8_quantization/model_7_fold_7_finetuned.tflite (683.1 KB)\n",
      "  Fold 8:\n"
     ]
    },
    {
     "name": "stderr",
     "output_type": "stream",
     "text": [
      "WARNING:absl:Found untraced functions such as _jit_compiled_convolution_op, _jit_compiled_convolution_op, _jit_compiled_convolution_op, _update_step_xla while saving (showing 4 of 4). These functions will not be directly callable after loading.\n"
     ]
    },
    {
     "name": "stdout",
     "output_type": "stream",
     "text": [
      "INFO:tensorflow:Assets written to: /tmp/tmpinueqorz/assets\n"
     ]
    },
    {
     "name": "stderr",
     "output_type": "stream",
     "text": [
      "INFO:tensorflow:Assets written to: /tmp/tmpinueqorz/assets\n"
     ]
    },
    {
     "name": "stdout",
     "output_type": "stream",
     "text": [
      "  Saved (no quant): tflite_models/finetuned/no_quantization/model_7_fold_8_finetuned.tflite (2689.6 KB)\n"
     ]
    },
    {
     "name": "stderr",
     "output_type": "stream",
     "text": [
      "WARNING:absl:Found untraced functions such as _jit_compiled_convolution_op, _jit_compiled_convolution_op, _jit_compiled_convolution_op, _update_step_xla while saving (showing 4 of 4). These functions will not be directly callable after loading.\n"
     ]
    },
    {
     "name": "stdout",
     "output_type": "stream",
     "text": [
      "INFO:tensorflow:Assets written to: /tmp/tmphb1mh479/assets\n"
     ]
    },
    {
     "name": "stderr",
     "output_type": "stream",
     "text": [
      "INFO:tensorflow:Assets written to: /tmp/tmphb1mh479/assets\n",
      "/home/pmedur/strojnoUcenje/env/lib/python3.10/site-packages/tensorflow/lite/python/convert.py:765: UserWarning: Statistics for quantized inputs were expected, but not specified; continuing anyway.\n",
      "  warnings.warn(\"Statistics for quantized inputs were expected, but not \"\n",
      "fully_quantize: 0, inference_type: 6, input_inference_type: INT8, output_inference_type: INT8\n"
     ]
    },
    {
     "name": "stdout",
     "output_type": "stream",
     "text": [
      "  Saved (int8):    tflite_models/finetuned/int8_quantization/model_7_fold_8_finetuned.tflite (683.1 KB)\n",
      "  Fold 9:\n"
     ]
    },
    {
     "name": "stderr",
     "output_type": "stream",
     "text": [
      "WARNING:absl:Found untraced functions such as _jit_compiled_convolution_op, _jit_compiled_convolution_op, _jit_compiled_convolution_op, _update_step_xla while saving (showing 4 of 4). These functions will not be directly callable after loading.\n"
     ]
    },
    {
     "name": "stdout",
     "output_type": "stream",
     "text": [
      "INFO:tensorflow:Assets written to: /tmp/tmpv6ozd18z/assets\n"
     ]
    },
    {
     "name": "stderr",
     "output_type": "stream",
     "text": [
      "INFO:tensorflow:Assets written to: /tmp/tmpv6ozd18z/assets\n"
     ]
    },
    {
     "name": "stdout",
     "output_type": "stream",
     "text": [
      "  Saved (no quant): tflite_models/finetuned/no_quantization/model_7_fold_9_finetuned.tflite (2689.6 KB)\n"
     ]
    },
    {
     "name": "stderr",
     "output_type": "stream",
     "text": [
      "WARNING:absl:Found untraced functions such as _jit_compiled_convolution_op, _jit_compiled_convolution_op, _jit_compiled_convolution_op, _update_step_xla while saving (showing 4 of 4). These functions will not be directly callable after loading.\n"
     ]
    },
    {
     "name": "stdout",
     "output_type": "stream",
     "text": [
      "INFO:tensorflow:Assets written to: /tmp/tmpfoonqed8/assets\n"
     ]
    },
    {
     "name": "stderr",
     "output_type": "stream",
     "text": [
      "INFO:tensorflow:Assets written to: /tmp/tmpfoonqed8/assets\n",
      "/home/pmedur/strojnoUcenje/env/lib/python3.10/site-packages/tensorflow/lite/python/convert.py:765: UserWarning: Statistics for quantized inputs were expected, but not specified; continuing anyway.\n",
      "  warnings.warn(\"Statistics for quantized inputs were expected, but not \"\n",
      "fully_quantize: 0, inference_type: 6, input_inference_type: INT8, output_inference_type: INT8\n"
     ]
    },
    {
     "name": "stdout",
     "output_type": "stream",
     "text": [
      "  Saved (int8):    tflite_models/finetuned/int8_quantization/model_7_fold_9_finetuned.tflite (683.1 KB)\n",
      "  Fold 10:\n"
     ]
    },
    {
     "name": "stderr",
     "output_type": "stream",
     "text": [
      "WARNING:absl:Found untraced functions such as _jit_compiled_convolution_op, _jit_compiled_convolution_op, _jit_compiled_convolution_op, _update_step_xla while saving (showing 4 of 4). These functions will not be directly callable after loading.\n"
     ]
    },
    {
     "name": "stdout",
     "output_type": "stream",
     "text": [
      "INFO:tensorflow:Assets written to: /tmp/tmp4u9v2cz3/assets\n"
     ]
    },
    {
     "name": "stderr",
     "output_type": "stream",
     "text": [
      "INFO:tensorflow:Assets written to: /tmp/tmp4u9v2cz3/assets\n"
     ]
    },
    {
     "name": "stdout",
     "output_type": "stream",
     "text": [
      "  Saved (no quant): tflite_models/finetuned/no_quantization/model_7_fold_10_finetuned.tflite (2689.6 KB)\n"
     ]
    },
    {
     "name": "stderr",
     "output_type": "stream",
     "text": [
      "WARNING:absl:Found untraced functions such as _jit_compiled_convolution_op, _jit_compiled_convolution_op, _jit_compiled_convolution_op, _update_step_xla while saving (showing 4 of 4). These functions will not be directly callable after loading.\n"
     ]
    },
    {
     "name": "stdout",
     "output_type": "stream",
     "text": [
      "INFO:tensorflow:Assets written to: /tmp/tmpecij2b17/assets\n"
     ]
    },
    {
     "name": "stderr",
     "output_type": "stream",
     "text": [
      "INFO:tensorflow:Assets written to: /tmp/tmpecij2b17/assets\n",
      "/home/pmedur/strojnoUcenje/env/lib/python3.10/site-packages/tensorflow/lite/python/convert.py:765: UserWarning: Statistics for quantized inputs were expected, but not specified; continuing anyway.\n",
      "  warnings.warn(\"Statistics for quantized inputs were expected, but not \"\n",
      "fully_quantize: 0, inference_type: 6, input_inference_type: INT8, output_inference_type: INT8\n"
     ]
    },
    {
     "name": "stdout",
     "output_type": "stream",
     "text": [
      "  Saved (int8):    tflite_models/finetuned/int8_quantization/model_7_fold_10_finetuned.tflite (683.1 KB)\n",
      "\n",
      "model_8:\n",
      "  Fold 1:\n"
     ]
    },
    {
     "name": "stderr",
     "output_type": "stream",
     "text": [
      "WARNING:absl:Found untraced functions such as _jit_compiled_convolution_op, _jit_compiled_convolution_op, _update_step_xla while saving (showing 3 of 3). These functions will not be directly callable after loading.\n"
     ]
    },
    {
     "name": "stdout",
     "output_type": "stream",
     "text": [
      "INFO:tensorflow:Assets written to: /tmp/tmprkugiy01/assets\n"
     ]
    },
    {
     "name": "stderr",
     "output_type": "stream",
     "text": [
      "INFO:tensorflow:Assets written to: /tmp/tmprkugiy01/assets\n"
     ]
    },
    {
     "name": "stdout",
     "output_type": "stream",
     "text": [
      "  Saved (no quant): tflite_models/finetuned/no_quantization/model_8_fold_1_finetuned.tflite (4940.6 KB)\n"
     ]
    },
    {
     "name": "stderr",
     "output_type": "stream",
     "text": [
      "WARNING:absl:Found untraced functions such as _jit_compiled_convolution_op, _jit_compiled_convolution_op, _update_step_xla while saving (showing 3 of 3). These functions will not be directly callable after loading.\n"
     ]
    },
    {
     "name": "stdout",
     "output_type": "stream",
     "text": [
      "INFO:tensorflow:Assets written to: /tmp/tmpgaco06va/assets\n"
     ]
    },
    {
     "name": "stderr",
     "output_type": "stream",
     "text": [
      "INFO:tensorflow:Assets written to: /tmp/tmpgaco06va/assets\n",
      "/home/pmedur/strojnoUcenje/env/lib/python3.10/site-packages/tensorflow/lite/python/convert.py:765: UserWarning: Statistics for quantized inputs were expected, but not specified; continuing anyway.\n",
      "  warnings.warn(\"Statistics for quantized inputs were expected, but not \"\n",
      "fully_quantize: 0, inference_type: 6, input_inference_type: INT8, output_inference_type: INT8\n"
     ]
    },
    {
     "name": "stdout",
     "output_type": "stream",
     "text": [
      "  Saved (int8):    tflite_models/finetuned/int8_quantization/model_8_fold_1_finetuned.tflite (1245.0 KB)\n",
      "  Fold 2:\n"
     ]
    },
    {
     "name": "stderr",
     "output_type": "stream",
     "text": [
      "WARNING:absl:Found untraced functions such as _jit_compiled_convolution_op, _jit_compiled_convolution_op, _update_step_xla while saving (showing 3 of 3). These functions will not be directly callable after loading.\n"
     ]
    },
    {
     "name": "stdout",
     "output_type": "stream",
     "text": [
      "INFO:tensorflow:Assets written to: /tmp/tmp67iab319/assets\n"
     ]
    },
    {
     "name": "stderr",
     "output_type": "stream",
     "text": [
      "INFO:tensorflow:Assets written to: /tmp/tmp67iab319/assets\n"
     ]
    },
    {
     "name": "stdout",
     "output_type": "stream",
     "text": [
      "  Saved (no quant): tflite_models/finetuned/no_quantization/model_8_fold_2_finetuned.tflite (4940.6 KB)\n"
     ]
    },
    {
     "name": "stderr",
     "output_type": "stream",
     "text": [
      "WARNING:absl:Found untraced functions such as _jit_compiled_convolution_op, _jit_compiled_convolution_op, _update_step_xla while saving (showing 3 of 3). These functions will not be directly callable after loading.\n"
     ]
    },
    {
     "name": "stdout",
     "output_type": "stream",
     "text": [
      "INFO:tensorflow:Assets written to: /tmp/tmp7v8y4uv9/assets\n"
     ]
    },
    {
     "name": "stderr",
     "output_type": "stream",
     "text": [
      "INFO:tensorflow:Assets written to: /tmp/tmp7v8y4uv9/assets\n",
      "/home/pmedur/strojnoUcenje/env/lib/python3.10/site-packages/tensorflow/lite/python/convert.py:765: UserWarning: Statistics for quantized inputs were expected, but not specified; continuing anyway.\n",
      "  warnings.warn(\"Statistics for quantized inputs were expected, but not \"\n",
      "fully_quantize: 0, inference_type: 6, input_inference_type: INT8, output_inference_type: INT8\n"
     ]
    },
    {
     "name": "stdout",
     "output_type": "stream",
     "text": [
      "  Saved (int8):    tflite_models/finetuned/int8_quantization/model_8_fold_2_finetuned.tflite (1245.0 KB)\n",
      "  Fold 3:\n"
     ]
    },
    {
     "name": "stderr",
     "output_type": "stream",
     "text": [
      "WARNING:absl:Found untraced functions such as _jit_compiled_convolution_op, _jit_compiled_convolution_op, _update_step_xla while saving (showing 3 of 3). These functions will not be directly callable after loading.\n"
     ]
    },
    {
     "name": "stdout",
     "output_type": "stream",
     "text": [
      "INFO:tensorflow:Assets written to: /tmp/tmpth1kb6in/assets\n"
     ]
    },
    {
     "name": "stderr",
     "output_type": "stream",
     "text": [
      "INFO:tensorflow:Assets written to: /tmp/tmpth1kb6in/assets\n"
     ]
    },
    {
     "name": "stdout",
     "output_type": "stream",
     "text": [
      "  Saved (no quant): tflite_models/finetuned/no_quantization/model_8_fold_3_finetuned.tflite (4940.6 KB)\n"
     ]
    },
    {
     "name": "stderr",
     "output_type": "stream",
     "text": [
      "WARNING:absl:Found untraced functions such as _jit_compiled_convolution_op, _jit_compiled_convolution_op, _update_step_xla while saving (showing 3 of 3). These functions will not be directly callable after loading.\n"
     ]
    },
    {
     "name": "stdout",
     "output_type": "stream",
     "text": [
      "INFO:tensorflow:Assets written to: /tmp/tmp2_a3ndtm/assets\n"
     ]
    },
    {
     "name": "stderr",
     "output_type": "stream",
     "text": [
      "INFO:tensorflow:Assets written to: /tmp/tmp2_a3ndtm/assets\n",
      "/home/pmedur/strojnoUcenje/env/lib/python3.10/site-packages/tensorflow/lite/python/convert.py:765: UserWarning: Statistics for quantized inputs were expected, but not specified; continuing anyway.\n",
      "  warnings.warn(\"Statistics for quantized inputs were expected, but not \"\n",
      "fully_quantize: 0, inference_type: 6, input_inference_type: INT8, output_inference_type: INT8\n"
     ]
    },
    {
     "name": "stdout",
     "output_type": "stream",
     "text": [
      "  Saved (int8):    tflite_models/finetuned/int8_quantization/model_8_fold_3_finetuned.tflite (1245.0 KB)\n",
      "  Fold 4:\n"
     ]
    },
    {
     "name": "stderr",
     "output_type": "stream",
     "text": [
      "WARNING:absl:Found untraced functions such as _jit_compiled_convolution_op, _jit_compiled_convolution_op, _update_step_xla while saving (showing 3 of 3). These functions will not be directly callable after loading.\n"
     ]
    },
    {
     "name": "stdout",
     "output_type": "stream",
     "text": [
      "INFO:tensorflow:Assets written to: /tmp/tmptjclo3l8/assets\n"
     ]
    },
    {
     "name": "stderr",
     "output_type": "stream",
     "text": [
      "INFO:tensorflow:Assets written to: /tmp/tmptjclo3l8/assets\n"
     ]
    },
    {
     "name": "stdout",
     "output_type": "stream",
     "text": [
      "  Saved (no quant): tflite_models/finetuned/no_quantization/model_8_fold_4_finetuned.tflite (4940.6 KB)\n"
     ]
    },
    {
     "name": "stderr",
     "output_type": "stream",
     "text": [
      "WARNING:absl:Found untraced functions such as _jit_compiled_convolution_op, _jit_compiled_convolution_op, _update_step_xla while saving (showing 3 of 3). These functions will not be directly callable after loading.\n"
     ]
    },
    {
     "name": "stdout",
     "output_type": "stream",
     "text": [
      "INFO:tensorflow:Assets written to: /tmp/tmp78efjj5d/assets\n"
     ]
    },
    {
     "name": "stderr",
     "output_type": "stream",
     "text": [
      "INFO:tensorflow:Assets written to: /tmp/tmp78efjj5d/assets\n",
      "/home/pmedur/strojnoUcenje/env/lib/python3.10/site-packages/tensorflow/lite/python/convert.py:765: UserWarning: Statistics for quantized inputs were expected, but not specified; continuing anyway.\n",
      "  warnings.warn(\"Statistics for quantized inputs were expected, but not \"\n",
      "fully_quantize: 0, inference_type: 6, input_inference_type: INT8, output_inference_type: INT8\n"
     ]
    },
    {
     "name": "stdout",
     "output_type": "stream",
     "text": [
      "  Saved (int8):    tflite_models/finetuned/int8_quantization/model_8_fold_4_finetuned.tflite (1245.0 KB)\n",
      "  Fold 5:\n"
     ]
    },
    {
     "name": "stderr",
     "output_type": "stream",
     "text": [
      "WARNING:absl:Found untraced functions such as _jit_compiled_convolution_op, _jit_compiled_convolution_op, _update_step_xla while saving (showing 3 of 3). These functions will not be directly callable after loading.\n"
     ]
    },
    {
     "name": "stdout",
     "output_type": "stream",
     "text": [
      "INFO:tensorflow:Assets written to: /tmp/tmpeamx54x8/assets\n"
     ]
    },
    {
     "name": "stderr",
     "output_type": "stream",
     "text": [
      "INFO:tensorflow:Assets written to: /tmp/tmpeamx54x8/assets\n"
     ]
    },
    {
     "name": "stdout",
     "output_type": "stream",
     "text": [
      "  Saved (no quant): tflite_models/finetuned/no_quantization/model_8_fold_5_finetuned.tflite (4940.6 KB)\n"
     ]
    },
    {
     "name": "stderr",
     "output_type": "stream",
     "text": [
      "WARNING:absl:Found untraced functions such as _jit_compiled_convolution_op, _jit_compiled_convolution_op, _update_step_xla while saving (showing 3 of 3). These functions will not be directly callable after loading.\n"
     ]
    },
    {
     "name": "stdout",
     "output_type": "stream",
     "text": [
      "INFO:tensorflow:Assets written to: /tmp/tmpnuqkrv8h/assets\n"
     ]
    },
    {
     "name": "stderr",
     "output_type": "stream",
     "text": [
      "INFO:tensorflow:Assets written to: /tmp/tmpnuqkrv8h/assets\n",
      "/home/pmedur/strojnoUcenje/env/lib/python3.10/site-packages/tensorflow/lite/python/convert.py:765: UserWarning: Statistics for quantized inputs were expected, but not specified; continuing anyway.\n",
      "  warnings.warn(\"Statistics for quantized inputs were expected, but not \"\n",
      "fully_quantize: 0, inference_type: 6, input_inference_type: INT8, output_inference_type: INT8\n"
     ]
    },
    {
     "name": "stdout",
     "output_type": "stream",
     "text": [
      "  Saved (int8):    tflite_models/finetuned/int8_quantization/model_8_fold_5_finetuned.tflite (1245.0 KB)\n",
      "  Fold 6:\n"
     ]
    },
    {
     "name": "stderr",
     "output_type": "stream",
     "text": [
      "WARNING:absl:Found untraced functions such as _jit_compiled_convolution_op, _jit_compiled_convolution_op, _update_step_xla while saving (showing 3 of 3). These functions will not be directly callable after loading.\n"
     ]
    },
    {
     "name": "stdout",
     "output_type": "stream",
     "text": [
      "INFO:tensorflow:Assets written to: /tmp/tmpb63931ge/assets\n"
     ]
    },
    {
     "name": "stderr",
     "output_type": "stream",
     "text": [
      "INFO:tensorflow:Assets written to: /tmp/tmpb63931ge/assets\n"
     ]
    },
    {
     "name": "stdout",
     "output_type": "stream",
     "text": [
      "  Saved (no quant): tflite_models/finetuned/no_quantization/model_8_fold_6_finetuned.tflite (4940.6 KB)\n"
     ]
    },
    {
     "name": "stderr",
     "output_type": "stream",
     "text": [
      "WARNING:absl:Found untraced functions such as _jit_compiled_convolution_op, _jit_compiled_convolution_op, _update_step_xla while saving (showing 3 of 3). These functions will not be directly callable after loading.\n"
     ]
    },
    {
     "name": "stdout",
     "output_type": "stream",
     "text": [
      "INFO:tensorflow:Assets written to: /tmp/tmpazdgbrj0/assets\n"
     ]
    },
    {
     "name": "stderr",
     "output_type": "stream",
     "text": [
      "INFO:tensorflow:Assets written to: /tmp/tmpazdgbrj0/assets\n",
      "/home/pmedur/strojnoUcenje/env/lib/python3.10/site-packages/tensorflow/lite/python/convert.py:765: UserWarning: Statistics for quantized inputs were expected, but not specified; continuing anyway.\n",
      "  warnings.warn(\"Statistics for quantized inputs were expected, but not \"\n",
      "fully_quantize: 0, inference_type: 6, input_inference_type: INT8, output_inference_type: INT8\n"
     ]
    },
    {
     "name": "stdout",
     "output_type": "stream",
     "text": [
      "  Saved (int8):    tflite_models/finetuned/int8_quantization/model_8_fold_6_finetuned.tflite (1245.0 KB)\n",
      "  Fold 7:\n"
     ]
    },
    {
     "name": "stderr",
     "output_type": "stream",
     "text": [
      "WARNING:absl:Found untraced functions such as _jit_compiled_convolution_op, _jit_compiled_convolution_op, _update_step_xla while saving (showing 3 of 3). These functions will not be directly callable after loading.\n"
     ]
    },
    {
     "name": "stdout",
     "output_type": "stream",
     "text": [
      "INFO:tensorflow:Assets written to: /tmp/tmpzihmsu0d/assets\n"
     ]
    },
    {
     "name": "stderr",
     "output_type": "stream",
     "text": [
      "INFO:tensorflow:Assets written to: /tmp/tmpzihmsu0d/assets\n"
     ]
    },
    {
     "name": "stdout",
     "output_type": "stream",
     "text": [
      "  Saved (no quant): tflite_models/finetuned/no_quantization/model_8_fold_7_finetuned.tflite (4940.6 KB)\n"
     ]
    },
    {
     "name": "stderr",
     "output_type": "stream",
     "text": [
      "WARNING:absl:Found untraced functions such as _jit_compiled_convolution_op, _jit_compiled_convolution_op, _update_step_xla while saving (showing 3 of 3). These functions will not be directly callable after loading.\n"
     ]
    },
    {
     "name": "stdout",
     "output_type": "stream",
     "text": [
      "INFO:tensorflow:Assets written to: /tmp/tmpolo5pctj/assets\n"
     ]
    },
    {
     "name": "stderr",
     "output_type": "stream",
     "text": [
      "INFO:tensorflow:Assets written to: /tmp/tmpolo5pctj/assets\n",
      "/home/pmedur/strojnoUcenje/env/lib/python3.10/site-packages/tensorflow/lite/python/convert.py:765: UserWarning: Statistics for quantized inputs were expected, but not specified; continuing anyway.\n",
      "  warnings.warn(\"Statistics for quantized inputs were expected, but not \"\n",
      "fully_quantize: 0, inference_type: 6, input_inference_type: INT8, output_inference_type: INT8\n"
     ]
    },
    {
     "name": "stdout",
     "output_type": "stream",
     "text": [
      "  Saved (int8):    tflite_models/finetuned/int8_quantization/model_8_fold_7_finetuned.tflite (1245.0 KB)\n",
      "  Fold 8:\n"
     ]
    },
    {
     "name": "stderr",
     "output_type": "stream",
     "text": [
      "WARNING:absl:Found untraced functions such as _jit_compiled_convolution_op, _jit_compiled_convolution_op, _update_step_xla while saving (showing 3 of 3). These functions will not be directly callable after loading.\n"
     ]
    },
    {
     "name": "stdout",
     "output_type": "stream",
     "text": [
      "INFO:tensorflow:Assets written to: /tmp/tmpw55o4u_q/assets\n"
     ]
    },
    {
     "name": "stderr",
     "output_type": "stream",
     "text": [
      "INFO:tensorflow:Assets written to: /tmp/tmpw55o4u_q/assets\n"
     ]
    },
    {
     "name": "stdout",
     "output_type": "stream",
     "text": [
      "  Saved (no quant): tflite_models/finetuned/no_quantization/model_8_fold_8_finetuned.tflite (4940.6 KB)\n"
     ]
    },
    {
     "name": "stderr",
     "output_type": "stream",
     "text": [
      "WARNING:absl:Found untraced functions such as _jit_compiled_convolution_op, _jit_compiled_convolution_op, _update_step_xla while saving (showing 3 of 3). These functions will not be directly callable after loading.\n"
     ]
    },
    {
     "name": "stdout",
     "output_type": "stream",
     "text": [
      "INFO:tensorflow:Assets written to: /tmp/tmp9ipkwnnh/assets\n"
     ]
    },
    {
     "name": "stderr",
     "output_type": "stream",
     "text": [
      "INFO:tensorflow:Assets written to: /tmp/tmp9ipkwnnh/assets\n",
      "/home/pmedur/strojnoUcenje/env/lib/python3.10/site-packages/tensorflow/lite/python/convert.py:765: UserWarning: Statistics for quantized inputs were expected, but not specified; continuing anyway.\n",
      "  warnings.warn(\"Statistics for quantized inputs were expected, but not \"\n",
      "fully_quantize: 0, inference_type: 6, input_inference_type: INT8, output_inference_type: INT8\n"
     ]
    },
    {
     "name": "stdout",
     "output_type": "stream",
     "text": [
      "  Saved (int8):    tflite_models/finetuned/int8_quantization/model_8_fold_8_finetuned.tflite (1245.0 KB)\n",
      "  Fold 9:\n"
     ]
    },
    {
     "name": "stderr",
     "output_type": "stream",
     "text": [
      "WARNING:absl:Found untraced functions such as _jit_compiled_convolution_op, _jit_compiled_convolution_op, _update_step_xla while saving (showing 3 of 3). These functions will not be directly callable after loading.\n"
     ]
    },
    {
     "name": "stdout",
     "output_type": "stream",
     "text": [
      "INFO:tensorflow:Assets written to: /tmp/tmpb3d7n7_8/assets\n"
     ]
    },
    {
     "name": "stderr",
     "output_type": "stream",
     "text": [
      "INFO:tensorflow:Assets written to: /tmp/tmpb3d7n7_8/assets\n"
     ]
    },
    {
     "name": "stdout",
     "output_type": "stream",
     "text": [
      "  Saved (no quant): tflite_models/finetuned/no_quantization/model_8_fold_9_finetuned.tflite (4940.6 KB)\n"
     ]
    },
    {
     "name": "stderr",
     "output_type": "stream",
     "text": [
      "WARNING:absl:Found untraced functions such as _jit_compiled_convolution_op, _jit_compiled_convolution_op, _update_step_xla while saving (showing 3 of 3). These functions will not be directly callable after loading.\n"
     ]
    },
    {
     "name": "stdout",
     "output_type": "stream",
     "text": [
      "INFO:tensorflow:Assets written to: /tmp/tmp3fck08ox/assets\n"
     ]
    },
    {
     "name": "stderr",
     "output_type": "stream",
     "text": [
      "INFO:tensorflow:Assets written to: /tmp/tmp3fck08ox/assets\n",
      "/home/pmedur/strojnoUcenje/env/lib/python3.10/site-packages/tensorflow/lite/python/convert.py:765: UserWarning: Statistics for quantized inputs were expected, but not specified; continuing anyway.\n",
      "  warnings.warn(\"Statistics for quantized inputs were expected, but not \"\n",
      "fully_quantize: 0, inference_type: 6, input_inference_type: INT8, output_inference_type: INT8\n"
     ]
    },
    {
     "name": "stdout",
     "output_type": "stream",
     "text": [
      "  Saved (int8):    tflite_models/finetuned/int8_quantization/model_8_fold_9_finetuned.tflite (1245.0 KB)\n",
      "  Fold 10:\n"
     ]
    },
    {
     "name": "stderr",
     "output_type": "stream",
     "text": [
      "WARNING:absl:Found untraced functions such as _jit_compiled_convolution_op, _jit_compiled_convolution_op, _update_step_xla while saving (showing 3 of 3). These functions will not be directly callable after loading.\n"
     ]
    },
    {
     "name": "stdout",
     "output_type": "stream",
     "text": [
      "INFO:tensorflow:Assets written to: /tmp/tmpo9zw794o/assets\n"
     ]
    },
    {
     "name": "stderr",
     "output_type": "stream",
     "text": [
      "INFO:tensorflow:Assets written to: /tmp/tmpo9zw794o/assets\n"
     ]
    },
    {
     "name": "stdout",
     "output_type": "stream",
     "text": [
      "  Saved (no quant): tflite_models/finetuned/no_quantization/model_8_fold_10_finetuned.tflite (4940.6 KB)\n"
     ]
    },
    {
     "name": "stderr",
     "output_type": "stream",
     "text": [
      "WARNING:absl:Found untraced functions such as _jit_compiled_convolution_op, _jit_compiled_convolution_op, _update_step_xla while saving (showing 3 of 3). These functions will not be directly callable after loading.\n"
     ]
    },
    {
     "name": "stdout",
     "output_type": "stream",
     "text": [
      "INFO:tensorflow:Assets written to: /tmp/tmprt5rxaj2/assets\n"
     ]
    },
    {
     "name": "stderr",
     "output_type": "stream",
     "text": [
      "INFO:tensorflow:Assets written to: /tmp/tmprt5rxaj2/assets\n",
      "/home/pmedur/strojnoUcenje/env/lib/python3.10/site-packages/tensorflow/lite/python/convert.py:765: UserWarning: Statistics for quantized inputs were expected, but not specified; continuing anyway.\n",
      "  warnings.warn(\"Statistics for quantized inputs were expected, but not \"\n",
      "fully_quantize: 0, inference_type: 6, input_inference_type: INT8, output_inference_type: INT8\n"
     ]
    },
    {
     "name": "stdout",
     "output_type": "stream",
     "text": [
      "  Saved (int8):    tflite_models/finetuned/int8_quantization/model_8_fold_10_finetuned.tflite (1245.0 KB)\n",
      "\n",
      "model_9:\n",
      "  Fold 1:\n"
     ]
    },
    {
     "name": "stderr",
     "output_type": "stream",
     "text": [
      "WARNING:absl:Found untraced functions such as _jit_compiled_convolution_op, _jit_compiled_convolution_op, _jit_compiled_convolution_op, _update_step_xla while saving (showing 4 of 4). These functions will not be directly callable after loading.\n"
     ]
    },
    {
     "name": "stdout",
     "output_type": "stream",
     "text": [
      "INFO:tensorflow:Assets written to: /tmp/tmpq8k9wu4r/assets\n"
     ]
    },
    {
     "name": "stderr",
     "output_type": "stream",
     "text": [
      "INFO:tensorflow:Assets written to: /tmp/tmpq8k9wu4r/assets\n"
     ]
    },
    {
     "name": "stdout",
     "output_type": "stream",
     "text": [
      "  Saved (no quant): tflite_models/finetuned/no_quantization/model_9_fold_1_finetuned.tflite (19955.1 KB)\n"
     ]
    },
    {
     "name": "stderr",
     "output_type": "stream",
     "text": [
      "WARNING:absl:Found untraced functions such as _jit_compiled_convolution_op, _jit_compiled_convolution_op, _jit_compiled_convolution_op, _update_step_xla while saving (showing 4 of 4). These functions will not be directly callable after loading.\n"
     ]
    },
    {
     "name": "stdout",
     "output_type": "stream",
     "text": [
      "INFO:tensorflow:Assets written to: /tmp/tmpl6b1v7t1/assets\n"
     ]
    },
    {
     "name": "stderr",
     "output_type": "stream",
     "text": [
      "INFO:tensorflow:Assets written to: /tmp/tmpl6b1v7t1/assets\n",
      "/home/pmedur/strojnoUcenje/env/lib/python3.10/site-packages/tensorflow/lite/python/convert.py:765: UserWarning: Statistics for quantized inputs were expected, but not specified; continuing anyway.\n",
      "  warnings.warn(\"Statistics for quantized inputs were expected, but not \"\n",
      "fully_quantize: 0, inference_type: 6, input_inference_type: INT8, output_inference_type: INT8\n"
     ]
    },
    {
     "name": "stdout",
     "output_type": "stream",
     "text": [
      "  Saved (int8):    tflite_models/finetuned/int8_quantization/model_9_fold_1_finetuned.tflite (5006.5 KB)\n",
      "  Fold 2:\n"
     ]
    },
    {
     "name": "stderr",
     "output_type": "stream",
     "text": [
      "WARNING:absl:Found untraced functions such as _jit_compiled_convolution_op, _jit_compiled_convolution_op, _jit_compiled_convolution_op, _update_step_xla while saving (showing 4 of 4). These functions will not be directly callable after loading.\n"
     ]
    },
    {
     "name": "stdout",
     "output_type": "stream",
     "text": [
      "INFO:tensorflow:Assets written to: /tmp/tmpshe5_0mx/assets\n"
     ]
    },
    {
     "name": "stderr",
     "output_type": "stream",
     "text": [
      "INFO:tensorflow:Assets written to: /tmp/tmpshe5_0mx/assets\n"
     ]
    },
    {
     "name": "stdout",
     "output_type": "stream",
     "text": [
      "  Saved (no quant): tflite_models/finetuned/no_quantization/model_9_fold_2_finetuned.tflite (19955.1 KB)\n"
     ]
    },
    {
     "name": "stderr",
     "output_type": "stream",
     "text": [
      "WARNING:absl:Found untraced functions such as _jit_compiled_convolution_op, _jit_compiled_convolution_op, _jit_compiled_convolution_op, _update_step_xla while saving (showing 4 of 4). These functions will not be directly callable after loading.\n"
     ]
    },
    {
     "name": "stdout",
     "output_type": "stream",
     "text": [
      "INFO:tensorflow:Assets written to: /tmp/tmp0jfih7yv/assets\n"
     ]
    },
    {
     "name": "stderr",
     "output_type": "stream",
     "text": [
      "INFO:tensorflow:Assets written to: /tmp/tmp0jfih7yv/assets\n",
      "/home/pmedur/strojnoUcenje/env/lib/python3.10/site-packages/tensorflow/lite/python/convert.py:765: UserWarning: Statistics for quantized inputs were expected, but not specified; continuing anyway.\n",
      "  warnings.warn(\"Statistics for quantized inputs were expected, but not \"\n",
      "fully_quantize: 0, inference_type: 6, input_inference_type: INT8, output_inference_type: INT8\n"
     ]
    },
    {
     "name": "stdout",
     "output_type": "stream",
     "text": [
      "  Saved (int8):    tflite_models/finetuned/int8_quantization/model_9_fold_2_finetuned.tflite (5006.5 KB)\n",
      "  Fold 3:\n"
     ]
    },
    {
     "name": "stderr",
     "output_type": "stream",
     "text": [
      "WARNING:absl:Found untraced functions such as _jit_compiled_convolution_op, _jit_compiled_convolution_op, _jit_compiled_convolution_op, _update_step_xla while saving (showing 4 of 4). These functions will not be directly callable after loading.\n"
     ]
    },
    {
     "name": "stdout",
     "output_type": "stream",
     "text": [
      "INFO:tensorflow:Assets written to: /tmp/tmp8ri5dozq/assets\n"
     ]
    },
    {
     "name": "stderr",
     "output_type": "stream",
     "text": [
      "INFO:tensorflow:Assets written to: /tmp/tmp8ri5dozq/assets\n"
     ]
    },
    {
     "name": "stdout",
     "output_type": "stream",
     "text": [
      "  Saved (no quant): tflite_models/finetuned/no_quantization/model_9_fold_3_finetuned.tflite (19955.1 KB)\n"
     ]
    },
    {
     "name": "stderr",
     "output_type": "stream",
     "text": [
      "WARNING:absl:Found untraced functions such as _jit_compiled_convolution_op, _jit_compiled_convolution_op, _jit_compiled_convolution_op, _update_step_xla while saving (showing 4 of 4). These functions will not be directly callable after loading.\n"
     ]
    },
    {
     "name": "stdout",
     "output_type": "stream",
     "text": [
      "INFO:tensorflow:Assets written to: /tmp/tmp4rcmgiri/assets\n"
     ]
    },
    {
     "name": "stderr",
     "output_type": "stream",
     "text": [
      "INFO:tensorflow:Assets written to: /tmp/tmp4rcmgiri/assets\n",
      "/home/pmedur/strojnoUcenje/env/lib/python3.10/site-packages/tensorflow/lite/python/convert.py:765: UserWarning: Statistics for quantized inputs were expected, but not specified; continuing anyway.\n",
      "  warnings.warn(\"Statistics for quantized inputs were expected, but not \"\n",
      "fully_quantize: 0, inference_type: 6, input_inference_type: INT8, output_inference_type: INT8\n"
     ]
    },
    {
     "name": "stdout",
     "output_type": "stream",
     "text": [
      "  Saved (int8):    tflite_models/finetuned/int8_quantization/model_9_fold_3_finetuned.tflite (5006.5 KB)\n",
      "  Fold 4:\n"
     ]
    },
    {
     "name": "stderr",
     "output_type": "stream",
     "text": [
      "WARNING:absl:Found untraced functions such as _jit_compiled_convolution_op, _jit_compiled_convolution_op, _jit_compiled_convolution_op, _update_step_xla while saving (showing 4 of 4). These functions will not be directly callable after loading.\n"
     ]
    },
    {
     "name": "stdout",
     "output_type": "stream",
     "text": [
      "INFO:tensorflow:Assets written to: /tmp/tmp7ewbgkxc/assets\n"
     ]
    },
    {
     "name": "stderr",
     "output_type": "stream",
     "text": [
      "INFO:tensorflow:Assets written to: /tmp/tmp7ewbgkxc/assets\n"
     ]
    },
    {
     "name": "stdout",
     "output_type": "stream",
     "text": [
      "  Saved (no quant): tflite_models/finetuned/no_quantization/model_9_fold_4_finetuned.tflite (19955.1 KB)\n"
     ]
    },
    {
     "name": "stderr",
     "output_type": "stream",
     "text": [
      "WARNING:absl:Found untraced functions such as _jit_compiled_convolution_op, _jit_compiled_convolution_op, _jit_compiled_convolution_op, _update_step_xla while saving (showing 4 of 4). These functions will not be directly callable after loading.\n"
     ]
    },
    {
     "name": "stdout",
     "output_type": "stream",
     "text": [
      "INFO:tensorflow:Assets written to: /tmp/tmpm0uurblb/assets\n"
     ]
    },
    {
     "name": "stderr",
     "output_type": "stream",
     "text": [
      "INFO:tensorflow:Assets written to: /tmp/tmpm0uurblb/assets\n",
      "/home/pmedur/strojnoUcenje/env/lib/python3.10/site-packages/tensorflow/lite/python/convert.py:765: UserWarning: Statistics for quantized inputs were expected, but not specified; continuing anyway.\n",
      "  warnings.warn(\"Statistics for quantized inputs were expected, but not \"\n",
      "fully_quantize: 0, inference_type: 6, input_inference_type: INT8, output_inference_type: INT8\n"
     ]
    },
    {
     "name": "stdout",
     "output_type": "stream",
     "text": [
      "  Saved (int8):    tflite_models/finetuned/int8_quantization/model_9_fold_4_finetuned.tflite (5006.5 KB)\n",
      "  Fold 5:\n"
     ]
    },
    {
     "name": "stderr",
     "output_type": "stream",
     "text": [
      "WARNING:absl:Found untraced functions such as _jit_compiled_convolution_op, _jit_compiled_convolution_op, _jit_compiled_convolution_op, _update_step_xla while saving (showing 4 of 4). These functions will not be directly callable after loading.\n"
     ]
    },
    {
     "name": "stdout",
     "output_type": "stream",
     "text": [
      "INFO:tensorflow:Assets written to: /tmp/tmp04ugah1d/assets\n"
     ]
    },
    {
     "name": "stderr",
     "output_type": "stream",
     "text": [
      "INFO:tensorflow:Assets written to: /tmp/tmp04ugah1d/assets\n"
     ]
    },
    {
     "name": "stdout",
     "output_type": "stream",
     "text": [
      "  Saved (no quant): tflite_models/finetuned/no_quantization/model_9_fold_5_finetuned.tflite (19955.1 KB)\n"
     ]
    },
    {
     "name": "stderr",
     "output_type": "stream",
     "text": [
      "WARNING:absl:Found untraced functions such as _jit_compiled_convolution_op, _jit_compiled_convolution_op, _jit_compiled_convolution_op, _update_step_xla while saving (showing 4 of 4). These functions will not be directly callable after loading.\n"
     ]
    },
    {
     "name": "stdout",
     "output_type": "stream",
     "text": [
      "INFO:tensorflow:Assets written to: /tmp/tmpctiomzmb/assets\n"
     ]
    },
    {
     "name": "stderr",
     "output_type": "stream",
     "text": [
      "INFO:tensorflow:Assets written to: /tmp/tmpctiomzmb/assets\n",
      "/home/pmedur/strojnoUcenje/env/lib/python3.10/site-packages/tensorflow/lite/python/convert.py:765: UserWarning: Statistics for quantized inputs were expected, but not specified; continuing anyway.\n",
      "  warnings.warn(\"Statistics for quantized inputs were expected, but not \"\n",
      "fully_quantize: 0, inference_type: 6, input_inference_type: INT8, output_inference_type: INT8\n"
     ]
    },
    {
     "name": "stdout",
     "output_type": "stream",
     "text": [
      "  Saved (int8):    tflite_models/finetuned/int8_quantization/model_9_fold_5_finetuned.tflite (5006.5 KB)\n",
      "  Fold 6:\n"
     ]
    },
    {
     "name": "stderr",
     "output_type": "stream",
     "text": [
      "WARNING:absl:Found untraced functions such as _jit_compiled_convolution_op, _jit_compiled_convolution_op, _jit_compiled_convolution_op, _update_step_xla while saving (showing 4 of 4). These functions will not be directly callable after loading.\n"
     ]
    },
    {
     "name": "stdout",
     "output_type": "stream",
     "text": [
      "INFO:tensorflow:Assets written to: /tmp/tmpqbeds5e1/assets\n"
     ]
    },
    {
     "name": "stderr",
     "output_type": "stream",
     "text": [
      "INFO:tensorflow:Assets written to: /tmp/tmpqbeds5e1/assets\n"
     ]
    },
    {
     "name": "stdout",
     "output_type": "stream",
     "text": [
      "  Saved (no quant): tflite_models/finetuned/no_quantization/model_9_fold_6_finetuned.tflite (19955.1 KB)\n"
     ]
    },
    {
     "name": "stderr",
     "output_type": "stream",
     "text": [
      "WARNING:absl:Found untraced functions such as _jit_compiled_convolution_op, _jit_compiled_convolution_op, _jit_compiled_convolution_op, _update_step_xla while saving (showing 4 of 4). These functions will not be directly callable after loading.\n"
     ]
    },
    {
     "name": "stdout",
     "output_type": "stream",
     "text": [
      "INFO:tensorflow:Assets written to: /tmp/tmplxaspypp/assets\n"
     ]
    },
    {
     "name": "stderr",
     "output_type": "stream",
     "text": [
      "INFO:tensorflow:Assets written to: /tmp/tmplxaspypp/assets\n",
      "/home/pmedur/strojnoUcenje/env/lib/python3.10/site-packages/tensorflow/lite/python/convert.py:765: UserWarning: Statistics for quantized inputs were expected, but not specified; continuing anyway.\n",
      "  warnings.warn(\"Statistics for quantized inputs were expected, but not \"\n",
      "fully_quantize: 0, inference_type: 6, input_inference_type: INT8, output_inference_type: INT8\n"
     ]
    },
    {
     "name": "stdout",
     "output_type": "stream",
     "text": [
      "  Saved (int8):    tflite_models/finetuned/int8_quantization/model_9_fold_6_finetuned.tflite (5006.5 KB)\n",
      "  Fold 7:\n"
     ]
    },
    {
     "name": "stderr",
     "output_type": "stream",
     "text": [
      "WARNING:absl:Found untraced functions such as _jit_compiled_convolution_op, _jit_compiled_convolution_op, _jit_compiled_convolution_op, _update_step_xla while saving (showing 4 of 4). These functions will not be directly callable after loading.\n"
     ]
    },
    {
     "name": "stdout",
     "output_type": "stream",
     "text": [
      "INFO:tensorflow:Assets written to: /tmp/tmpbls666qy/assets\n"
     ]
    },
    {
     "name": "stderr",
     "output_type": "stream",
     "text": [
      "INFO:tensorflow:Assets written to: /tmp/tmpbls666qy/assets\n"
     ]
    },
    {
     "name": "stdout",
     "output_type": "stream",
     "text": [
      "  Saved (no quant): tflite_models/finetuned/no_quantization/model_9_fold_7_finetuned.tflite (19955.1 KB)\n"
     ]
    },
    {
     "name": "stderr",
     "output_type": "stream",
     "text": [
      "WARNING:absl:Found untraced functions such as _jit_compiled_convolution_op, _jit_compiled_convolution_op, _jit_compiled_convolution_op, _update_step_xla while saving (showing 4 of 4). These functions will not be directly callable after loading.\n"
     ]
    },
    {
     "name": "stdout",
     "output_type": "stream",
     "text": [
      "INFO:tensorflow:Assets written to: /tmp/tmppq6zxs9z/assets\n"
     ]
    },
    {
     "name": "stderr",
     "output_type": "stream",
     "text": [
      "INFO:tensorflow:Assets written to: /tmp/tmppq6zxs9z/assets\n",
      "/home/pmedur/strojnoUcenje/env/lib/python3.10/site-packages/tensorflow/lite/python/convert.py:765: UserWarning: Statistics for quantized inputs were expected, but not specified; continuing anyway.\n",
      "  warnings.warn(\"Statistics for quantized inputs were expected, but not \"\n",
      "fully_quantize: 0, inference_type: 6, input_inference_type: INT8, output_inference_type: INT8\n"
     ]
    },
    {
     "name": "stdout",
     "output_type": "stream",
     "text": [
      "  Saved (int8):    tflite_models/finetuned/int8_quantization/model_9_fold_7_finetuned.tflite (5006.5 KB)\n",
      "  Fold 8:\n"
     ]
    },
    {
     "name": "stderr",
     "output_type": "stream",
     "text": [
      "WARNING:absl:Found untraced functions such as _jit_compiled_convolution_op, _jit_compiled_convolution_op, _jit_compiled_convolution_op, _update_step_xla while saving (showing 4 of 4). These functions will not be directly callable after loading.\n"
     ]
    },
    {
     "name": "stdout",
     "output_type": "stream",
     "text": [
      "INFO:tensorflow:Assets written to: /tmp/tmp6flria29/assets\n"
     ]
    },
    {
     "name": "stderr",
     "output_type": "stream",
     "text": [
      "INFO:tensorflow:Assets written to: /tmp/tmp6flria29/assets\n"
     ]
    },
    {
     "name": "stdout",
     "output_type": "stream",
     "text": [
      "  Saved (no quant): tflite_models/finetuned/no_quantization/model_9_fold_8_finetuned.tflite (19955.1 KB)\n"
     ]
    },
    {
     "name": "stderr",
     "output_type": "stream",
     "text": [
      "WARNING:absl:Found untraced functions such as _jit_compiled_convolution_op, _jit_compiled_convolution_op, _jit_compiled_convolution_op, _update_step_xla while saving (showing 4 of 4). These functions will not be directly callable after loading.\n"
     ]
    },
    {
     "name": "stdout",
     "output_type": "stream",
     "text": [
      "INFO:tensorflow:Assets written to: /tmp/tmpye22rlbe/assets\n"
     ]
    },
    {
     "name": "stderr",
     "output_type": "stream",
     "text": [
      "INFO:tensorflow:Assets written to: /tmp/tmpye22rlbe/assets\n",
      "/home/pmedur/strojnoUcenje/env/lib/python3.10/site-packages/tensorflow/lite/python/convert.py:765: UserWarning: Statistics for quantized inputs were expected, but not specified; continuing anyway.\n",
      "  warnings.warn(\"Statistics for quantized inputs were expected, but not \"\n",
      "fully_quantize: 0, inference_type: 6, input_inference_type: INT8, output_inference_type: INT8\n"
     ]
    },
    {
     "name": "stdout",
     "output_type": "stream",
     "text": [
      "  Saved (int8):    tflite_models/finetuned/int8_quantization/model_9_fold_8_finetuned.tflite (5006.5 KB)\n",
      "  Fold 9:\n"
     ]
    },
    {
     "name": "stderr",
     "output_type": "stream",
     "text": [
      "WARNING:absl:Found untraced functions such as _jit_compiled_convolution_op, _jit_compiled_convolution_op, _jit_compiled_convolution_op, _update_step_xla while saving (showing 4 of 4). These functions will not be directly callable after loading.\n"
     ]
    },
    {
     "name": "stdout",
     "output_type": "stream",
     "text": [
      "INFO:tensorflow:Assets written to: /tmp/tmp7vecdxq3/assets\n"
     ]
    },
    {
     "name": "stderr",
     "output_type": "stream",
     "text": [
      "INFO:tensorflow:Assets written to: /tmp/tmp7vecdxq3/assets\n"
     ]
    },
    {
     "name": "stdout",
     "output_type": "stream",
     "text": [
      "  Saved (no quant): tflite_models/finetuned/no_quantization/model_9_fold_9_finetuned.tflite (19955.1 KB)\n"
     ]
    },
    {
     "name": "stderr",
     "output_type": "stream",
     "text": [
      "WARNING:absl:Found untraced functions such as _jit_compiled_convolution_op, _jit_compiled_convolution_op, _jit_compiled_convolution_op, _update_step_xla while saving (showing 4 of 4). These functions will not be directly callable after loading.\n"
     ]
    },
    {
     "name": "stdout",
     "output_type": "stream",
     "text": [
      "INFO:tensorflow:Assets written to: /tmp/tmp_tbdgj8e/assets\n"
     ]
    },
    {
     "name": "stderr",
     "output_type": "stream",
     "text": [
      "INFO:tensorflow:Assets written to: /tmp/tmp_tbdgj8e/assets\n",
      "/home/pmedur/strojnoUcenje/env/lib/python3.10/site-packages/tensorflow/lite/python/convert.py:765: UserWarning: Statistics for quantized inputs were expected, but not specified; continuing anyway.\n",
      "  warnings.warn(\"Statistics for quantized inputs were expected, but not \"\n",
      "fully_quantize: 0, inference_type: 6, input_inference_type: INT8, output_inference_type: INT8\n"
     ]
    },
    {
     "name": "stdout",
     "output_type": "stream",
     "text": [
      "  Saved (int8):    tflite_models/finetuned/int8_quantization/model_9_fold_9_finetuned.tflite (5006.5 KB)\n",
      "  Fold 10:\n"
     ]
    },
    {
     "name": "stderr",
     "output_type": "stream",
     "text": [
      "WARNING:absl:Found untraced functions such as _jit_compiled_convolution_op, _jit_compiled_convolution_op, _jit_compiled_convolution_op, _update_step_xla while saving (showing 4 of 4). These functions will not be directly callable after loading.\n"
     ]
    },
    {
     "name": "stdout",
     "output_type": "stream",
     "text": [
      "INFO:tensorflow:Assets written to: /tmp/tmpssuzmqma/assets\n"
     ]
    },
    {
     "name": "stderr",
     "output_type": "stream",
     "text": [
      "INFO:tensorflow:Assets written to: /tmp/tmpssuzmqma/assets\n"
     ]
    },
    {
     "name": "stdout",
     "output_type": "stream",
     "text": [
      "  Saved (no quant): tflite_models/finetuned/no_quantization/model_9_fold_10_finetuned.tflite (19955.1 KB)\n"
     ]
    },
    {
     "name": "stderr",
     "output_type": "stream",
     "text": [
      "WARNING:absl:Found untraced functions such as _jit_compiled_convolution_op, _jit_compiled_convolution_op, _jit_compiled_convolution_op, _update_step_xla while saving (showing 4 of 4). These functions will not be directly callable after loading.\n"
     ]
    },
    {
     "name": "stdout",
     "output_type": "stream",
     "text": [
      "INFO:tensorflow:Assets written to: /tmp/tmp7fo1riup/assets\n"
     ]
    },
    {
     "name": "stderr",
     "output_type": "stream",
     "text": [
      "INFO:tensorflow:Assets written to: /tmp/tmp7fo1riup/assets\n",
      "/home/pmedur/strojnoUcenje/env/lib/python3.10/site-packages/tensorflow/lite/python/convert.py:765: UserWarning: Statistics for quantized inputs were expected, but not specified; continuing anyway.\n",
      "  warnings.warn(\"Statistics for quantized inputs were expected, but not \"\n",
      "fully_quantize: 0, inference_type: 6, input_inference_type: INT8, output_inference_type: INT8\n"
     ]
    },
    {
     "name": "stdout",
     "output_type": "stream",
     "text": [
      "  Saved (int8):    tflite_models/finetuned/int8_quantization/model_9_fold_10_finetuned.tflite (5006.5 KB)\n",
      "\n",
      "model_10:\n",
      "  Fold 1:\n"
     ]
    },
    {
     "name": "stderr",
     "output_type": "stream",
     "text": [
      "WARNING:absl:Found untraced functions such as _jit_compiled_convolution_op, _jit_compiled_convolution_op, _jit_compiled_convolution_op, _update_step_xla while saving (showing 4 of 4). These functions will not be directly callable after loading.\n"
     ]
    },
    {
     "name": "stdout",
     "output_type": "stream",
     "text": [
      "INFO:tensorflow:Assets written to: /tmp/tmp2p6cff10/assets\n"
     ]
    },
    {
     "name": "stderr",
     "output_type": "stream",
     "text": [
      "INFO:tensorflow:Assets written to: /tmp/tmp2p6cff10/assets\n"
     ]
    },
    {
     "name": "stdout",
     "output_type": "stream",
     "text": [
      "  Saved (no quant): tflite_models/finetuned/no_quantization/model_10_fold_1_finetuned.tflite (79649.1 KB)\n"
     ]
    },
    {
     "name": "stderr",
     "output_type": "stream",
     "text": [
      "WARNING:absl:Found untraced functions such as _jit_compiled_convolution_op, _jit_compiled_convolution_op, _jit_compiled_convolution_op, _update_step_xla while saving (showing 4 of 4). These functions will not be directly callable after loading.\n"
     ]
    },
    {
     "name": "stdout",
     "output_type": "stream",
     "text": [
      "INFO:tensorflow:Assets written to: /tmp/tmpdzkblgv7/assets\n"
     ]
    },
    {
     "name": "stderr",
     "output_type": "stream",
     "text": [
      "INFO:tensorflow:Assets written to: /tmp/tmpdzkblgv7/assets\n",
      "/home/pmedur/strojnoUcenje/env/lib/python3.10/site-packages/tensorflow/lite/python/convert.py:765: UserWarning: Statistics for quantized inputs were expected, but not specified; continuing anyway.\n",
      "  warnings.warn(\"Statistics for quantized inputs were expected, but not \"\n",
      "fully_quantize: 0, inference_type: 6, input_inference_type: INT8, output_inference_type: INT8\n"
     ]
    },
    {
     "name": "stdout",
     "output_type": "stream",
     "text": [
      "  Saved (int8):    tflite_models/finetuned/int8_quantization/model_10_fold_1_finetuned.tflite (19943.3 KB)\n",
      "  Fold 2:\n"
     ]
    },
    {
     "name": "stderr",
     "output_type": "stream",
     "text": [
      "WARNING:absl:Found untraced functions such as _jit_compiled_convolution_op, _jit_compiled_convolution_op, _jit_compiled_convolution_op, _update_step_xla while saving (showing 4 of 4). These functions will not be directly callable after loading.\n"
     ]
    },
    {
     "name": "stdout",
     "output_type": "stream",
     "text": [
      "INFO:tensorflow:Assets written to: /tmp/tmpyshax4uc/assets\n"
     ]
    },
    {
     "name": "stderr",
     "output_type": "stream",
     "text": [
      "INFO:tensorflow:Assets written to: /tmp/tmpyshax4uc/assets\n"
     ]
    },
    {
     "name": "stdout",
     "output_type": "stream",
     "text": [
      "  Saved (no quant): tflite_models/finetuned/no_quantization/model_10_fold_2_finetuned.tflite (79649.1 KB)\n"
     ]
    },
    {
     "name": "stderr",
     "output_type": "stream",
     "text": [
      "WARNING:absl:Found untraced functions such as _jit_compiled_convolution_op, _jit_compiled_convolution_op, _jit_compiled_convolution_op, _update_step_xla while saving (showing 4 of 4). These functions will not be directly callable after loading.\n"
     ]
    },
    {
     "name": "stdout",
     "output_type": "stream",
     "text": [
      "INFO:tensorflow:Assets written to: /tmp/tmpk1caka_q/assets\n"
     ]
    },
    {
     "name": "stderr",
     "output_type": "stream",
     "text": [
      "INFO:tensorflow:Assets written to: /tmp/tmpk1caka_q/assets\n",
      "/home/pmedur/strojnoUcenje/env/lib/python3.10/site-packages/tensorflow/lite/python/convert.py:765: UserWarning: Statistics for quantized inputs were expected, but not specified; continuing anyway.\n",
      "  warnings.warn(\"Statistics for quantized inputs were expected, but not \"\n",
      "fully_quantize: 0, inference_type: 6, input_inference_type: INT8, output_inference_type: INT8\n"
     ]
    },
    {
     "name": "stdout",
     "output_type": "stream",
     "text": [
      "  Saved (int8):    tflite_models/finetuned/int8_quantization/model_10_fold_2_finetuned.tflite (19943.3 KB)\n",
      "  Fold 3:\n"
     ]
    },
    {
     "name": "stderr",
     "output_type": "stream",
     "text": [
      "WARNING:absl:Found untraced functions such as _jit_compiled_convolution_op, _jit_compiled_convolution_op, _jit_compiled_convolution_op, _update_step_xla while saving (showing 4 of 4). These functions will not be directly callable after loading.\n"
     ]
    },
    {
     "name": "stdout",
     "output_type": "stream",
     "text": [
      "INFO:tensorflow:Assets written to: /tmp/tmp3f0w0dtl/assets\n"
     ]
    },
    {
     "name": "stderr",
     "output_type": "stream",
     "text": [
      "INFO:tensorflow:Assets written to: /tmp/tmp3f0w0dtl/assets\n"
     ]
    },
    {
     "name": "stdout",
     "output_type": "stream",
     "text": [
      "  Saved (no quant): tflite_models/finetuned/no_quantization/model_10_fold_3_finetuned.tflite (79649.1 KB)\n"
     ]
    },
    {
     "name": "stderr",
     "output_type": "stream",
     "text": [
      "WARNING:absl:Found untraced functions such as _jit_compiled_convolution_op, _jit_compiled_convolution_op, _jit_compiled_convolution_op, _update_step_xla while saving (showing 4 of 4). These functions will not be directly callable after loading.\n"
     ]
    },
    {
     "name": "stdout",
     "output_type": "stream",
     "text": [
      "INFO:tensorflow:Assets written to: /tmp/tmpx6mjufkd/assets\n"
     ]
    },
    {
     "name": "stderr",
     "output_type": "stream",
     "text": [
      "INFO:tensorflow:Assets written to: /tmp/tmpx6mjufkd/assets\n",
      "/home/pmedur/strojnoUcenje/env/lib/python3.10/site-packages/tensorflow/lite/python/convert.py:765: UserWarning: Statistics for quantized inputs were expected, but not specified; continuing anyway.\n",
      "  warnings.warn(\"Statistics for quantized inputs were expected, but not \"\n",
      "fully_quantize: 0, inference_type: 6, input_inference_type: INT8, output_inference_type: INT8\n"
     ]
    },
    {
     "name": "stdout",
     "output_type": "stream",
     "text": [
      "  Saved (int8):    tflite_models/finetuned/int8_quantization/model_10_fold_3_finetuned.tflite (19943.3 KB)\n",
      "  Fold 4:\n"
     ]
    },
    {
     "name": "stderr",
     "output_type": "stream",
     "text": [
      "WARNING:absl:Found untraced functions such as _jit_compiled_convolution_op, _jit_compiled_convolution_op, _jit_compiled_convolution_op, _update_step_xla while saving (showing 4 of 4). These functions will not be directly callable after loading.\n"
     ]
    },
    {
     "name": "stdout",
     "output_type": "stream",
     "text": [
      "INFO:tensorflow:Assets written to: /tmp/tmp6dr0qtgh/assets\n"
     ]
    },
    {
     "name": "stderr",
     "output_type": "stream",
     "text": [
      "INFO:tensorflow:Assets written to: /tmp/tmp6dr0qtgh/assets\n"
     ]
    },
    {
     "name": "stdout",
     "output_type": "stream",
     "text": [
      "  Saved (no quant): tflite_models/finetuned/no_quantization/model_10_fold_4_finetuned.tflite (79649.1 KB)\n"
     ]
    },
    {
     "name": "stderr",
     "output_type": "stream",
     "text": [
      "WARNING:absl:Found untraced functions such as _jit_compiled_convolution_op, _jit_compiled_convolution_op, _jit_compiled_convolution_op, _update_step_xla while saving (showing 4 of 4). These functions will not be directly callable after loading.\n"
     ]
    },
    {
     "name": "stdout",
     "output_type": "stream",
     "text": [
      "INFO:tensorflow:Assets written to: /tmp/tmpsc96fi7q/assets\n"
     ]
    },
    {
     "name": "stderr",
     "output_type": "stream",
     "text": [
      "INFO:tensorflow:Assets written to: /tmp/tmpsc96fi7q/assets\n",
      "/home/pmedur/strojnoUcenje/env/lib/python3.10/site-packages/tensorflow/lite/python/convert.py:765: UserWarning: Statistics for quantized inputs were expected, but not specified; continuing anyway.\n",
      "  warnings.warn(\"Statistics for quantized inputs were expected, but not \"\n",
      "fully_quantize: 0, inference_type: 6, input_inference_type: INT8, output_inference_type: INT8\n"
     ]
    },
    {
     "name": "stdout",
     "output_type": "stream",
     "text": [
      "  Saved (int8):    tflite_models/finetuned/int8_quantization/model_10_fold_4_finetuned.tflite (19943.3 KB)\n",
      "  Fold 5:\n"
     ]
    },
    {
     "name": "stderr",
     "output_type": "stream",
     "text": [
      "WARNING:absl:Found untraced functions such as _jit_compiled_convolution_op, _jit_compiled_convolution_op, _jit_compiled_convolution_op, _update_step_xla while saving (showing 4 of 4). These functions will not be directly callable after loading.\n"
     ]
    },
    {
     "name": "stdout",
     "output_type": "stream",
     "text": [
      "INFO:tensorflow:Assets written to: /tmp/tmpmx6pj6tr/assets\n"
     ]
    },
    {
     "name": "stderr",
     "output_type": "stream",
     "text": [
      "INFO:tensorflow:Assets written to: /tmp/tmpmx6pj6tr/assets\n"
     ]
    },
    {
     "name": "stdout",
     "output_type": "stream",
     "text": [
      "  Saved (no quant): tflite_models/finetuned/no_quantization/model_10_fold_5_finetuned.tflite (79649.1 KB)\n"
     ]
    },
    {
     "name": "stderr",
     "output_type": "stream",
     "text": [
      "WARNING:absl:Found untraced functions such as _jit_compiled_convolution_op, _jit_compiled_convolution_op, _jit_compiled_convolution_op, _update_step_xla while saving (showing 4 of 4). These functions will not be directly callable after loading.\n"
     ]
    },
    {
     "name": "stdout",
     "output_type": "stream",
     "text": [
      "INFO:tensorflow:Assets written to: /tmp/tmpx_1iefv8/assets\n"
     ]
    },
    {
     "name": "stderr",
     "output_type": "stream",
     "text": [
      "INFO:tensorflow:Assets written to: /tmp/tmpx_1iefv8/assets\n",
      "/home/pmedur/strojnoUcenje/env/lib/python3.10/site-packages/tensorflow/lite/python/convert.py:765: UserWarning: Statistics for quantized inputs were expected, but not specified; continuing anyway.\n",
      "  warnings.warn(\"Statistics for quantized inputs were expected, but not \"\n",
      "fully_quantize: 0, inference_type: 6, input_inference_type: INT8, output_inference_type: INT8\n"
     ]
    },
    {
     "name": "stdout",
     "output_type": "stream",
     "text": [
      "  Saved (int8):    tflite_models/finetuned/int8_quantization/model_10_fold_5_finetuned.tflite (19943.3 KB)\n",
      "  Fold 6:\n"
     ]
    },
    {
     "name": "stderr",
     "output_type": "stream",
     "text": [
      "WARNING:absl:Found untraced functions such as _jit_compiled_convolution_op, _jit_compiled_convolution_op, _jit_compiled_convolution_op, _update_step_xla while saving (showing 4 of 4). These functions will not be directly callable after loading.\n"
     ]
    },
    {
     "name": "stdout",
     "output_type": "stream",
     "text": [
      "INFO:tensorflow:Assets written to: /tmp/tmpd_czjdn9/assets\n"
     ]
    },
    {
     "name": "stderr",
     "output_type": "stream",
     "text": [
      "INFO:tensorflow:Assets written to: /tmp/tmpd_czjdn9/assets\n"
     ]
    },
    {
     "name": "stdout",
     "output_type": "stream",
     "text": [
      "  Saved (no quant): tflite_models/finetuned/no_quantization/model_10_fold_6_finetuned.tflite (79649.1 KB)\n"
     ]
    },
    {
     "name": "stderr",
     "output_type": "stream",
     "text": [
      "WARNING:absl:Found untraced functions such as _jit_compiled_convolution_op, _jit_compiled_convolution_op, _jit_compiled_convolution_op, _update_step_xla while saving (showing 4 of 4). These functions will not be directly callable after loading.\n"
     ]
    },
    {
     "name": "stdout",
     "output_type": "stream",
     "text": [
      "INFO:tensorflow:Assets written to: /tmp/tmpd8zf3c3c/assets\n"
     ]
    },
    {
     "name": "stderr",
     "output_type": "stream",
     "text": [
      "INFO:tensorflow:Assets written to: /tmp/tmpd8zf3c3c/assets\n",
      "/home/pmedur/strojnoUcenje/env/lib/python3.10/site-packages/tensorflow/lite/python/convert.py:765: UserWarning: Statistics for quantized inputs were expected, but not specified; continuing anyway.\n",
      "  warnings.warn(\"Statistics for quantized inputs were expected, but not \"\n",
      "fully_quantize: 0, inference_type: 6, input_inference_type: INT8, output_inference_type: INT8\n"
     ]
    },
    {
     "name": "stdout",
     "output_type": "stream",
     "text": [
      "  Saved (int8):    tflite_models/finetuned/int8_quantization/model_10_fold_6_finetuned.tflite (19943.3 KB)\n",
      "  Fold 7:\n"
     ]
    },
    {
     "name": "stderr",
     "output_type": "stream",
     "text": [
      "WARNING:absl:Found untraced functions such as _jit_compiled_convolution_op, _jit_compiled_convolution_op, _jit_compiled_convolution_op, _update_step_xla while saving (showing 4 of 4). These functions will not be directly callable after loading.\n"
     ]
    },
    {
     "name": "stdout",
     "output_type": "stream",
     "text": [
      "INFO:tensorflow:Assets written to: /tmp/tmp73z7zk73/assets\n"
     ]
    },
    {
     "name": "stderr",
     "output_type": "stream",
     "text": [
      "INFO:tensorflow:Assets written to: /tmp/tmp73z7zk73/assets\n"
     ]
    },
    {
     "name": "stdout",
     "output_type": "stream",
     "text": [
      "  Saved (no quant): tflite_models/finetuned/no_quantization/model_10_fold_7_finetuned.tflite (79649.1 KB)\n"
     ]
    },
    {
     "name": "stderr",
     "output_type": "stream",
     "text": [
      "WARNING:absl:Found untraced functions such as _jit_compiled_convolution_op, _jit_compiled_convolution_op, _jit_compiled_convolution_op, _update_step_xla while saving (showing 4 of 4). These functions will not be directly callable after loading.\n"
     ]
    },
    {
     "name": "stdout",
     "output_type": "stream",
     "text": [
      "INFO:tensorflow:Assets written to: /tmp/tmpuaw1whp4/assets\n"
     ]
    },
    {
     "name": "stderr",
     "output_type": "stream",
     "text": [
      "INFO:tensorflow:Assets written to: /tmp/tmpuaw1whp4/assets\n",
      "/home/pmedur/strojnoUcenje/env/lib/python3.10/site-packages/tensorflow/lite/python/convert.py:765: UserWarning: Statistics for quantized inputs were expected, but not specified; continuing anyway.\n",
      "  warnings.warn(\"Statistics for quantized inputs were expected, but not \"\n",
      "fully_quantize: 0, inference_type: 6, input_inference_type: INT8, output_inference_type: INT8\n"
     ]
    },
    {
     "name": "stdout",
     "output_type": "stream",
     "text": [
      "  Saved (int8):    tflite_models/finetuned/int8_quantization/model_10_fold_7_finetuned.tflite (19943.3 KB)\n",
      "  Fold 8:\n"
     ]
    },
    {
     "name": "stderr",
     "output_type": "stream",
     "text": [
      "WARNING:absl:Found untraced functions such as _jit_compiled_convolution_op, _jit_compiled_convolution_op, _jit_compiled_convolution_op, _update_step_xla while saving (showing 4 of 4). These functions will not be directly callable after loading.\n"
     ]
    },
    {
     "name": "stdout",
     "output_type": "stream",
     "text": [
      "INFO:tensorflow:Assets written to: /tmp/tmpk65vql60/assets\n"
     ]
    },
    {
     "name": "stderr",
     "output_type": "stream",
     "text": [
      "INFO:tensorflow:Assets written to: /tmp/tmpk65vql60/assets\n"
     ]
    },
    {
     "name": "stdout",
     "output_type": "stream",
     "text": [
      "  Saved (no quant): tflite_models/finetuned/no_quantization/model_10_fold_8_finetuned.tflite (79649.1 KB)\n"
     ]
    },
    {
     "name": "stderr",
     "output_type": "stream",
     "text": [
      "WARNING:absl:Found untraced functions such as _jit_compiled_convolution_op, _jit_compiled_convolution_op, _jit_compiled_convolution_op, _update_step_xla while saving (showing 4 of 4). These functions will not be directly callable after loading.\n"
     ]
    },
    {
     "name": "stdout",
     "output_type": "stream",
     "text": [
      "INFO:tensorflow:Assets written to: /tmp/tmp4rstrd8b/assets\n"
     ]
    },
    {
     "name": "stderr",
     "output_type": "stream",
     "text": [
      "INFO:tensorflow:Assets written to: /tmp/tmp4rstrd8b/assets\n",
      "/home/pmedur/strojnoUcenje/env/lib/python3.10/site-packages/tensorflow/lite/python/convert.py:765: UserWarning: Statistics for quantized inputs were expected, but not specified; continuing anyway.\n",
      "  warnings.warn(\"Statistics for quantized inputs were expected, but not \"\n",
      "fully_quantize: 0, inference_type: 6, input_inference_type: INT8, output_inference_type: INT8\n"
     ]
    },
    {
     "name": "stdout",
     "output_type": "stream",
     "text": [
      "  Saved (int8):    tflite_models/finetuned/int8_quantization/model_10_fold_8_finetuned.tflite (19943.3 KB)\n",
      "  Fold 9:\n"
     ]
    },
    {
     "name": "stderr",
     "output_type": "stream",
     "text": [
      "WARNING:absl:Found untraced functions such as _jit_compiled_convolution_op, _jit_compiled_convolution_op, _jit_compiled_convolution_op, _update_step_xla while saving (showing 4 of 4). These functions will not be directly callable after loading.\n"
     ]
    },
    {
     "name": "stdout",
     "output_type": "stream",
     "text": [
      "INFO:tensorflow:Assets written to: /tmp/tmpfltxatf6/assets\n"
     ]
    },
    {
     "name": "stderr",
     "output_type": "stream",
     "text": [
      "INFO:tensorflow:Assets written to: /tmp/tmpfltxatf6/assets\n"
     ]
    },
    {
     "name": "stdout",
     "output_type": "stream",
     "text": [
      "  Saved (no quant): tflite_models/finetuned/no_quantization/model_10_fold_9_finetuned.tflite (79649.1 KB)\n"
     ]
    },
    {
     "name": "stderr",
     "output_type": "stream",
     "text": [
      "WARNING:absl:Found untraced functions such as _jit_compiled_convolution_op, _jit_compiled_convolution_op, _jit_compiled_convolution_op, _update_step_xla while saving (showing 4 of 4). These functions will not be directly callable after loading.\n"
     ]
    },
    {
     "name": "stdout",
     "output_type": "stream",
     "text": [
      "INFO:tensorflow:Assets written to: /tmp/tmp4bocptmc/assets\n"
     ]
    },
    {
     "name": "stderr",
     "output_type": "stream",
     "text": [
      "INFO:tensorflow:Assets written to: /tmp/tmp4bocptmc/assets\n",
      "/home/pmedur/strojnoUcenje/env/lib/python3.10/site-packages/tensorflow/lite/python/convert.py:765: UserWarning: Statistics for quantized inputs were expected, but not specified; continuing anyway.\n",
      "  warnings.warn(\"Statistics for quantized inputs were expected, but not \"\n",
      "fully_quantize: 0, inference_type: 6, input_inference_type: INT8, output_inference_type: INT8\n"
     ]
    },
    {
     "name": "stdout",
     "output_type": "stream",
     "text": [
      "  Saved (int8):    tflite_models/finetuned/int8_quantization/model_10_fold_9_finetuned.tflite (19943.3 KB)\n",
      "  Fold 10:\n"
     ]
    },
    {
     "name": "stderr",
     "output_type": "stream",
     "text": [
      "WARNING:absl:Found untraced functions such as _jit_compiled_convolution_op, _jit_compiled_convolution_op, _jit_compiled_convolution_op, _update_step_xla while saving (showing 4 of 4). These functions will not be directly callable after loading.\n"
     ]
    },
    {
     "name": "stdout",
     "output_type": "stream",
     "text": [
      "INFO:tensorflow:Assets written to: /tmp/tmphv6zpxnz/assets\n"
     ]
    },
    {
     "name": "stderr",
     "output_type": "stream",
     "text": [
      "INFO:tensorflow:Assets written to: /tmp/tmphv6zpxnz/assets\n"
     ]
    },
    {
     "name": "stdout",
     "output_type": "stream",
     "text": [
      "  Saved (no quant): tflite_models/finetuned/no_quantization/model_10_fold_10_finetuned.tflite (79649.1 KB)\n"
     ]
    },
    {
     "name": "stderr",
     "output_type": "stream",
     "text": [
      "WARNING:absl:Found untraced functions such as _jit_compiled_convolution_op, _jit_compiled_convolution_op, _jit_compiled_convolution_op, _update_step_xla while saving (showing 4 of 4). These functions will not be directly callable after loading.\n"
     ]
    },
    {
     "name": "stdout",
     "output_type": "stream",
     "text": [
      "INFO:tensorflow:Assets written to: /tmp/tmpp0yzp5h_/assets\n"
     ]
    },
    {
     "name": "stderr",
     "output_type": "stream",
     "text": [
      "INFO:tensorflow:Assets written to: /tmp/tmpp0yzp5h_/assets\n",
      "/home/pmedur/strojnoUcenje/env/lib/python3.10/site-packages/tensorflow/lite/python/convert.py:765: UserWarning: Statistics for quantized inputs were expected, but not specified; continuing anyway.\n",
      "  warnings.warn(\"Statistics for quantized inputs were expected, but not \"\n"
     ]
    },
    {
     "name": "stdout",
     "output_type": "stream",
     "text": [
      "  Saved (int8):    tflite_models/finetuned/int8_quantization/model_10_fold_10_finetuned.tflite (19943.3 KB)\n",
      "\n",
      "================================================================================\n",
      "CONVERSION COMPLETE: 100/100 models converted\n",
      "================================================================================\n",
      "\n"
     ]
    },
    {
     "name": "stderr",
     "output_type": "stream",
     "text": [
      "fully_quantize: 0, inference_type: 6, input_inference_type: INT8, output_inference_type: INT8\n"
     ]
    },
    {
     "data": {
      "text/plain": [
       "100"
      ]
     },
     "execution_count": 3,
     "metadata": {},
     "output_type": "execute_result"
    }
   ],
   "source": [
    "convert_all_models(\n",
    "    models_dir='finetuned_models',\n",
    "    folds_dir='new_Data_particions',\n",
    "    output_base_dir='tflite_models/finetuned',\n",
    "    num_models=10,\n",
    "    num_folds=10,\n",
    "    is_finetuned=True\n",
    ")"
   ]
  },
  {
   "cell_type": "code",
   "execution_count": 2,
   "id": "faf8dea5-7c3c-48ca-9ab2-0f2d8d894fd7",
   "metadata": {
    "scrolled": true
   },
   "outputs": [
    {
     "name": "stdout",
     "output_type": "stream",
     "text": [
      "\n",
      "================================================================================\n",
      "EVALUATING NORMAL TFLITE MODELS (NO_QUANT) on CPU\n",
      "================================================================================\n",
      "\n",
      "\n",
      "model_1:\n",
      "  Fold 1... GPU monitoring initialized: 1 device(s) found\n",
      "CPU energy monitoring (RAPL) initialized: 1 domain(s) found\n",
      "  - package-0 (intel-rapl:0)\n",
      "Resource monitoring started\n"
     ]
    },
    {
     "name": "stderr",
     "output_type": "stream",
     "text": [
      "INFO: Created TensorFlow Lite XNNPACK delegate for CPU.\n"
     ]
    },
    {
     "name": "stdout",
     "output_type": "stream",
     "text": [
      "Resource monitoring stopped\n",
      "[CPU] Acc: 24.36%, Energy: 0.009769Wh, Size: 158.9KB\n",
      "  Fold 2... GPU monitoring initialized: 1 device(s) found\n",
      "CPU energy monitoring (RAPL) initialized: 1 domain(s) found\n",
      "  - package-0 (intel-rapl:0)\n",
      "Resource monitoring started\n",
      "Resource monitoring stopped\n",
      "[CPU] Acc: 49.69%, Energy: 0.008585Wh, Size: 158.9KB\n",
      "  Fold 3... GPU monitoring initialized: 1 device(s) found\n",
      "CPU energy monitoring (RAPL) initialized: 1 domain(s) found\n",
      "  - package-0 (intel-rapl:0)\n",
      "Resource monitoring started\n",
      "Resource monitoring stopped\n",
      "[CPU] Acc: 41.86%, Energy: 0.007903Wh, Size: 158.9KB\n",
      "  Fold 4... GPU monitoring initialized: 1 device(s) found\n",
      "CPU energy monitoring (RAPL) initialized: 1 domain(s) found\n",
      "  - package-0 (intel-rapl:0)\n",
      "Resource monitoring started\n",
      "Resource monitoring stopped\n",
      "[CPU] Acc: 19.06%, Energy: 0.006432Wh, Size: 158.9KB\n",
      "  Fold 5... GPU monitoring initialized: 1 device(s) found\n",
      "CPU energy monitoring (RAPL) initialized: 1 domain(s) found\n",
      "  - package-0 (intel-rapl:0)\n",
      "Resource monitoring started\n",
      "Resource monitoring stopped\n",
      "[CPU] Acc: 18.49%, Energy: 0.006500Wh, Size: 158.9KB\n",
      "  Fold 6... GPU monitoring initialized: 1 device(s) found\n",
      "CPU energy monitoring (RAPL) initialized: 1 domain(s) found\n",
      "  - package-0 (intel-rapl:0)\n",
      "Resource monitoring started\n",
      "Resource monitoring stopped\n",
      "[CPU] Acc: 38.85%, Energy: 0.007362Wh, Size: 158.9KB\n",
      "  Fold 7... GPU monitoring initialized: 1 device(s) found\n",
      "CPU energy monitoring (RAPL) initialized: 1 domain(s) found\n",
      "  - package-0 (intel-rapl:0)\n",
      "Resource monitoring started\n",
      "Resource monitoring stopped\n",
      "[CPU] Acc: 42.86%, Energy: 0.006141Wh, Size: 158.9KB\n",
      "  Fold 8... GPU monitoring initialized: 1 device(s) found\n",
      "CPU energy monitoring (RAPL) initialized: 1 domain(s) found\n",
      "  - package-0 (intel-rapl:0)\n",
      "Resource monitoring started\n",
      "Resource monitoring stopped\n",
      "[CPU] Acc: 45.43%, Energy: 0.006094Wh, Size: 158.9KB\n",
      "  Fold 9... GPU monitoring initialized: 1 device(s) found\n",
      "CPU energy monitoring (RAPL) initialized: 1 domain(s) found\n",
      "  - package-0 (intel-rapl:0)\n",
      "Resource monitoring started\n",
      "Resource monitoring stopped\n",
      "[CPU] Acc: 43.16%, Energy: 0.006160Wh, Size: 158.9KB\n",
      "  Fold 10... GPU monitoring initialized: 1 device(s) found\n",
      "CPU energy monitoring (RAPL) initialized: 1 domain(s) found\n",
      "  - package-0 (intel-rapl:0)\n",
      "Resource monitoring started\n",
      "Resource monitoring stopped\n",
      "[CPU] Acc: 44.76%, Energy: 0.006140Wh, Size: 158.9KB\n",
      "\n",
      "model_2:\n",
      "  Fold 1... GPU monitoring initialized: 1 device(s) found\n",
      "CPU energy monitoring (RAPL) initialized: 1 domain(s) found\n",
      "  - package-0 (intel-rapl:0)\n",
      "Resource monitoring started\n",
      "Resource monitoring stopped\n",
      "[CPU] Acc: 64.21%, Energy: 0.007632Wh, Size: 613.8KB\n",
      "  Fold 2... GPU monitoring initialized: 1 device(s) found\n",
      "CPU energy monitoring (RAPL) initialized: 1 domain(s) found\n",
      "  - package-0 (intel-rapl:0)\n",
      "Resource monitoring started\n",
      "Resource monitoring stopped\n",
      "[CPU] Acc: 53.64%, Energy: 0.007620Wh, Size: 613.8KB\n",
      "  Fold 3... GPU monitoring initialized: 1 device(s) found\n",
      "CPU energy monitoring (RAPL) initialized: 1 domain(s) found\n",
      "  - package-0 (intel-rapl:0)\n",
      "Resource monitoring started\n",
      "Resource monitoring stopped\n",
      "[CPU] Acc: 54.15%, Energy: 0.008748Wh, Size: 613.8KB\n",
      "  Fold 4... GPU monitoring initialized: 1 device(s) found\n",
      "CPU energy monitoring (RAPL) initialized: 1 domain(s) found\n",
      "  - package-0 (intel-rapl:0)\n",
      "Resource monitoring started\n",
      "Resource monitoring stopped\n",
      "[CPU] Acc: 41.75%, Energy: 0.007581Wh, Size: 613.8KB\n",
      "  Fold 5... GPU monitoring initialized: 1 device(s) found\n",
      "CPU energy monitoring (RAPL) initialized: 1 domain(s) found\n",
      "  - package-0 (intel-rapl:0)\n",
      "Resource monitoring started\n",
      "Resource monitoring stopped\n",
      "[CPU] Acc: 53.87%, Energy: 0.008502Wh, Size: 613.8KB\n",
      "  Fold 6... GPU monitoring initialized: 1 device(s) found\n",
      "CPU energy monitoring (RAPL) initialized: 1 domain(s) found\n",
      "  - package-0 (intel-rapl:0)\n",
      "Resource monitoring started\n",
      "Resource monitoring stopped\n",
      "[CPU] Acc: 60.90%, Energy: 0.010098Wh, Size: 613.8KB\n",
      "  Fold 7... GPU monitoring initialized: 1 device(s) found\n",
      "CPU energy monitoring (RAPL) initialized: 1 domain(s) found\n",
      "  - package-0 (intel-rapl:0)\n",
      "Resource monitoring started\n",
      "Resource monitoring stopped\n",
      "[CPU] Acc: 47.86%, Energy: 0.008991Wh, Size: 613.8KB\n",
      "  Fold 8... GPU monitoring initialized: 1 device(s) found\n",
      "CPU energy monitoring (RAPL) initialized: 1 domain(s) found\n",
      "  - package-0 (intel-rapl:0)\n",
      "Resource monitoring started\n",
      "Resource monitoring stopped\n",
      "[CPU] Acc: 62.41%, Energy: 0.008424Wh, Size: 613.8KB\n",
      "  Fold 9... GPU monitoring initialized: 1 device(s) found\n",
      "CPU energy monitoring (RAPL) initialized: 1 domain(s) found\n",
      "  - package-0 (intel-rapl:0)\n",
      "Resource monitoring started\n",
      "Resource monitoring stopped\n",
      "[CPU] Acc: 60.60%, Energy: 0.009933Wh, Size: 613.8KB\n",
      "  Fold 10... GPU monitoring initialized: 1 device(s) found\n",
      "CPU energy monitoring (RAPL) initialized: 1 domain(s) found\n",
      "  - package-0 (intel-rapl:0)\n",
      "Resource monitoring started\n",
      "Resource monitoring stopped\n",
      "[CPU] Acc: 59.24%, Energy: 0.010468Wh, Size: 613.8KB\n",
      "\n",
      "model_3:\n",
      "  Fold 1... GPU monitoring initialized: 1 device(s) found\n",
      "CPU energy monitoring (RAPL) initialized: 1 domain(s) found\n",
      "  - package-0 (intel-rapl:0)\n",
      "Resource monitoring started\n",
      "Resource monitoring stopped\n",
      "[CPU] Acc: 80.40%, Energy: 0.017015Wh, Size: 617.8KB\n",
      "  Fold 2... GPU monitoring initialized: 1 device(s) found\n",
      "CPU energy monitoring (RAPL) initialized: 1 domain(s) found\n",
      "  - package-0 (intel-rapl:0)\n",
      "Resource monitoring started\n",
      "Resource monitoring stopped\n",
      "[CPU] Acc: 81.01%, Energy: 0.016928Wh, Size: 617.8KB\n",
      "  Fold 3... GPU monitoring initialized: 1 device(s) found\n",
      "CPU energy monitoring (RAPL) initialized: 1 domain(s) found\n",
      "  - package-0 (intel-rapl:0)\n",
      "Resource monitoring started\n",
      "Resource monitoring stopped\n",
      "[CPU] Acc: 81.89%, Energy: 0.017694Wh, Size: 617.8KB\n",
      "  Fold 4... GPU monitoring initialized: 1 device(s) found\n",
      "CPU energy monitoring (RAPL) initialized: 1 domain(s) found\n",
      "  - package-0 (intel-rapl:0)\n",
      "Resource monitoring started\n",
      "Resource monitoring stopped\n",
      "[CPU] Acc: 80.61%, Energy: 0.014906Wh, Size: 617.8KB\n",
      "  Fold 5... GPU monitoring initialized: 1 device(s) found\n",
      "CPU energy monitoring (RAPL) initialized: 1 domain(s) found\n",
      "  - package-0 (intel-rapl:0)\n",
      "Resource monitoring started\n",
      "Resource monitoring stopped\n",
      "[CPU] Acc: 80.42%, Energy: 0.013399Wh, Size: 617.8KB\n",
      "  Fold 6... GPU monitoring initialized: 1 device(s) found\n",
      "CPU energy monitoring (RAPL) initialized: 1 domain(s) found\n",
      "  - package-0 (intel-rapl:0)\n",
      "Resource monitoring started\n",
      "Resource monitoring stopped\n",
      "[CPU] Acc: 82.04%, Energy: 0.012783Wh, Size: 617.8KB\n",
      "  Fold 7... GPU monitoring initialized: 1 device(s) found\n",
      "CPU energy monitoring (RAPL) initialized: 1 domain(s) found\n",
      "  - package-0 (intel-rapl:0)\n",
      "Resource monitoring started\n",
      "Resource monitoring stopped\n",
      "[CPU] Acc: 81.34%, Energy: 0.012084Wh, Size: 617.8KB\n",
      "  Fold 8... GPU monitoring initialized: 1 device(s) found\n",
      "CPU energy monitoring (RAPL) initialized: 1 domain(s) found\n",
      "  - package-0 (intel-rapl:0)\n",
      "Resource monitoring started\n",
      "Resource monitoring stopped\n",
      "[CPU] Acc: 79.83%, Energy: 0.011556Wh, Size: 617.8KB\n",
      "  Fold 9... GPU monitoring initialized: 1 device(s) found\n",
      "CPU energy monitoring (RAPL) initialized: 1 domain(s) found\n",
      "  - package-0 (intel-rapl:0)\n",
      "Resource monitoring started\n",
      "Resource monitoring stopped\n",
      "[CPU] Acc: 81.94%, Energy: 0.011605Wh, Size: 617.8KB\n",
      "  Fold 10... GPU monitoring initialized: 1 device(s) found\n",
      "CPU energy monitoring (RAPL) initialized: 1 domain(s) found\n",
      "  - package-0 (intel-rapl:0)\n",
      "Resource monitoring started\n",
      "Resource monitoring stopped\n",
      "[CPU] Acc: 81.54%, Energy: 0.013455Wh, Size: 617.8KB\n",
      "\n",
      "model_4:\n",
      "  Fold 1... GPU monitoring initialized: 1 device(s) found\n",
      "CPU energy monitoring (RAPL) initialized: 1 domain(s) found\n",
      "  - package-0 (intel-rapl:0)\n",
      "Resource monitoring started\n",
      "Resource monitoring stopped\n",
      "[CPU] Acc: 63.65%, Energy: 0.011402Wh, Size: 2423.7KB\n",
      "  Fold 2... GPU monitoring initialized: 1 device(s) found\n",
      "CPU energy monitoring (RAPL) initialized: 1 domain(s) found\n",
      "  - package-0 (intel-rapl:0)\n",
      "Resource monitoring started\n",
      "Resource monitoring stopped\n",
      "[CPU] Acc: 63.33%, Energy: 0.011388Wh, Size: 2423.7KB\n",
      "  Fold 3... GPU monitoring initialized: 1 device(s) found\n",
      "CPU energy monitoring (RAPL) initialized: 1 domain(s) found\n",
      "  - package-0 (intel-rapl:0)\n",
      "Resource monitoring started\n",
      "Resource monitoring stopped\n",
      "[CPU] Acc: 64.52%, Energy: 0.012135Wh, Size: 2423.7KB\n",
      "  Fold 4... GPU monitoring initialized: 1 device(s) found\n",
      "CPU energy monitoring (RAPL) initialized: 1 domain(s) found\n",
      "  - package-0 (intel-rapl:0)\n",
      "Resource monitoring started\n",
      "Resource monitoring stopped\n",
      "[CPU] Acc: 66.86%, Energy: 0.012424Wh, Size: 2423.7KB\n",
      "  Fold 5... GPU monitoring initialized: 1 device(s) found\n",
      "CPU energy monitoring (RAPL) initialized: 1 domain(s) found\n",
      "  - package-0 (intel-rapl:0)\n",
      "Resource monitoring started\n",
      "Resource monitoring stopped\n",
      "[CPU] Acc: 66.11%, Energy: 0.011207Wh, Size: 2423.7KB\n",
      "  Fold 6... GPU monitoring initialized: 1 device(s) found\n",
      "CPU energy monitoring (RAPL) initialized: 1 domain(s) found\n",
      "  - package-0 (intel-rapl:0)\n",
      "Resource monitoring started\n",
      "Resource monitoring stopped\n",
      "[CPU] Acc: 66.68%, Energy: 0.010974Wh, Size: 2423.7KB\n",
      "  Fold 7... GPU monitoring initialized: 1 device(s) found\n",
      "CPU energy monitoring (RAPL) initialized: 1 domain(s) found\n",
      "  - package-0 (intel-rapl:0)\n",
      "Resource monitoring started\n",
      "Resource monitoring stopped\n",
      "[CPU] Acc: 63.52%, Energy: 0.012202Wh, Size: 2423.7KB\n",
      "  Fold 8... GPU monitoring initialized: 1 device(s) found\n",
      "CPU energy monitoring (RAPL) initialized: 1 domain(s) found\n",
      "  - package-0 (intel-rapl:0)\n",
      "Resource monitoring started\n",
      "Resource monitoring stopped\n",
      "[CPU] Acc: 64.20%, Energy: 0.011942Wh, Size: 2423.7KB\n",
      "  Fold 9... GPU monitoring initialized: 1 device(s) found\n",
      "CPU energy monitoring (RAPL) initialized: 1 domain(s) found\n",
      "  - package-0 (intel-rapl:0)\n",
      "Resource monitoring started\n",
      "Resource monitoring stopped\n",
      "[CPU] Acc: 64.76%, Energy: 0.011665Wh, Size: 2423.7KB\n",
      "  Fold 10... GPU monitoring initialized: 1 device(s) found\n",
      "CPU energy monitoring (RAPL) initialized: 1 domain(s) found\n",
      "  - package-0 (intel-rapl:0)\n",
      "Resource monitoring started\n",
      "Resource monitoring stopped\n",
      "[CPU] Acc: 60.91%, Energy: 0.011705Wh, Size: 2423.7KB\n",
      "\n",
      "model_5:\n",
      "  Fold 1... GPU monitoring initialized: 1 device(s) found\n",
      "CPU energy monitoring (RAPL) initialized: 1 domain(s) found\n",
      "  - package-0 (intel-rapl:0)\n",
      "Resource monitoring started\n",
      "Resource monitoring stopped\n",
      "[CPU] Acc: 78.86%, Energy: 0.013290Wh, Size: 320.6KB\n",
      "  Fold 2... GPU monitoring initialized: 1 device(s) found\n",
      "CPU energy monitoring (RAPL) initialized: 1 domain(s) found\n",
      "  - package-0 (intel-rapl:0)\n",
      "Resource monitoring started\n",
      "Resource monitoring stopped\n",
      "[CPU] Acc: 78.10%, Energy: 0.014741Wh, Size: 320.6KB\n",
      "  Fold 3... GPU monitoring initialized: 1 device(s) found\n",
      "CPU energy monitoring (RAPL) initialized: 1 domain(s) found\n",
      "  - package-0 (intel-rapl:0)\n",
      "Resource monitoring started\n",
      "Resource monitoring stopped\n",
      "[CPU] Acc: 78.12%, Energy: 0.013127Wh, Size: 320.6KB\n",
      "  Fold 4... GPU monitoring initialized: 1 device(s) found\n",
      "CPU energy monitoring (RAPL) initialized: 1 domain(s) found\n",
      "  - package-0 (intel-rapl:0)\n",
      "Resource monitoring started\n",
      "Resource monitoring stopped\n",
      "[CPU] Acc: 78.85%, Energy: 0.012020Wh, Size: 320.6KB\n",
      "  Fold 5... GPU monitoring initialized: 1 device(s) found\n",
      "CPU energy monitoring (RAPL) initialized: 1 domain(s) found\n",
      "  - package-0 (intel-rapl:0)\n",
      "Resource monitoring started\n",
      "Resource monitoring stopped\n",
      "[CPU] Acc: 78.08%, Energy: 0.012399Wh, Size: 320.6KB\n",
      "  Fold 6... GPU monitoring initialized: 1 device(s) found\n",
      "CPU energy monitoring (RAPL) initialized: 1 domain(s) found\n",
      "  - package-0 (intel-rapl:0)\n",
      "Resource monitoring started\n",
      "Resource monitoring stopped\n",
      "[CPU] Acc: 78.25%, Energy: 0.011915Wh, Size: 320.6KB\n",
      "  Fold 7... GPU monitoring initialized: 1 device(s) found\n",
      "CPU energy monitoring (RAPL) initialized: 1 domain(s) found\n",
      "  - package-0 (intel-rapl:0)\n",
      "Resource monitoring started\n",
      "Resource monitoring stopped\n",
      "[CPU] Acc: 78.38%, Energy: 0.011907Wh, Size: 320.6KB\n",
      "  Fold 8... GPU monitoring initialized: 1 device(s) found\n",
      "CPU energy monitoring (RAPL) initialized: 1 domain(s) found\n",
      "  - package-0 (intel-rapl:0)\n",
      "Resource monitoring started\n",
      "Resource monitoring stopped\n",
      "[CPU] Acc: 76.04%, Energy: 0.013540Wh, Size: 320.6KB\n",
      "  Fold 9... GPU monitoring initialized: 1 device(s) found\n",
      "CPU energy monitoring (RAPL) initialized: 1 domain(s) found\n",
      "  - package-0 (intel-rapl:0)\n",
      "Resource monitoring started\n",
      "Resource monitoring stopped\n",
      "[CPU] Acc: 78.98%, Energy: 0.014099Wh, Size: 320.6KB\n",
      "  Fold 10... GPU monitoring initialized: 1 device(s) found\n",
      "CPU energy monitoring (RAPL) initialized: 1 domain(s) found\n",
      "  - package-0 (intel-rapl:0)\n",
      "Resource monitoring started\n",
      "Resource monitoring stopped\n",
      "[CPU] Acc: 79.36%, Energy: 0.012862Wh, Size: 320.6KB\n",
      "\n",
      "model_6:\n",
      "  Fold 1... GPU monitoring initialized: 1 device(s) found\n",
      "CPU energy monitoring (RAPL) initialized: 1 domain(s) found\n",
      "  - package-0 (intel-rapl:0)\n",
      "Resource monitoring started\n",
      "Resource monitoring stopped\n",
      "[CPU] Acc: 80.57%, Energy: 0.014275Wh, Size: 617.8KB\n",
      "  Fold 2... GPU monitoring initialized: 1 device(s) found\n",
      "CPU energy monitoring (RAPL) initialized: 1 domain(s) found\n",
      "  - package-0 (intel-rapl:0)\n",
      "Resource monitoring started\n",
      "Resource monitoring stopped\n",
      "[CPU] Acc: 80.90%, Energy: 0.013175Wh, Size: 617.8KB\n",
      "  Fold 3... GPU monitoring initialized: 1 device(s) found\n",
      "CPU energy monitoring (RAPL) initialized: 1 domain(s) found\n",
      "  - package-0 (intel-rapl:0)\n",
      "Resource monitoring started\n",
      "Resource monitoring stopped\n",
      "[CPU] Acc: 80.95%, Energy: 0.012165Wh, Size: 617.8KB\n",
      "  Fold 4... GPU monitoring initialized: 1 device(s) found\n",
      "CPU energy monitoring (RAPL) initialized: 1 domain(s) found\n",
      "  - package-0 (intel-rapl:0)\n",
      "Resource monitoring started\n",
      "Resource monitoring stopped\n",
      "[CPU] Acc: 80.97%, Energy: 0.012253Wh, Size: 617.8KB\n",
      "  Fold 5... GPU monitoring initialized: 1 device(s) found\n",
      "CPU energy monitoring (RAPL) initialized: 1 domain(s) found\n",
      "  - package-0 (intel-rapl:0)\n",
      "Resource monitoring started\n",
      "Resource monitoring stopped\n",
      "[CPU] Acc: 81.43%, Energy: 0.012175Wh, Size: 617.8KB\n",
      "  Fold 6... GPU monitoring initialized: 1 device(s) found\n",
      "CPU energy monitoring (RAPL) initialized: 1 domain(s) found\n",
      "  - package-0 (intel-rapl:0)\n",
      "Resource monitoring started\n",
      "Resource monitoring stopped\n",
      "[CPU] Acc: 80.98%, Energy: 0.012304Wh, Size: 617.8KB\n",
      "  Fold 7... GPU monitoring initialized: 1 device(s) found\n",
      "CPU energy monitoring (RAPL) initialized: 1 domain(s) found\n",
      "  - package-0 (intel-rapl:0)\n",
      "Resource monitoring started\n",
      "Resource monitoring stopped\n",
      "[CPU] Acc: 80.78%, Energy: 0.012135Wh, Size: 617.8KB\n",
      "  Fold 8... GPU monitoring initialized: 1 device(s) found\n",
      "CPU energy monitoring (RAPL) initialized: 1 domain(s) found\n",
      "  - package-0 (intel-rapl:0)\n",
      "Resource monitoring started\n",
      "Resource monitoring stopped\n",
      "[CPU] Acc: 79.41%, Energy: 0.012860Wh, Size: 617.8KB\n",
      "  Fold 9... GPU monitoring initialized: 1 device(s) found\n",
      "CPU energy monitoring (RAPL) initialized: 1 domain(s) found\n",
      "  - package-0 (intel-rapl:0)\n",
      "Resource monitoring started\n",
      "Resource monitoring stopped\n",
      "[CPU] Acc: 81.04%, Energy: 0.013908Wh, Size: 617.8KB\n",
      "  Fold 10... GPU monitoring initialized: 1 device(s) found\n",
      "CPU energy monitoring (RAPL) initialized: 1 domain(s) found\n",
      "  - package-0 (intel-rapl:0)\n",
      "Resource monitoring started\n",
      "Resource monitoring stopped\n",
      "[CPU] Acc: 81.77%, Energy: 0.015283Wh, Size: 617.8KB\n",
      "\n",
      "model_7:\n",
      "  Fold 1... GPU monitoring initialized: 1 device(s) found\n",
      "CPU energy monitoring (RAPL) initialized: 1 domain(s) found\n",
      "  - package-0 (intel-rapl:0)\n",
      "Resource monitoring started\n",
      "Resource monitoring stopped\n",
      "[CPU] Acc: 88.76%, Energy: 0.037543Wh, Size: 2689.6KB\n",
      "  Fold 2... GPU monitoring initialized: 1 device(s) found\n",
      "CPU energy monitoring (RAPL) initialized: 1 domain(s) found\n",
      "  - package-0 (intel-rapl:0)\n",
      "Resource monitoring started\n",
      "Resource monitoring stopped\n",
      "[CPU] Acc: 88.56%, Energy: 0.036118Wh, Size: 2689.6KB\n",
      "  Fold 3... GPU monitoring initialized: 1 device(s) found\n",
      "CPU energy monitoring (RAPL) initialized: 1 domain(s) found\n",
      "  - package-0 (intel-rapl:0)\n",
      "Resource monitoring started\n",
      "Resource monitoring stopped\n",
      "[CPU] Acc: 89.10%, Energy: 0.035592Wh, Size: 2689.6KB\n",
      "  Fold 4... GPU monitoring initialized: 1 device(s) found\n",
      "CPU energy monitoring (RAPL) initialized: 1 domain(s) found\n",
      "  - package-0 (intel-rapl:0)\n",
      "Resource monitoring started\n",
      "Resource monitoring stopped\n",
      "[CPU] Acc: 88.68%, Energy: 0.036895Wh, Size: 2689.6KB\n",
      "  Fold 5... GPU monitoring initialized: 1 device(s) found\n",
      "CPU energy monitoring (RAPL) initialized: 1 domain(s) found\n",
      "  - package-0 (intel-rapl:0)\n",
      "Resource monitoring started\n",
      "Resource monitoring stopped\n",
      "[CPU] Acc: 88.95%, Energy: 0.038439Wh, Size: 2689.6KB\n",
      "  Fold 6... GPU monitoring initialized: 1 device(s) found\n",
      "CPU energy monitoring (RAPL) initialized: 1 domain(s) found\n",
      "  - package-0 (intel-rapl:0)\n",
      "Resource monitoring started\n",
      "Resource monitoring stopped\n",
      "[CPU] Acc: 88.56%, Energy: 0.036981Wh, Size: 2689.6KB\n",
      "  Fold 7... GPU monitoring initialized: 1 device(s) found\n",
      "CPU energy monitoring (RAPL) initialized: 1 domain(s) found\n",
      "  - package-0 (intel-rapl:0)\n",
      "Resource monitoring started\n",
      "Resource monitoring stopped\n",
      "[CPU] Acc: 88.58%, Energy: 0.035563Wh, Size: 2689.6KB\n",
      "  Fold 8... GPU monitoring initialized: 1 device(s) found\n",
      "CPU energy monitoring (RAPL) initialized: 1 domain(s) found\n",
      "  - package-0 (intel-rapl:0)\n",
      "Resource monitoring started\n",
      "Resource monitoring stopped\n",
      "[CPU] Acc: 87.88%, Energy: 0.035628Wh, Size: 2689.6KB\n",
      "  Fold 9... GPU monitoring initialized: 1 device(s) found\n",
      "CPU energy monitoring (RAPL) initialized: 1 domain(s) found\n",
      "  - package-0 (intel-rapl:0)\n",
      "Resource monitoring started\n",
      "Resource monitoring stopped\n",
      "[CPU] Acc: 88.58%, Energy: 0.036892Wh, Size: 2689.6KB\n",
      "  Fold 10... GPU monitoring initialized: 1 device(s) found\n",
      "CPU energy monitoring (RAPL) initialized: 1 domain(s) found\n",
      "  - package-0 (intel-rapl:0)\n",
      "Resource monitoring started\n",
      "Resource monitoring stopped\n",
      "[CPU] Acc: 88.50%, Energy: 0.035725Wh, Size: 2689.6KB\n",
      "\n",
      "model_8:\n",
      "  Fold 1... GPU monitoring initialized: 1 device(s) found\n",
      "CPU energy monitoring (RAPL) initialized: 1 domain(s) found\n",
      "  - package-0 (intel-rapl:0)\n",
      "Resource monitoring started\n",
      "Resource monitoring stopped\n",
      "[CPU] Acc: 83.54%, Energy: 0.051700Wh, Size: 4940.6KB\n",
      "  Fold 2... GPU monitoring initialized: 1 device(s) found\n",
      "CPU energy monitoring (RAPL) initialized: 1 domain(s) found\n",
      "  - package-0 (intel-rapl:0)\n",
      "Resource monitoring started\n",
      "Resource monitoring stopped\n",
      "[CPU] Acc: 84.57%, Energy: 0.053686Wh, Size: 4940.6KB\n",
      "  Fold 3... GPU monitoring initialized: 1 device(s) found\n",
      "CPU energy monitoring (RAPL) initialized: 1 domain(s) found\n",
      "  - package-0 (intel-rapl:0)\n",
      "Resource monitoring started\n",
      "Resource monitoring stopped\n",
      "[CPU] Acc: 85.43%, Energy: 0.050352Wh, Size: 4940.6KB\n",
      "  Fold 4... GPU monitoring initialized: 1 device(s) found\n",
      "CPU energy monitoring (RAPL) initialized: 1 domain(s) found\n",
      "  - package-0 (intel-rapl:0)\n",
      "Resource monitoring started\n",
      "Resource monitoring stopped\n",
      "[CPU] Acc: 85.31%, Energy: 0.050626Wh, Size: 4940.6KB\n",
      "  Fold 5... GPU monitoring initialized: 1 device(s) found\n",
      "CPU energy monitoring (RAPL) initialized: 1 domain(s) found\n",
      "  - package-0 (intel-rapl:0)\n",
      "Resource monitoring started\n",
      "Resource monitoring stopped\n",
      "[CPU] Acc: 85.22%, Energy: 0.051691Wh, Size: 4940.6KB\n",
      "  Fold 6... GPU monitoring initialized: 1 device(s) found\n",
      "CPU energy monitoring (RAPL) initialized: 1 domain(s) found\n",
      "  - package-0 (intel-rapl:0)\n",
      "Resource monitoring started\n",
      "Resource monitoring stopped\n",
      "[CPU] Acc: 85.14%, Energy: 0.050211Wh, Size: 4940.6KB\n",
      "  Fold 7... GPU monitoring initialized: 1 device(s) found\n",
      "CPU energy monitoring (RAPL) initialized: 1 domain(s) found\n",
      "  - package-0 (intel-rapl:0)\n",
      "Resource monitoring started\n",
      "Resource monitoring stopped\n",
      "[CPU] Acc: 85.20%, Energy: 0.050015Wh, Size: 4940.6KB\n",
      "  Fold 8... GPU monitoring initialized: 1 device(s) found\n",
      "CPU energy monitoring (RAPL) initialized: 1 domain(s) found\n",
      "  - package-0 (intel-rapl:0)\n",
      "Resource monitoring started\n",
      "Resource monitoring stopped\n",
      "[CPU] Acc: 84.88%, Energy: 0.051099Wh, Size: 4940.6KB\n",
      "  Fold 9... GPU monitoring initialized: 1 device(s) found\n",
      "CPU energy monitoring (RAPL) initialized: 1 domain(s) found\n",
      "  - package-0 (intel-rapl:0)\n",
      "Resource monitoring started\n",
      "Resource monitoring stopped\n",
      "[CPU] Acc: 83.94%, Energy: 0.050377Wh, Size: 4940.6KB\n",
      "  Fold 10... GPU monitoring initialized: 1 device(s) found\n",
      "CPU energy monitoring (RAPL) initialized: 1 domain(s) found\n",
      "  - package-0 (intel-rapl:0)\n",
      "Resource monitoring started\n",
      "Resource monitoring stopped\n",
      "[CPU] Acc: 84.73%, Energy: 0.051157Wh, Size: 4940.6KB\n",
      "\n",
      "model_9:\n",
      "  Fold 1... GPU monitoring initialized: 1 device(s) found\n",
      "CPU energy monitoring (RAPL) initialized: 1 domain(s) found\n",
      "  - package-0 (intel-rapl:0)\n",
      "Resource monitoring started\n",
      "Resource monitoring stopped\n",
      "[CPU] Acc: 89.12%, Energy: 0.153379Wh, Size: 19955.1KB\n",
      "  Fold 2... GPU monitoring initialized: 1 device(s) found\n",
      "CPU energy monitoring (RAPL) initialized: 1 domain(s) found\n",
      "  - package-0 (intel-rapl:0)\n",
      "Resource monitoring started\n",
      "Resource monitoring stopped\n",
      "[CPU] Acc: 87.68%, Energy: 0.150637Wh, Size: 19955.1KB\n",
      "  Fold 3... GPU monitoring initialized: 1 device(s) found\n",
      "CPU energy monitoring (RAPL) initialized: 1 domain(s) found\n",
      "  - package-0 (intel-rapl:0)\n",
      "Resource monitoring started\n",
      "Resource monitoring stopped\n",
      "[CPU] Acc: 88.48%, Energy: 0.146531Wh, Size: 19955.1KB\n",
      "  Fold 4... GPU monitoring initialized: 1 device(s) found\n",
      "CPU energy monitoring (RAPL) initialized: 1 domain(s) found\n",
      "  - package-0 (intel-rapl:0)\n",
      "Resource monitoring started\n",
      "Resource monitoring stopped\n",
      "[CPU] Acc: 89.09%, Energy: 0.151781Wh, Size: 19955.1KB\n",
      "  Fold 5... GPU monitoring initialized: 1 device(s) found\n",
      "CPU energy monitoring (RAPL) initialized: 1 domain(s) found\n",
      "  - package-0 (intel-rapl:0)\n",
      "Resource monitoring started\n",
      "Resource monitoring stopped\n",
      "[CPU] Acc: 89.01%, Energy: 0.147393Wh, Size: 19955.1KB\n",
      "  Fold 6... GPU monitoring initialized: 1 device(s) found\n",
      "CPU energy monitoring (RAPL) initialized: 1 domain(s) found\n",
      "  - package-0 (intel-rapl:0)\n",
      "Resource monitoring started\n",
      "Resource monitoring stopped\n",
      "[CPU] Acc: 88.48%, Energy: 0.150261Wh, Size: 19955.1KB\n",
      "  Fold 7... GPU monitoring initialized: 1 device(s) found\n",
      "CPU energy monitoring (RAPL) initialized: 1 domain(s) found\n",
      "  - package-0 (intel-rapl:0)\n",
      "Resource monitoring started\n",
      "Resource monitoring stopped\n",
      "[CPU] Acc: 87.92%, Energy: 0.152097Wh, Size: 19955.1KB\n",
      "  Fold 8... GPU monitoring initialized: 1 device(s) found\n",
      "CPU energy monitoring (RAPL) initialized: 1 domain(s) found\n",
      "  - package-0 (intel-rapl:0)\n",
      "Resource monitoring started\n",
      "Resource monitoring stopped\n",
      "[CPU] Acc: 87.18%, Energy: 0.147394Wh, Size: 19955.1KB\n",
      "  Fold 9... GPU monitoring initialized: 1 device(s) found\n",
      "CPU energy monitoring (RAPL) initialized: 1 domain(s) found\n",
      "  - package-0 (intel-rapl:0)\n",
      "Resource monitoring started\n",
      "Resource monitoring stopped\n",
      "[CPU] Acc: 87.51%, Energy: 0.147335Wh, Size: 19955.1KB\n",
      "  Fold 10... GPU monitoring initialized: 1 device(s) found\n",
      "CPU energy monitoring (RAPL) initialized: 1 domain(s) found\n",
      "  - package-0 (intel-rapl:0)\n",
      "Resource monitoring started\n",
      "Resource monitoring stopped\n",
      "[CPU] Acc: 88.89%, Energy: 0.147898Wh, Size: 19955.1KB\n",
      "\n",
      "model_10:\n",
      "  Fold 1... GPU monitoring initialized: 1 device(s) found\n",
      "CPU energy monitoring (RAPL) initialized: 1 domain(s) found\n",
      "  - package-0 (intel-rapl:0)\n",
      "Resource monitoring started\n",
      "Resource monitoring stopped\n",
      "[CPU] Acc: 87.54%, Energy: 0.571788Wh, Size: 79649.1KB\n",
      "  Fold 2... GPU monitoring initialized: 1 device(s) found\n",
      "CPU energy monitoring (RAPL) initialized: 1 domain(s) found\n",
      "  - package-0 (intel-rapl:0)\n",
      "Resource monitoring started\n",
      "Resource monitoring stopped\n",
      "[CPU] Acc: 86.02%, Energy: 0.575897Wh, Size: 79649.1KB\n",
      "  Fold 3... GPU monitoring initialized: 1 device(s) found\n",
      "CPU energy monitoring (RAPL) initialized: 1 domain(s) found\n",
      "  - package-0 (intel-rapl:0)\n",
      "Resource monitoring started\n",
      "Resource monitoring stopped\n",
      "[CPU] Acc: 87.91%, Energy: 0.564608Wh, Size: 79649.1KB\n",
      "  Fold 4... GPU monitoring initialized: 1 device(s) found\n",
      "CPU energy monitoring (RAPL) initialized: 1 domain(s) found\n",
      "  - package-0 (intel-rapl:0)\n",
      "Resource monitoring started\n",
      "Resource monitoring stopped\n",
      "[CPU] Acc: 87.17%, Energy: 0.600804Wh, Size: 79649.1KB\n",
      "  Fold 5... GPU monitoring initialized: 1 device(s) found\n",
      "CPU energy monitoring (RAPL) initialized: 1 domain(s) found\n",
      "  - package-0 (intel-rapl:0)\n",
      "Resource monitoring started\n",
      "Resource monitoring stopped\n",
      "[CPU] Acc: 87.52%, Energy: 0.593985Wh, Size: 79649.1KB\n",
      "  Fold 6... GPU monitoring initialized: 1 device(s) found\n",
      "CPU energy monitoring (RAPL) initialized: 1 domain(s) found\n",
      "  - package-0 (intel-rapl:0)\n",
      "Resource monitoring started\n",
      "Resource monitoring stopped\n",
      "[CPU] Acc: 88.63%, Energy: 0.603204Wh, Size: 79649.1KB\n",
      "  Fold 7... GPU monitoring initialized: 1 device(s) found\n",
      "CPU energy monitoring (RAPL) initialized: 1 domain(s) found\n",
      "  - package-0 (intel-rapl:0)\n",
      "Resource monitoring started\n",
      "Resource monitoring stopped\n",
      "[CPU] Acc: 86.93%, Energy: 0.603218Wh, Size: 79649.1KB\n",
      "  Fold 8... GPU monitoring initialized: 1 device(s) found\n",
      "CPU energy monitoring (RAPL) initialized: 1 domain(s) found\n",
      "  - package-0 (intel-rapl:0)\n",
      "Resource monitoring started\n",
      "Resource monitoring stopped\n",
      "[CPU] Acc: 87.43%, Energy: 0.636000Wh, Size: 79649.1KB\n",
      "  Fold 9... GPU monitoring initialized: 1 device(s) found\n",
      "CPU energy monitoring (RAPL) initialized: 1 domain(s) found\n",
      "  - package-0 (intel-rapl:0)\n",
      "Resource monitoring started\n",
      "Resource monitoring stopped\n",
      "[CPU] Acc: 87.09%, Energy: 0.604918Wh, Size: 79649.1KB\n",
      "  Fold 10... GPU monitoring initialized: 1 device(s) found\n",
      "CPU energy monitoring (RAPL) initialized: 1 domain(s) found\n",
      "  - package-0 (intel-rapl:0)\n",
      "Resource monitoring started\n",
      "Resource monitoring stopped\n",
      "[CPU] Acc: 86.89%, Energy: 0.661706Wh, Size: 79649.1KB\n",
      "\n",
      "================================================================================\n",
      "Results saved to: converted_metrics/tflite_normal_no_quant_cpu_results.csv\n",
      "================================================================================\n",
      "\n",
      "SUMMARY:\n",
      "  Average Accuracy:  74.65%\n",
      "  Average F1 Score:  0.7430\n",
      "  Average Energy:    0.090651Wh\n",
      "  Average Duration:  6.42s\n",
      "  Average Size:      11198.7KB\n",
      "  Device Distribution:\n",
      "device\n",
      "CPU    100\n"
     ]
    }
   ],
   "source": [
    "df_normal_no_quant_cpu = evaluate_all_tflite_models(\n",
    "    tflite_base_dir='tflite_models',\n",
    "    folds_dir='new_Data_particions',\n",
    "    output_csv='converted_metrics/tflite_normal_no_quant_cpu_results.csv',\n",
    "    model_type='normal',\n",
    "    quantization='no_quant',\n",
    "    use_gpu=False  \n",
    ")"
   ]
  },
  {
   "cell_type": "code",
   "execution_count": 3,
   "id": "88a8e959-05b0-45a5-8e6b-119451152c6f",
   "metadata": {
    "scrolled": true
   },
   "outputs": [
    {
     "name": "stderr",
     "output_type": "stream",
     "text": [
      "Exception ignored in: <function Delegate.__del__ at 0x70ad48ecab90>\n",
      "Traceback (most recent call last):\n",
      "  File \"/home/pmedur/strojnoUcenje/env/lib/python3.10/site-packages/tensorflow/lite/python/interpreter.py\", line 117, in __del__\n",
      "    if self._library is not None:\n",
      "AttributeError: 'Delegate' object has no attribute '_library'\n",
      "Exception ignored in: <function Delegate.__del__ at 0x70ad48ecab90>\n",
      "Traceback (most recent call last):\n",
      "  File \"/home/pmedur/strojnoUcenje/env/lib/python3.10/site-packages/tensorflow/lite/python/interpreter.py\", line 117, in __del__\n",
      "    if self._library is not None:\n",
      "AttributeError: 'Delegate' object has no attribute '_library'\n"
     ]
    },
    {
     "name": "stdout",
     "output_type": "stream",
     "text": [
      "\n",
      "================================================================================\n",
      "EVALUATING NORMAL TFLITE MODELS (NO_QUANT) on GPU\n",
      "================================================================================\n",
      "\n",
      "\n",
      "model_1:\n",
      "  Fold 1...     GPU delegate failed: gpu: cannot open shared object file: No such file or directory\n",
      "    Falling back to CPU\n",
      "GPU monitoring initialized: 1 device(s) found\n",
      "CPU energy monitoring (RAPL) initialized: 1 domain(s) found\n",
      "  - package-0 (intel-rapl:0)\n",
      "Resource monitoring started\n"
     ]
    },
    {
     "name": "stderr",
     "output_type": "stream",
     "text": [
      "Exception ignored in: <function Delegate.__del__ at 0x70ad48ecab90>\n",
      "Traceback (most recent call last):\n",
      "  File \"/home/pmedur/strojnoUcenje/env/lib/python3.10/site-packages/tensorflow/lite/python/interpreter.py\", line 117, in __del__\n",
      "    if self._library is not None:\n",
      "AttributeError: 'Delegate' object has no attribute '_library'\n",
      "Exception ignored in: <function Delegate.__del__ at 0x70ad48ecab90>\n",
      "Traceback (most recent call last):\n",
      "  File \"/home/pmedur/strojnoUcenje/env/lib/python3.10/site-packages/tensorflow/lite/python/interpreter.py\", line 117, in __del__\n",
      "    if self._library is not None:\n",
      "AttributeError: 'Delegate' object has no attribute '_library'\n"
     ]
    },
    {
     "name": "stdout",
     "output_type": "stream",
     "text": [
      "Resource monitoring stopped\n",
      "[CPU (GPU failed)] Acc: 24.36%, Energy: 0.007272Wh, Size: 158.9KB\n",
      "  Fold 2...     GPU delegate failed: gpu: cannot open shared object file: No such file or directory\n",
      "    Falling back to CPU\n",
      "GPU monitoring initialized: 1 device(s) found\n",
      "CPU energy monitoring (RAPL) initialized: 1 domain(s) found\n",
      "  - package-0 (intel-rapl:0)\n",
      "Resource monitoring started\n"
     ]
    },
    {
     "name": "stderr",
     "output_type": "stream",
     "text": [
      "Exception ignored in: <function Delegate.__del__ at 0x70ad48ecab90>\n",
      "Traceback (most recent call last):\n",
      "  File \"/home/pmedur/strojnoUcenje/env/lib/python3.10/site-packages/tensorflow/lite/python/interpreter.py\", line 117, in __del__\n",
      "    if self._library is not None:\n",
      "AttributeError: 'Delegate' object has no attribute '_library'\n",
      "Exception ignored in: <function Delegate.__del__ at 0x70ad48ecab90>\n",
      "Traceback (most recent call last):\n",
      "  File \"/home/pmedur/strojnoUcenje/env/lib/python3.10/site-packages/tensorflow/lite/python/interpreter.py\", line 117, in __del__\n",
      "    if self._library is not None:\n",
      "AttributeError: 'Delegate' object has no attribute '_library'\n"
     ]
    },
    {
     "name": "stdout",
     "output_type": "stream",
     "text": [
      "Resource monitoring stopped\n",
      "[CPU (GPU failed)] Acc: 49.69%, Energy: 0.007031Wh, Size: 158.9KB\n",
      "  Fold 3...     GPU delegate failed: gpu: cannot open shared object file: No such file or directory\n",
      "    Falling back to CPU\n",
      "GPU monitoring initialized: 1 device(s) found\n",
      "CPU energy monitoring (RAPL) initialized: 1 domain(s) found\n",
      "  - package-0 (intel-rapl:0)\n",
      "Resource monitoring started\n"
     ]
    },
    {
     "name": "stderr",
     "output_type": "stream",
     "text": [
      "Exception ignored in: <function Delegate.__del__ at 0x70ad48ecab90>\n",
      "Traceback (most recent call last):\n",
      "  File \"/home/pmedur/strojnoUcenje/env/lib/python3.10/site-packages/tensorflow/lite/python/interpreter.py\", line 117, in __del__\n",
      "    if self._library is not None:\n",
      "AttributeError: 'Delegate' object has no attribute '_library'\n",
      "Exception ignored in: <function Delegate.__del__ at 0x70ad48ecab90>\n",
      "Traceback (most recent call last):\n",
      "  File \"/home/pmedur/strojnoUcenje/env/lib/python3.10/site-packages/tensorflow/lite/python/interpreter.py\", line 117, in __del__\n",
      "    if self._library is not None:\n",
      "AttributeError: 'Delegate' object has no attribute '_library'\n"
     ]
    },
    {
     "name": "stdout",
     "output_type": "stream",
     "text": [
      "Resource monitoring stopped\n",
      "[CPU (GPU failed)] Acc: 41.86%, Energy: 0.006823Wh, Size: 158.9KB\n",
      "  Fold 4...     GPU delegate failed: gpu: cannot open shared object file: No such file or directory\n",
      "    Falling back to CPU\n",
      "GPU monitoring initialized: 1 device(s) found\n",
      "CPU energy monitoring (RAPL) initialized: 1 domain(s) found\n",
      "  - package-0 (intel-rapl:0)\n",
      "Resource monitoring started\n"
     ]
    },
    {
     "name": "stderr",
     "output_type": "stream",
     "text": [
      "Exception ignored in: <function Delegate.__del__ at 0x70ad48ecab90>\n",
      "Traceback (most recent call last):\n",
      "  File \"/home/pmedur/strojnoUcenje/env/lib/python3.10/site-packages/tensorflow/lite/python/interpreter.py\", line 117, in __del__\n",
      "    if self._library is not None:\n",
      "AttributeError: 'Delegate' object has no attribute '_library'\n",
      "Exception ignored in: <function Delegate.__del__ at 0x70ad48ecab90>\n",
      "Traceback (most recent call last):\n",
      "  File \"/home/pmedur/strojnoUcenje/env/lib/python3.10/site-packages/tensorflow/lite/python/interpreter.py\", line 117, in __del__\n",
      "    if self._library is not None:\n",
      "AttributeError: 'Delegate' object has no attribute '_library'\n"
     ]
    },
    {
     "name": "stdout",
     "output_type": "stream",
     "text": [
      "Resource monitoring stopped\n",
      "[CPU (GPU failed)] Acc: 19.06%, Energy: 0.007024Wh, Size: 158.9KB\n",
      "  Fold 5...     GPU delegate failed: gpu: cannot open shared object file: No such file or directory\n",
      "    Falling back to CPU\n",
      "GPU monitoring initialized: 1 device(s) found\n",
      "CPU energy monitoring (RAPL) initialized: 1 domain(s) found\n",
      "  - package-0 (intel-rapl:0)\n",
      "Resource monitoring started\n"
     ]
    },
    {
     "name": "stderr",
     "output_type": "stream",
     "text": [
      "Exception ignored in: <function Delegate.__del__ at 0x70ad48ecab90>\n",
      "Traceback (most recent call last):\n",
      "  File \"/home/pmedur/strojnoUcenje/env/lib/python3.10/site-packages/tensorflow/lite/python/interpreter.py\", line 117, in __del__\n",
      "    if self._library is not None:\n",
      "AttributeError: 'Delegate' object has no attribute '_library'\n",
      "Exception ignored in: <function Delegate.__del__ at 0x70ad48ecab90>\n",
      "Traceback (most recent call last):\n",
      "  File \"/home/pmedur/strojnoUcenje/env/lib/python3.10/site-packages/tensorflow/lite/python/interpreter.py\", line 117, in __del__\n",
      "    if self._library is not None:\n",
      "AttributeError: 'Delegate' object has no attribute '_library'\n"
     ]
    },
    {
     "name": "stdout",
     "output_type": "stream",
     "text": [
      "Resource monitoring stopped\n",
      "[CPU (GPU failed)] Acc: 18.49%, Energy: 0.006460Wh, Size: 158.9KB\n",
      "  Fold 6...     GPU delegate failed: gpu: cannot open shared object file: No such file or directory\n",
      "    Falling back to CPU\n",
      "GPU monitoring initialized: 1 device(s) found\n",
      "CPU energy monitoring (RAPL) initialized: 1 domain(s) found\n",
      "  - package-0 (intel-rapl:0)\n",
      "Resource monitoring started\n"
     ]
    },
    {
     "name": "stderr",
     "output_type": "stream",
     "text": [
      "Exception ignored in: <function Delegate.__del__ at 0x70ad48ecab90>\n",
      "Traceback (most recent call last):\n",
      "  File \"/home/pmedur/strojnoUcenje/env/lib/python3.10/site-packages/tensorflow/lite/python/interpreter.py\", line 117, in __del__\n",
      "    if self._library is not None:\n",
      "AttributeError: 'Delegate' object has no attribute '_library'\n",
      "Exception ignored in: <function Delegate.__del__ at 0x70ad48ecab90>\n",
      "Traceback (most recent call last):\n",
      "  File \"/home/pmedur/strojnoUcenje/env/lib/python3.10/site-packages/tensorflow/lite/python/interpreter.py\", line 117, in __del__\n",
      "    if self._library is not None:\n",
      "AttributeError: 'Delegate' object has no attribute '_library'\n"
     ]
    },
    {
     "name": "stdout",
     "output_type": "stream",
     "text": [
      "Resource monitoring stopped\n",
      "[CPU (GPU failed)] Acc: 38.85%, Energy: 0.006582Wh, Size: 158.9KB\n",
      "  Fold 7...     GPU delegate failed: gpu: cannot open shared object file: No such file or directory\n",
      "    Falling back to CPU\n",
      "GPU monitoring initialized: 1 device(s) found\n",
      "CPU energy monitoring (RAPL) initialized: 1 domain(s) found\n",
      "  - package-0 (intel-rapl:0)\n",
      "Resource monitoring started\n"
     ]
    },
    {
     "name": "stderr",
     "output_type": "stream",
     "text": [
      "Exception ignored in: <function Delegate.__del__ at 0x70ad48ecab90>\n",
      "Traceback (most recent call last):\n",
      "  File \"/home/pmedur/strojnoUcenje/env/lib/python3.10/site-packages/tensorflow/lite/python/interpreter.py\", line 117, in __del__\n",
      "    if self._library is not None:\n",
      "AttributeError: 'Delegate' object has no attribute '_library'\n",
      "Exception ignored in: <function Delegate.__del__ at 0x70ad48ecab90>\n",
      "Traceback (most recent call last):\n",
      "  File \"/home/pmedur/strojnoUcenje/env/lib/python3.10/site-packages/tensorflow/lite/python/interpreter.py\", line 117, in __del__\n",
      "    if self._library is not None:\n",
      "AttributeError: 'Delegate' object has no attribute '_library'\n"
     ]
    },
    {
     "name": "stdout",
     "output_type": "stream",
     "text": [
      "Resource monitoring stopped\n",
      "[CPU (GPU failed)] Acc: 42.86%, Energy: 0.007647Wh, Size: 158.9KB\n",
      "  Fold 8...     GPU delegate failed: gpu: cannot open shared object file: No such file or directory\n",
      "    Falling back to CPU\n",
      "GPU monitoring initialized: 1 device(s) found\n",
      "CPU energy monitoring (RAPL) initialized: 1 domain(s) found\n",
      "  - package-0 (intel-rapl:0)\n",
      "Resource monitoring started\n"
     ]
    },
    {
     "name": "stderr",
     "output_type": "stream",
     "text": [
      "Exception ignored in: <function Delegate.__del__ at 0x70ad48ecab90>\n",
      "Traceback (most recent call last):\n",
      "  File \"/home/pmedur/strojnoUcenje/env/lib/python3.10/site-packages/tensorflow/lite/python/interpreter.py\", line 117, in __del__\n",
      "    if self._library is not None:\n",
      "AttributeError: 'Delegate' object has no attribute '_library'\n",
      "Exception ignored in: <function Delegate.__del__ at 0x70ad48ecab90>\n",
      "Traceback (most recent call last):\n",
      "  File \"/home/pmedur/strojnoUcenje/env/lib/python3.10/site-packages/tensorflow/lite/python/interpreter.py\", line 117, in __del__\n",
      "    if self._library is not None:\n",
      "AttributeError: 'Delegate' object has no attribute '_library'\n"
     ]
    },
    {
     "name": "stdout",
     "output_type": "stream",
     "text": [
      "Resource monitoring stopped\n",
      "[CPU (GPU failed)] Acc: 45.43%, Energy: 0.008554Wh, Size: 158.9KB\n",
      "  Fold 9...     GPU delegate failed: gpu: cannot open shared object file: No such file or directory\n",
      "    Falling back to CPU\n",
      "GPU monitoring initialized: 1 device(s) found\n",
      "CPU energy monitoring (RAPL) initialized: 1 domain(s) found\n",
      "  - package-0 (intel-rapl:0)\n",
      "Resource monitoring started\n"
     ]
    },
    {
     "name": "stderr",
     "output_type": "stream",
     "text": [
      "Exception ignored in: <function Delegate.__del__ at 0x70ad48ecab90>\n",
      "Traceback (most recent call last):\n",
      "  File \"/home/pmedur/strojnoUcenje/env/lib/python3.10/site-packages/tensorflow/lite/python/interpreter.py\", line 117, in __del__\n",
      "    if self._library is not None:\n",
      "AttributeError: 'Delegate' object has no attribute '_library'\n",
      "Exception ignored in: <function Delegate.__del__ at 0x70ad48ecab90>\n",
      "Traceback (most recent call last):\n",
      "  File \"/home/pmedur/strojnoUcenje/env/lib/python3.10/site-packages/tensorflow/lite/python/interpreter.py\", line 117, in __del__\n",
      "    if self._library is not None:\n",
      "AttributeError: 'Delegate' object has no attribute '_library'\n"
     ]
    },
    {
     "name": "stdout",
     "output_type": "stream",
     "text": [
      "Resource monitoring stopped\n",
      "[CPU (GPU failed)] Acc: 43.16%, Energy: 0.006472Wh, Size: 158.9KB\n",
      "  Fold 10...     GPU delegate failed: gpu: cannot open shared object file: No such file or directory\n",
      "    Falling back to CPU\n",
      "GPU monitoring initialized: 1 device(s) found\n",
      "CPU energy monitoring (RAPL) initialized: 1 domain(s) found\n",
      "  - package-0 (intel-rapl:0)\n",
      "Resource monitoring started\n"
     ]
    },
    {
     "name": "stderr",
     "output_type": "stream",
     "text": [
      "Exception ignored in: <function Delegate.__del__ at 0x70ad48ecab90>\n",
      "Traceback (most recent call last):\n",
      "  File \"/home/pmedur/strojnoUcenje/env/lib/python3.10/site-packages/tensorflow/lite/python/interpreter.py\", line 117, in __del__\n",
      "    if self._library is not None:\n",
      "AttributeError: 'Delegate' object has no attribute '_library'\n",
      "Exception ignored in: <function Delegate.__del__ at 0x70ad48ecab90>\n",
      "Traceback (most recent call last):\n",
      "  File \"/home/pmedur/strojnoUcenje/env/lib/python3.10/site-packages/tensorflow/lite/python/interpreter.py\", line 117, in __del__\n",
      "    if self._library is not None:\n",
      "AttributeError: 'Delegate' object has no attribute '_library'\n"
     ]
    },
    {
     "name": "stdout",
     "output_type": "stream",
     "text": [
      "Resource monitoring stopped\n",
      "[CPU (GPU failed)] Acc: 44.76%, Energy: 0.006687Wh, Size: 158.9KB\n",
      "\n",
      "model_2:\n",
      "  Fold 1...     GPU delegate failed: gpu: cannot open shared object file: No such file or directory\n",
      "    Falling back to CPU\n",
      "GPU monitoring initialized: 1 device(s) found\n",
      "CPU energy monitoring (RAPL) initialized: 1 domain(s) found\n",
      "  - package-0 (intel-rapl:0)\n",
      "Resource monitoring started\n"
     ]
    },
    {
     "name": "stderr",
     "output_type": "stream",
     "text": [
      "Exception ignored in: <function Delegate.__del__ at 0x70ad48ecab90>\n",
      "Traceback (most recent call last):\n",
      "  File \"/home/pmedur/strojnoUcenje/env/lib/python3.10/site-packages/tensorflow/lite/python/interpreter.py\", line 117, in __del__\n",
      "    if self._library is not None:\n",
      "AttributeError: 'Delegate' object has no attribute '_library'\n",
      "Exception ignored in: <function Delegate.__del__ at 0x70ad48ecab90>\n",
      "Traceback (most recent call last):\n",
      "  File \"/home/pmedur/strojnoUcenje/env/lib/python3.10/site-packages/tensorflow/lite/python/interpreter.py\", line 117, in __del__\n",
      "    if self._library is not None:\n",
      "AttributeError: 'Delegate' object has no attribute '_library'\n"
     ]
    },
    {
     "name": "stdout",
     "output_type": "stream",
     "text": [
      "Resource monitoring stopped\n",
      "[CPU (GPU failed)] Acc: 64.21%, Energy: 0.008298Wh, Size: 613.8KB\n",
      "  Fold 2...     GPU delegate failed: gpu: cannot open shared object file: No such file or directory\n",
      "    Falling back to CPU\n",
      "GPU monitoring initialized: 1 device(s) found\n",
      "CPU energy monitoring (RAPL) initialized: 1 domain(s) found\n",
      "  - package-0 (intel-rapl:0)\n",
      "Resource monitoring started\n"
     ]
    },
    {
     "name": "stderr",
     "output_type": "stream",
     "text": [
      "Exception ignored in: <function Delegate.__del__ at 0x70ad48ecab90>\n",
      "Traceback (most recent call last):\n",
      "  File \"/home/pmedur/strojnoUcenje/env/lib/python3.10/site-packages/tensorflow/lite/python/interpreter.py\", line 117, in __del__\n",
      "    if self._library is not None:\n",
      "AttributeError: 'Delegate' object has no attribute '_library'\n",
      "Exception ignored in: <function Delegate.__del__ at 0x70ad48ecab90>\n",
      "Traceback (most recent call last):\n",
      "  File \"/home/pmedur/strojnoUcenje/env/lib/python3.10/site-packages/tensorflow/lite/python/interpreter.py\", line 117, in __del__\n",
      "    if self._library is not None:\n",
      "AttributeError: 'Delegate' object has no attribute '_library'\n"
     ]
    },
    {
     "name": "stdout",
     "output_type": "stream",
     "text": [
      "Resource monitoring stopped\n",
      "[CPU (GPU failed)] Acc: 53.64%, Energy: 0.009108Wh, Size: 613.8KB\n",
      "  Fold 3...     GPU delegate failed: gpu: cannot open shared object file: No such file or directory\n",
      "    Falling back to CPU\n",
      "GPU monitoring initialized: 1 device(s) found\n",
      "CPU energy monitoring (RAPL) initialized: 1 domain(s) found\n",
      "  - package-0 (intel-rapl:0)\n",
      "Resource monitoring started\n"
     ]
    },
    {
     "name": "stderr",
     "output_type": "stream",
     "text": [
      "Exception ignored in: <function Delegate.__del__ at 0x70ad48ecab90>\n",
      "Traceback (most recent call last):\n",
      "  File \"/home/pmedur/strojnoUcenje/env/lib/python3.10/site-packages/tensorflow/lite/python/interpreter.py\", line 117, in __del__\n",
      "    if self._library is not None:\n",
      "AttributeError: 'Delegate' object has no attribute '_library'\n",
      "Exception ignored in: <function Delegate.__del__ at 0x70ad48ecab90>\n",
      "Traceback (most recent call last):\n",
      "  File \"/home/pmedur/strojnoUcenje/env/lib/python3.10/site-packages/tensorflow/lite/python/interpreter.py\", line 117, in __del__\n",
      "    if self._library is not None:\n",
      "AttributeError: 'Delegate' object has no attribute '_library'\n"
     ]
    },
    {
     "name": "stdout",
     "output_type": "stream",
     "text": [
      "Resource monitoring stopped\n",
      "[CPU (GPU failed)] Acc: 54.15%, Energy: 0.008103Wh, Size: 613.8KB\n",
      "  Fold 4...     GPU delegate failed: gpu: cannot open shared object file: No such file or directory\n",
      "    Falling back to CPU\n",
      "GPU monitoring initialized: 1 device(s) found\n",
      "CPU energy monitoring (RAPL) initialized: 1 domain(s) found\n",
      "  - package-0 (intel-rapl:0)\n",
      "Resource monitoring started\n"
     ]
    },
    {
     "name": "stderr",
     "output_type": "stream",
     "text": [
      "Exception ignored in: <function Delegate.__del__ at 0x70ad48ecab90>\n",
      "Traceback (most recent call last):\n",
      "  File \"/home/pmedur/strojnoUcenje/env/lib/python3.10/site-packages/tensorflow/lite/python/interpreter.py\", line 117, in __del__\n",
      "    if self._library is not None:\n",
      "AttributeError: 'Delegate' object has no attribute '_library'\n",
      "Exception ignored in: <function Delegate.__del__ at 0x70ad48ecab90>\n",
      "Traceback (most recent call last):\n",
      "  File \"/home/pmedur/strojnoUcenje/env/lib/python3.10/site-packages/tensorflow/lite/python/interpreter.py\", line 117, in __del__\n",
      "    if self._library is not None:\n",
      "AttributeError: 'Delegate' object has no attribute '_library'\n"
     ]
    },
    {
     "name": "stdout",
     "output_type": "stream",
     "text": [
      "Resource monitoring stopped\n",
      "[CPU (GPU failed)] Acc: 41.75%, Energy: 0.008166Wh, Size: 613.8KB\n",
      "  Fold 5...     GPU delegate failed: gpu: cannot open shared object file: No such file or directory\n",
      "    Falling back to CPU\n",
      "GPU monitoring initialized: 1 device(s) found\n",
      "CPU energy monitoring (RAPL) initialized: 1 domain(s) found\n",
      "  - package-0 (intel-rapl:0)\n",
      "Resource monitoring started\n"
     ]
    },
    {
     "name": "stderr",
     "output_type": "stream",
     "text": [
      "Exception ignored in: <function Delegate.__del__ at 0x70ad48ecab90>\n",
      "Traceback (most recent call last):\n",
      "  File \"/home/pmedur/strojnoUcenje/env/lib/python3.10/site-packages/tensorflow/lite/python/interpreter.py\", line 117, in __del__\n",
      "    if self._library is not None:\n",
      "AttributeError: 'Delegate' object has no attribute '_library'\n",
      "Exception ignored in: <function Delegate.__del__ at 0x70ad48ecab90>\n",
      "Traceback (most recent call last):\n",
      "  File \"/home/pmedur/strojnoUcenje/env/lib/python3.10/site-packages/tensorflow/lite/python/interpreter.py\", line 117, in __del__\n",
      "    if self._library is not None:\n",
      "AttributeError: 'Delegate' object has no attribute '_library'\n"
     ]
    },
    {
     "name": "stdout",
     "output_type": "stream",
     "text": [
      "Resource monitoring stopped\n",
      "[CPU (GPU failed)] Acc: 53.87%, Energy: 0.008016Wh, Size: 613.8KB\n",
      "  Fold 6...     GPU delegate failed: gpu: cannot open shared object file: No such file or directory\n",
      "    Falling back to CPU\n",
      "GPU monitoring initialized: 1 device(s) found\n",
      "CPU energy monitoring (RAPL) initialized: 1 domain(s) found\n",
      "  - package-0 (intel-rapl:0)\n",
      "Resource monitoring started\n"
     ]
    },
    {
     "name": "stderr",
     "output_type": "stream",
     "text": [
      "Exception ignored in: <function Delegate.__del__ at 0x70ad48ecab90>\n",
      "Traceback (most recent call last):\n",
      "  File \"/home/pmedur/strojnoUcenje/env/lib/python3.10/site-packages/tensorflow/lite/python/interpreter.py\", line 117, in __del__\n",
      "    if self._library is not None:\n",
      "AttributeError: 'Delegate' object has no attribute '_library'\n",
      "Exception ignored in: <function Delegate.__del__ at 0x70ad48ecab90>\n",
      "Traceback (most recent call last):\n",
      "  File \"/home/pmedur/strojnoUcenje/env/lib/python3.10/site-packages/tensorflow/lite/python/interpreter.py\", line 117, in __del__\n",
      "    if self._library is not None:\n",
      "AttributeError: 'Delegate' object has no attribute '_library'\n"
     ]
    },
    {
     "name": "stdout",
     "output_type": "stream",
     "text": [
      "Resource monitoring stopped\n",
      "[CPU (GPU failed)] Acc: 60.90%, Energy: 0.008622Wh, Size: 613.8KB\n",
      "  Fold 7...     GPU delegate failed: gpu: cannot open shared object file: No such file or directory\n",
      "    Falling back to CPU\n",
      "GPU monitoring initialized: 1 device(s) found\n",
      "CPU energy monitoring (RAPL) initialized: 1 domain(s) found\n",
      "  - package-0 (intel-rapl:0)\n",
      "Resource monitoring started\n"
     ]
    },
    {
     "name": "stderr",
     "output_type": "stream",
     "text": [
      "Exception ignored in: <function Delegate.__del__ at 0x70ad48ecab90>\n",
      "Traceback (most recent call last):\n",
      "  File \"/home/pmedur/strojnoUcenje/env/lib/python3.10/site-packages/tensorflow/lite/python/interpreter.py\", line 117, in __del__\n",
      "    if self._library is not None:\n",
      "AttributeError: 'Delegate' object has no attribute '_library'\n",
      "Exception ignored in: <function Delegate.__del__ at 0x70ad48ecab90>\n",
      "Traceback (most recent call last):\n",
      "  File \"/home/pmedur/strojnoUcenje/env/lib/python3.10/site-packages/tensorflow/lite/python/interpreter.py\", line 117, in __del__\n",
      "    if self._library is not None:\n",
      "AttributeError: 'Delegate' object has no attribute '_library'\n"
     ]
    },
    {
     "name": "stdout",
     "output_type": "stream",
     "text": [
      "Resource monitoring stopped\n",
      "[CPU (GPU failed)] Acc: 47.86%, Energy: 0.009109Wh, Size: 613.8KB\n",
      "  Fold 8...     GPU delegate failed: gpu: cannot open shared object file: No such file or directory\n",
      "    Falling back to CPU\n",
      "GPU monitoring initialized: 1 device(s) found\n",
      "CPU energy monitoring (RAPL) initialized: 1 domain(s) found\n",
      "  - package-0 (intel-rapl:0)\n",
      "Resource monitoring started\n"
     ]
    },
    {
     "name": "stderr",
     "output_type": "stream",
     "text": [
      "Exception ignored in: <function Delegate.__del__ at 0x70ad48ecab90>\n",
      "Traceback (most recent call last):\n",
      "  File \"/home/pmedur/strojnoUcenje/env/lib/python3.10/site-packages/tensorflow/lite/python/interpreter.py\", line 117, in __del__\n",
      "    if self._library is not None:\n",
      "AttributeError: 'Delegate' object has no attribute '_library'\n",
      "Exception ignored in: <function Delegate.__del__ at 0x70ad48ecab90>\n",
      "Traceback (most recent call last):\n",
      "  File \"/home/pmedur/strojnoUcenje/env/lib/python3.10/site-packages/tensorflow/lite/python/interpreter.py\", line 117, in __del__\n",
      "    if self._library is not None:\n",
      "AttributeError: 'Delegate' object has no attribute '_library'\n"
     ]
    },
    {
     "name": "stdout",
     "output_type": "stream",
     "text": [
      "Resource monitoring stopped\n",
      "[CPU (GPU failed)] Acc: 62.41%, Energy: 0.008798Wh, Size: 613.8KB\n",
      "  Fold 9...     GPU delegate failed: gpu: cannot open shared object file: No such file or directory\n",
      "    Falling back to CPU\n",
      "GPU monitoring initialized: 1 device(s) found\n",
      "CPU energy monitoring (RAPL) initialized: 1 domain(s) found\n",
      "  - package-0 (intel-rapl:0)\n",
      "Resource monitoring started\n"
     ]
    },
    {
     "name": "stderr",
     "output_type": "stream",
     "text": [
      "Exception ignored in: <function Delegate.__del__ at 0x70ad48ecab90>\n",
      "Traceback (most recent call last):\n",
      "  File \"/home/pmedur/strojnoUcenje/env/lib/python3.10/site-packages/tensorflow/lite/python/interpreter.py\", line 117, in __del__\n",
      "    if self._library is not None:\n",
      "AttributeError: 'Delegate' object has no attribute '_library'\n",
      "Exception ignored in: <function Delegate.__del__ at 0x70ad48ecab90>\n",
      "Traceback (most recent call last):\n",
      "  File \"/home/pmedur/strojnoUcenje/env/lib/python3.10/site-packages/tensorflow/lite/python/interpreter.py\", line 117, in __del__\n",
      "    if self._library is not None:\n",
      "AttributeError: 'Delegate' object has no attribute '_library'\n"
     ]
    },
    {
     "name": "stdout",
     "output_type": "stream",
     "text": [
      "Resource monitoring stopped\n",
      "[CPU (GPU failed)] Acc: 60.60%, Energy: 0.009712Wh, Size: 613.8KB\n",
      "  Fold 10...     GPU delegate failed: gpu: cannot open shared object file: No such file or directory\n",
      "    Falling back to CPU\n",
      "GPU monitoring initialized: 1 device(s) found\n",
      "CPU energy monitoring (RAPL) initialized: 1 domain(s) found\n",
      "  - package-0 (intel-rapl:0)\n",
      "Resource monitoring started\n"
     ]
    },
    {
     "name": "stderr",
     "output_type": "stream",
     "text": [
      "Exception ignored in: <function Delegate.__del__ at 0x70ad48ecab90>\n",
      "Traceback (most recent call last):\n",
      "  File \"/home/pmedur/strojnoUcenje/env/lib/python3.10/site-packages/tensorflow/lite/python/interpreter.py\", line 117, in __del__\n",
      "    if self._library is not None:\n",
      "AttributeError: 'Delegate' object has no attribute '_library'\n",
      "Exception ignored in: <function Delegate.__del__ at 0x70ad48ecab90>\n",
      "Traceback (most recent call last):\n",
      "  File \"/home/pmedur/strojnoUcenje/env/lib/python3.10/site-packages/tensorflow/lite/python/interpreter.py\", line 117, in __del__\n",
      "    if self._library is not None:\n",
      "AttributeError: 'Delegate' object has no attribute '_library'\n"
     ]
    },
    {
     "name": "stdout",
     "output_type": "stream",
     "text": [
      "Resource monitoring stopped\n",
      "[CPU (GPU failed)] Acc: 59.24%, Energy: 0.009327Wh, Size: 613.8KB\n",
      "\n",
      "model_3:\n",
      "  Fold 1...     GPU delegate failed: gpu: cannot open shared object file: No such file or directory\n",
      "    Falling back to CPU\n",
      "GPU monitoring initialized: 1 device(s) found\n",
      "CPU energy monitoring (RAPL) initialized: 1 domain(s) found\n",
      "  - package-0 (intel-rapl:0)\n",
      "Resource monitoring started\n"
     ]
    },
    {
     "name": "stderr",
     "output_type": "stream",
     "text": [
      "Exception ignored in: <function Delegate.__del__ at 0x70ad48ecab90>\n",
      "Traceback (most recent call last):\n",
      "  File \"/home/pmedur/strojnoUcenje/env/lib/python3.10/site-packages/tensorflow/lite/python/interpreter.py\", line 117, in __del__\n",
      "    if self._library is not None:\n",
      "AttributeError: 'Delegate' object has no attribute '_library'\n",
      "Exception ignored in: <function Delegate.__del__ at 0x70ad48ecab90>\n",
      "Traceback (most recent call last):\n",
      "  File \"/home/pmedur/strojnoUcenje/env/lib/python3.10/site-packages/tensorflow/lite/python/interpreter.py\", line 117, in __del__\n",
      "    if self._library is not None:\n",
      "AttributeError: 'Delegate' object has no attribute '_library'\n"
     ]
    },
    {
     "name": "stdout",
     "output_type": "stream",
     "text": [
      "Resource monitoring stopped\n",
      "[CPU (GPU failed)] Acc: 80.40%, Energy: 0.014368Wh, Size: 617.8KB\n",
      "  Fold 2...     GPU delegate failed: gpu: cannot open shared object file: No such file or directory\n",
      "    Falling back to CPU\n",
      "GPU monitoring initialized: 1 device(s) found\n",
      "CPU energy monitoring (RAPL) initialized: 1 domain(s) found\n",
      "  - package-0 (intel-rapl:0)\n",
      "Resource monitoring started\n"
     ]
    },
    {
     "name": "stderr",
     "output_type": "stream",
     "text": [
      "Exception ignored in: <function Delegate.__del__ at 0x70ad48ecab90>\n",
      "Traceback (most recent call last):\n",
      "  File \"/home/pmedur/strojnoUcenje/env/lib/python3.10/site-packages/tensorflow/lite/python/interpreter.py\", line 117, in __del__\n",
      "    if self._library is not None:\n",
      "AttributeError: 'Delegate' object has no attribute '_library'\n",
      "Exception ignored in: <function Delegate.__del__ at 0x70ad48ecab90>\n",
      "Traceback (most recent call last):\n",
      "  File \"/home/pmedur/strojnoUcenje/env/lib/python3.10/site-packages/tensorflow/lite/python/interpreter.py\", line 117, in __del__\n",
      "    if self._library is not None:\n",
      "AttributeError: 'Delegate' object has no attribute '_library'\n"
     ]
    },
    {
     "name": "stdout",
     "output_type": "stream",
     "text": [
      "Resource monitoring stopped\n",
      "[CPU (GPU failed)] Acc: 81.01%, Energy: 0.011899Wh, Size: 617.8KB\n",
      "  Fold 3...     GPU delegate failed: gpu: cannot open shared object file: No such file or directory\n",
      "    Falling back to CPU\n",
      "GPU monitoring initialized: 1 device(s) found\n",
      "CPU energy monitoring (RAPL) initialized: 1 domain(s) found\n",
      "  - package-0 (intel-rapl:0)\n",
      "Resource monitoring started\n"
     ]
    },
    {
     "name": "stderr",
     "output_type": "stream",
     "text": [
      "Exception ignored in: <function Delegate.__del__ at 0x70ad48ecab90>\n",
      "Traceback (most recent call last):\n",
      "  File \"/home/pmedur/strojnoUcenje/env/lib/python3.10/site-packages/tensorflow/lite/python/interpreter.py\", line 117, in __del__\n",
      "    if self._library is not None:\n",
      "AttributeError: 'Delegate' object has no attribute '_library'\n",
      "Exception ignored in: <function Delegate.__del__ at 0x70ad48ecab90>\n",
      "Traceback (most recent call last):\n",
      "  File \"/home/pmedur/strojnoUcenje/env/lib/python3.10/site-packages/tensorflow/lite/python/interpreter.py\", line 117, in __del__\n",
      "    if self._library is not None:\n",
      "AttributeError: 'Delegate' object has no attribute '_library'\n"
     ]
    },
    {
     "name": "stdout",
     "output_type": "stream",
     "text": [
      "Resource monitoring stopped\n",
      "[CPU (GPU failed)] Acc: 81.89%, Energy: 0.012038Wh, Size: 617.8KB\n",
      "  Fold 4...     GPU delegate failed: gpu: cannot open shared object file: No such file or directory\n",
      "    Falling back to CPU\n",
      "GPU monitoring initialized: 1 device(s) found\n",
      "CPU energy monitoring (RAPL) initialized: 1 domain(s) found\n",
      "  - package-0 (intel-rapl:0)\n",
      "Resource monitoring started\n"
     ]
    },
    {
     "name": "stderr",
     "output_type": "stream",
     "text": [
      "Exception ignored in: <function Delegate.__del__ at 0x70ad48ecab90>\n",
      "Traceback (most recent call last):\n",
      "  File \"/home/pmedur/strojnoUcenje/env/lib/python3.10/site-packages/tensorflow/lite/python/interpreter.py\", line 117, in __del__\n",
      "    if self._library is not None:\n",
      "AttributeError: 'Delegate' object has no attribute '_library'\n",
      "Exception ignored in: <function Delegate.__del__ at 0x70ad48ecab90>\n",
      "Traceback (most recent call last):\n",
      "  File \"/home/pmedur/strojnoUcenje/env/lib/python3.10/site-packages/tensorflow/lite/python/interpreter.py\", line 117, in __del__\n",
      "    if self._library is not None:\n",
      "AttributeError: 'Delegate' object has no attribute '_library'\n"
     ]
    },
    {
     "name": "stdout",
     "output_type": "stream",
     "text": [
      "Resource monitoring stopped\n",
      "[CPU (GPU failed)] Acc: 80.61%, Energy: 0.015366Wh, Size: 617.8KB\n",
      "  Fold 5...     GPU delegate failed: gpu: cannot open shared object file: No such file or directory\n",
      "    Falling back to CPU\n",
      "GPU monitoring initialized: 1 device(s) found\n",
      "CPU energy monitoring (RAPL) initialized: 1 domain(s) found\n",
      "  - package-0 (intel-rapl:0)\n",
      "Resource monitoring started\n"
     ]
    },
    {
     "name": "stderr",
     "output_type": "stream",
     "text": [
      "Exception ignored in: <function Delegate.__del__ at 0x70ad48ecab90>\n",
      "Traceback (most recent call last):\n",
      "  File \"/home/pmedur/strojnoUcenje/env/lib/python3.10/site-packages/tensorflow/lite/python/interpreter.py\", line 117, in __del__\n",
      "    if self._library is not None:\n",
      "AttributeError: 'Delegate' object has no attribute '_library'\n",
      "Exception ignored in: <function Delegate.__del__ at 0x70ad48ecab90>\n",
      "Traceback (most recent call last):\n",
      "  File \"/home/pmedur/strojnoUcenje/env/lib/python3.10/site-packages/tensorflow/lite/python/interpreter.py\", line 117, in __del__\n",
      "    if self._library is not None:\n",
      "AttributeError: 'Delegate' object has no attribute '_library'\n"
     ]
    },
    {
     "name": "stdout",
     "output_type": "stream",
     "text": [
      "Resource monitoring stopped\n",
      "[CPU (GPU failed)] Acc: 80.42%, Energy: 0.015249Wh, Size: 617.8KB\n",
      "  Fold 6...     GPU delegate failed: gpu: cannot open shared object file: No such file or directory\n",
      "    Falling back to CPU\n",
      "GPU monitoring initialized: 1 device(s) found\n",
      "CPU energy monitoring (RAPL) initialized: 1 domain(s) found\n",
      "  - package-0 (intel-rapl:0)\n",
      "Resource monitoring started\n"
     ]
    },
    {
     "name": "stderr",
     "output_type": "stream",
     "text": [
      "Exception ignored in: <function Delegate.__del__ at 0x70ad48ecab90>\n",
      "Traceback (most recent call last):\n",
      "  File \"/home/pmedur/strojnoUcenje/env/lib/python3.10/site-packages/tensorflow/lite/python/interpreter.py\", line 117, in __del__\n",
      "    if self._library is not None:\n",
      "AttributeError: 'Delegate' object has no attribute '_library'\n",
      "Exception ignored in: <function Delegate.__del__ at 0x70ad48ecab90>\n",
      "Traceback (most recent call last):\n",
      "  File \"/home/pmedur/strojnoUcenje/env/lib/python3.10/site-packages/tensorflow/lite/python/interpreter.py\", line 117, in __del__\n",
      "    if self._library is not None:\n",
      "AttributeError: 'Delegate' object has no attribute '_library'\n"
     ]
    },
    {
     "name": "stdout",
     "output_type": "stream",
     "text": [
      "Resource monitoring stopped\n",
      "[CPU (GPU failed)] Acc: 82.04%, Energy: 0.014384Wh, Size: 617.8KB\n",
      "  Fold 7...     GPU delegate failed: gpu: cannot open shared object file: No such file or directory\n",
      "    Falling back to CPU\n",
      "GPU monitoring initialized: 1 device(s) found\n",
      "CPU energy monitoring (RAPL) initialized: 1 domain(s) found\n",
      "  - package-0 (intel-rapl:0)\n",
      "Resource monitoring started\n"
     ]
    },
    {
     "name": "stderr",
     "output_type": "stream",
     "text": [
      "Exception ignored in: <function Delegate.__del__ at 0x70ad48ecab90>\n",
      "Traceback (most recent call last):\n",
      "  File \"/home/pmedur/strojnoUcenje/env/lib/python3.10/site-packages/tensorflow/lite/python/interpreter.py\", line 117, in __del__\n",
      "    if self._library is not None:\n",
      "AttributeError: 'Delegate' object has no attribute '_library'\n",
      "Exception ignored in: <function Delegate.__del__ at 0x70ad48ecab90>\n",
      "Traceback (most recent call last):\n",
      "  File \"/home/pmedur/strojnoUcenje/env/lib/python3.10/site-packages/tensorflow/lite/python/interpreter.py\", line 117, in __del__\n",
      "    if self._library is not None:\n",
      "AttributeError: 'Delegate' object has no attribute '_library'\n"
     ]
    },
    {
     "name": "stdout",
     "output_type": "stream",
     "text": [
      "Resource monitoring stopped\n",
      "[CPU (GPU failed)] Acc: 81.34%, Energy: 0.014154Wh, Size: 617.8KB\n",
      "  Fold 8...     GPU delegate failed: gpu: cannot open shared object file: No such file or directory\n",
      "    Falling back to CPU\n",
      "GPU monitoring initialized: 1 device(s) found\n",
      "CPU energy monitoring (RAPL) initialized: 1 domain(s) found\n",
      "  - package-0 (intel-rapl:0)\n",
      "Resource monitoring started\n"
     ]
    },
    {
     "name": "stderr",
     "output_type": "stream",
     "text": [
      "Exception ignored in: <function Delegate.__del__ at 0x70ad48ecab90>\n",
      "Traceback (most recent call last):\n",
      "  File \"/home/pmedur/strojnoUcenje/env/lib/python3.10/site-packages/tensorflow/lite/python/interpreter.py\", line 117, in __del__\n",
      "    if self._library is not None:\n",
      "AttributeError: 'Delegate' object has no attribute '_library'\n",
      "Exception ignored in: <function Delegate.__del__ at 0x70ad48ecab90>\n",
      "Traceback (most recent call last):\n",
      "  File \"/home/pmedur/strojnoUcenje/env/lib/python3.10/site-packages/tensorflow/lite/python/interpreter.py\", line 117, in __del__\n",
      "    if self._library is not None:\n",
      "AttributeError: 'Delegate' object has no attribute '_library'\n"
     ]
    },
    {
     "name": "stdout",
     "output_type": "stream",
     "text": [
      "Resource monitoring stopped\n",
      "[CPU (GPU failed)] Acc: 79.83%, Energy: 0.013950Wh, Size: 617.8KB\n",
      "  Fold 9...     GPU delegate failed: gpu: cannot open shared object file: No such file or directory\n",
      "    Falling back to CPU\n",
      "GPU monitoring initialized: 1 device(s) found\n",
      "CPU energy monitoring (RAPL) initialized: 1 domain(s) found\n",
      "  - package-0 (intel-rapl:0)\n",
      "Resource monitoring started\n"
     ]
    },
    {
     "name": "stderr",
     "output_type": "stream",
     "text": [
      "Exception ignored in: <function Delegate.__del__ at 0x70ad48ecab90>\n",
      "Traceback (most recent call last):\n",
      "  File \"/home/pmedur/strojnoUcenje/env/lib/python3.10/site-packages/tensorflow/lite/python/interpreter.py\", line 117, in __del__\n",
      "    if self._library is not None:\n",
      "AttributeError: 'Delegate' object has no attribute '_library'\n",
      "Exception ignored in: <function Delegate.__del__ at 0x70ad48ecab90>\n",
      "Traceback (most recent call last):\n",
      "  File \"/home/pmedur/strojnoUcenje/env/lib/python3.10/site-packages/tensorflow/lite/python/interpreter.py\", line 117, in __del__\n",
      "    if self._library is not None:\n",
      "AttributeError: 'Delegate' object has no attribute '_library'\n"
     ]
    },
    {
     "name": "stdout",
     "output_type": "stream",
     "text": [
      "Resource monitoring stopped\n",
      "[CPU (GPU failed)] Acc: 81.94%, Energy: 0.013391Wh, Size: 617.8KB\n",
      "  Fold 10...     GPU delegate failed: gpu: cannot open shared object file: No such file or directory\n",
      "    Falling back to CPU\n",
      "GPU monitoring initialized: 1 device(s) found\n",
      "CPU energy monitoring (RAPL) initialized: 1 domain(s) found\n",
      "  - package-0 (intel-rapl:0)\n",
      "Resource monitoring started\n"
     ]
    },
    {
     "name": "stderr",
     "output_type": "stream",
     "text": [
      "Exception ignored in: <function Delegate.__del__ at 0x70ad48ecab90>\n",
      "Traceback (most recent call last):\n",
      "  File \"/home/pmedur/strojnoUcenje/env/lib/python3.10/site-packages/tensorflow/lite/python/interpreter.py\", line 117, in __del__\n",
      "    if self._library is not None:\n",
      "AttributeError: 'Delegate' object has no attribute '_library'\n",
      "Exception ignored in: <function Delegate.__del__ at 0x70ad48ecab90>\n",
      "Traceback (most recent call last):\n",
      "  File \"/home/pmedur/strojnoUcenje/env/lib/python3.10/site-packages/tensorflow/lite/python/interpreter.py\", line 117, in __del__\n",
      "    if self._library is not None:\n",
      "AttributeError: 'Delegate' object has no attribute '_library'\n"
     ]
    },
    {
     "name": "stdout",
     "output_type": "stream",
     "text": [
      "Resource monitoring stopped\n",
      "[CPU (GPU failed)] Acc: 81.54%, Energy: 0.012277Wh, Size: 617.8KB\n",
      "\n",
      "model_4:\n",
      "  Fold 1...     GPU delegate failed: gpu: cannot open shared object file: No such file or directory\n",
      "    Falling back to CPU\n",
      "GPU monitoring initialized: 1 device(s) found\n",
      "CPU energy monitoring (RAPL) initialized: 1 domain(s) found\n",
      "  - package-0 (intel-rapl:0)\n",
      "Resource monitoring started\n"
     ]
    },
    {
     "name": "stderr",
     "output_type": "stream",
     "text": [
      "Exception ignored in: <function Delegate.__del__ at 0x70ad48ecab90>\n",
      "Traceback (most recent call last):\n",
      "  File \"/home/pmedur/strojnoUcenje/env/lib/python3.10/site-packages/tensorflow/lite/python/interpreter.py\", line 117, in __del__\n",
      "    if self._library is not None:\n",
      "AttributeError: 'Delegate' object has no attribute '_library'\n",
      "Exception ignored in: <function Delegate.__del__ at 0x70ad48ecab90>\n",
      "Traceback (most recent call last):\n",
      "  File \"/home/pmedur/strojnoUcenje/env/lib/python3.10/site-packages/tensorflow/lite/python/interpreter.py\", line 117, in __del__\n",
      "    if self._library is not None:\n",
      "AttributeError: 'Delegate' object has no attribute '_library'\n"
     ]
    },
    {
     "name": "stdout",
     "output_type": "stream",
     "text": [
      "Resource monitoring stopped\n",
      "[CPU (GPU failed)] Acc: 63.65%, Energy: 0.011679Wh, Size: 2423.7KB\n",
      "  Fold 2...     GPU delegate failed: gpu: cannot open shared object file: No such file or directory\n",
      "    Falling back to CPU\n",
      "GPU monitoring initialized: 1 device(s) found\n",
      "CPU energy monitoring (RAPL) initialized: 1 domain(s) found\n",
      "  - package-0 (intel-rapl:0)\n",
      "Resource monitoring started\n"
     ]
    },
    {
     "name": "stderr",
     "output_type": "stream",
     "text": [
      "Exception ignored in: <function Delegate.__del__ at 0x70ad48ecab90>\n",
      "Traceback (most recent call last):\n",
      "  File \"/home/pmedur/strojnoUcenje/env/lib/python3.10/site-packages/tensorflow/lite/python/interpreter.py\", line 117, in __del__\n",
      "    if self._library is not None:\n",
      "AttributeError: 'Delegate' object has no attribute '_library'\n",
      "Exception ignored in: <function Delegate.__del__ at 0x70ad48ecab90>\n",
      "Traceback (most recent call last):\n",
      "  File \"/home/pmedur/strojnoUcenje/env/lib/python3.10/site-packages/tensorflow/lite/python/interpreter.py\", line 117, in __del__\n",
      "    if self._library is not None:\n",
      "AttributeError: 'Delegate' object has no attribute '_library'\n"
     ]
    },
    {
     "name": "stdout",
     "output_type": "stream",
     "text": [
      "Resource monitoring stopped\n",
      "[CPU (GPU failed)] Acc: 63.33%, Energy: 0.011966Wh, Size: 2423.7KB\n",
      "  Fold 3...     GPU delegate failed: gpu: cannot open shared object file: No such file or directory\n",
      "    Falling back to CPU\n",
      "GPU monitoring initialized: 1 device(s) found\n",
      "CPU energy monitoring (RAPL) initialized: 1 domain(s) found\n",
      "  - package-0 (intel-rapl:0)\n",
      "Resource monitoring started\n"
     ]
    },
    {
     "name": "stderr",
     "output_type": "stream",
     "text": [
      "Exception ignored in: <function Delegate.__del__ at 0x70ad48ecab90>\n",
      "Traceback (most recent call last):\n",
      "  File \"/home/pmedur/strojnoUcenje/env/lib/python3.10/site-packages/tensorflow/lite/python/interpreter.py\", line 117, in __del__\n",
      "    if self._library is not None:\n",
      "AttributeError: 'Delegate' object has no attribute '_library'\n",
      "Exception ignored in: <function Delegate.__del__ at 0x70ad48ecab90>\n",
      "Traceback (most recent call last):\n",
      "  File \"/home/pmedur/strojnoUcenje/env/lib/python3.10/site-packages/tensorflow/lite/python/interpreter.py\", line 117, in __del__\n",
      "    if self._library is not None:\n",
      "AttributeError: 'Delegate' object has no attribute '_library'\n"
     ]
    },
    {
     "name": "stdout",
     "output_type": "stream",
     "text": [
      "Resource monitoring stopped\n",
      "[CPU (GPU failed)] Acc: 64.52%, Energy: 0.012470Wh, Size: 2423.7KB\n",
      "  Fold 4...     GPU delegate failed: gpu: cannot open shared object file: No such file or directory\n",
      "    Falling back to CPU\n",
      "GPU monitoring initialized: 1 device(s) found\n",
      "CPU energy monitoring (RAPL) initialized: 1 domain(s) found\n",
      "  - package-0 (intel-rapl:0)\n",
      "Resource monitoring started\n"
     ]
    },
    {
     "name": "stderr",
     "output_type": "stream",
     "text": [
      "Exception ignored in: <function Delegate.__del__ at 0x70ad48ecab90>\n",
      "Traceback (most recent call last):\n",
      "  File \"/home/pmedur/strojnoUcenje/env/lib/python3.10/site-packages/tensorflow/lite/python/interpreter.py\", line 117, in __del__\n",
      "    if self._library is not None:\n",
      "AttributeError: 'Delegate' object has no attribute '_library'\n",
      "Exception ignored in: <function Delegate.__del__ at 0x70ad48ecab90>\n",
      "Traceback (most recent call last):\n",
      "  File \"/home/pmedur/strojnoUcenje/env/lib/python3.10/site-packages/tensorflow/lite/python/interpreter.py\", line 117, in __del__\n",
      "    if self._library is not None:\n",
      "AttributeError: 'Delegate' object has no attribute '_library'\n"
     ]
    },
    {
     "name": "stdout",
     "output_type": "stream",
     "text": [
      "Resource monitoring stopped\n",
      "[CPU (GPU failed)] Acc: 66.86%, Energy: 0.012479Wh, Size: 2423.7KB\n",
      "  Fold 5...     GPU delegate failed: gpu: cannot open shared object file: No such file or directory\n",
      "    Falling back to CPU\n",
      "GPU monitoring initialized: 1 device(s) found\n",
      "CPU energy monitoring (RAPL) initialized: 1 domain(s) found\n",
      "  - package-0 (intel-rapl:0)\n",
      "Resource monitoring started\n"
     ]
    },
    {
     "name": "stderr",
     "output_type": "stream",
     "text": [
      "Exception ignored in: <function Delegate.__del__ at 0x70ad48ecab90>\n",
      "Traceback (most recent call last):\n",
      "  File \"/home/pmedur/strojnoUcenje/env/lib/python3.10/site-packages/tensorflow/lite/python/interpreter.py\", line 117, in __del__\n",
      "    if self._library is not None:\n",
      "AttributeError: 'Delegate' object has no attribute '_library'\n",
      "Exception ignored in: <function Delegate.__del__ at 0x70ad48ecab90>\n",
      "Traceback (most recent call last):\n",
      "  File \"/home/pmedur/strojnoUcenje/env/lib/python3.10/site-packages/tensorflow/lite/python/interpreter.py\", line 117, in __del__\n",
      "    if self._library is not None:\n",
      "AttributeError: 'Delegate' object has no attribute '_library'\n"
     ]
    },
    {
     "name": "stdout",
     "output_type": "stream",
     "text": [
      "Resource monitoring stopped\n",
      "[CPU (GPU failed)] Acc: 66.11%, Energy: 0.012633Wh, Size: 2423.7KB\n",
      "  Fold 6...     GPU delegate failed: gpu: cannot open shared object file: No such file or directory\n",
      "    Falling back to CPU\n",
      "GPU monitoring initialized: 1 device(s) found\n",
      "CPU energy monitoring (RAPL) initialized: 1 domain(s) found\n",
      "  - package-0 (intel-rapl:0)\n",
      "Resource monitoring started\n"
     ]
    },
    {
     "name": "stderr",
     "output_type": "stream",
     "text": [
      "Exception ignored in: <function Delegate.__del__ at 0x70ad48ecab90>\n",
      "Traceback (most recent call last):\n",
      "  File \"/home/pmedur/strojnoUcenje/env/lib/python3.10/site-packages/tensorflow/lite/python/interpreter.py\", line 117, in __del__\n",
      "    if self._library is not None:\n",
      "AttributeError: 'Delegate' object has no attribute '_library'\n",
      "Exception ignored in: <function Delegate.__del__ at 0x70ad48ecab90>\n",
      "Traceback (most recent call last):\n",
      "  File \"/home/pmedur/strojnoUcenje/env/lib/python3.10/site-packages/tensorflow/lite/python/interpreter.py\", line 117, in __del__\n",
      "    if self._library is not None:\n",
      "AttributeError: 'Delegate' object has no attribute '_library'\n"
     ]
    },
    {
     "name": "stdout",
     "output_type": "stream",
     "text": [
      "Resource monitoring stopped\n",
      "[CPU (GPU failed)] Acc: 66.68%, Energy: 0.012448Wh, Size: 2423.7KB\n",
      "  Fold 7...     GPU delegate failed: gpu: cannot open shared object file: No such file or directory\n",
      "    Falling back to CPU\n",
      "GPU monitoring initialized: 1 device(s) found\n",
      "CPU energy monitoring (RAPL) initialized: 1 domain(s) found\n",
      "  - package-0 (intel-rapl:0)\n",
      "Resource monitoring started\n"
     ]
    },
    {
     "name": "stderr",
     "output_type": "stream",
     "text": [
      "Exception ignored in: <function Delegate.__del__ at 0x70ad48ecab90>\n",
      "Traceback (most recent call last):\n",
      "  File \"/home/pmedur/strojnoUcenje/env/lib/python3.10/site-packages/tensorflow/lite/python/interpreter.py\", line 117, in __del__\n",
      "    if self._library is not None:\n",
      "AttributeError: 'Delegate' object has no attribute '_library'\n",
      "Exception ignored in: <function Delegate.__del__ at 0x70ad48ecab90>\n",
      "Traceback (most recent call last):\n",
      "  File \"/home/pmedur/strojnoUcenje/env/lib/python3.10/site-packages/tensorflow/lite/python/interpreter.py\", line 117, in __del__\n",
      "    if self._library is not None:\n",
      "AttributeError: 'Delegate' object has no attribute '_library'\n"
     ]
    },
    {
     "name": "stdout",
     "output_type": "stream",
     "text": [
      "Resource monitoring stopped\n",
      "[CPU (GPU failed)] Acc: 63.52%, Energy: 0.012846Wh, Size: 2423.7KB\n",
      "  Fold 8...     GPU delegate failed: gpu: cannot open shared object file: No such file or directory\n",
      "    Falling back to CPU\n",
      "GPU monitoring initialized: 1 device(s) found\n",
      "CPU energy monitoring (RAPL) initialized: 1 domain(s) found\n",
      "  - package-0 (intel-rapl:0)\n",
      "Resource monitoring started\n"
     ]
    },
    {
     "name": "stderr",
     "output_type": "stream",
     "text": [
      "Exception ignored in: <function Delegate.__del__ at 0x70ad48ecab90>\n",
      "Traceback (most recent call last):\n",
      "  File \"/home/pmedur/strojnoUcenje/env/lib/python3.10/site-packages/tensorflow/lite/python/interpreter.py\", line 117, in __del__\n",
      "    if self._library is not None:\n",
      "AttributeError: 'Delegate' object has no attribute '_library'\n",
      "Exception ignored in: <function Delegate.__del__ at 0x70ad48ecab90>\n",
      "Traceback (most recent call last):\n",
      "  File \"/home/pmedur/strojnoUcenje/env/lib/python3.10/site-packages/tensorflow/lite/python/interpreter.py\", line 117, in __del__\n",
      "    if self._library is not None:\n",
      "AttributeError: 'Delegate' object has no attribute '_library'\n"
     ]
    },
    {
     "name": "stdout",
     "output_type": "stream",
     "text": [
      "Resource monitoring stopped\n",
      "[CPU (GPU failed)] Acc: 64.20%, Energy: 0.012332Wh, Size: 2423.7KB\n",
      "  Fold 9...     GPU delegate failed: gpu: cannot open shared object file: No such file or directory\n",
      "    Falling back to CPU\n",
      "GPU monitoring initialized: 1 device(s) found\n",
      "CPU energy monitoring (RAPL) initialized: 1 domain(s) found\n",
      "  - package-0 (intel-rapl:0)\n",
      "Resource monitoring started\n"
     ]
    },
    {
     "name": "stderr",
     "output_type": "stream",
     "text": [
      "Exception ignored in: <function Delegate.__del__ at 0x70ad48ecab90>\n",
      "Traceback (most recent call last):\n",
      "  File \"/home/pmedur/strojnoUcenje/env/lib/python3.10/site-packages/tensorflow/lite/python/interpreter.py\", line 117, in __del__\n",
      "    if self._library is not None:\n",
      "AttributeError: 'Delegate' object has no attribute '_library'\n",
      "Exception ignored in: <function Delegate.__del__ at 0x70ad48ecab90>\n",
      "Traceback (most recent call last):\n",
      "  File \"/home/pmedur/strojnoUcenje/env/lib/python3.10/site-packages/tensorflow/lite/python/interpreter.py\", line 117, in __del__\n",
      "    if self._library is not None:\n",
      "AttributeError: 'Delegate' object has no attribute '_library'\n"
     ]
    },
    {
     "name": "stdout",
     "output_type": "stream",
     "text": [
      "Resource monitoring stopped\n",
      "[CPU (GPU failed)] Acc: 64.76%, Energy: 0.013226Wh, Size: 2423.7KB\n",
      "  Fold 10...     GPU delegate failed: gpu: cannot open shared object file: No such file or directory\n",
      "    Falling back to CPU\n",
      "GPU monitoring initialized: 1 device(s) found\n",
      "CPU energy monitoring (RAPL) initialized: 1 domain(s) found\n",
      "  - package-0 (intel-rapl:0)\n",
      "Resource monitoring started\n"
     ]
    },
    {
     "name": "stderr",
     "output_type": "stream",
     "text": [
      "Exception ignored in: <function Delegate.__del__ at 0x70ad48ecab90>\n",
      "Traceback (most recent call last):\n",
      "  File \"/home/pmedur/strojnoUcenje/env/lib/python3.10/site-packages/tensorflow/lite/python/interpreter.py\", line 117, in __del__\n",
      "    if self._library is not None:\n",
      "AttributeError: 'Delegate' object has no attribute '_library'\n",
      "Exception ignored in: <function Delegate.__del__ at 0x70ad48ecab90>\n",
      "Traceback (most recent call last):\n",
      "  File \"/home/pmedur/strojnoUcenje/env/lib/python3.10/site-packages/tensorflow/lite/python/interpreter.py\", line 117, in __del__\n",
      "    if self._library is not None:\n",
      "AttributeError: 'Delegate' object has no attribute '_library'\n"
     ]
    },
    {
     "name": "stdout",
     "output_type": "stream",
     "text": [
      "Resource monitoring stopped\n",
      "[CPU (GPU failed)] Acc: 60.91%, Energy: 0.011595Wh, Size: 2423.7KB\n",
      "\n",
      "model_5:\n",
      "  Fold 1...     GPU delegate failed: gpu: cannot open shared object file: No such file or directory\n",
      "    Falling back to CPU\n",
      "GPU monitoring initialized: 1 device(s) found\n",
      "CPU energy monitoring (RAPL) initialized: 1 domain(s) found\n",
      "  - package-0 (intel-rapl:0)\n",
      "Resource monitoring started\n"
     ]
    },
    {
     "name": "stderr",
     "output_type": "stream",
     "text": [
      "Exception ignored in: <function Delegate.__del__ at 0x70ad48ecab90>\n",
      "Traceback (most recent call last):\n",
      "  File \"/home/pmedur/strojnoUcenje/env/lib/python3.10/site-packages/tensorflow/lite/python/interpreter.py\", line 117, in __del__\n",
      "    if self._library is not None:\n",
      "AttributeError: 'Delegate' object has no attribute '_library'\n",
      "Exception ignored in: <function Delegate.__del__ at 0x70ad48ecab90>\n",
      "Traceback (most recent call last):\n",
      "  File \"/home/pmedur/strojnoUcenje/env/lib/python3.10/site-packages/tensorflow/lite/python/interpreter.py\", line 117, in __del__\n",
      "    if self._library is not None:\n",
      "AttributeError: 'Delegate' object has no attribute '_library'\n"
     ]
    },
    {
     "name": "stdout",
     "output_type": "stream",
     "text": [
      "Resource monitoring stopped\n",
      "[CPU (GPU failed)] Acc: 78.86%, Energy: 0.012117Wh, Size: 320.6KB\n",
      "  Fold 2...     GPU delegate failed: gpu: cannot open shared object file: No such file or directory\n",
      "    Falling back to CPU\n",
      "GPU monitoring initialized: 1 device(s) found\n",
      "CPU energy monitoring (RAPL) initialized: 1 domain(s) found\n",
      "  - package-0 (intel-rapl:0)\n",
      "Resource monitoring started\n"
     ]
    },
    {
     "name": "stderr",
     "output_type": "stream",
     "text": [
      "Exception ignored in: <function Delegate.__del__ at 0x70ad48ecab90>\n",
      "Traceback (most recent call last):\n",
      "  File \"/home/pmedur/strojnoUcenje/env/lib/python3.10/site-packages/tensorflow/lite/python/interpreter.py\", line 117, in __del__\n",
      "    if self._library is not None:\n",
      "AttributeError: 'Delegate' object has no attribute '_library'\n",
      "Exception ignored in: <function Delegate.__del__ at 0x70ad48ecab90>\n",
      "Traceback (most recent call last):\n",
      "  File \"/home/pmedur/strojnoUcenje/env/lib/python3.10/site-packages/tensorflow/lite/python/interpreter.py\", line 117, in __del__\n",
      "    if self._library is not None:\n",
      "AttributeError: 'Delegate' object has no attribute '_library'\n"
     ]
    },
    {
     "name": "stdout",
     "output_type": "stream",
     "text": [
      "Resource monitoring stopped\n",
      "[CPU (GPU failed)] Acc: 78.10%, Energy: 0.011905Wh, Size: 320.6KB\n",
      "  Fold 3...     GPU delegate failed: gpu: cannot open shared object file: No such file or directory\n",
      "    Falling back to CPU\n",
      "GPU monitoring initialized: 1 device(s) found\n",
      "CPU energy monitoring (RAPL) initialized: 1 domain(s) found\n",
      "  - package-0 (intel-rapl:0)\n",
      "Resource monitoring started\n"
     ]
    },
    {
     "name": "stderr",
     "output_type": "stream",
     "text": [
      "Exception ignored in: <function Delegate.__del__ at 0x70ad48ecab90>\n",
      "Traceback (most recent call last):\n",
      "  File \"/home/pmedur/strojnoUcenje/env/lib/python3.10/site-packages/tensorflow/lite/python/interpreter.py\", line 117, in __del__\n",
      "    if self._library is not None:\n",
      "AttributeError: 'Delegate' object has no attribute '_library'\n",
      "Exception ignored in: <function Delegate.__del__ at 0x70ad48ecab90>\n",
      "Traceback (most recent call last):\n",
      "  File \"/home/pmedur/strojnoUcenje/env/lib/python3.10/site-packages/tensorflow/lite/python/interpreter.py\", line 117, in __del__\n",
      "    if self._library is not None:\n",
      "AttributeError: 'Delegate' object has no attribute '_library'\n"
     ]
    },
    {
     "name": "stdout",
     "output_type": "stream",
     "text": [
      "Resource monitoring stopped\n",
      "[CPU (GPU failed)] Acc: 78.12%, Energy: 0.012168Wh, Size: 320.6KB\n",
      "  Fold 4...     GPU delegate failed: gpu: cannot open shared object file: No such file or directory\n",
      "    Falling back to CPU\n",
      "GPU monitoring initialized: 1 device(s) found\n",
      "CPU energy monitoring (RAPL) initialized: 1 domain(s) found\n",
      "  - package-0 (intel-rapl:0)\n",
      "Resource monitoring started\n"
     ]
    },
    {
     "name": "stderr",
     "output_type": "stream",
     "text": [
      "Exception ignored in: <function Delegate.__del__ at 0x70ad48ecab90>\n",
      "Traceback (most recent call last):\n",
      "  File \"/home/pmedur/strojnoUcenje/env/lib/python3.10/site-packages/tensorflow/lite/python/interpreter.py\", line 117, in __del__\n",
      "    if self._library is not None:\n",
      "AttributeError: 'Delegate' object has no attribute '_library'\n",
      "Exception ignored in: <function Delegate.__del__ at 0x70ad48ecab90>\n",
      "Traceback (most recent call last):\n",
      "  File \"/home/pmedur/strojnoUcenje/env/lib/python3.10/site-packages/tensorflow/lite/python/interpreter.py\", line 117, in __del__\n",
      "    if self._library is not None:\n",
      "AttributeError: 'Delegate' object has no attribute '_library'\n"
     ]
    },
    {
     "name": "stdout",
     "output_type": "stream",
     "text": [
      "Resource monitoring stopped\n",
      "[CPU (GPU failed)] Acc: 78.85%, Energy: 0.011964Wh, Size: 320.6KB\n",
      "  Fold 5...     GPU delegate failed: gpu: cannot open shared object file: No such file or directory\n",
      "    Falling back to CPU\n",
      "GPU monitoring initialized: 1 device(s) found\n",
      "CPU energy monitoring (RAPL) initialized: 1 domain(s) found\n",
      "  - package-0 (intel-rapl:0)\n",
      "Resource monitoring started\n"
     ]
    },
    {
     "name": "stderr",
     "output_type": "stream",
     "text": [
      "Exception ignored in: <function Delegate.__del__ at 0x70ad48ecab90>\n",
      "Traceback (most recent call last):\n",
      "  File \"/home/pmedur/strojnoUcenje/env/lib/python3.10/site-packages/tensorflow/lite/python/interpreter.py\", line 117, in __del__\n",
      "    if self._library is not None:\n",
      "AttributeError: 'Delegate' object has no attribute '_library'\n",
      "Exception ignored in: <function Delegate.__del__ at 0x70ad48ecab90>\n",
      "Traceback (most recent call last):\n",
      "  File \"/home/pmedur/strojnoUcenje/env/lib/python3.10/site-packages/tensorflow/lite/python/interpreter.py\", line 117, in __del__\n",
      "    if self._library is not None:\n",
      "AttributeError: 'Delegate' object has no attribute '_library'\n"
     ]
    },
    {
     "name": "stdout",
     "output_type": "stream",
     "text": [
      "Resource monitoring stopped\n",
      "[CPU (GPU failed)] Acc: 78.08%, Energy: 0.011953Wh, Size: 320.6KB\n",
      "  Fold 6...     GPU delegate failed: gpu: cannot open shared object file: No such file or directory\n",
      "    Falling back to CPU\n",
      "GPU monitoring initialized: 1 device(s) found\n",
      "CPU energy monitoring (RAPL) initialized: 1 domain(s) found\n",
      "  - package-0 (intel-rapl:0)\n",
      "Resource monitoring started\n"
     ]
    },
    {
     "name": "stderr",
     "output_type": "stream",
     "text": [
      "Exception ignored in: <function Delegate.__del__ at 0x70ad48ecab90>\n",
      "Traceback (most recent call last):\n",
      "  File \"/home/pmedur/strojnoUcenje/env/lib/python3.10/site-packages/tensorflow/lite/python/interpreter.py\", line 117, in __del__\n",
      "    if self._library is not None:\n",
      "AttributeError: 'Delegate' object has no attribute '_library'\n",
      "Exception ignored in: <function Delegate.__del__ at 0x70ad48ecab90>\n",
      "Traceback (most recent call last):\n",
      "  File \"/home/pmedur/strojnoUcenje/env/lib/python3.10/site-packages/tensorflow/lite/python/interpreter.py\", line 117, in __del__\n",
      "    if self._library is not None:\n",
      "AttributeError: 'Delegate' object has no attribute '_library'\n"
     ]
    },
    {
     "name": "stdout",
     "output_type": "stream",
     "text": [
      "Resource monitoring stopped\n",
      "[CPU (GPU failed)] Acc: 78.25%, Energy: 0.012089Wh, Size: 320.6KB\n",
      "  Fold 7...     GPU delegate failed: gpu: cannot open shared object file: No such file or directory\n",
      "    Falling back to CPU\n",
      "GPU monitoring initialized: 1 device(s) found\n",
      "CPU energy monitoring (RAPL) initialized: 1 domain(s) found\n",
      "  - package-0 (intel-rapl:0)\n",
      "Resource monitoring started\n"
     ]
    },
    {
     "name": "stderr",
     "output_type": "stream",
     "text": [
      "Exception ignored in: <function Delegate.__del__ at 0x70ad48ecab90>\n",
      "Traceback (most recent call last):\n",
      "  File \"/home/pmedur/strojnoUcenje/env/lib/python3.10/site-packages/tensorflow/lite/python/interpreter.py\", line 117, in __del__\n",
      "    if self._library is not None:\n",
      "AttributeError: 'Delegate' object has no attribute '_library'\n",
      "Exception ignored in: <function Delegate.__del__ at 0x70ad48ecab90>\n",
      "Traceback (most recent call last):\n",
      "  File \"/home/pmedur/strojnoUcenje/env/lib/python3.10/site-packages/tensorflow/lite/python/interpreter.py\", line 117, in __del__\n",
      "    if self._library is not None:\n",
      "AttributeError: 'Delegate' object has no attribute '_library'\n"
     ]
    },
    {
     "name": "stdout",
     "output_type": "stream",
     "text": [
      "Resource monitoring stopped\n",
      "[CPU (GPU failed)] Acc: 78.38%, Energy: 0.016517Wh, Size: 320.6KB\n",
      "  Fold 8...     GPU delegate failed: gpu: cannot open shared object file: No such file or directory\n",
      "    Falling back to CPU\n",
      "GPU monitoring initialized: 1 device(s) found\n",
      "CPU energy monitoring (RAPL) initialized: 1 domain(s) found\n",
      "  - package-0 (intel-rapl:0)\n",
      "Resource monitoring started\n"
     ]
    },
    {
     "name": "stderr",
     "output_type": "stream",
     "text": [
      "Exception ignored in: <function Delegate.__del__ at 0x70ad48ecab90>\n",
      "Traceback (most recent call last):\n",
      "  File \"/home/pmedur/strojnoUcenje/env/lib/python3.10/site-packages/tensorflow/lite/python/interpreter.py\", line 117, in __del__\n",
      "    if self._library is not None:\n",
      "AttributeError: 'Delegate' object has no attribute '_library'\n",
      "Exception ignored in: <function Delegate.__del__ at 0x70ad48ecab90>\n",
      "Traceback (most recent call last):\n",
      "  File \"/home/pmedur/strojnoUcenje/env/lib/python3.10/site-packages/tensorflow/lite/python/interpreter.py\", line 117, in __del__\n",
      "    if self._library is not None:\n",
      "AttributeError: 'Delegate' object has no attribute '_library'\n"
     ]
    },
    {
     "name": "stdout",
     "output_type": "stream",
     "text": [
      "Resource monitoring stopped\n",
      "[CPU (GPU failed)] Acc: 76.04%, Energy: 0.015919Wh, Size: 320.6KB\n",
      "  Fold 9...     GPU delegate failed: gpu: cannot open shared object file: No such file or directory\n",
      "    Falling back to CPU\n",
      "GPU monitoring initialized: 1 device(s) found\n",
      "CPU energy monitoring (RAPL) initialized: 1 domain(s) found\n",
      "  - package-0 (intel-rapl:0)\n",
      "Resource monitoring started\n"
     ]
    },
    {
     "name": "stderr",
     "output_type": "stream",
     "text": [
      "Exception ignored in: <function Delegate.__del__ at 0x70ad48ecab90>\n",
      "Traceback (most recent call last):\n",
      "  File \"/home/pmedur/strojnoUcenje/env/lib/python3.10/site-packages/tensorflow/lite/python/interpreter.py\", line 117, in __del__\n",
      "    if self._library is not None:\n",
      "AttributeError: 'Delegate' object has no attribute '_library'\n",
      "Exception ignored in: <function Delegate.__del__ at 0x70ad48ecab90>\n",
      "Traceback (most recent call last):\n",
      "  File \"/home/pmedur/strojnoUcenje/env/lib/python3.10/site-packages/tensorflow/lite/python/interpreter.py\", line 117, in __del__\n",
      "    if self._library is not None:\n",
      "AttributeError: 'Delegate' object has no attribute '_library'\n"
     ]
    },
    {
     "name": "stdout",
     "output_type": "stream",
     "text": [
      "Resource monitoring stopped\n",
      "[CPU (GPU failed)] Acc: 78.98%, Energy: 0.012665Wh, Size: 320.6KB\n",
      "  Fold 10...     GPU delegate failed: gpu: cannot open shared object file: No such file or directory\n",
      "    Falling back to CPU\n",
      "GPU monitoring initialized: 1 device(s) found\n",
      "CPU energy monitoring (RAPL) initialized: 1 domain(s) found\n",
      "  - package-0 (intel-rapl:0)\n",
      "Resource monitoring started\n"
     ]
    },
    {
     "name": "stderr",
     "output_type": "stream",
     "text": [
      "Exception ignored in: <function Delegate.__del__ at 0x70ad48ecab90>\n",
      "Traceback (most recent call last):\n",
      "  File \"/home/pmedur/strojnoUcenje/env/lib/python3.10/site-packages/tensorflow/lite/python/interpreter.py\", line 117, in __del__\n",
      "    if self._library is not None:\n",
      "AttributeError: 'Delegate' object has no attribute '_library'\n",
      "Exception ignored in: <function Delegate.__del__ at 0x70ad48ecab90>\n",
      "Traceback (most recent call last):\n",
      "  File \"/home/pmedur/strojnoUcenje/env/lib/python3.10/site-packages/tensorflow/lite/python/interpreter.py\", line 117, in __del__\n",
      "    if self._library is not None:\n",
      "AttributeError: 'Delegate' object has no attribute '_library'\n"
     ]
    },
    {
     "name": "stdout",
     "output_type": "stream",
     "text": [
      "Resource monitoring stopped\n",
      "[CPU (GPU failed)] Acc: 79.36%, Energy: 0.012056Wh, Size: 320.6KB\n",
      "\n",
      "model_6:\n",
      "  Fold 1...     GPU delegate failed: gpu: cannot open shared object file: No such file or directory\n",
      "    Falling back to CPU\n",
      "GPU monitoring initialized: 1 device(s) found\n",
      "CPU energy monitoring (RAPL) initialized: 1 domain(s) found\n",
      "  - package-0 (intel-rapl:0)\n",
      "Resource monitoring started\n"
     ]
    },
    {
     "name": "stderr",
     "output_type": "stream",
     "text": [
      "Exception ignored in: <function Delegate.__del__ at 0x70ad48ecab90>\n",
      "Traceback (most recent call last):\n",
      "  File \"/home/pmedur/strojnoUcenje/env/lib/python3.10/site-packages/tensorflow/lite/python/interpreter.py\", line 117, in __del__\n",
      "    if self._library is not None:\n",
      "AttributeError: 'Delegate' object has no attribute '_library'\n",
      "Exception ignored in: <function Delegate.__del__ at 0x70ad48ecab90>\n",
      "Traceback (most recent call last):\n",
      "  File \"/home/pmedur/strojnoUcenje/env/lib/python3.10/site-packages/tensorflow/lite/python/interpreter.py\", line 117, in __del__\n",
      "    if self._library is not None:\n",
      "AttributeError: 'Delegate' object has no attribute '_library'\n"
     ]
    },
    {
     "name": "stdout",
     "output_type": "stream",
     "text": [
      "Resource monitoring stopped\n",
      "[CPU (GPU failed)] Acc: 80.57%, Energy: 0.019943Wh, Size: 617.8KB\n",
      "  Fold 2...     GPU delegate failed: gpu: cannot open shared object file: No such file or directory\n",
      "    Falling back to CPU\n",
      "GPU monitoring initialized: 1 device(s) found\n",
      "CPU energy monitoring (RAPL) initialized: 1 domain(s) found\n",
      "  - package-0 (intel-rapl:0)\n",
      "Resource monitoring started\n"
     ]
    },
    {
     "name": "stderr",
     "output_type": "stream",
     "text": [
      "Exception ignored in: <function Delegate.__del__ at 0x70ad48ecab90>\n",
      "Traceback (most recent call last):\n",
      "  File \"/home/pmedur/strojnoUcenje/env/lib/python3.10/site-packages/tensorflow/lite/python/interpreter.py\", line 117, in __del__\n",
      "    if self._library is not None:\n",
      "AttributeError: 'Delegate' object has no attribute '_library'\n",
      "Exception ignored in: <function Delegate.__del__ at 0x70ad48ecab90>\n",
      "Traceback (most recent call last):\n",
      "  File \"/home/pmedur/strojnoUcenje/env/lib/python3.10/site-packages/tensorflow/lite/python/interpreter.py\", line 117, in __del__\n",
      "    if self._library is not None:\n",
      "AttributeError: 'Delegate' object has no attribute '_library'\n"
     ]
    },
    {
     "name": "stdout",
     "output_type": "stream",
     "text": [
      "Resource monitoring stopped\n",
      "[CPU (GPU failed)] Acc: 80.90%, Energy: 0.015518Wh, Size: 617.8KB\n",
      "  Fold 3...     GPU delegate failed: gpu: cannot open shared object file: No such file or directory\n",
      "    Falling back to CPU\n",
      "GPU monitoring initialized: 1 device(s) found\n",
      "CPU energy monitoring (RAPL) initialized: 1 domain(s) found\n",
      "  - package-0 (intel-rapl:0)\n",
      "Resource monitoring started\n"
     ]
    },
    {
     "name": "stderr",
     "output_type": "stream",
     "text": [
      "Exception ignored in: <function Delegate.__del__ at 0x70ad48ecab90>\n",
      "Traceback (most recent call last):\n",
      "  File \"/home/pmedur/strojnoUcenje/env/lib/python3.10/site-packages/tensorflow/lite/python/interpreter.py\", line 117, in __del__\n",
      "    if self._library is not None:\n",
      "AttributeError: 'Delegate' object has no attribute '_library'\n",
      "Exception ignored in: <function Delegate.__del__ at 0x70ad48ecab90>\n",
      "Traceback (most recent call last):\n",
      "  File \"/home/pmedur/strojnoUcenje/env/lib/python3.10/site-packages/tensorflow/lite/python/interpreter.py\", line 117, in __del__\n",
      "    if self._library is not None:\n",
      "AttributeError: 'Delegate' object has no attribute '_library'\n"
     ]
    },
    {
     "name": "stdout",
     "output_type": "stream",
     "text": [
      "Resource monitoring stopped\n",
      "[CPU (GPU failed)] Acc: 80.95%, Energy: 0.019367Wh, Size: 617.8KB\n",
      "  Fold 4...     GPU delegate failed: gpu: cannot open shared object file: No such file or directory\n",
      "    Falling back to CPU\n",
      "GPU monitoring initialized: 1 device(s) found\n",
      "CPU energy monitoring (RAPL) initialized: 1 domain(s) found\n",
      "  - package-0 (intel-rapl:0)\n",
      "Resource monitoring started\n"
     ]
    },
    {
     "name": "stderr",
     "output_type": "stream",
     "text": [
      "Exception ignored in: <function Delegate.__del__ at 0x70ad48ecab90>\n",
      "Traceback (most recent call last):\n",
      "  File \"/home/pmedur/strojnoUcenje/env/lib/python3.10/site-packages/tensorflow/lite/python/interpreter.py\", line 117, in __del__\n",
      "    if self._library is not None:\n",
      "AttributeError: 'Delegate' object has no attribute '_library'\n",
      "Exception ignored in: <function Delegate.__del__ at 0x70ad48ecab90>\n",
      "Traceback (most recent call last):\n",
      "  File \"/home/pmedur/strojnoUcenje/env/lib/python3.10/site-packages/tensorflow/lite/python/interpreter.py\", line 117, in __del__\n",
      "    if self._library is not None:\n",
      "AttributeError: 'Delegate' object has no attribute '_library'\n"
     ]
    },
    {
     "name": "stdout",
     "output_type": "stream",
     "text": [
      "Resource monitoring stopped\n",
      "[CPU (GPU failed)] Acc: 80.97%, Energy: 0.019743Wh, Size: 617.8KB\n",
      "  Fold 5...     GPU delegate failed: gpu: cannot open shared object file: No such file or directory\n",
      "    Falling back to CPU\n",
      "GPU monitoring initialized: 1 device(s) found\n",
      "CPU energy monitoring (RAPL) initialized: 1 domain(s) found\n",
      "  - package-0 (intel-rapl:0)\n",
      "Resource monitoring started\n"
     ]
    },
    {
     "name": "stderr",
     "output_type": "stream",
     "text": [
      "Exception ignored in: <function Delegate.__del__ at 0x70ad48ecab90>\n",
      "Traceback (most recent call last):\n",
      "  File \"/home/pmedur/strojnoUcenje/env/lib/python3.10/site-packages/tensorflow/lite/python/interpreter.py\", line 117, in __del__\n",
      "    if self._library is not None:\n",
      "AttributeError: 'Delegate' object has no attribute '_library'\n",
      "Exception ignored in: <function Delegate.__del__ at 0x70ad48ecab90>\n",
      "Traceback (most recent call last):\n",
      "  File \"/home/pmedur/strojnoUcenje/env/lib/python3.10/site-packages/tensorflow/lite/python/interpreter.py\", line 117, in __del__\n",
      "    if self._library is not None:\n",
      "AttributeError: 'Delegate' object has no attribute '_library'\n"
     ]
    },
    {
     "name": "stdout",
     "output_type": "stream",
     "text": [
      "Resource monitoring stopped\n",
      "[CPU (GPU failed)] Acc: 81.43%, Energy: 0.015584Wh, Size: 617.8KB\n",
      "  Fold 6...     GPU delegate failed: gpu: cannot open shared object file: No such file or directory\n",
      "    Falling back to CPU\n",
      "GPU monitoring initialized: 1 device(s) found\n",
      "CPU energy monitoring (RAPL) initialized: 1 domain(s) found\n",
      "  - package-0 (intel-rapl:0)\n",
      "Resource monitoring started\n"
     ]
    },
    {
     "name": "stderr",
     "output_type": "stream",
     "text": [
      "Exception ignored in: <function Delegate.__del__ at 0x70ad48ecab90>\n",
      "Traceback (most recent call last):\n",
      "  File \"/home/pmedur/strojnoUcenje/env/lib/python3.10/site-packages/tensorflow/lite/python/interpreter.py\", line 117, in __del__\n",
      "    if self._library is not None:\n",
      "AttributeError: 'Delegate' object has no attribute '_library'\n",
      "Exception ignored in: <function Delegate.__del__ at 0x70ad48ecab90>\n",
      "Traceback (most recent call last):\n",
      "  File \"/home/pmedur/strojnoUcenje/env/lib/python3.10/site-packages/tensorflow/lite/python/interpreter.py\", line 117, in __del__\n",
      "    if self._library is not None:\n",
      "AttributeError: 'Delegate' object has no attribute '_library'\n"
     ]
    },
    {
     "name": "stdout",
     "output_type": "stream",
     "text": [
      "Resource monitoring stopped\n",
      "[CPU (GPU failed)] Acc: 80.98%, Energy: 0.013614Wh, Size: 617.8KB\n",
      "  Fold 7...     GPU delegate failed: gpu: cannot open shared object file: No such file or directory\n",
      "    Falling back to CPU\n",
      "GPU monitoring initialized: 1 device(s) found\n",
      "CPU energy monitoring (RAPL) initialized: 1 domain(s) found\n",
      "  - package-0 (intel-rapl:0)\n",
      "Resource monitoring started\n"
     ]
    },
    {
     "name": "stderr",
     "output_type": "stream",
     "text": [
      "Exception ignored in: <function Delegate.__del__ at 0x70ad48ecab90>\n",
      "Traceback (most recent call last):\n",
      "  File \"/home/pmedur/strojnoUcenje/env/lib/python3.10/site-packages/tensorflow/lite/python/interpreter.py\", line 117, in __del__\n",
      "    if self._library is not None:\n",
      "AttributeError: 'Delegate' object has no attribute '_library'\n",
      "Exception ignored in: <function Delegate.__del__ at 0x70ad48ecab90>\n",
      "Traceback (most recent call last):\n",
      "  File \"/home/pmedur/strojnoUcenje/env/lib/python3.10/site-packages/tensorflow/lite/python/interpreter.py\", line 117, in __del__\n",
      "    if self._library is not None:\n",
      "AttributeError: 'Delegate' object has no attribute '_library'\n"
     ]
    },
    {
     "name": "stdout",
     "output_type": "stream",
     "text": [
      "Resource monitoring stopped\n",
      "[CPU (GPU failed)] Acc: 80.78%, Energy: 0.012724Wh, Size: 617.8KB\n",
      "  Fold 8...     GPU delegate failed: gpu: cannot open shared object file: No such file or directory\n",
      "    Falling back to CPU\n",
      "GPU monitoring initialized: 1 device(s) found\n",
      "CPU energy monitoring (RAPL) initialized: 1 domain(s) found\n",
      "  - package-0 (intel-rapl:0)\n",
      "Resource monitoring started\n"
     ]
    },
    {
     "name": "stderr",
     "output_type": "stream",
     "text": [
      "Exception ignored in: <function Delegate.__del__ at 0x70ad48ecab90>\n",
      "Traceback (most recent call last):\n",
      "  File \"/home/pmedur/strojnoUcenje/env/lib/python3.10/site-packages/tensorflow/lite/python/interpreter.py\", line 117, in __del__\n",
      "    if self._library is not None:\n",
      "AttributeError: 'Delegate' object has no attribute '_library'\n",
      "Exception ignored in: <function Delegate.__del__ at 0x70ad48ecab90>\n",
      "Traceback (most recent call last):\n",
      "  File \"/home/pmedur/strojnoUcenje/env/lib/python3.10/site-packages/tensorflow/lite/python/interpreter.py\", line 117, in __del__\n",
      "    if self._library is not None:\n",
      "AttributeError: 'Delegate' object has no attribute '_library'\n"
     ]
    },
    {
     "name": "stdout",
     "output_type": "stream",
     "text": [
      "Resource monitoring stopped\n",
      "[CPU (GPU failed)] Acc: 79.41%, Energy: 0.014112Wh, Size: 617.8KB\n",
      "  Fold 9...     GPU delegate failed: gpu: cannot open shared object file: No such file or directory\n",
      "    Falling back to CPU\n",
      "GPU monitoring initialized: 1 device(s) found\n",
      "CPU energy monitoring (RAPL) initialized: 1 domain(s) found\n",
      "  - package-0 (intel-rapl:0)\n",
      "Resource monitoring started\n"
     ]
    },
    {
     "name": "stderr",
     "output_type": "stream",
     "text": [
      "Exception ignored in: <function Delegate.__del__ at 0x70ad48ecab90>\n",
      "Traceback (most recent call last):\n",
      "  File \"/home/pmedur/strojnoUcenje/env/lib/python3.10/site-packages/tensorflow/lite/python/interpreter.py\", line 117, in __del__\n",
      "    if self._library is not None:\n",
      "AttributeError: 'Delegate' object has no attribute '_library'\n",
      "Exception ignored in: <function Delegate.__del__ at 0x70ad48ecab90>\n",
      "Traceback (most recent call last):\n",
      "  File \"/home/pmedur/strojnoUcenje/env/lib/python3.10/site-packages/tensorflow/lite/python/interpreter.py\", line 117, in __del__\n",
      "    if self._library is not None:\n",
      "AttributeError: 'Delegate' object has no attribute '_library'\n"
     ]
    },
    {
     "name": "stdout",
     "output_type": "stream",
     "text": [
      "Resource monitoring stopped\n",
      "[CPU (GPU failed)] Acc: 81.04%, Energy: 0.014509Wh, Size: 617.8KB\n",
      "  Fold 10...     GPU delegate failed: gpu: cannot open shared object file: No such file or directory\n",
      "    Falling back to CPU\n",
      "GPU monitoring initialized: 1 device(s) found\n",
      "CPU energy monitoring (RAPL) initialized: 1 domain(s) found\n",
      "  - package-0 (intel-rapl:0)\n",
      "Resource monitoring started\n"
     ]
    },
    {
     "name": "stderr",
     "output_type": "stream",
     "text": [
      "Exception ignored in: <function Delegate.__del__ at 0x70ad48ecab90>\n",
      "Traceback (most recent call last):\n",
      "  File \"/home/pmedur/strojnoUcenje/env/lib/python3.10/site-packages/tensorflow/lite/python/interpreter.py\", line 117, in __del__\n",
      "    if self._library is not None:\n",
      "AttributeError: 'Delegate' object has no attribute '_library'\n",
      "Exception ignored in: <function Delegate.__del__ at 0x70ad48ecab90>\n",
      "Traceback (most recent call last):\n",
      "  File \"/home/pmedur/strojnoUcenje/env/lib/python3.10/site-packages/tensorflow/lite/python/interpreter.py\", line 117, in __del__\n",
      "    if self._library is not None:\n",
      "AttributeError: 'Delegate' object has no attribute '_library'\n"
     ]
    },
    {
     "name": "stdout",
     "output_type": "stream",
     "text": [
      "Resource monitoring stopped\n",
      "[CPU (GPU failed)] Acc: 81.77%, Energy: 0.016103Wh, Size: 617.8KB\n",
      "\n",
      "model_7:\n",
      "  Fold 1...     GPU delegate failed: gpu: cannot open shared object file: No such file or directory\n",
      "    Falling back to CPU\n",
      "GPU monitoring initialized: 1 device(s) found\n",
      "CPU energy monitoring (RAPL) initialized: 1 domain(s) found\n",
      "  - package-0 (intel-rapl:0)\n",
      "Resource monitoring started\n"
     ]
    },
    {
     "name": "stderr",
     "output_type": "stream",
     "text": [
      "Exception ignored in: <function Delegate.__del__ at 0x70ad48ecab90>\n",
      "Traceback (most recent call last):\n",
      "  File \"/home/pmedur/strojnoUcenje/env/lib/python3.10/site-packages/tensorflow/lite/python/interpreter.py\", line 117, in __del__\n",
      "    if self._library is not None:\n",
      "AttributeError: 'Delegate' object has no attribute '_library'\n",
      "Exception ignored in: <function Delegate.__del__ at 0x70ad48ecab90>\n",
      "Traceback (most recent call last):\n",
      "  File \"/home/pmedur/strojnoUcenje/env/lib/python3.10/site-packages/tensorflow/lite/python/interpreter.py\", line 117, in __del__\n",
      "    if self._library is not None:\n",
      "AttributeError: 'Delegate' object has no attribute '_library'\n"
     ]
    },
    {
     "name": "stdout",
     "output_type": "stream",
     "text": [
      "Resource monitoring stopped\n",
      "[CPU (GPU failed)] Acc: 88.76%, Energy: 0.037747Wh, Size: 2689.6KB\n",
      "  Fold 2...     GPU delegate failed: gpu: cannot open shared object file: No such file or directory\n",
      "    Falling back to CPU\n",
      "GPU monitoring initialized: 1 device(s) found\n",
      "CPU energy monitoring (RAPL) initialized: 1 domain(s) found\n",
      "  - package-0 (intel-rapl:0)\n",
      "Resource monitoring started\n"
     ]
    },
    {
     "name": "stderr",
     "output_type": "stream",
     "text": [
      "Exception ignored in: <function Delegate.__del__ at 0x70ad48ecab90>\n",
      "Traceback (most recent call last):\n",
      "  File \"/home/pmedur/strojnoUcenje/env/lib/python3.10/site-packages/tensorflow/lite/python/interpreter.py\", line 117, in __del__\n",
      "    if self._library is not None:\n",
      "AttributeError: 'Delegate' object has no attribute '_library'\n",
      "Exception ignored in: <function Delegate.__del__ at 0x70ad48ecab90>\n",
      "Traceback (most recent call last):\n",
      "  File \"/home/pmedur/strojnoUcenje/env/lib/python3.10/site-packages/tensorflow/lite/python/interpreter.py\", line 117, in __del__\n",
      "    if self._library is not None:\n",
      "AttributeError: 'Delegate' object has no attribute '_library'\n"
     ]
    },
    {
     "name": "stdout",
     "output_type": "stream",
     "text": [
      "Resource monitoring stopped\n",
      "[CPU (GPU failed)] Acc: 88.56%, Energy: 0.040911Wh, Size: 2689.6KB\n",
      "  Fold 3...     GPU delegate failed: gpu: cannot open shared object file: No such file or directory\n",
      "    Falling back to CPU\n",
      "GPU monitoring initialized: 1 device(s) found\n",
      "CPU energy monitoring (RAPL) initialized: 1 domain(s) found\n",
      "  - package-0 (intel-rapl:0)\n",
      "Resource monitoring started\n"
     ]
    },
    {
     "name": "stderr",
     "output_type": "stream",
     "text": [
      "Exception ignored in: <function Delegate.__del__ at 0x70ad48ecab90>\n",
      "Traceback (most recent call last):\n",
      "  File \"/home/pmedur/strojnoUcenje/env/lib/python3.10/site-packages/tensorflow/lite/python/interpreter.py\", line 117, in __del__\n",
      "    if self._library is not None:\n",
      "AttributeError: 'Delegate' object has no attribute '_library'\n",
      "Exception ignored in: <function Delegate.__del__ at 0x70ad48ecab90>\n",
      "Traceback (most recent call last):\n",
      "  File \"/home/pmedur/strojnoUcenje/env/lib/python3.10/site-packages/tensorflow/lite/python/interpreter.py\", line 117, in __del__\n",
      "    if self._library is not None:\n",
      "AttributeError: 'Delegate' object has no attribute '_library'\n"
     ]
    },
    {
     "name": "stdout",
     "output_type": "stream",
     "text": [
      "Resource monitoring stopped\n",
      "[CPU (GPU failed)] Acc: 89.10%, Energy: 0.037129Wh, Size: 2689.6KB\n",
      "  Fold 4...     GPU delegate failed: gpu: cannot open shared object file: No such file or directory\n",
      "    Falling back to CPU\n",
      "GPU monitoring initialized: 1 device(s) found\n",
      "CPU energy monitoring (RAPL) initialized: 1 domain(s) found\n",
      "  - package-0 (intel-rapl:0)\n",
      "Resource monitoring started\n"
     ]
    },
    {
     "name": "stderr",
     "output_type": "stream",
     "text": [
      "Exception ignored in: <function Delegate.__del__ at 0x70ad48ecab90>\n",
      "Traceback (most recent call last):\n",
      "  File \"/home/pmedur/strojnoUcenje/env/lib/python3.10/site-packages/tensorflow/lite/python/interpreter.py\", line 117, in __del__\n",
      "    if self._library is not None:\n",
      "AttributeError: 'Delegate' object has no attribute '_library'\n",
      "Exception ignored in: <function Delegate.__del__ at 0x70ad48ecab90>\n",
      "Traceback (most recent call last):\n",
      "  File \"/home/pmedur/strojnoUcenje/env/lib/python3.10/site-packages/tensorflow/lite/python/interpreter.py\", line 117, in __del__\n",
      "    if self._library is not None:\n",
      "AttributeError: 'Delegate' object has no attribute '_library'\n"
     ]
    },
    {
     "name": "stdout",
     "output_type": "stream",
     "text": [
      "Resource monitoring stopped\n",
      "[CPU (GPU failed)] Acc: 88.68%, Energy: 0.030842Wh, Size: 2689.6KB\n",
      "  Fold 5...     GPU delegate failed: gpu: cannot open shared object file: No such file or directory\n",
      "    Falling back to CPU\n",
      "GPU monitoring initialized: 1 device(s) found\n",
      "CPU energy monitoring (RAPL) initialized: 1 domain(s) found\n",
      "  - package-0 (intel-rapl:0)\n",
      "Resource monitoring started\n"
     ]
    },
    {
     "name": "stderr",
     "output_type": "stream",
     "text": [
      "Exception ignored in: <function Delegate.__del__ at 0x70ad48ecab90>\n",
      "Traceback (most recent call last):\n",
      "  File \"/home/pmedur/strojnoUcenje/env/lib/python3.10/site-packages/tensorflow/lite/python/interpreter.py\", line 117, in __del__\n",
      "    if self._library is not None:\n",
      "AttributeError: 'Delegate' object has no attribute '_library'\n",
      "Exception ignored in: <function Delegate.__del__ at 0x70ad48ecab90>\n",
      "Traceback (most recent call last):\n",
      "  File \"/home/pmedur/strojnoUcenje/env/lib/python3.10/site-packages/tensorflow/lite/python/interpreter.py\", line 117, in __del__\n",
      "    if self._library is not None:\n",
      "AttributeError: 'Delegate' object has no attribute '_library'\n"
     ]
    },
    {
     "name": "stdout",
     "output_type": "stream",
     "text": [
      "Resource monitoring stopped\n",
      "[CPU (GPU failed)] Acc: 88.95%, Energy: 0.031158Wh, Size: 2689.6KB\n",
      "  Fold 6...     GPU delegate failed: gpu: cannot open shared object file: No such file or directory\n",
      "    Falling back to CPU\n",
      "GPU monitoring initialized: 1 device(s) found\n",
      "CPU energy monitoring (RAPL) initialized: 1 domain(s) found\n",
      "  - package-0 (intel-rapl:0)\n",
      "Resource monitoring started\n"
     ]
    },
    {
     "name": "stderr",
     "output_type": "stream",
     "text": [
      "Exception ignored in: <function Delegate.__del__ at 0x70ad48ecab90>\n",
      "Traceback (most recent call last):\n",
      "  File \"/home/pmedur/strojnoUcenje/env/lib/python3.10/site-packages/tensorflow/lite/python/interpreter.py\", line 117, in __del__\n",
      "    if self._library is not None:\n",
      "AttributeError: 'Delegate' object has no attribute '_library'\n",
      "Exception ignored in: <function Delegate.__del__ at 0x70ad48ecab90>\n",
      "Traceback (most recent call last):\n",
      "  File \"/home/pmedur/strojnoUcenje/env/lib/python3.10/site-packages/tensorflow/lite/python/interpreter.py\", line 117, in __del__\n",
      "    if self._library is not None:\n",
      "AttributeError: 'Delegate' object has no attribute '_library'\n"
     ]
    },
    {
     "name": "stdout",
     "output_type": "stream",
     "text": [
      "Resource monitoring stopped\n",
      "[CPU (GPU failed)] Acc: 88.56%, Energy: 0.030378Wh, Size: 2689.6KB\n",
      "  Fold 7...     GPU delegate failed: gpu: cannot open shared object file: No such file or directory\n",
      "    Falling back to CPU\n",
      "GPU monitoring initialized: 1 device(s) found\n",
      "CPU energy monitoring (RAPL) initialized: 1 domain(s) found\n",
      "  - package-0 (intel-rapl:0)\n",
      "Resource monitoring started\n"
     ]
    },
    {
     "name": "stderr",
     "output_type": "stream",
     "text": [
      "Exception ignored in: <function Delegate.__del__ at 0x70ad48ecab90>\n",
      "Traceback (most recent call last):\n",
      "  File \"/home/pmedur/strojnoUcenje/env/lib/python3.10/site-packages/tensorflow/lite/python/interpreter.py\", line 117, in __del__\n",
      "    if self._library is not None:\n",
      "AttributeError: 'Delegate' object has no attribute '_library'\n",
      "Exception ignored in: <function Delegate.__del__ at 0x70ad48ecab90>\n",
      "Traceback (most recent call last):\n",
      "  File \"/home/pmedur/strojnoUcenje/env/lib/python3.10/site-packages/tensorflow/lite/python/interpreter.py\", line 117, in __del__\n",
      "    if self._library is not None:\n",
      "AttributeError: 'Delegate' object has no attribute '_library'\n"
     ]
    },
    {
     "name": "stdout",
     "output_type": "stream",
     "text": [
      "Resource monitoring stopped\n",
      "[CPU (GPU failed)] Acc: 88.58%, Energy: 0.028595Wh, Size: 2689.6KB\n",
      "  Fold 8...     GPU delegate failed: gpu: cannot open shared object file: No such file or directory\n",
      "    Falling back to CPU\n",
      "GPU monitoring initialized: 1 device(s) found\n",
      "CPU energy monitoring (RAPL) initialized: 1 domain(s) found\n",
      "  - package-0 (intel-rapl:0)\n",
      "Resource monitoring started\n"
     ]
    },
    {
     "name": "stderr",
     "output_type": "stream",
     "text": [
      "Exception ignored in: <function Delegate.__del__ at 0x70ad48ecab90>\n",
      "Traceback (most recent call last):\n",
      "  File \"/home/pmedur/strojnoUcenje/env/lib/python3.10/site-packages/tensorflow/lite/python/interpreter.py\", line 117, in __del__\n",
      "    if self._library is not None:\n",
      "AttributeError: 'Delegate' object has no attribute '_library'\n",
      "Exception ignored in: <function Delegate.__del__ at 0x70ad48ecab90>\n",
      "Traceback (most recent call last):\n",
      "  File \"/home/pmedur/strojnoUcenje/env/lib/python3.10/site-packages/tensorflow/lite/python/interpreter.py\", line 117, in __del__\n",
      "    if self._library is not None:\n",
      "AttributeError: 'Delegate' object has no attribute '_library'\n"
     ]
    },
    {
     "name": "stdout",
     "output_type": "stream",
     "text": [
      "Resource monitoring stopped\n",
      "[CPU (GPU failed)] Acc: 87.88%, Energy: 0.029322Wh, Size: 2689.6KB\n",
      "  Fold 9...     GPU delegate failed: gpu: cannot open shared object file: No such file or directory\n",
      "    Falling back to CPU\n",
      "GPU monitoring initialized: 1 device(s) found\n",
      "CPU energy monitoring (RAPL) initialized: 1 domain(s) found\n",
      "  - package-0 (intel-rapl:0)\n",
      "Resource monitoring started\n"
     ]
    },
    {
     "name": "stderr",
     "output_type": "stream",
     "text": [
      "Exception ignored in: <function Delegate.__del__ at 0x70ad48ecab90>\n",
      "Traceback (most recent call last):\n",
      "  File \"/home/pmedur/strojnoUcenje/env/lib/python3.10/site-packages/tensorflow/lite/python/interpreter.py\", line 117, in __del__\n",
      "    if self._library is not None:\n",
      "AttributeError: 'Delegate' object has no attribute '_library'\n",
      "Exception ignored in: <function Delegate.__del__ at 0x70ad48ecab90>\n",
      "Traceback (most recent call last):\n",
      "  File \"/home/pmedur/strojnoUcenje/env/lib/python3.10/site-packages/tensorflow/lite/python/interpreter.py\", line 117, in __del__\n",
      "    if self._library is not None:\n",
      "AttributeError: 'Delegate' object has no attribute '_library'\n"
     ]
    },
    {
     "name": "stdout",
     "output_type": "stream",
     "text": [
      "Resource monitoring stopped\n",
      "[CPU (GPU failed)] Acc: 88.58%, Energy: 0.032678Wh, Size: 2689.6KB\n",
      "  Fold 10...     GPU delegate failed: gpu: cannot open shared object file: No such file or directory\n",
      "    Falling back to CPU\n",
      "GPU monitoring initialized: 1 device(s) found\n",
      "CPU energy monitoring (RAPL) initialized: 1 domain(s) found\n",
      "  - package-0 (intel-rapl:0)\n",
      "Resource monitoring started\n"
     ]
    },
    {
     "name": "stderr",
     "output_type": "stream",
     "text": [
      "Exception ignored in: <function Delegate.__del__ at 0x70ad48ecab90>\n",
      "Traceback (most recent call last):\n",
      "  File \"/home/pmedur/strojnoUcenje/env/lib/python3.10/site-packages/tensorflow/lite/python/interpreter.py\", line 117, in __del__\n",
      "    if self._library is not None:\n",
      "AttributeError: 'Delegate' object has no attribute '_library'\n",
      "Exception ignored in: <function Delegate.__del__ at 0x70ad48ecab90>\n",
      "Traceback (most recent call last):\n",
      "  File \"/home/pmedur/strojnoUcenje/env/lib/python3.10/site-packages/tensorflow/lite/python/interpreter.py\", line 117, in __del__\n",
      "    if self._library is not None:\n",
      "AttributeError: 'Delegate' object has no attribute '_library'\n"
     ]
    },
    {
     "name": "stdout",
     "output_type": "stream",
     "text": [
      "Resource monitoring stopped\n",
      "[CPU (GPU failed)] Acc: 88.50%, Energy: 0.028929Wh, Size: 2689.6KB\n",
      "\n",
      "model_8:\n",
      "  Fold 1...     GPU delegate failed: gpu: cannot open shared object file: No such file or directory\n",
      "    Falling back to CPU\n",
      "GPU monitoring initialized: 1 device(s) found\n",
      "CPU energy monitoring (RAPL) initialized: 1 domain(s) found\n",
      "  - package-0 (intel-rapl:0)\n",
      "Resource monitoring started\n"
     ]
    },
    {
     "name": "stderr",
     "output_type": "stream",
     "text": [
      "Exception ignored in: <function Delegate.__del__ at 0x70ad48ecab90>\n",
      "Traceback (most recent call last):\n",
      "  File \"/home/pmedur/strojnoUcenje/env/lib/python3.10/site-packages/tensorflow/lite/python/interpreter.py\", line 117, in __del__\n",
      "    if self._library is not None:\n",
      "AttributeError: 'Delegate' object has no attribute '_library'\n",
      "Exception ignored in: <function Delegate.__del__ at 0x70ad48ecab90>\n",
      "Traceback (most recent call last):\n",
      "  File \"/home/pmedur/strojnoUcenje/env/lib/python3.10/site-packages/tensorflow/lite/python/interpreter.py\", line 117, in __del__\n",
      "    if self._library is not None:\n",
      "AttributeError: 'Delegate' object has no attribute '_library'\n"
     ]
    },
    {
     "name": "stdout",
     "output_type": "stream",
     "text": [
      "Resource monitoring stopped\n",
      "[CPU (GPU failed)] Acc: 83.54%, Energy: 0.045882Wh, Size: 4940.6KB\n",
      "  Fold 2...     GPU delegate failed: gpu: cannot open shared object file: No such file or directory\n",
      "    Falling back to CPU\n",
      "GPU monitoring initialized: 1 device(s) found\n",
      "CPU energy monitoring (RAPL) initialized: 1 domain(s) found\n",
      "  - package-0 (intel-rapl:0)\n",
      "Resource monitoring started\n"
     ]
    },
    {
     "name": "stderr",
     "output_type": "stream",
     "text": [
      "Exception ignored in: <function Delegate.__del__ at 0x70ad48ecab90>\n",
      "Traceback (most recent call last):\n",
      "  File \"/home/pmedur/strojnoUcenje/env/lib/python3.10/site-packages/tensorflow/lite/python/interpreter.py\", line 117, in __del__\n",
      "    if self._library is not None:\n",
      "AttributeError: 'Delegate' object has no attribute '_library'\n",
      "Exception ignored in: <function Delegate.__del__ at 0x70ad48ecab90>\n",
      "Traceback (most recent call last):\n",
      "  File \"/home/pmedur/strojnoUcenje/env/lib/python3.10/site-packages/tensorflow/lite/python/interpreter.py\", line 117, in __del__\n",
      "    if self._library is not None:\n",
      "AttributeError: 'Delegate' object has no attribute '_library'\n"
     ]
    },
    {
     "name": "stdout",
     "output_type": "stream",
     "text": [
      "Resource monitoring stopped\n",
      "[CPU (GPU failed)] Acc: 84.57%, Energy: 0.049338Wh, Size: 4940.6KB\n",
      "  Fold 3...     GPU delegate failed: gpu: cannot open shared object file: No such file or directory\n",
      "    Falling back to CPU\n",
      "GPU monitoring initialized: 1 device(s) found\n",
      "CPU energy monitoring (RAPL) initialized: 1 domain(s) found\n",
      "  - package-0 (intel-rapl:0)\n",
      "Resource monitoring started\n"
     ]
    },
    {
     "name": "stderr",
     "output_type": "stream",
     "text": [
      "Exception ignored in: <function Delegate.__del__ at 0x70ad48ecab90>\n",
      "Traceback (most recent call last):\n",
      "  File \"/home/pmedur/strojnoUcenje/env/lib/python3.10/site-packages/tensorflow/lite/python/interpreter.py\", line 117, in __del__\n",
      "    if self._library is not None:\n",
      "AttributeError: 'Delegate' object has no attribute '_library'\n",
      "Exception ignored in: <function Delegate.__del__ at 0x70ad48ecab90>\n",
      "Traceback (most recent call last):\n",
      "  File \"/home/pmedur/strojnoUcenje/env/lib/python3.10/site-packages/tensorflow/lite/python/interpreter.py\", line 117, in __del__\n",
      "    if self._library is not None:\n",
      "AttributeError: 'Delegate' object has no attribute '_library'\n"
     ]
    },
    {
     "name": "stdout",
     "output_type": "stream",
     "text": [
      "Resource monitoring stopped\n",
      "[CPU (GPU failed)] Acc: 85.43%, Energy: 0.049439Wh, Size: 4940.6KB\n",
      "  Fold 4...     GPU delegate failed: gpu: cannot open shared object file: No such file or directory\n",
      "    Falling back to CPU\n",
      "GPU monitoring initialized: 1 device(s) found\n",
      "CPU energy monitoring (RAPL) initialized: 1 domain(s) found\n",
      "  - package-0 (intel-rapl:0)\n",
      "Resource monitoring started\n"
     ]
    },
    {
     "name": "stderr",
     "output_type": "stream",
     "text": [
      "Exception ignored in: <function Delegate.__del__ at 0x70ad48ecab90>\n",
      "Traceback (most recent call last):\n",
      "  File \"/home/pmedur/strojnoUcenje/env/lib/python3.10/site-packages/tensorflow/lite/python/interpreter.py\", line 117, in __del__\n",
      "    if self._library is not None:\n",
      "AttributeError: 'Delegate' object has no attribute '_library'\n",
      "Exception ignored in: <function Delegate.__del__ at 0x70ad48ecab90>\n",
      "Traceback (most recent call last):\n",
      "  File \"/home/pmedur/strojnoUcenje/env/lib/python3.10/site-packages/tensorflow/lite/python/interpreter.py\", line 117, in __del__\n",
      "    if self._library is not None:\n",
      "AttributeError: 'Delegate' object has no attribute '_library'\n"
     ]
    },
    {
     "name": "stdout",
     "output_type": "stream",
     "text": [
      "Resource monitoring stopped\n",
      "[CPU (GPU failed)] Acc: 85.31%, Energy: 0.047843Wh, Size: 4940.6KB\n",
      "  Fold 5...     GPU delegate failed: gpu: cannot open shared object file: No such file or directory\n",
      "    Falling back to CPU\n",
      "GPU monitoring initialized: 1 device(s) found\n",
      "CPU energy monitoring (RAPL) initialized: 1 domain(s) found\n",
      "  - package-0 (intel-rapl:0)\n",
      "Resource monitoring started\n"
     ]
    },
    {
     "name": "stderr",
     "output_type": "stream",
     "text": [
      "Exception ignored in: <function Delegate.__del__ at 0x70ad48ecab90>\n",
      "Traceback (most recent call last):\n",
      "  File \"/home/pmedur/strojnoUcenje/env/lib/python3.10/site-packages/tensorflow/lite/python/interpreter.py\", line 117, in __del__\n",
      "    if self._library is not None:\n",
      "AttributeError: 'Delegate' object has no attribute '_library'\n",
      "Exception ignored in: <function Delegate.__del__ at 0x70ad48ecab90>\n",
      "Traceback (most recent call last):\n",
      "  File \"/home/pmedur/strojnoUcenje/env/lib/python3.10/site-packages/tensorflow/lite/python/interpreter.py\", line 117, in __del__\n",
      "    if self._library is not None:\n",
      "AttributeError: 'Delegate' object has no attribute '_library'\n"
     ]
    },
    {
     "name": "stdout",
     "output_type": "stream",
     "text": [
      "Resource monitoring stopped\n",
      "[CPU (GPU failed)] Acc: 85.22%, Energy: 0.043985Wh, Size: 4940.6KB\n",
      "  Fold 6...     GPU delegate failed: gpu: cannot open shared object file: No such file or directory\n",
      "    Falling back to CPU\n",
      "GPU monitoring initialized: 1 device(s) found\n",
      "CPU energy monitoring (RAPL) initialized: 1 domain(s) found\n",
      "  - package-0 (intel-rapl:0)\n",
      "Resource monitoring started\n"
     ]
    },
    {
     "name": "stderr",
     "output_type": "stream",
     "text": [
      "Exception ignored in: <function Delegate.__del__ at 0x70ad48ecab90>\n",
      "Traceback (most recent call last):\n",
      "  File \"/home/pmedur/strojnoUcenje/env/lib/python3.10/site-packages/tensorflow/lite/python/interpreter.py\", line 117, in __del__\n",
      "    if self._library is not None:\n",
      "AttributeError: 'Delegate' object has no attribute '_library'\n",
      "Exception ignored in: <function Delegate.__del__ at 0x70ad48ecab90>\n",
      "Traceback (most recent call last):\n",
      "  File \"/home/pmedur/strojnoUcenje/env/lib/python3.10/site-packages/tensorflow/lite/python/interpreter.py\", line 117, in __del__\n",
      "    if self._library is not None:\n",
      "AttributeError: 'Delegate' object has no attribute '_library'\n"
     ]
    },
    {
     "name": "stdout",
     "output_type": "stream",
     "text": [
      "Resource monitoring stopped\n",
      "[CPU (GPU failed)] Acc: 85.14%, Energy: 0.051041Wh, Size: 4940.6KB\n",
      "  Fold 7...     GPU delegate failed: gpu: cannot open shared object file: No such file or directory\n",
      "    Falling back to CPU\n",
      "GPU monitoring initialized: 1 device(s) found\n",
      "CPU energy monitoring (RAPL) initialized: 1 domain(s) found\n",
      "  - package-0 (intel-rapl:0)\n",
      "Resource monitoring started\n"
     ]
    },
    {
     "name": "stderr",
     "output_type": "stream",
     "text": [
      "Exception ignored in: <function Delegate.__del__ at 0x70ad48ecab90>\n",
      "Traceback (most recent call last):\n",
      "  File \"/home/pmedur/strojnoUcenje/env/lib/python3.10/site-packages/tensorflow/lite/python/interpreter.py\", line 117, in __del__\n",
      "    if self._library is not None:\n",
      "AttributeError: 'Delegate' object has no attribute '_library'\n",
      "Exception ignored in: <function Delegate.__del__ at 0x70ad48ecab90>\n",
      "Traceback (most recent call last):\n",
      "  File \"/home/pmedur/strojnoUcenje/env/lib/python3.10/site-packages/tensorflow/lite/python/interpreter.py\", line 117, in __del__\n",
      "    if self._library is not None:\n",
      "AttributeError: 'Delegate' object has no attribute '_library'\n"
     ]
    },
    {
     "name": "stdout",
     "output_type": "stream",
     "text": [
      "Resource monitoring stopped\n",
      "[CPU (GPU failed)] Acc: 85.20%, Energy: 0.056328Wh, Size: 4940.6KB\n",
      "  Fold 8...     GPU delegate failed: gpu: cannot open shared object file: No such file or directory\n",
      "    Falling back to CPU\n",
      "GPU monitoring initialized: 1 device(s) found\n",
      "CPU energy monitoring (RAPL) initialized: 1 domain(s) found\n",
      "  - package-0 (intel-rapl:0)\n",
      "Resource monitoring started\n"
     ]
    },
    {
     "name": "stderr",
     "output_type": "stream",
     "text": [
      "Exception ignored in: <function Delegate.__del__ at 0x70ad48ecab90>\n",
      "Traceback (most recent call last):\n",
      "  File \"/home/pmedur/strojnoUcenje/env/lib/python3.10/site-packages/tensorflow/lite/python/interpreter.py\", line 117, in __del__\n",
      "    if self._library is not None:\n",
      "AttributeError: 'Delegate' object has no attribute '_library'\n",
      "Exception ignored in: <function Delegate.__del__ at 0x70ad48ecab90>\n",
      "Traceback (most recent call last):\n",
      "  File \"/home/pmedur/strojnoUcenje/env/lib/python3.10/site-packages/tensorflow/lite/python/interpreter.py\", line 117, in __del__\n",
      "    if self._library is not None:\n",
      "AttributeError: 'Delegate' object has no attribute '_library'\n"
     ]
    },
    {
     "name": "stdout",
     "output_type": "stream",
     "text": [
      "Resource monitoring stopped\n",
      "[CPU (GPU failed)] Acc: 84.88%, Energy: 0.050016Wh, Size: 4940.6KB\n",
      "  Fold 9...     GPU delegate failed: gpu: cannot open shared object file: No such file or directory\n",
      "    Falling back to CPU\n",
      "GPU monitoring initialized: 1 device(s) found\n",
      "CPU energy monitoring (RAPL) initialized: 1 domain(s) found\n",
      "  - package-0 (intel-rapl:0)\n",
      "Resource monitoring started\n"
     ]
    },
    {
     "name": "stderr",
     "output_type": "stream",
     "text": [
      "Exception ignored in: <function Delegate.__del__ at 0x70ad48ecab90>\n",
      "Traceback (most recent call last):\n",
      "  File \"/home/pmedur/strojnoUcenje/env/lib/python3.10/site-packages/tensorflow/lite/python/interpreter.py\", line 117, in __del__\n",
      "    if self._library is not None:\n",
      "AttributeError: 'Delegate' object has no attribute '_library'\n",
      "Exception ignored in: <function Delegate.__del__ at 0x70ad48ecab90>\n",
      "Traceback (most recent call last):\n",
      "  File \"/home/pmedur/strojnoUcenje/env/lib/python3.10/site-packages/tensorflow/lite/python/interpreter.py\", line 117, in __del__\n",
      "    if self._library is not None:\n",
      "AttributeError: 'Delegate' object has no attribute '_library'\n"
     ]
    },
    {
     "name": "stdout",
     "output_type": "stream",
     "text": [
      "Resource monitoring stopped\n",
      "[CPU (GPU failed)] Acc: 83.94%, Energy: 0.049163Wh, Size: 4940.6KB\n",
      "  Fold 10...     GPU delegate failed: gpu: cannot open shared object file: No such file or directory\n",
      "    Falling back to CPU\n",
      "GPU monitoring initialized: 1 device(s) found\n",
      "CPU energy monitoring (RAPL) initialized: 1 domain(s) found\n",
      "  - package-0 (intel-rapl:0)\n",
      "Resource monitoring started\n"
     ]
    },
    {
     "name": "stderr",
     "output_type": "stream",
     "text": [
      "Exception ignored in: <function Delegate.__del__ at 0x70ad48ecab90>\n",
      "Traceback (most recent call last):\n",
      "  File \"/home/pmedur/strojnoUcenje/env/lib/python3.10/site-packages/tensorflow/lite/python/interpreter.py\", line 117, in __del__\n",
      "    if self._library is not None:\n",
      "AttributeError: 'Delegate' object has no attribute '_library'\n",
      "Exception ignored in: <function Delegate.__del__ at 0x70ad48ecab90>\n",
      "Traceback (most recent call last):\n",
      "  File \"/home/pmedur/strojnoUcenje/env/lib/python3.10/site-packages/tensorflow/lite/python/interpreter.py\", line 117, in __del__\n",
      "    if self._library is not None:\n",
      "AttributeError: 'Delegate' object has no attribute '_library'\n"
     ]
    },
    {
     "name": "stdout",
     "output_type": "stream",
     "text": [
      "Resource monitoring stopped\n",
      "[CPU (GPU failed)] Acc: 84.73%, Energy: 0.049659Wh, Size: 4940.6KB\n",
      "\n",
      "model_9:\n",
      "  Fold 1...     GPU delegate failed: gpu: cannot open shared object file: No such file or directory\n",
      "    Falling back to CPU\n",
      "GPU monitoring initialized: 1 device(s) found\n",
      "CPU energy monitoring (RAPL) initialized: 1 domain(s) found\n",
      "  - package-0 (intel-rapl:0)\n",
      "Resource monitoring started\n"
     ]
    },
    {
     "name": "stderr",
     "output_type": "stream",
     "text": [
      "Exception ignored in: <function Delegate.__del__ at 0x70ad48ecab90>\n",
      "Traceback (most recent call last):\n",
      "  File \"/home/pmedur/strojnoUcenje/env/lib/python3.10/site-packages/tensorflow/lite/python/interpreter.py\", line 117, in __del__\n",
      "    if self._library is not None:\n",
      "AttributeError: 'Delegate' object has no attribute '_library'\n",
      "Exception ignored in: <function Delegate.__del__ at 0x70ad48ecab90>\n",
      "Traceback (most recent call last):\n",
      "  File \"/home/pmedur/strojnoUcenje/env/lib/python3.10/site-packages/tensorflow/lite/python/interpreter.py\", line 117, in __del__\n",
      "    if self._library is not None:\n",
      "AttributeError: 'Delegate' object has no attribute '_library'\n"
     ]
    },
    {
     "name": "stdout",
     "output_type": "stream",
     "text": [
      "Resource monitoring stopped\n",
      "[CPU (GPU failed)] Acc: 89.12%, Energy: 0.151838Wh, Size: 19955.1KB\n",
      "  Fold 2...     GPU delegate failed: gpu: cannot open shared object file: No such file or directory\n",
      "    Falling back to CPU\n",
      "GPU monitoring initialized: 1 device(s) found\n",
      "CPU energy monitoring (RAPL) initialized: 1 domain(s) found\n",
      "  - package-0 (intel-rapl:0)\n",
      "Resource monitoring started\n"
     ]
    },
    {
     "name": "stderr",
     "output_type": "stream",
     "text": [
      "Exception ignored in: <function Delegate.__del__ at 0x70ad48ecab90>\n",
      "Traceback (most recent call last):\n",
      "  File \"/home/pmedur/strojnoUcenje/env/lib/python3.10/site-packages/tensorflow/lite/python/interpreter.py\", line 117, in __del__\n",
      "    if self._library is not None:\n",
      "AttributeError: 'Delegate' object has no attribute '_library'\n",
      "Exception ignored in: <function Delegate.__del__ at 0x70ad48ecab90>\n",
      "Traceback (most recent call last):\n",
      "  File \"/home/pmedur/strojnoUcenje/env/lib/python3.10/site-packages/tensorflow/lite/python/interpreter.py\", line 117, in __del__\n",
      "    if self._library is not None:\n",
      "AttributeError: 'Delegate' object has no attribute '_library'\n"
     ]
    },
    {
     "name": "stdout",
     "output_type": "stream",
     "text": [
      "Resource monitoring stopped\n",
      "[CPU (GPU failed)] Acc: 87.68%, Energy: 0.146058Wh, Size: 19955.1KB\n",
      "  Fold 3...     GPU delegate failed: gpu: cannot open shared object file: No such file or directory\n",
      "    Falling back to CPU\n",
      "GPU monitoring initialized: 1 device(s) found\n",
      "CPU energy monitoring (RAPL) initialized: 1 domain(s) found\n",
      "  - package-0 (intel-rapl:0)\n",
      "Resource monitoring started\n"
     ]
    },
    {
     "name": "stderr",
     "output_type": "stream",
     "text": [
      "Exception ignored in: <function Delegate.__del__ at 0x70ad48ecab90>\n",
      "Traceback (most recent call last):\n",
      "  File \"/home/pmedur/strojnoUcenje/env/lib/python3.10/site-packages/tensorflow/lite/python/interpreter.py\", line 117, in __del__\n",
      "    if self._library is not None:\n",
      "AttributeError: 'Delegate' object has no attribute '_library'\n",
      "Exception ignored in: <function Delegate.__del__ at 0x70ad48ecab90>\n",
      "Traceback (most recent call last):\n",
      "  File \"/home/pmedur/strojnoUcenje/env/lib/python3.10/site-packages/tensorflow/lite/python/interpreter.py\", line 117, in __del__\n",
      "    if self._library is not None:\n",
      "AttributeError: 'Delegate' object has no attribute '_library'\n"
     ]
    },
    {
     "name": "stdout",
     "output_type": "stream",
     "text": [
      "Resource monitoring stopped\n",
      "[CPU (GPU failed)] Acc: 88.48%, Energy: 0.143782Wh, Size: 19955.1KB\n",
      "  Fold 4...     GPU delegate failed: gpu: cannot open shared object file: No such file or directory\n",
      "    Falling back to CPU\n",
      "GPU monitoring initialized: 1 device(s) found\n",
      "CPU energy monitoring (RAPL) initialized: 1 domain(s) found\n",
      "  - package-0 (intel-rapl:0)\n",
      "Resource monitoring started\n"
     ]
    },
    {
     "name": "stderr",
     "output_type": "stream",
     "text": [
      "Exception ignored in: <function Delegate.__del__ at 0x70ad48ecab90>\n",
      "Traceback (most recent call last):\n",
      "  File \"/home/pmedur/strojnoUcenje/env/lib/python3.10/site-packages/tensorflow/lite/python/interpreter.py\", line 117, in __del__\n",
      "    if self._library is not None:\n",
      "AttributeError: 'Delegate' object has no attribute '_library'\n",
      "Exception ignored in: <function Delegate.__del__ at 0x70ad48ecab90>\n",
      "Traceback (most recent call last):\n",
      "  File \"/home/pmedur/strojnoUcenje/env/lib/python3.10/site-packages/tensorflow/lite/python/interpreter.py\", line 117, in __del__\n",
      "    if self._library is not None:\n",
      "AttributeError: 'Delegate' object has no attribute '_library'\n"
     ]
    },
    {
     "name": "stdout",
     "output_type": "stream",
     "text": [
      "Resource monitoring stopped\n",
      "[CPU (GPU failed)] Acc: 89.09%, Energy: 0.148192Wh, Size: 19955.1KB\n",
      "  Fold 5...     GPU delegate failed: gpu: cannot open shared object file: No such file or directory\n",
      "    Falling back to CPU\n",
      "GPU monitoring initialized: 1 device(s) found\n",
      "CPU energy monitoring (RAPL) initialized: 1 domain(s) found\n",
      "  - package-0 (intel-rapl:0)\n",
      "Resource monitoring started\n"
     ]
    },
    {
     "name": "stderr",
     "output_type": "stream",
     "text": [
      "Exception ignored in: <function Delegate.__del__ at 0x70ad48ecab90>\n",
      "Traceback (most recent call last):\n",
      "  File \"/home/pmedur/strojnoUcenje/env/lib/python3.10/site-packages/tensorflow/lite/python/interpreter.py\", line 117, in __del__\n",
      "    if self._library is not None:\n",
      "AttributeError: 'Delegate' object has no attribute '_library'\n",
      "Exception ignored in: <function Delegate.__del__ at 0x70ad48ecab90>\n",
      "Traceback (most recent call last):\n",
      "  File \"/home/pmedur/strojnoUcenje/env/lib/python3.10/site-packages/tensorflow/lite/python/interpreter.py\", line 117, in __del__\n",
      "    if self._library is not None:\n",
      "AttributeError: 'Delegate' object has no attribute '_library'\n"
     ]
    },
    {
     "name": "stdout",
     "output_type": "stream",
     "text": [
      "Resource monitoring stopped\n",
      "[CPU (GPU failed)] Acc: 89.01%, Energy: 0.146569Wh, Size: 19955.1KB\n",
      "  Fold 6...     GPU delegate failed: gpu: cannot open shared object file: No such file or directory\n",
      "    Falling back to CPU\n",
      "GPU monitoring initialized: 1 device(s) found\n",
      "CPU energy monitoring (RAPL) initialized: 1 domain(s) found\n",
      "  - package-0 (intel-rapl:0)\n",
      "Resource monitoring started\n"
     ]
    },
    {
     "name": "stderr",
     "output_type": "stream",
     "text": [
      "Exception ignored in: <function Delegate.__del__ at 0x70ad48ecab90>\n",
      "Traceback (most recent call last):\n",
      "  File \"/home/pmedur/strojnoUcenje/env/lib/python3.10/site-packages/tensorflow/lite/python/interpreter.py\", line 117, in __del__\n",
      "    if self._library is not None:\n",
      "AttributeError: 'Delegate' object has no attribute '_library'\n",
      "Exception ignored in: <function Delegate.__del__ at 0x70ad48ecab90>\n",
      "Traceback (most recent call last):\n",
      "  File \"/home/pmedur/strojnoUcenje/env/lib/python3.10/site-packages/tensorflow/lite/python/interpreter.py\", line 117, in __del__\n",
      "    if self._library is not None:\n",
      "AttributeError: 'Delegate' object has no attribute '_library'\n"
     ]
    },
    {
     "name": "stdout",
     "output_type": "stream",
     "text": [
      "Resource monitoring stopped\n",
      "[CPU (GPU failed)] Acc: 88.48%, Energy: 0.146152Wh, Size: 19955.1KB\n",
      "  Fold 7...     GPU delegate failed: gpu: cannot open shared object file: No such file or directory\n",
      "    Falling back to CPU\n",
      "GPU monitoring initialized: 1 device(s) found\n",
      "CPU energy monitoring (RAPL) initialized: 1 domain(s) found\n",
      "  - package-0 (intel-rapl:0)\n",
      "Resource monitoring started\n"
     ]
    },
    {
     "name": "stderr",
     "output_type": "stream",
     "text": [
      "Exception ignored in: <function Delegate.__del__ at 0x70ad48ecab90>\n",
      "Traceback (most recent call last):\n",
      "  File \"/home/pmedur/strojnoUcenje/env/lib/python3.10/site-packages/tensorflow/lite/python/interpreter.py\", line 117, in __del__\n",
      "    if self._library is not None:\n",
      "AttributeError: 'Delegate' object has no attribute '_library'\n",
      "Exception ignored in: <function Delegate.__del__ at 0x70ad48ecab90>\n",
      "Traceback (most recent call last):\n",
      "  File \"/home/pmedur/strojnoUcenje/env/lib/python3.10/site-packages/tensorflow/lite/python/interpreter.py\", line 117, in __del__\n",
      "    if self._library is not None:\n",
      "AttributeError: 'Delegate' object has no attribute '_library'\n"
     ]
    },
    {
     "name": "stdout",
     "output_type": "stream",
     "text": [
      "Resource monitoring stopped\n",
      "[CPU (GPU failed)] Acc: 87.92%, Energy: 0.143869Wh, Size: 19955.1KB\n",
      "  Fold 8...     GPU delegate failed: gpu: cannot open shared object file: No such file or directory\n",
      "    Falling back to CPU\n",
      "GPU monitoring initialized: 1 device(s) found\n",
      "CPU energy monitoring (RAPL) initialized: 1 domain(s) found\n",
      "  - package-0 (intel-rapl:0)\n",
      "Resource monitoring started\n"
     ]
    },
    {
     "name": "stderr",
     "output_type": "stream",
     "text": [
      "Exception ignored in: <function Delegate.__del__ at 0x70ad48ecab90>\n",
      "Traceback (most recent call last):\n",
      "  File \"/home/pmedur/strojnoUcenje/env/lib/python3.10/site-packages/tensorflow/lite/python/interpreter.py\", line 117, in __del__\n",
      "    if self._library is not None:\n",
      "AttributeError: 'Delegate' object has no attribute '_library'\n",
      "Exception ignored in: <function Delegate.__del__ at 0x70ad48ecab90>\n",
      "Traceback (most recent call last):\n",
      "  File \"/home/pmedur/strojnoUcenje/env/lib/python3.10/site-packages/tensorflow/lite/python/interpreter.py\", line 117, in __del__\n",
      "    if self._library is not None:\n",
      "AttributeError: 'Delegate' object has no attribute '_library'\n"
     ]
    },
    {
     "name": "stdout",
     "output_type": "stream",
     "text": [
      "Resource monitoring stopped\n",
      "[CPU (GPU failed)] Acc: 87.18%, Energy: 0.145846Wh, Size: 19955.1KB\n",
      "  Fold 9...     GPU delegate failed: gpu: cannot open shared object file: No such file or directory\n",
      "    Falling back to CPU\n",
      "GPU monitoring initialized: 1 device(s) found\n",
      "CPU energy monitoring (RAPL) initialized: 1 domain(s) found\n",
      "  - package-0 (intel-rapl:0)\n",
      "Resource monitoring started\n"
     ]
    },
    {
     "name": "stderr",
     "output_type": "stream",
     "text": [
      "Exception ignored in: <function Delegate.__del__ at 0x70ad48ecab90>\n",
      "Traceback (most recent call last):\n",
      "  File \"/home/pmedur/strojnoUcenje/env/lib/python3.10/site-packages/tensorflow/lite/python/interpreter.py\", line 117, in __del__\n",
      "    if self._library is not None:\n",
      "AttributeError: 'Delegate' object has no attribute '_library'\n",
      "Exception ignored in: <function Delegate.__del__ at 0x70ad48ecab90>\n",
      "Traceback (most recent call last):\n",
      "  File \"/home/pmedur/strojnoUcenje/env/lib/python3.10/site-packages/tensorflow/lite/python/interpreter.py\", line 117, in __del__\n",
      "    if self._library is not None:\n",
      "AttributeError: 'Delegate' object has no attribute '_library'\n"
     ]
    },
    {
     "name": "stdout",
     "output_type": "stream",
     "text": [
      "Resource monitoring stopped\n",
      "[CPU (GPU failed)] Acc: 87.51%, Energy: 0.144515Wh, Size: 19955.1KB\n",
      "  Fold 10...     GPU delegate failed: gpu: cannot open shared object file: No such file or directory\n",
      "    Falling back to CPU\n",
      "GPU monitoring initialized: 1 device(s) found\n",
      "CPU energy monitoring (RAPL) initialized: 1 domain(s) found\n",
      "  - package-0 (intel-rapl:0)\n",
      "Resource monitoring started\n"
     ]
    },
    {
     "name": "stderr",
     "output_type": "stream",
     "text": [
      "Exception ignored in: <function Delegate.__del__ at 0x70ad48ecab90>\n",
      "Traceback (most recent call last):\n",
      "  File \"/home/pmedur/strojnoUcenje/env/lib/python3.10/site-packages/tensorflow/lite/python/interpreter.py\", line 117, in __del__\n",
      "    if self._library is not None:\n",
      "AttributeError: 'Delegate' object has no attribute '_library'\n",
      "Exception ignored in: <function Delegate.__del__ at 0x70ad48ecab90>\n",
      "Traceback (most recent call last):\n",
      "  File \"/home/pmedur/strojnoUcenje/env/lib/python3.10/site-packages/tensorflow/lite/python/interpreter.py\", line 117, in __del__\n",
      "    if self._library is not None:\n",
      "AttributeError: 'Delegate' object has no attribute '_library'\n"
     ]
    },
    {
     "name": "stdout",
     "output_type": "stream",
     "text": [
      "Resource monitoring stopped\n",
      "[CPU (GPU failed)] Acc: 88.89%, Energy: 0.146115Wh, Size: 19955.1KB\n",
      "\n",
      "model_10:\n",
      "  Fold 1...     GPU delegate failed: gpu: cannot open shared object file: No such file or directory\n",
      "    Falling back to CPU\n",
      "GPU monitoring initialized: 1 device(s) found\n",
      "CPU energy monitoring (RAPL) initialized: 1 domain(s) found\n",
      "  - package-0 (intel-rapl:0)\n",
      "Resource monitoring started\n"
     ]
    },
    {
     "name": "stderr",
     "output_type": "stream",
     "text": [
      "Exception ignored in: <function Delegate.__del__ at 0x70ad48ecab90>\n",
      "Traceback (most recent call last):\n",
      "  File \"/home/pmedur/strojnoUcenje/env/lib/python3.10/site-packages/tensorflow/lite/python/interpreter.py\", line 117, in __del__\n",
      "    if self._library is not None:\n",
      "AttributeError: 'Delegate' object has no attribute '_library'\n",
      "Exception ignored in: <function Delegate.__del__ at 0x70ad48ecab90>\n",
      "Traceback (most recent call last):\n",
      "  File \"/home/pmedur/strojnoUcenje/env/lib/python3.10/site-packages/tensorflow/lite/python/interpreter.py\", line 117, in __del__\n",
      "    if self._library is not None:\n",
      "AttributeError: 'Delegate' object has no attribute '_library'\n"
     ]
    },
    {
     "name": "stdout",
     "output_type": "stream",
     "text": [
      "Resource monitoring stopped\n",
      "[CPU (GPU failed)] Acc: 87.54%, Energy: 0.572019Wh, Size: 79649.1KB\n",
      "  Fold 2...     GPU delegate failed: gpu: cannot open shared object file: No such file or directory\n",
      "    Falling back to CPU\n",
      "GPU monitoring initialized: 1 device(s) found\n",
      "CPU energy monitoring (RAPL) initialized: 1 domain(s) found\n",
      "  - package-0 (intel-rapl:0)\n",
      "Resource monitoring started\n"
     ]
    },
    {
     "name": "stderr",
     "output_type": "stream",
     "text": [
      "Exception ignored in: <function Delegate.__del__ at 0x70ad48ecab90>\n",
      "Traceback (most recent call last):\n",
      "  File \"/home/pmedur/strojnoUcenje/env/lib/python3.10/site-packages/tensorflow/lite/python/interpreter.py\", line 117, in __del__\n",
      "    if self._library is not None:\n",
      "AttributeError: 'Delegate' object has no attribute '_library'\n",
      "Exception ignored in: <function Delegate.__del__ at 0x70ad48ecab90>\n",
      "Traceback (most recent call last):\n",
      "  File \"/home/pmedur/strojnoUcenje/env/lib/python3.10/site-packages/tensorflow/lite/python/interpreter.py\", line 117, in __del__\n",
      "    if self._library is not None:\n",
      "AttributeError: 'Delegate' object has no attribute '_library'\n"
     ]
    },
    {
     "name": "stdout",
     "output_type": "stream",
     "text": [
      "Resource monitoring stopped\n",
      "[CPU (GPU failed)] Acc: 86.02%, Energy: 0.574085Wh, Size: 79649.1KB\n",
      "  Fold 3...     GPU delegate failed: gpu: cannot open shared object file: No such file or directory\n",
      "    Falling back to CPU\n",
      "GPU monitoring initialized: 1 device(s) found\n",
      "CPU energy monitoring (RAPL) initialized: 1 domain(s) found\n",
      "  - package-0 (intel-rapl:0)\n",
      "Resource monitoring started\n"
     ]
    },
    {
     "name": "stderr",
     "output_type": "stream",
     "text": [
      "Exception ignored in: <function Delegate.__del__ at 0x70ad48ecab90>\n",
      "Traceback (most recent call last):\n",
      "  File \"/home/pmedur/strojnoUcenje/env/lib/python3.10/site-packages/tensorflow/lite/python/interpreter.py\", line 117, in __del__\n",
      "    if self._library is not None:\n",
      "AttributeError: 'Delegate' object has no attribute '_library'\n",
      "Exception ignored in: <function Delegate.__del__ at 0x70ad48ecab90>\n",
      "Traceback (most recent call last):\n",
      "  File \"/home/pmedur/strojnoUcenje/env/lib/python3.10/site-packages/tensorflow/lite/python/interpreter.py\", line 117, in __del__\n",
      "    if self._library is not None:\n",
      "AttributeError: 'Delegate' object has no attribute '_library'\n"
     ]
    },
    {
     "name": "stdout",
     "output_type": "stream",
     "text": [
      "Resource monitoring stopped\n",
      "[CPU (GPU failed)] Acc: 87.91%, Energy: 0.560347Wh, Size: 79649.1KB\n",
      "  Fold 4...     GPU delegate failed: gpu: cannot open shared object file: No such file or directory\n",
      "    Falling back to CPU\n",
      "GPU monitoring initialized: 1 device(s) found\n",
      "CPU energy monitoring (RAPL) initialized: 1 domain(s) found\n",
      "  - package-0 (intel-rapl:0)\n",
      "Resource monitoring started\n"
     ]
    },
    {
     "name": "stderr",
     "output_type": "stream",
     "text": [
      "Exception ignored in: <function Delegate.__del__ at 0x70ad48ecab90>\n",
      "Traceback (most recent call last):\n",
      "  File \"/home/pmedur/strojnoUcenje/env/lib/python3.10/site-packages/tensorflow/lite/python/interpreter.py\", line 117, in __del__\n",
      "    if self._library is not None:\n",
      "AttributeError: 'Delegate' object has no attribute '_library'\n",
      "Exception ignored in: <function Delegate.__del__ at 0x70ad48ecab90>\n",
      "Traceback (most recent call last):\n",
      "  File \"/home/pmedur/strojnoUcenje/env/lib/python3.10/site-packages/tensorflow/lite/python/interpreter.py\", line 117, in __del__\n",
      "    if self._library is not None:\n",
      "AttributeError: 'Delegate' object has no attribute '_library'\n"
     ]
    },
    {
     "name": "stdout",
     "output_type": "stream",
     "text": [
      "Resource monitoring stopped\n",
      "[CPU (GPU failed)] Acc: 87.17%, Energy: 0.575828Wh, Size: 79649.1KB\n",
      "  Fold 5...     GPU delegate failed: gpu: cannot open shared object file: No such file or directory\n",
      "    Falling back to CPU\n",
      "GPU monitoring initialized: 1 device(s) found\n",
      "CPU energy monitoring (RAPL) initialized: 1 domain(s) found\n",
      "  - package-0 (intel-rapl:0)\n",
      "Resource monitoring started\n"
     ]
    },
    {
     "name": "stderr",
     "output_type": "stream",
     "text": [
      "Exception ignored in: <function Delegate.__del__ at 0x70ad48ecab90>\n",
      "Traceback (most recent call last):\n",
      "  File \"/home/pmedur/strojnoUcenje/env/lib/python3.10/site-packages/tensorflow/lite/python/interpreter.py\", line 117, in __del__\n",
      "    if self._library is not None:\n",
      "AttributeError: 'Delegate' object has no attribute '_library'\n",
      "Exception ignored in: <function Delegate.__del__ at 0x70ad48ecab90>\n",
      "Traceback (most recent call last):\n",
      "  File \"/home/pmedur/strojnoUcenje/env/lib/python3.10/site-packages/tensorflow/lite/python/interpreter.py\", line 117, in __del__\n",
      "    if self._library is not None:\n",
      "AttributeError: 'Delegate' object has no attribute '_library'\n"
     ]
    },
    {
     "name": "stdout",
     "output_type": "stream",
     "text": [
      "Resource monitoring stopped\n",
      "[CPU (GPU failed)] Acc: 87.52%, Energy: 0.565610Wh, Size: 79649.1KB\n",
      "  Fold 6...     GPU delegate failed: gpu: cannot open shared object file: No such file or directory\n",
      "    Falling back to CPU\n",
      "GPU monitoring initialized: 1 device(s) found\n",
      "CPU energy monitoring (RAPL) initialized: 1 domain(s) found\n",
      "  - package-0 (intel-rapl:0)\n",
      "Resource monitoring started\n"
     ]
    },
    {
     "name": "stderr",
     "output_type": "stream",
     "text": [
      "Exception ignored in: <function Delegate.__del__ at 0x70ad48ecab90>\n",
      "Traceback (most recent call last):\n",
      "  File \"/home/pmedur/strojnoUcenje/env/lib/python3.10/site-packages/tensorflow/lite/python/interpreter.py\", line 117, in __del__\n",
      "    if self._library is not None:\n",
      "AttributeError: 'Delegate' object has no attribute '_library'\n",
      "Exception ignored in: <function Delegate.__del__ at 0x70ad48ecab90>\n",
      "Traceback (most recent call last):\n",
      "  File \"/home/pmedur/strojnoUcenje/env/lib/python3.10/site-packages/tensorflow/lite/python/interpreter.py\", line 117, in __del__\n",
      "    if self._library is not None:\n",
      "AttributeError: 'Delegate' object has no attribute '_library'\n"
     ]
    },
    {
     "name": "stdout",
     "output_type": "stream",
     "text": [
      "Resource monitoring stopped\n",
      "[CPU (GPU failed)] Acc: 88.63%, Energy: 0.560469Wh, Size: 79649.1KB\n",
      "  Fold 7...     GPU delegate failed: gpu: cannot open shared object file: No such file or directory\n",
      "    Falling back to CPU\n",
      "GPU monitoring initialized: 1 device(s) found\n",
      "CPU energy monitoring (RAPL) initialized: 1 domain(s) found\n",
      "  - package-0 (intel-rapl:0)\n",
      "Resource monitoring started\n"
     ]
    },
    {
     "name": "stderr",
     "output_type": "stream",
     "text": [
      "Exception ignored in: <function Delegate.__del__ at 0x70ad48ecab90>\n",
      "Traceback (most recent call last):\n",
      "  File \"/home/pmedur/strojnoUcenje/env/lib/python3.10/site-packages/tensorflow/lite/python/interpreter.py\", line 117, in __del__\n",
      "    if self._library is not None:\n",
      "AttributeError: 'Delegate' object has no attribute '_library'\n",
      "Exception ignored in: <function Delegate.__del__ at 0x70ad48ecab90>\n",
      "Traceback (most recent call last):\n",
      "  File \"/home/pmedur/strojnoUcenje/env/lib/python3.10/site-packages/tensorflow/lite/python/interpreter.py\", line 117, in __del__\n",
      "    if self._library is not None:\n",
      "AttributeError: 'Delegate' object has no attribute '_library'\n"
     ]
    },
    {
     "name": "stdout",
     "output_type": "stream",
     "text": [
      "Resource monitoring stopped\n",
      "[CPU (GPU failed)] Acc: 86.93%, Energy: 0.555338Wh, Size: 79649.1KB\n",
      "  Fold 8...     GPU delegate failed: gpu: cannot open shared object file: No such file or directory\n",
      "    Falling back to CPU\n",
      "GPU monitoring initialized: 1 device(s) found\n",
      "CPU energy monitoring (RAPL) initialized: 1 domain(s) found\n",
      "  - package-0 (intel-rapl:0)\n",
      "Resource monitoring started\n"
     ]
    },
    {
     "name": "stderr",
     "output_type": "stream",
     "text": [
      "Exception ignored in: <function Delegate.__del__ at 0x70ad48ecab90>\n",
      "Traceback (most recent call last):\n",
      "  File \"/home/pmedur/strojnoUcenje/env/lib/python3.10/site-packages/tensorflow/lite/python/interpreter.py\", line 117, in __del__\n",
      "    if self._library is not None:\n",
      "AttributeError: 'Delegate' object has no attribute '_library'\n",
      "Exception ignored in: <function Delegate.__del__ at 0x70ad48ecab90>\n",
      "Traceback (most recent call last):\n",
      "  File \"/home/pmedur/strojnoUcenje/env/lib/python3.10/site-packages/tensorflow/lite/python/interpreter.py\", line 117, in __del__\n",
      "    if self._library is not None:\n",
      "AttributeError: 'Delegate' object has no attribute '_library'\n"
     ]
    },
    {
     "name": "stdout",
     "output_type": "stream",
     "text": [
      "Resource monitoring stopped\n",
      "[CPU (GPU failed)] Acc: 87.43%, Energy: 0.568828Wh, Size: 79649.1KB\n",
      "  Fold 9...     GPU delegate failed: gpu: cannot open shared object file: No such file or directory\n",
      "    Falling back to CPU\n",
      "GPU monitoring initialized: 1 device(s) found\n",
      "CPU energy monitoring (RAPL) initialized: 1 domain(s) found\n",
      "  - package-0 (intel-rapl:0)\n",
      "Resource monitoring started\n"
     ]
    },
    {
     "name": "stderr",
     "output_type": "stream",
     "text": [
      "Exception ignored in: <function Delegate.__del__ at 0x70ad48ecab90>\n",
      "Traceback (most recent call last):\n",
      "  File \"/home/pmedur/strojnoUcenje/env/lib/python3.10/site-packages/tensorflow/lite/python/interpreter.py\", line 117, in __del__\n",
      "    if self._library is not None:\n",
      "AttributeError: 'Delegate' object has no attribute '_library'\n",
      "Exception ignored in: <function Delegate.__del__ at 0x70ad48ecab90>\n",
      "Traceback (most recent call last):\n",
      "  File \"/home/pmedur/strojnoUcenje/env/lib/python3.10/site-packages/tensorflow/lite/python/interpreter.py\", line 117, in __del__\n",
      "    if self._library is not None:\n",
      "AttributeError: 'Delegate' object has no attribute '_library'\n"
     ]
    },
    {
     "name": "stdout",
     "output_type": "stream",
     "text": [
      "Resource monitoring stopped\n",
      "[CPU (GPU failed)] Acc: 87.09%, Energy: 0.565227Wh, Size: 79649.1KB\n",
      "  Fold 10...     GPU delegate failed: gpu: cannot open shared object file: No such file or directory\n",
      "    Falling back to CPU\n",
      "GPU monitoring initialized: 1 device(s) found\n",
      "CPU energy monitoring (RAPL) initialized: 1 domain(s) found\n",
      "  - package-0 (intel-rapl:0)\n",
      "Resource monitoring started\n",
      "Resource monitoring stopped\n",
      "[CPU (GPU failed)] Acc: 86.89%, Energy: 0.561927Wh, Size: 79649.1KB\n",
      "\n",
      "================================================================================\n",
      "Results saved to: converted_metrics/tflite_normal_no_quant_gpu_results.csv\n",
      "================================================================================\n",
      "\n",
      "SUMMARY:\n",
      "  Average Accuracy:  74.65%\n",
      "  Average F1 Score:  0.7430\n",
      "  Average Energy:    0.086521Wh\n",
      "  Average Duration:  6.30s\n",
      "  Average Size:      11198.7KB\n",
      "  Device Distribution:\n",
      "device\n",
      "CPU (GPU failed)    100\n"
     ]
    }
   ],
   "source": [
    "df_normal_no_quant_gpu = evaluate_all_tflite_models(\n",
    "    tflite_base_dir='tflite_models',\n",
    "    folds_dir='new_Data_particions',\n",
    "    output_csv='converted_metrics/tflite_normal_no_quant_gpu_results.csv',\n",
    "    model_type='normal',\n",
    "    quantization='no_quant',\n",
    "    use_gpu=True  \n",
    ")"
   ]
  },
  {
   "cell_type": "code",
   "execution_count": 4,
   "id": "e75a5c1d-725b-41d8-8012-720a119a4474",
   "metadata": {
    "scrolled": true
   },
   "outputs": [
    {
     "name": "stdout",
     "output_type": "stream",
     "text": [
      "\n",
      "================================================================================\n",
      "EVALUATING NORMAL TFLITE MODELS (INT8) on CPU\n",
      "================================================================================\n",
      "\n",
      "\n",
      "model_1:\n",
      "  Fold 1... GPU monitoring initialized: 1 device(s) found\n",
      "CPU energy monitoring (RAPL) initialized: 1 domain(s) found\n",
      "  - package-0 (intel-rapl:0)\n",
      "Resource monitoring started\n",
      "Resource monitoring stopped\n",
      "[CPU] Acc: 23.91%, Energy: 0.004920Wh, Size: 43.4KB\n",
      "  Fold 2... GPU monitoring initialized: 1 device(s) found\n",
      "CPU energy monitoring (RAPL) initialized: 1 domain(s) found\n",
      "  - package-0 (intel-rapl:0)\n",
      "Resource monitoring started\n",
      "Resource monitoring stopped\n",
      "[CPU] Acc: 47.67%, Energy: 0.004280Wh, Size: 43.4KB\n",
      "  Fold 3... GPU monitoring initialized: 1 device(s) found\n",
      "CPU energy monitoring (RAPL) initialized: 1 domain(s) found\n",
      "  - package-0 (intel-rapl:0)\n",
      "Resource monitoring started\n",
      "Resource monitoring stopped\n",
      "[CPU] Acc: 40.41%, Energy: 0.004491Wh, Size: 43.4KB\n",
      "  Fold 4... GPU monitoring initialized: 1 device(s) found\n",
      "CPU energy monitoring (RAPL) initialized: 1 domain(s) found\n",
      "  - package-0 (intel-rapl:0)\n",
      "Resource monitoring started\n",
      "Resource monitoring stopped\n",
      "[CPU] Acc: 17.80%, Energy: 0.004277Wh, Size: 43.4KB\n",
      "  Fold 5... GPU monitoring initialized: 1 device(s) found\n",
      "CPU energy monitoring (RAPL) initialized: 1 domain(s) found\n",
      "  - package-0 (intel-rapl:0)\n",
      "Resource monitoring started\n",
      "Resource monitoring stopped\n",
      "[CPU] Acc: 17.61%, Energy: 0.005783Wh, Size: 43.4KB\n",
      "  Fold 6... GPU monitoring initialized: 1 device(s) found\n",
      "CPU energy monitoring (RAPL) initialized: 1 domain(s) found\n",
      "  - package-0 (intel-rapl:0)\n",
      "Resource monitoring started\n",
      "Resource monitoring stopped\n",
      "[CPU] Acc: 38.16%, Energy: 0.004156Wh, Size: 43.4KB\n",
      "  Fold 7... GPU monitoring initialized: 1 device(s) found\n",
      "CPU energy monitoring (RAPL) initialized: 1 domain(s) found\n",
      "  - package-0 (intel-rapl:0)\n",
      "Resource monitoring started\n",
      "Resource monitoring stopped\n",
      "[CPU] Acc: 41.66%, Energy: 0.004229Wh, Size: 43.4KB\n",
      "  Fold 8... GPU monitoring initialized: 1 device(s) found\n",
      "CPU energy monitoring (RAPL) initialized: 1 domain(s) found\n",
      "  - package-0 (intel-rapl:0)\n",
      "Resource monitoring started\n",
      "Resource monitoring stopped\n",
      "[CPU] Acc: 43.73%, Energy: 0.004180Wh, Size: 43.4KB\n",
      "  Fold 9... GPU monitoring initialized: 1 device(s) found\n",
      "CPU energy monitoring (RAPL) initialized: 1 domain(s) found\n",
      "  - package-0 (intel-rapl:0)\n",
      "Resource monitoring started\n",
      "Resource monitoring stopped\n",
      "[CPU] Acc: 41.67%, Energy: 0.004184Wh, Size: 43.4KB\n",
      "  Fold 10... GPU monitoring initialized: 1 device(s) found\n",
      "CPU energy monitoring (RAPL) initialized: 1 domain(s) found\n",
      "  - package-0 (intel-rapl:0)\n",
      "Resource monitoring started\n",
      "Resource monitoring stopped\n",
      "[CPU] Acc: 43.50%, Energy: 0.004181Wh, Size: 43.4KB\n",
      "\n",
      "model_2:\n",
      "  Fold 1... GPU monitoring initialized: 1 device(s) found\n",
      "CPU energy monitoring (RAPL) initialized: 1 domain(s) found\n",
      "  - package-0 (intel-rapl:0)\n",
      "Resource monitoring started\n",
      "Resource monitoring stopped\n",
      "[CPU] Acc: 63.78%, Energy: 0.007515Wh, Size: 157.5KB\n",
      "  Fold 2... GPU monitoring initialized: 1 device(s) found\n",
      "CPU energy monitoring (RAPL) initialized: 1 domain(s) found\n",
      "  - package-0 (intel-rapl:0)\n",
      "Resource monitoring started\n",
      "Resource monitoring stopped\n",
      "[CPU] Acc: 52.57%, Energy: 0.006303Wh, Size: 157.5KB\n",
      "  Fold 3... GPU monitoring initialized: 1 device(s) found\n",
      "CPU energy monitoring (RAPL) initialized: 1 domain(s) found\n",
      "  - package-0 (intel-rapl:0)\n",
      "Resource monitoring started\n",
      "Resource monitoring stopped\n",
      "[CPU] Acc: 53.21%, Energy: 0.006175Wh, Size: 157.5KB\n",
      "  Fold 4... GPU monitoring initialized: 1 device(s) found\n",
      "CPU energy monitoring (RAPL) initialized: 1 domain(s) found\n",
      "  - package-0 (intel-rapl:0)\n",
      "Resource monitoring started\n",
      "Resource monitoring stopped\n",
      "[CPU] Acc: 40.36%, Energy: 0.006359Wh, Size: 157.5KB\n",
      "  Fold 5... GPU monitoring initialized: 1 device(s) found\n",
      "CPU energy monitoring (RAPL) initialized: 1 domain(s) found\n",
      "  - package-0 (intel-rapl:0)\n",
      "Resource monitoring started\n",
      "Resource monitoring stopped\n",
      "[CPU] Acc: 50.94%, Energy: 0.006205Wh, Size: 157.5KB\n",
      "  Fold 6... GPU monitoring initialized: 1 device(s) found\n",
      "CPU energy monitoring (RAPL) initialized: 1 domain(s) found\n",
      "  - package-0 (intel-rapl:0)\n",
      "Resource monitoring started\n",
      "Resource monitoring stopped\n",
      "[CPU] Acc: 59.41%, Energy: 0.006427Wh, Size: 157.5KB\n",
      "  Fold 7... GPU monitoring initialized: 1 device(s) found\n",
      "CPU energy monitoring (RAPL) initialized: 1 domain(s) found\n",
      "  - package-0 (intel-rapl:0)\n",
      "Resource monitoring started\n",
      "Resource monitoring stopped\n",
      "[CPU] Acc: 46.27%, Energy: 0.006173Wh, Size: 157.5KB\n",
      "  Fold 8... GPU monitoring initialized: 1 device(s) found\n",
      "CPU energy monitoring (RAPL) initialized: 1 domain(s) found\n",
      "  - package-0 (intel-rapl:0)\n",
      "Resource monitoring started\n",
      "Resource monitoring stopped\n",
      "[CPU] Acc: 61.79%, Energy: 0.006230Wh, Size: 157.5KB\n",
      "  Fold 9... GPU monitoring initialized: 1 device(s) found\n",
      "CPU energy monitoring (RAPL) initialized: 1 domain(s) found\n",
      "  - package-0 (intel-rapl:0)\n",
      "Resource monitoring started\n",
      "Resource monitoring stopped\n",
      "[CPU] Acc: 59.39%, Energy: 0.006230Wh, Size: 157.5KB\n",
      "  Fold 10... GPU monitoring initialized: 1 device(s) found\n",
      "CPU energy monitoring (RAPL) initialized: 1 domain(s) found\n",
      "  - package-0 (intel-rapl:0)\n",
      "Resource monitoring started\n",
      "Resource monitoring stopped\n",
      "[CPU] Acc: 57.57%, Energy: 0.006229Wh, Size: 157.5KB\n",
      "\n",
      "model_3:\n",
      "  Fold 1... GPU monitoring initialized: 1 device(s) found\n",
      "CPU energy monitoring (RAPL) initialized: 1 domain(s) found\n",
      "  - package-0 (intel-rapl:0)\n",
      "Resource monitoring started\n",
      "Resource monitoring stopped\n",
      "[CPU] Acc: 79.88%, Energy: 0.008606Wh, Size: 160.1KB\n",
      "  Fold 2... GPU monitoring initialized: 1 device(s) found\n",
      "CPU energy monitoring (RAPL) initialized: 1 domain(s) found\n",
      "  - package-0 (intel-rapl:0)\n",
      "Resource monitoring started\n",
      "Resource monitoring stopped\n",
      "[CPU] Acc: 80.69%, Energy: 0.008715Wh, Size: 160.1KB\n",
      "  Fold 3... GPU monitoring initialized: 1 device(s) found\n",
      "CPU energy monitoring (RAPL) initialized: 1 domain(s) found\n",
      "  - package-0 (intel-rapl:0)\n",
      "Resource monitoring started\n",
      "Resource monitoring stopped\n",
      "[CPU] Acc: 81.15%, Energy: 0.008827Wh, Size: 160.1KB\n",
      "  Fold 4... GPU monitoring initialized: 1 device(s) found\n",
      "CPU energy monitoring (RAPL) initialized: 1 domain(s) found\n",
      "  - package-0 (intel-rapl:0)\n",
      "Resource monitoring started\n",
      "Resource monitoring stopped\n",
      "[CPU] Acc: 79.63%, Energy: 0.011545Wh, Size: 160.1KB\n",
      "  Fold 5... GPU monitoring initialized: 1 device(s) found\n",
      "CPU energy monitoring (RAPL) initialized: 1 domain(s) found\n",
      "  - package-0 (intel-rapl:0)\n",
      "Resource monitoring started\n",
      "Resource monitoring stopped\n",
      "[CPU] Acc: 79.66%, Energy: 0.008645Wh, Size: 160.1KB\n",
      "  Fold 6... GPU monitoring initialized: 1 device(s) found\n",
      "CPU energy monitoring (RAPL) initialized: 1 domain(s) found\n",
      "  - package-0 (intel-rapl:0)\n",
      "Resource monitoring started\n",
      "Resource monitoring stopped\n",
      "[CPU] Acc: 81.58%, Energy: 0.008512Wh, Size: 160.1KB\n",
      "  Fold 7... GPU monitoring initialized: 1 device(s) found\n",
      "CPU energy monitoring (RAPL) initialized: 1 domain(s) found\n",
      "  - package-0 (intel-rapl:0)\n",
      "Resource monitoring started\n",
      "Resource monitoring stopped\n",
      "[CPU] Acc: 80.22%, Energy: 0.008419Wh, Size: 160.1KB\n",
      "  Fold 8... GPU monitoring initialized: 1 device(s) found\n",
      "CPU energy monitoring (RAPL) initialized: 1 domain(s) found\n",
      "  - package-0 (intel-rapl:0)\n",
      "Resource monitoring started\n",
      "Resource monitoring stopped\n",
      "[CPU] Acc: 78.82%, Energy: 0.009032Wh, Size: 160.1KB\n",
      "  Fold 9... GPU monitoring initialized: 1 device(s) found\n",
      "CPU energy monitoring (RAPL) initialized: 1 domain(s) found\n",
      "  - package-0 (intel-rapl:0)\n",
      "Resource monitoring started\n",
      "Resource monitoring stopped\n",
      "[CPU] Acc: 81.08%, Energy: 0.008767Wh, Size: 160.1KB\n",
      "  Fold 10... GPU monitoring initialized: 1 device(s) found\n",
      "CPU energy monitoring (RAPL) initialized: 1 domain(s) found\n",
      "  - package-0 (intel-rapl:0)\n",
      "Resource monitoring started\n",
      "Resource monitoring stopped\n",
      "[CPU] Acc: 80.71%, Energy: 0.008557Wh, Size: 160.1KB\n",
      "\n",
      "model_4:\n",
      "  Fold 1... GPU monitoring initialized: 1 device(s) found\n",
      "CPU energy monitoring (RAPL) initialized: 1 domain(s) found\n",
      "  - package-0 (intel-rapl:0)\n",
      "Resource monitoring started\n",
      "Resource monitoring stopped\n",
      "[CPU] Acc: 63.50%, Energy: 0.014415Wh, Size: 610.5KB\n",
      "  Fold 2... GPU monitoring initialized: 1 device(s) found\n",
      "CPU energy monitoring (RAPL) initialized: 1 domain(s) found\n",
      "  - package-0 (intel-rapl:0)\n",
      "Resource monitoring started\n",
      "Resource monitoring stopped\n",
      "[CPU] Acc: 61.55%, Energy: 0.014524Wh, Size: 610.5KB\n",
      "  Fold 3... GPU monitoring initialized: 1 device(s) found\n",
      "CPU energy monitoring (RAPL) initialized: 1 domain(s) found\n",
      "  - package-0 (intel-rapl:0)\n",
      "Resource monitoring started\n",
      "Resource monitoring stopped\n",
      "[CPU] Acc: 63.43%, Energy: 0.014483Wh, Size: 610.5KB\n",
      "  Fold 4... GPU monitoring initialized: 1 device(s) found\n",
      "CPU energy monitoring (RAPL) initialized: 1 domain(s) found\n",
      "  - package-0 (intel-rapl:0)\n",
      "Resource monitoring started\n",
      "Resource monitoring stopped\n",
      "[CPU] Acc: 66.52%, Energy: 0.014569Wh, Size: 610.5KB\n",
      "  Fold 5... GPU monitoring initialized: 1 device(s) found\n",
      "CPU energy monitoring (RAPL) initialized: 1 domain(s) found\n",
      "  - package-0 (intel-rapl:0)\n",
      "Resource monitoring started\n",
      "Resource monitoring stopped\n",
      "[CPU] Acc: 64.07%, Energy: 0.014318Wh, Size: 610.5KB\n",
      "  Fold 6... GPU monitoring initialized: 1 device(s) found\n",
      "CPU energy monitoring (RAPL) initialized: 1 domain(s) found\n",
      "  - package-0 (intel-rapl:0)\n",
      "Resource monitoring started\n",
      "Resource monitoring stopped\n",
      "[CPU] Acc: 66.15%, Energy: 0.014431Wh, Size: 610.5KB\n",
      "  Fold 7... GPU monitoring initialized: 1 device(s) found\n",
      "CPU energy monitoring (RAPL) initialized: 1 domain(s) found\n",
      "  - package-0 (intel-rapl:0)\n",
      "Resource monitoring started\n",
      "Resource monitoring stopped\n",
      "[CPU] Acc: 62.50%, Energy: 0.014171Wh, Size: 610.5KB\n",
      "  Fold 8... GPU monitoring initialized: 1 device(s) found\n",
      "CPU energy monitoring (RAPL) initialized: 1 domain(s) found\n",
      "  - package-0 (intel-rapl:0)\n",
      "Resource monitoring started\n",
      "Resource monitoring stopped\n",
      "[CPU] Acc: 62.84%, Energy: 0.014377Wh, Size: 610.5KB\n",
      "  Fold 9... GPU monitoring initialized: 1 device(s) found\n",
      "CPU energy monitoring (RAPL) initialized: 1 domain(s) found\n",
      "  - package-0 (intel-rapl:0)\n",
      "Resource monitoring started\n",
      "Resource monitoring stopped\n",
      "[CPU] Acc: 64.18%, Energy: 0.014525Wh, Size: 610.5KB\n",
      "  Fold 10... GPU monitoring initialized: 1 device(s) found\n",
      "CPU energy monitoring (RAPL) initialized: 1 domain(s) found\n",
      "  - package-0 (intel-rapl:0)\n",
      "Resource monitoring started\n",
      "Resource monitoring stopped\n",
      "[CPU] Acc: 60.12%, Energy: 0.014243Wh, Size: 610.5KB\n",
      "\n",
      "model_5:\n",
      "  Fold 1... GPU monitoring initialized: 1 device(s) found\n",
      "CPU energy monitoring (RAPL) initialized: 1 domain(s) found\n",
      "  - package-0 (intel-rapl:0)\n",
      "Resource monitoring started\n",
      "Resource monitoring stopped\n",
      "[CPU] Acc: 78.47%, Energy: 0.009133Wh, Size: 85.6KB\n",
      "  Fold 2... GPU monitoring initialized: 1 device(s) found\n",
      "CPU energy monitoring (RAPL) initialized: 1 domain(s) found\n",
      "  - package-0 (intel-rapl:0)\n",
      "Resource monitoring started\n",
      "Resource monitoring stopped\n",
      "[CPU] Acc: 77.31%, Energy: 0.007862Wh, Size: 85.6KB\n",
      "  Fold 3... GPU monitoring initialized: 1 device(s) found\n",
      "CPU energy monitoring (RAPL) initialized: 1 domain(s) found\n",
      "  - package-0 (intel-rapl:0)\n",
      "Resource monitoring started\n",
      "Resource monitoring stopped\n",
      "[CPU] Acc: 77.92%, Energy: 0.007690Wh, Size: 85.6KB\n",
      "  Fold 4... GPU monitoring initialized: 1 device(s) found\n",
      "CPU energy monitoring (RAPL) initialized: 1 domain(s) found\n",
      "  - package-0 (intel-rapl:0)\n",
      "Resource monitoring started\n",
      "Resource monitoring stopped\n",
      "[CPU] Acc: 77.63%, Energy: 0.007896Wh, Size: 85.6KB\n",
      "  Fold 5... GPU monitoring initialized: 1 device(s) found\n",
      "CPU energy monitoring (RAPL) initialized: 1 domain(s) found\n",
      "  - package-0 (intel-rapl:0)\n",
      "Resource monitoring started\n",
      "Resource monitoring stopped\n",
      "[CPU] Acc: 77.84%, Energy: 0.007692Wh, Size: 85.6KB\n",
      "  Fold 6... GPU monitoring initialized: 1 device(s) found\n",
      "CPU energy monitoring (RAPL) initialized: 1 domain(s) found\n",
      "  - package-0 (intel-rapl:0)\n",
      "Resource monitoring started\n",
      "Resource monitoring stopped\n",
      "[CPU] Acc: 77.37%, Energy: 0.007782Wh, Size: 85.6KB\n",
      "  Fold 7... GPU monitoring initialized: 1 device(s) found\n",
      "CPU energy monitoring (RAPL) initialized: 1 domain(s) found\n",
      "  - package-0 (intel-rapl:0)\n",
      "Resource monitoring started\n",
      "Resource monitoring stopped\n",
      "[CPU] Acc: 77.41%, Energy: 0.008067Wh, Size: 85.6KB\n",
      "  Fold 8... GPU monitoring initialized: 1 device(s) found\n",
      "CPU energy monitoring (RAPL) initialized: 1 domain(s) found\n",
      "  - package-0 (intel-rapl:0)\n",
      "Resource monitoring started\n",
      "Resource monitoring stopped\n",
      "[CPU] Acc: 75.61%, Energy: 0.007685Wh, Size: 85.6KB\n",
      "  Fold 9... GPU monitoring initialized: 1 device(s) found\n",
      "CPU energy monitoring (RAPL) initialized: 1 domain(s) found\n",
      "  - package-0 (intel-rapl:0)\n",
      "Resource monitoring started\n",
      "Resource monitoring stopped\n",
      "[CPU] Acc: 78.16%, Energy: 0.007963Wh, Size: 85.6KB\n",
      "  Fold 10... GPU monitoring initialized: 1 device(s) found\n",
      "CPU energy monitoring (RAPL) initialized: 1 domain(s) found\n",
      "  - package-0 (intel-rapl:0)\n",
      "Resource monitoring started\n",
      "Resource monitoring stopped\n",
      "[CPU] Acc: 78.51%, Energy: 0.007690Wh, Size: 85.6KB\n",
      "\n",
      "model_6:\n",
      "  Fold 1... GPU monitoring initialized: 1 device(s) found\n",
      "CPU energy monitoring (RAPL) initialized: 1 domain(s) found\n",
      "  - package-0 (intel-rapl:0)\n",
      "Resource monitoring started\n",
      "Resource monitoring stopped\n",
      "[CPU] Acc: 80.19%, Energy: 0.008685Wh, Size: 160.1KB\n",
      "  Fold 2... GPU monitoring initialized: 1 device(s) found\n",
      "CPU energy monitoring (RAPL) initialized: 1 domain(s) found\n",
      "  - package-0 (intel-rapl:0)\n",
      "Resource monitoring started\n",
      "Resource monitoring stopped\n",
      "[CPU] Acc: 80.41%, Energy: 0.008701Wh, Size: 160.1KB\n",
      "  Fold 3... GPU monitoring initialized: 1 device(s) found\n",
      "CPU energy monitoring (RAPL) initialized: 1 domain(s) found\n",
      "  - package-0 (intel-rapl:0)\n",
      "Resource monitoring started\n",
      "Resource monitoring stopped\n",
      "[CPU] Acc: 80.39%, Energy: 0.008545Wh, Size: 160.1KB\n",
      "  Fold 4... GPU monitoring initialized: 1 device(s) found\n",
      "CPU energy monitoring (RAPL) initialized: 1 domain(s) found\n",
      "  - package-0 (intel-rapl:0)\n",
      "Resource monitoring started\n",
      "Resource monitoring stopped\n",
      "[CPU] Acc: 79.83%, Energy: 0.008594Wh, Size: 160.1KB\n",
      "  Fold 5... GPU monitoring initialized: 1 device(s) found\n",
      "CPU energy monitoring (RAPL) initialized: 1 domain(s) found\n",
      "  - package-0 (intel-rapl:0)\n",
      "Resource monitoring started\n",
      "Resource monitoring stopped\n",
      "[CPU] Acc: 80.66%, Energy: 0.008634Wh, Size: 160.1KB\n",
      "  Fold 6... GPU monitoring initialized: 1 device(s) found\n",
      "CPU energy monitoring (RAPL) initialized: 1 domain(s) found\n",
      "  - package-0 (intel-rapl:0)\n",
      "Resource monitoring started\n",
      "Resource monitoring stopped\n",
      "[CPU] Acc: 80.14%, Energy: 0.008567Wh, Size: 160.1KB\n",
      "  Fold 7... GPU monitoring initialized: 1 device(s) found\n",
      "CPU energy monitoring (RAPL) initialized: 1 domain(s) found\n",
      "  - package-0 (intel-rapl:0)\n",
      "Resource monitoring started\n",
      "Resource monitoring stopped\n",
      "[CPU] Acc: 80.07%, Energy: 0.008539Wh, Size: 160.1KB\n",
      "  Fold 8... GPU monitoring initialized: 1 device(s) found\n",
      "CPU energy monitoring (RAPL) initialized: 1 domain(s) found\n",
      "  - package-0 (intel-rapl:0)\n",
      "Resource monitoring started\n",
      "Resource monitoring stopped\n",
      "[CPU] Acc: 78.82%, Energy: 0.008621Wh, Size: 160.1KB\n",
      "  Fold 9... GPU monitoring initialized: 1 device(s) found\n",
      "CPU energy monitoring (RAPL) initialized: 1 domain(s) found\n",
      "  - package-0 (intel-rapl:0)\n",
      "Resource monitoring started\n",
      "Resource monitoring stopped\n",
      "[CPU] Acc: 80.28%, Energy: 0.008535Wh, Size: 160.1KB\n",
      "  Fold 10... GPU monitoring initialized: 1 device(s) found\n",
      "CPU energy monitoring (RAPL) initialized: 1 domain(s) found\n",
      "  - package-0 (intel-rapl:0)\n",
      "Resource monitoring started\n",
      "Resource monitoring stopped\n",
      "[CPU] Acc: 81.42%, Energy: 0.008650Wh, Size: 160.1KB\n",
      "\n",
      "model_7:\n",
      "  Fold 1... GPU monitoring initialized: 1 device(s) found\n",
      "CPU energy monitoring (RAPL) initialized: 1 domain(s) found\n",
      "  - package-0 (intel-rapl:0)\n",
      "Resource monitoring started\n",
      "Resource monitoring stopped\n",
      "[CPU] Acc: 88.46%, Energy: 0.030374Wh, Size: 683.1KB\n",
      "  Fold 2... GPU monitoring initialized: 1 device(s) found\n",
      "CPU energy monitoring (RAPL) initialized: 1 domain(s) found\n",
      "  - package-0 (intel-rapl:0)\n",
      "Resource monitoring started\n",
      "Resource monitoring stopped\n",
      "[CPU] Acc: 88.34%, Energy: 0.030741Wh, Size: 683.1KB\n",
      "  Fold 3... GPU monitoring initialized: 1 device(s) found\n",
      "CPU energy monitoring (RAPL) initialized: 1 domain(s) found\n",
      "  - package-0 (intel-rapl:0)\n",
      "Resource monitoring started\n",
      "Resource monitoring stopped\n",
      "[CPU] Acc: 88.74%, Energy: 0.030099Wh, Size: 683.1KB\n",
      "  Fold 4... GPU monitoring initialized: 1 device(s) found\n",
      "CPU energy monitoring (RAPL) initialized: 1 domain(s) found\n",
      "  - package-0 (intel-rapl:0)\n",
      "Resource monitoring started\n",
      "Resource monitoring stopped\n",
      "[CPU] Acc: 88.08%, Energy: 0.033327Wh, Size: 683.1KB\n",
      "  Fold 5... GPU monitoring initialized: 1 device(s) found\n",
      "CPU energy monitoring (RAPL) initialized: 1 domain(s) found\n",
      "  - package-0 (intel-rapl:0)\n",
      "Resource monitoring started\n",
      "Resource monitoring stopped\n",
      "[CPU] Acc: 88.15%, Energy: 0.030451Wh, Size: 683.1KB\n",
      "  Fold 6... GPU monitoring initialized: 1 device(s) found\n",
      "CPU energy monitoring (RAPL) initialized: 1 domain(s) found\n",
      "  - package-0 (intel-rapl:0)\n",
      "Resource monitoring started\n",
      "Resource monitoring stopped\n",
      "[CPU] Acc: 87.71%, Energy: 0.029934Wh, Size: 683.1KB\n",
      "  Fold 7... GPU monitoring initialized: 1 device(s) found\n",
      "CPU energy monitoring (RAPL) initialized: 1 domain(s) found\n",
      "  - package-0 (intel-rapl:0)\n",
      "Resource monitoring started\n",
      "Resource monitoring stopped\n",
      "[CPU] Acc: 88.14%, Energy: 0.029696Wh, Size: 683.1KB\n",
      "  Fold 8... GPU monitoring initialized: 1 device(s) found\n",
      "CPU energy monitoring (RAPL) initialized: 1 domain(s) found\n",
      "  - package-0 (intel-rapl:0)\n",
      "Resource monitoring started\n",
      "Resource monitoring stopped\n",
      "[CPU] Acc: 87.65%, Energy: 0.030047Wh, Size: 683.1KB\n",
      "  Fold 9... GPU monitoring initialized: 1 device(s) found\n",
      "CPU energy monitoring (RAPL) initialized: 1 domain(s) found\n",
      "  - package-0 (intel-rapl:0)\n",
      "Resource monitoring started\n",
      "Resource monitoring stopped\n",
      "[CPU] Acc: 88.88%, Energy: 0.030740Wh, Size: 683.1KB\n",
      "  Fold 10... GPU monitoring initialized: 1 device(s) found\n",
      "CPU energy monitoring (RAPL) initialized: 1 domain(s) found\n",
      "  - package-0 (intel-rapl:0)\n",
      "Resource monitoring started\n",
      "Resource monitoring stopped\n",
      "[CPU] Acc: 88.10%, Energy: 0.030311Wh, Size: 683.1KB\n",
      "\n",
      "model_8:\n",
      "  Fold 1... GPU monitoring initialized: 1 device(s) found\n",
      "CPU energy monitoring (RAPL) initialized: 1 domain(s) found\n",
      "  - package-0 (intel-rapl:0)\n",
      "Resource monitoring started\n",
      "Resource monitoring stopped\n",
      "[CPU] Acc: 82.66%, Energy: 0.055714Wh, Size: 1245.0KB\n",
      "  Fold 2... GPU monitoring initialized: 1 device(s) found\n",
      "CPU energy monitoring (RAPL) initialized: 1 domain(s) found\n",
      "  - package-0 (intel-rapl:0)\n",
      "Resource monitoring started\n",
      "Resource monitoring stopped\n",
      "[CPU] Acc: 84.54%, Energy: 0.055418Wh, Size: 1245.0KB\n",
      "  Fold 3... GPU monitoring initialized: 1 device(s) found\n",
      "CPU energy monitoring (RAPL) initialized: 1 domain(s) found\n",
      "  - package-0 (intel-rapl:0)\n",
      "Resource monitoring started\n",
      "Resource monitoring stopped\n",
      "[CPU] Acc: 85.12%, Energy: 0.054992Wh, Size: 1245.0KB\n",
      "  Fold 4... GPU monitoring initialized: 1 device(s) found\n",
      "CPU energy monitoring (RAPL) initialized: 1 domain(s) found\n",
      "  - package-0 (intel-rapl:0)\n",
      "Resource monitoring started\n",
      "Resource monitoring stopped\n",
      "[CPU] Acc: 84.29%, Energy: 0.055708Wh, Size: 1245.0KB\n",
      "  Fold 5... GPU monitoring initialized: 1 device(s) found\n",
      "CPU energy monitoring (RAPL) initialized: 1 domain(s) found\n",
      "  - package-0 (intel-rapl:0)\n",
      "Resource monitoring started\n",
      "Resource monitoring stopped\n",
      "[CPU] Acc: 84.29%, Energy: 0.054620Wh, Size: 1245.0KB\n",
      "  Fold 6... GPU monitoring initialized: 1 device(s) found\n",
      "CPU energy monitoring (RAPL) initialized: 1 domain(s) found\n",
      "  - package-0 (intel-rapl:0)\n",
      "Resource monitoring started\n",
      "Resource monitoring stopped\n",
      "[CPU] Acc: 84.60%, Energy: 0.054877Wh, Size: 1245.0KB\n",
      "  Fold 7... GPU monitoring initialized: 1 device(s) found\n",
      "CPU energy monitoring (RAPL) initialized: 1 domain(s) found\n",
      "  - package-0 (intel-rapl:0)\n",
      "Resource monitoring started\n",
      "Resource monitoring stopped\n",
      "[CPU] Acc: 84.76%, Energy: 0.053999Wh, Size: 1245.0KB\n",
      "  Fold 8... GPU monitoring initialized: 1 device(s) found\n",
      "CPU energy monitoring (RAPL) initialized: 1 domain(s) found\n",
      "  - package-0 (intel-rapl:0)\n",
      "Resource monitoring started\n",
      "Resource monitoring stopped\n",
      "[CPU] Acc: 84.35%, Energy: 0.055435Wh, Size: 1245.0KB\n",
      "  Fold 9... GPU monitoring initialized: 1 device(s) found\n",
      "CPU energy monitoring (RAPL) initialized: 1 domain(s) found\n",
      "  - package-0 (intel-rapl:0)\n",
      "Resource monitoring started\n",
      "Resource monitoring stopped\n",
      "[CPU] Acc: 83.80%, Energy: 0.054870Wh, Size: 1245.0KB\n",
      "  Fold 10... GPU monitoring initialized: 1 device(s) found\n",
      "CPU energy monitoring (RAPL) initialized: 1 domain(s) found\n",
      "  - package-0 (intel-rapl:0)\n",
      "Resource monitoring started\n",
      "Resource monitoring stopped\n",
      "[CPU] Acc: 84.08%, Energy: 0.054075Wh, Size: 1245.0KB\n",
      "\n",
      "model_9:\n",
      "  Fold 1... GPU monitoring initialized: 1 device(s) found\n",
      "CPU energy monitoring (RAPL) initialized: 1 domain(s) found\n",
      "  - package-0 (intel-rapl:0)\n",
      "Resource monitoring started\n",
      "Resource monitoring stopped\n",
      "[CPU] Acc: 88.51%, Energy: 0.143021Wh, Size: 5006.5KB\n",
      "  Fold 2... GPU monitoring initialized: 1 device(s) found\n",
      "CPU energy monitoring (RAPL) initialized: 1 domain(s) found\n",
      "  - package-0 (intel-rapl:0)\n",
      "Resource monitoring started\n",
      "Resource monitoring stopped\n",
      "[CPU] Acc: 88.05%, Energy: 0.141435Wh, Size: 5006.5KB\n",
      "  Fold 3... GPU monitoring initialized: 1 device(s) found\n",
      "CPU energy monitoring (RAPL) initialized: 1 domain(s) found\n",
      "  - package-0 (intel-rapl:0)\n",
      "Resource monitoring started\n",
      "Resource monitoring stopped\n",
      "[CPU] Acc: 88.02%, Energy: 0.151308Wh, Size: 5006.5KB\n",
      "  Fold 4... GPU monitoring initialized: 1 device(s) found\n",
      "CPU energy monitoring (RAPL) initialized: 1 domain(s) found\n",
      "  - package-0 (intel-rapl:0)\n",
      "Resource monitoring started\n",
      "Resource monitoring stopped\n",
      "[CPU] Acc: 88.77%, Energy: 0.155459Wh, Size: 5006.5KB\n",
      "  Fold 5... GPU monitoring initialized: 1 device(s) found\n",
      "CPU energy monitoring (RAPL) initialized: 1 domain(s) found\n",
      "  - package-0 (intel-rapl:0)\n",
      "Resource monitoring started\n",
      "Resource monitoring stopped\n",
      "[CPU] Acc: 88.33%, Energy: 0.152138Wh, Size: 5006.5KB\n",
      "  Fold 6... GPU monitoring initialized: 1 device(s) found\n",
      "CPU energy monitoring (RAPL) initialized: 1 domain(s) found\n",
      "  - package-0 (intel-rapl:0)\n",
      "Resource monitoring started\n",
      "Resource monitoring stopped\n",
      "[CPU] Acc: 88.20%, Energy: 0.169983Wh, Size: 5006.5KB\n",
      "  Fold 7... GPU monitoring initialized: 1 device(s) found\n",
      "CPU energy monitoring (RAPL) initialized: 1 domain(s) found\n",
      "  - package-0 (intel-rapl:0)\n",
      "Resource monitoring started\n",
      "Resource monitoring stopped\n",
      "[CPU] Acc: 87.19%, Energy: 0.184444Wh, Size: 5006.5KB\n",
      "  Fold 8... GPU monitoring initialized: 1 device(s) found\n",
      "CPU energy monitoring (RAPL) initialized: 1 domain(s) found\n",
      "  - package-0 (intel-rapl:0)\n",
      "Resource monitoring started\n",
      "Resource monitoring stopped\n",
      "[CPU] Acc: 86.75%, Energy: 0.175623Wh, Size: 5006.5KB\n",
      "  Fold 9... GPU monitoring initialized: 1 device(s) found\n",
      "CPU energy monitoring (RAPL) initialized: 1 domain(s) found\n",
      "  - package-0 (intel-rapl:0)\n",
      "Resource monitoring started\n",
      "Resource monitoring stopped\n",
      "[CPU] Acc: 86.83%, Energy: 0.117658Wh, Size: 5006.5KB\n",
      "  Fold 10... GPU monitoring initialized: 1 device(s) found\n",
      "CPU energy monitoring (RAPL) initialized: 1 domain(s) found\n",
      "  - package-0 (intel-rapl:0)\n",
      "Resource monitoring started\n",
      "Resource monitoring stopped\n",
      "[CPU] Acc: 88.16%, Energy: 0.114937Wh, Size: 5006.5KB\n",
      "\n",
      "model_10:\n",
      "  Fold 1... GPU monitoring initialized: 1 device(s) found\n",
      "CPU energy monitoring (RAPL) initialized: 1 domain(s) found\n",
      "  - package-0 (intel-rapl:0)\n",
      "Resource monitoring started\n",
      "Resource monitoring stopped\n",
      "[CPU] Acc: 86.84%, Energy: 0.704906Wh, Size: 19943.3KB\n",
      "  Fold 2... GPU monitoring initialized: 1 device(s) found\n",
      "CPU energy monitoring (RAPL) initialized: 1 domain(s) found\n",
      "  - package-0 (intel-rapl:0)\n",
      "Resource monitoring started\n",
      "Resource monitoring stopped\n",
      "[CPU] Acc: 86.06%, Energy: 0.623864Wh, Size: 19943.3KB\n",
      "  Fold 3... GPU monitoring initialized: 1 device(s) found\n",
      "CPU energy monitoring (RAPL) initialized: 1 domain(s) found\n",
      "  - package-0 (intel-rapl:0)\n",
      "Resource monitoring started\n",
      "Resource monitoring stopped\n",
      "[CPU] Acc: 87.29%, Energy: 0.584548Wh, Size: 19943.3KB\n",
      "  Fold 4... GPU monitoring initialized: 1 device(s) found\n",
      "CPU energy monitoring (RAPL) initialized: 1 domain(s) found\n",
      "  - package-0 (intel-rapl:0)\n",
      "Resource monitoring started\n",
      "Resource monitoring stopped\n",
      "[CPU] Acc: 86.68%, Energy: 0.557571Wh, Size: 19943.3KB\n",
      "  Fold 5... GPU monitoring initialized: 1 device(s) found\n",
      "CPU energy monitoring (RAPL) initialized: 1 domain(s) found\n",
      "  - package-0 (intel-rapl:0)\n",
      "Resource monitoring started\n",
      "Resource monitoring stopped\n",
      "[CPU] Acc: 86.57%, Energy: 0.535938Wh, Size: 19943.3KB\n",
      "  Fold 6... GPU monitoring initialized: 1 device(s) found\n",
      "CPU energy monitoring (RAPL) initialized: 1 domain(s) found\n",
      "  - package-0 (intel-rapl:0)\n",
      "Resource monitoring started\n",
      "Resource monitoring stopped\n",
      "[CPU] Acc: 88.09%, Energy: 0.507781Wh, Size: 19943.3KB\n",
      "  Fold 7... GPU monitoring initialized: 1 device(s) found\n",
      "CPU energy monitoring (RAPL) initialized: 1 domain(s) found\n",
      "  - package-0 (intel-rapl:0)\n",
      "Resource monitoring started\n",
      "Resource monitoring stopped\n",
      "[CPU] Acc: 86.25%, Energy: 0.524944Wh, Size: 19943.3KB\n",
      "  Fold 8... GPU monitoring initialized: 1 device(s) found\n",
      "CPU energy monitoring (RAPL) initialized: 1 domain(s) found\n",
      "  - package-0 (intel-rapl:0)\n",
      "Resource monitoring started\n",
      "Resource monitoring stopped\n",
      "[CPU] Acc: 87.57%, Energy: 0.513025Wh, Size: 19943.3KB\n",
      "  Fold 9... GPU monitoring initialized: 1 device(s) found\n",
      "CPU energy monitoring (RAPL) initialized: 1 domain(s) found\n",
      "  - package-0 (intel-rapl:0)\n",
      "Resource monitoring started\n",
      "Resource monitoring stopped\n",
      "[CPU] Acc: 87.11%, Energy: 0.549580Wh, Size: 19943.3KB\n",
      "  Fold 10... GPU monitoring initialized: 1 device(s) found\n",
      "CPU energy monitoring (RAPL) initialized: 1 domain(s) found\n",
      "  - package-0 (intel-rapl:0)\n",
      "Resource monitoring started\n",
      "Resource monitoring stopped\n",
      "[CPU] Acc: 86.37%, Energy: 0.544259Wh, Size: 19943.3KB\n",
      "\n",
      "================================================================================\n",
      "Results saved to: converted_metrics/tflite_normal_int8_results.csv\n",
      "================================================================================\n",
      "\n",
      "SUMMARY:\n",
      "  Average Accuracy:  73.90%\n",
      "  Average F1 Score:  0.7361\n",
      "  Average Energy:    0.085156Wh\n",
      "  Average Duration:  8.00s\n",
      "  Average Size:      2809.5KB\n",
      "  Device Distribution:\n",
      "device\n",
      "CPU    100\n"
     ]
    }
   ],
   "source": [
    "df_normal_int8 = evaluate_all_tflite_models(\n",
    "    tflite_base_dir='tflite_models',\n",
    "    folds_dir='new_Data_particions',\n",
    "    output_csv='converted_metrics/tflite_normal_int8_results.csv',\n",
    "    model_type='normal',\n",
    "    quantization='int8',\n",
    "    use_gpu=False  # INT8 only works on CPU\n",
    ")"
   ]
  },
  {
   "cell_type": "code",
   "execution_count": 5,
   "id": "d50387f0-04ad-4c4d-a8e1-7ef8adb0c0e0",
   "metadata": {
    "scrolled": true
   },
   "outputs": [
    {
     "name": "stdout",
     "output_type": "stream",
     "text": [
      "\n",
      "================================================================================\n",
      "EVALUATING FINETUNED TFLITE MODELS (NO_QUANT) on CPU\n",
      "================================================================================\n",
      "\n",
      "\n",
      "model_1:\n",
      "  Fold 1... GPU monitoring initialized: 1 device(s) found\n",
      "CPU energy monitoring (RAPL) initialized: 1 domain(s) found\n",
      "  - package-0 (intel-rapl:0)\n",
      "Resource monitoring started\n",
      "Resource monitoring stopped\n",
      "[CPU] Acc: 25.34%, Energy: 0.007418Wh, Size: 158.9KB\n",
      "  Fold 2... GPU monitoring initialized: 1 device(s) found\n",
      "CPU energy monitoring (RAPL) initialized: 1 domain(s) found\n",
      "  - package-0 (intel-rapl:0)\n",
      "Resource monitoring started\n",
      "Resource monitoring stopped\n",
      "[CPU] Acc: 49.88%, Energy: 0.006970Wh, Size: 158.9KB\n",
      "  Fold 3... GPU monitoring initialized: 1 device(s) found\n",
      "CPU energy monitoring (RAPL) initialized: 1 domain(s) found\n",
      "  - package-0 (intel-rapl:0)\n",
      "Resource monitoring started\n",
      "Resource monitoring stopped\n",
      "[CPU] Acc: 41.81%, Energy: 0.006540Wh, Size: 158.9KB\n",
      "  Fold 4... GPU monitoring initialized: 1 device(s) found\n",
      "CPU energy monitoring (RAPL) initialized: 1 domain(s) found\n",
      "  - package-0 (intel-rapl:0)\n",
      "Resource monitoring started\n",
      "Resource monitoring stopped\n",
      "[CPU] Acc: 18.91%, Energy: 0.006934Wh, Size: 158.9KB\n",
      "  Fold 5... GPU monitoring initialized: 1 device(s) found\n",
      "CPU energy monitoring (RAPL) initialized: 1 domain(s) found\n",
      "  - package-0 (intel-rapl:0)\n",
      "Resource monitoring started\n",
      "Resource monitoring stopped\n",
      "[CPU] Acc: 18.50%, Energy: 0.006796Wh, Size: 158.9KB\n",
      "  Fold 6... GPU monitoring initialized: 1 device(s) found\n",
      "CPU energy monitoring (RAPL) initialized: 1 domain(s) found\n",
      "  - package-0 (intel-rapl:0)\n",
      "Resource monitoring started\n",
      "Resource monitoring stopped\n",
      "[CPU] Acc: 39.22%, Energy: 0.006504Wh, Size: 158.9KB\n",
      "  Fold 7... GPU monitoring initialized: 1 device(s) found\n",
      "CPU energy monitoring (RAPL) initialized: 1 domain(s) found\n",
      "  - package-0 (intel-rapl:0)\n",
      "Resource monitoring started\n",
      "Resource monitoring stopped\n",
      "[CPU] Acc: 42.62%, Energy: 0.007036Wh, Size: 158.9KB\n",
      "  Fold 8... GPU monitoring initialized: 1 device(s) found\n",
      "CPU energy monitoring (RAPL) initialized: 1 domain(s) found\n",
      "  - package-0 (intel-rapl:0)\n",
      "Resource monitoring started\n",
      "Resource monitoring stopped\n",
      "[CPU] Acc: 45.87%, Energy: 0.006628Wh, Size: 158.9KB\n",
      "  Fold 9... GPU monitoring initialized: 1 device(s) found\n",
      "CPU energy monitoring (RAPL) initialized: 1 domain(s) found\n",
      "  - package-0 (intel-rapl:0)\n",
      "Resource monitoring started\n",
      "Resource monitoring stopped\n",
      "[CPU] Acc: 44.28%, Energy: 0.006462Wh, Size: 158.9KB\n",
      "  Fold 10... GPU monitoring initialized: 1 device(s) found\n",
      "CPU energy monitoring (RAPL) initialized: 1 domain(s) found\n",
      "  - package-0 (intel-rapl:0)\n",
      "Resource monitoring started\n",
      "Resource monitoring stopped\n",
      "[CPU] Acc: 45.01%, Energy: 0.006381Wh, Size: 158.9KB\n",
      "\n",
      "model_2:\n",
      "  Fold 1... GPU monitoring initialized: 1 device(s) found\n",
      "CPU energy monitoring (RAPL) initialized: 1 domain(s) found\n",
      "  - package-0 (intel-rapl:0)\n",
      "Resource monitoring started\n",
      "Resource monitoring stopped\n",
      "[CPU] Acc: 64.18%, Energy: 0.007991Wh, Size: 613.8KB\n",
      "  Fold 2... GPU monitoring initialized: 1 device(s) found\n",
      "CPU energy monitoring (RAPL) initialized: 1 domain(s) found\n",
      "  - package-0 (intel-rapl:0)\n",
      "Resource monitoring started\n",
      "Resource monitoring stopped\n",
      "[CPU] Acc: 53.30%, Energy: 0.008138Wh, Size: 613.8KB\n",
      "  Fold 3... GPU monitoring initialized: 1 device(s) found\n",
      "CPU energy monitoring (RAPL) initialized: 1 domain(s) found\n",
      "  - package-0 (intel-rapl:0)\n",
      "Resource monitoring started\n",
      "Resource monitoring stopped\n",
      "[CPU] Acc: 54.46%, Energy: 0.007845Wh, Size: 613.8KB\n",
      "  Fold 4... GPU monitoring initialized: 1 device(s) found\n",
      "CPU energy monitoring (RAPL) initialized: 1 domain(s) found\n",
      "  - package-0 (intel-rapl:0)\n",
      "Resource monitoring started\n",
      "Resource monitoring stopped\n",
      "[CPU] Acc: 41.91%, Energy: 0.007918Wh, Size: 613.8KB\n",
      "  Fold 5... GPU monitoring initialized: 1 device(s) found\n",
      "CPU energy monitoring (RAPL) initialized: 1 domain(s) found\n",
      "  - package-0 (intel-rapl:0)\n",
      "Resource monitoring started\n",
      "Resource monitoring stopped\n",
      "[CPU] Acc: 53.57%, Energy: 0.007815Wh, Size: 613.8KB\n",
      "  Fold 6... GPU monitoring initialized: 1 device(s) found\n",
      "CPU energy monitoring (RAPL) initialized: 1 domain(s) found\n",
      "  - package-0 (intel-rapl:0)\n",
      "Resource monitoring started\n",
      "Resource monitoring stopped\n",
      "[CPU] Acc: 60.96%, Energy: 0.008035Wh, Size: 613.8KB\n",
      "  Fold 7... GPU monitoring initialized: 1 device(s) found\n",
      "CPU energy monitoring (RAPL) initialized: 1 domain(s) found\n",
      "  - package-0 (intel-rapl:0)\n",
      "Resource monitoring started\n",
      "Resource monitoring stopped\n",
      "[CPU] Acc: 47.91%, Energy: 0.007865Wh, Size: 613.8KB\n",
      "  Fold 8... GPU monitoring initialized: 1 device(s) found\n",
      "CPU energy monitoring (RAPL) initialized: 1 domain(s) found\n",
      "  - package-0 (intel-rapl:0)\n",
      "Resource monitoring started\n",
      "Resource monitoring stopped\n",
      "[CPU] Acc: 63.16%, Energy: 0.007957Wh, Size: 613.8KB\n",
      "  Fold 9... GPU monitoring initialized: 1 device(s) found\n",
      "CPU energy monitoring (RAPL) initialized: 1 domain(s) found\n",
      "  - package-0 (intel-rapl:0)\n",
      "Resource monitoring started\n",
      "Resource monitoring stopped\n",
      "[CPU] Acc: 60.95%, Energy: 0.007874Wh, Size: 613.8KB\n",
      "  Fold 10... GPU monitoring initialized: 1 device(s) found\n",
      "CPU energy monitoring (RAPL) initialized: 1 domain(s) found\n",
      "  - package-0 (intel-rapl:0)\n",
      "Resource monitoring started\n",
      "Resource monitoring stopped\n",
      "[CPU] Acc: 60.12%, Energy: 0.007766Wh, Size: 613.8KB\n",
      "\n",
      "model_3:\n",
      "  Fold 1... GPU monitoring initialized: 1 device(s) found\n",
      "CPU energy monitoring (RAPL) initialized: 1 domain(s) found\n",
      "  - package-0 (intel-rapl:0)\n",
      "Resource monitoring started\n",
      "Resource monitoring stopped\n",
      "[CPU] Acc: 82.17%, Energy: 0.013184Wh, Size: 617.8KB\n",
      "  Fold 2... GPU monitoring initialized: 1 device(s) found\n",
      "CPU energy monitoring (RAPL) initialized: 1 domain(s) found\n",
      "  - package-0 (intel-rapl:0)\n",
      "Resource monitoring started\n",
      "Resource monitoring stopped\n",
      "[CPU] Acc: 81.70%, Energy: 0.013712Wh, Size: 617.8KB\n",
      "  Fold 3... GPU monitoring initialized: 1 device(s) found\n",
      "CPU energy monitoring (RAPL) initialized: 1 domain(s) found\n",
      "  - package-0 (intel-rapl:0)\n",
      "Resource monitoring started\n",
      "Resource monitoring stopped\n",
      "[CPU] Acc: 82.58%, Energy: 0.011796Wh, Size: 617.8KB\n",
      "  Fold 4... GPU monitoring initialized: 1 device(s) found\n",
      "CPU energy monitoring (RAPL) initialized: 1 domain(s) found\n",
      "  - package-0 (intel-rapl:0)\n",
      "Resource monitoring started\n",
      "Resource monitoring stopped\n",
      "[CPU] Acc: 81.30%, Energy: 0.012206Wh, Size: 617.8KB\n",
      "  Fold 5... GPU monitoring initialized: 1 device(s) found\n",
      "CPU energy monitoring (RAPL) initialized: 1 domain(s) found\n",
      "  - package-0 (intel-rapl:0)\n",
      "Resource monitoring started\n",
      "Resource monitoring stopped\n",
      "[CPU] Acc: 81.54%, Energy: 0.011844Wh, Size: 617.8KB\n",
      "  Fold 6... GPU monitoring initialized: 1 device(s) found\n",
      "CPU energy monitoring (RAPL) initialized: 1 domain(s) found\n",
      "  - package-0 (intel-rapl:0)\n",
      "Resource monitoring started\n",
      "Resource monitoring stopped\n",
      "[CPU] Acc: 83.10%, Energy: 0.011826Wh, Size: 617.8KB\n",
      "  Fold 7... GPU monitoring initialized: 1 device(s) found\n",
      "CPU energy monitoring (RAPL) initialized: 1 domain(s) found\n",
      "  - package-0 (intel-rapl:0)\n",
      "Resource monitoring started\n",
      "Resource monitoring stopped\n",
      "[CPU] Acc: 82.30%, Energy: 0.011824Wh, Size: 617.8KB\n",
      "  Fold 8... GPU monitoring initialized: 1 device(s) found\n",
      "CPU energy monitoring (RAPL) initialized: 1 domain(s) found\n",
      "  - package-0 (intel-rapl:0)\n",
      "Resource monitoring started\n",
      "Resource monitoring stopped\n",
      "[CPU] Acc: 80.93%, Energy: 0.011927Wh, Size: 617.8KB\n",
      "  Fold 9... GPU monitoring initialized: 1 device(s) found\n",
      "CPU energy monitoring (RAPL) initialized: 1 domain(s) found\n",
      "  - package-0 (intel-rapl:0)\n",
      "Resource monitoring started\n",
      "Resource monitoring stopped\n",
      "[CPU] Acc: 82.37%, Energy: 0.012408Wh, Size: 617.8KB\n",
      "  Fold 10... GPU monitoring initialized: 1 device(s) found\n",
      "CPU energy monitoring (RAPL) initialized: 1 domain(s) found\n",
      "  - package-0 (intel-rapl:0)\n",
      "Resource monitoring started\n",
      "Resource monitoring stopped\n",
      "[CPU] Acc: 82.85%, Energy: 0.011989Wh, Size: 617.8KB\n",
      "\n",
      "model_4:\n",
      "  Fold 1... GPU monitoring initialized: 1 device(s) found\n",
      "CPU energy monitoring (RAPL) initialized: 1 domain(s) found\n",
      "  - package-0 (intel-rapl:0)\n",
      "Resource monitoring started\n",
      "Resource monitoring stopped\n",
      "[CPU] Acc: 65.59%, Energy: 0.011511Wh, Size: 2423.7KB\n",
      "  Fold 2... GPU monitoring initialized: 1 device(s) found\n",
      "CPU energy monitoring (RAPL) initialized: 1 domain(s) found\n",
      "  - package-0 (intel-rapl:0)\n",
      "Resource monitoring started\n",
      "Resource monitoring stopped\n",
      "[CPU] Acc: 65.16%, Energy: 0.011486Wh, Size: 2423.7KB\n",
      "  Fold 3... GPU monitoring initialized: 1 device(s) found\n",
      "CPU energy monitoring (RAPL) initialized: 1 domain(s) found\n",
      "  - package-0 (intel-rapl:0)\n",
      "Resource monitoring started\n",
      "Resource monitoring stopped\n",
      "[CPU] Acc: 65.06%, Energy: 0.011704Wh, Size: 2423.7KB\n",
      "  Fold 4... GPU monitoring initialized: 1 device(s) found\n",
      "CPU energy monitoring (RAPL) initialized: 1 domain(s) found\n",
      "  - package-0 (intel-rapl:0)\n",
      "Resource monitoring started\n",
      "Resource monitoring stopped\n",
      "[CPU] Acc: 68.75%, Energy: 0.011417Wh, Size: 2423.7KB\n",
      "  Fold 5... GPU monitoring initialized: 1 device(s) found\n",
      "CPU energy monitoring (RAPL) initialized: 1 domain(s) found\n",
      "  - package-0 (intel-rapl:0)\n",
      "Resource monitoring started\n",
      "Resource monitoring stopped\n",
      "[CPU] Acc: 66.73%, Energy: 0.011408Wh, Size: 2423.7KB\n",
      "  Fold 6... GPU monitoring initialized: 1 device(s) found\n",
      "CPU energy monitoring (RAPL) initialized: 1 domain(s) found\n",
      "  - package-0 (intel-rapl:0)\n",
      "Resource monitoring started\n",
      "Resource monitoring stopped\n",
      "[CPU] Acc: 67.33%, Energy: 0.011329Wh, Size: 2423.7KB\n",
      "  Fold 7... GPU monitoring initialized: 1 device(s) found\n",
      "CPU energy monitoring (RAPL) initialized: 1 domain(s) found\n",
      "  - package-0 (intel-rapl:0)\n",
      "Resource monitoring started\n",
      "Resource monitoring stopped\n",
      "[CPU] Acc: 64.88%, Energy: 0.011309Wh, Size: 2423.7KB\n",
      "  Fold 8... GPU monitoring initialized: 1 device(s) found\n",
      "CPU energy monitoring (RAPL) initialized: 1 domain(s) found\n",
      "  - package-0 (intel-rapl:0)\n",
      "Resource monitoring started\n",
      "Resource monitoring stopped\n",
      "[CPU] Acc: 65.92%, Energy: 0.011407Wh, Size: 2423.7KB\n",
      "  Fold 9... GPU monitoring initialized: 1 device(s) found\n",
      "CPU energy monitoring (RAPL) initialized: 1 domain(s) found\n",
      "  - package-0 (intel-rapl:0)\n",
      "Resource monitoring started\n",
      "Resource monitoring stopped\n",
      "[CPU] Acc: 66.80%, Energy: 0.011316Wh, Size: 2423.7KB\n",
      "  Fold 10... GPU monitoring initialized: 1 device(s) found\n",
      "CPU energy monitoring (RAPL) initialized: 1 domain(s) found\n",
      "  - package-0 (intel-rapl:0)\n",
      "Resource monitoring started\n",
      "Resource monitoring stopped\n",
      "[CPU] Acc: 61.12%, Energy: 0.011370Wh, Size: 2423.7KB\n",
      "\n",
      "model_5:\n",
      "  Fold 1... GPU monitoring initialized: 1 device(s) found\n",
      "CPU energy monitoring (RAPL) initialized: 1 domain(s) found\n",
      "  - package-0 (intel-rapl:0)\n",
      "Resource monitoring started\n",
      "Resource monitoring stopped\n",
      "[CPU] Acc: 79.87%, Energy: 0.011992Wh, Size: 320.6KB\n",
      "  Fold 2... GPU monitoring initialized: 1 device(s) found\n",
      "CPU energy monitoring (RAPL) initialized: 1 domain(s) found\n",
      "  - package-0 (intel-rapl:0)\n",
      "Resource monitoring started\n",
      "Resource monitoring stopped\n",
      "[CPU] Acc: 78.46%, Energy: 0.011766Wh, Size: 320.6KB\n",
      "  Fold 3... GPU monitoring initialized: 1 device(s) found\n",
      "CPU energy monitoring (RAPL) initialized: 1 domain(s) found\n",
      "  - package-0 (intel-rapl:0)\n",
      "Resource monitoring started\n",
      "Resource monitoring stopped\n",
      "[CPU] Acc: 79.34%, Energy: 0.011703Wh, Size: 320.6KB\n",
      "  Fold 4... GPU monitoring initialized: 1 device(s) found\n",
      "CPU energy monitoring (RAPL) initialized: 1 domain(s) found\n",
      "  - package-0 (intel-rapl:0)\n",
      "Resource monitoring started\n",
      "Resource monitoring stopped\n",
      "[CPU] Acc: 79.44%, Energy: 0.011759Wh, Size: 320.6KB\n",
      "  Fold 5... GPU monitoring initialized: 1 device(s) found\n",
      "CPU energy monitoring (RAPL) initialized: 1 domain(s) found\n",
      "  - package-0 (intel-rapl:0)\n",
      "Resource monitoring started\n",
      "Resource monitoring stopped\n",
      "[CPU] Acc: 79.35%, Energy: 0.011867Wh, Size: 320.6KB\n",
      "  Fold 6... GPU monitoring initialized: 1 device(s) found\n",
      "CPU energy monitoring (RAPL) initialized: 1 domain(s) found\n",
      "  - package-0 (intel-rapl:0)\n",
      "Resource monitoring started\n",
      "Resource monitoring stopped\n",
      "[CPU] Acc: 79.41%, Energy: 0.011869Wh, Size: 320.6KB\n",
      "  Fold 7... GPU monitoring initialized: 1 device(s) found\n",
      "CPU energy monitoring (RAPL) initialized: 1 domain(s) found\n",
      "  - package-0 (intel-rapl:0)\n",
      "Resource monitoring started\n",
      "Resource monitoring stopped\n",
      "[CPU] Acc: 79.74%, Energy: 0.011652Wh, Size: 320.6KB\n",
      "  Fold 8... GPU monitoring initialized: 1 device(s) found\n",
      "CPU energy monitoring (RAPL) initialized: 1 domain(s) found\n",
      "  - package-0 (intel-rapl:0)\n",
      "Resource monitoring started\n",
      "Resource monitoring stopped\n",
      "[CPU] Acc: 77.35%, Energy: 0.011613Wh, Size: 320.6KB\n",
      "  Fold 9... GPU monitoring initialized: 1 device(s) found\n",
      "CPU energy monitoring (RAPL) initialized: 1 domain(s) found\n",
      "  - package-0 (intel-rapl:0)\n",
      "Resource monitoring started\n",
      "Resource monitoring stopped\n",
      "[CPU] Acc: 79.32%, Energy: 0.011655Wh, Size: 320.6KB\n",
      "  Fold 10... GPU monitoring initialized: 1 device(s) found\n",
      "CPU energy monitoring (RAPL) initialized: 1 domain(s) found\n",
      "  - package-0 (intel-rapl:0)\n",
      "Resource monitoring started\n",
      "Resource monitoring stopped\n",
      "[CPU] Acc: 79.50%, Energy: 0.011616Wh, Size: 320.6KB\n",
      "\n",
      "model_6:\n",
      "  Fold 1... GPU monitoring initialized: 1 device(s) found\n",
      "CPU energy monitoring (RAPL) initialized: 1 domain(s) found\n",
      "  - package-0 (intel-rapl:0)\n",
      "Resource monitoring started\n",
      "Resource monitoring stopped\n",
      "[CPU] Acc: 81.32%, Energy: 0.012231Wh, Size: 617.8KB\n",
      "  Fold 2... GPU monitoring initialized: 1 device(s) found\n",
      "CPU energy monitoring (RAPL) initialized: 1 domain(s) found\n",
      "  - package-0 (intel-rapl:0)\n",
      "Resource monitoring started\n",
      "Resource monitoring stopped\n",
      "[CPU] Acc: 81.98%, Energy: 0.012006Wh, Size: 617.8KB\n",
      "  Fold 3... GPU monitoring initialized: 1 device(s) found\n",
      "CPU energy monitoring (RAPL) initialized: 1 domain(s) found\n",
      "  - package-0 (intel-rapl:0)\n",
      "Resource monitoring started\n",
      "Resource monitoring stopped\n",
      "[CPU] Acc: 82.00%, Energy: 0.012987Wh, Size: 617.8KB\n",
      "  Fold 4... GPU monitoring initialized: 1 device(s) found\n",
      "CPU energy monitoring (RAPL) initialized: 1 domain(s) found\n",
      "  - package-0 (intel-rapl:0)\n",
      "Resource monitoring started\n",
      "Resource monitoring stopped\n",
      "[CPU] Acc: 81.35%, Energy: 0.013128Wh, Size: 617.8KB\n",
      "  Fold 5... GPU monitoring initialized: 1 device(s) found\n",
      "CPU energy monitoring (RAPL) initialized: 1 domain(s) found\n",
      "  - package-0 (intel-rapl:0)\n",
      "Resource monitoring started\n",
      "Resource monitoring stopped\n",
      "[CPU] Acc: 82.80%, Energy: 0.012030Wh, Size: 617.8KB\n",
      "  Fold 6... GPU monitoring initialized: 1 device(s) found\n",
      "CPU energy monitoring (RAPL) initialized: 1 domain(s) found\n",
      "  - package-0 (intel-rapl:0)\n",
      "Resource monitoring started\n",
      "Resource monitoring stopped\n",
      "[CPU] Acc: 81.79%, Energy: 0.012202Wh, Size: 617.8KB\n",
      "  Fold 7... GPU monitoring initialized: 1 device(s) found\n",
      "CPU energy monitoring (RAPL) initialized: 1 domain(s) found\n",
      "  - package-0 (intel-rapl:0)\n",
      "Resource monitoring started\n",
      "Resource monitoring stopped\n",
      "[CPU] Acc: 81.78%, Energy: 0.011940Wh, Size: 617.8KB\n",
      "  Fold 8... GPU monitoring initialized: 1 device(s) found\n",
      "CPU energy monitoring (RAPL) initialized: 1 domain(s) found\n",
      "  - package-0 (intel-rapl:0)\n",
      "Resource monitoring started\n",
      "Resource monitoring stopped\n",
      "[CPU] Acc: 80.68%, Energy: 0.012048Wh, Size: 617.8KB\n",
      "  Fold 9... GPU monitoring initialized: 1 device(s) found\n",
      "CPU energy monitoring (RAPL) initialized: 1 domain(s) found\n",
      "  - package-0 (intel-rapl:0)\n",
      "Resource monitoring started\n",
      "Resource monitoring stopped\n",
      "[CPU] Acc: 82.04%, Energy: 0.011852Wh, Size: 617.8KB\n",
      "  Fold 10... GPU monitoring initialized: 1 device(s) found\n",
      "CPU energy monitoring (RAPL) initialized: 1 domain(s) found\n",
      "  - package-0 (intel-rapl:0)\n",
      "Resource monitoring started\n",
      "Resource monitoring stopped\n",
      "[CPU] Acc: 82.07%, Energy: 0.011804Wh, Size: 617.8KB\n",
      "\n",
      "model_7:\n",
      "  Fold 1... GPU monitoring initialized: 1 device(s) found\n",
      "CPU energy monitoring (RAPL) initialized: 1 domain(s) found\n",
      "  - package-0 (intel-rapl:0)\n",
      "Resource monitoring started\n",
      "Resource monitoring stopped\n",
      "[CPU] Acc: 90.29%, Energy: 0.034850Wh, Size: 2689.6KB\n",
      "  Fold 2... GPU monitoring initialized: 1 device(s) found\n",
      "CPU energy monitoring (RAPL) initialized: 1 domain(s) found\n",
      "  - package-0 (intel-rapl:0)\n",
      "Resource monitoring started\n",
      "Resource monitoring stopped\n",
      "[CPU] Acc: 89.90%, Energy: 0.034225Wh, Size: 2689.6KB\n",
      "  Fold 3... GPU monitoring initialized: 1 device(s) found\n",
      "CPU energy monitoring (RAPL) initialized: 1 domain(s) found\n",
      "  - package-0 (intel-rapl:0)\n",
      "Resource monitoring started\n",
      "Resource monitoring stopped\n",
      "[CPU] Acc: 90.38%, Energy: 0.033845Wh, Size: 2689.6KB\n",
      "  Fold 4... GPU monitoring initialized: 1 device(s) found\n",
      "CPU energy monitoring (RAPL) initialized: 1 domain(s) found\n",
      "  - package-0 (intel-rapl:0)\n",
      "Resource monitoring started\n",
      "Resource monitoring stopped\n",
      "[CPU] Acc: 89.77%, Energy: 0.034834Wh, Size: 2689.6KB\n",
      "  Fold 5... GPU monitoring initialized: 1 device(s) found\n",
      "CPU energy monitoring (RAPL) initialized: 1 domain(s) found\n",
      "  - package-0 (intel-rapl:0)\n",
      "Resource monitoring started\n",
      "Resource monitoring stopped\n",
      "[CPU] Acc: 90.07%, Energy: 0.034150Wh, Size: 2689.6KB\n",
      "  Fold 6... GPU monitoring initialized: 1 device(s) found\n",
      "CPU energy monitoring (RAPL) initialized: 1 domain(s) found\n",
      "  - package-0 (intel-rapl:0)\n",
      "Resource monitoring started\n",
      "Resource monitoring stopped\n",
      "[CPU] Acc: 90.39%, Energy: 0.034247Wh, Size: 2689.6KB\n",
      "  Fold 7... GPU monitoring initialized: 1 device(s) found\n",
      "CPU energy monitoring (RAPL) initialized: 1 domain(s) found\n",
      "  - package-0 (intel-rapl:0)\n",
      "Resource monitoring started\n",
      "Resource monitoring stopped\n",
      "[CPU] Acc: 89.96%, Energy: 0.032741Wh, Size: 2689.6KB\n",
      "  Fold 8... GPU monitoring initialized: 1 device(s) found\n",
      "CPU energy monitoring (RAPL) initialized: 1 domain(s) found\n",
      "  - package-0 (intel-rapl:0)\n",
      "Resource monitoring started\n",
      "Resource monitoring stopped\n",
      "[CPU] Acc: 89.49%, Energy: 0.035851Wh, Size: 2689.6KB\n",
      "  Fold 9... GPU monitoring initialized: 1 device(s) found\n",
      "CPU energy monitoring (RAPL) initialized: 1 domain(s) found\n",
      "  - package-0 (intel-rapl:0)\n",
      "Resource monitoring started\n",
      "Resource monitoring stopped\n",
      "[CPU] Acc: 90.37%, Energy: 0.034138Wh, Size: 2689.6KB\n",
      "  Fold 10... GPU monitoring initialized: 1 device(s) found\n",
      "CPU energy monitoring (RAPL) initialized: 1 domain(s) found\n",
      "  - package-0 (intel-rapl:0)\n",
      "Resource monitoring started\n",
      "Resource monitoring stopped\n",
      "[CPU] Acc: 89.65%, Energy: 0.034007Wh, Size: 2689.6KB\n",
      "\n",
      "model_8:\n",
      "  Fold 1... GPU monitoring initialized: 1 device(s) found\n",
      "CPU energy monitoring (RAPL) initialized: 1 domain(s) found\n",
      "  - package-0 (intel-rapl:0)\n",
      "Resource monitoring started\n",
      "Resource monitoring stopped\n",
      "[CPU] Acc: 85.15%, Energy: 0.048642Wh, Size: 4940.6KB\n",
      "  Fold 2... GPU monitoring initialized: 1 device(s) found\n",
      "CPU energy monitoring (RAPL) initialized: 1 domain(s) found\n",
      "  - package-0 (intel-rapl:0)\n",
      "Resource monitoring started\n",
      "Resource monitoring stopped\n",
      "[CPU] Acc: 85.70%, Energy: 0.050593Wh, Size: 4940.6KB\n",
      "  Fold 3... GPU monitoring initialized: 1 device(s) found\n",
      "CPU energy monitoring (RAPL) initialized: 1 domain(s) found\n",
      "  - package-0 (intel-rapl:0)\n",
      "Resource monitoring started\n",
      "Resource monitoring stopped\n",
      "[CPU] Acc: 86.79%, Energy: 0.048529Wh, Size: 4940.6KB\n",
      "  Fold 4... GPU monitoring initialized: 1 device(s) found\n",
      "CPU energy monitoring (RAPL) initialized: 1 domain(s) found\n",
      "  - package-0 (intel-rapl:0)\n",
      "Resource monitoring started\n",
      "Resource monitoring stopped\n",
      "[CPU] Acc: 86.03%, Energy: 0.049025Wh, Size: 4940.6KB\n",
      "  Fold 5... GPU monitoring initialized: 1 device(s) found\n",
      "CPU energy monitoring (RAPL) initialized: 1 domain(s) found\n",
      "  - package-0 (intel-rapl:0)\n",
      "Resource monitoring started\n",
      "Resource monitoring stopped\n",
      "[CPU] Acc: 86.14%, Energy: 0.047064Wh, Size: 4940.6KB\n",
      "  Fold 6... GPU monitoring initialized: 1 device(s) found\n",
      "CPU energy monitoring (RAPL) initialized: 1 domain(s) found\n",
      "  - package-0 (intel-rapl:0)\n",
      "Resource monitoring started\n",
      "Resource monitoring stopped\n",
      "[CPU] Acc: 85.88%, Energy: 0.048061Wh, Size: 4940.6KB\n",
      "  Fold 7... GPU monitoring initialized: 1 device(s) found\n",
      "CPU energy monitoring (RAPL) initialized: 1 domain(s) found\n",
      "  - package-0 (intel-rapl:0)\n",
      "Resource monitoring started\n",
      "Resource monitoring stopped\n",
      "[CPU] Acc: 86.09%, Energy: 0.046492Wh, Size: 4940.6KB\n",
      "  Fold 8... GPU monitoring initialized: 1 device(s) found\n",
      "CPU energy monitoring (RAPL) initialized: 1 domain(s) found\n",
      "  - package-0 (intel-rapl:0)\n",
      "Resource monitoring started\n",
      "Resource monitoring stopped\n",
      "[CPU] Acc: 86.07%, Energy: 0.048347Wh, Size: 4940.6KB\n",
      "  Fold 9... GPU monitoring initialized: 1 device(s) found\n",
      "CPU energy monitoring (RAPL) initialized: 1 domain(s) found\n",
      "  - package-0 (intel-rapl:0)\n",
      "Resource monitoring started\n",
      "Resource monitoring stopped\n",
      "[CPU] Acc: 86.09%, Energy: 0.048561Wh, Size: 4940.6KB\n",
      "  Fold 10... GPU monitoring initialized: 1 device(s) found\n",
      "CPU energy monitoring (RAPL) initialized: 1 domain(s) found\n",
      "  - package-0 (intel-rapl:0)\n",
      "Resource monitoring started\n",
      "Resource monitoring stopped\n",
      "[CPU] Acc: 86.03%, Energy: 0.048234Wh, Size: 4940.6KB\n",
      "\n",
      "model_9:\n",
      "  Fold 1... GPU monitoring initialized: 1 device(s) found\n",
      "CPU energy monitoring (RAPL) initialized: 1 domain(s) found\n",
      "  - package-0 (intel-rapl:0)\n",
      "Resource monitoring started\n",
      "Resource monitoring stopped\n",
      "[CPU] Acc: 90.01%, Energy: 0.146676Wh, Size: 19955.1KB\n",
      "  Fold 2... GPU monitoring initialized: 1 device(s) found\n",
      "CPU energy monitoring (RAPL) initialized: 1 domain(s) found\n",
      "  - package-0 (intel-rapl:0)\n",
      "Resource monitoring started\n",
      "Resource monitoring stopped\n",
      "[CPU] Acc: 89.63%, Energy: 0.152039Wh, Size: 19955.1KB\n",
      "  Fold 3... GPU monitoring initialized: 1 device(s) found\n",
      "CPU energy monitoring (RAPL) initialized: 1 domain(s) found\n",
      "  - package-0 (intel-rapl:0)\n",
      "Resource monitoring started\n",
      "Resource monitoring stopped\n",
      "[CPU] Acc: 89.99%, Energy: 0.143881Wh, Size: 19955.1KB\n",
      "  Fold 4... GPU monitoring initialized: 1 device(s) found\n",
      "CPU energy monitoring (RAPL) initialized: 1 domain(s) found\n",
      "  - package-0 (intel-rapl:0)\n",
      "Resource monitoring started\n",
      "Resource monitoring stopped\n",
      "[CPU] Acc: 90.17%, Energy: 0.150557Wh, Size: 19955.1KB\n",
      "  Fold 5... GPU monitoring initialized: 1 device(s) found\n",
      "CPU energy monitoring (RAPL) initialized: 1 domain(s) found\n",
      "  - package-0 (intel-rapl:0)\n",
      "Resource monitoring started\n",
      "Resource monitoring stopped\n",
      "[CPU] Acc: 90.74%, Energy: 0.143502Wh, Size: 19955.1KB\n",
      "  Fold 6... GPU monitoring initialized: 1 device(s) found\n",
      "CPU energy monitoring (RAPL) initialized: 1 domain(s) found\n",
      "  - package-0 (intel-rapl:0)\n",
      "Resource monitoring started\n",
      "Resource monitoring stopped\n",
      "[CPU] Acc: 89.76%, Energy: 0.170143Wh, Size: 19955.1KB\n",
      "  Fold 7... GPU monitoring initialized: 1 device(s) found\n",
      "CPU energy monitoring (RAPL) initialized: 1 domain(s) found\n",
      "  - package-0 (intel-rapl:0)\n",
      "Resource monitoring started\n",
      "Resource monitoring stopped\n",
      "[CPU] Acc: 89.60%, Energy: 0.173244Wh, Size: 19955.1KB\n",
      "  Fold 8... GPU monitoring initialized: 1 device(s) found\n",
      "CPU energy monitoring (RAPL) initialized: 1 domain(s) found\n",
      "  - package-0 (intel-rapl:0)\n",
      "Resource monitoring started\n",
      "Resource monitoring stopped\n",
      "[CPU] Acc: 89.34%, Energy: 0.157391Wh, Size: 19955.1KB\n",
      "  Fold 9... GPU monitoring initialized: 1 device(s) found\n",
      "CPU energy monitoring (RAPL) initialized: 1 domain(s) found\n",
      "  - package-0 (intel-rapl:0)\n",
      "Resource monitoring started\n",
      "Resource monitoring stopped\n",
      "[CPU] Acc: 89.22%, Energy: 0.148697Wh, Size: 19955.1KB\n",
      "  Fold 10... GPU monitoring initialized: 1 device(s) found\n",
      "CPU energy monitoring (RAPL) initialized: 1 domain(s) found\n",
      "  - package-0 (intel-rapl:0)\n",
      "Resource monitoring started\n",
      "Resource monitoring stopped\n",
      "[CPU] Acc: 90.92%, Energy: 0.178736Wh, Size: 19955.1KB\n",
      "\n",
      "model_10:\n",
      "  Fold 1... GPU monitoring initialized: 1 device(s) found\n",
      "CPU energy monitoring (RAPL) initialized: 1 domain(s) found\n",
      "  - package-0 (intel-rapl:0)\n",
      "Resource monitoring started\n",
      "Resource monitoring stopped\n",
      "[CPU] Acc: 89.31%, Energy: 0.568290Wh, Size: 79649.1KB\n",
      "  Fold 2... GPU monitoring initialized: 1 device(s) found\n",
      "CPU energy monitoring (RAPL) initialized: 1 domain(s) found\n",
      "  - package-0 (intel-rapl:0)\n",
      "Resource monitoring started\n",
      "Resource monitoring stopped\n",
      "[CPU] Acc: 88.61%, Energy: 0.558300Wh, Size: 79649.1KB\n",
      "  Fold 3... GPU monitoring initialized: 1 device(s) found\n",
      "CPU energy monitoring (RAPL) initialized: 1 domain(s) found\n",
      "  - package-0 (intel-rapl:0)\n",
      "Resource monitoring started\n",
      "Resource monitoring stopped\n",
      "[CPU] Acc: 90.02%, Energy: 0.615603Wh, Size: 79649.1KB\n",
      "  Fold 4... GPU monitoring initialized: 1 device(s) found\n",
      "CPU energy monitoring (RAPL) initialized: 1 domain(s) found\n",
      "  - package-0 (intel-rapl:0)\n",
      "Resource monitoring started\n",
      "Resource monitoring stopped\n",
      "[CPU] Acc: 88.38%, Energy: 0.706482Wh, Size: 79649.1KB\n",
      "  Fold 5... GPU monitoring initialized: 1 device(s) found\n",
      "CPU energy monitoring (RAPL) initialized: 1 domain(s) found\n",
      "  - package-0 (intel-rapl:0)\n",
      "Resource monitoring started\n",
      "Resource monitoring stopped\n",
      "[CPU] Acc: 89.67%, Energy: 0.678733Wh, Size: 79649.1KB\n",
      "  Fold 6... GPU monitoring initialized: 1 device(s) found\n",
      "CPU energy monitoring (RAPL) initialized: 1 domain(s) found\n",
      "  - package-0 (intel-rapl:0)\n",
      "Resource monitoring started\n",
      "Resource monitoring stopped\n",
      "[CPU] Acc: 90.30%, Energy: 0.631735Wh, Size: 79649.1KB\n",
      "  Fold 7... GPU monitoring initialized: 1 device(s) found\n",
      "CPU energy monitoring (RAPL) initialized: 1 domain(s) found\n",
      "  - package-0 (intel-rapl:0)\n",
      "Resource monitoring started\n",
      "Resource monitoring stopped\n",
      "[CPU] Acc: 88.38%, Energy: 0.555261Wh, Size: 79649.1KB\n",
      "  Fold 8... GPU monitoring initialized: 1 device(s) found\n",
      "CPU energy monitoring (RAPL) initialized: 1 domain(s) found\n",
      "  - package-0 (intel-rapl:0)\n",
      "Resource monitoring started\n",
      "Resource monitoring stopped\n",
      "[CPU] Acc: 89.38%, Energy: 0.617702Wh, Size: 79649.1KB\n",
      "  Fold 9... GPU monitoring initialized: 1 device(s) found\n",
      "CPU energy monitoring (RAPL) initialized: 1 domain(s) found\n",
      "  - package-0 (intel-rapl:0)\n",
      "Resource monitoring started\n",
      "Resource monitoring stopped\n",
      "[CPU] Acc: 89.24%, Energy: 0.569514Wh, Size: 79649.1KB\n",
      "  Fold 10... GPU monitoring initialized: 1 device(s) found\n",
      "CPU energy monitoring (RAPL) initialized: 1 domain(s) found\n",
      "  - package-0 (intel-rapl:0)\n",
      "Resource monitoring started\n",
      "Resource monitoring stopped\n",
      "[CPU] Acc: 89.19%, Energy: 0.561648Wh, Size: 79649.1KB\n",
      "\n",
      "================================================================================\n",
      "Results saved to: converted_metrics/tflite_finetuned_no_quant_cpu_results.csv\n",
      "================================================================================\n",
      "\n",
      "SUMMARY:\n",
      "  Average Accuracy:  75.72%\n",
      "  Average F1 Score:  0.7533\n",
      "  Average Energy:    0.090781Wh\n",
      "  Average Duration:  6.67s\n",
      "  Average Size:      11198.7KB\n",
      "  Device Distribution:\n",
      "device\n",
      "CPU    100\n"
     ]
    }
   ],
   "source": [
    "df_finetuned_no_quant_cpu = evaluate_all_tflite_models(\n",
    "    tflite_base_dir='tflite_models',\n",
    "    folds_dir='new_Data_particions',\n",
    "    output_csv='converted_metrics/tflite_finetuned_no_quant_cpu_results.csv',\n",
    "    model_type='finetuned',\n",
    "    quantization='no_quant',\n",
    "    use_gpu=False\n",
    ")"
   ]
  },
  {
   "cell_type": "code",
   "execution_count": 6,
   "id": "075d729d-ffd3-4fe6-9029-d531e23c03cf",
   "metadata": {
    "scrolled": true
   },
   "outputs": [
    {
     "name": "stderr",
     "output_type": "stream",
     "text": [
      "Exception ignored in: <function Delegate.__del__ at 0x70ad48ecab90>\n",
      "Traceback (most recent call last):\n",
      "  File \"/home/pmedur/strojnoUcenje/env/lib/python3.10/site-packages/tensorflow/lite/python/interpreter.py\", line 117, in __del__\n",
      "    if self._library is not None:\n",
      "AttributeError: 'Delegate' object has no attribute '_library'\n",
      "Exception ignored in: <function Delegate.__del__ at 0x70ad48ecab90>\n",
      "Traceback (most recent call last):\n",
      "  File \"/home/pmedur/strojnoUcenje/env/lib/python3.10/site-packages/tensorflow/lite/python/interpreter.py\", line 117, in __del__\n",
      "    if self._library is not None:\n",
      "AttributeError: 'Delegate' object has no attribute '_library'\n"
     ]
    },
    {
     "name": "stdout",
     "output_type": "stream",
     "text": [
      "\n",
      "================================================================================\n",
      "EVALUATING FINETUNED TFLITE MODELS (NO_QUANT) on GPU\n",
      "================================================================================\n",
      "\n",
      "\n",
      "model_1:\n",
      "  Fold 1...     GPU delegate failed: gpu: cannot open shared object file: No such file or directory\n",
      "    Falling back to CPU\n",
      "GPU monitoring initialized: 1 device(s) found\n",
      "CPU energy monitoring (RAPL) initialized: 1 domain(s) found\n",
      "  - package-0 (intel-rapl:0)\n",
      "Resource monitoring started\n"
     ]
    },
    {
     "name": "stderr",
     "output_type": "stream",
     "text": [
      "Exception ignored in: <function Delegate.__del__ at 0x70ad48ecab90>\n",
      "Traceback (most recent call last):\n",
      "  File \"/home/pmedur/strojnoUcenje/env/lib/python3.10/site-packages/tensorflow/lite/python/interpreter.py\", line 117, in __del__\n",
      "    if self._library is not None:\n",
      "AttributeError: 'Delegate' object has no attribute '_library'\n",
      "Exception ignored in: <function Delegate.__del__ at 0x70ad48ecab90>\n",
      "Traceback (most recent call last):\n",
      "  File \"/home/pmedur/strojnoUcenje/env/lib/python3.10/site-packages/tensorflow/lite/python/interpreter.py\", line 117, in __del__\n",
      "    if self._library is not None:\n",
      "AttributeError: 'Delegate' object has no attribute '_library'\n"
     ]
    },
    {
     "name": "stdout",
     "output_type": "stream",
     "text": [
      "Resource monitoring stopped\n",
      "[CPU (GPU failed)] Acc: 25.34%, Energy: 0.009649Wh, Size: 158.9KB\n",
      "  Fold 2...     GPU delegate failed: gpu: cannot open shared object file: No such file or directory\n",
      "    Falling back to CPU\n",
      "GPU monitoring initialized: 1 device(s) found\n",
      "CPU energy monitoring (RAPL) initialized: 1 domain(s) found\n",
      "  - package-0 (intel-rapl:0)\n",
      "Resource monitoring started\n"
     ]
    },
    {
     "name": "stderr",
     "output_type": "stream",
     "text": [
      "Exception ignored in: <function Delegate.__del__ at 0x70ad48ecab90>\n",
      "Traceback (most recent call last):\n",
      "  File \"/home/pmedur/strojnoUcenje/env/lib/python3.10/site-packages/tensorflow/lite/python/interpreter.py\", line 117, in __del__\n",
      "    if self._library is not None:\n",
      "AttributeError: 'Delegate' object has no attribute '_library'\n",
      "Exception ignored in: <function Delegate.__del__ at 0x70ad48ecab90>\n",
      "Traceback (most recent call last):\n",
      "  File \"/home/pmedur/strojnoUcenje/env/lib/python3.10/site-packages/tensorflow/lite/python/interpreter.py\", line 117, in __del__\n",
      "    if self._library is not None:\n",
      "AttributeError: 'Delegate' object has no attribute '_library'\n"
     ]
    },
    {
     "name": "stdout",
     "output_type": "stream",
     "text": [
      "Resource monitoring stopped\n",
      "[CPU (GPU failed)] Acc: 49.88%, Energy: 0.008599Wh, Size: 158.9KB\n",
      "  Fold 3...     GPU delegate failed: gpu: cannot open shared object file: No such file or directory\n",
      "    Falling back to CPU\n",
      "GPU monitoring initialized: 1 device(s) found\n",
      "CPU energy monitoring (RAPL) initialized: 1 domain(s) found\n",
      "  - package-0 (intel-rapl:0)\n",
      "Resource monitoring started\n"
     ]
    },
    {
     "name": "stderr",
     "output_type": "stream",
     "text": [
      "Exception ignored in: <function Delegate.__del__ at 0x70ad48ecab90>\n",
      "Traceback (most recent call last):\n",
      "  File \"/home/pmedur/strojnoUcenje/env/lib/python3.10/site-packages/tensorflow/lite/python/interpreter.py\", line 117, in __del__\n",
      "    if self._library is not None:\n",
      "AttributeError: 'Delegate' object has no attribute '_library'\n",
      "Exception ignored in: <function Delegate.__del__ at 0x70ad48ecab90>\n",
      "Traceback (most recent call last):\n",
      "  File \"/home/pmedur/strojnoUcenje/env/lib/python3.10/site-packages/tensorflow/lite/python/interpreter.py\", line 117, in __del__\n",
      "    if self._library is not None:\n",
      "AttributeError: 'Delegate' object has no attribute '_library'\n"
     ]
    },
    {
     "name": "stdout",
     "output_type": "stream",
     "text": [
      "Resource monitoring stopped\n",
      "[CPU (GPU failed)] Acc: 41.81%, Energy: 0.006066Wh, Size: 158.9KB\n",
      "  Fold 4...     GPU delegate failed: gpu: cannot open shared object file: No such file or directory\n",
      "    Falling back to CPU\n",
      "GPU monitoring initialized: 1 device(s) found\n",
      "CPU energy monitoring (RAPL) initialized: 1 domain(s) found\n",
      "  - package-0 (intel-rapl:0)\n",
      "Resource monitoring started\n"
     ]
    },
    {
     "name": "stderr",
     "output_type": "stream",
     "text": [
      "Exception ignored in: <function Delegate.__del__ at 0x70ad48ecab90>\n",
      "Traceback (most recent call last):\n",
      "  File \"/home/pmedur/strojnoUcenje/env/lib/python3.10/site-packages/tensorflow/lite/python/interpreter.py\", line 117, in __del__\n",
      "    if self._library is not None:\n",
      "AttributeError: 'Delegate' object has no attribute '_library'\n",
      "Exception ignored in: <function Delegate.__del__ at 0x70ad48ecab90>\n",
      "Traceback (most recent call last):\n",
      "  File \"/home/pmedur/strojnoUcenje/env/lib/python3.10/site-packages/tensorflow/lite/python/interpreter.py\", line 117, in __del__\n",
      "    if self._library is not None:\n",
      "AttributeError: 'Delegate' object has no attribute '_library'\n"
     ]
    },
    {
     "name": "stdout",
     "output_type": "stream",
     "text": [
      "Resource monitoring stopped\n",
      "[CPU (GPU failed)] Acc: 18.91%, Energy: 0.006257Wh, Size: 158.9KB\n",
      "  Fold 5...     GPU delegate failed: gpu: cannot open shared object file: No such file or directory\n",
      "    Falling back to CPU\n",
      "GPU monitoring initialized: 1 device(s) found\n",
      "CPU energy monitoring (RAPL) initialized: 1 domain(s) found\n",
      "  - package-0 (intel-rapl:0)\n",
      "Resource monitoring started\n"
     ]
    },
    {
     "name": "stderr",
     "output_type": "stream",
     "text": [
      "Exception ignored in: <function Delegate.__del__ at 0x70ad48ecab90>\n",
      "Traceback (most recent call last):\n",
      "  File \"/home/pmedur/strojnoUcenje/env/lib/python3.10/site-packages/tensorflow/lite/python/interpreter.py\", line 117, in __del__\n",
      "    if self._library is not None:\n",
      "AttributeError: 'Delegate' object has no attribute '_library'\n",
      "Exception ignored in: <function Delegate.__del__ at 0x70ad48ecab90>\n",
      "Traceback (most recent call last):\n",
      "  File \"/home/pmedur/strojnoUcenje/env/lib/python3.10/site-packages/tensorflow/lite/python/interpreter.py\", line 117, in __del__\n",
      "    if self._library is not None:\n",
      "AttributeError: 'Delegate' object has no attribute '_library'\n"
     ]
    },
    {
     "name": "stdout",
     "output_type": "stream",
     "text": [
      "Resource monitoring stopped\n",
      "[CPU (GPU failed)] Acc: 18.50%, Energy: 0.006254Wh, Size: 158.9KB\n",
      "  Fold 6...     GPU delegate failed: gpu: cannot open shared object file: No such file or directory\n",
      "    Falling back to CPU\n",
      "GPU monitoring initialized: 1 device(s) found\n",
      "CPU energy monitoring (RAPL) initialized: 1 domain(s) found\n",
      "  - package-0 (intel-rapl:0)\n",
      "Resource monitoring started\n"
     ]
    },
    {
     "name": "stderr",
     "output_type": "stream",
     "text": [
      "Exception ignored in: <function Delegate.__del__ at 0x70ad48ecab90>\n",
      "Traceback (most recent call last):\n",
      "  File \"/home/pmedur/strojnoUcenje/env/lib/python3.10/site-packages/tensorflow/lite/python/interpreter.py\", line 117, in __del__\n",
      "    if self._library is not None:\n",
      "AttributeError: 'Delegate' object has no attribute '_library'\n",
      "Exception ignored in: <function Delegate.__del__ at 0x70ad48ecab90>\n",
      "Traceback (most recent call last):\n",
      "  File \"/home/pmedur/strojnoUcenje/env/lib/python3.10/site-packages/tensorflow/lite/python/interpreter.py\", line 117, in __del__\n",
      "    if self._library is not None:\n",
      "AttributeError: 'Delegate' object has no attribute '_library'\n"
     ]
    },
    {
     "name": "stdout",
     "output_type": "stream",
     "text": [
      "Resource monitoring stopped\n",
      "[CPU (GPU failed)] Acc: 39.22%, Energy: 0.006134Wh, Size: 158.9KB\n",
      "  Fold 7...     GPU delegate failed: gpu: cannot open shared object file: No such file or directory\n",
      "    Falling back to CPU\n",
      "GPU monitoring initialized: 1 device(s) found\n",
      "CPU energy monitoring (RAPL) initialized: 1 domain(s) found\n",
      "  - package-0 (intel-rapl:0)\n",
      "Resource monitoring started\n"
     ]
    },
    {
     "name": "stderr",
     "output_type": "stream",
     "text": [
      "Exception ignored in: <function Delegate.__del__ at 0x70ad48ecab90>\n",
      "Traceback (most recent call last):\n",
      "  File \"/home/pmedur/strojnoUcenje/env/lib/python3.10/site-packages/tensorflow/lite/python/interpreter.py\", line 117, in __del__\n",
      "    if self._library is not None:\n",
      "AttributeError: 'Delegate' object has no attribute '_library'\n",
      "Exception ignored in: <function Delegate.__del__ at 0x70ad48ecab90>\n",
      "Traceback (most recent call last):\n",
      "  File \"/home/pmedur/strojnoUcenje/env/lib/python3.10/site-packages/tensorflow/lite/python/interpreter.py\", line 117, in __del__\n",
      "    if self._library is not None:\n",
      "AttributeError: 'Delegate' object has no attribute '_library'\n"
     ]
    },
    {
     "name": "stdout",
     "output_type": "stream",
     "text": [
      "Resource monitoring stopped\n",
      "[CPU (GPU failed)] Acc: 42.62%, Energy: 0.006287Wh, Size: 158.9KB\n",
      "  Fold 8...     GPU delegate failed: gpu: cannot open shared object file: No such file or directory\n",
      "    Falling back to CPU\n",
      "GPU monitoring initialized: 1 device(s) found\n",
      "CPU energy monitoring (RAPL) initialized: 1 domain(s) found\n",
      "  - package-0 (intel-rapl:0)\n",
      "Resource monitoring started\n"
     ]
    },
    {
     "name": "stderr",
     "output_type": "stream",
     "text": [
      "Exception ignored in: <function Delegate.__del__ at 0x70ad48ecab90>\n",
      "Traceback (most recent call last):\n",
      "  File \"/home/pmedur/strojnoUcenje/env/lib/python3.10/site-packages/tensorflow/lite/python/interpreter.py\", line 117, in __del__\n",
      "    if self._library is not None:\n",
      "AttributeError: 'Delegate' object has no attribute '_library'\n",
      "Exception ignored in: <function Delegate.__del__ at 0x70ad48ecab90>\n",
      "Traceback (most recent call last):\n",
      "  File \"/home/pmedur/strojnoUcenje/env/lib/python3.10/site-packages/tensorflow/lite/python/interpreter.py\", line 117, in __del__\n",
      "    if self._library is not None:\n",
      "AttributeError: 'Delegate' object has no attribute '_library'\n"
     ]
    },
    {
     "name": "stdout",
     "output_type": "stream",
     "text": [
      "Resource monitoring stopped\n",
      "[CPU (GPU failed)] Acc: 45.87%, Energy: 0.007907Wh, Size: 158.9KB\n",
      "  Fold 9...     GPU delegate failed: gpu: cannot open shared object file: No such file or directory\n",
      "    Falling back to CPU\n",
      "GPU monitoring initialized: 1 device(s) found\n",
      "CPU energy monitoring (RAPL) initialized: 1 domain(s) found\n",
      "  - package-0 (intel-rapl:0)\n",
      "Resource monitoring started\n"
     ]
    },
    {
     "name": "stderr",
     "output_type": "stream",
     "text": [
      "Exception ignored in: <function Delegate.__del__ at 0x70ad48ecab90>\n",
      "Traceback (most recent call last):\n",
      "  File \"/home/pmedur/strojnoUcenje/env/lib/python3.10/site-packages/tensorflow/lite/python/interpreter.py\", line 117, in __del__\n",
      "    if self._library is not None:\n",
      "AttributeError: 'Delegate' object has no attribute '_library'\n",
      "Exception ignored in: <function Delegate.__del__ at 0x70ad48ecab90>\n",
      "Traceback (most recent call last):\n",
      "  File \"/home/pmedur/strojnoUcenje/env/lib/python3.10/site-packages/tensorflow/lite/python/interpreter.py\", line 117, in __del__\n",
      "    if self._library is not None:\n",
      "AttributeError: 'Delegate' object has no attribute '_library'\n"
     ]
    },
    {
     "name": "stdout",
     "output_type": "stream",
     "text": [
      "Resource monitoring stopped\n",
      "[CPU (GPU failed)] Acc: 44.28%, Energy: 0.009401Wh, Size: 158.9KB\n",
      "  Fold 10...     GPU delegate failed: gpu: cannot open shared object file: No such file or directory\n",
      "    Falling back to CPU\n",
      "GPU monitoring initialized: 1 device(s) found\n",
      "CPU energy monitoring (RAPL) initialized: 1 domain(s) found\n",
      "  - package-0 (intel-rapl:0)\n",
      "Resource monitoring started\n"
     ]
    },
    {
     "name": "stderr",
     "output_type": "stream",
     "text": [
      "Exception ignored in: <function Delegate.__del__ at 0x70ad48ecab90>\n",
      "Traceback (most recent call last):\n",
      "  File \"/home/pmedur/strojnoUcenje/env/lib/python3.10/site-packages/tensorflow/lite/python/interpreter.py\", line 117, in __del__\n",
      "    if self._library is not None:\n",
      "AttributeError: 'Delegate' object has no attribute '_library'\n",
      "Exception ignored in: <function Delegate.__del__ at 0x70ad48ecab90>\n",
      "Traceback (most recent call last):\n",
      "  File \"/home/pmedur/strojnoUcenje/env/lib/python3.10/site-packages/tensorflow/lite/python/interpreter.py\", line 117, in __del__\n",
      "    if self._library is not None:\n",
      "AttributeError: 'Delegate' object has no attribute '_library'\n"
     ]
    },
    {
     "name": "stdout",
     "output_type": "stream",
     "text": [
      "Resource monitoring stopped\n",
      "[CPU (GPU failed)] Acc: 45.01%, Energy: 0.011052Wh, Size: 158.9KB\n",
      "\n",
      "model_2:\n",
      "  Fold 1...     GPU delegate failed: gpu: cannot open shared object file: No such file or directory\n",
      "    Falling back to CPU\n",
      "GPU monitoring initialized: 1 device(s) found\n",
      "CPU energy monitoring (RAPL) initialized: 1 domain(s) found\n",
      "  - package-0 (intel-rapl:0)\n",
      "Resource monitoring started\n"
     ]
    },
    {
     "name": "stderr",
     "output_type": "stream",
     "text": [
      "Exception ignored in: <function Delegate.__del__ at 0x70ad48ecab90>\n",
      "Traceback (most recent call last):\n",
      "  File \"/home/pmedur/strojnoUcenje/env/lib/python3.10/site-packages/tensorflow/lite/python/interpreter.py\", line 117, in __del__\n",
      "    if self._library is not None:\n",
      "AttributeError: 'Delegate' object has no attribute '_library'\n",
      "Exception ignored in: <function Delegate.__del__ at 0x70ad48ecab90>\n",
      "Traceback (most recent call last):\n",
      "  File \"/home/pmedur/strojnoUcenje/env/lib/python3.10/site-packages/tensorflow/lite/python/interpreter.py\", line 117, in __del__\n",
      "    if self._library is not None:\n",
      "AttributeError: 'Delegate' object has no attribute '_library'\n"
     ]
    },
    {
     "name": "stdout",
     "output_type": "stream",
     "text": [
      "Resource monitoring stopped\n",
      "[CPU (GPU failed)] Acc: 64.18%, Energy: 0.008937Wh, Size: 613.8KB\n",
      "  Fold 2...     GPU delegate failed: gpu: cannot open shared object file: No such file or directory\n",
      "    Falling back to CPU\n",
      "GPU monitoring initialized: 1 device(s) found\n",
      "CPU energy monitoring (RAPL) initialized: 1 domain(s) found\n",
      "  - package-0 (intel-rapl:0)\n",
      "Resource monitoring started\n"
     ]
    },
    {
     "name": "stderr",
     "output_type": "stream",
     "text": [
      "Exception ignored in: <function Delegate.__del__ at 0x70ad48ecab90>\n",
      "Traceback (most recent call last):\n",
      "  File \"/home/pmedur/strojnoUcenje/env/lib/python3.10/site-packages/tensorflow/lite/python/interpreter.py\", line 117, in __del__\n",
      "    if self._library is not None:\n",
      "AttributeError: 'Delegate' object has no attribute '_library'\n",
      "Exception ignored in: <function Delegate.__del__ at 0x70ad48ecab90>\n",
      "Traceback (most recent call last):\n",
      "  File \"/home/pmedur/strojnoUcenje/env/lib/python3.10/site-packages/tensorflow/lite/python/interpreter.py\", line 117, in __del__\n",
      "    if self._library is not None:\n",
      "AttributeError: 'Delegate' object has no attribute '_library'\n"
     ]
    },
    {
     "name": "stdout",
     "output_type": "stream",
     "text": [
      "Resource monitoring stopped\n",
      "[CPU (GPU failed)] Acc: 53.30%, Energy: 0.009202Wh, Size: 613.8KB\n",
      "  Fold 3...     GPU delegate failed: gpu: cannot open shared object file: No such file or directory\n",
      "    Falling back to CPU\n",
      "GPU monitoring initialized: 1 device(s) found\n",
      "CPU energy monitoring (RAPL) initialized: 1 domain(s) found\n",
      "  - package-0 (intel-rapl:0)\n",
      "Resource monitoring started\n"
     ]
    },
    {
     "name": "stderr",
     "output_type": "stream",
     "text": [
      "Exception ignored in: <function Delegate.__del__ at 0x70ad48ecab90>\n",
      "Traceback (most recent call last):\n",
      "  File \"/home/pmedur/strojnoUcenje/env/lib/python3.10/site-packages/tensorflow/lite/python/interpreter.py\", line 117, in __del__\n",
      "    if self._library is not None:\n",
      "AttributeError: 'Delegate' object has no attribute '_library'\n",
      "Exception ignored in: <function Delegate.__del__ at 0x70ad48ecab90>\n",
      "Traceback (most recent call last):\n",
      "  File \"/home/pmedur/strojnoUcenje/env/lib/python3.10/site-packages/tensorflow/lite/python/interpreter.py\", line 117, in __del__\n",
      "    if self._library is not None:\n",
      "AttributeError: 'Delegate' object has no attribute '_library'\n"
     ]
    },
    {
     "name": "stdout",
     "output_type": "stream",
     "text": [
      "Resource monitoring stopped\n",
      "[CPU (GPU failed)] Acc: 54.46%, Energy: 0.009721Wh, Size: 613.8KB\n",
      "  Fold 4...     GPU delegate failed: gpu: cannot open shared object file: No such file or directory\n",
      "    Falling back to CPU\n",
      "GPU monitoring initialized: 1 device(s) found\n",
      "CPU energy monitoring (RAPL) initialized: 1 domain(s) found\n",
      "  - package-0 (intel-rapl:0)\n",
      "Resource monitoring started\n"
     ]
    },
    {
     "name": "stderr",
     "output_type": "stream",
     "text": [
      "Exception ignored in: <function Delegate.__del__ at 0x70ad48ecab90>\n",
      "Traceback (most recent call last):\n",
      "  File \"/home/pmedur/strojnoUcenje/env/lib/python3.10/site-packages/tensorflow/lite/python/interpreter.py\", line 117, in __del__\n",
      "    if self._library is not None:\n",
      "AttributeError: 'Delegate' object has no attribute '_library'\n",
      "Exception ignored in: <function Delegate.__del__ at 0x70ad48ecab90>\n",
      "Traceback (most recent call last):\n",
      "  File \"/home/pmedur/strojnoUcenje/env/lib/python3.10/site-packages/tensorflow/lite/python/interpreter.py\", line 117, in __del__\n",
      "    if self._library is not None:\n",
      "AttributeError: 'Delegate' object has no attribute '_library'\n"
     ]
    },
    {
     "name": "stdout",
     "output_type": "stream",
     "text": [
      "Resource monitoring stopped\n",
      "[CPU (GPU failed)] Acc: 41.91%, Energy: 0.008634Wh, Size: 613.8KB\n",
      "  Fold 5...     GPU delegate failed: gpu: cannot open shared object file: No such file or directory\n",
      "    Falling back to CPU\n",
      "GPU monitoring initialized: 1 device(s) found\n",
      "CPU energy monitoring (RAPL) initialized: 1 domain(s) found\n",
      "  - package-0 (intel-rapl:0)\n",
      "Resource monitoring started\n"
     ]
    },
    {
     "name": "stderr",
     "output_type": "stream",
     "text": [
      "Exception ignored in: <function Delegate.__del__ at 0x70ad48ecab90>\n",
      "Traceback (most recent call last):\n",
      "  File \"/home/pmedur/strojnoUcenje/env/lib/python3.10/site-packages/tensorflow/lite/python/interpreter.py\", line 117, in __del__\n",
      "    if self._library is not None:\n",
      "AttributeError: 'Delegate' object has no attribute '_library'\n",
      "Exception ignored in: <function Delegate.__del__ at 0x70ad48ecab90>\n",
      "Traceback (most recent call last):\n",
      "  File \"/home/pmedur/strojnoUcenje/env/lib/python3.10/site-packages/tensorflow/lite/python/interpreter.py\", line 117, in __del__\n",
      "    if self._library is not None:\n",
      "AttributeError: 'Delegate' object has no attribute '_library'\n"
     ]
    },
    {
     "name": "stdout",
     "output_type": "stream",
     "text": [
      "Resource monitoring stopped\n",
      "[CPU (GPU failed)] Acc: 53.57%, Energy: 0.009533Wh, Size: 613.8KB\n",
      "  Fold 6...     GPU delegate failed: gpu: cannot open shared object file: No such file or directory\n",
      "    Falling back to CPU\n",
      "GPU monitoring initialized: 1 device(s) found\n",
      "CPU energy monitoring (RAPL) initialized: 1 domain(s) found\n",
      "  - package-0 (intel-rapl:0)\n",
      "Resource monitoring started\n"
     ]
    },
    {
     "name": "stderr",
     "output_type": "stream",
     "text": [
      "Exception ignored in: <function Delegate.__del__ at 0x70ad48ecab90>\n",
      "Traceback (most recent call last):\n",
      "  File \"/home/pmedur/strojnoUcenje/env/lib/python3.10/site-packages/tensorflow/lite/python/interpreter.py\", line 117, in __del__\n",
      "    if self._library is not None:\n",
      "AttributeError: 'Delegate' object has no attribute '_library'\n",
      "Exception ignored in: <function Delegate.__del__ at 0x70ad48ecab90>\n",
      "Traceback (most recent call last):\n",
      "  File \"/home/pmedur/strojnoUcenje/env/lib/python3.10/site-packages/tensorflow/lite/python/interpreter.py\", line 117, in __del__\n",
      "    if self._library is not None:\n",
      "AttributeError: 'Delegate' object has no attribute '_library'\n"
     ]
    },
    {
     "name": "stdout",
     "output_type": "stream",
     "text": [
      "Resource monitoring stopped\n",
      "[CPU (GPU failed)] Acc: 60.96%, Energy: 0.008764Wh, Size: 613.8KB\n",
      "  Fold 7...     GPU delegate failed: gpu: cannot open shared object file: No such file or directory\n",
      "    Falling back to CPU\n",
      "GPU monitoring initialized: 1 device(s) found\n",
      "CPU energy monitoring (RAPL) initialized: 1 domain(s) found\n",
      "  - package-0 (intel-rapl:0)\n",
      "Resource monitoring started\n"
     ]
    },
    {
     "name": "stderr",
     "output_type": "stream",
     "text": [
      "Exception ignored in: <function Delegate.__del__ at 0x70ad48ecab90>\n",
      "Traceback (most recent call last):\n",
      "  File \"/home/pmedur/strojnoUcenje/env/lib/python3.10/site-packages/tensorflow/lite/python/interpreter.py\", line 117, in __del__\n",
      "    if self._library is not None:\n",
      "AttributeError: 'Delegate' object has no attribute '_library'\n",
      "Exception ignored in: <function Delegate.__del__ at 0x70ad48ecab90>\n",
      "Traceback (most recent call last):\n",
      "  File \"/home/pmedur/strojnoUcenje/env/lib/python3.10/site-packages/tensorflow/lite/python/interpreter.py\", line 117, in __del__\n",
      "    if self._library is not None:\n",
      "AttributeError: 'Delegate' object has no attribute '_library'\n"
     ]
    },
    {
     "name": "stdout",
     "output_type": "stream",
     "text": [
      "Resource monitoring stopped\n",
      "[CPU (GPU failed)] Acc: 47.91%, Energy: 0.007527Wh, Size: 613.8KB\n",
      "  Fold 8...     GPU delegate failed: gpu: cannot open shared object file: No such file or directory\n",
      "    Falling back to CPU\n",
      "GPU monitoring initialized: 1 device(s) found\n",
      "CPU energy monitoring (RAPL) initialized: 1 domain(s) found\n",
      "  - package-0 (intel-rapl:0)\n",
      "Resource monitoring started\n"
     ]
    },
    {
     "name": "stderr",
     "output_type": "stream",
     "text": [
      "Exception ignored in: <function Delegate.__del__ at 0x70ad48ecab90>\n",
      "Traceback (most recent call last):\n",
      "  File \"/home/pmedur/strojnoUcenje/env/lib/python3.10/site-packages/tensorflow/lite/python/interpreter.py\", line 117, in __del__\n",
      "    if self._library is not None:\n",
      "AttributeError: 'Delegate' object has no attribute '_library'\n",
      "Exception ignored in: <function Delegate.__del__ at 0x70ad48ecab90>\n",
      "Traceback (most recent call last):\n",
      "  File \"/home/pmedur/strojnoUcenje/env/lib/python3.10/site-packages/tensorflow/lite/python/interpreter.py\", line 117, in __del__\n",
      "    if self._library is not None:\n",
      "AttributeError: 'Delegate' object has no attribute '_library'\n"
     ]
    },
    {
     "name": "stdout",
     "output_type": "stream",
     "text": [
      "Resource monitoring stopped\n",
      "[CPU (GPU failed)] Acc: 63.16%, Energy: 0.007588Wh, Size: 613.8KB\n",
      "  Fold 9...     GPU delegate failed: gpu: cannot open shared object file: No such file or directory\n",
      "    Falling back to CPU\n",
      "GPU monitoring initialized: 1 device(s) found\n",
      "CPU energy monitoring (RAPL) initialized: 1 domain(s) found\n",
      "  - package-0 (intel-rapl:0)\n",
      "Resource monitoring started\n"
     ]
    },
    {
     "name": "stderr",
     "output_type": "stream",
     "text": [
      "Exception ignored in: <function Delegate.__del__ at 0x70ad48ecab90>\n",
      "Traceback (most recent call last):\n",
      "  File \"/home/pmedur/strojnoUcenje/env/lib/python3.10/site-packages/tensorflow/lite/python/interpreter.py\", line 117, in __del__\n",
      "    if self._library is not None:\n",
      "AttributeError: 'Delegate' object has no attribute '_library'\n",
      "Exception ignored in: <function Delegate.__del__ at 0x70ad48ecab90>\n",
      "Traceback (most recent call last):\n",
      "  File \"/home/pmedur/strojnoUcenje/env/lib/python3.10/site-packages/tensorflow/lite/python/interpreter.py\", line 117, in __del__\n",
      "    if self._library is not None:\n",
      "AttributeError: 'Delegate' object has no attribute '_library'\n"
     ]
    },
    {
     "name": "stdout",
     "output_type": "stream",
     "text": [
      "Resource monitoring stopped\n",
      "[CPU (GPU failed)] Acc: 60.95%, Energy: 0.007563Wh, Size: 613.8KB\n",
      "  Fold 10...     GPU delegate failed: gpu: cannot open shared object file: No such file or directory\n",
      "    Falling back to CPU\n",
      "GPU monitoring initialized: 1 device(s) found\n",
      "CPU energy monitoring (RAPL) initialized: 1 domain(s) found\n",
      "  - package-0 (intel-rapl:0)\n",
      "Resource monitoring started\n"
     ]
    },
    {
     "name": "stderr",
     "output_type": "stream",
     "text": [
      "Exception ignored in: <function Delegate.__del__ at 0x70ad48ecab90>\n",
      "Traceback (most recent call last):\n",
      "  File \"/home/pmedur/strojnoUcenje/env/lib/python3.10/site-packages/tensorflow/lite/python/interpreter.py\", line 117, in __del__\n",
      "    if self._library is not None:\n",
      "AttributeError: 'Delegate' object has no attribute '_library'\n",
      "Exception ignored in: <function Delegate.__del__ at 0x70ad48ecab90>\n",
      "Traceback (most recent call last):\n",
      "  File \"/home/pmedur/strojnoUcenje/env/lib/python3.10/site-packages/tensorflow/lite/python/interpreter.py\", line 117, in __del__\n",
      "    if self._library is not None:\n",
      "AttributeError: 'Delegate' object has no attribute '_library'\n"
     ]
    },
    {
     "name": "stdout",
     "output_type": "stream",
     "text": [
      "Resource monitoring stopped\n",
      "[CPU (GPU failed)] Acc: 60.12%, Energy: 0.007665Wh, Size: 613.8KB\n",
      "\n",
      "model_3:\n",
      "  Fold 1...     GPU delegate failed: gpu: cannot open shared object file: No such file or directory\n",
      "    Falling back to CPU\n",
      "GPU monitoring initialized: 1 device(s) found\n",
      "CPU energy monitoring (RAPL) initialized: 1 domain(s) found\n",
      "  - package-0 (intel-rapl:0)\n",
      "Resource monitoring started\n"
     ]
    },
    {
     "name": "stderr",
     "output_type": "stream",
     "text": [
      "Exception ignored in: <function Delegate.__del__ at 0x70ad48ecab90>\n",
      "Traceback (most recent call last):\n",
      "  File \"/home/pmedur/strojnoUcenje/env/lib/python3.10/site-packages/tensorflow/lite/python/interpreter.py\", line 117, in __del__\n",
      "    if self._library is not None:\n",
      "AttributeError: 'Delegate' object has no attribute '_library'\n",
      "Exception ignored in: <function Delegate.__del__ at 0x70ad48ecab90>\n",
      "Traceback (most recent call last):\n",
      "  File \"/home/pmedur/strojnoUcenje/env/lib/python3.10/site-packages/tensorflow/lite/python/interpreter.py\", line 117, in __del__\n",
      "    if self._library is not None:\n",
      "AttributeError: 'Delegate' object has no attribute '_library'\n"
     ]
    },
    {
     "name": "stdout",
     "output_type": "stream",
     "text": [
      "Resource monitoring stopped\n",
      "[CPU (GPU failed)] Acc: 82.17%, Energy: 0.013366Wh, Size: 617.8KB\n",
      "  Fold 2...     GPU delegate failed: gpu: cannot open shared object file: No such file or directory\n",
      "    Falling back to CPU\n",
      "GPU monitoring initialized: 1 device(s) found\n",
      "CPU energy monitoring (RAPL) initialized: 1 domain(s) found\n",
      "  - package-0 (intel-rapl:0)\n",
      "Resource monitoring started\n"
     ]
    },
    {
     "name": "stderr",
     "output_type": "stream",
     "text": [
      "Exception ignored in: <function Delegate.__del__ at 0x70ad48ecab90>\n",
      "Traceback (most recent call last):\n",
      "  File \"/home/pmedur/strojnoUcenje/env/lib/python3.10/site-packages/tensorflow/lite/python/interpreter.py\", line 117, in __del__\n",
      "    if self._library is not None:\n",
      "AttributeError: 'Delegate' object has no attribute '_library'\n",
      "Exception ignored in: <function Delegate.__del__ at 0x70ad48ecab90>\n",
      "Traceback (most recent call last):\n",
      "  File \"/home/pmedur/strojnoUcenje/env/lib/python3.10/site-packages/tensorflow/lite/python/interpreter.py\", line 117, in __del__\n",
      "    if self._library is not None:\n",
      "AttributeError: 'Delegate' object has no attribute '_library'\n"
     ]
    },
    {
     "name": "stdout",
     "output_type": "stream",
     "text": [
      "Resource monitoring stopped\n",
      "[CPU (GPU failed)] Acc: 81.70%, Energy: 0.014655Wh, Size: 617.8KB\n",
      "  Fold 3...     GPU delegate failed: gpu: cannot open shared object file: No such file or directory\n",
      "    Falling back to CPU\n",
      "GPU monitoring initialized: 1 device(s) found\n",
      "CPU energy monitoring (RAPL) initialized: 1 domain(s) found\n",
      "  - package-0 (intel-rapl:0)\n",
      "Resource monitoring started\n"
     ]
    },
    {
     "name": "stderr",
     "output_type": "stream",
     "text": [
      "Exception ignored in: <function Delegate.__del__ at 0x70ad48ecab90>\n",
      "Traceback (most recent call last):\n",
      "  File \"/home/pmedur/strojnoUcenje/env/lib/python3.10/site-packages/tensorflow/lite/python/interpreter.py\", line 117, in __del__\n",
      "    if self._library is not None:\n",
      "AttributeError: 'Delegate' object has no attribute '_library'\n",
      "Exception ignored in: <function Delegate.__del__ at 0x70ad48ecab90>\n",
      "Traceback (most recent call last):\n",
      "  File \"/home/pmedur/strojnoUcenje/env/lib/python3.10/site-packages/tensorflow/lite/python/interpreter.py\", line 117, in __del__\n",
      "    if self._library is not None:\n",
      "AttributeError: 'Delegate' object has no attribute '_library'\n"
     ]
    },
    {
     "name": "stdout",
     "output_type": "stream",
     "text": [
      "Resource monitoring stopped\n",
      "[CPU (GPU failed)] Acc: 82.58%, Energy: 0.013849Wh, Size: 617.8KB\n",
      "  Fold 4...     GPU delegate failed: gpu: cannot open shared object file: No such file or directory\n",
      "    Falling back to CPU\n",
      "GPU monitoring initialized: 1 device(s) found\n",
      "CPU energy monitoring (RAPL) initialized: 1 domain(s) found\n",
      "  - package-0 (intel-rapl:0)\n",
      "Resource monitoring started\n"
     ]
    },
    {
     "name": "stderr",
     "output_type": "stream",
     "text": [
      "Exception ignored in: <function Delegate.__del__ at 0x70ad48ecab90>\n",
      "Traceback (most recent call last):\n",
      "  File \"/home/pmedur/strojnoUcenje/env/lib/python3.10/site-packages/tensorflow/lite/python/interpreter.py\", line 117, in __del__\n",
      "    if self._library is not None:\n",
      "AttributeError: 'Delegate' object has no attribute '_library'\n",
      "Exception ignored in: <function Delegate.__del__ at 0x70ad48ecab90>\n",
      "Traceback (most recent call last):\n",
      "  File \"/home/pmedur/strojnoUcenje/env/lib/python3.10/site-packages/tensorflow/lite/python/interpreter.py\", line 117, in __del__\n",
      "    if self._library is not None:\n",
      "AttributeError: 'Delegate' object has no attribute '_library'\n"
     ]
    },
    {
     "name": "stdout",
     "output_type": "stream",
     "text": [
      "Resource monitoring stopped\n",
      "[CPU (GPU failed)] Acc: 81.30%, Energy: 0.014870Wh, Size: 617.8KB\n",
      "  Fold 5...     GPU delegate failed: gpu: cannot open shared object file: No such file or directory\n",
      "    Falling back to CPU\n",
      "GPU monitoring initialized: 1 device(s) found\n",
      "CPU energy monitoring (RAPL) initialized: 1 domain(s) found\n",
      "  - package-0 (intel-rapl:0)\n",
      "Resource monitoring started\n"
     ]
    },
    {
     "name": "stderr",
     "output_type": "stream",
     "text": [
      "Exception ignored in: <function Delegate.__del__ at 0x70ad48ecab90>\n",
      "Traceback (most recent call last):\n",
      "  File \"/home/pmedur/strojnoUcenje/env/lib/python3.10/site-packages/tensorflow/lite/python/interpreter.py\", line 117, in __del__\n",
      "    if self._library is not None:\n",
      "AttributeError: 'Delegate' object has no attribute '_library'\n",
      "Exception ignored in: <function Delegate.__del__ at 0x70ad48ecab90>\n",
      "Traceback (most recent call last):\n",
      "  File \"/home/pmedur/strojnoUcenje/env/lib/python3.10/site-packages/tensorflow/lite/python/interpreter.py\", line 117, in __del__\n",
      "    if self._library is not None:\n",
      "AttributeError: 'Delegate' object has no attribute '_library'\n"
     ]
    },
    {
     "name": "stdout",
     "output_type": "stream",
     "text": [
      "Resource monitoring stopped\n",
      "[CPU (GPU failed)] Acc: 81.54%, Energy: 0.014141Wh, Size: 617.8KB\n",
      "  Fold 6...     GPU delegate failed: gpu: cannot open shared object file: No such file or directory\n",
      "    Falling back to CPU\n",
      "GPU monitoring initialized: 1 device(s) found\n",
      "CPU energy monitoring (RAPL) initialized: 1 domain(s) found\n",
      "  - package-0 (intel-rapl:0)\n",
      "Resource monitoring started\n"
     ]
    },
    {
     "name": "stderr",
     "output_type": "stream",
     "text": [
      "Exception ignored in: <function Delegate.__del__ at 0x70ad48ecab90>\n",
      "Traceback (most recent call last):\n",
      "  File \"/home/pmedur/strojnoUcenje/env/lib/python3.10/site-packages/tensorflow/lite/python/interpreter.py\", line 117, in __del__\n",
      "    if self._library is not None:\n",
      "AttributeError: 'Delegate' object has no attribute '_library'\n",
      "Exception ignored in: <function Delegate.__del__ at 0x70ad48ecab90>\n",
      "Traceback (most recent call last):\n",
      "  File \"/home/pmedur/strojnoUcenje/env/lib/python3.10/site-packages/tensorflow/lite/python/interpreter.py\", line 117, in __del__\n",
      "    if self._library is not None:\n",
      "AttributeError: 'Delegate' object has no attribute '_library'\n"
     ]
    },
    {
     "name": "stdout",
     "output_type": "stream",
     "text": [
      "Resource monitoring stopped\n",
      "[CPU (GPU failed)] Acc: 83.10%, Energy: 0.014490Wh, Size: 617.8KB\n",
      "  Fold 7...     GPU delegate failed: gpu: cannot open shared object file: No such file or directory\n",
      "    Falling back to CPU\n",
      "GPU monitoring initialized: 1 device(s) found\n",
      "CPU energy monitoring (RAPL) initialized: 1 domain(s) found\n",
      "  - package-0 (intel-rapl:0)\n",
      "Resource monitoring started\n"
     ]
    },
    {
     "name": "stderr",
     "output_type": "stream",
     "text": [
      "Exception ignored in: <function Delegate.__del__ at 0x70ad48ecab90>\n",
      "Traceback (most recent call last):\n",
      "  File \"/home/pmedur/strojnoUcenje/env/lib/python3.10/site-packages/tensorflow/lite/python/interpreter.py\", line 117, in __del__\n",
      "    if self._library is not None:\n",
      "AttributeError: 'Delegate' object has no attribute '_library'\n",
      "Exception ignored in: <function Delegate.__del__ at 0x70ad48ecab90>\n",
      "Traceback (most recent call last):\n",
      "  File \"/home/pmedur/strojnoUcenje/env/lib/python3.10/site-packages/tensorflow/lite/python/interpreter.py\", line 117, in __del__\n",
      "    if self._library is not None:\n",
      "AttributeError: 'Delegate' object has no attribute '_library'\n"
     ]
    },
    {
     "name": "stdout",
     "output_type": "stream",
     "text": [
      "Resource monitoring stopped\n",
      "[CPU (GPU failed)] Acc: 82.30%, Energy: 0.014203Wh, Size: 617.8KB\n",
      "  Fold 8...     GPU delegate failed: gpu: cannot open shared object file: No such file or directory\n",
      "    Falling back to CPU\n",
      "GPU monitoring initialized: 1 device(s) found\n",
      "CPU energy monitoring (RAPL) initialized: 1 domain(s) found\n",
      "  - package-0 (intel-rapl:0)\n",
      "Resource monitoring started\n"
     ]
    },
    {
     "name": "stderr",
     "output_type": "stream",
     "text": [
      "Exception ignored in: <function Delegate.__del__ at 0x70ad48ecab90>\n",
      "Traceback (most recent call last):\n",
      "  File \"/home/pmedur/strojnoUcenje/env/lib/python3.10/site-packages/tensorflow/lite/python/interpreter.py\", line 117, in __del__\n",
      "    if self._library is not None:\n",
      "AttributeError: 'Delegate' object has no attribute '_library'\n",
      "Exception ignored in: <function Delegate.__del__ at 0x70ad48ecab90>\n",
      "Traceback (most recent call last):\n",
      "  File \"/home/pmedur/strojnoUcenje/env/lib/python3.10/site-packages/tensorflow/lite/python/interpreter.py\", line 117, in __del__\n",
      "    if self._library is not None:\n",
      "AttributeError: 'Delegate' object has no attribute '_library'\n"
     ]
    },
    {
     "name": "stdout",
     "output_type": "stream",
     "text": [
      "Resource monitoring stopped\n",
      "[CPU (GPU failed)] Acc: 80.93%, Energy: 0.013759Wh, Size: 617.8KB\n",
      "  Fold 9...     GPU delegate failed: gpu: cannot open shared object file: No such file or directory\n",
      "    Falling back to CPU\n",
      "GPU monitoring initialized: 1 device(s) found\n",
      "CPU energy monitoring (RAPL) initialized: 1 domain(s) found\n",
      "  - package-0 (intel-rapl:0)\n",
      "Resource monitoring started\n"
     ]
    },
    {
     "name": "stderr",
     "output_type": "stream",
     "text": [
      "Exception ignored in: <function Delegate.__del__ at 0x70ad48ecab90>\n",
      "Traceback (most recent call last):\n",
      "  File \"/home/pmedur/strojnoUcenje/env/lib/python3.10/site-packages/tensorflow/lite/python/interpreter.py\", line 117, in __del__\n",
      "    if self._library is not None:\n",
      "AttributeError: 'Delegate' object has no attribute '_library'\n",
      "Exception ignored in: <function Delegate.__del__ at 0x70ad48ecab90>\n",
      "Traceback (most recent call last):\n",
      "  File \"/home/pmedur/strojnoUcenje/env/lib/python3.10/site-packages/tensorflow/lite/python/interpreter.py\", line 117, in __del__\n",
      "    if self._library is not None:\n",
      "AttributeError: 'Delegate' object has no attribute '_library'\n"
     ]
    },
    {
     "name": "stdout",
     "output_type": "stream",
     "text": [
      "Resource monitoring stopped\n",
      "[CPU (GPU failed)] Acc: 82.37%, Energy: 0.014921Wh, Size: 617.8KB\n",
      "  Fold 10...     GPU delegate failed: gpu: cannot open shared object file: No such file or directory\n",
      "    Falling back to CPU\n",
      "GPU monitoring initialized: 1 device(s) found\n",
      "CPU energy monitoring (RAPL) initialized: 1 domain(s) found\n",
      "  - package-0 (intel-rapl:0)\n",
      "Resource monitoring started\n"
     ]
    },
    {
     "name": "stderr",
     "output_type": "stream",
     "text": [
      "Exception ignored in: <function Delegate.__del__ at 0x70ad48ecab90>\n",
      "Traceback (most recent call last):\n",
      "  File \"/home/pmedur/strojnoUcenje/env/lib/python3.10/site-packages/tensorflow/lite/python/interpreter.py\", line 117, in __del__\n",
      "    if self._library is not None:\n",
      "AttributeError: 'Delegate' object has no attribute '_library'\n",
      "Exception ignored in: <function Delegate.__del__ at 0x70ad48ecab90>\n",
      "Traceback (most recent call last):\n",
      "  File \"/home/pmedur/strojnoUcenje/env/lib/python3.10/site-packages/tensorflow/lite/python/interpreter.py\", line 117, in __del__\n",
      "    if self._library is not None:\n",
      "AttributeError: 'Delegate' object has no attribute '_library'\n"
     ]
    },
    {
     "name": "stdout",
     "output_type": "stream",
     "text": [
      "Resource monitoring stopped\n",
      "[CPU (GPU failed)] Acc: 82.85%, Energy: 0.018186Wh, Size: 617.8KB\n",
      "\n",
      "model_4:\n",
      "  Fold 1...     GPU delegate failed: gpu: cannot open shared object file: No such file or directory\n",
      "    Falling back to CPU\n",
      "GPU monitoring initialized: 1 device(s) found\n",
      "CPU energy monitoring (RAPL) initialized: 1 domain(s) found\n",
      "  - package-0 (intel-rapl:0)\n",
      "Resource monitoring started\n"
     ]
    },
    {
     "name": "stderr",
     "output_type": "stream",
     "text": [
      "Exception ignored in: <function Delegate.__del__ at 0x70ad48ecab90>\n",
      "Traceback (most recent call last):\n",
      "  File \"/home/pmedur/strojnoUcenje/env/lib/python3.10/site-packages/tensorflow/lite/python/interpreter.py\", line 117, in __del__\n",
      "    if self._library is not None:\n",
      "AttributeError: 'Delegate' object has no attribute '_library'\n",
      "Exception ignored in: <function Delegate.__del__ at 0x70ad48ecab90>\n",
      "Traceback (most recent call last):\n",
      "  File \"/home/pmedur/strojnoUcenje/env/lib/python3.10/site-packages/tensorflow/lite/python/interpreter.py\", line 117, in __del__\n",
      "    if self._library is not None:\n",
      "AttributeError: 'Delegate' object has no attribute '_library'\n"
     ]
    },
    {
     "name": "stdout",
     "output_type": "stream",
     "text": [
      "Resource monitoring stopped\n",
      "[CPU (GPU failed)] Acc: 65.59%, Energy: 0.013420Wh, Size: 2423.7KB\n",
      "  Fold 2...     GPU delegate failed: gpu: cannot open shared object file: No such file or directory\n",
      "    Falling back to CPU\n",
      "GPU monitoring initialized: 1 device(s) found\n",
      "CPU energy monitoring (RAPL) initialized: 1 domain(s) found\n",
      "  - package-0 (intel-rapl:0)\n",
      "Resource monitoring started\n"
     ]
    },
    {
     "name": "stderr",
     "output_type": "stream",
     "text": [
      "Exception ignored in: <function Delegate.__del__ at 0x70ad48ecab90>\n",
      "Traceback (most recent call last):\n",
      "  File \"/home/pmedur/strojnoUcenje/env/lib/python3.10/site-packages/tensorflow/lite/python/interpreter.py\", line 117, in __del__\n",
      "    if self._library is not None:\n",
      "AttributeError: 'Delegate' object has no attribute '_library'\n",
      "Exception ignored in: <function Delegate.__del__ at 0x70ad48ecab90>\n",
      "Traceback (most recent call last):\n",
      "  File \"/home/pmedur/strojnoUcenje/env/lib/python3.10/site-packages/tensorflow/lite/python/interpreter.py\", line 117, in __del__\n",
      "    if self._library is not None:\n",
      "AttributeError: 'Delegate' object has no attribute '_library'\n"
     ]
    },
    {
     "name": "stdout",
     "output_type": "stream",
     "text": [
      "Resource monitoring stopped\n",
      "[CPU (GPU failed)] Acc: 65.16%, Energy: 0.014347Wh, Size: 2423.7KB\n",
      "  Fold 3...     GPU delegate failed: gpu: cannot open shared object file: No such file or directory\n",
      "    Falling back to CPU\n",
      "GPU monitoring initialized: 1 device(s) found\n",
      "CPU energy monitoring (RAPL) initialized: 1 domain(s) found\n",
      "  - package-0 (intel-rapl:0)\n",
      "Resource monitoring started\n"
     ]
    },
    {
     "name": "stderr",
     "output_type": "stream",
     "text": [
      "Exception ignored in: <function Delegate.__del__ at 0x70ad48ecab90>\n",
      "Traceback (most recent call last):\n",
      "  File \"/home/pmedur/strojnoUcenje/env/lib/python3.10/site-packages/tensorflow/lite/python/interpreter.py\", line 117, in __del__\n",
      "    if self._library is not None:\n",
      "AttributeError: 'Delegate' object has no attribute '_library'\n",
      "Exception ignored in: <function Delegate.__del__ at 0x70ad48ecab90>\n",
      "Traceback (most recent call last):\n",
      "  File \"/home/pmedur/strojnoUcenje/env/lib/python3.10/site-packages/tensorflow/lite/python/interpreter.py\", line 117, in __del__\n",
      "    if self._library is not None:\n",
      "AttributeError: 'Delegate' object has no attribute '_library'\n"
     ]
    },
    {
     "name": "stdout",
     "output_type": "stream",
     "text": [
      "Resource monitoring stopped\n",
      "[CPU (GPU failed)] Acc: 65.06%, Energy: 0.014815Wh, Size: 2423.7KB\n",
      "  Fold 4...     GPU delegate failed: gpu: cannot open shared object file: No such file or directory\n",
      "    Falling back to CPU\n",
      "GPU monitoring initialized: 1 device(s) found\n",
      "CPU energy monitoring (RAPL) initialized: 1 domain(s) found\n",
      "  - package-0 (intel-rapl:0)\n",
      "Resource monitoring started\n"
     ]
    },
    {
     "name": "stderr",
     "output_type": "stream",
     "text": [
      "Exception ignored in: <function Delegate.__del__ at 0x70ad48ecab90>\n",
      "Traceback (most recent call last):\n",
      "  File \"/home/pmedur/strojnoUcenje/env/lib/python3.10/site-packages/tensorflow/lite/python/interpreter.py\", line 117, in __del__\n",
      "    if self._library is not None:\n",
      "AttributeError: 'Delegate' object has no attribute '_library'\n",
      "Exception ignored in: <function Delegate.__del__ at 0x70ad48ecab90>\n",
      "Traceback (most recent call last):\n",
      "  File \"/home/pmedur/strojnoUcenje/env/lib/python3.10/site-packages/tensorflow/lite/python/interpreter.py\", line 117, in __del__\n",
      "    if self._library is not None:\n",
      "AttributeError: 'Delegate' object has no attribute '_library'\n"
     ]
    },
    {
     "name": "stdout",
     "output_type": "stream",
     "text": [
      "Resource monitoring stopped\n",
      "[CPU (GPU failed)] Acc: 68.75%, Energy: 0.015369Wh, Size: 2423.7KB\n",
      "  Fold 5...     GPU delegate failed: gpu: cannot open shared object file: No such file or directory\n",
      "    Falling back to CPU\n",
      "GPU monitoring initialized: 1 device(s) found\n",
      "CPU energy monitoring (RAPL) initialized: 1 domain(s) found\n",
      "  - package-0 (intel-rapl:0)\n",
      "Resource monitoring started\n"
     ]
    },
    {
     "name": "stderr",
     "output_type": "stream",
     "text": [
      "Exception ignored in: <function Delegate.__del__ at 0x70ad48ecab90>\n",
      "Traceback (most recent call last):\n",
      "  File \"/home/pmedur/strojnoUcenje/env/lib/python3.10/site-packages/tensorflow/lite/python/interpreter.py\", line 117, in __del__\n",
      "    if self._library is not None:\n",
      "AttributeError: 'Delegate' object has no attribute '_library'\n",
      "Exception ignored in: <function Delegate.__del__ at 0x70ad48ecab90>\n",
      "Traceback (most recent call last):\n",
      "  File \"/home/pmedur/strojnoUcenje/env/lib/python3.10/site-packages/tensorflow/lite/python/interpreter.py\", line 117, in __del__\n",
      "    if self._library is not None:\n",
      "AttributeError: 'Delegate' object has no attribute '_library'\n"
     ]
    },
    {
     "name": "stdout",
     "output_type": "stream",
     "text": [
      "Resource monitoring stopped\n",
      "[CPU (GPU failed)] Acc: 66.73%, Energy: 0.014364Wh, Size: 2423.7KB\n",
      "  Fold 6...     GPU delegate failed: gpu: cannot open shared object file: No such file or directory\n",
      "    Falling back to CPU\n",
      "GPU monitoring initialized: 1 device(s) found\n",
      "CPU energy monitoring (RAPL) initialized: 1 domain(s) found\n",
      "  - package-0 (intel-rapl:0)\n",
      "Resource monitoring started\n"
     ]
    },
    {
     "name": "stderr",
     "output_type": "stream",
     "text": [
      "Exception ignored in: <function Delegate.__del__ at 0x70ad48ecab90>\n",
      "Traceback (most recent call last):\n",
      "  File \"/home/pmedur/strojnoUcenje/env/lib/python3.10/site-packages/tensorflow/lite/python/interpreter.py\", line 117, in __del__\n",
      "    if self._library is not None:\n",
      "AttributeError: 'Delegate' object has no attribute '_library'\n",
      "Exception ignored in: <function Delegate.__del__ at 0x70ad48ecab90>\n",
      "Traceback (most recent call last):\n",
      "  File \"/home/pmedur/strojnoUcenje/env/lib/python3.10/site-packages/tensorflow/lite/python/interpreter.py\", line 117, in __del__\n",
      "    if self._library is not None:\n",
      "AttributeError: 'Delegate' object has no attribute '_library'\n"
     ]
    },
    {
     "name": "stdout",
     "output_type": "stream",
     "text": [
      "Resource monitoring stopped\n",
      "[CPU (GPU failed)] Acc: 67.33%, Energy: 0.017728Wh, Size: 2423.7KB\n",
      "  Fold 7...     GPU delegate failed: gpu: cannot open shared object file: No such file or directory\n",
      "    Falling back to CPU\n",
      "GPU monitoring initialized: 1 device(s) found\n",
      "CPU energy monitoring (RAPL) initialized: 1 domain(s) found\n",
      "  - package-0 (intel-rapl:0)\n",
      "Resource monitoring started\n"
     ]
    },
    {
     "name": "stderr",
     "output_type": "stream",
     "text": [
      "Exception ignored in: <function Delegate.__del__ at 0x70ad48ecab90>\n",
      "Traceback (most recent call last):\n",
      "  File \"/home/pmedur/strojnoUcenje/env/lib/python3.10/site-packages/tensorflow/lite/python/interpreter.py\", line 117, in __del__\n",
      "    if self._library is not None:\n",
      "AttributeError: 'Delegate' object has no attribute '_library'\n",
      "Exception ignored in: <function Delegate.__del__ at 0x70ad48ecab90>\n",
      "Traceback (most recent call last):\n",
      "  File \"/home/pmedur/strojnoUcenje/env/lib/python3.10/site-packages/tensorflow/lite/python/interpreter.py\", line 117, in __del__\n",
      "    if self._library is not None:\n",
      "AttributeError: 'Delegate' object has no attribute '_library'\n"
     ]
    },
    {
     "name": "stdout",
     "output_type": "stream",
     "text": [
      "Resource monitoring stopped\n",
      "[CPU (GPU failed)] Acc: 64.88%, Energy: 0.013363Wh, Size: 2423.7KB\n",
      "  Fold 8...     GPU delegate failed: gpu: cannot open shared object file: No such file or directory\n",
      "    Falling back to CPU\n",
      "GPU monitoring initialized: 1 device(s) found\n",
      "CPU energy monitoring (RAPL) initialized: 1 domain(s) found\n",
      "  - package-0 (intel-rapl:0)\n",
      "Resource monitoring started\n"
     ]
    },
    {
     "name": "stderr",
     "output_type": "stream",
     "text": [
      "Exception ignored in: <function Delegate.__del__ at 0x70ad48ecab90>\n",
      "Traceback (most recent call last):\n",
      "  File \"/home/pmedur/strojnoUcenje/env/lib/python3.10/site-packages/tensorflow/lite/python/interpreter.py\", line 117, in __del__\n",
      "    if self._library is not None:\n",
      "AttributeError: 'Delegate' object has no attribute '_library'\n",
      "Exception ignored in: <function Delegate.__del__ at 0x70ad48ecab90>\n",
      "Traceback (most recent call last):\n",
      "  File \"/home/pmedur/strojnoUcenje/env/lib/python3.10/site-packages/tensorflow/lite/python/interpreter.py\", line 117, in __del__\n",
      "    if self._library is not None:\n",
      "AttributeError: 'Delegate' object has no attribute '_library'\n"
     ]
    },
    {
     "name": "stdout",
     "output_type": "stream",
     "text": [
      "Resource monitoring stopped\n",
      "[CPU (GPU failed)] Acc: 65.92%, Energy: 0.015490Wh, Size: 2423.7KB\n",
      "  Fold 9...     GPU delegate failed: gpu: cannot open shared object file: No such file or directory\n",
      "    Falling back to CPU\n",
      "GPU monitoring initialized: 1 device(s) found\n",
      "CPU energy monitoring (RAPL) initialized: 1 domain(s) found\n",
      "  - package-0 (intel-rapl:0)\n",
      "Resource monitoring started\n"
     ]
    },
    {
     "name": "stderr",
     "output_type": "stream",
     "text": [
      "Exception ignored in: <function Delegate.__del__ at 0x70ad48ecab90>\n",
      "Traceback (most recent call last):\n",
      "  File \"/home/pmedur/strojnoUcenje/env/lib/python3.10/site-packages/tensorflow/lite/python/interpreter.py\", line 117, in __del__\n",
      "    if self._library is not None:\n",
      "AttributeError: 'Delegate' object has no attribute '_library'\n",
      "Exception ignored in: <function Delegate.__del__ at 0x70ad48ecab90>\n",
      "Traceback (most recent call last):\n",
      "  File \"/home/pmedur/strojnoUcenje/env/lib/python3.10/site-packages/tensorflow/lite/python/interpreter.py\", line 117, in __del__\n",
      "    if self._library is not None:\n",
      "AttributeError: 'Delegate' object has no attribute '_library'\n"
     ]
    },
    {
     "name": "stdout",
     "output_type": "stream",
     "text": [
      "Resource monitoring stopped\n",
      "[CPU (GPU failed)] Acc: 66.80%, Energy: 0.012639Wh, Size: 2423.7KB\n",
      "  Fold 10...     GPU delegate failed: gpu: cannot open shared object file: No such file or directory\n",
      "    Falling back to CPU\n",
      "GPU monitoring initialized: 1 device(s) found\n",
      "CPU energy monitoring (RAPL) initialized: 1 domain(s) found\n",
      "  - package-0 (intel-rapl:0)\n",
      "Resource monitoring started\n"
     ]
    },
    {
     "name": "stderr",
     "output_type": "stream",
     "text": [
      "Exception ignored in: <function Delegate.__del__ at 0x70ad48ecab90>\n",
      "Traceback (most recent call last):\n",
      "  File \"/home/pmedur/strojnoUcenje/env/lib/python3.10/site-packages/tensorflow/lite/python/interpreter.py\", line 117, in __del__\n",
      "    if self._library is not None:\n",
      "AttributeError: 'Delegate' object has no attribute '_library'\n",
      "Exception ignored in: <function Delegate.__del__ at 0x70ad48ecab90>\n",
      "Traceback (most recent call last):\n",
      "  File \"/home/pmedur/strojnoUcenje/env/lib/python3.10/site-packages/tensorflow/lite/python/interpreter.py\", line 117, in __del__\n",
      "    if self._library is not None:\n",
      "AttributeError: 'Delegate' object has no attribute '_library'\n"
     ]
    },
    {
     "name": "stdout",
     "output_type": "stream",
     "text": [
      "Resource monitoring stopped\n",
      "[CPU (GPU failed)] Acc: 61.12%, Energy: 0.012900Wh, Size: 2423.7KB\n",
      "\n",
      "model_5:\n",
      "  Fold 1...     GPU delegate failed: gpu: cannot open shared object file: No such file or directory\n",
      "    Falling back to CPU\n",
      "GPU monitoring initialized: 1 device(s) found\n",
      "CPU energy monitoring (RAPL) initialized: 1 domain(s) found\n",
      "  - package-0 (intel-rapl:0)\n",
      "Resource monitoring started\n"
     ]
    },
    {
     "name": "stderr",
     "output_type": "stream",
     "text": [
      "Exception ignored in: <function Delegate.__del__ at 0x70ad48ecab90>\n",
      "Traceback (most recent call last):\n",
      "  File \"/home/pmedur/strojnoUcenje/env/lib/python3.10/site-packages/tensorflow/lite/python/interpreter.py\", line 117, in __del__\n",
      "    if self._library is not None:\n",
      "AttributeError: 'Delegate' object has no attribute '_library'\n",
      "Exception ignored in: <function Delegate.__del__ at 0x70ad48ecab90>\n",
      "Traceback (most recent call last):\n",
      "  File \"/home/pmedur/strojnoUcenje/env/lib/python3.10/site-packages/tensorflow/lite/python/interpreter.py\", line 117, in __del__\n",
      "    if self._library is not None:\n",
      "AttributeError: 'Delegate' object has no attribute '_library'\n"
     ]
    },
    {
     "name": "stdout",
     "output_type": "stream",
     "text": [
      "Resource monitoring stopped\n",
      "[CPU (GPU failed)] Acc: 79.87%, Energy: 0.014073Wh, Size: 320.6KB\n",
      "  Fold 2...     GPU delegate failed: gpu: cannot open shared object file: No such file or directory\n",
      "    Falling back to CPU\n",
      "GPU monitoring initialized: 1 device(s) found\n",
      "CPU energy monitoring (RAPL) initialized: 1 domain(s) found\n",
      "  - package-0 (intel-rapl:0)\n",
      "Resource monitoring started\n"
     ]
    },
    {
     "name": "stderr",
     "output_type": "stream",
     "text": [
      "Exception ignored in: <function Delegate.__del__ at 0x70ad48ecab90>\n",
      "Traceback (most recent call last):\n",
      "  File \"/home/pmedur/strojnoUcenje/env/lib/python3.10/site-packages/tensorflow/lite/python/interpreter.py\", line 117, in __del__\n",
      "    if self._library is not None:\n",
      "AttributeError: 'Delegate' object has no attribute '_library'\n",
      "Exception ignored in: <function Delegate.__del__ at 0x70ad48ecab90>\n",
      "Traceback (most recent call last):\n",
      "  File \"/home/pmedur/strojnoUcenje/env/lib/python3.10/site-packages/tensorflow/lite/python/interpreter.py\", line 117, in __del__\n",
      "    if self._library is not None:\n",
      "AttributeError: 'Delegate' object has no attribute '_library'\n"
     ]
    },
    {
     "name": "stdout",
     "output_type": "stream",
     "text": [
      "Resource monitoring stopped\n",
      "[CPU (GPU failed)] Acc: 78.46%, Energy: 0.015239Wh, Size: 320.6KB\n",
      "  Fold 3...     GPU delegate failed: gpu: cannot open shared object file: No such file or directory\n",
      "    Falling back to CPU\n",
      "GPU monitoring initialized: 1 device(s) found\n",
      "CPU energy monitoring (RAPL) initialized: 1 domain(s) found\n",
      "  - package-0 (intel-rapl:0)\n",
      "Resource monitoring started\n"
     ]
    },
    {
     "name": "stderr",
     "output_type": "stream",
     "text": [
      "Exception ignored in: <function Delegate.__del__ at 0x70ad48ecab90>\n",
      "Traceback (most recent call last):\n",
      "  File \"/home/pmedur/strojnoUcenje/env/lib/python3.10/site-packages/tensorflow/lite/python/interpreter.py\", line 117, in __del__\n",
      "    if self._library is not None:\n",
      "AttributeError: 'Delegate' object has no attribute '_library'\n",
      "Exception ignored in: <function Delegate.__del__ at 0x70ad48ecab90>\n",
      "Traceback (most recent call last):\n",
      "  File \"/home/pmedur/strojnoUcenje/env/lib/python3.10/site-packages/tensorflow/lite/python/interpreter.py\", line 117, in __del__\n",
      "    if self._library is not None:\n",
      "AttributeError: 'Delegate' object has no attribute '_library'\n"
     ]
    },
    {
     "name": "stdout",
     "output_type": "stream",
     "text": [
      "Resource monitoring stopped\n",
      "[CPU (GPU failed)] Acc: 79.34%, Energy: 0.012745Wh, Size: 320.6KB\n",
      "  Fold 4...     GPU delegate failed: gpu: cannot open shared object file: No such file or directory\n",
      "    Falling back to CPU\n",
      "GPU monitoring initialized: 1 device(s) found\n",
      "CPU energy monitoring (RAPL) initialized: 1 domain(s) found\n",
      "  - package-0 (intel-rapl:0)\n",
      "Resource monitoring started\n"
     ]
    },
    {
     "name": "stderr",
     "output_type": "stream",
     "text": [
      "Exception ignored in: <function Delegate.__del__ at 0x70ad48ecab90>\n",
      "Traceback (most recent call last):\n",
      "  File \"/home/pmedur/strojnoUcenje/env/lib/python3.10/site-packages/tensorflow/lite/python/interpreter.py\", line 117, in __del__\n",
      "    if self._library is not None:\n",
      "AttributeError: 'Delegate' object has no attribute '_library'\n",
      "Exception ignored in: <function Delegate.__del__ at 0x70ad48ecab90>\n",
      "Traceback (most recent call last):\n",
      "  File \"/home/pmedur/strojnoUcenje/env/lib/python3.10/site-packages/tensorflow/lite/python/interpreter.py\", line 117, in __del__\n",
      "    if self._library is not None:\n",
      "AttributeError: 'Delegate' object has no attribute '_library'\n"
     ]
    },
    {
     "name": "stdout",
     "output_type": "stream",
     "text": [
      "Resource monitoring stopped\n",
      "[CPU (GPU failed)] Acc: 79.44%, Energy: 0.012587Wh, Size: 320.6KB\n",
      "  Fold 5...     GPU delegate failed: gpu: cannot open shared object file: No such file or directory\n",
      "    Falling back to CPU\n",
      "GPU monitoring initialized: 1 device(s) found\n",
      "CPU energy monitoring (RAPL) initialized: 1 domain(s) found\n",
      "  - package-0 (intel-rapl:0)\n",
      "Resource monitoring started\n"
     ]
    },
    {
     "name": "stderr",
     "output_type": "stream",
     "text": [
      "Exception ignored in: <function Delegate.__del__ at 0x70ad48ecab90>\n",
      "Traceback (most recent call last):\n",
      "  File \"/home/pmedur/strojnoUcenje/env/lib/python3.10/site-packages/tensorflow/lite/python/interpreter.py\", line 117, in __del__\n",
      "    if self._library is not None:\n",
      "AttributeError: 'Delegate' object has no attribute '_library'\n",
      "Exception ignored in: <function Delegate.__del__ at 0x70ad48ecab90>\n",
      "Traceback (most recent call last):\n",
      "  File \"/home/pmedur/strojnoUcenje/env/lib/python3.10/site-packages/tensorflow/lite/python/interpreter.py\", line 117, in __del__\n",
      "    if self._library is not None:\n",
      "AttributeError: 'Delegate' object has no attribute '_library'\n"
     ]
    },
    {
     "name": "stdout",
     "output_type": "stream",
     "text": [
      "Resource monitoring stopped\n",
      "[CPU (GPU failed)] Acc: 79.35%, Energy: 0.012398Wh, Size: 320.6KB\n",
      "  Fold 6...     GPU delegate failed: gpu: cannot open shared object file: No such file or directory\n",
      "    Falling back to CPU\n",
      "GPU monitoring initialized: 1 device(s) found\n",
      "CPU energy monitoring (RAPL) initialized: 1 domain(s) found\n",
      "  - package-0 (intel-rapl:0)\n",
      "Resource monitoring started\n"
     ]
    },
    {
     "name": "stderr",
     "output_type": "stream",
     "text": [
      "Exception ignored in: <function Delegate.__del__ at 0x70ad48ecab90>\n",
      "Traceback (most recent call last):\n",
      "  File \"/home/pmedur/strojnoUcenje/env/lib/python3.10/site-packages/tensorflow/lite/python/interpreter.py\", line 117, in __del__\n",
      "    if self._library is not None:\n",
      "AttributeError: 'Delegate' object has no attribute '_library'\n",
      "Exception ignored in: <function Delegate.__del__ at 0x70ad48ecab90>\n",
      "Traceback (most recent call last):\n",
      "  File \"/home/pmedur/strojnoUcenje/env/lib/python3.10/site-packages/tensorflow/lite/python/interpreter.py\", line 117, in __del__\n",
      "    if self._library is not None:\n",
      "AttributeError: 'Delegate' object has no attribute '_library'\n"
     ]
    },
    {
     "name": "stdout",
     "output_type": "stream",
     "text": [
      "Resource monitoring stopped\n",
      "[CPU (GPU failed)] Acc: 79.41%, Energy: 0.013803Wh, Size: 320.6KB\n",
      "  Fold 7...     GPU delegate failed: gpu: cannot open shared object file: No such file or directory\n",
      "    Falling back to CPU\n",
      "GPU monitoring initialized: 1 device(s) found\n",
      "CPU energy monitoring (RAPL) initialized: 1 domain(s) found\n",
      "  - package-0 (intel-rapl:0)\n",
      "Resource monitoring started\n"
     ]
    },
    {
     "name": "stderr",
     "output_type": "stream",
     "text": [
      "Exception ignored in: <function Delegate.__del__ at 0x70ad48ecab90>\n",
      "Traceback (most recent call last):\n",
      "  File \"/home/pmedur/strojnoUcenje/env/lib/python3.10/site-packages/tensorflow/lite/python/interpreter.py\", line 117, in __del__\n",
      "    if self._library is not None:\n",
      "AttributeError: 'Delegate' object has no attribute '_library'\n",
      "Exception ignored in: <function Delegate.__del__ at 0x70ad48ecab90>\n",
      "Traceback (most recent call last):\n",
      "  File \"/home/pmedur/strojnoUcenje/env/lib/python3.10/site-packages/tensorflow/lite/python/interpreter.py\", line 117, in __del__\n",
      "    if self._library is not None:\n",
      "AttributeError: 'Delegate' object has no attribute '_library'\n"
     ]
    },
    {
     "name": "stdout",
     "output_type": "stream",
     "text": [
      "Resource monitoring stopped\n",
      "[CPU (GPU failed)] Acc: 79.74%, Energy: 0.013071Wh, Size: 320.6KB\n",
      "  Fold 8...     GPU delegate failed: gpu: cannot open shared object file: No such file or directory\n",
      "    Falling back to CPU\n",
      "GPU monitoring initialized: 1 device(s) found\n",
      "CPU energy monitoring (RAPL) initialized: 1 domain(s) found\n",
      "  - package-0 (intel-rapl:0)\n",
      "Resource monitoring started\n"
     ]
    },
    {
     "name": "stderr",
     "output_type": "stream",
     "text": [
      "Exception ignored in: <function Delegate.__del__ at 0x70ad48ecab90>\n",
      "Traceback (most recent call last):\n",
      "  File \"/home/pmedur/strojnoUcenje/env/lib/python3.10/site-packages/tensorflow/lite/python/interpreter.py\", line 117, in __del__\n",
      "    if self._library is not None:\n",
      "AttributeError: 'Delegate' object has no attribute '_library'\n",
      "Exception ignored in: <function Delegate.__del__ at 0x70ad48ecab90>\n",
      "Traceback (most recent call last):\n",
      "  File \"/home/pmedur/strojnoUcenje/env/lib/python3.10/site-packages/tensorflow/lite/python/interpreter.py\", line 117, in __del__\n",
      "    if self._library is not None:\n",
      "AttributeError: 'Delegate' object has no attribute '_library'\n"
     ]
    },
    {
     "name": "stdout",
     "output_type": "stream",
     "text": [
      "Resource monitoring stopped\n",
      "[CPU (GPU failed)] Acc: 77.35%, Energy: 0.011885Wh, Size: 320.6KB\n",
      "  Fold 9...     GPU delegate failed: gpu: cannot open shared object file: No such file or directory\n",
      "    Falling back to CPU\n",
      "GPU monitoring initialized: 1 device(s) found\n",
      "CPU energy monitoring (RAPL) initialized: 1 domain(s) found\n",
      "  - package-0 (intel-rapl:0)\n",
      "Resource monitoring started\n"
     ]
    },
    {
     "name": "stderr",
     "output_type": "stream",
     "text": [
      "Exception ignored in: <function Delegate.__del__ at 0x70ad48ecab90>\n",
      "Traceback (most recent call last):\n",
      "  File \"/home/pmedur/strojnoUcenje/env/lib/python3.10/site-packages/tensorflow/lite/python/interpreter.py\", line 117, in __del__\n",
      "    if self._library is not None:\n",
      "AttributeError: 'Delegate' object has no attribute '_library'\n",
      "Exception ignored in: <function Delegate.__del__ at 0x70ad48ecab90>\n",
      "Traceback (most recent call last):\n",
      "  File \"/home/pmedur/strojnoUcenje/env/lib/python3.10/site-packages/tensorflow/lite/python/interpreter.py\", line 117, in __del__\n",
      "    if self._library is not None:\n",
      "AttributeError: 'Delegate' object has no attribute '_library'\n"
     ]
    },
    {
     "name": "stdout",
     "output_type": "stream",
     "text": [
      "Resource monitoring stopped\n",
      "[CPU (GPU failed)] Acc: 79.32%, Energy: 0.011990Wh, Size: 320.6KB\n",
      "  Fold 10...     GPU delegate failed: gpu: cannot open shared object file: No such file or directory\n",
      "    Falling back to CPU\n",
      "GPU monitoring initialized: 1 device(s) found\n",
      "CPU energy monitoring (RAPL) initialized: 1 domain(s) found\n",
      "  - package-0 (intel-rapl:0)\n",
      "Resource monitoring started\n"
     ]
    },
    {
     "name": "stderr",
     "output_type": "stream",
     "text": [
      "Exception ignored in: <function Delegate.__del__ at 0x70ad48ecab90>\n",
      "Traceback (most recent call last):\n",
      "  File \"/home/pmedur/strojnoUcenje/env/lib/python3.10/site-packages/tensorflow/lite/python/interpreter.py\", line 117, in __del__\n",
      "    if self._library is not None:\n",
      "AttributeError: 'Delegate' object has no attribute '_library'\n",
      "Exception ignored in: <function Delegate.__del__ at 0x70ad48ecab90>\n",
      "Traceback (most recent call last):\n",
      "  File \"/home/pmedur/strojnoUcenje/env/lib/python3.10/site-packages/tensorflow/lite/python/interpreter.py\", line 117, in __del__\n",
      "    if self._library is not None:\n",
      "AttributeError: 'Delegate' object has no attribute '_library'\n"
     ]
    },
    {
     "name": "stdout",
     "output_type": "stream",
     "text": [
      "Resource monitoring stopped\n",
      "[CPU (GPU failed)] Acc: 79.50%, Energy: 0.012397Wh, Size: 320.6KB\n",
      "\n",
      "model_6:\n",
      "  Fold 1...     GPU delegate failed: gpu: cannot open shared object file: No such file or directory\n",
      "    Falling back to CPU\n",
      "GPU monitoring initialized: 1 device(s) found\n",
      "CPU energy monitoring (RAPL) initialized: 1 domain(s) found\n",
      "  - package-0 (intel-rapl:0)\n",
      "Resource monitoring started\n"
     ]
    },
    {
     "name": "stderr",
     "output_type": "stream",
     "text": [
      "Exception ignored in: <function Delegate.__del__ at 0x70ad48ecab90>\n",
      "Traceback (most recent call last):\n",
      "  File \"/home/pmedur/strojnoUcenje/env/lib/python3.10/site-packages/tensorflow/lite/python/interpreter.py\", line 117, in __del__\n",
      "    if self._library is not None:\n",
      "AttributeError: 'Delegate' object has no attribute '_library'\n",
      "Exception ignored in: <function Delegate.__del__ at 0x70ad48ecab90>\n",
      "Traceback (most recent call last):\n",
      "  File \"/home/pmedur/strojnoUcenje/env/lib/python3.10/site-packages/tensorflow/lite/python/interpreter.py\", line 117, in __del__\n",
      "    if self._library is not None:\n",
      "AttributeError: 'Delegate' object has no attribute '_library'\n"
     ]
    },
    {
     "name": "stdout",
     "output_type": "stream",
     "text": [
      "Resource monitoring stopped\n",
      "[CPU (GPU failed)] Acc: 81.32%, Energy: 0.014088Wh, Size: 617.8KB\n",
      "  Fold 2...     GPU delegate failed: gpu: cannot open shared object file: No such file or directory\n",
      "    Falling back to CPU\n",
      "GPU monitoring initialized: 1 device(s) found\n",
      "CPU energy monitoring (RAPL) initialized: 1 domain(s) found\n",
      "  - package-0 (intel-rapl:0)\n",
      "Resource monitoring started\n"
     ]
    },
    {
     "name": "stderr",
     "output_type": "stream",
     "text": [
      "Exception ignored in: <function Delegate.__del__ at 0x70ad48ecab90>\n",
      "Traceback (most recent call last):\n",
      "  File \"/home/pmedur/strojnoUcenje/env/lib/python3.10/site-packages/tensorflow/lite/python/interpreter.py\", line 117, in __del__\n",
      "    if self._library is not None:\n",
      "AttributeError: 'Delegate' object has no attribute '_library'\n",
      "Exception ignored in: <function Delegate.__del__ at 0x70ad48ecab90>\n",
      "Traceback (most recent call last):\n",
      "  File \"/home/pmedur/strojnoUcenje/env/lib/python3.10/site-packages/tensorflow/lite/python/interpreter.py\", line 117, in __del__\n",
      "    if self._library is not None:\n",
      "AttributeError: 'Delegate' object has no attribute '_library'\n"
     ]
    },
    {
     "name": "stdout",
     "output_type": "stream",
     "text": [
      "Resource monitoring stopped\n",
      "[CPU (GPU failed)] Acc: 81.98%, Energy: 0.014765Wh, Size: 617.8KB\n",
      "  Fold 3...     GPU delegate failed: gpu: cannot open shared object file: No such file or directory\n",
      "    Falling back to CPU\n",
      "GPU monitoring initialized: 1 device(s) found\n",
      "CPU energy monitoring (RAPL) initialized: 1 domain(s) found\n",
      "  - package-0 (intel-rapl:0)\n",
      "Resource monitoring started\n"
     ]
    },
    {
     "name": "stderr",
     "output_type": "stream",
     "text": [
      "Exception ignored in: <function Delegate.__del__ at 0x70ad48ecab90>\n",
      "Traceback (most recent call last):\n",
      "  File \"/home/pmedur/strojnoUcenje/env/lib/python3.10/site-packages/tensorflow/lite/python/interpreter.py\", line 117, in __del__\n",
      "    if self._library is not None:\n",
      "AttributeError: 'Delegate' object has no attribute '_library'\n",
      "Exception ignored in: <function Delegate.__del__ at 0x70ad48ecab90>\n",
      "Traceback (most recent call last):\n",
      "  File \"/home/pmedur/strojnoUcenje/env/lib/python3.10/site-packages/tensorflow/lite/python/interpreter.py\", line 117, in __del__\n",
      "    if self._library is not None:\n",
      "AttributeError: 'Delegate' object has no attribute '_library'\n"
     ]
    },
    {
     "name": "stdout",
     "output_type": "stream",
     "text": [
      "Resource monitoring stopped\n",
      "[CPU (GPU failed)] Acc: 82.00%, Energy: 0.013265Wh, Size: 617.8KB\n",
      "  Fold 4...     GPU delegate failed: gpu: cannot open shared object file: No such file or directory\n",
      "    Falling back to CPU\n",
      "GPU monitoring initialized: 1 device(s) found\n",
      "CPU energy monitoring (RAPL) initialized: 1 domain(s) found\n",
      "  - package-0 (intel-rapl:0)\n",
      "Resource monitoring started\n"
     ]
    },
    {
     "name": "stderr",
     "output_type": "stream",
     "text": [
      "Exception ignored in: <function Delegate.__del__ at 0x70ad48ecab90>\n",
      "Traceback (most recent call last):\n",
      "  File \"/home/pmedur/strojnoUcenje/env/lib/python3.10/site-packages/tensorflow/lite/python/interpreter.py\", line 117, in __del__\n",
      "    if self._library is not None:\n",
      "AttributeError: 'Delegate' object has no attribute '_library'\n",
      "Exception ignored in: <function Delegate.__del__ at 0x70ad48ecab90>\n",
      "Traceback (most recent call last):\n",
      "  File \"/home/pmedur/strojnoUcenje/env/lib/python3.10/site-packages/tensorflow/lite/python/interpreter.py\", line 117, in __del__\n",
      "    if self._library is not None:\n",
      "AttributeError: 'Delegate' object has no attribute '_library'\n"
     ]
    },
    {
     "name": "stdout",
     "output_type": "stream",
     "text": [
      "Resource monitoring stopped\n",
      "[CPU (GPU failed)] Acc: 81.35%, Energy: 0.017323Wh, Size: 617.8KB\n",
      "  Fold 5...     GPU delegate failed: gpu: cannot open shared object file: No such file or directory\n",
      "    Falling back to CPU\n",
      "GPU monitoring initialized: 1 device(s) found\n",
      "CPU energy monitoring (RAPL) initialized: 1 domain(s) found\n",
      "  - package-0 (intel-rapl:0)\n",
      "Resource monitoring started\n"
     ]
    },
    {
     "name": "stderr",
     "output_type": "stream",
     "text": [
      "Exception ignored in: <function Delegate.__del__ at 0x70ad48ecab90>\n",
      "Traceback (most recent call last):\n",
      "  File \"/home/pmedur/strojnoUcenje/env/lib/python3.10/site-packages/tensorflow/lite/python/interpreter.py\", line 117, in __del__\n",
      "    if self._library is not None:\n",
      "AttributeError: 'Delegate' object has no attribute '_library'\n",
      "Exception ignored in: <function Delegate.__del__ at 0x70ad48ecab90>\n",
      "Traceback (most recent call last):\n",
      "  File \"/home/pmedur/strojnoUcenje/env/lib/python3.10/site-packages/tensorflow/lite/python/interpreter.py\", line 117, in __del__\n",
      "    if self._library is not None:\n",
      "AttributeError: 'Delegate' object has no attribute '_library'\n"
     ]
    },
    {
     "name": "stdout",
     "output_type": "stream",
     "text": [
      "Resource monitoring stopped\n",
      "[CPU (GPU failed)] Acc: 82.80%, Energy: 0.015638Wh, Size: 617.8KB\n",
      "  Fold 6...     GPU delegate failed: gpu: cannot open shared object file: No such file or directory\n",
      "    Falling back to CPU\n",
      "GPU monitoring initialized: 1 device(s) found\n",
      "CPU energy monitoring (RAPL) initialized: 1 domain(s) found\n",
      "  - package-0 (intel-rapl:0)\n",
      "Resource monitoring started\n"
     ]
    },
    {
     "name": "stderr",
     "output_type": "stream",
     "text": [
      "Exception ignored in: <function Delegate.__del__ at 0x70ad48ecab90>\n",
      "Traceback (most recent call last):\n",
      "  File \"/home/pmedur/strojnoUcenje/env/lib/python3.10/site-packages/tensorflow/lite/python/interpreter.py\", line 117, in __del__\n",
      "    if self._library is not None:\n",
      "AttributeError: 'Delegate' object has no attribute '_library'\n",
      "Exception ignored in: <function Delegate.__del__ at 0x70ad48ecab90>\n",
      "Traceback (most recent call last):\n",
      "  File \"/home/pmedur/strojnoUcenje/env/lib/python3.10/site-packages/tensorflow/lite/python/interpreter.py\", line 117, in __del__\n",
      "    if self._library is not None:\n",
      "AttributeError: 'Delegate' object has no attribute '_library'\n"
     ]
    },
    {
     "name": "stdout",
     "output_type": "stream",
     "text": [
      "Resource monitoring stopped\n",
      "[CPU (GPU failed)] Acc: 81.79%, Energy: 0.013643Wh, Size: 617.8KB\n",
      "  Fold 7...     GPU delegate failed: gpu: cannot open shared object file: No such file or directory\n",
      "    Falling back to CPU\n",
      "GPU monitoring initialized: 1 device(s) found\n",
      "CPU energy monitoring (RAPL) initialized: 1 domain(s) found\n",
      "  - package-0 (intel-rapl:0)\n",
      "Resource monitoring started\n"
     ]
    },
    {
     "name": "stderr",
     "output_type": "stream",
     "text": [
      "Exception ignored in: <function Delegate.__del__ at 0x70ad48ecab90>\n",
      "Traceback (most recent call last):\n",
      "  File \"/home/pmedur/strojnoUcenje/env/lib/python3.10/site-packages/tensorflow/lite/python/interpreter.py\", line 117, in __del__\n",
      "    if self._library is not None:\n",
      "AttributeError: 'Delegate' object has no attribute '_library'\n",
      "Exception ignored in: <function Delegate.__del__ at 0x70ad48ecab90>\n",
      "Traceback (most recent call last):\n",
      "  File \"/home/pmedur/strojnoUcenje/env/lib/python3.10/site-packages/tensorflow/lite/python/interpreter.py\", line 117, in __del__\n",
      "    if self._library is not None:\n",
      "AttributeError: 'Delegate' object has no attribute '_library'\n"
     ]
    },
    {
     "name": "stdout",
     "output_type": "stream",
     "text": [
      "Resource monitoring stopped\n",
      "[CPU (GPU failed)] Acc: 81.78%, Energy: 0.013126Wh, Size: 617.8KB\n",
      "  Fold 8...     GPU delegate failed: gpu: cannot open shared object file: No such file or directory\n",
      "    Falling back to CPU\n",
      "GPU monitoring initialized: 1 device(s) found\n",
      "CPU energy monitoring (RAPL) initialized: 1 domain(s) found\n",
      "  - package-0 (intel-rapl:0)\n",
      "Resource monitoring started\n"
     ]
    },
    {
     "name": "stderr",
     "output_type": "stream",
     "text": [
      "Exception ignored in: <function Delegate.__del__ at 0x70ad48ecab90>\n",
      "Traceback (most recent call last):\n",
      "  File \"/home/pmedur/strojnoUcenje/env/lib/python3.10/site-packages/tensorflow/lite/python/interpreter.py\", line 117, in __del__\n",
      "    if self._library is not None:\n",
      "AttributeError: 'Delegate' object has no attribute '_library'\n",
      "Exception ignored in: <function Delegate.__del__ at 0x70ad48ecab90>\n",
      "Traceback (most recent call last):\n",
      "  File \"/home/pmedur/strojnoUcenje/env/lib/python3.10/site-packages/tensorflow/lite/python/interpreter.py\", line 117, in __del__\n",
      "    if self._library is not None:\n",
      "AttributeError: 'Delegate' object has no attribute '_library'\n"
     ]
    },
    {
     "name": "stdout",
     "output_type": "stream",
     "text": [
      "Resource monitoring stopped\n",
      "[CPU (GPU failed)] Acc: 80.68%, Energy: 0.011213Wh, Size: 617.8KB\n",
      "  Fold 9...     GPU delegate failed: gpu: cannot open shared object file: No such file or directory\n",
      "    Falling back to CPU\n",
      "GPU monitoring initialized: 1 device(s) found\n",
      "CPU energy monitoring (RAPL) initialized: 1 domain(s) found\n",
      "  - package-0 (intel-rapl:0)\n",
      "Resource monitoring started\n"
     ]
    },
    {
     "name": "stderr",
     "output_type": "stream",
     "text": [
      "Exception ignored in: <function Delegate.__del__ at 0x70ad48ecab90>\n",
      "Traceback (most recent call last):\n",
      "  File \"/home/pmedur/strojnoUcenje/env/lib/python3.10/site-packages/tensorflow/lite/python/interpreter.py\", line 117, in __del__\n",
      "    if self._library is not None:\n",
      "AttributeError: 'Delegate' object has no attribute '_library'\n",
      "Exception ignored in: <function Delegate.__del__ at 0x70ad48ecab90>\n",
      "Traceback (most recent call last):\n",
      "  File \"/home/pmedur/strojnoUcenje/env/lib/python3.10/site-packages/tensorflow/lite/python/interpreter.py\", line 117, in __del__\n",
      "    if self._library is not None:\n",
      "AttributeError: 'Delegate' object has no attribute '_library'\n"
     ]
    },
    {
     "name": "stdout",
     "output_type": "stream",
     "text": [
      "Resource monitoring stopped\n",
      "[CPU (GPU failed)] Acc: 82.04%, Energy: 0.011970Wh, Size: 617.8KB\n",
      "  Fold 10...     GPU delegate failed: gpu: cannot open shared object file: No such file or directory\n",
      "    Falling back to CPU\n",
      "GPU monitoring initialized: 1 device(s) found\n",
      "CPU energy monitoring (RAPL) initialized: 1 domain(s) found\n",
      "  - package-0 (intel-rapl:0)\n",
      "Resource monitoring started\n"
     ]
    },
    {
     "name": "stderr",
     "output_type": "stream",
     "text": [
      "Exception ignored in: <function Delegate.__del__ at 0x70ad48ecab90>\n",
      "Traceback (most recent call last):\n",
      "  File \"/home/pmedur/strojnoUcenje/env/lib/python3.10/site-packages/tensorflow/lite/python/interpreter.py\", line 117, in __del__\n",
      "    if self._library is not None:\n",
      "AttributeError: 'Delegate' object has no attribute '_library'\n",
      "Exception ignored in: <function Delegate.__del__ at 0x70ad48ecab90>\n",
      "Traceback (most recent call last):\n",
      "  File \"/home/pmedur/strojnoUcenje/env/lib/python3.10/site-packages/tensorflow/lite/python/interpreter.py\", line 117, in __del__\n",
      "    if self._library is not None:\n",
      "AttributeError: 'Delegate' object has no attribute '_library'\n"
     ]
    },
    {
     "name": "stdout",
     "output_type": "stream",
     "text": [
      "Resource monitoring stopped\n",
      "[CPU (GPU failed)] Acc: 82.07%, Energy: 0.014385Wh, Size: 617.8KB\n",
      "\n",
      "model_7:\n",
      "  Fold 1...     GPU delegate failed: gpu: cannot open shared object file: No such file or directory\n",
      "    Falling back to CPU\n",
      "GPU monitoring initialized: 1 device(s) found\n",
      "CPU energy monitoring (RAPL) initialized: 1 domain(s) found\n",
      "  - package-0 (intel-rapl:0)\n",
      "Resource monitoring started\n"
     ]
    },
    {
     "name": "stderr",
     "output_type": "stream",
     "text": [
      "Exception ignored in: <function Delegate.__del__ at 0x70ad48ecab90>\n",
      "Traceback (most recent call last):\n",
      "  File \"/home/pmedur/strojnoUcenje/env/lib/python3.10/site-packages/tensorflow/lite/python/interpreter.py\", line 117, in __del__\n",
      "    if self._library is not None:\n",
      "AttributeError: 'Delegate' object has no attribute '_library'\n",
      "Exception ignored in: <function Delegate.__del__ at 0x70ad48ecab90>\n",
      "Traceback (most recent call last):\n",
      "  File \"/home/pmedur/strojnoUcenje/env/lib/python3.10/site-packages/tensorflow/lite/python/interpreter.py\", line 117, in __del__\n",
      "    if self._library is not None:\n",
      "AttributeError: 'Delegate' object has no attribute '_library'\n"
     ]
    },
    {
     "name": "stdout",
     "output_type": "stream",
     "text": [
      "Resource monitoring stopped\n",
      "[CPU (GPU failed)] Acc: 90.29%, Energy: 0.034963Wh, Size: 2689.6KB\n",
      "  Fold 2...     GPU delegate failed: gpu: cannot open shared object file: No such file or directory\n",
      "    Falling back to CPU\n",
      "GPU monitoring initialized: 1 device(s) found\n",
      "CPU energy monitoring (RAPL) initialized: 1 domain(s) found\n",
      "  - package-0 (intel-rapl:0)\n",
      "Resource monitoring started\n"
     ]
    },
    {
     "name": "stderr",
     "output_type": "stream",
     "text": [
      "Exception ignored in: <function Delegate.__del__ at 0x70ad48ecab90>\n",
      "Traceback (most recent call last):\n",
      "  File \"/home/pmedur/strojnoUcenje/env/lib/python3.10/site-packages/tensorflow/lite/python/interpreter.py\", line 117, in __del__\n",
      "    if self._library is not None:\n",
      "AttributeError: 'Delegate' object has no attribute '_library'\n",
      "Exception ignored in: <function Delegate.__del__ at 0x70ad48ecab90>\n",
      "Traceback (most recent call last):\n",
      "  File \"/home/pmedur/strojnoUcenje/env/lib/python3.10/site-packages/tensorflow/lite/python/interpreter.py\", line 117, in __del__\n",
      "    if self._library is not None:\n",
      "AttributeError: 'Delegate' object has no attribute '_library'\n"
     ]
    },
    {
     "name": "stdout",
     "output_type": "stream",
     "text": [
      "Resource monitoring stopped\n",
      "[CPU (GPU failed)] Acc: 89.90%, Energy: 0.034962Wh, Size: 2689.6KB\n",
      "  Fold 3...     GPU delegate failed: gpu: cannot open shared object file: No such file or directory\n",
      "    Falling back to CPU\n",
      "GPU monitoring initialized: 1 device(s) found\n",
      "CPU energy monitoring (RAPL) initialized: 1 domain(s) found\n",
      "  - package-0 (intel-rapl:0)\n",
      "Resource monitoring started\n"
     ]
    },
    {
     "name": "stderr",
     "output_type": "stream",
     "text": [
      "Exception ignored in: <function Delegate.__del__ at 0x70ad48ecab90>\n",
      "Traceback (most recent call last):\n",
      "  File \"/home/pmedur/strojnoUcenje/env/lib/python3.10/site-packages/tensorflow/lite/python/interpreter.py\", line 117, in __del__\n",
      "    if self._library is not None:\n",
      "AttributeError: 'Delegate' object has no attribute '_library'\n",
      "Exception ignored in: <function Delegate.__del__ at 0x70ad48ecab90>\n",
      "Traceback (most recent call last):\n",
      "  File \"/home/pmedur/strojnoUcenje/env/lib/python3.10/site-packages/tensorflow/lite/python/interpreter.py\", line 117, in __del__\n",
      "    if self._library is not None:\n",
      "AttributeError: 'Delegate' object has no attribute '_library'\n"
     ]
    },
    {
     "name": "stdout",
     "output_type": "stream",
     "text": [
      "Resource monitoring stopped\n",
      "[CPU (GPU failed)] Acc: 90.38%, Energy: 0.033377Wh, Size: 2689.6KB\n",
      "  Fold 4...     GPU delegate failed: gpu: cannot open shared object file: No such file or directory\n",
      "    Falling back to CPU\n",
      "GPU monitoring initialized: 1 device(s) found\n",
      "CPU energy monitoring (RAPL) initialized: 1 domain(s) found\n",
      "  - package-0 (intel-rapl:0)\n",
      "Resource monitoring started\n"
     ]
    },
    {
     "name": "stderr",
     "output_type": "stream",
     "text": [
      "Exception ignored in: <function Delegate.__del__ at 0x70ad48ecab90>\n",
      "Traceback (most recent call last):\n",
      "  File \"/home/pmedur/strojnoUcenje/env/lib/python3.10/site-packages/tensorflow/lite/python/interpreter.py\", line 117, in __del__\n",
      "    if self._library is not None:\n",
      "AttributeError: 'Delegate' object has no attribute '_library'\n",
      "Exception ignored in: <function Delegate.__del__ at 0x70ad48ecab90>\n",
      "Traceback (most recent call last):\n",
      "  File \"/home/pmedur/strojnoUcenje/env/lib/python3.10/site-packages/tensorflow/lite/python/interpreter.py\", line 117, in __del__\n",
      "    if self._library is not None:\n",
      "AttributeError: 'Delegate' object has no attribute '_library'\n"
     ]
    },
    {
     "name": "stdout",
     "output_type": "stream",
     "text": [
      "Resource monitoring stopped\n",
      "[CPU (GPU failed)] Acc: 89.77%, Energy: 0.036482Wh, Size: 2689.6KB\n",
      "  Fold 5...     GPU delegate failed: gpu: cannot open shared object file: No such file or directory\n",
      "    Falling back to CPU\n",
      "GPU monitoring initialized: 1 device(s) found\n",
      "CPU energy monitoring (RAPL) initialized: 1 domain(s) found\n",
      "  - package-0 (intel-rapl:0)\n",
      "Resource monitoring started\n"
     ]
    },
    {
     "name": "stderr",
     "output_type": "stream",
     "text": [
      "Exception ignored in: <function Delegate.__del__ at 0x70ad48ecab90>\n",
      "Traceback (most recent call last):\n",
      "  File \"/home/pmedur/strojnoUcenje/env/lib/python3.10/site-packages/tensorflow/lite/python/interpreter.py\", line 117, in __del__\n",
      "    if self._library is not None:\n",
      "AttributeError: 'Delegate' object has no attribute '_library'\n",
      "Exception ignored in: <function Delegate.__del__ at 0x70ad48ecab90>\n",
      "Traceback (most recent call last):\n",
      "  File \"/home/pmedur/strojnoUcenje/env/lib/python3.10/site-packages/tensorflow/lite/python/interpreter.py\", line 117, in __del__\n",
      "    if self._library is not None:\n",
      "AttributeError: 'Delegate' object has no attribute '_library'\n"
     ]
    },
    {
     "name": "stdout",
     "output_type": "stream",
     "text": [
      "Resource monitoring stopped\n",
      "[CPU (GPU failed)] Acc: 90.07%, Energy: 0.040665Wh, Size: 2689.6KB\n",
      "  Fold 6...     GPU delegate failed: gpu: cannot open shared object file: No such file or directory\n",
      "    Falling back to CPU\n",
      "GPU monitoring initialized: 1 device(s) found\n",
      "CPU energy monitoring (RAPL) initialized: 1 domain(s) found\n",
      "  - package-0 (intel-rapl:0)\n",
      "Resource monitoring started\n"
     ]
    },
    {
     "name": "stderr",
     "output_type": "stream",
     "text": [
      "Exception ignored in: <function Delegate.__del__ at 0x70ad48ecab90>\n",
      "Traceback (most recent call last):\n",
      "  File \"/home/pmedur/strojnoUcenje/env/lib/python3.10/site-packages/tensorflow/lite/python/interpreter.py\", line 117, in __del__\n",
      "    if self._library is not None:\n",
      "AttributeError: 'Delegate' object has no attribute '_library'\n",
      "Exception ignored in: <function Delegate.__del__ at 0x70ad48ecab90>\n",
      "Traceback (most recent call last):\n",
      "  File \"/home/pmedur/strojnoUcenje/env/lib/python3.10/site-packages/tensorflow/lite/python/interpreter.py\", line 117, in __del__\n",
      "    if self._library is not None:\n",
      "AttributeError: 'Delegate' object has no attribute '_library'\n"
     ]
    },
    {
     "name": "stdout",
     "output_type": "stream",
     "text": [
      "Resource monitoring stopped\n",
      "[CPU (GPU failed)] Acc: 90.39%, Energy: 0.041074Wh, Size: 2689.6KB\n",
      "  Fold 7...     GPU delegate failed: gpu: cannot open shared object file: No such file or directory\n",
      "    Falling back to CPU\n",
      "GPU monitoring initialized: 1 device(s) found\n",
      "CPU energy monitoring (RAPL) initialized: 1 domain(s) found\n",
      "  - package-0 (intel-rapl:0)\n",
      "Resource monitoring started\n"
     ]
    },
    {
     "name": "stderr",
     "output_type": "stream",
     "text": [
      "Exception ignored in: <function Delegate.__del__ at 0x70ad48ecab90>\n",
      "Traceback (most recent call last):\n",
      "  File \"/home/pmedur/strojnoUcenje/env/lib/python3.10/site-packages/tensorflow/lite/python/interpreter.py\", line 117, in __del__\n",
      "    if self._library is not None:\n",
      "AttributeError: 'Delegate' object has no attribute '_library'\n",
      "Exception ignored in: <function Delegate.__del__ at 0x70ad48ecab90>\n",
      "Traceback (most recent call last):\n",
      "  File \"/home/pmedur/strojnoUcenje/env/lib/python3.10/site-packages/tensorflow/lite/python/interpreter.py\", line 117, in __del__\n",
      "    if self._library is not None:\n",
      "AttributeError: 'Delegate' object has no attribute '_library'\n"
     ]
    },
    {
     "name": "stdout",
     "output_type": "stream",
     "text": [
      "Resource monitoring stopped\n",
      "[CPU (GPU failed)] Acc: 89.96%, Energy: 0.039562Wh, Size: 2689.6KB\n",
      "  Fold 8...     GPU delegate failed: gpu: cannot open shared object file: No such file or directory\n",
      "    Falling back to CPU\n",
      "GPU monitoring initialized: 1 device(s) found\n",
      "CPU energy monitoring (RAPL) initialized: 1 domain(s) found\n",
      "  - package-0 (intel-rapl:0)\n",
      "Resource monitoring started\n"
     ]
    },
    {
     "name": "stderr",
     "output_type": "stream",
     "text": [
      "Exception ignored in: <function Delegate.__del__ at 0x70ad48ecab90>\n",
      "Traceback (most recent call last):\n",
      "  File \"/home/pmedur/strojnoUcenje/env/lib/python3.10/site-packages/tensorflow/lite/python/interpreter.py\", line 117, in __del__\n",
      "    if self._library is not None:\n",
      "AttributeError: 'Delegate' object has no attribute '_library'\n",
      "Exception ignored in: <function Delegate.__del__ at 0x70ad48ecab90>\n",
      "Traceback (most recent call last):\n",
      "  File \"/home/pmedur/strojnoUcenje/env/lib/python3.10/site-packages/tensorflow/lite/python/interpreter.py\", line 117, in __del__\n",
      "    if self._library is not None:\n",
      "AttributeError: 'Delegate' object has no attribute '_library'\n"
     ]
    },
    {
     "name": "stdout",
     "output_type": "stream",
     "text": [
      "Resource monitoring stopped\n",
      "[CPU (GPU failed)] Acc: 89.49%, Energy: 0.040853Wh, Size: 2689.6KB\n",
      "  Fold 9...     GPU delegate failed: gpu: cannot open shared object file: No such file or directory\n",
      "    Falling back to CPU\n",
      "GPU monitoring initialized: 1 device(s) found\n",
      "CPU energy monitoring (RAPL) initialized: 1 domain(s) found\n",
      "  - package-0 (intel-rapl:0)\n",
      "Resource monitoring started\n"
     ]
    },
    {
     "name": "stderr",
     "output_type": "stream",
     "text": [
      "Exception ignored in: <function Delegate.__del__ at 0x70ad48ecab90>\n",
      "Traceback (most recent call last):\n",
      "  File \"/home/pmedur/strojnoUcenje/env/lib/python3.10/site-packages/tensorflow/lite/python/interpreter.py\", line 117, in __del__\n",
      "    if self._library is not None:\n",
      "AttributeError: 'Delegate' object has no attribute '_library'\n",
      "Exception ignored in: <function Delegate.__del__ at 0x70ad48ecab90>\n",
      "Traceback (most recent call last):\n",
      "  File \"/home/pmedur/strojnoUcenje/env/lib/python3.10/site-packages/tensorflow/lite/python/interpreter.py\", line 117, in __del__\n",
      "    if self._library is not None:\n",
      "AttributeError: 'Delegate' object has no attribute '_library'\n"
     ]
    },
    {
     "name": "stdout",
     "output_type": "stream",
     "text": [
      "Resource monitoring stopped\n",
      "[CPU (GPU failed)] Acc: 90.37%, Energy: 0.040853Wh, Size: 2689.6KB\n",
      "  Fold 10...     GPU delegate failed: gpu: cannot open shared object file: No such file or directory\n",
      "    Falling back to CPU\n",
      "GPU monitoring initialized: 1 device(s) found\n",
      "CPU energy monitoring (RAPL) initialized: 1 domain(s) found\n",
      "  - package-0 (intel-rapl:0)\n",
      "Resource monitoring started\n"
     ]
    },
    {
     "name": "stderr",
     "output_type": "stream",
     "text": [
      "Exception ignored in: <function Delegate.__del__ at 0x70ad48ecab90>\n",
      "Traceback (most recent call last):\n",
      "  File \"/home/pmedur/strojnoUcenje/env/lib/python3.10/site-packages/tensorflow/lite/python/interpreter.py\", line 117, in __del__\n",
      "    if self._library is not None:\n",
      "AttributeError: 'Delegate' object has no attribute '_library'\n",
      "Exception ignored in: <function Delegate.__del__ at 0x70ad48ecab90>\n",
      "Traceback (most recent call last):\n",
      "  File \"/home/pmedur/strojnoUcenje/env/lib/python3.10/site-packages/tensorflow/lite/python/interpreter.py\", line 117, in __del__\n",
      "    if self._library is not None:\n",
      "AttributeError: 'Delegate' object has no attribute '_library'\n"
     ]
    },
    {
     "name": "stdout",
     "output_type": "stream",
     "text": [
      "Resource monitoring stopped\n",
      "[CPU (GPU failed)] Acc: 89.65%, Energy: 0.043003Wh, Size: 2689.6KB\n",
      "\n",
      "model_8:\n",
      "  Fold 1...     GPU delegate failed: gpu: cannot open shared object file: No such file or directory\n",
      "    Falling back to CPU\n",
      "GPU monitoring initialized: 1 device(s) found\n",
      "CPU energy monitoring (RAPL) initialized: 1 domain(s) found\n",
      "  - package-0 (intel-rapl:0)\n",
      "Resource monitoring started\n"
     ]
    },
    {
     "name": "stderr",
     "output_type": "stream",
     "text": [
      "Exception ignored in: <function Delegate.__del__ at 0x70ad48ecab90>\n",
      "Traceback (most recent call last):\n",
      "  File \"/home/pmedur/strojnoUcenje/env/lib/python3.10/site-packages/tensorflow/lite/python/interpreter.py\", line 117, in __del__\n",
      "    if self._library is not None:\n",
      "AttributeError: 'Delegate' object has no attribute '_library'\n",
      "Exception ignored in: <function Delegate.__del__ at 0x70ad48ecab90>\n",
      "Traceback (most recent call last):\n",
      "  File \"/home/pmedur/strojnoUcenje/env/lib/python3.10/site-packages/tensorflow/lite/python/interpreter.py\", line 117, in __del__\n",
      "    if self._library is not None:\n",
      "AttributeError: 'Delegate' object has no attribute '_library'\n"
     ]
    },
    {
     "name": "stdout",
     "output_type": "stream",
     "text": [
      "Resource monitoring stopped\n",
      "[CPU (GPU failed)] Acc: 85.15%, Energy: 0.069812Wh, Size: 4940.6KB\n",
      "  Fold 2...     GPU delegate failed: gpu: cannot open shared object file: No such file or directory\n",
      "    Falling back to CPU\n",
      "GPU monitoring initialized: 1 device(s) found\n",
      "CPU energy monitoring (RAPL) initialized: 1 domain(s) found\n",
      "  - package-0 (intel-rapl:0)\n",
      "Resource monitoring started\n"
     ]
    },
    {
     "name": "stderr",
     "output_type": "stream",
     "text": [
      "Exception ignored in: <function Delegate.__del__ at 0x70ad48ecab90>\n",
      "Traceback (most recent call last):\n",
      "  File \"/home/pmedur/strojnoUcenje/env/lib/python3.10/site-packages/tensorflow/lite/python/interpreter.py\", line 117, in __del__\n",
      "    if self._library is not None:\n",
      "AttributeError: 'Delegate' object has no attribute '_library'\n",
      "Exception ignored in: <function Delegate.__del__ at 0x70ad48ecab90>\n",
      "Traceback (most recent call last):\n",
      "  File \"/home/pmedur/strojnoUcenje/env/lib/python3.10/site-packages/tensorflow/lite/python/interpreter.py\", line 117, in __del__\n",
      "    if self._library is not None:\n",
      "AttributeError: 'Delegate' object has no attribute '_library'\n"
     ]
    },
    {
     "name": "stdout",
     "output_type": "stream",
     "text": [
      "Resource monitoring stopped\n",
      "[CPU (GPU failed)] Acc: 85.70%, Energy: 0.053290Wh, Size: 4940.6KB\n",
      "  Fold 3...     GPU delegate failed: gpu: cannot open shared object file: No such file or directory\n",
      "    Falling back to CPU\n",
      "GPU monitoring initialized: 1 device(s) found\n",
      "CPU energy monitoring (RAPL) initialized: 1 domain(s) found\n",
      "  - package-0 (intel-rapl:0)\n",
      "Resource monitoring started\n"
     ]
    },
    {
     "name": "stderr",
     "output_type": "stream",
     "text": [
      "Exception ignored in: <function Delegate.__del__ at 0x70ad48ecab90>\n",
      "Traceback (most recent call last):\n",
      "  File \"/home/pmedur/strojnoUcenje/env/lib/python3.10/site-packages/tensorflow/lite/python/interpreter.py\", line 117, in __del__\n",
      "    if self._library is not None:\n",
      "AttributeError: 'Delegate' object has no attribute '_library'\n",
      "Exception ignored in: <function Delegate.__del__ at 0x70ad48ecab90>\n",
      "Traceback (most recent call last):\n",
      "  File \"/home/pmedur/strojnoUcenje/env/lib/python3.10/site-packages/tensorflow/lite/python/interpreter.py\", line 117, in __del__\n",
      "    if self._library is not None:\n",
      "AttributeError: 'Delegate' object has no attribute '_library'\n"
     ]
    },
    {
     "name": "stdout",
     "output_type": "stream",
     "text": [
      "Resource monitoring stopped\n",
      "[CPU (GPU failed)] Acc: 86.79%, Energy: 0.049457Wh, Size: 4940.6KB\n",
      "  Fold 4...     GPU delegate failed: gpu: cannot open shared object file: No such file or directory\n",
      "    Falling back to CPU\n",
      "GPU monitoring initialized: 1 device(s) found\n",
      "CPU energy monitoring (RAPL) initialized: 1 domain(s) found\n",
      "  - package-0 (intel-rapl:0)\n",
      "Resource monitoring started\n"
     ]
    },
    {
     "name": "stderr",
     "output_type": "stream",
     "text": [
      "Exception ignored in: <function Delegate.__del__ at 0x70ad48ecab90>\n",
      "Traceback (most recent call last):\n",
      "  File \"/home/pmedur/strojnoUcenje/env/lib/python3.10/site-packages/tensorflow/lite/python/interpreter.py\", line 117, in __del__\n",
      "    if self._library is not None:\n",
      "AttributeError: 'Delegate' object has no attribute '_library'\n",
      "Exception ignored in: <function Delegate.__del__ at 0x70ad48ecab90>\n",
      "Traceback (most recent call last):\n",
      "  File \"/home/pmedur/strojnoUcenje/env/lib/python3.10/site-packages/tensorflow/lite/python/interpreter.py\", line 117, in __del__\n",
      "    if self._library is not None:\n",
      "AttributeError: 'Delegate' object has no attribute '_library'\n"
     ]
    },
    {
     "name": "stdout",
     "output_type": "stream",
     "text": [
      "Resource monitoring stopped\n",
      "[CPU (GPU failed)] Acc: 86.03%, Energy: 0.053303Wh, Size: 4940.6KB\n",
      "  Fold 5...     GPU delegate failed: gpu: cannot open shared object file: No such file or directory\n",
      "    Falling back to CPU\n",
      "GPU monitoring initialized: 1 device(s) found\n",
      "CPU energy monitoring (RAPL) initialized: 1 domain(s) found\n",
      "  - package-0 (intel-rapl:0)\n",
      "Resource monitoring started\n"
     ]
    },
    {
     "name": "stderr",
     "output_type": "stream",
     "text": [
      "Exception ignored in: <function Delegate.__del__ at 0x70ad48ecab90>\n",
      "Traceback (most recent call last):\n",
      "  File \"/home/pmedur/strojnoUcenje/env/lib/python3.10/site-packages/tensorflow/lite/python/interpreter.py\", line 117, in __del__\n",
      "    if self._library is not None:\n",
      "AttributeError: 'Delegate' object has no attribute '_library'\n",
      "Exception ignored in: <function Delegate.__del__ at 0x70ad48ecab90>\n",
      "Traceback (most recent call last):\n",
      "  File \"/home/pmedur/strojnoUcenje/env/lib/python3.10/site-packages/tensorflow/lite/python/interpreter.py\", line 117, in __del__\n",
      "    if self._library is not None:\n",
      "AttributeError: 'Delegate' object has no attribute '_library'\n"
     ]
    },
    {
     "name": "stdout",
     "output_type": "stream",
     "text": [
      "Resource monitoring stopped\n",
      "[CPU (GPU failed)] Acc: 86.14%, Energy: 0.052909Wh, Size: 4940.6KB\n",
      "  Fold 6...     GPU delegate failed: gpu: cannot open shared object file: No such file or directory\n",
      "    Falling back to CPU\n",
      "GPU monitoring initialized: 1 device(s) found\n",
      "CPU energy monitoring (RAPL) initialized: 1 domain(s) found\n",
      "  - package-0 (intel-rapl:0)\n",
      "Resource monitoring started\n"
     ]
    },
    {
     "name": "stderr",
     "output_type": "stream",
     "text": [
      "Exception ignored in: <function Delegate.__del__ at 0x70ad48ecab90>\n",
      "Traceback (most recent call last):\n",
      "  File \"/home/pmedur/strojnoUcenje/env/lib/python3.10/site-packages/tensorflow/lite/python/interpreter.py\", line 117, in __del__\n",
      "    if self._library is not None:\n",
      "AttributeError: 'Delegate' object has no attribute '_library'\n",
      "Exception ignored in: <function Delegate.__del__ at 0x70ad48ecab90>\n",
      "Traceback (most recent call last):\n",
      "  File \"/home/pmedur/strojnoUcenje/env/lib/python3.10/site-packages/tensorflow/lite/python/interpreter.py\", line 117, in __del__\n",
      "    if self._library is not None:\n",
      "AttributeError: 'Delegate' object has no attribute '_library'\n"
     ]
    },
    {
     "name": "stdout",
     "output_type": "stream",
     "text": [
      "Resource monitoring stopped\n",
      "[CPU (GPU failed)] Acc: 85.88%, Energy: 0.059555Wh, Size: 4940.6KB\n",
      "  Fold 7...     GPU delegate failed: gpu: cannot open shared object file: No such file or directory\n",
      "    Falling back to CPU\n",
      "GPU monitoring initialized: 1 device(s) found\n",
      "CPU energy monitoring (RAPL) initialized: 1 domain(s) found\n",
      "  - package-0 (intel-rapl:0)\n",
      "Resource monitoring started\n"
     ]
    },
    {
     "name": "stderr",
     "output_type": "stream",
     "text": [
      "Exception ignored in: <function Delegate.__del__ at 0x70ad48ecab90>\n",
      "Traceback (most recent call last):\n",
      "  File \"/home/pmedur/strojnoUcenje/env/lib/python3.10/site-packages/tensorflow/lite/python/interpreter.py\", line 117, in __del__\n",
      "    if self._library is not None:\n",
      "AttributeError: 'Delegate' object has no attribute '_library'\n",
      "Exception ignored in: <function Delegate.__del__ at 0x70ad48ecab90>\n",
      "Traceback (most recent call last):\n",
      "  File \"/home/pmedur/strojnoUcenje/env/lib/python3.10/site-packages/tensorflow/lite/python/interpreter.py\", line 117, in __del__\n",
      "    if self._library is not None:\n",
      "AttributeError: 'Delegate' object has no attribute '_library'\n"
     ]
    },
    {
     "name": "stdout",
     "output_type": "stream",
     "text": [
      "Resource monitoring stopped\n",
      "[CPU (GPU failed)] Acc: 86.09%, Energy: 0.055798Wh, Size: 4940.6KB\n",
      "  Fold 8...     GPU delegate failed: gpu: cannot open shared object file: No such file or directory\n",
      "    Falling back to CPU\n",
      "GPU monitoring initialized: 1 device(s) found\n",
      "CPU energy monitoring (RAPL) initialized: 1 domain(s) found\n",
      "  - package-0 (intel-rapl:0)\n",
      "Resource monitoring started\n"
     ]
    },
    {
     "name": "stderr",
     "output_type": "stream",
     "text": [
      "Exception ignored in: <function Delegate.__del__ at 0x70ad48ecab90>\n",
      "Traceback (most recent call last):\n",
      "  File \"/home/pmedur/strojnoUcenje/env/lib/python3.10/site-packages/tensorflow/lite/python/interpreter.py\", line 117, in __del__\n",
      "    if self._library is not None:\n",
      "AttributeError: 'Delegate' object has no attribute '_library'\n",
      "Exception ignored in: <function Delegate.__del__ at 0x70ad48ecab90>\n",
      "Traceback (most recent call last):\n",
      "  File \"/home/pmedur/strojnoUcenje/env/lib/python3.10/site-packages/tensorflow/lite/python/interpreter.py\", line 117, in __del__\n",
      "    if self._library is not None:\n",
      "AttributeError: 'Delegate' object has no attribute '_library'\n"
     ]
    },
    {
     "name": "stdout",
     "output_type": "stream",
     "text": [
      "Resource monitoring stopped\n",
      "[CPU (GPU failed)] Acc: 86.07%, Energy: 0.053661Wh, Size: 4940.6KB\n",
      "  Fold 9...     GPU delegate failed: gpu: cannot open shared object file: No such file or directory\n",
      "    Falling back to CPU\n",
      "GPU monitoring initialized: 1 device(s) found\n",
      "CPU energy monitoring (RAPL) initialized: 1 domain(s) found\n",
      "  - package-0 (intel-rapl:0)\n",
      "Resource monitoring started\n"
     ]
    },
    {
     "name": "stderr",
     "output_type": "stream",
     "text": [
      "Exception ignored in: <function Delegate.__del__ at 0x70ad48ecab90>\n",
      "Traceback (most recent call last):\n",
      "  File \"/home/pmedur/strojnoUcenje/env/lib/python3.10/site-packages/tensorflow/lite/python/interpreter.py\", line 117, in __del__\n",
      "    if self._library is not None:\n",
      "AttributeError: 'Delegate' object has no attribute '_library'\n",
      "Exception ignored in: <function Delegate.__del__ at 0x70ad48ecab90>\n",
      "Traceback (most recent call last):\n",
      "  File \"/home/pmedur/strojnoUcenje/env/lib/python3.10/site-packages/tensorflow/lite/python/interpreter.py\", line 117, in __del__\n",
      "    if self._library is not None:\n",
      "AttributeError: 'Delegate' object has no attribute '_library'\n"
     ]
    },
    {
     "name": "stdout",
     "output_type": "stream",
     "text": [
      "Resource monitoring stopped\n",
      "[CPU (GPU failed)] Acc: 86.09%, Energy: 0.055070Wh, Size: 4940.6KB\n",
      "  Fold 10...     GPU delegate failed: gpu: cannot open shared object file: No such file or directory\n",
      "    Falling back to CPU\n",
      "GPU monitoring initialized: 1 device(s) found\n",
      "CPU energy monitoring (RAPL) initialized: 1 domain(s) found\n",
      "  - package-0 (intel-rapl:0)\n",
      "Resource monitoring started\n"
     ]
    },
    {
     "name": "stderr",
     "output_type": "stream",
     "text": [
      "Exception ignored in: <function Delegate.__del__ at 0x70ad48ecab90>\n",
      "Traceback (most recent call last):\n",
      "  File \"/home/pmedur/strojnoUcenje/env/lib/python3.10/site-packages/tensorflow/lite/python/interpreter.py\", line 117, in __del__\n",
      "    if self._library is not None:\n",
      "AttributeError: 'Delegate' object has no attribute '_library'\n",
      "Exception ignored in: <function Delegate.__del__ at 0x70ad48ecab90>\n",
      "Traceback (most recent call last):\n",
      "  File \"/home/pmedur/strojnoUcenje/env/lib/python3.10/site-packages/tensorflow/lite/python/interpreter.py\", line 117, in __del__\n",
      "    if self._library is not None:\n",
      "AttributeError: 'Delegate' object has no attribute '_library'\n"
     ]
    },
    {
     "name": "stdout",
     "output_type": "stream",
     "text": [
      "Resource monitoring stopped\n",
      "[CPU (GPU failed)] Acc: 86.03%, Energy: 0.052831Wh, Size: 4940.6KB\n",
      "\n",
      "model_9:\n",
      "  Fold 1...     GPU delegate failed: gpu: cannot open shared object file: No such file or directory\n",
      "    Falling back to CPU\n",
      "GPU monitoring initialized: 1 device(s) found\n",
      "CPU energy monitoring (RAPL) initialized: 1 domain(s) found\n",
      "  - package-0 (intel-rapl:0)\n",
      "Resource monitoring started\n"
     ]
    },
    {
     "name": "stderr",
     "output_type": "stream",
     "text": [
      "Exception ignored in: <function Delegate.__del__ at 0x70ad48ecab90>\n",
      "Traceback (most recent call last):\n",
      "  File \"/home/pmedur/strojnoUcenje/env/lib/python3.10/site-packages/tensorflow/lite/python/interpreter.py\", line 117, in __del__\n",
      "    if self._library is not None:\n",
      "AttributeError: 'Delegate' object has no attribute '_library'\n",
      "Exception ignored in: <function Delegate.__del__ at 0x70ad48ecab90>\n",
      "Traceback (most recent call last):\n",
      "  File \"/home/pmedur/strojnoUcenje/env/lib/python3.10/site-packages/tensorflow/lite/python/interpreter.py\", line 117, in __del__\n",
      "    if self._library is not None:\n",
      "AttributeError: 'Delegate' object has no attribute '_library'\n"
     ]
    },
    {
     "name": "stdout",
     "output_type": "stream",
     "text": [
      "Resource monitoring stopped\n",
      "[CPU (GPU failed)] Acc: 90.01%, Energy: 0.170292Wh, Size: 19955.1KB\n",
      "  Fold 2...     GPU delegate failed: gpu: cannot open shared object file: No such file or directory\n",
      "    Falling back to CPU\n",
      "GPU monitoring initialized: 1 device(s) found\n",
      "CPU energy monitoring (RAPL) initialized: 1 domain(s) found\n",
      "  - package-0 (intel-rapl:0)\n",
      "Resource monitoring started\n"
     ]
    },
    {
     "name": "stderr",
     "output_type": "stream",
     "text": [
      "Exception ignored in: <function Delegate.__del__ at 0x70ad48ecab90>\n",
      "Traceback (most recent call last):\n",
      "  File \"/home/pmedur/strojnoUcenje/env/lib/python3.10/site-packages/tensorflow/lite/python/interpreter.py\", line 117, in __del__\n",
      "    if self._library is not None:\n",
      "AttributeError: 'Delegate' object has no attribute '_library'\n",
      "Exception ignored in: <function Delegate.__del__ at 0x70ad48ecab90>\n",
      "Traceback (most recent call last):\n",
      "  File \"/home/pmedur/strojnoUcenje/env/lib/python3.10/site-packages/tensorflow/lite/python/interpreter.py\", line 117, in __del__\n",
      "    if self._library is not None:\n",
      "AttributeError: 'Delegate' object has no attribute '_library'\n"
     ]
    },
    {
     "name": "stdout",
     "output_type": "stream",
     "text": [
      "Resource monitoring stopped\n",
      "[CPU (GPU failed)] Acc: 89.63%, Energy: 0.149738Wh, Size: 19955.1KB\n",
      "  Fold 3...     GPU delegate failed: gpu: cannot open shared object file: No such file or directory\n",
      "    Falling back to CPU\n",
      "GPU monitoring initialized: 1 device(s) found\n",
      "CPU energy monitoring (RAPL) initialized: 1 domain(s) found\n",
      "  - package-0 (intel-rapl:0)\n",
      "Resource monitoring started\n"
     ]
    },
    {
     "name": "stderr",
     "output_type": "stream",
     "text": [
      "Exception ignored in: <function Delegate.__del__ at 0x70ad48ecab90>\n",
      "Traceback (most recent call last):\n",
      "  File \"/home/pmedur/strojnoUcenje/env/lib/python3.10/site-packages/tensorflow/lite/python/interpreter.py\", line 117, in __del__\n",
      "    if self._library is not None:\n",
      "AttributeError: 'Delegate' object has no attribute '_library'\n",
      "Exception ignored in: <function Delegate.__del__ at 0x70ad48ecab90>\n",
      "Traceback (most recent call last):\n",
      "  File \"/home/pmedur/strojnoUcenje/env/lib/python3.10/site-packages/tensorflow/lite/python/interpreter.py\", line 117, in __del__\n",
      "    if self._library is not None:\n",
      "AttributeError: 'Delegate' object has no attribute '_library'\n"
     ]
    },
    {
     "name": "stdout",
     "output_type": "stream",
     "text": [
      "Resource monitoring stopped\n",
      "[CPU (GPU failed)] Acc: 89.99%, Energy: 0.151704Wh, Size: 19955.1KB\n",
      "  Fold 4...     GPU delegate failed: gpu: cannot open shared object file: No such file or directory\n",
      "    Falling back to CPU\n",
      "GPU monitoring initialized: 1 device(s) found\n",
      "CPU energy monitoring (RAPL) initialized: 1 domain(s) found\n",
      "  - package-0 (intel-rapl:0)\n",
      "Resource monitoring started\n"
     ]
    },
    {
     "name": "stderr",
     "output_type": "stream",
     "text": [
      "Exception ignored in: <function Delegate.__del__ at 0x70ad48ecab90>\n",
      "Traceback (most recent call last):\n",
      "  File \"/home/pmedur/strojnoUcenje/env/lib/python3.10/site-packages/tensorflow/lite/python/interpreter.py\", line 117, in __del__\n",
      "    if self._library is not None:\n",
      "AttributeError: 'Delegate' object has no attribute '_library'\n",
      "Exception ignored in: <function Delegate.__del__ at 0x70ad48ecab90>\n",
      "Traceback (most recent call last):\n",
      "  File \"/home/pmedur/strojnoUcenje/env/lib/python3.10/site-packages/tensorflow/lite/python/interpreter.py\", line 117, in __del__\n",
      "    if self._library is not None:\n",
      "AttributeError: 'Delegate' object has no attribute '_library'\n"
     ]
    },
    {
     "name": "stdout",
     "output_type": "stream",
     "text": [
      "Resource monitoring stopped\n",
      "[CPU (GPU failed)] Acc: 90.17%, Energy: 0.178970Wh, Size: 19955.1KB\n",
      "  Fold 5...     GPU delegate failed: gpu: cannot open shared object file: No such file or directory\n",
      "    Falling back to CPU\n",
      "GPU monitoring initialized: 1 device(s) found\n",
      "CPU energy monitoring (RAPL) initialized: 1 domain(s) found\n",
      "  - package-0 (intel-rapl:0)\n",
      "Resource monitoring started\n"
     ]
    },
    {
     "name": "stderr",
     "output_type": "stream",
     "text": [
      "Exception ignored in: <function Delegate.__del__ at 0x70ad48ecab90>\n",
      "Traceback (most recent call last):\n",
      "  File \"/home/pmedur/strojnoUcenje/env/lib/python3.10/site-packages/tensorflow/lite/python/interpreter.py\", line 117, in __del__\n",
      "    if self._library is not None:\n",
      "AttributeError: 'Delegate' object has no attribute '_library'\n",
      "Exception ignored in: <function Delegate.__del__ at 0x70ad48ecab90>\n",
      "Traceback (most recent call last):\n",
      "  File \"/home/pmedur/strojnoUcenje/env/lib/python3.10/site-packages/tensorflow/lite/python/interpreter.py\", line 117, in __del__\n",
      "    if self._library is not None:\n",
      "AttributeError: 'Delegate' object has no attribute '_library'\n"
     ]
    },
    {
     "name": "stdout",
     "output_type": "stream",
     "text": [
      "Resource monitoring stopped\n",
      "[CPU (GPU failed)] Acc: 90.74%, Energy: 0.158235Wh, Size: 19955.1KB\n",
      "  Fold 6...     GPU delegate failed: gpu: cannot open shared object file: No such file or directory\n",
      "    Falling back to CPU\n",
      "GPU monitoring initialized: 1 device(s) found\n",
      "CPU energy monitoring (RAPL) initialized: 1 domain(s) found\n",
      "  - package-0 (intel-rapl:0)\n",
      "Resource monitoring started\n"
     ]
    },
    {
     "name": "stderr",
     "output_type": "stream",
     "text": [
      "Exception ignored in: <function Delegate.__del__ at 0x70ad48ecab90>\n",
      "Traceback (most recent call last):\n",
      "  File \"/home/pmedur/strojnoUcenje/env/lib/python3.10/site-packages/tensorflow/lite/python/interpreter.py\", line 117, in __del__\n",
      "    if self._library is not None:\n",
      "AttributeError: 'Delegate' object has no attribute '_library'\n",
      "Exception ignored in: <function Delegate.__del__ at 0x70ad48ecab90>\n",
      "Traceback (most recent call last):\n",
      "  File \"/home/pmedur/strojnoUcenje/env/lib/python3.10/site-packages/tensorflow/lite/python/interpreter.py\", line 117, in __del__\n",
      "    if self._library is not None:\n",
      "AttributeError: 'Delegate' object has no attribute '_library'\n"
     ]
    },
    {
     "name": "stdout",
     "output_type": "stream",
     "text": [
      "Resource monitoring stopped\n",
      "[CPU (GPU failed)] Acc: 89.76%, Energy: 0.165930Wh, Size: 19955.1KB\n",
      "  Fold 7...     GPU delegate failed: gpu: cannot open shared object file: No such file or directory\n",
      "    Falling back to CPU\n",
      "GPU monitoring initialized: 1 device(s) found\n",
      "CPU energy monitoring (RAPL) initialized: 1 domain(s) found\n",
      "  - package-0 (intel-rapl:0)\n",
      "Resource monitoring started\n"
     ]
    },
    {
     "name": "stderr",
     "output_type": "stream",
     "text": [
      "Exception ignored in: <function Delegate.__del__ at 0x70ad48ecab90>\n",
      "Traceback (most recent call last):\n",
      "  File \"/home/pmedur/strojnoUcenje/env/lib/python3.10/site-packages/tensorflow/lite/python/interpreter.py\", line 117, in __del__\n",
      "    if self._library is not None:\n",
      "AttributeError: 'Delegate' object has no attribute '_library'\n",
      "Exception ignored in: <function Delegate.__del__ at 0x70ad48ecab90>\n",
      "Traceback (most recent call last):\n",
      "  File \"/home/pmedur/strojnoUcenje/env/lib/python3.10/site-packages/tensorflow/lite/python/interpreter.py\", line 117, in __del__\n",
      "    if self._library is not None:\n",
      "AttributeError: 'Delegate' object has no attribute '_library'\n"
     ]
    },
    {
     "name": "stdout",
     "output_type": "stream",
     "text": [
      "Resource monitoring stopped\n",
      "[CPU (GPU failed)] Acc: 89.60%, Energy: 0.170087Wh, Size: 19955.1KB\n",
      "  Fold 8...     GPU delegate failed: gpu: cannot open shared object file: No such file or directory\n",
      "    Falling back to CPU\n",
      "GPU monitoring initialized: 1 device(s) found\n",
      "CPU energy monitoring (RAPL) initialized: 1 domain(s) found\n",
      "  - package-0 (intel-rapl:0)\n",
      "Resource monitoring started\n"
     ]
    },
    {
     "name": "stderr",
     "output_type": "stream",
     "text": [
      "Exception ignored in: <function Delegate.__del__ at 0x70ad48ecab90>\n",
      "Traceback (most recent call last):\n",
      "  File \"/home/pmedur/strojnoUcenje/env/lib/python3.10/site-packages/tensorflow/lite/python/interpreter.py\", line 117, in __del__\n",
      "    if self._library is not None:\n",
      "AttributeError: 'Delegate' object has no attribute '_library'\n",
      "Exception ignored in: <function Delegate.__del__ at 0x70ad48ecab90>\n",
      "Traceback (most recent call last):\n",
      "  File \"/home/pmedur/strojnoUcenje/env/lib/python3.10/site-packages/tensorflow/lite/python/interpreter.py\", line 117, in __del__\n",
      "    if self._library is not None:\n",
      "AttributeError: 'Delegate' object has no attribute '_library'\n"
     ]
    },
    {
     "name": "stdout",
     "output_type": "stream",
     "text": [
      "Resource monitoring stopped\n",
      "[CPU (GPU failed)] Acc: 89.34%, Energy: 0.165240Wh, Size: 19955.1KB\n",
      "  Fold 9...     GPU delegate failed: gpu: cannot open shared object file: No such file or directory\n",
      "    Falling back to CPU\n",
      "GPU monitoring initialized: 1 device(s) found\n",
      "CPU energy monitoring (RAPL) initialized: 1 domain(s) found\n",
      "  - package-0 (intel-rapl:0)\n",
      "Resource monitoring started\n"
     ]
    },
    {
     "name": "stderr",
     "output_type": "stream",
     "text": [
      "Exception ignored in: <function Delegate.__del__ at 0x70ad48ecab90>\n",
      "Traceback (most recent call last):\n",
      "  File \"/home/pmedur/strojnoUcenje/env/lib/python3.10/site-packages/tensorflow/lite/python/interpreter.py\", line 117, in __del__\n",
      "    if self._library is not None:\n",
      "AttributeError: 'Delegate' object has no attribute '_library'\n",
      "Exception ignored in: <function Delegate.__del__ at 0x70ad48ecab90>\n",
      "Traceback (most recent call last):\n",
      "  File \"/home/pmedur/strojnoUcenje/env/lib/python3.10/site-packages/tensorflow/lite/python/interpreter.py\", line 117, in __del__\n",
      "    if self._library is not None:\n",
      "AttributeError: 'Delegate' object has no attribute '_library'\n"
     ]
    },
    {
     "name": "stdout",
     "output_type": "stream",
     "text": [
      "Resource monitoring stopped\n",
      "[CPU (GPU failed)] Acc: 89.22%, Energy: 0.171028Wh, Size: 19955.1KB\n",
      "  Fold 10...     GPU delegate failed: gpu: cannot open shared object file: No such file or directory\n",
      "    Falling back to CPU\n",
      "GPU monitoring initialized: 1 device(s) found\n",
      "CPU energy monitoring (RAPL) initialized: 1 domain(s) found\n",
      "  - package-0 (intel-rapl:0)\n",
      "Resource monitoring started\n"
     ]
    },
    {
     "name": "stderr",
     "output_type": "stream",
     "text": [
      "Exception ignored in: <function Delegate.__del__ at 0x70ad48ecab90>\n",
      "Traceback (most recent call last):\n",
      "  File \"/home/pmedur/strojnoUcenje/env/lib/python3.10/site-packages/tensorflow/lite/python/interpreter.py\", line 117, in __del__\n",
      "    if self._library is not None:\n",
      "AttributeError: 'Delegate' object has no attribute '_library'\n",
      "Exception ignored in: <function Delegate.__del__ at 0x70ad48ecab90>\n",
      "Traceback (most recent call last):\n",
      "  File \"/home/pmedur/strojnoUcenje/env/lib/python3.10/site-packages/tensorflow/lite/python/interpreter.py\", line 117, in __del__\n",
      "    if self._library is not None:\n",
      "AttributeError: 'Delegate' object has no attribute '_library'\n"
     ]
    },
    {
     "name": "stdout",
     "output_type": "stream",
     "text": [
      "Resource monitoring stopped\n",
      "[CPU (GPU failed)] Acc: 90.92%, Energy: 0.174619Wh, Size: 19955.1KB\n",
      "\n",
      "model_10:\n",
      "  Fold 1...     GPU delegate failed: gpu: cannot open shared object file: No such file or directory\n",
      "    Falling back to CPU\n",
      "GPU monitoring initialized: 1 device(s) found\n",
      "CPU energy monitoring (RAPL) initialized: 1 domain(s) found\n",
      "  - package-0 (intel-rapl:0)\n",
      "Resource monitoring started\n"
     ]
    },
    {
     "name": "stderr",
     "output_type": "stream",
     "text": [
      "Exception ignored in: <function Delegate.__del__ at 0x70ad48ecab90>\n",
      "Traceback (most recent call last):\n",
      "  File \"/home/pmedur/strojnoUcenje/env/lib/python3.10/site-packages/tensorflow/lite/python/interpreter.py\", line 117, in __del__\n",
      "    if self._library is not None:\n",
      "AttributeError: 'Delegate' object has no attribute '_library'\n",
      "Exception ignored in: <function Delegate.__del__ at 0x70ad48ecab90>\n",
      "Traceback (most recent call last):\n",
      "  File \"/home/pmedur/strojnoUcenje/env/lib/python3.10/site-packages/tensorflow/lite/python/interpreter.py\", line 117, in __del__\n",
      "    if self._library is not None:\n",
      "AttributeError: 'Delegate' object has no attribute '_library'\n"
     ]
    },
    {
     "name": "stdout",
     "output_type": "stream",
     "text": [
      "Resource monitoring stopped\n",
      "[CPU (GPU failed)] Acc: 89.31%, Energy: 0.546078Wh, Size: 79649.1KB\n",
      "  Fold 2...     GPU delegate failed: gpu: cannot open shared object file: No such file or directory\n",
      "    Falling back to CPU\n",
      "GPU monitoring initialized: 1 device(s) found\n",
      "CPU energy monitoring (RAPL) initialized: 1 domain(s) found\n",
      "  - package-0 (intel-rapl:0)\n",
      "Resource monitoring started\n"
     ]
    },
    {
     "name": "stderr",
     "output_type": "stream",
     "text": [
      "Exception ignored in: <function Delegate.__del__ at 0x70ad48ecab90>\n",
      "Traceback (most recent call last):\n",
      "  File \"/home/pmedur/strojnoUcenje/env/lib/python3.10/site-packages/tensorflow/lite/python/interpreter.py\", line 117, in __del__\n",
      "    if self._library is not None:\n",
      "AttributeError: 'Delegate' object has no attribute '_library'\n",
      "Exception ignored in: <function Delegate.__del__ at 0x70ad48ecab90>\n",
      "Traceback (most recent call last):\n",
      "  File \"/home/pmedur/strojnoUcenje/env/lib/python3.10/site-packages/tensorflow/lite/python/interpreter.py\", line 117, in __del__\n",
      "    if self._library is not None:\n",
      "AttributeError: 'Delegate' object has no attribute '_library'\n"
     ]
    },
    {
     "name": "stdout",
     "output_type": "stream",
     "text": [
      "Resource monitoring stopped\n",
      "[CPU (GPU failed)] Acc: 88.61%, Energy: 0.582116Wh, Size: 79649.1KB\n",
      "  Fold 3...     GPU delegate failed: gpu: cannot open shared object file: No such file or directory\n",
      "    Falling back to CPU\n",
      "GPU monitoring initialized: 1 device(s) found\n",
      "CPU energy monitoring (RAPL) initialized: 1 domain(s) found\n",
      "  - package-0 (intel-rapl:0)\n",
      "Resource monitoring started\n"
     ]
    },
    {
     "name": "stderr",
     "output_type": "stream",
     "text": [
      "Exception ignored in: <function Delegate.__del__ at 0x70ad48ecab90>\n",
      "Traceback (most recent call last):\n",
      "  File \"/home/pmedur/strojnoUcenje/env/lib/python3.10/site-packages/tensorflow/lite/python/interpreter.py\", line 117, in __del__\n",
      "    if self._library is not None:\n",
      "AttributeError: 'Delegate' object has no attribute '_library'\n",
      "Exception ignored in: <function Delegate.__del__ at 0x70ad48ecab90>\n",
      "Traceback (most recent call last):\n",
      "  File \"/home/pmedur/strojnoUcenje/env/lib/python3.10/site-packages/tensorflow/lite/python/interpreter.py\", line 117, in __del__\n",
      "    if self._library is not None:\n",
      "AttributeError: 'Delegate' object has no attribute '_library'\n"
     ]
    },
    {
     "name": "stdout",
     "output_type": "stream",
     "text": [
      "Resource monitoring stopped\n",
      "[CPU (GPU failed)] Acc: 90.02%, Energy: 0.563768Wh, Size: 79649.1KB\n",
      "  Fold 4...     GPU delegate failed: gpu: cannot open shared object file: No such file or directory\n",
      "    Falling back to CPU\n",
      "GPU monitoring initialized: 1 device(s) found\n",
      "CPU energy monitoring (RAPL) initialized: 1 domain(s) found\n",
      "  - package-0 (intel-rapl:0)\n",
      "Resource monitoring started\n"
     ]
    },
    {
     "name": "stderr",
     "output_type": "stream",
     "text": [
      "Exception ignored in: <function Delegate.__del__ at 0x70ad48ecab90>\n",
      "Traceback (most recent call last):\n",
      "  File \"/home/pmedur/strojnoUcenje/env/lib/python3.10/site-packages/tensorflow/lite/python/interpreter.py\", line 117, in __del__\n",
      "    if self._library is not None:\n",
      "AttributeError: 'Delegate' object has no attribute '_library'\n",
      "Exception ignored in: <function Delegate.__del__ at 0x70ad48ecab90>\n",
      "Traceback (most recent call last):\n",
      "  File \"/home/pmedur/strojnoUcenje/env/lib/python3.10/site-packages/tensorflow/lite/python/interpreter.py\", line 117, in __del__\n",
      "    if self._library is not None:\n",
      "AttributeError: 'Delegate' object has no attribute '_library'\n"
     ]
    },
    {
     "name": "stdout",
     "output_type": "stream",
     "text": [
      "Resource monitoring stopped\n",
      "[CPU (GPU failed)] Acc: 88.38%, Energy: 0.582311Wh, Size: 79649.1KB\n",
      "  Fold 5...     GPU delegate failed: gpu: cannot open shared object file: No such file or directory\n",
      "    Falling back to CPU\n",
      "GPU monitoring initialized: 1 device(s) found\n",
      "CPU energy monitoring (RAPL) initialized: 1 domain(s) found\n",
      "  - package-0 (intel-rapl:0)\n",
      "Resource monitoring started\n"
     ]
    },
    {
     "name": "stderr",
     "output_type": "stream",
     "text": [
      "Exception ignored in: <function Delegate.__del__ at 0x70ad48ecab90>\n",
      "Traceback (most recent call last):\n",
      "  File \"/home/pmedur/strojnoUcenje/env/lib/python3.10/site-packages/tensorflow/lite/python/interpreter.py\", line 117, in __del__\n",
      "    if self._library is not None:\n",
      "AttributeError: 'Delegate' object has no attribute '_library'\n",
      "Exception ignored in: <function Delegate.__del__ at 0x70ad48ecab90>\n",
      "Traceback (most recent call last):\n",
      "  File \"/home/pmedur/strojnoUcenje/env/lib/python3.10/site-packages/tensorflow/lite/python/interpreter.py\", line 117, in __del__\n",
      "    if self._library is not None:\n",
      "AttributeError: 'Delegate' object has no attribute '_library'\n"
     ]
    },
    {
     "name": "stdout",
     "output_type": "stream",
     "text": [
      "Resource monitoring stopped\n",
      "[CPU (GPU failed)] Acc: 89.67%, Energy: 0.568986Wh, Size: 79649.1KB\n",
      "  Fold 6...     GPU delegate failed: gpu: cannot open shared object file: No such file or directory\n",
      "    Falling back to CPU\n",
      "GPU monitoring initialized: 1 device(s) found\n",
      "CPU energy monitoring (RAPL) initialized: 1 domain(s) found\n",
      "  - package-0 (intel-rapl:0)\n",
      "Resource monitoring started\n"
     ]
    },
    {
     "name": "stderr",
     "output_type": "stream",
     "text": [
      "Exception ignored in: <function Delegate.__del__ at 0x70ad48ecab90>\n",
      "Traceback (most recent call last):\n",
      "  File \"/home/pmedur/strojnoUcenje/env/lib/python3.10/site-packages/tensorflow/lite/python/interpreter.py\", line 117, in __del__\n",
      "    if self._library is not None:\n",
      "AttributeError: 'Delegate' object has no attribute '_library'\n",
      "Exception ignored in: <function Delegate.__del__ at 0x70ad48ecab90>\n",
      "Traceback (most recent call last):\n",
      "  File \"/home/pmedur/strojnoUcenje/env/lib/python3.10/site-packages/tensorflow/lite/python/interpreter.py\", line 117, in __del__\n",
      "    if self._library is not None:\n",
      "AttributeError: 'Delegate' object has no attribute '_library'\n"
     ]
    },
    {
     "name": "stdout",
     "output_type": "stream",
     "text": [
      "Resource monitoring stopped\n",
      "[CPU (GPU failed)] Acc: 90.30%, Energy: 0.566488Wh, Size: 79649.1KB\n",
      "  Fold 7...     GPU delegate failed: gpu: cannot open shared object file: No such file or directory\n",
      "    Falling back to CPU\n",
      "GPU monitoring initialized: 1 device(s) found\n",
      "CPU energy monitoring (RAPL) initialized: 1 domain(s) found\n",
      "  - package-0 (intel-rapl:0)\n",
      "Resource monitoring started\n"
     ]
    },
    {
     "name": "stderr",
     "output_type": "stream",
     "text": [
      "Exception ignored in: <function Delegate.__del__ at 0x70ad48ecab90>\n",
      "Traceback (most recent call last):\n",
      "  File \"/home/pmedur/strojnoUcenje/env/lib/python3.10/site-packages/tensorflow/lite/python/interpreter.py\", line 117, in __del__\n",
      "    if self._library is not None:\n",
      "AttributeError: 'Delegate' object has no attribute '_library'\n",
      "Exception ignored in: <function Delegate.__del__ at 0x70ad48ecab90>\n",
      "Traceback (most recent call last):\n",
      "  File \"/home/pmedur/strojnoUcenje/env/lib/python3.10/site-packages/tensorflow/lite/python/interpreter.py\", line 117, in __del__\n",
      "    if self._library is not None:\n",
      "AttributeError: 'Delegate' object has no attribute '_library'\n"
     ]
    },
    {
     "name": "stdout",
     "output_type": "stream",
     "text": [
      "Resource monitoring stopped\n",
      "[CPU (GPU failed)] Acc: 88.38%, Energy: 0.561707Wh, Size: 79649.1KB\n",
      "  Fold 8...     GPU delegate failed: gpu: cannot open shared object file: No such file or directory\n",
      "    Falling back to CPU\n",
      "GPU monitoring initialized: 1 device(s) found\n",
      "CPU energy monitoring (RAPL) initialized: 1 domain(s) found\n",
      "  - package-0 (intel-rapl:0)\n",
      "Resource monitoring started\n"
     ]
    },
    {
     "name": "stderr",
     "output_type": "stream",
     "text": [
      "Exception ignored in: <function Delegate.__del__ at 0x70ad48ecab90>\n",
      "Traceback (most recent call last):\n",
      "  File \"/home/pmedur/strojnoUcenje/env/lib/python3.10/site-packages/tensorflow/lite/python/interpreter.py\", line 117, in __del__\n",
      "    if self._library is not None:\n",
      "AttributeError: 'Delegate' object has no attribute '_library'\n",
      "Exception ignored in: <function Delegate.__del__ at 0x70ad48ecab90>\n",
      "Traceback (most recent call last):\n",
      "  File \"/home/pmedur/strojnoUcenje/env/lib/python3.10/site-packages/tensorflow/lite/python/interpreter.py\", line 117, in __del__\n",
      "    if self._library is not None:\n",
      "AttributeError: 'Delegate' object has no attribute '_library'\n"
     ]
    },
    {
     "name": "stdout",
     "output_type": "stream",
     "text": [
      "Resource monitoring stopped\n",
      "[CPU (GPU failed)] Acc: 89.38%, Energy: 0.568643Wh, Size: 79649.1KB\n",
      "  Fold 9...     GPU delegate failed: gpu: cannot open shared object file: No such file or directory\n",
      "    Falling back to CPU\n",
      "GPU monitoring initialized: 1 device(s) found\n",
      "CPU energy monitoring (RAPL) initialized: 1 domain(s) found\n",
      "  - package-0 (intel-rapl:0)\n",
      "Resource monitoring started\n"
     ]
    },
    {
     "name": "stderr",
     "output_type": "stream",
     "text": [
      "Exception ignored in: <function Delegate.__del__ at 0x70ad48ecab90>\n",
      "Traceback (most recent call last):\n",
      "  File \"/home/pmedur/strojnoUcenje/env/lib/python3.10/site-packages/tensorflow/lite/python/interpreter.py\", line 117, in __del__\n",
      "    if self._library is not None:\n",
      "AttributeError: 'Delegate' object has no attribute '_library'\n",
      "Exception ignored in: <function Delegate.__del__ at 0x70ad48ecab90>\n",
      "Traceback (most recent call last):\n",
      "  File \"/home/pmedur/strojnoUcenje/env/lib/python3.10/site-packages/tensorflow/lite/python/interpreter.py\", line 117, in __del__\n",
      "    if self._library is not None:\n",
      "AttributeError: 'Delegate' object has no attribute '_library'\n"
     ]
    },
    {
     "name": "stdout",
     "output_type": "stream",
     "text": [
      "Resource monitoring stopped\n",
      "[CPU (GPU failed)] Acc: 89.24%, Energy: 0.577645Wh, Size: 79649.1KB\n",
      "  Fold 10...     GPU delegate failed: gpu: cannot open shared object file: No such file or directory\n",
      "    Falling back to CPU\n",
      "GPU monitoring initialized: 1 device(s) found\n",
      "CPU energy monitoring (RAPL) initialized: 1 domain(s) found\n",
      "  - package-0 (intel-rapl:0)\n",
      "Resource monitoring started\n",
      "Resource monitoring stopped\n",
      "[CPU (GPU failed)] Acc: 89.19%, Energy: 0.563539Wh, Size: 79649.1KB\n",
      "\n",
      "================================================================================\n",
      "Results saved to: converted_metrics/tflite_finetuned_no_quant_gpu_results.csv\n",
      "================================================================================\n",
      "\n",
      "SUMMARY:\n",
      "  Average Accuracy:  75.72%\n",
      "  Average F1 Score:  0.7533\n",
      "  Average Energy:    0.090018Wh\n",
      "  Average Duration:  6.56s\n",
      "  Average Size:      11198.7KB\n",
      "  Device Distribution:\n",
      "device\n",
      "CPU (GPU failed)    100\n"
     ]
    }
   ],
   "source": [
    "df_finetuned_no_quant_gpu = evaluate_all_tflite_models(\n",
    "    tflite_base_dir='tflite_models',\n",
    "    folds_dir='new_Data_particions',\n",
    "    output_csv='converted_metrics/tflite_finetuned_no_quant_gpu_results.csv',\n",
    "    model_type='finetuned',\n",
    "    quantization='no_quant',\n",
    "    use_gpu=True\n",
    ")"
   ]
  },
  {
   "cell_type": "code",
   "execution_count": 7,
   "id": "c0100277-e90d-4a82-ac6c-64aa2cee8f0b",
   "metadata": {
    "scrolled": true
   },
   "outputs": [
    {
     "name": "stdout",
     "output_type": "stream",
     "text": [
      "\n",
      "================================================================================\n",
      "EVALUATING FINETUNED TFLITE MODELS (INT8) on CPU\n",
      "================================================================================\n",
      "\n",
      "\n",
      "model_1:\n",
      "  Fold 1... GPU monitoring initialized: 1 device(s) found\n",
      "CPU energy monitoring (RAPL) initialized: 1 domain(s) found\n",
      "  - package-0 (intel-rapl:0)\n",
      "Resource monitoring started\n",
      "Resource monitoring stopped\n",
      "[CPU] Acc: 25.09%, Energy: 0.006418Wh, Size: 43.4KB\n",
      "  Fold 2... GPU monitoring initialized: 1 device(s) found\n",
      "CPU energy monitoring (RAPL) initialized: 1 domain(s) found\n",
      "  - package-0 (intel-rapl:0)\n",
      "Resource monitoring started\n",
      "Resource monitoring stopped\n",
      "[CPU] Acc: 47.77%, Energy: 0.004572Wh, Size: 43.4KB\n",
      "  Fold 3... GPU monitoring initialized: 1 device(s) found\n",
      "CPU energy monitoring (RAPL) initialized: 1 domain(s) found\n",
      "  - package-0 (intel-rapl:0)\n",
      "Resource monitoring started\n",
      "Resource monitoring stopped\n",
      "[CPU] Acc: 40.36%, Energy: 0.005934Wh, Size: 43.4KB\n",
      "  Fold 4... GPU monitoring initialized: 1 device(s) found\n",
      "CPU energy monitoring (RAPL) initialized: 1 domain(s) found\n",
      "  - package-0 (intel-rapl:0)\n",
      "Resource monitoring started\n",
      "Resource monitoring stopped\n",
      "[CPU] Acc: 18.99%, Energy: 0.004387Wh, Size: 43.4KB\n",
      "  Fold 5... GPU monitoring initialized: 1 device(s) found\n",
      "CPU energy monitoring (RAPL) initialized: 1 domain(s) found\n",
      "  - package-0 (intel-rapl:0)\n",
      "Resource monitoring started\n",
      "Resource monitoring stopped\n",
      "[CPU] Acc: 17.69%, Energy: 0.005833Wh, Size: 43.4KB\n",
      "  Fold 6... GPU monitoring initialized: 1 device(s) found\n",
      "CPU energy monitoring (RAPL) initialized: 1 domain(s) found\n",
      "  - package-0 (intel-rapl:0)\n",
      "Resource monitoring started\n",
      "Resource monitoring stopped\n",
      "[CPU] Acc: 38.37%, Energy: 0.004248Wh, Size: 43.4KB\n",
      "  Fold 7... GPU monitoring initialized: 1 device(s) found\n",
      "CPU energy monitoring (RAPL) initialized: 1 domain(s) found\n",
      "  - package-0 (intel-rapl:0)\n",
      "Resource monitoring started\n",
      "Resource monitoring stopped\n",
      "[CPU] Acc: 41.74%, Energy: 0.004079Wh, Size: 43.4KB\n",
      "  Fold 8... GPU monitoring initialized: 1 device(s) found\n",
      "CPU energy monitoring (RAPL) initialized: 1 domain(s) found\n",
      "  - package-0 (intel-rapl:0)\n",
      "Resource monitoring started\n",
      "Resource monitoring stopped\n",
      "[CPU] Acc: 44.51%, Energy: 0.004183Wh, Size: 43.4KB\n",
      "  Fold 9... GPU monitoring initialized: 1 device(s) found\n",
      "CPU energy monitoring (RAPL) initialized: 1 domain(s) found\n",
      "  - package-0 (intel-rapl:0)\n",
      "Resource monitoring started\n",
      "Resource monitoring stopped\n",
      "[CPU] Acc: 43.43%, Energy: 0.004194Wh, Size: 43.4KB\n",
      "  Fold 10... GPU monitoring initialized: 1 device(s) found\n",
      "CPU energy monitoring (RAPL) initialized: 1 domain(s) found\n",
      "  - package-0 (intel-rapl:0)\n",
      "Resource monitoring started\n",
      "Resource monitoring stopped\n",
      "[CPU] Acc: 43.93%, Energy: 0.004148Wh, Size: 43.4KB\n",
      "\n",
      "model_2:\n",
      "  Fold 1... GPU monitoring initialized: 1 device(s) found\n",
      "CPU energy monitoring (RAPL) initialized: 1 domain(s) found\n",
      "  - package-0 (intel-rapl:0)\n",
      "Resource monitoring started\n",
      "Resource monitoring stopped\n",
      "[CPU] Acc: 62.19%, Energy: 0.006416Wh, Size: 157.5KB\n",
      "  Fold 2... GPU monitoring initialized: 1 device(s) found\n",
      "CPU energy monitoring (RAPL) initialized: 1 domain(s) found\n",
      "  - package-0 (intel-rapl:0)\n",
      "Resource monitoring started\n",
      "Resource monitoring stopped\n",
      "[CPU] Acc: 52.54%, Energy: 0.006302Wh, Size: 157.5KB\n",
      "  Fold 3... GPU monitoring initialized: 1 device(s) found\n",
      "CPU energy monitoring (RAPL) initialized: 1 domain(s) found\n",
      "  - package-0 (intel-rapl:0)\n",
      "Resource monitoring started\n",
      "Resource monitoring stopped\n",
      "[CPU] Acc: 53.71%, Energy: 0.006396Wh, Size: 157.5KB\n",
      "  Fold 4... GPU monitoring initialized: 1 device(s) found\n",
      "CPU energy monitoring (RAPL) initialized: 1 domain(s) found\n",
      "  - package-0 (intel-rapl:0)\n",
      "Resource monitoring started\n",
      "Resource monitoring stopped\n",
      "[CPU] Acc: 40.93%, Energy: 0.006319Wh, Size: 157.5KB\n",
      "  Fold 5... GPU monitoring initialized: 1 device(s) found\n",
      "CPU energy monitoring (RAPL) initialized: 1 domain(s) found\n",
      "  - package-0 (intel-rapl:0)\n",
      "Resource monitoring started\n",
      "Resource monitoring stopped\n",
      "[CPU] Acc: 52.33%, Energy: 0.006310Wh, Size: 157.5KB\n",
      "  Fold 6... GPU monitoring initialized: 1 device(s) found\n",
      "CPU energy monitoring (RAPL) initialized: 1 domain(s) found\n",
      "  - package-0 (intel-rapl:0)\n",
      "Resource monitoring started\n",
      "Resource monitoring stopped\n",
      "[CPU] Acc: 58.46%, Energy: 0.006206Wh, Size: 157.5KB\n",
      "  Fold 7... GPU monitoring initialized: 1 device(s) found\n",
      "CPU energy monitoring (RAPL) initialized: 1 domain(s) found\n",
      "  - package-0 (intel-rapl:0)\n",
      "Resource monitoring started\n",
      "Resource monitoring stopped\n",
      "[CPU] Acc: 47.19%, Energy: 0.006193Wh, Size: 157.5KB\n",
      "  Fold 8... GPU monitoring initialized: 1 device(s) found\n",
      "CPU energy monitoring (RAPL) initialized: 1 domain(s) found\n",
      "  - package-0 (intel-rapl:0)\n",
      "Resource monitoring started\n",
      "Resource monitoring stopped\n",
      "[CPU] Acc: 61.72%, Energy: 0.006451Wh, Size: 157.5KB\n",
      "  Fold 9... GPU monitoring initialized: 1 device(s) found\n",
      "CPU energy monitoring (RAPL) initialized: 1 domain(s) found\n",
      "  - package-0 (intel-rapl:0)\n",
      "Resource monitoring started\n",
      "Resource monitoring stopped\n",
      "[CPU] Acc: 60.38%, Energy: 0.006237Wh, Size: 157.5KB\n",
      "  Fold 10... GPU monitoring initialized: 1 device(s) found\n",
      "CPU energy monitoring (RAPL) initialized: 1 domain(s) found\n",
      "  - package-0 (intel-rapl:0)\n",
      "Resource monitoring started\n",
      "Resource monitoring stopped\n",
      "[CPU] Acc: 58.38%, Energy: 0.006269Wh, Size: 157.5KB\n",
      "\n",
      "model_3:\n",
      "  Fold 1... GPU monitoring initialized: 1 device(s) found\n",
      "CPU energy monitoring (RAPL) initialized: 1 domain(s) found\n",
      "  - package-0 (intel-rapl:0)\n",
      "Resource monitoring started\n",
      "Resource monitoring stopped\n",
      "[CPU] Acc: 81.61%, Energy: 0.008834Wh, Size: 160.1KB\n",
      "  Fold 2... GPU monitoring initialized: 1 device(s) found\n",
      "CPU energy monitoring (RAPL) initialized: 1 domain(s) found\n",
      "  - package-0 (intel-rapl:0)\n",
      "Resource monitoring started\n",
      "Resource monitoring stopped\n",
      "[CPU] Acc: 81.35%, Energy: 0.008771Wh, Size: 160.1KB\n",
      "  Fold 3... GPU monitoring initialized: 1 device(s) found\n",
      "CPU energy monitoring (RAPL) initialized: 1 domain(s) found\n",
      "  - package-0 (intel-rapl:0)\n",
      "Resource monitoring started\n",
      "Resource monitoring stopped\n",
      "[CPU] Acc: 81.80%, Energy: 0.008752Wh, Size: 160.1KB\n",
      "  Fold 4... GPU monitoring initialized: 1 device(s) found\n",
      "CPU energy monitoring (RAPL) initialized: 1 domain(s) found\n",
      "  - package-0 (intel-rapl:0)\n",
      "Resource monitoring started\n",
      "Resource monitoring stopped\n",
      "[CPU] Acc: 80.30%, Energy: 0.010805Wh, Size: 160.1KB\n",
      "  Fold 5... GPU monitoring initialized: 1 device(s) found\n",
      "CPU energy monitoring (RAPL) initialized: 1 domain(s) found\n",
      "  - package-0 (intel-rapl:0)\n",
      "Resource monitoring started\n",
      "Resource monitoring stopped\n",
      "[CPU] Acc: 81.08%, Energy: 0.009230Wh, Size: 160.1KB\n",
      "  Fold 6... GPU monitoring initialized: 1 device(s) found\n",
      "CPU energy monitoring (RAPL) initialized: 1 domain(s) found\n",
      "  - package-0 (intel-rapl:0)\n",
      "Resource monitoring started\n",
      "Resource monitoring stopped\n",
      "[CPU] Acc: 82.04%, Energy: 0.008724Wh, Size: 160.1KB\n",
      "  Fold 7... GPU monitoring initialized: 1 device(s) found\n",
      "CPU energy monitoring (RAPL) initialized: 1 domain(s) found\n",
      "  - package-0 (intel-rapl:0)\n",
      "Resource monitoring started\n",
      "Resource monitoring stopped\n",
      "[CPU] Acc: 81.47%, Energy: 0.008610Wh, Size: 160.1KB\n",
      "  Fold 8... GPU monitoring initialized: 1 device(s) found\n",
      "CPU energy monitoring (RAPL) initialized: 1 domain(s) found\n",
      "  - package-0 (intel-rapl:0)\n",
      "Resource monitoring started\n",
      "Resource monitoring stopped\n",
      "[CPU] Acc: 79.71%, Energy: 0.008622Wh, Size: 160.1KB\n",
      "  Fold 9... GPU monitoring initialized: 1 device(s) found\n",
      "CPU energy monitoring (RAPL) initialized: 1 domain(s) found\n",
      "  - package-0 (intel-rapl:0)\n",
      "Resource monitoring started\n",
      "Resource monitoring stopped\n",
      "[CPU] Acc: 81.75%, Energy: 0.008595Wh, Size: 160.1KB\n",
      "  Fold 10... GPU monitoring initialized: 1 device(s) found\n",
      "CPU energy monitoring (RAPL) initialized: 1 domain(s) found\n",
      "  - package-0 (intel-rapl:0)\n",
      "Resource monitoring started\n",
      "Resource monitoring stopped\n",
      "[CPU] Acc: 82.12%, Energy: 0.008672Wh, Size: 160.1KB\n",
      "\n",
      "model_4:\n",
      "  Fold 1... GPU monitoring initialized: 1 device(s) found\n",
      "CPU energy monitoring (RAPL) initialized: 1 domain(s) found\n",
      "  - package-0 (intel-rapl:0)\n",
      "Resource monitoring started\n",
      "Resource monitoring stopped\n",
      "[CPU] Acc: 63.77%, Energy: 0.014938Wh, Size: 610.5KB\n",
      "  Fold 2... GPU monitoring initialized: 1 device(s) found\n",
      "CPU energy monitoring (RAPL) initialized: 1 domain(s) found\n",
      "  - package-0 (intel-rapl:0)\n",
      "Resource monitoring started\n",
      "Resource monitoring stopped\n",
      "[CPU] Acc: 63.10%, Energy: 0.015869Wh, Size: 610.5KB\n",
      "  Fold 3... GPU monitoring initialized: 1 device(s) found\n",
      "CPU energy monitoring (RAPL) initialized: 1 domain(s) found\n",
      "  - package-0 (intel-rapl:0)\n",
      "Resource monitoring started\n",
      "Resource monitoring stopped\n",
      "[CPU] Acc: 64.23%, Energy: 0.015565Wh, Size: 610.5KB\n",
      "  Fold 4... GPU monitoring initialized: 1 device(s) found\n",
      "CPU energy monitoring (RAPL) initialized: 1 domain(s) found\n",
      "  - package-0 (intel-rapl:0)\n",
      "Resource monitoring started\n",
      "Resource monitoring stopped\n",
      "[CPU] Acc: 67.63%, Energy: 0.015962Wh, Size: 610.5KB\n",
      "  Fold 5... GPU monitoring initialized: 1 device(s) found\n",
      "CPU energy monitoring (RAPL) initialized: 1 domain(s) found\n",
      "  - package-0 (intel-rapl:0)\n",
      "Resource monitoring started\n",
      "Resource monitoring stopped\n",
      "[CPU] Acc: 65.04%, Energy: 0.015653Wh, Size: 610.5KB\n",
      "  Fold 6... GPU monitoring initialized: 1 device(s) found\n",
      "CPU energy monitoring (RAPL) initialized: 1 domain(s) found\n",
      "  - package-0 (intel-rapl:0)\n",
      "Resource monitoring started\n",
      "Resource monitoring stopped\n",
      "[CPU] Acc: 65.80%, Energy: 0.015661Wh, Size: 610.5KB\n",
      "  Fold 7... GPU monitoring initialized: 1 device(s) found\n",
      "CPU energy monitoring (RAPL) initialized: 1 domain(s) found\n",
      "  - package-0 (intel-rapl:0)\n",
      "Resource monitoring started\n",
      "Resource monitoring stopped\n",
      "[CPU] Acc: 63.63%, Energy: 0.015493Wh, Size: 610.5KB\n",
      "  Fold 8... GPU monitoring initialized: 1 device(s) found\n",
      "CPU energy monitoring (RAPL) initialized: 1 domain(s) found\n",
      "  - package-0 (intel-rapl:0)\n",
      "Resource monitoring started\n",
      "Resource monitoring stopped\n",
      "[CPU] Acc: 64.33%, Energy: 0.015742Wh, Size: 610.5KB\n",
      "  Fold 9... GPU monitoring initialized: 1 device(s) found\n",
      "CPU energy monitoring (RAPL) initialized: 1 domain(s) found\n",
      "  - package-0 (intel-rapl:0)\n",
      "Resource monitoring started\n",
      "Resource monitoring stopped\n",
      "[CPU] Acc: 66.09%, Energy: 0.016029Wh, Size: 610.5KB\n",
      "  Fold 10... GPU monitoring initialized: 1 device(s) found\n",
      "CPU energy monitoring (RAPL) initialized: 1 domain(s) found\n",
      "  - package-0 (intel-rapl:0)\n",
      "Resource monitoring started\n",
      "Resource monitoring stopped\n",
      "[CPU] Acc: 59.89%, Energy: 0.015617Wh, Size: 610.5KB\n",
      "\n",
      "model_5:\n",
      "  Fold 1... GPU monitoring initialized: 1 device(s) found\n",
      "CPU energy monitoring (RAPL) initialized: 1 domain(s) found\n",
      "  - package-0 (intel-rapl:0)\n",
      "Resource monitoring started\n",
      "Resource monitoring stopped\n",
      "[CPU] Acc: 79.44%, Energy: 0.008758Wh, Size: 85.6KB\n",
      "  Fold 2... GPU monitoring initialized: 1 device(s) found\n",
      "CPU energy monitoring (RAPL) initialized: 1 domain(s) found\n",
      "  - package-0 (intel-rapl:0)\n",
      "Resource monitoring started\n",
      "Resource monitoring stopped\n",
      "[CPU] Acc: 77.54%, Energy: 0.007951Wh, Size: 85.6KB\n",
      "  Fold 3... GPU monitoring initialized: 1 device(s) found\n",
      "CPU energy monitoring (RAPL) initialized: 1 domain(s) found\n",
      "  - package-0 (intel-rapl:0)\n",
      "Resource monitoring started\n",
      "Resource monitoring stopped\n",
      "[CPU] Acc: 78.88%, Energy: 0.007827Wh, Size: 85.6KB\n",
      "  Fold 4... GPU monitoring initialized: 1 device(s) found\n",
      "CPU energy monitoring (RAPL) initialized: 1 domain(s) found\n",
      "  - package-0 (intel-rapl:0)\n",
      "Resource monitoring started\n",
      "Resource monitoring stopped\n",
      "[CPU] Acc: 78.77%, Energy: 0.007809Wh, Size: 85.6KB\n",
      "  Fold 5... GPU monitoring initialized: 1 device(s) found\n",
      "CPU energy monitoring (RAPL) initialized: 1 domain(s) found\n",
      "  - package-0 (intel-rapl:0)\n",
      "Resource monitoring started\n",
      "Resource monitoring stopped\n",
      "[CPU] Acc: 79.12%, Energy: 0.007755Wh, Size: 85.6KB\n",
      "  Fold 6... GPU monitoring initialized: 1 device(s) found\n",
      "CPU energy monitoring (RAPL) initialized: 1 domain(s) found\n",
      "  - package-0 (intel-rapl:0)\n",
      "Resource monitoring started\n",
      "Resource monitoring stopped\n",
      "[CPU] Acc: 78.55%, Energy: 0.007745Wh, Size: 85.6KB\n",
      "  Fold 7... GPU monitoring initialized: 1 device(s) found\n",
      "CPU energy monitoring (RAPL) initialized: 1 domain(s) found\n",
      "  - package-0 (intel-rapl:0)\n",
      "Resource monitoring started\n",
      "Resource monitoring stopped\n",
      "[CPU] Acc: 78.62%, Energy: 0.007944Wh, Size: 85.6KB\n",
      "  Fold 8... GPU monitoring initialized: 1 device(s) found\n",
      "CPU energy monitoring (RAPL) initialized: 1 domain(s) found\n",
      "  - package-0 (intel-rapl:0)\n",
      "Resource monitoring started\n",
      "Resource monitoring stopped\n",
      "[CPU] Acc: 76.98%, Energy: 0.007867Wh, Size: 85.6KB\n",
      "  Fold 9... GPU monitoring initialized: 1 device(s) found\n",
      "CPU energy monitoring (RAPL) initialized: 1 domain(s) found\n",
      "  - package-0 (intel-rapl:0)\n",
      "Resource monitoring started\n",
      "Resource monitoring stopped\n",
      "[CPU] Acc: 78.69%, Energy: 0.007827Wh, Size: 85.6KB\n",
      "  Fold 10... GPU monitoring initialized: 1 device(s) found\n",
      "CPU energy monitoring (RAPL) initialized: 1 domain(s) found\n",
      "  - package-0 (intel-rapl:0)\n",
      "Resource monitoring started\n",
      "Resource monitoring stopped\n",
      "[CPU] Acc: 79.00%, Energy: 0.007878Wh, Size: 85.6KB\n",
      "\n",
      "model_6:\n",
      "  Fold 1... GPU monitoring initialized: 1 device(s) found\n",
      "CPU energy monitoring (RAPL) initialized: 1 domain(s) found\n",
      "  - package-0 (intel-rapl:0)\n",
      "Resource monitoring started\n",
      "Resource monitoring stopped\n",
      "[CPU] Acc: 80.96%, Energy: 0.008622Wh, Size: 160.1KB\n",
      "  Fold 2... GPU monitoring initialized: 1 device(s) found\n",
      "CPU energy monitoring (RAPL) initialized: 1 domain(s) found\n",
      "  - package-0 (intel-rapl:0)\n",
      "Resource monitoring started\n",
      "Resource monitoring stopped\n",
      "[CPU] Acc: 81.09%, Energy: 0.008638Wh, Size: 160.1KB\n",
      "  Fold 3... GPU monitoring initialized: 1 device(s) found\n",
      "CPU energy monitoring (RAPL) initialized: 1 domain(s) found\n",
      "  - package-0 (intel-rapl:0)\n",
      "Resource monitoring started\n",
      "Resource monitoring stopped\n",
      "[CPU] Acc: 81.58%, Energy: 0.008640Wh, Size: 160.1KB\n",
      "  Fold 4... GPU monitoring initialized: 1 device(s) found\n",
      "CPU energy monitoring (RAPL) initialized: 1 domain(s) found\n",
      "  - package-0 (intel-rapl:0)\n",
      "Resource monitoring started\n",
      "Resource monitoring stopped\n",
      "[CPU] Acc: 80.81%, Energy: 0.008647Wh, Size: 160.1KB\n",
      "  Fold 5... GPU monitoring initialized: 1 device(s) found\n",
      "CPU energy monitoring (RAPL) initialized: 1 domain(s) found\n",
      "  - package-0 (intel-rapl:0)\n",
      "Resource monitoring started\n",
      "Resource monitoring stopped\n",
      "[CPU] Acc: 82.06%, Energy: 0.008552Wh, Size: 160.1KB\n",
      "  Fold 6... GPU monitoring initialized: 1 device(s) found\n",
      "CPU energy monitoring (RAPL) initialized: 1 domain(s) found\n",
      "  - package-0 (intel-rapl:0)\n",
      "Resource monitoring started\n",
      "Resource monitoring stopped\n",
      "[CPU] Acc: 81.66%, Energy: 0.008513Wh, Size: 160.1KB\n",
      "  Fold 7... GPU monitoring initialized: 1 device(s) found\n",
      "CPU energy monitoring (RAPL) initialized: 1 domain(s) found\n",
      "  - package-0 (intel-rapl:0)\n",
      "Resource monitoring started\n",
      "Resource monitoring stopped\n",
      "[CPU] Acc: 80.93%, Energy: 0.008571Wh, Size: 160.1KB\n",
      "  Fold 8... GPU monitoring initialized: 1 device(s) found\n",
      "CPU energy monitoring (RAPL) initialized: 1 domain(s) found\n",
      "  - package-0 (intel-rapl:0)\n",
      "Resource monitoring started\n",
      "Resource monitoring stopped\n",
      "[CPU] Acc: 79.21%, Energy: 0.008543Wh, Size: 160.1KB\n",
      "  Fold 9... GPU monitoring initialized: 1 device(s) found\n",
      "CPU energy monitoring (RAPL) initialized: 1 domain(s) found\n",
      "  - package-0 (intel-rapl:0)\n",
      "Resource monitoring started\n",
      "Resource monitoring stopped\n",
      "[CPU] Acc: 81.32%, Energy: 0.008649Wh, Size: 160.1KB\n",
      "  Fold 10... GPU monitoring initialized: 1 device(s) found\n",
      "CPU energy monitoring (RAPL) initialized: 1 domain(s) found\n",
      "  - package-0 (intel-rapl:0)\n",
      "Resource monitoring started\n",
      "Resource monitoring stopped\n",
      "[CPU] Acc: 81.74%, Energy: 0.008610Wh, Size: 160.1KB\n",
      "\n",
      "model_7:\n",
      "  Fold 1... GPU monitoring initialized: 1 device(s) found\n",
      "CPU energy monitoring (RAPL) initialized: 1 domain(s) found\n",
      "  - package-0 (intel-rapl:0)\n",
      "Resource monitoring started\n",
      "Resource monitoring stopped\n",
      "[CPU] Acc: 90.33%, Energy: 0.031133Wh, Size: 683.1KB\n",
      "  Fold 2... GPU monitoring initialized: 1 device(s) found\n",
      "CPU energy monitoring (RAPL) initialized: 1 domain(s) found\n",
      "  - package-0 (intel-rapl:0)\n",
      "Resource monitoring started\n",
      "Resource monitoring stopped\n",
      "[CPU] Acc: 89.73%, Energy: 0.032870Wh, Size: 683.1KB\n",
      "  Fold 3... GPU monitoring initialized: 1 device(s) found\n",
      "CPU energy monitoring (RAPL) initialized: 1 domain(s) found\n",
      "  - package-0 (intel-rapl:0)\n",
      "Resource monitoring started\n",
      "Resource monitoring stopped\n",
      "[CPU] Acc: 90.38%, Energy: 0.032200Wh, Size: 683.1KB\n",
      "  Fold 4... GPU monitoring initialized: 1 device(s) found\n",
      "CPU energy monitoring (RAPL) initialized: 1 domain(s) found\n",
      "  - package-0 (intel-rapl:0)\n",
      "Resource monitoring started\n",
      "Resource monitoring stopped\n",
      "[CPU] Acc: 89.35%, Energy: 0.033531Wh, Size: 683.1KB\n",
      "  Fold 5... GPU monitoring initialized: 1 device(s) found\n",
      "CPU energy monitoring (RAPL) initialized: 1 domain(s) found\n",
      "  - package-0 (intel-rapl:0)\n",
      "Resource monitoring started\n",
      "Resource monitoring stopped\n",
      "[CPU] Acc: 89.82%, Energy: 0.031518Wh, Size: 683.1KB\n",
      "  Fold 6... GPU monitoring initialized: 1 device(s) found\n",
      "CPU energy monitoring (RAPL) initialized: 1 domain(s) found\n",
      "  - package-0 (intel-rapl:0)\n",
      "Resource monitoring started\n",
      "Resource monitoring stopped\n",
      "[CPU] Acc: 90.14%, Energy: 0.031421Wh, Size: 683.1KB\n",
      "  Fold 7... GPU monitoring initialized: 1 device(s) found\n",
      "CPU energy monitoring (RAPL) initialized: 1 domain(s) found\n",
      "  - package-0 (intel-rapl:0)\n",
      "Resource monitoring started\n",
      "Resource monitoring stopped\n",
      "[CPU] Acc: 89.55%, Energy: 0.031455Wh, Size: 683.1KB\n",
      "  Fold 8... GPU monitoring initialized: 1 device(s) found\n",
      "CPU energy monitoring (RAPL) initialized: 1 domain(s) found\n",
      "  - package-0 (intel-rapl:0)\n",
      "Resource monitoring started\n",
      "Resource monitoring stopped\n",
      "[CPU] Acc: 89.09%, Energy: 0.033003Wh, Size: 683.1KB\n",
      "  Fold 9... GPU monitoring initialized: 1 device(s) found\n",
      "CPU energy monitoring (RAPL) initialized: 1 domain(s) found\n",
      "  - package-0 (intel-rapl:0)\n",
      "Resource monitoring started\n",
      "Resource monitoring stopped\n",
      "[CPU] Acc: 90.01%, Energy: 0.031634Wh, Size: 683.1KB\n",
      "  Fold 10... GPU monitoring initialized: 1 device(s) found\n",
      "CPU energy monitoring (RAPL) initialized: 1 domain(s) found\n",
      "  - package-0 (intel-rapl:0)\n",
      "Resource monitoring started\n",
      "Resource monitoring stopped\n",
      "[CPU] Acc: 89.47%, Energy: 0.031697Wh, Size: 683.1KB\n",
      "\n",
      "model_8:\n",
      "  Fold 1... GPU monitoring initialized: 1 device(s) found\n",
      "CPU energy monitoring (RAPL) initialized: 1 domain(s) found\n",
      "  - package-0 (intel-rapl:0)\n",
      "Resource monitoring started\n",
      "Resource monitoring stopped\n",
      "[CPU] Acc: 84.74%, Energy: 0.057126Wh, Size: 1245.0KB\n",
      "  Fold 2... GPU monitoring initialized: 1 device(s) found\n",
      "CPU energy monitoring (RAPL) initialized: 1 domain(s) found\n",
      "  - package-0 (intel-rapl:0)\n",
      "Resource monitoring started\n",
      "Resource monitoring stopped\n",
      "[CPU] Acc: 85.30%, Energy: 0.057205Wh, Size: 1245.0KB\n",
      "  Fold 3... GPU monitoring initialized: 1 device(s) found\n",
      "CPU energy monitoring (RAPL) initialized: 1 domain(s) found\n",
      "  - package-0 (intel-rapl:0)\n",
      "Resource monitoring started\n",
      "Resource monitoring stopped\n",
      "[CPU] Acc: 85.98%, Energy: 0.056452Wh, Size: 1245.0KB\n",
      "  Fold 4... GPU monitoring initialized: 1 device(s) found\n",
      "CPU energy monitoring (RAPL) initialized: 1 domain(s) found\n",
      "  - package-0 (intel-rapl:0)\n",
      "Resource monitoring started\n",
      "Resource monitoring stopped\n",
      "[CPU] Acc: 85.52%, Energy: 0.057672Wh, Size: 1245.0KB\n",
      "  Fold 5... GPU monitoring initialized: 1 device(s) found\n",
      "CPU energy monitoring (RAPL) initialized: 1 domain(s) found\n",
      "  - package-0 (intel-rapl:0)\n",
      "Resource monitoring started\n",
      "Resource monitoring stopped\n",
      "[CPU] Acc: 85.61%, Energy: 0.056494Wh, Size: 1245.0KB\n",
      "  Fold 6... GPU monitoring initialized: 1 device(s) found\n",
      "CPU energy monitoring (RAPL) initialized: 1 domain(s) found\n",
      "  - package-0 (intel-rapl:0)\n",
      "Resource monitoring started\n",
      "Resource monitoring stopped\n",
      "[CPU] Acc: 85.92%, Energy: 0.056015Wh, Size: 1245.0KB\n",
      "  Fold 7... GPU monitoring initialized: 1 device(s) found\n",
      "CPU energy monitoring (RAPL) initialized: 1 domain(s) found\n",
      "  - package-0 (intel-rapl:0)\n",
      "Resource monitoring started\n",
      "Resource monitoring stopped\n",
      "[CPU] Acc: 85.42%, Energy: 0.055768Wh, Size: 1245.0KB\n",
      "  Fold 8... GPU monitoring initialized: 1 device(s) found\n",
      "CPU energy monitoring (RAPL) initialized: 1 domain(s) found\n",
      "  - package-0 (intel-rapl:0)\n",
      "Resource monitoring started\n",
      "Resource monitoring stopped\n",
      "[CPU] Acc: 85.55%, Energy: 0.057442Wh, Size: 1245.0KB\n",
      "  Fold 9... GPU monitoring initialized: 1 device(s) found\n",
      "CPU energy monitoring (RAPL) initialized: 1 domain(s) found\n",
      "  - package-0 (intel-rapl:0)\n",
      "Resource monitoring started\n",
      "Resource monitoring stopped\n",
      "[CPU] Acc: 85.55%, Energy: 0.057381Wh, Size: 1245.0KB\n",
      "  Fold 10... GPU monitoring initialized: 1 device(s) found\n",
      "CPU energy monitoring (RAPL) initialized: 1 domain(s) found\n",
      "  - package-0 (intel-rapl:0)\n",
      "Resource monitoring started\n",
      "Resource monitoring stopped\n",
      "[CPU] Acc: 85.36%, Energy: 0.058131Wh, Size: 1245.0KB\n",
      "\n",
      "model_9:\n",
      "  Fold 1... GPU monitoring initialized: 1 device(s) found\n",
      "CPU energy monitoring (RAPL) initialized: 1 domain(s) found\n",
      "  - package-0 (intel-rapl:0)\n",
      "Resource monitoring started\n",
      "Resource monitoring stopped\n",
      "[CPU] Acc: 90.03%, Energy: 0.144648Wh, Size: 5006.5KB\n",
      "  Fold 2... GPU monitoring initialized: 1 device(s) found\n",
      "CPU energy monitoring (RAPL) initialized: 1 domain(s) found\n",
      "  - package-0 (intel-rapl:0)\n",
      "Resource monitoring started\n",
      "Resource monitoring stopped\n",
      "[CPU] Acc: 89.39%, Energy: 0.144576Wh, Size: 5006.5KB\n",
      "  Fold 3... GPU monitoring initialized: 1 device(s) found\n",
      "CPU energy monitoring (RAPL) initialized: 1 domain(s) found\n",
      "  - package-0 (intel-rapl:0)\n",
      "Resource monitoring started\n",
      "Resource monitoring stopped\n",
      "[CPU] Acc: 89.56%, Energy: 0.142332Wh, Size: 5006.5KB\n",
      "  Fold 4... GPU monitoring initialized: 1 device(s) found\n",
      "CPU energy monitoring (RAPL) initialized: 1 domain(s) found\n",
      "  - package-0 (intel-rapl:0)\n",
      "Resource monitoring started\n",
      "Resource monitoring stopped\n",
      "[CPU] Acc: 90.36%, Energy: 0.148889Wh, Size: 5006.5KB\n",
      "  Fold 5... GPU monitoring initialized: 1 device(s) found\n",
      "CPU energy monitoring (RAPL) initialized: 1 domain(s) found\n",
      "  - package-0 (intel-rapl:0)\n",
      "Resource monitoring started\n",
      "Resource monitoring stopped\n",
      "[CPU] Acc: 90.82%, Energy: 0.143919Wh, Size: 5006.5KB\n",
      "  Fold 6... GPU monitoring initialized: 1 device(s) found\n",
      "CPU energy monitoring (RAPL) initialized: 1 domain(s) found\n",
      "  - package-0 (intel-rapl:0)\n",
      "Resource monitoring started\n",
      "Resource monitoring stopped\n",
      "[CPU] Acc: 89.32%, Energy: 0.141280Wh, Size: 5006.5KB\n",
      "  Fold 7... GPU monitoring initialized: 1 device(s) found\n",
      "CPU energy monitoring (RAPL) initialized: 1 domain(s) found\n",
      "  - package-0 (intel-rapl:0)\n",
      "Resource monitoring started\n",
      "Resource monitoring stopped\n",
      "[CPU] Acc: 89.37%, Energy: 0.140071Wh, Size: 5006.5KB\n",
      "  Fold 8... GPU monitoring initialized: 1 device(s) found\n",
      "CPU energy monitoring (RAPL) initialized: 1 domain(s) found\n",
      "  - package-0 (intel-rapl:0)\n",
      "Resource monitoring started\n",
      "Resource monitoring stopped\n",
      "[CPU] Acc: 89.45%, Energy: 0.144083Wh, Size: 5006.5KB\n",
      "  Fold 9... GPU monitoring initialized: 1 device(s) found\n",
      "CPU energy monitoring (RAPL) initialized: 1 domain(s) found\n",
      "  - package-0 (intel-rapl:0)\n",
      "Resource monitoring started\n",
      "Resource monitoring stopped\n",
      "[CPU] Acc: 88.72%, Energy: 0.147362Wh, Size: 5006.5KB\n",
      "  Fold 10... GPU monitoring initialized: 1 device(s) found\n",
      "CPU energy monitoring (RAPL) initialized: 1 domain(s) found\n",
      "  - package-0 (intel-rapl:0)\n",
      "Resource monitoring started\n",
      "Resource monitoring stopped\n",
      "[CPU] Acc: 90.73%, Energy: 0.142331Wh, Size: 5006.5KB\n",
      "\n",
      "model_10:\n",
      "  Fold 1... GPU monitoring initialized: 1 device(s) found\n",
      "CPU energy monitoring (RAPL) initialized: 1 domain(s) found\n",
      "  - package-0 (intel-rapl:0)\n",
      "Resource monitoring started\n",
      "Resource monitoring stopped\n",
      "[CPU] Acc: 89.10%, Energy: 0.553071Wh, Size: 19943.3KB\n",
      "  Fold 2... GPU monitoring initialized: 1 device(s) found\n",
      "CPU energy monitoring (RAPL) initialized: 1 domain(s) found\n",
      "  - package-0 (intel-rapl:0)\n",
      "Resource monitoring started\n",
      "Resource monitoring stopped\n",
      "[CPU] Acc: 88.64%, Energy: 0.550983Wh, Size: 19943.3KB\n",
      "  Fold 3... GPU monitoring initialized: 1 device(s) found\n",
      "CPU energy monitoring (RAPL) initialized: 1 domain(s) found\n",
      "  - package-0 (intel-rapl:0)\n",
      "Resource monitoring started\n",
      "Resource monitoring stopped\n",
      "[CPU] Acc: 89.86%, Energy: 0.540026Wh, Size: 19943.3KB\n",
      "  Fold 4... GPU monitoring initialized: 1 device(s) found\n",
      "CPU energy monitoring (RAPL) initialized: 1 domain(s) found\n",
      "  - package-0 (intel-rapl:0)\n",
      "Resource monitoring started\n",
      "Resource monitoring stopped\n",
      "[CPU] Acc: 88.23%, Energy: 0.552803Wh, Size: 19943.3KB\n",
      "  Fold 5... GPU monitoring initialized: 1 device(s) found\n",
      "CPU energy monitoring (RAPL) initialized: 1 domain(s) found\n",
      "  - package-0 (intel-rapl:0)\n",
      "Resource monitoring started\n",
      "Resource monitoring stopped\n",
      "[CPU] Acc: 89.55%, Energy: 0.545623Wh, Size: 19943.3KB\n",
      "  Fold 6... GPU monitoring initialized: 1 device(s) found\n",
      "CPU energy monitoring (RAPL) initialized: 1 domain(s) found\n",
      "  - package-0 (intel-rapl:0)\n",
      "Resource monitoring started\n",
      "Resource monitoring stopped\n",
      "[CPU] Acc: 89.82%, Energy: 0.545089Wh, Size: 19943.3KB\n",
      "  Fold 7... GPU monitoring initialized: 1 device(s) found\n",
      "CPU energy monitoring (RAPL) initialized: 1 domain(s) found\n",
      "  - package-0 (intel-rapl:0)\n",
      "Resource monitoring started\n",
      "Resource monitoring stopped\n",
      "[CPU] Acc: 87.97%, Energy: 0.535664Wh, Size: 19943.3KB\n",
      "  Fold 8... GPU monitoring initialized: 1 device(s) found\n",
      "CPU energy monitoring (RAPL) initialized: 1 domain(s) found\n",
      "  - package-0 (intel-rapl:0)\n",
      "Resource monitoring started\n",
      "Resource monitoring stopped\n",
      "[CPU] Acc: 89.03%, Energy: 0.547107Wh, Size: 19943.3KB\n",
      "  Fold 9... GPU monitoring initialized: 1 device(s) found\n",
      "CPU energy monitoring (RAPL) initialized: 1 domain(s) found\n",
      "  - package-0 (intel-rapl:0)\n",
      "Resource monitoring started\n",
      "Resource monitoring stopped\n",
      "[CPU] Acc: 88.91%, Energy: 0.547718Wh, Size: 19943.3KB\n",
      "  Fold 10... GPU monitoring initialized: 1 device(s) found\n",
      "CPU energy monitoring (RAPL) initialized: 1 domain(s) found\n",
      "  - package-0 (intel-rapl:0)\n",
      "Resource monitoring started\n",
      "Resource monitoring stopped\n",
      "[CPU] Acc: 89.17%, Energy: 0.544397Wh, Size: 19943.3KB\n",
      "\n",
      "================================================================================\n",
      "Results saved to: converted_metrics/tflite_finetuned_int8_results.csv\n",
      "================================================================================\n",
      "\n",
      "SUMMARY:\n",
      "  Average Accuracy:  75.04%\n",
      "  Average F1 Score:  0.7472\n",
      "  Average Energy:    0.083147Wh\n",
      "  Average Duration:  7.72s\n",
      "  Average Size:      2809.5KB\n",
      "  Device Distribution:\n",
      "device\n",
      "CPU    100\n"
     ]
    }
   ],
   "source": [
    "df_finetuned_int8 = evaluate_all_tflite_models(\n",
    "    tflite_base_dir='tflite_models',\n",
    "    folds_dir='new_Data_particions',\n",
    "    output_csv='converted_metrics/tflite_finetuned_int8_results.csv',\n",
    "    model_type='finetuned',\n",
    "    quantization='int8',\n",
    "    use_gpu=False  # INT8 only works on CPU\n",
    ")"
   ]
  },
  {
   "cell_type": "code",
   "execution_count": 8,
   "id": "5e192264-1ff5-4c48-a1d8-bb4e90207735",
   "metadata": {},
   "outputs": [
    {
     "name": "stdout",
     "output_type": "stream",
     "text": [
      "\n",
      "========================================================================================================================\n",
      "TFLITE MODELS COMPARISON SUMMARY\n",
      "========================================================================================================================\n",
      "         Configuration           Device  Avg Accuracy (%)  Avg F1 Score  Avg CPU Energy (Wh)  Avg GPU Energy (Wh)  Avg Total Energy (Wh)  Avg Duration (s)  Avg Size (KB)\n",
      "   Normal No-Quant CPU              CPU         74.651077      0.743018             0.090651             0.028241               0.118892          6.421659   11198.682031\n",
      "   Normal No-Quant GPU CPU (GPU failed)         74.651077      0.743018             0.086521             0.029967               0.116489          6.304610   11198.682031\n",
      "       Normal INT8 CPU              CPU         73.904734      0.736086             0.085156             0.052116               0.137272          7.999090    2809.511719\n",
      "Finetuned No-Quant CPU              CPU         75.718425      0.753283             0.090781             0.044835               0.135617          6.672282   11198.682031\n",
      "Finetuned No-Quant GPU CPU (GPU failed)         75.718425      0.753283             0.090018             0.038451               0.128470          6.563928   11198.682031\n",
      "    Finetuned INT8 CPU              CPU         75.042373      0.747226             0.083147             0.033755               0.116902          7.723400    2809.511719\n",
      "========================================================================================================================\n",
      "\n",
      "Comparison saved to: results/tflite_comparison_summary.csv\n"
     ]
    }
   ],
   "source": [
    "results_summary = {\n",
    "    'Normal No-Quant CPU': df_normal_no_quant_cpu,\n",
    "    'Normal No-Quant GPU': df_normal_no_quant_gpu,\n",
    "    'Normal INT8 CPU': df_normal_int8,\n",
    "    'Finetuned No-Quant CPU': df_finetuned_no_quant_cpu,\n",
    "    'Finetuned No-Quant GPU': df_finetuned_no_quant_gpu,\n",
    "    'Finetuned INT8 CPU': df_finetuned_int8\n",
    "}\n",
    "\n",
    "comparison_data = []\n",
    "for name, df in results_summary.items():\n",
    "    if len(df) > 0:\n",
    "        # Calculate total energy (CPU + GPU)\n",
    "        cpu_energy = df['energy_wh'].mean() if 'energy_wh' in df.columns else 0\n",
    "        gpu_energy = df.get('gpu_energy_wh', pd.Series([0])).mean() if 'gpu_energy_wh' in df.columns else 0\n",
    "        total_energy = cpu_energy + gpu_energy\n",
    "        \n",
    "        comparison_data.append({\n",
    "            'Configuration': name,\n",
    "            'Device': df['device'].mode()[0] if 'device' in df.columns else 'Unknown',\n",
    "            'Avg Accuracy (%)': df['accuracy'].mean(),\n",
    "            'Avg F1 Score': df['f1_score'].mean(),\n",
    "            'Avg CPU Energy (Wh)': cpu_energy,\n",
    "            'Avg GPU Energy (Wh)': gpu_energy,\n",
    "            'Avg Total Energy (Wh)': total_energy,\n",
    "            'Avg Duration (s)': df['duration_s'].mean(),\n",
    "            'Avg Size (KB)': df['model_size_kb'].mean()\n",
    "        })\n",
    "\n",
    "comparison_df = pd.DataFrame(comparison_data)\n",
    "print(\"\\n\" + \"=\"*120)\n",
    "print(\"TFLITE MODELS COMPARISON SUMMARY\")\n",
    "print(\"=\"*120)\n",
    "print(comparison_df.to_string(index=False))\n",
    "print(\"=\"*120)\n",
    "\n",
    "# Save comparison\n",
    "comparison_df.to_csv('results/tflite_comparison_summary.csv', index=False)\n",
    "print(\"\\nComparison saved to: results/tflite_comparison_summary.csv\")"
   ]
  }
 ],
 "metadata": {
  "kernelspec": {
   "display_name": "Python 3 (ipykernel)",
   "language": "python",
   "name": "python3"
  },
  "language_info": {
   "codemirror_mode": {
    "name": "ipython",
    "version": 3
   },
   "file_extension": ".py",
   "mimetype": "text/x-python",
   "name": "python",
   "nbconvert_exporter": "python",
   "pygments_lexer": "ipython3",
   "version": "3.10.12"
  }
 },
 "nbformat": 4,
 "nbformat_minor": 5
}
